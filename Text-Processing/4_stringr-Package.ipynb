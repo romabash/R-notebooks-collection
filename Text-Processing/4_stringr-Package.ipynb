{
 "cells": [
  {
   "cell_type": "markdown",
   "metadata": {},
   "source": [
    "# The \"stringr\" package\n",
    "- Part of Tidyverse\n",
    "- Uses data first approach\n",
    "- str_ family of functions"
   ]
  },
  {
   "cell_type": "code",
   "execution_count": 1,
   "metadata": {
    "collapsed": true
   },
   "outputs": [],
   "source": [
    "library(stringr)"
   ]
  },
  {
   "cell_type": "markdown",
   "metadata": {},
   "source": [
    "### Using str_extract() function\n",
    "- Returns a sub-string that matches  the provided regex"
   ]
  },
  {
   "cell_type": "code",
   "execution_count": 2,
   "metadata": {},
   "outputs": [
    {
     "data": {
      "text/html": [
       "<ol class=list-inline>\n",
       "\t<li>'Alabama 51609 AL'</li>\n",
       "\t<li>'Alaska 589757 AK'</li>\n",
       "\t<li>'Arizona 113909 AZ'</li>\n",
       "\t<li>'Arkansas 53104 AR'</li>\n",
       "\t<li>'California 158693 CA'</li>\n",
       "\t<li>'Colorado 104247 CO'</li>\n",
       "</ol>\n"
      ],
      "text/latex": [
       "\\begin{enumerate*}\n",
       "\\item 'Alabama 51609 AL'\n",
       "\\item 'Alaska 589757 AK'\n",
       "\\item 'Arizona 113909 AZ'\n",
       "\\item 'Arkansas 53104 AR'\n",
       "\\item 'California 158693 CA'\n",
       "\\item 'Colorado 104247 CO'\n",
       "\\end{enumerate*}\n"
      ],
      "text/markdown": [
       "1. 'Alabama 51609 AL'\n",
       "2. 'Alaska 589757 AK'\n",
       "3. 'Arizona 113909 AZ'\n",
       "4. 'Arkansas 53104 AR'\n",
       "5. 'California 158693 CA'\n",
       "6. 'Colorado 104247 CO'\n",
       "\n",
       "\n"
      ],
      "text/plain": [
       "[1] \"Alabama 51609 AL\"     \"Alaska 589757 AK\"     \"Arizona 113909 AZ\"   \n",
       "[4] \"Arkansas 53104 AR\"    \"California 158693 CA\" \"Colorado 104247 CO\"  "
      ]
     },
     "metadata": {},
     "output_type": "display_data"
    }
   ],
   "source": [
    "state_tbl <- paste(state.name, state.area, state.abb)\n",
    "head(state_tbl)"
   ]
  },
  {
   "cell_type": "code",
   "execution_count": 3,
   "metadata": {},
   "outputs": [
    {
     "data": {
      "text/html": [
       "<ol class=list-inline>\n",
       "\t<li>'51609'</li>\n",
       "\t<li>'589757'</li>\n",
       "\t<li>'113909'</li>\n",
       "\t<li>'53104'</li>\n",
       "\t<li>'158693'</li>\n",
       "\t<li>'104247'</li>\n",
       "\t<li>'5009'</li>\n",
       "\t<li>'2057'</li>\n",
       "\t<li>'58560'</li>\n",
       "\t<li>'58876'</li>\n",
       "\t<li>'6450'</li>\n",
       "\t<li>'83557'</li>\n",
       "\t<li>'56400'</li>\n",
       "\t<li>'36291'</li>\n",
       "\t<li>'56290'</li>\n",
       "\t<li>'82264'</li>\n",
       "\t<li>'40395'</li>\n",
       "\t<li>'48523'</li>\n",
       "\t<li>'33215'</li>\n",
       "\t<li>'10577'</li>\n",
       "\t<li>'8257'</li>\n",
       "\t<li>'58216'</li>\n",
       "\t<li>'84068'</li>\n",
       "\t<li>'47716'</li>\n",
       "\t<li>'69686'</li>\n",
       "\t<li>'147138'</li>\n",
       "\t<li>'77227'</li>\n",
       "\t<li>'110540'</li>\n",
       "\t<li>'9304'</li>\n",
       "\t<li>'7836'</li>\n",
       "\t<li>'121666'</li>\n",
       "\t<li>'49576'</li>\n",
       "\t<li>'52586'</li>\n",
       "\t<li>'70665'</li>\n",
       "\t<li>'41222'</li>\n",
       "\t<li>'69919'</li>\n",
       "\t<li>'96981'</li>\n",
       "\t<li>'45333'</li>\n",
       "\t<li>'1214'</li>\n",
       "\t<li>'31055'</li>\n",
       "\t<li>'77047'</li>\n",
       "\t<li>'42244'</li>\n",
       "\t<li>'267339'</li>\n",
       "\t<li>'84916'</li>\n",
       "\t<li>'9609'</li>\n",
       "\t<li>'40815'</li>\n",
       "\t<li>'68192'</li>\n",
       "\t<li>'24181'</li>\n",
       "\t<li>'56154'</li>\n",
       "\t<li>'97914'</li>\n",
       "</ol>\n"
      ],
      "text/latex": [
       "\\begin{enumerate*}\n",
       "\\item '51609'\n",
       "\\item '589757'\n",
       "\\item '113909'\n",
       "\\item '53104'\n",
       "\\item '158693'\n",
       "\\item '104247'\n",
       "\\item '5009'\n",
       "\\item '2057'\n",
       "\\item '58560'\n",
       "\\item '58876'\n",
       "\\item '6450'\n",
       "\\item '83557'\n",
       "\\item '56400'\n",
       "\\item '36291'\n",
       "\\item '56290'\n",
       "\\item '82264'\n",
       "\\item '40395'\n",
       "\\item '48523'\n",
       "\\item '33215'\n",
       "\\item '10577'\n",
       "\\item '8257'\n",
       "\\item '58216'\n",
       "\\item '84068'\n",
       "\\item '47716'\n",
       "\\item '69686'\n",
       "\\item '147138'\n",
       "\\item '77227'\n",
       "\\item '110540'\n",
       "\\item '9304'\n",
       "\\item '7836'\n",
       "\\item '121666'\n",
       "\\item '49576'\n",
       "\\item '52586'\n",
       "\\item '70665'\n",
       "\\item '41222'\n",
       "\\item '69919'\n",
       "\\item '96981'\n",
       "\\item '45333'\n",
       "\\item '1214'\n",
       "\\item '31055'\n",
       "\\item '77047'\n",
       "\\item '42244'\n",
       "\\item '267339'\n",
       "\\item '84916'\n",
       "\\item '9609'\n",
       "\\item '40815'\n",
       "\\item '68192'\n",
       "\\item '24181'\n",
       "\\item '56154'\n",
       "\\item '97914'\n",
       "\\end{enumerate*}\n"
      ],
      "text/markdown": [
       "1. '51609'\n",
       "2. '589757'\n",
       "3. '113909'\n",
       "4. '53104'\n",
       "5. '158693'\n",
       "6. '104247'\n",
       "7. '5009'\n",
       "8. '2057'\n",
       "9. '58560'\n",
       "10. '58876'\n",
       "11. '6450'\n",
       "12. '83557'\n",
       "13. '56400'\n",
       "14. '36291'\n",
       "15. '56290'\n",
       "16. '82264'\n",
       "17. '40395'\n",
       "18. '48523'\n",
       "19. '33215'\n",
       "20. '10577'\n",
       "21. '8257'\n",
       "22. '58216'\n",
       "23. '84068'\n",
       "24. '47716'\n",
       "25. '69686'\n",
       "26. '147138'\n",
       "27. '77227'\n",
       "28. '110540'\n",
       "29. '9304'\n",
       "30. '7836'\n",
       "31. '121666'\n",
       "32. '49576'\n",
       "33. '52586'\n",
       "34. '70665'\n",
       "35. '41222'\n",
       "36. '69919'\n",
       "37. '96981'\n",
       "38. '45333'\n",
       "39. '1214'\n",
       "40. '31055'\n",
       "41. '77047'\n",
       "42. '42244'\n",
       "43. '267339'\n",
       "44. '84916'\n",
       "45. '9609'\n",
       "46. '40815'\n",
       "47. '68192'\n",
       "48. '24181'\n",
       "49. '56154'\n",
       "50. '97914'\n",
       "\n",
       "\n"
      ],
      "text/plain": [
       " [1] \"51609\"  \"589757\" \"113909\" \"53104\"  \"158693\" \"104247\" \"5009\"   \"2057\"  \n",
       " [9] \"58560\"  \"58876\"  \"6450\"   \"83557\"  \"56400\"  \"36291\"  \"56290\"  \"82264\" \n",
       "[17] \"40395\"  \"48523\"  \"33215\"  \"10577\"  \"8257\"   \"58216\"  \"84068\"  \"47716\" \n",
       "[25] \"69686\"  \"147138\" \"77227\"  \"110540\" \"9304\"   \"7836\"   \"121666\" \"49576\" \n",
       "[33] \"52586\"  \"70665\"  \"41222\"  \"69919\"  \"96981\"  \"45333\"  \"1214\"   \"31055\" \n",
       "[41] \"77047\"  \"42244\"  \"267339\" \"84916\"  \"9609\"   \"40815\"  \"68192\"  \"24181\" \n",
       "[49] \"56154\"  \"97914\" "
      ]
     },
     "metadata": {},
     "output_type": "display_data"
    }
   ],
   "source": [
    "str_extract(state_tbl, \"[0-9]+\")"
   ]
  },
  {
   "cell_type": "markdown",
   "metadata": {},
   "source": [
    "### Using str_order() function\n",
    "- Returns a numeric vector that corresponds to the alphabetical order of the strings in the provided vector"
   ]
  },
  {
   "cell_type": "code",
   "execution_count": 4,
   "metadata": {},
   "outputs": [
    {
     "data": {
      "text/html": [
       "<ol class=list-inline>\n",
       "\t<li>'Alabama'</li>\n",
       "\t<li>'Alaska'</li>\n",
       "\t<li>'Arizona'</li>\n",
       "\t<li>'Arkansas'</li>\n",
       "\t<li>'California'</li>\n",
       "\t<li>'Colorado'</li>\n",
       "</ol>\n"
      ],
      "text/latex": [
       "\\begin{enumerate*}\n",
       "\\item 'Alabama'\n",
       "\\item 'Alaska'\n",
       "\\item 'Arizona'\n",
       "\\item 'Arkansas'\n",
       "\\item 'California'\n",
       "\\item 'Colorado'\n",
       "\\end{enumerate*}\n"
      ],
      "text/markdown": [
       "1. 'Alabama'\n",
       "2. 'Alaska'\n",
       "3. 'Arizona'\n",
       "4. 'Arkansas'\n",
       "5. 'California'\n",
       "6. 'Colorado'\n",
       "\n",
       "\n"
      ],
      "text/plain": [
       "[1] \"Alabama\"    \"Alaska\"     \"Arizona\"    \"Arkansas\"   \"California\"\n",
       "[6] \"Colorado\"  "
      ]
     },
     "metadata": {},
     "output_type": "display_data"
    },
    {
     "data": {
      "text/html": [
       "<ol class=list-inline>\n",
       "\t<li>1</li>\n",
       "\t<li>2</li>\n",
       "\t<li>3</li>\n",
       "\t<li>4</li>\n",
       "\t<li>5</li>\n",
       "\t<li>6</li>\n",
       "\t<li>7</li>\n",
       "\t<li>8</li>\n",
       "\t<li>9</li>\n",
       "\t<li>10</li>\n",
       "\t<li>11</li>\n",
       "\t<li>12</li>\n",
       "\t<li>13</li>\n",
       "\t<li>14</li>\n",
       "\t<li>15</li>\n",
       "\t<li>16</li>\n",
       "\t<li>17</li>\n",
       "\t<li>18</li>\n",
       "\t<li>19</li>\n",
       "\t<li>20</li>\n",
       "\t<li>21</li>\n",
       "\t<li>22</li>\n",
       "\t<li>23</li>\n",
       "\t<li>24</li>\n",
       "\t<li>25</li>\n",
       "\t<li>26</li>\n",
       "\t<li>27</li>\n",
       "\t<li>28</li>\n",
       "\t<li>29</li>\n",
       "\t<li>30</li>\n",
       "\t<li>31</li>\n",
       "\t<li>32</li>\n",
       "\t<li>33</li>\n",
       "\t<li>34</li>\n",
       "\t<li>35</li>\n",
       "\t<li>36</li>\n",
       "\t<li>37</li>\n",
       "\t<li>38</li>\n",
       "\t<li>39</li>\n",
       "\t<li>40</li>\n",
       "\t<li>41</li>\n",
       "\t<li>42</li>\n",
       "\t<li>43</li>\n",
       "\t<li>44</li>\n",
       "\t<li>45</li>\n",
       "\t<li>46</li>\n",
       "\t<li>47</li>\n",
       "\t<li>48</li>\n",
       "\t<li>49</li>\n",
       "\t<li>50</li>\n",
       "</ol>\n"
      ],
      "text/latex": [
       "\\begin{enumerate*}\n",
       "\\item 1\n",
       "\\item 2\n",
       "\\item 3\n",
       "\\item 4\n",
       "\\item 5\n",
       "\\item 6\n",
       "\\item 7\n",
       "\\item 8\n",
       "\\item 9\n",
       "\\item 10\n",
       "\\item 11\n",
       "\\item 12\n",
       "\\item 13\n",
       "\\item 14\n",
       "\\item 15\n",
       "\\item 16\n",
       "\\item 17\n",
       "\\item 18\n",
       "\\item 19\n",
       "\\item 20\n",
       "\\item 21\n",
       "\\item 22\n",
       "\\item 23\n",
       "\\item 24\n",
       "\\item 25\n",
       "\\item 26\n",
       "\\item 27\n",
       "\\item 28\n",
       "\\item 29\n",
       "\\item 30\n",
       "\\item 31\n",
       "\\item 32\n",
       "\\item 33\n",
       "\\item 34\n",
       "\\item 35\n",
       "\\item 36\n",
       "\\item 37\n",
       "\\item 38\n",
       "\\item 39\n",
       "\\item 40\n",
       "\\item 41\n",
       "\\item 42\n",
       "\\item 43\n",
       "\\item 44\n",
       "\\item 45\n",
       "\\item 46\n",
       "\\item 47\n",
       "\\item 48\n",
       "\\item 49\n",
       "\\item 50\n",
       "\\end{enumerate*}\n"
      ],
      "text/markdown": [
       "1. 1\n",
       "2. 2\n",
       "3. 3\n",
       "4. 4\n",
       "5. 5\n",
       "6. 6\n",
       "7. 7\n",
       "8. 8\n",
       "9. 9\n",
       "10. 10\n",
       "11. 11\n",
       "12. 12\n",
       "13. 13\n",
       "14. 14\n",
       "15. 15\n",
       "16. 16\n",
       "17. 17\n",
       "18. 18\n",
       "19. 19\n",
       "20. 20\n",
       "21. 21\n",
       "22. 22\n",
       "23. 23\n",
       "24. 24\n",
       "25. 25\n",
       "26. 26\n",
       "27. 27\n",
       "28. 28\n",
       "29. 29\n",
       "30. 30\n",
       "31. 31\n",
       "32. 32\n",
       "33. 33\n",
       "34. 34\n",
       "35. 35\n",
       "36. 36\n",
       "37. 37\n",
       "38. 38\n",
       "39. 39\n",
       "40. 40\n",
       "41. 41\n",
       "42. 42\n",
       "43. 43\n",
       "44. 44\n",
       "45. 45\n",
       "46. 46\n",
       "47. 47\n",
       "48. 48\n",
       "49. 49\n",
       "50. 50\n",
       "\n",
       "\n"
      ],
      "text/plain": [
       " [1]  1  2  3  4  5  6  7  8  9 10 11 12 13 14 15 16 17 18 19 20 21 22 23 24 25\n",
       "[26] 26 27 28 29 30 31 32 33 34 35 36 37 38 39 40 41 42 43 44 45 46 47 48 49 50"
      ]
     },
     "metadata": {},
     "output_type": "display_data"
    }
   ],
   "source": [
    "head(state.name)\n",
    "str_order(state.name)"
   ]
  },
  {
   "cell_type": "code",
   "execution_count": 5,
   "metadata": {},
   "outputs": [
    {
     "data": {
      "text/html": [
       "<ol class=list-inline>\n",
       "\t<li>'AL'</li>\n",
       "\t<li>'AK'</li>\n",
       "\t<li>'AZ'</li>\n",
       "\t<li>'AR'</li>\n",
       "\t<li>'CA'</li>\n",
       "\t<li>'CO'</li>\n",
       "</ol>\n"
      ],
      "text/latex": [
       "\\begin{enumerate*}\n",
       "\\item 'AL'\n",
       "\\item 'AK'\n",
       "\\item 'AZ'\n",
       "\\item 'AR'\n",
       "\\item 'CA'\n",
       "\\item 'CO'\n",
       "\\end{enumerate*}\n"
      ],
      "text/markdown": [
       "1. 'AL'\n",
       "2. 'AK'\n",
       "3. 'AZ'\n",
       "4. 'AR'\n",
       "5. 'CA'\n",
       "6. 'CO'\n",
       "\n",
       "\n"
      ],
      "text/plain": [
       "[1] \"AL\" \"AK\" \"AZ\" \"AR\" \"CA\" \"CO\""
      ]
     },
     "metadata": {},
     "output_type": "display_data"
    },
    {
     "data": {
      "text/html": [
       "<ol class=list-inline>\n",
       "\t<li>2</li>\n",
       "\t<li>1</li>\n",
       "\t<li>4</li>\n",
       "\t<li>3</li>\n",
       "\t<li>5</li>\n",
       "\t<li>6</li>\n",
       "\t<li>7</li>\n",
       "\t<li>8</li>\n",
       "\t<li>9</li>\n",
       "\t<li>10</li>\n",
       "\t<li>11</li>\n",
       "\t<li>15</li>\n",
       "\t<li>12</li>\n",
       "\t<li>13</li>\n",
       "\t<li>14</li>\n",
       "\t<li>16</li>\n",
       "\t<li>17</li>\n",
       "\t<li>18</li>\n",
       "\t<li>21</li>\n",
       "\t<li>20</li>\n",
       "\t<li>19</li>\n",
       "\t<li>22</li>\n",
       "\t<li>23</li>\n",
       "\t<li>25</li>\n",
       "\t<li>24</li>\n",
       "\t<li>26</li>\n",
       "\t<li>33</li>\n",
       "\t<li>34</li>\n",
       "\t<li>27</li>\n",
       "\t<li>29</li>\n",
       "\t<li>30</li>\n",
       "\t<li>31</li>\n",
       "\t<li>28</li>\n",
       "\t<li>32</li>\n",
       "\t<li>35</li>\n",
       "\t<li>36</li>\n",
       "\t<li>37</li>\n",
       "\t<li>38</li>\n",
       "\t<li>39</li>\n",
       "\t<li>40</li>\n",
       "\t<li>41</li>\n",
       "\t<li>42</li>\n",
       "\t<li>43</li>\n",
       "\t<li>44</li>\n",
       "\t<li>46</li>\n",
       "\t<li>45</li>\n",
       "\t<li>47</li>\n",
       "\t<li>49</li>\n",
       "\t<li>48</li>\n",
       "\t<li>50</li>\n",
       "</ol>\n"
      ],
      "text/latex": [
       "\\begin{enumerate*}\n",
       "\\item 2\n",
       "\\item 1\n",
       "\\item 4\n",
       "\\item 3\n",
       "\\item 5\n",
       "\\item 6\n",
       "\\item 7\n",
       "\\item 8\n",
       "\\item 9\n",
       "\\item 10\n",
       "\\item 11\n",
       "\\item 15\n",
       "\\item 12\n",
       "\\item 13\n",
       "\\item 14\n",
       "\\item 16\n",
       "\\item 17\n",
       "\\item 18\n",
       "\\item 21\n",
       "\\item 20\n",
       "\\item 19\n",
       "\\item 22\n",
       "\\item 23\n",
       "\\item 25\n",
       "\\item 24\n",
       "\\item 26\n",
       "\\item 33\n",
       "\\item 34\n",
       "\\item 27\n",
       "\\item 29\n",
       "\\item 30\n",
       "\\item 31\n",
       "\\item 28\n",
       "\\item 32\n",
       "\\item 35\n",
       "\\item 36\n",
       "\\item 37\n",
       "\\item 38\n",
       "\\item 39\n",
       "\\item 40\n",
       "\\item 41\n",
       "\\item 42\n",
       "\\item 43\n",
       "\\item 44\n",
       "\\item 46\n",
       "\\item 45\n",
       "\\item 47\n",
       "\\item 49\n",
       "\\item 48\n",
       "\\item 50\n",
       "\\end{enumerate*}\n"
      ],
      "text/markdown": [
       "1. 2\n",
       "2. 1\n",
       "3. 4\n",
       "4. 3\n",
       "5. 5\n",
       "6. 6\n",
       "7. 7\n",
       "8. 8\n",
       "9. 9\n",
       "10. 10\n",
       "11. 11\n",
       "12. 15\n",
       "13. 12\n",
       "14. 13\n",
       "15. 14\n",
       "16. 16\n",
       "17. 17\n",
       "18. 18\n",
       "19. 21\n",
       "20. 20\n",
       "21. 19\n",
       "22. 22\n",
       "23. 23\n",
       "24. 25\n",
       "25. 24\n",
       "26. 26\n",
       "27. 33\n",
       "28. 34\n",
       "29. 27\n",
       "30. 29\n",
       "31. 30\n",
       "32. 31\n",
       "33. 28\n",
       "34. 32\n",
       "35. 35\n",
       "36. 36\n",
       "37. 37\n",
       "38. 38\n",
       "39. 39\n",
       "40. 40\n",
       "41. 41\n",
       "42. 42\n",
       "43. 43\n",
       "44. 44\n",
       "45. 46\n",
       "46. 45\n",
       "47. 47\n",
       "48. 49\n",
       "49. 48\n",
       "50. 50\n",
       "\n",
       "\n"
      ],
      "text/plain": [
       " [1]  2  1  4  3  5  6  7  8  9 10 11 15 12 13 14 16 17 18 21 20 19 22 23 25 24\n",
       "[26] 26 33 34 27 29 30 31 28 32 35 36 37 38 39 40 41 42 43 44 46 45 47 49 48 50"
      ]
     },
     "metadata": {},
     "output_type": "display_data"
    }
   ],
   "source": [
    "head(state.abb)\n",
    "str_order(state.abb)"
   ]
  },
  {
   "cell_type": "markdown",
   "metadata": {},
   "source": [
    "### Using str_pad() function\n",
    "- Pads string with other characters, usefull when printing "
   ]
  },
  {
   "cell_type": "code",
   "execution_count": 6,
   "metadata": {},
   "outputs": [
    {
     "data": {
      "text/html": [
       "'----Thai'"
      ],
      "text/latex": [
       "'----Thai'"
      ],
      "text/markdown": [
       "'----Thai'"
      ],
      "text/plain": [
       "[1] \"----Thai\""
      ]
     },
     "metadata": {},
     "output_type": "display_data"
    },
    {
     "data": {
      "text/html": [
       "'Thai----'"
      ],
      "text/latex": [
       "'Thai----'"
      ],
      "text/markdown": [
       "'Thai----'"
      ],
      "text/plain": [
       "[1] \"Thai----\""
      ]
     },
     "metadata": {},
     "output_type": "display_data"
    },
    {
     "data": {
      "text/html": [
       "'--Thai--'"
      ],
      "text/latex": [
       "'--Thai--'"
      ],
      "text/markdown": [
       "'--Thai--'"
      ],
      "text/plain": [
       "[1] \"--Thai--\""
      ]
     },
     "metadata": {},
     "output_type": "display_data"
    }
   ],
   "source": [
    "str_pad(\"Thai\", width = 8, side = 'left', pad = \"-\")\n",
    "str_pad(\"Thai\", width = 8, side = 'right', pad = \"-\")\n",
    "str_pad(\"Thai\", width = 8, side = 'both', pad = \"-\")"
   ]
  },
  {
   "cell_type": "markdown",
   "metadata": {},
   "source": [
    "### Using str_to_title() function\n",
    "- Puts strings into Title Case"
   ]
  },
  {
   "cell_type": "code",
   "execution_count": 7,
   "metadata": {},
   "outputs": [
    {
     "data": {
      "text/html": [
       "<ol class=list-inline>\n",
       "\t<li>'All Caps'</li>\n",
       "\t<li>'All Low'</li>\n",
       "\t<li>'All Title Case'</li>\n",
       "</ol>\n"
      ],
      "text/latex": [
       "\\begin{enumerate*}\n",
       "\\item 'All Caps'\n",
       "\\item 'All Low'\n",
       "\\item 'All Title Case'\n",
       "\\end{enumerate*}\n"
      ],
      "text/markdown": [
       "1. 'All Caps'\n",
       "2. 'All Low'\n",
       "3. 'All Title Case'\n",
       "\n",
       "\n"
      ],
      "text/plain": [
       "[1] \"All Caps\"       \"All Low\"        \"All Title Case\""
      ]
     },
     "metadata": {},
     "output_type": "display_data"
    }
   ],
   "source": [
    "cases <- c(\"ALL CAPS\", \"all low\", \"All Title Case\")\n",
    "str_to_title(cases)"
   ]
  },
  {
   "cell_type": "markdown",
   "metadata": {},
   "source": [
    "### str_trim() function\n",
    "- deletes witespace from both sides of a string"
   ]
  },
  {
   "cell_type": "code",
   "execution_count": 8,
   "metadata": {},
   "outputs": [
    {
     "data": {
      "text/html": [
       "<ol class=list-inline>\n",
       "\t<li><span style=white-space:pre-wrap>'     left'</span></li>\n",
       "\t<li><span style=white-space:pre-wrap>'right     '</span></li>\n",
       "\t<li><span style=white-space:pre-wrap>'    both     '</span></li>\n",
       "</ol>\n"
      ],
      "text/latex": [
       "\\begin{enumerate*}\n",
       "\\item '     left'\n",
       "\\item 'right     '\n",
       "\\item '    both     '\n",
       "\\end{enumerate*}\n"
      ],
      "text/markdown": [
       "1. <span style=white-space:pre-wrap>'     left'</span>\n",
       "2. <span style=white-space:pre-wrap>'right     '</span>\n",
       "3. <span style=white-space:pre-wrap>'    both     '</span>\n",
       "\n",
       "\n"
      ],
      "text/plain": [
       "[1] \"     left\"     \"right     \"    \"    both     \""
      ]
     },
     "metadata": {},
     "output_type": "display_data"
    }
   ],
   "source": [
    "to_trim <- c(\"     left\", \"right     \", \"    both     \")\n",
    "to_trim"
   ]
  },
  {
   "cell_type": "code",
   "execution_count": 9,
   "metadata": {},
   "outputs": [
    {
     "data": {
      "text/html": [
       "<ol class=list-inline>\n",
       "\t<li>'left'</li>\n",
       "\t<li>'right'</li>\n",
       "\t<li>'both'</li>\n",
       "</ol>\n"
      ],
      "text/latex": [
       "\\begin{enumerate*}\n",
       "\\item 'left'\n",
       "\\item 'right'\n",
       "\\item 'both'\n",
       "\\end{enumerate*}\n"
      ],
      "text/markdown": [
       "1. 'left'\n",
       "2. 'right'\n",
       "3. 'both'\n",
       "\n",
       "\n"
      ],
      "text/plain": [
       "[1] \"left\"  \"right\" \"both\" "
      ]
     },
     "metadata": {},
     "output_type": "display_data"
    }
   ],
   "source": [
    "str_trim(to_trim)"
   ]
  },
  {
   "cell_type": "markdown",
   "metadata": {},
   "source": [
    "### str_wrap() function\n",
    "- Inserts newlines in strings so that when the string is printed each line's length is limited"
   ]
  },
  {
   "cell_type": "code",
   "execution_count": 10,
   "metadata": {},
   "outputs": [
    {
     "data": {
      "text/html": [
       "'Alabama Alaska Arizona Arkansas California Colorado Connecticut Delaware Florida Georgia Hawaii Idaho Illinois Indiana Iowa Kansas Kentucky Louisiana Maine Maryland'"
      ],
      "text/latex": [
       "'Alabama Alaska Arizona Arkansas California Colorado Connecticut Delaware Florida Georgia Hawaii Idaho Illinois Indiana Iowa Kansas Kentucky Louisiana Maine Maryland'"
      ],
      "text/markdown": [
       "'Alabama Alaska Arizona Arkansas California Colorado Connecticut Delaware Florida Georgia Hawaii Idaho Illinois Indiana Iowa Kansas Kentucky Louisiana Maine Maryland'"
      ],
      "text/plain": [
       "[1] \"Alabama Alaska Arizona Arkansas California Colorado Connecticut Delaware Florida Georgia Hawaii Idaho Illinois Indiana Iowa Kansas Kentucky Louisiana Maine Maryland\""
      ]
     },
     "metadata": {},
     "output_type": "display_data"
    }
   ],
   "source": [
    "pasted_states <- paste(state.name[1:20], collapse = \" \")\n",
    "pasted_states"
   ]
  },
  {
   "cell_type": "code",
   "execution_count": 11,
   "metadata": {},
   "outputs": [
    {
     "data": {
      "text/html": [
       "'Alabama Alaska Arizona Arkansas California Colorado Connecticut Delaware Florida\n",
       "Georgia Hawaii Idaho Illinois Indiana Iowa Kansas Kentucky Louisiana Maine\n",
       "Maryland'"
      ],
      "text/latex": [
       "'Alabama Alaska Arizona Arkansas California Colorado Connecticut Delaware Florida\n",
       "Georgia Hawaii Idaho Illinois Indiana Iowa Kansas Kentucky Louisiana Maine\n",
       "Maryland'"
      ],
      "text/markdown": [
       "'Alabama Alaska Arizona Arkansas California Colorado Connecticut Delaware Florida\n",
       "Georgia Hawaii Idaho Illinois Indiana Iowa Kansas Kentucky Louisiana Maine\n",
       "Maryland'"
      ],
      "text/plain": [
       "[1] \"Alabama Alaska Arizona Arkansas California Colorado Connecticut Delaware Florida\\nGeorgia Hawaii Idaho Illinois Indiana Iowa Kansas Kentucky Louisiana Maine\\nMaryland\""
      ]
     },
     "metadata": {},
     "output_type": "display_data"
    }
   ],
   "source": [
    "# Use cat() to not print the new line (\\n ) character\n",
    "str_wrap(pasted_states, width = 80)"
   ]
  },
  {
   "cell_type": "code",
   "execution_count": 12,
   "metadata": {},
   "outputs": [
    {
     "name": "stdout",
     "output_type": "stream",
     "text": [
      "Alabama Alaska Arizona Arkansas California Colorado Connecticut Delaware Florida\n",
      "Georgia Hawaii Idaho Illinois Indiana Iowa Kansas Kentucky Louisiana Maine\n",
      "Maryland"
     ]
    }
   ],
   "source": [
    "cat(str_wrap(pasted_states, width = 80))"
   ]
  },
  {
   "cell_type": "code",
   "execution_count": 13,
   "metadata": {},
   "outputs": [
    {
     "name": "stdout",
     "output_type": "stream",
     "text": [
      "Alabama Alaska Arizona\n",
      "Arkansas California Colorado\n",
      "Connecticut Delaware Florida\n",
      "Georgia Hawaii Idaho Illinois\n",
      "Indiana Iowa Kansas Kentucky\n",
      "Louisiana Maine Maryland"
     ]
    }
   ],
   "source": [
    "cat(str_wrap(pasted_states, width = 30))"
   ]
  },
  {
   "cell_type": "markdown",
   "metadata": {},
   "source": [
    "### word() function\n",
    "- Index each word in a string as if it were a vector"
   ]
  },
  {
   "cell_type": "code",
   "execution_count": 14,
   "metadata": {},
   "outputs": [
    {
     "data": {
      "text/html": [
       "'was'"
      ],
      "text/latex": [
       "'was'"
      ],
      "text/markdown": [
       "'was'"
      ],
      "text/plain": [
       "[1] \"was\""
      ]
     },
     "metadata": {},
     "output_type": "display_data"
    }
   ],
   "source": [
    "txt <- \"It was the best of times it was the worst of times\"\n",
    "\n",
    "word(txt, 2)"
   ]
  },
  {
   "cell_type": "code",
   "execution_count": 15,
   "metadata": {},
   "outputs": [
    {
     "data": {
      "text/html": [
       "'It was the'"
      ],
      "text/latex": [
       "'It was the'"
      ],
      "text/markdown": [
       "'It was the'"
      ],
      "text/plain": [
       "[1] \"It was the\""
      ]
     },
     "metadata": {},
     "output_type": "display_data"
    }
   ],
   "source": [
    "word(txt, end = 3)"
   ]
  },
  {
   "cell_type": "code",
   "execution_count": 16,
   "metadata": {},
   "outputs": [
    {
     "data": {
      "text/html": [
       "'it was the worst of times'"
      ],
      "text/latex": [
       "'it was the worst of times'"
      ],
      "text/markdown": [
       "'it was the worst of times'"
      ],
      "text/plain": [
       "[1] \"it was the worst of times\""
      ]
     },
     "metadata": {},
     "output_type": "display_data"
    }
   ],
   "source": [
    "word(txt, start = 7, end = 12)"
   ]
  }
 ],
 "metadata": {
  "kernelspec": {
   "display_name": "R",
   "language": "R",
   "name": "ir"
  },
  "language_info": {
   "codemirror_mode": "r",
   "file_extension": ".r",
   "mimetype": "text/x-r-source",
   "name": "R",
   "pygments_lexer": "r",
   "version": "3.4.1"
  }
 },
 "nbformat": 4,
 "nbformat_minor": 2
}
