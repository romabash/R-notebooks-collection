{
 "cells": [
  {
   "cell_type": "markdown",
   "metadata": {},
   "source": [
    "# Regex Functions\n",
    "- Stands for \"grep logical\": returns Logical vector\n",
    "- grep(): returns indicies of the vector that match the regex\n",
    "- sub(): takes a regex and a \"replacement\" and a vector of strings.  Replaces first instance of that regex in each string\n",
    "- gsub(): Similar to sub(), but replaces all instances\n",
    "- strsplit(): Splits up strings according to the provided regex\n",
    "  - if vector is provided, it will return a list of string vectors"
   ]
  },
  {
   "cell_type": "code",
   "execution_count": 1,
   "metadata": {},
   "outputs": [
    {
     "data": {
      "text/html": [
       "<ol class=list-inline>\n",
       "\t<li>TRUE</li>\n",
       "\t<li>TRUE</li>\n",
       "\t<li>FALSE</li>\n",
       "</ol>\n"
      ],
      "text/latex": [
       "\\begin{enumerate*}\n",
       "\\item TRUE\n",
       "\\item TRUE\n",
       "\\item FALSE\n",
       "\\end{enumerate*}\n"
      ],
      "text/markdown": [
       "1. TRUE\n",
       "2. TRUE\n",
       "3. FALSE\n",
       "\n",
       "\n"
      ],
      "text/plain": [
       "[1]  TRUE  TRUE FALSE"
      ]
     },
     "metadata": {},
     "output_type": "display_data"
    }
   ],
   "source": [
    "# Searching for \"I\" or \"i\" using grepl()\n",
    "grepl(\"[Ii]\", c(\"Hawaii\", \"Illinois\", \"Kentucky\"))"
   ]
  },
  {
   "cell_type": "code",
   "execution_count": 2,
   "metadata": {},
   "outputs": [
    {
     "data": {
      "text/html": [
       "<ol class=list-inline>\n",
       "\t<li>1</li>\n",
       "\t<li>2</li>\n",
       "</ol>\n"
      ],
      "text/latex": [
       "\\begin{enumerate*}\n",
       "\\item 1\n",
       "\\item 2\n",
       "\\end{enumerate*}\n"
      ],
      "text/markdown": [
       "1. 1\n",
       "2. 2\n",
       "\n",
       "\n"
      ],
      "text/plain": [
       "[1] 1 2"
      ]
     },
     "metadata": {},
     "output_type": "display_data"
    }
   ],
   "source": [
    "# Searching for indecies that match \"I\" or \"i\" using grep()\n",
    "grep(\"[Ii]\", c(\"Hawaii\", \"Illinois\", \"Kentucky\"))"
   ]
  },
  {
   "cell_type": "code",
   "execution_count": 3,
   "metadata": {},
   "outputs": [
    {
     "data": {
      "text/html": [
       "<ol class=list-inline>\n",
       "\t<li>'Hawa-i'</li>\n",
       "\t<li>'-llinois'</li>\n",
       "\t<li>'Kentucky'</li>\n",
       "</ol>\n"
      ],
      "text/latex": [
       "\\begin{enumerate*}\n",
       "\\item 'Hawa-i'\n",
       "\\item '-llinois'\n",
       "\\item 'Kentucky'\n",
       "\\end{enumerate*}\n"
      ],
      "text/markdown": [
       "1. 'Hawa-i'\n",
       "2. '-llinois'\n",
       "3. 'Kentucky'\n",
       "\n",
       "\n"
      ],
      "text/plain": [
       "[1] \"Hawa-i\"   \"-llinois\" \"Kentucky\""
      ]
     },
     "metadata": {},
     "output_type": "display_data"
    }
   ],
   "source": [
    "# Substituting \"-\" for first instance of \"I\" or \"i\"\n",
    "sub(\"[Ii]\", \"-\", c(\"Hawaii\", \"Illinois\", \"Kentucky\"))"
   ]
  },
  {
   "cell_type": "code",
   "execution_count": 4,
   "metadata": {},
   "outputs": [
    {
     "data": {
      "text/html": [
       "<ol class=list-inline>\n",
       "\t<li>'Hawa--'</li>\n",
       "\t<li>'-ll-no-s'</li>\n",
       "\t<li>'Kentucky'</li>\n",
       "</ol>\n"
      ],
      "text/latex": [
       "\\begin{enumerate*}\n",
       "\\item 'Hawa--'\n",
       "\\item '-ll-no-s'\n",
       "\\item 'Kentucky'\n",
       "\\end{enumerate*}\n"
      ],
      "text/markdown": [
       "1. 'Hawa--'\n",
       "2. '-ll-no-s'\n",
       "3. 'Kentucky'\n",
       "\n",
       "\n"
      ],
      "text/plain": [
       "[1] \"Hawa--\"   \"-ll-no-s\" \"Kentucky\""
      ]
     },
     "metadata": {},
     "output_type": "display_data"
    }
   ],
   "source": [
    "# Substituting \"-\" for all instances of \"I\" or \"i\"\n",
    "gsub(\"[Ii]\", \"-\", c(\"Hawaii\", \"Illinois\", \"Kentucky\"))"
   ]
  },
  {
   "cell_type": "markdown",
   "metadata": {},
   "source": [
    "### Using strsplit() function to split strings that have \"ss\"\n",
    "- Using state.name dataset\n",
    "- Find Indicies of states that have \"ss\"\n",
    "- Select those states\n",
    "- Use strsplit() to split where \"ss\" happens"
   ]
  },
  {
   "cell_type": "code",
   "execution_count": 5,
   "metadata": {},
   "outputs": [
    {
     "data": {
      "text/html": [
       "<ol class=list-inline>\n",
       "\t<li>'Alabama'</li>\n",
       "\t<li>'Alaska'</li>\n",
       "\t<li>'Arizona'</li>\n",
       "\t<li>'Arkansas'</li>\n",
       "\t<li>'California'</li>\n",
       "\t<li>'Colorado'</li>\n",
       "</ol>\n"
      ],
      "text/latex": [
       "\\begin{enumerate*}\n",
       "\\item 'Alabama'\n",
       "\\item 'Alaska'\n",
       "\\item 'Arizona'\n",
       "\\item 'Arkansas'\n",
       "\\item 'California'\n",
       "\\item 'Colorado'\n",
       "\\end{enumerate*}\n"
      ],
      "text/markdown": [
       "1. 'Alabama'\n",
       "2. 'Alaska'\n",
       "3. 'Arizona'\n",
       "4. 'Arkansas'\n",
       "5. 'California'\n",
       "6. 'Colorado'\n",
       "\n",
       "\n"
      ],
      "text/plain": [
       "[1] \"Alabama\"    \"Alaska\"     \"Arizona\"    \"Arkansas\"   \"California\"\n",
       "[6] \"Colorado\"  "
      ]
     },
     "metadata": {},
     "output_type": "display_data"
    }
   ],
   "source": [
    "head(state.name)"
   ]
  },
  {
   "cell_type": "code",
   "execution_count": 6,
   "metadata": {},
   "outputs": [
    {
     "data": {
      "text/html": [
       "<ol class=list-inline>\n",
       "\t<li>21</li>\n",
       "\t<li>24</li>\n",
       "\t<li>25</li>\n",
       "\t<li>42</li>\n",
       "</ol>\n"
      ],
      "text/latex": [
       "\\begin{enumerate*}\n",
       "\\item 21\n",
       "\\item 24\n",
       "\\item 25\n",
       "\\item 42\n",
       "\\end{enumerate*}\n"
      ],
      "text/markdown": [
       "1. 21\n",
       "2. 24\n",
       "3. 25\n",
       "4. 42\n",
       "\n",
       "\n"
      ],
      "text/plain": [
       "[1] 21 24 25 42"
      ]
     },
     "metadata": {},
     "output_type": "display_data"
    }
   ],
   "source": [
    "grep(\"ss\", state.name)"
   ]
  },
  {
   "cell_type": "code",
   "execution_count": 7,
   "metadata": {},
   "outputs": [
    {
     "data": {
      "text/html": [
       "<ol class=list-inline>\n",
       "\t<li>'Massachusetts'</li>\n",
       "\t<li>'Mississippi'</li>\n",
       "\t<li>'Missouri'</li>\n",
       "\t<li>'Tennessee'</li>\n",
       "</ol>\n"
      ],
      "text/latex": [
       "\\begin{enumerate*}\n",
       "\\item 'Massachusetts'\n",
       "\\item 'Mississippi'\n",
       "\\item 'Missouri'\n",
       "\\item 'Tennessee'\n",
       "\\end{enumerate*}\n"
      ],
      "text/markdown": [
       "1. 'Massachusetts'\n",
       "2. 'Mississippi'\n",
       "3. 'Missouri'\n",
       "4. 'Tennessee'\n",
       "\n",
       "\n"
      ],
      "text/plain": [
       "[1] \"Massachusetts\" \"Mississippi\"   \"Missouri\"      \"Tennessee\"    "
      ]
     },
     "metadata": {},
     "output_type": "display_data"
    }
   ],
   "source": [
    "two_s <- state.name[grep(\"ss\", state.name)]\n",
    "two_s"
   ]
  },
  {
   "cell_type": "code",
   "execution_count": 8,
   "metadata": {},
   "outputs": [
    {
     "data": {
      "text/html": [
       "<ol>\n",
       "\t<li><ol class=list-inline>\n",
       "\t<li>'Ma'</li>\n",
       "\t<li>'achusetts'</li>\n",
       "</ol>\n",
       "</li>\n",
       "\t<li><ol class=list-inline>\n",
       "\t<li>'Mi'</li>\n",
       "\t<li>'i'</li>\n",
       "\t<li>'ippi'</li>\n",
       "</ol>\n",
       "</li>\n",
       "\t<li><ol class=list-inline>\n",
       "\t<li>'Mi'</li>\n",
       "\t<li>'ouri'</li>\n",
       "</ol>\n",
       "</li>\n",
       "\t<li><ol class=list-inline>\n",
       "\t<li>'Tenne'</li>\n",
       "\t<li>'ee'</li>\n",
       "</ol>\n",
       "</li>\n",
       "</ol>\n"
      ],
      "text/latex": [
       "\\begin{enumerate}\n",
       "\\item \\begin{enumerate*}\n",
       "\\item 'Ma'\n",
       "\\item 'achusetts'\n",
       "\\end{enumerate*}\n",
       "\n",
       "\\item \\begin{enumerate*}\n",
       "\\item 'Mi'\n",
       "\\item 'i'\n",
       "\\item 'ippi'\n",
       "\\end{enumerate*}\n",
       "\n",
       "\\item \\begin{enumerate*}\n",
       "\\item 'Mi'\n",
       "\\item 'ouri'\n",
       "\\end{enumerate*}\n",
       "\n",
       "\\item \\begin{enumerate*}\n",
       "\\item 'Tenne'\n",
       "\\item 'ee'\n",
       "\\end{enumerate*}\n",
       "\n",
       "\\end{enumerate}\n"
      ],
      "text/markdown": [
       "1. 1. 'Ma'\n",
       "2. 'achusetts'\n",
       "\n",
       "\n",
       "\n",
       "2. 1. 'Mi'\n",
       "2. 'i'\n",
       "3. 'ippi'\n",
       "\n",
       "\n",
       "\n",
       "3. 1. 'Mi'\n",
       "2. 'ouri'\n",
       "\n",
       "\n",
       "\n",
       "4. 1. 'Tenne'\n",
       "2. 'ee'\n",
       "\n",
       "\n",
       "\n",
       "\n",
       "\n"
      ],
      "text/plain": [
       "[[1]]\n",
       "[1] \"Ma\"        \"achusetts\"\n",
       "\n",
       "[[2]]\n",
       "[1] \"Mi\"   \"i\"    \"ippi\"\n",
       "\n",
       "[[3]]\n",
       "[1] \"Mi\"   \"ouri\"\n",
       "\n",
       "[[4]]\n",
       "[1] \"Tenne\" \"ee\"   \n"
      ]
     },
     "metadata": {},
     "output_type": "display_data"
    }
   ],
   "source": [
    "strsplit(two_s, \"ss\")"
   ]
  }
 ],
 "metadata": {
  "kernelspec": {
   "display_name": "R",
   "language": "R",
   "name": "ir"
  },
  "language_info": {
   "codemirror_mode": "r",
   "file_extension": ".r",
   "mimetype": "text/x-r-source",
   "name": "R",
   "pygments_lexer": "r",
   "version": "3.4.1"
  }
 },
 "nbformat": 4,
 "nbformat_minor": 2
}
