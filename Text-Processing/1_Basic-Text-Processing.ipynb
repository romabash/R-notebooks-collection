{
 "cells": [
  {
   "cell_type": "markdown",
   "metadata": {},
   "source": [
    "# Basic Text Processing "
   ]
  },
  {
   "cell_type": "markdown",
   "metadata": {},
   "source": [
    "### Using paste() function:\n",
    "- arguments:\n",
    "  - sep: to specify separation (default is a space)\n",
    "  - collapse: specify separation (when using a vector)"
   ]
  },
  {
   "cell_type": "code",
   "execution_count": 1,
   "metadata": {},
   "outputs": [
    {
     "data": {
      "text/html": [
       "<ol class=list-inline>\n",
       "\t<li>'My favorite shape is a Square'</li>\n",
       "\t<li>'My favorite shape is a Circle'</li>\n",
       "\t<li>'My favorite shape is a Triangle'</li>\n",
       "</ol>\n"
      ],
      "text/latex": [
       "\\begin{enumerate*}\n",
       "\\item 'My favorite shape is a Square'\n",
       "\\item 'My favorite shape is a Circle'\n",
       "\\item 'My favorite shape is a Triangle'\n",
       "\\end{enumerate*}\n"
      ],
      "text/markdown": [
       "1. 'My favorite shape is a Square'\n",
       "2. 'My favorite shape is a Circle'\n",
       "3. 'My favorite shape is a Triangle'\n",
       "\n",
       "\n"
      ],
      "text/plain": [
       "[1] \"My favorite shape is a Square\"   \"My favorite shape is a Circle\"  \n",
       "[3] \"My favorite shape is a Triangle\""
      ]
     },
     "metadata": {},
     "output_type": "display_data"
    }
   ],
   "source": [
    "shapes <- c(\"Square\", \"Circle\", \"Triangle\")\n",
    "paste(\"My favorite shape is a\", shapes)"
   ]
  },
  {
   "cell_type": "code",
   "execution_count": 2,
   "metadata": {},
   "outputs": [
    {
     "data": {
      "text/html": [
       "<ol class=list-inline>\n",
       "\t<li>'My favorite shape is: Square'</li>\n",
       "\t<li>'My favorite shape is: Circle'</li>\n",
       "\t<li>'My favorite shape is: Triangle'</li>\n",
       "</ol>\n"
      ],
      "text/latex": [
       "\\begin{enumerate*}\n",
       "\\item 'My favorite shape is: Square'\n",
       "\\item 'My favorite shape is: Circle'\n",
       "\\item 'My favorite shape is: Triangle'\n",
       "\\end{enumerate*}\n"
      ],
      "text/markdown": [
       "1. 'My favorite shape is: Square'\n",
       "2. 'My favorite shape is: Circle'\n",
       "3. 'My favorite shape is: Triangle'\n",
       "\n",
       "\n"
      ],
      "text/plain": [
       "[1] \"My favorite shape is: Square\"   \"My favorite shape is: Circle\"  \n",
       "[3] \"My favorite shape is: Triangle\""
      ]
     },
     "metadata": {},
     "output_type": "display_data"
    }
   ],
   "source": [
    "paste(\"My favorite shape is\", shapes, sep = \": \")"
   ]
  },
  {
   "cell_type": "markdown",
   "metadata": {},
   "source": [
    "#### Collapse a vector into one string:"
   ]
  },
  {
   "cell_type": "code",
   "execution_count": 4,
   "metadata": {},
   "outputs": [
    {
     "data": {
      "text/html": [
       "<ol class=list-inline>\n",
       "\t<li>'Square'</li>\n",
       "\t<li>'Circle'</li>\n",
       "\t<li>'Triangle'</li>\n",
       "</ol>\n"
      ],
      "text/latex": [
       "\\begin{enumerate*}\n",
       "\\item 'Square'\n",
       "\\item 'Circle'\n",
       "\\item 'Triangle'\n",
       "\\end{enumerate*}\n"
      ],
      "text/markdown": [
       "1. 'Square'\n",
       "2. 'Circle'\n",
       "3. 'Triangle'\n",
       "\n",
       "\n"
      ],
      "text/plain": [
       "[1] \"Square\"   \"Circle\"   \"Triangle\""
      ]
     },
     "metadata": {},
     "output_type": "display_data"
    }
   ],
   "source": [
    "paste(shapes)"
   ]
  },
  {
   "cell_type": "code",
   "execution_count": 5,
   "metadata": {},
   "outputs": [
    {
     "data": {
      "text/html": [
       "'Square Circle Triangle'"
      ],
      "text/latex": [
       "'Square Circle Triangle'"
      ],
      "text/markdown": [
       "'Square Circle Triangle'"
      ],
      "text/plain": [
       "[1] \"Square Circle Triangle\""
      ]
     },
     "metadata": {},
     "output_type": "display_data"
    }
   ],
   "source": [
    "paste(shapes, collapse = \" \")"
   ]
  },
  {
   "cell_type": "code",
   "execution_count": 6,
   "metadata": {},
   "outputs": [
    {
     "data": {
      "text/html": [
       "'Square-Circle-Triangle'"
      ],
      "text/latex": [
       "'Square-Circle-Triangle'"
      ],
      "text/markdown": [
       "'Square-Circle-Triangle'"
      ],
      "text/plain": [
       "[1] \"Square-Circle-Triangle\""
      ]
     },
     "metadata": {},
     "output_type": "display_data"
    }
   ],
   "source": [
    "paste(shapes, collapse = \"-\")"
   ]
  },
  {
   "cell_type": "markdown",
   "metadata": {},
   "source": [
    "### Count the number of characters:"
   ]
  },
  {
   "cell_type": "code",
   "execution_count": 7,
   "metadata": {},
   "outputs": [
    {
     "data": {
      "text/html": [
       "31"
      ],
      "text/latex": [
       "31"
      ],
      "text/markdown": [
       "31"
      ],
      "text/plain": [
       "[1] 31"
      ]
     },
     "metadata": {},
     "output_type": "display_data"
    }
   ],
   "source": [
    "nchar(\"There are 31 of characters here\")"
   ]
  },
  {
   "cell_type": "markdown",
   "metadata": {},
   "source": [
    "### Using toupper() and tolower() functions:"
   ]
  },
  {
   "cell_type": "code",
   "execution_count": 8,
   "metadata": {},
   "outputs": [
    {
     "data": {
      "text/html": [
       "<ol class=list-inline>\n",
       "\t<li>'example 1'</li>\n",
       "\t<li>'example 1'</li>\n",
       "\t<li>'example 1'</li>\n",
       "</ol>\n"
      ],
      "text/latex": [
       "\\begin{enumerate*}\n",
       "\\item 'example 1'\n",
       "\\item 'example 1'\n",
       "\\item 'example 1'\n",
       "\\end{enumerate*}\n"
      ],
      "text/markdown": [
       "1. 'example 1'\n",
       "2. 'example 1'\n",
       "3. 'example 1'\n",
       "\n",
       "\n"
      ],
      "text/plain": [
       "[1] \"example 1\" \"example 1\" \"example 1\""
      ]
     },
     "metadata": {},
     "output_type": "display_data"
    }
   ],
   "source": [
    "cases <- c(\"example 1\", \"Example 1\", \"EXAMPLE 1\")\n",
    "tolower(cases)"
   ]
  },
  {
   "cell_type": "code",
   "execution_count": 9,
   "metadata": {},
   "outputs": [
    {
     "data": {
      "text/html": [
       "<ol class=list-inline>\n",
       "\t<li>'EXAMPLE 1'</li>\n",
       "\t<li>'EXAMPLE 1'</li>\n",
       "\t<li>'EXAMPLE 1'</li>\n",
       "</ol>\n"
      ],
      "text/latex": [
       "\\begin{enumerate*}\n",
       "\\item 'EXAMPLE 1'\n",
       "\\item 'EXAMPLE 1'\n",
       "\\item 'EXAMPLE 1'\n",
       "\\end{enumerate*}\n"
      ],
      "text/markdown": [
       "1. 'EXAMPLE 1'\n",
       "2. 'EXAMPLE 1'\n",
       "3. 'EXAMPLE 1'\n",
       "\n",
       "\n"
      ],
      "text/plain": [
       "[1] \"EXAMPLE 1\" \"EXAMPLE 1\" \"EXAMPLE 1\""
      ]
     },
     "metadata": {},
     "output_type": "display_data"
    }
   ],
   "source": [
    "toupper(cases)"
   ]
  }
 ],
 "metadata": {
  "kernelspec": {
   "display_name": "R",
   "language": "R",
   "name": "ir"
  },
  "language_info": {
   "codemirror_mode": "r",
   "file_extension": ".r",
   "mimetype": "text/x-r-source",
   "name": "R",
   "pygments_lexer": "r",
   "version": "3.4.1"
  }
 },
 "nbformat": 4,
 "nbformat_minor": 2
}
