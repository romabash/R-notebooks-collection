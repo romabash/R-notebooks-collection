{
 "cells": [
  {
   "cell_type": "markdown",
   "metadata": {},
   "source": [
    "# Apply Functions:\n",
    "- lapply: Loop over a list and evaluate a function on each element (returns a list)\n",
    "- sapply: Same as lapply but try to simplify the result (returns a vector if possible)\n",
    "- apply: Apply a function over the margins of an array\n",
    "- tapply: Apply a function over subsets of a vector\n",
    "- mapply: Multivariate version of lapply"
   ]
  },
  {
   "cell_type": "markdown",
   "metadata": {},
   "source": [
    "## lapply:\n",
    "- 3 arguments: list, function to be applied, arguments for the function\n",
    "- If not list, will be coerced into a list\n",
    "- Always returns a list"
   ]
  },
  {
   "cell_type": "markdown",
   "metadata": {},
   "source": [
    "#### Example 1:"
   ]
  },
  {
   "cell_type": "code",
   "execution_count": 1,
   "metadata": {},
   "outputs": [
    {
     "data": {
      "text/html": [
       "<dl>\n",
       "\t<dt>$a</dt>\n",
       "\t\t<dd><ol class=list-inline>\n",
       "\t<li>1</li>\n",
       "\t<li>2</li>\n",
       "\t<li>3</li>\n",
       "\t<li>4</li>\n",
       "\t<li>5</li>\n",
       "</ol>\n",
       "</dd>\n",
       "\t<dt>$b</dt>\n",
       "\t\t<dd><ol class=list-inline>\n",
       "\t<li>-0.950260027470902</li>\n",
       "\t<li>-1.14036650000379</li>\n",
       "\t<li>0.32145905372543</li>\n",
       "\t<li>-0.0562770861531116</li>\n",
       "\t<li>0.113446422668956</li>\n",
       "\t<li>-0.234681756700406</li>\n",
       "\t<li>0.176841379512087</li>\n",
       "\t<li>-0.752374728584726</li>\n",
       "\t<li>-2.8071745776549</li>\n",
       "\t<li>-1.24580478737782</li>\n",
       "</ol>\n",
       "</dd>\n",
       "</dl>\n"
      ],
      "text/latex": [
       "\\begin{description}\n",
       "\\item[\\$a] \\begin{enumerate*}\n",
       "\\item 1\n",
       "\\item 2\n",
       "\\item 3\n",
       "\\item 4\n",
       "\\item 5\n",
       "\\end{enumerate*}\n",
       "\n",
       "\\item[\\$b] \\begin{enumerate*}\n",
       "\\item -0.950260027470902\n",
       "\\item -1.14036650000379\n",
       "\\item 0.32145905372543\n",
       "\\item -0.0562770861531116\n",
       "\\item 0.113446422668956\n",
       "\\item -0.234681756700406\n",
       "\\item 0.176841379512087\n",
       "\\item -0.752374728584726\n",
       "\\item -2.8071745776549\n",
       "\\item -1.24580478737782\n",
       "\\end{enumerate*}\n",
       "\n",
       "\\end{description}\n"
      ],
      "text/markdown": [
       "$a\n",
       ":   1. 1\n",
       "2. 2\n",
       "3. 3\n",
       "4. 4\n",
       "5. 5\n",
       "\n",
       "\n",
       "\n",
       "$b\n",
       ":   1. -0.950260027470902\n",
       "2. -1.14036650000379\n",
       "3. 0.32145905372543\n",
       "4. -0.0562770861531116\n",
       "5. 0.113446422668956\n",
       "6. -0.234681756700406\n",
       "7. 0.176841379512087\n",
       "8. -0.752374728584726\n",
       "9. -2.8071745776549\n",
       "10. -1.24580478737782\n",
       "\n",
       "\n",
       "\n",
       "\n",
       "\n"
      ],
      "text/plain": [
       "$a\n",
       "[1] 1 2 3 4 5\n",
       "\n",
       "$b\n",
       " [1] -0.95026003 -1.14036650  0.32145905 -0.05627709  0.11344642 -0.23468176\n",
       " [7]  0.17684138 -0.75237473 -2.80717458 -1.24580479\n"
      ]
     },
     "metadata": {},
     "output_type": "display_data"
    }
   ],
   "source": [
    "x <- list(a=1:5, b=rnorm(10))\n",
    "x"
   ]
  },
  {
   "cell_type": "markdown",
   "metadata": {},
   "source": [
    "#### Compute mean of each element of the list"
   ]
  },
  {
   "cell_type": "code",
   "execution_count": 2,
   "metadata": {},
   "outputs": [
    {
     "data": {
      "text/html": [
       "<dl>\n",
       "\t<dt>$a</dt>\n",
       "\t\t<dd>3</dd>\n",
       "\t<dt>$b</dt>\n",
       "\t\t<dd>-0.657519260803919</dd>\n",
       "</dl>\n"
      ],
      "text/latex": [
       "\\begin{description}\n",
       "\\item[\\$a] 3\n",
       "\\item[\\$b] -0.657519260803919\n",
       "\\end{description}\n"
      ],
      "text/markdown": [
       "$a\n",
       ":   3\n",
       "$b\n",
       ":   -0.657519260803919\n",
       "\n",
       "\n"
      ],
      "text/plain": [
       "$a\n",
       "[1] 3\n",
       "\n",
       "$b\n",
       "[1] -0.6575193\n"
      ]
     },
     "metadata": {},
     "output_type": "display_data"
    }
   ],
   "source": [
    "lapply(x, mean)"
   ]
  },
  {
   "cell_type": "markdown",
   "metadata": {},
   "source": [
    "#### Example 2: With function parameters"
   ]
  },
  {
   "cell_type": "code",
   "execution_count": 3,
   "metadata": {},
   "outputs": [
    {
     "data": {
      "text/html": [
       "<ol>\n",
       "\t<li>0.275996885029599</li>\n",
       "\t<li><ol class=list-inline>\n",
       "\t<li>0.348398684291169</li>\n",
       "\t<li>0.349862350383773</li>\n",
       "</ol>\n",
       "</li>\n",
       "\t<li><ol class=list-inline>\n",
       "\t<li>0.935480721527711</li>\n",
       "\t<li>0.197279848624021</li>\n",
       "\t<li>0.205582107650116</li>\n",
       "</ol>\n",
       "</li>\n",
       "\t<li><ol class=list-inline>\n",
       "\t<li>0.405998346861452</li>\n",
       "\t<li>0.230360525893047</li>\n",
       "\t<li>0.223387032980099</li>\n",
       "\t<li>0.440335955936462</li>\n",
       "</ol>\n",
       "</li>\n",
       "</ol>\n"
      ],
      "text/latex": [
       "\\begin{enumerate}\n",
       "\\item 0.275996885029599\n",
       "\\item \\begin{enumerate*}\n",
       "\\item 0.348398684291169\n",
       "\\item 0.349862350383773\n",
       "\\end{enumerate*}\n",
       "\n",
       "\\item \\begin{enumerate*}\n",
       "\\item 0.935480721527711\n",
       "\\item 0.197279848624021\n",
       "\\item 0.205582107650116\n",
       "\\end{enumerate*}\n",
       "\n",
       "\\item \\begin{enumerate*}\n",
       "\\item 0.405998346861452\n",
       "\\item 0.230360525893047\n",
       "\\item 0.223387032980099\n",
       "\\item 0.440335955936462\n",
       "\\end{enumerate*}\n",
       "\n",
       "\\end{enumerate}\n"
      ],
      "text/markdown": [
       "1. 0.275996885029599\n",
       "2. 1. 0.348398684291169\n",
       "2. 0.349862350383773\n",
       "\n",
       "\n",
       "\n",
       "3. 1. 0.935480721527711\n",
       "2. 0.197279848624021\n",
       "3. 0.205582107650116\n",
       "\n",
       "\n",
       "\n",
       "4. 1. 0.405998346861452\n",
       "2. 0.230360525893047\n",
       "3. 0.223387032980099\n",
       "4. 0.440335955936462\n",
       "\n",
       "\n",
       "\n",
       "\n",
       "\n"
      ],
      "text/plain": [
       "[[1]]\n",
       "[1] 0.2759969\n",
       "\n",
       "[[2]]\n",
       "[1] 0.3483987 0.3498624\n",
       "\n",
       "[[3]]\n",
       "[1] 0.9354807 0.1972798 0.2055821\n",
       "\n",
       "[[4]]\n",
       "[1] 0.4059983 0.2303605 0.2233870 0.4403360\n"
      ]
     },
     "metadata": {},
     "output_type": "display_data"
    }
   ],
   "source": [
    "x <- 1:4\n",
    "new_list <- lapply(x, runif)\n",
    "new_list"
   ]
  },
  {
   "cell_type": "code",
   "execution_count": 4,
   "metadata": {},
   "outputs": [
    {
     "data": {
      "text/html": [
       "'list'"
      ],
      "text/latex": [
       "'list'"
      ],
      "text/markdown": [
       "'list'"
      ],
      "text/plain": [
       "[1] \"list\""
      ]
     },
     "metadata": {},
     "output_type": "display_data"
    }
   ],
   "source": [
    "class(new_list)"
   ]
  },
  {
   "cell_type": "code",
   "execution_count": 5,
   "metadata": {},
   "outputs": [
    {
     "data": {
      "text/html": [
       "<ol>\n",
       "\t<li>7.42894709808752</li>\n",
       "\t<li><ol class=list-inline>\n",
       "\t<li>4.27928739925846</li>\n",
       "\t<li>6.16388296941295</li>\n",
       "</ol>\n",
       "</li>\n",
       "\t<li><ol class=list-inline>\n",
       "\t<li>8.24150605127215</li>\n",
       "\t<li>4.20747596537694</li>\n",
       "\t<li>7.96066517475992</li>\n",
       "</ol>\n",
       "</li>\n",
       "\t<li><ol class=list-inline>\n",
       "\t<li>1.46403586724773</li>\n",
       "\t<li>3.68006236152723</li>\n",
       "\t<li>3.13265894539654</li>\n",
       "\t<li>8.39910976588726</li>\n",
       "</ol>\n",
       "</li>\n",
       "</ol>\n"
      ],
      "text/latex": [
       "\\begin{enumerate}\n",
       "\\item 7.42894709808752\n",
       "\\item \\begin{enumerate*}\n",
       "\\item 4.27928739925846\n",
       "\\item 6.16388296941295\n",
       "\\end{enumerate*}\n",
       "\n",
       "\\item \\begin{enumerate*}\n",
       "\\item 8.24150605127215\n",
       "\\item 4.20747596537694\n",
       "\\item 7.96066517475992\n",
       "\\end{enumerate*}\n",
       "\n",
       "\\item \\begin{enumerate*}\n",
       "\\item 1.46403586724773\n",
       "\\item 3.68006236152723\n",
       "\\item 3.13265894539654\n",
       "\\item 8.39910976588726\n",
       "\\end{enumerate*}\n",
       "\n",
       "\\end{enumerate}\n"
      ],
      "text/markdown": [
       "1. 7.42894709808752\n",
       "2. 1. 4.27928739925846\n",
       "2. 6.16388296941295\n",
       "\n",
       "\n",
       "\n",
       "3. 1. 8.24150605127215\n",
       "2. 4.20747596537694\n",
       "3. 7.96066517475992\n",
       "\n",
       "\n",
       "\n",
       "4. 1. 1.46403586724773\n",
       "2. 3.68006236152723\n",
       "3. 3.13265894539654\n",
       "4. 8.39910976588726\n",
       "\n",
       "\n",
       "\n",
       "\n",
       "\n"
      ],
      "text/plain": [
       "[[1]]\n",
       "[1] 7.428947\n",
       "\n",
       "[[2]]\n",
       "[1] 4.279287 6.163883\n",
       "\n",
       "[[3]]\n",
       "[1] 8.241506 4.207476 7.960665\n",
       "\n",
       "[[4]]\n",
       "[1] 1.464036 3.680062 3.132659 8.399110\n"
      ]
     },
     "metadata": {},
     "output_type": "display_data"
    }
   ],
   "source": [
    "x <- 1:4\n",
    "new_list <- lapply(x, runif, min=0, max=10)\n",
    "new_list"
   ]
  },
  {
   "cell_type": "markdown",
   "metadata": {},
   "source": [
    "#### Example 3: Using anonymous functions to subset a matrix"
   ]
  },
  {
   "cell_type": "code",
   "execution_count": 6,
   "metadata": {},
   "outputs": [
    {
     "data": {
      "text/html": [
       "<dl>\n",
       "\t<dt>$a</dt>\n",
       "\t\t<dd><table>\n",
       "<tbody>\n",
       "\t<tr><td>1</td><td>3</td></tr>\n",
       "\t<tr><td>2</td><td>4</td></tr>\n",
       "</tbody>\n",
       "</table>\n",
       "</dd>\n",
       "\t<dt>$b</dt>\n",
       "\t\t<dd><table>\n",
       "<tbody>\n",
       "\t<tr><td>1</td><td>4</td></tr>\n",
       "\t<tr><td>2</td><td>5</td></tr>\n",
       "\t<tr><td>3</td><td>6</td></tr>\n",
       "</tbody>\n",
       "</table>\n",
       "</dd>\n",
       "</dl>\n"
      ],
      "text/latex": [
       "\\begin{description}\n",
       "\\item[\\$a] \\begin{tabular}{ll}\n",
       "\t 1 & 3\\\\\n",
       "\t 2 & 4\\\\\n",
       "\\end{tabular}\n",
       "\n",
       "\\item[\\$b] \\begin{tabular}{ll}\n",
       "\t 1 & 4\\\\\n",
       "\t 2 & 5\\\\\n",
       "\t 3 & 6\\\\\n",
       "\\end{tabular}\n",
       "\n",
       "\\end{description}\n"
      ],
      "text/markdown": [
       "$a\n",
       ":   \n",
       "| 1 | 3 | \n",
       "| 2 | 4 | \n",
       "\n",
       "\n",
       "\n",
       "$b\n",
       ":   \n",
       "| 1 | 4 | \n",
       "| 2 | 5 | \n",
       "| 3 | 6 | \n",
       "\n",
       "\n",
       "\n",
       "\n",
       "\n"
      ],
      "text/plain": [
       "$a\n",
       "     [,1] [,2]\n",
       "[1,]    1    3\n",
       "[2,]    2    4\n",
       "\n",
       "$b\n",
       "     [,1] [,2]\n",
       "[1,]    1    4\n",
       "[2,]    2    5\n",
       "[3,]    3    6\n"
      ]
     },
     "metadata": {},
     "output_type": "display_data"
    }
   ],
   "source": [
    "x <- list(a=matrix(1:4,2,2), b=matrix(1:6,3,2))\n",
    "x"
   ]
  },
  {
   "cell_type": "code",
   "execution_count": 7,
   "metadata": {},
   "outputs": [
    {
     "data": {
      "text/html": [
       "<dl>\n",
       "\t<dt>$a</dt>\n",
       "\t\t<dd><ol class=list-inline>\n",
       "\t<li>1</li>\n",
       "\t<li>2</li>\n",
       "</ol>\n",
       "</dd>\n",
       "\t<dt>$b</dt>\n",
       "\t\t<dd><ol class=list-inline>\n",
       "\t<li>1</li>\n",
       "\t<li>2</li>\n",
       "\t<li>3</li>\n",
       "</ol>\n",
       "</dd>\n",
       "</dl>\n"
      ],
      "text/latex": [
       "\\begin{description}\n",
       "\\item[\\$a] \\begin{enumerate*}\n",
       "\\item 1\n",
       "\\item 2\n",
       "\\end{enumerate*}\n",
       "\n",
       "\\item[\\$b] \\begin{enumerate*}\n",
       "\\item 1\n",
       "\\item 2\n",
       "\\item 3\n",
       "\\end{enumerate*}\n",
       "\n",
       "\\end{description}\n"
      ],
      "text/markdown": [
       "$a\n",
       ":   1. 1\n",
       "2. 2\n",
       "\n",
       "\n",
       "\n",
       "$b\n",
       ":   1. 1\n",
       "2. 2\n",
       "3. 3\n",
       "\n",
       "\n",
       "\n",
       "\n",
       "\n"
      ],
      "text/plain": [
       "$a\n",
       "[1] 1 2\n",
       "\n",
       "$b\n",
       "[1] 1 2 3\n"
      ]
     },
     "metadata": {},
     "output_type": "display_data"
    }
   ],
   "source": [
    "#Extract 1st column\n",
    "lapply(x, function(m) m[,1])"
   ]
  },
  {
   "cell_type": "markdown",
   "metadata": {
    "collapsed": true
   },
   "source": [
    "## sapply\n",
    "- Will try to simplify results of lapply\n",
    "- will coerce into a vector if the result is a list where each element is of length 1\n",
    "- Returns matrix if every element is a vector of the same length greater than 1\n",
    "- Returns list otherwise"
   ]
  },
  {
   "cell_type": "markdown",
   "metadata": {},
   "source": [
    "#### Example 1: Returning a vector"
   ]
  },
  {
   "cell_type": "code",
   "execution_count": 8,
   "metadata": {
    "collapsed": true
   },
   "outputs": [],
   "source": [
    "x <- list(a=1:4, b=rnorm(10), c=rnorm(20,1), d=rnorm(100,5))"
   ]
  },
  {
   "cell_type": "code",
   "execution_count": 9,
   "metadata": {},
   "outputs": [
    {
     "data": {
      "text/html": [
       "<dl>\n",
       "\t<dt>$a</dt>\n",
       "\t\t<dd>2.5</dd>\n",
       "\t<dt>$b</dt>\n",
       "\t\t<dd>0.0799501559852168</dd>\n",
       "\t<dt>$c</dt>\n",
       "\t\t<dd>1.05198994126465</dd>\n",
       "\t<dt>$d</dt>\n",
       "\t\t<dd>4.96004808672295</dd>\n",
       "</dl>\n"
      ],
      "text/latex": [
       "\\begin{description}\n",
       "\\item[\\$a] 2.5\n",
       "\\item[\\$b] 0.0799501559852168\n",
       "\\item[\\$c] 1.05198994126465\n",
       "\\item[\\$d] 4.96004808672295\n",
       "\\end{description}\n"
      ],
      "text/markdown": [
       "$a\n",
       ":   2.5\n",
       "$b\n",
       ":   0.0799501559852168\n",
       "$c\n",
       ":   1.05198994126465\n",
       "$d\n",
       ":   4.96004808672295\n",
       "\n",
       "\n"
      ],
      "text/plain": [
       "$a\n",
       "[1] 2.5\n",
       "\n",
       "$b\n",
       "[1] 0.07995016\n",
       "\n",
       "$c\n",
       "[1] 1.05199\n",
       "\n",
       "$d\n",
       "[1] 4.960048\n"
      ]
     },
     "metadata": {},
     "output_type": "display_data"
    }
   ],
   "source": [
    "result <- lapply(x, mean)\n",
    "result"
   ]
  },
  {
   "cell_type": "code",
   "execution_count": 10,
   "metadata": {},
   "outputs": [
    {
     "data": {
      "text/html": [
       "<dl class=dl-horizontal>\n",
       "\t<dt>a</dt>\n",
       "\t\t<dd>2.5</dd>\n",
       "\t<dt>b</dt>\n",
       "\t\t<dd>0.0799501559852168</dd>\n",
       "\t<dt>c</dt>\n",
       "\t\t<dd>1.05198994126465</dd>\n",
       "\t<dt>d</dt>\n",
       "\t\t<dd>4.96004808672295</dd>\n",
       "</dl>\n"
      ],
      "text/latex": [
       "\\begin{description*}\n",
       "\\item[a] 2.5\n",
       "\\item[b] 0.0799501559852168\n",
       "\\item[c] 1.05198994126465\n",
       "\\item[d] 4.96004808672295\n",
       "\\end{description*}\n"
      ],
      "text/markdown": [
       "a\n",
       ":   2.5b\n",
       ":   0.0799501559852168c\n",
       ":   1.05198994126465d\n",
       ":   4.96004808672295\n",
       "\n"
      ],
      "text/plain": [
       "         a          b          c          d \n",
       "2.50000000 0.07995016 1.05198994 4.96004809 "
      ]
     },
     "metadata": {},
     "output_type": "display_data"
    }
   ],
   "source": [
    "result <- sapply(x, mean)\n",
    "result"
   ]
  },
  {
   "cell_type": "code",
   "execution_count": 11,
   "metadata": {},
   "outputs": [
    {
     "data": {
      "text/html": [
       "'numeric'"
      ],
      "text/latex": [
       "'numeric'"
      ],
      "text/markdown": [
       "'numeric'"
      ],
      "text/plain": [
       "[1] \"numeric\""
      ]
     },
     "metadata": {},
     "output_type": "display_data"
    }
   ],
   "source": [
    "class(result)"
   ]
  },
  {
   "cell_type": "markdown",
   "metadata": {},
   "source": [
    "#### Example 2: Returning a matrix\n",
    "- column wise"
   ]
  },
  {
   "cell_type": "code",
   "execution_count": 12,
   "metadata": {},
   "outputs": [
    {
     "data": {
      "text/html": [
       "<ol>\n",
       "\t<li><ol class=list-inline>\n",
       "\t<li>-0.475672105696238</li>\n",
       "\t<li>-0.518720989081233</li>\n",
       "\t<li>-0.250003347792992</li>\n",
       "\t<li>0.718088095067423</li>\n",
       "</ol>\n",
       "</li>\n",
       "\t<li><ol class=list-inline>\n",
       "\t<li>5.59920670534484</li>\n",
       "\t<li>5.66856272239238</li>\n",
       "\t<li>5.90726661356166</li>\n",
       "\t<li>5.83438469446264</li>\n",
       "</ol>\n",
       "</li>\n",
       "</ol>\n"
      ],
      "text/latex": [
       "\\begin{enumerate}\n",
       "\\item \\begin{enumerate*}\n",
       "\\item -0.475672105696238\n",
       "\\item -0.518720989081233\n",
       "\\item -0.250003347792992\n",
       "\\item 0.718088095067423\n",
       "\\end{enumerate*}\n",
       "\n",
       "\\item \\begin{enumerate*}\n",
       "\\item 5.59920670534484\n",
       "\\item 5.66856272239238\n",
       "\\item 5.90726661356166\n",
       "\\item 5.83438469446264\n",
       "\\end{enumerate*}\n",
       "\n",
       "\\end{enumerate}\n"
      ],
      "text/markdown": [
       "1. 1. -0.475672105696238\n",
       "2. -0.518720989081233\n",
       "3. -0.250003347792992\n",
       "4. 0.718088095067423\n",
       "\n",
       "\n",
       "\n",
       "2. 1. 5.59920670534484\n",
       "2. 5.66856272239238\n",
       "3. 5.90726661356166\n",
       "4. 5.83438469446264\n",
       "\n",
       "\n",
       "\n",
       "\n",
       "\n"
      ],
      "text/plain": [
       "[[1]]\n",
       "[1] -0.4756721 -0.5187210 -0.2500033  0.7180881\n",
       "\n",
       "[[2]]\n",
       "[1] 5.599207 5.668563 5.907267 5.834385\n"
      ]
     },
     "metadata": {},
     "output_type": "display_data"
    }
   ],
   "source": [
    "x <- list(rnorm(4), runif(4,min=5, max=6))\n",
    "x"
   ]
  },
  {
   "cell_type": "code",
   "execution_count": 13,
   "metadata": {},
   "outputs": [
    {
     "name": "stdout",
     "output_type": "stream",
     "text": [
      "           [,1]     [,2]\n",
      "[1,] -0.4756721 5.599207\n",
      "[2,] -0.5187210 5.668563\n",
      "[3,] -0.2500033 5.907267\n",
      "[4,]  0.7180881 5.834385\n"
     ]
    }
   ],
   "source": [
    "result <- sapply(x, function(elem) elem)\n",
    "print(result)"
   ]
  },
  {
   "cell_type": "markdown",
   "metadata": {},
   "source": [
    "## apply\n",
    "- Can be used to apply a function to the rows and columns of the matrix\n",
    "- margin: 1 is for columns (across rows), 2 for rows (across columns)"
   ]
  },
  {
   "cell_type": "code",
   "execution_count": 14,
   "metadata": {},
   "outputs": [
    {
     "name": "stdout",
     "output_type": "stream",
     "text": [
      "function (X, MARGIN, FUN, ...)  \n"
     ]
    }
   ],
   "source": [
    "str(apply)"
   ]
  },
  {
   "cell_type": "code",
   "execution_count": 15,
   "metadata": {},
   "outputs": [
    {
     "data": {
      "text/html": [
       "<table>\n",
       "<tbody>\n",
       "\t<tr><td> 0.5162986 </td><td>-0.2826330 </td><td>-1.6445688 </td><td> 0.3130639 </td><td>-0.72670443</td><td>-0.63948173</td><td>-0.69175643</td><td>-1.3728104 </td><td>-1.0816178 </td><td> 0.4064905 </td></tr>\n",
       "\t<tr><td>-0.1271013 </td><td> 2.0511788 </td><td>-0.1713035 </td><td> 0.8280269 </td><td> 0.43234682</td><td> 0.02922295</td><td>-0.34451577</td><td> 0.2273051 </td><td>-0.6727672 </td><td>-0.1523613 </td></tr>\n",
       "\t<tr><td> 0.4625589 </td><td>-0.9307099 </td><td>-0.7934769 </td><td>-1.0540611 </td><td> 0.03609792</td><td>-0.44226092</td><td>-1.04704715</td><td> 1.5124678 </td><td>-0.5914131 </td><td> 1.3226529 </td></tr>\n",
       "\t<tr><td> 1.5394236 </td><td> 1.8195162 </td><td>-1.4970269 </td><td>-0.6411848 </td><td> 0.98814995</td><td> 0.52303809</td><td> 0.88377157</td><td>-0.1959525 </td><td>-1.3353139 </td><td>-2.2419094 </td></tr>\n",
       "\t<tr><td>-0.6268383 </td><td> 0.8368587 </td><td>-0.9105251 </td><td>-0.3001891 </td><td>-1.38040746</td><td>-0.40743874</td><td> 0.03236875</td><td> 1.8716447 </td><td> 1.3140836 </td><td>-0.3726316 </td></tr>\n",
       "</tbody>\n",
       "</table>\n"
      ],
      "text/latex": [
       "\\begin{tabular}{llllllllll}\n",
       "\t  0.5162986  & -0.2826330  & -1.6445688  &  0.3130639  & -0.72670443 & -0.63948173 & -0.69175643 & -1.3728104  & -1.0816178  &  0.4064905 \\\\\n",
       "\t -0.1271013  &  2.0511788  & -0.1713035  &  0.8280269  &  0.43234682 &  0.02922295 & -0.34451577 &  0.2273051  & -0.6727672  & -0.1523613 \\\\\n",
       "\t  0.4625589  & -0.9307099  & -0.7934769  & -1.0540611  &  0.03609792 & -0.44226092 & -1.04704715 &  1.5124678  & -0.5914131  &  1.3226529 \\\\\n",
       "\t  1.5394236  &  1.8195162  & -1.4970269  & -0.6411848  &  0.98814995 &  0.52303809 &  0.88377157 & -0.1959525  & -1.3353139  & -2.2419094 \\\\\n",
       "\t -0.6268383  &  0.8368587  & -0.9105251  & -0.3001891  & -1.38040746 & -0.40743874 &  0.03236875 &  1.8716447  &  1.3140836  & -0.3726316 \\\\\n",
       "\\end{tabular}\n"
      ],
      "text/markdown": [
       "\n",
       "|  0.5162986  | -0.2826330  | -1.6445688  |  0.3130639  | -0.72670443 | -0.63948173 | -0.69175643 | -1.3728104  | -1.0816178  |  0.4064905  | \n",
       "| -0.1271013  |  2.0511788  | -0.1713035  |  0.8280269  |  0.43234682 |  0.02922295 | -0.34451577 |  0.2273051  | -0.6727672  | -0.1523613  | \n",
       "|  0.4625589  | -0.9307099  | -0.7934769  | -1.0540611  |  0.03609792 | -0.44226092 | -1.04704715 |  1.5124678  | -0.5914131  |  1.3226529  | \n",
       "|  1.5394236  |  1.8195162  | -1.4970269  | -0.6411848  |  0.98814995 |  0.52303809 |  0.88377157 | -0.1959525  | -1.3353139  | -2.2419094  | \n",
       "| -0.6268383  |  0.8368587  | -0.9105251  | -0.3001891  | -1.38040746 | -0.40743874 |  0.03236875 |  1.8716447  |  1.3140836  | -0.3726316  | \n",
       "\n",
       "\n"
      ],
      "text/plain": [
       "     [,1]       [,2]       [,3]       [,4]       [,5]        [,6]       \n",
       "[1,]  0.5162986 -0.2826330 -1.6445688  0.3130639 -0.72670443 -0.63948173\n",
       "[2,] -0.1271013  2.0511788 -0.1713035  0.8280269  0.43234682  0.02922295\n",
       "[3,]  0.4625589 -0.9307099 -0.7934769 -1.0540611  0.03609792 -0.44226092\n",
       "[4,]  1.5394236  1.8195162 -1.4970269 -0.6411848  0.98814995  0.52303809\n",
       "[5,] -0.6268383  0.8368587 -0.9105251 -0.3001891 -1.38040746 -0.40743874\n",
       "     [,7]        [,8]       [,9]       [,10]     \n",
       "[1,] -0.69175643 -1.3728104 -1.0816178  0.4064905\n",
       "[2,] -0.34451577  0.2273051 -0.6727672 -0.1523613\n",
       "[3,] -1.04704715  1.5124678 -0.5914131  1.3226529\n",
       "[4,]  0.88377157 -0.1959525 -1.3353139 -2.2419094\n",
       "[5,]  0.03236875  1.8716447  1.3140836 -0.3726316"
      ]
     },
     "metadata": {},
     "output_type": "display_data"
    }
   ],
   "source": [
    "x <- matrix(rnorm(200), 5, 10)\n",
    "x"
   ]
  },
  {
   "cell_type": "markdown",
   "metadata": {},
   "source": [
    "#### Sum of the columns (adding all rows)\n",
    "- Can also use built-in rowSums() and rowMeans() functions"
   ]
  },
  {
   "cell_type": "code",
   "execution_count": 16,
   "metadata": {},
   "outputs": [
    {
     "data": {
      "text/html": [
       "<ol class=list-inline>\n",
       "\t<li>-5.20371956477015</li>\n",
       "\t<li>2.10003150565495</li>\n",
       "\t<li>-1.52519149873854</li>\n",
       "\t<li>-0.157488009490588</li>\n",
       "\t<li>0.0569253007193201</li>\n",
       "</ol>\n"
      ],
      "text/latex": [
       "\\begin{enumerate*}\n",
       "\\item -5.20371956477015\n",
       "\\item 2.10003150565495\n",
       "\\item -1.52519149873854\n",
       "\\item -0.157488009490588\n",
       "\\item 0.0569253007193201\n",
       "\\end{enumerate*}\n"
      ],
      "text/markdown": [
       "1. -5.20371956477015\n",
       "2. 2.10003150565495\n",
       "3. -1.52519149873854\n",
       "4. -0.157488009490588\n",
       "5. 0.0569253007193201\n",
       "\n",
       "\n"
      ],
      "text/plain": [
       "[1] -5.2037196  2.1000315 -1.5251915 -0.1574880  0.0569253"
      ]
     },
     "metadata": {},
     "output_type": "display_data"
    }
   ],
   "source": [
    "apply(x, 1, sum)"
   ]
  },
  {
   "cell_type": "code",
   "execution_count": 17,
   "metadata": {},
   "outputs": [
    {
     "data": {
      "text/html": [
       "<ol class=list-inline>\n",
       "\t<li>-5.20371956477015</li>\n",
       "\t<li>2.10003150565495</li>\n",
       "\t<li>-1.52519149873854</li>\n",
       "\t<li>-0.157488009490588</li>\n",
       "\t<li>0.0569253007193201</li>\n",
       "</ol>\n"
      ],
      "text/latex": [
       "\\begin{enumerate*}\n",
       "\\item -5.20371956477015\n",
       "\\item 2.10003150565495\n",
       "\\item -1.52519149873854\n",
       "\\item -0.157488009490588\n",
       "\\item 0.0569253007193201\n",
       "\\end{enumerate*}\n"
      ],
      "text/markdown": [
       "1. -5.20371956477015\n",
       "2. 2.10003150565495\n",
       "3. -1.52519149873854\n",
       "4. -0.157488009490588\n",
       "5. 0.0569253007193201\n",
       "\n",
       "\n"
      ],
      "text/plain": [
       "[1] -5.2037196  2.1000315 -1.5251915 -0.1574880  0.0569253"
      ]
     },
     "metadata": {},
     "output_type": "display_data"
    }
   ],
   "source": [
    "rowSums(x)"
   ]
  },
  {
   "cell_type": "markdown",
   "metadata": {},
   "source": [
    "#### Sum of the rows (adding all columns)\n",
    "- Can also use built-in colSums() and colMeans() functions"
   ]
  },
  {
   "cell_type": "code",
   "execution_count": 18,
   "metadata": {},
   "outputs": [
    {
     "data": {
      "text/html": [
       "<ol class=list-inline>\n",
       "\t<li>1.76434142195316</li>\n",
       "\t<li>3.49421082806777</li>\n",
       "\t<li>-5.01690108191542</li>\n",
       "\t<li>-0.854344267246377</li>\n",
       "\t<li>-0.650517196132365</li>\n",
       "\t<li>-0.936920343085454</li>\n",
       "\t<li>-1.16717902878232</li>\n",
       "\t<li>2.04265468212547</li>\n",
       "\t<li>-2.36702842012392</li>\n",
       "\t<li>-1.03775886148554</li>\n",
       "</ol>\n"
      ],
      "text/latex": [
       "\\begin{enumerate*}\n",
       "\\item 1.76434142195316\n",
       "\\item 3.49421082806777\n",
       "\\item -5.01690108191542\n",
       "\\item -0.854344267246377\n",
       "\\item -0.650517196132365\n",
       "\\item -0.936920343085454\n",
       "\\item -1.16717902878232\n",
       "\\item 2.04265468212547\n",
       "\\item -2.36702842012392\n",
       "\\item -1.03775886148554\n",
       "\\end{enumerate*}\n"
      ],
      "text/markdown": [
       "1. 1.76434142195316\n",
       "2. 3.49421082806777\n",
       "3. -5.01690108191542\n",
       "4. -0.854344267246377\n",
       "5. -0.650517196132365\n",
       "6. -0.936920343085454\n",
       "7. -1.16717902878232\n",
       "8. 2.04265468212547\n",
       "9. -2.36702842012392\n",
       "10. -1.03775886148554\n",
       "\n",
       "\n"
      ],
      "text/plain": [
       " [1]  1.7643414  3.4942108 -5.0169011 -0.8543443 -0.6505172 -0.9369203\n",
       " [7] -1.1671790  2.0426547 -2.3670284 -1.0377589"
      ]
     },
     "metadata": {},
     "output_type": "display_data"
    }
   ],
   "source": [
    "apply(x, 2, sum)"
   ]
  },
  {
   "cell_type": "code",
   "execution_count": 19,
   "metadata": {},
   "outputs": [
    {
     "data": {
      "text/html": [
       "<ol class=list-inline>\n",
       "\t<li>1.76434142195316</li>\n",
       "\t<li>3.49421082806777</li>\n",
       "\t<li>-5.01690108191542</li>\n",
       "\t<li>-0.854344267246377</li>\n",
       "\t<li>-0.650517196132365</li>\n",
       "\t<li>-0.936920343085454</li>\n",
       "\t<li>-1.16717902878232</li>\n",
       "\t<li>2.04265468212547</li>\n",
       "\t<li>-2.36702842012392</li>\n",
       "\t<li>-1.03775886148554</li>\n",
       "</ol>\n"
      ],
      "text/latex": [
       "\\begin{enumerate*}\n",
       "\\item 1.76434142195316\n",
       "\\item 3.49421082806777\n",
       "\\item -5.01690108191542\n",
       "\\item -0.854344267246377\n",
       "\\item -0.650517196132365\n",
       "\\item -0.936920343085454\n",
       "\\item -1.16717902878232\n",
       "\\item 2.04265468212547\n",
       "\\item -2.36702842012392\n",
       "\\item -1.03775886148554\n",
       "\\end{enumerate*}\n"
      ],
      "text/markdown": [
       "1. 1.76434142195316\n",
       "2. 3.49421082806777\n",
       "3. -5.01690108191542\n",
       "4. -0.854344267246377\n",
       "5. -0.650517196132365\n",
       "6. -0.936920343085454\n",
       "7. -1.16717902878232\n",
       "8. 2.04265468212547\n",
       "9. -2.36702842012392\n",
       "10. -1.03775886148554\n",
       "\n",
       "\n"
      ],
      "text/plain": [
       " [1]  1.7643414  3.4942108 -5.0169011 -0.8543443 -0.6505172 -0.9369203\n",
       " [7] -1.1671790  2.0426547 -2.3670284 -1.0377589"
      ]
     },
     "metadata": {},
     "output_type": "display_data"
    }
   ],
   "source": [
    "colSums(x)"
   ]
  }
 ],
 "metadata": {
  "kernelspec": {
   "display_name": "R",
   "language": "R",
   "name": "ir"
  },
  "language_info": {
   "codemirror_mode": "r",
   "file_extension": ".r",
   "mimetype": "text/x-r-source",
   "name": "R",
   "pygments_lexer": "r",
   "version": "3.4.1"
  }
 },
 "nbformat": 4,
 "nbformat_minor": 2
}
