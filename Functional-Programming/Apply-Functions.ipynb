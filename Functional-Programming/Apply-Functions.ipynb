{
 "cells": [
  {
   "cell_type": "markdown",
   "metadata": {},
   "source": [
    "# Apply Functions:\n",
    "- lapply: Loop over a list and evaluate a function on each element (returns a list)\n",
    "- sapply: Same as lapply but try to simplify the result (returns a vector if possible)\n",
    "- apply: Apply a function over the margins of an array\n",
    "- tapply: Apply a function over subsets of a vector\n",
    "- mapply: Multivariate version of lapply"
   ]
  },
  {
   "cell_type": "markdown",
   "metadata": {},
   "source": [
    "## lapply:\n",
    "- 3 arguments: list, function to be applied, arguments for the function\n",
    "- If not list, will be coerced into a list\n",
    "- Always returns a list"
   ]
  },
  {
   "cell_type": "markdown",
   "metadata": {},
   "source": [
    "#### Example 1:"
   ]
  },
  {
   "cell_type": "code",
   "execution_count": 3,
   "metadata": {},
   "outputs": [
    {
     "data": {
      "text/html": [
       "<dl>\n",
       "\t<dt>$a</dt>\n",
       "\t\t<dd><ol class=list-inline>\n",
       "\t<li>1</li>\n",
       "\t<li>2</li>\n",
       "\t<li>3</li>\n",
       "\t<li>4</li>\n",
       "\t<li>5</li>\n",
       "</ol>\n",
       "</dd>\n",
       "\t<dt>$b</dt>\n",
       "\t\t<dd><ol class=list-inline>\n",
       "\t<li>1.70532247518124</li>\n",
       "\t<li>0.893960878031528</li>\n",
       "\t<li>0.701268570377055</li>\n",
       "\t<li>0.961120314680602</li>\n",
       "\t<li>0.230898168565083</li>\n",
       "\t<li>1.0477315861339</li>\n",
       "\t<li>-0.126292219476552</li>\n",
       "\t<li>1.01113868925573</li>\n",
       "\t<li>0.17143185567711</li>\n",
       "\t<li>1.30381183156707</li>\n",
       "</ol>\n",
       "</dd>\n",
       "</dl>\n"
      ],
      "text/latex": [
       "\\begin{description}\n",
       "\\item[\\$a] \\begin{enumerate*}\n",
       "\\item 1\n",
       "\\item 2\n",
       "\\item 3\n",
       "\\item 4\n",
       "\\item 5\n",
       "\\end{enumerate*}\n",
       "\n",
       "\\item[\\$b] \\begin{enumerate*}\n",
       "\\item 1.70532247518124\n",
       "\\item 0.893960878031528\n",
       "\\item 0.701268570377055\n",
       "\\item 0.961120314680602\n",
       "\\item 0.230898168565083\n",
       "\\item 1.0477315861339\n",
       "\\item -0.126292219476552\n",
       "\\item 1.01113868925573\n",
       "\\item 0.17143185567711\n",
       "\\item 1.30381183156707\n",
       "\\end{enumerate*}\n",
       "\n",
       "\\end{description}\n"
      ],
      "text/markdown": [
       "$a\n",
       ":   1. 1\n",
       "2. 2\n",
       "3. 3\n",
       "4. 4\n",
       "5. 5\n",
       "\n",
       "\n",
       "\n",
       "$b\n",
       ":   1. 1.70532247518124\n",
       "2. 0.893960878031528\n",
       "3. 0.701268570377055\n",
       "4. 0.961120314680602\n",
       "5. 0.230898168565083\n",
       "6. 1.0477315861339\n",
       "7. -0.126292219476552\n",
       "8. 1.01113868925573\n",
       "9. 0.17143185567711\n",
       "10. 1.30381183156707\n",
       "\n",
       "\n",
       "\n",
       "\n",
       "\n"
      ],
      "text/plain": [
       "$a\n",
       "[1] 1 2 3 4 5\n",
       "\n",
       "$b\n",
       " [1]  1.7053225  0.8939609  0.7012686  0.9611203  0.2308982  1.0477316\n",
       " [7] -0.1262922  1.0111387  0.1714319  1.3038118\n"
      ]
     },
     "metadata": {},
     "output_type": "display_data"
    }
   ],
   "source": [
    "x <- list(a=1:5, b=rnorm(10))\n",
    "x"
   ]
  },
  {
   "cell_type": "markdown",
   "metadata": {},
   "source": [
    "#### Compute mean of each element of the list"
   ]
  },
  {
   "cell_type": "code",
   "execution_count": 4,
   "metadata": {},
   "outputs": [
    {
     "data": {
      "text/html": [
       "<dl>\n",
       "\t<dt>$a</dt>\n",
       "\t\t<dd>3</dd>\n",
       "\t<dt>$b</dt>\n",
       "\t\t<dd>0.790039214999276</dd>\n",
       "</dl>\n"
      ],
      "text/latex": [
       "\\begin{description}\n",
       "\\item[\\$a] 3\n",
       "\\item[\\$b] 0.790039214999276\n",
       "\\end{description}\n"
      ],
      "text/markdown": [
       "$a\n",
       ":   3\n",
       "$b\n",
       ":   0.790039214999276\n",
       "\n",
       "\n"
      ],
      "text/plain": [
       "$a\n",
       "[1] 3\n",
       "\n",
       "$b\n",
       "[1] 0.7900392\n"
      ]
     },
     "metadata": {},
     "output_type": "display_data"
    }
   ],
   "source": [
    "lapply(x, mean)"
   ]
  },
  {
   "cell_type": "markdown",
   "metadata": {},
   "source": [
    "#### Example 2: With function parameters"
   ]
  },
  {
   "cell_type": "code",
   "execution_count": 28,
   "metadata": {},
   "outputs": [
    {
     "data": {
      "text/html": [
       "<ol>\n",
       "\t<li>0.120288657490164</li>\n",
       "\t<li><ol class=list-inline>\n",
       "\t<li>0.796244287397712</li>\n",
       "\t<li>0.872476327931508</li>\n",
       "</ol>\n",
       "</li>\n",
       "\t<li><ol class=list-inline>\n",
       "\t<li>0.51735736313276</li>\n",
       "\t<li>0.332367790862918</li>\n",
       "\t<li>0.0845030162017792</li>\n",
       "</ol>\n",
       "</li>\n",
       "\t<li><ol class=list-inline>\n",
       "\t<li>0.695913723437116</li>\n",
       "\t<li>0.165606568334624</li>\n",
       "\t<li>0.801031093578786</li>\n",
       "\t<li>0.859762242296711</li>\n",
       "</ol>\n",
       "</li>\n",
       "</ol>\n"
      ],
      "text/latex": [
       "\\begin{enumerate}\n",
       "\\item 0.120288657490164\n",
       "\\item \\begin{enumerate*}\n",
       "\\item 0.796244287397712\n",
       "\\item 0.872476327931508\n",
       "\\end{enumerate*}\n",
       "\n",
       "\\item \\begin{enumerate*}\n",
       "\\item 0.51735736313276\n",
       "\\item 0.332367790862918\n",
       "\\item 0.0845030162017792\n",
       "\\end{enumerate*}\n",
       "\n",
       "\\item \\begin{enumerate*}\n",
       "\\item 0.695913723437116\n",
       "\\item 0.165606568334624\n",
       "\\item 0.801031093578786\n",
       "\\item 0.859762242296711\n",
       "\\end{enumerate*}\n",
       "\n",
       "\\end{enumerate}\n"
      ],
      "text/markdown": [
       "1. 0.120288657490164\n",
       "2. 1. 0.796244287397712\n",
       "2. 0.872476327931508\n",
       "\n",
       "\n",
       "\n",
       "3. 1. 0.51735736313276\n",
       "2. 0.332367790862918\n",
       "3. 0.0845030162017792\n",
       "\n",
       "\n",
       "\n",
       "4. 1. 0.695913723437116\n",
       "2. 0.165606568334624\n",
       "3. 0.801031093578786\n",
       "4. 0.859762242296711\n",
       "\n",
       "\n",
       "\n",
       "\n",
       "\n"
      ],
      "text/plain": [
       "[[1]]\n",
       "[1] 0.1202887\n",
       "\n",
       "[[2]]\n",
       "[1] 0.7962443 0.8724763\n",
       "\n",
       "[[3]]\n",
       "[1] 0.51735736 0.33236779 0.08450302\n",
       "\n",
       "[[4]]\n",
       "[1] 0.6959137 0.1656066 0.8010311 0.8597622\n"
      ]
     },
     "metadata": {},
     "output_type": "display_data"
    }
   ],
   "source": [
    "x <- 1:4\n",
    "new_list <- lapply(x, runif)\n",
    "new_list"
   ]
  },
  {
   "cell_type": "code",
   "execution_count": 29,
   "metadata": {},
   "outputs": [
    {
     "data": {
      "text/html": [
       "'list'"
      ],
      "text/latex": [
       "'list'"
      ],
      "text/markdown": [
       "'list'"
      ],
      "text/plain": [
       "[1] \"list\""
      ]
     },
     "metadata": {},
     "output_type": "display_data"
    }
   ],
   "source": [
    "class(new_list)"
   ]
  },
  {
   "cell_type": "code",
   "execution_count": 31,
   "metadata": {},
   "outputs": [
    {
     "data": {
      "text/html": [
       "<ol>\n",
       "\t<li>7.72621822310612</li>\n",
       "\t<li><ol class=list-inline>\n",
       "\t<li>5.85548005066812</li>\n",
       "\t<li>9.71522761974484</li>\n",
       "</ol>\n",
       "</li>\n",
       "\t<li><ol class=list-inline>\n",
       "\t<li>9.21271553263068</li>\n",
       "\t<li>3.27525791479275</li>\n",
       "\t<li>6.49373346241191</li>\n",
       "</ol>\n",
       "</li>\n",
       "\t<li><ol class=list-inline>\n",
       "\t<li>2.30523144593462</li>\n",
       "\t<li>0.0193570926785469</li>\n",
       "\t<li>3.45246033044532</li>\n",
       "\t<li>8.76167857786641</li>\n",
       "</ol>\n",
       "</li>\n",
       "</ol>\n"
      ],
      "text/latex": [
       "\\begin{enumerate}\n",
       "\\item 7.72621822310612\n",
       "\\item \\begin{enumerate*}\n",
       "\\item 5.85548005066812\n",
       "\\item 9.71522761974484\n",
       "\\end{enumerate*}\n",
       "\n",
       "\\item \\begin{enumerate*}\n",
       "\\item 9.21271553263068\n",
       "\\item 3.27525791479275\n",
       "\\item 6.49373346241191\n",
       "\\end{enumerate*}\n",
       "\n",
       "\\item \\begin{enumerate*}\n",
       "\\item 2.30523144593462\n",
       "\\item 0.0193570926785469\n",
       "\\item 3.45246033044532\n",
       "\\item 8.76167857786641\n",
       "\\end{enumerate*}\n",
       "\n",
       "\\end{enumerate}\n"
      ],
      "text/markdown": [
       "1. 7.72621822310612\n",
       "2. 1. 5.85548005066812\n",
       "2. 9.71522761974484\n",
       "\n",
       "\n",
       "\n",
       "3. 1. 9.21271553263068\n",
       "2. 3.27525791479275\n",
       "3. 6.49373346241191\n",
       "\n",
       "\n",
       "\n",
       "4. 1. 2.30523144593462\n",
       "2. 0.0193570926785469\n",
       "3. 3.45246033044532\n",
       "4. 8.76167857786641\n",
       "\n",
       "\n",
       "\n",
       "\n",
       "\n"
      ],
      "text/plain": [
       "[[1]]\n",
       "[1] 7.726218\n",
       "\n",
       "[[2]]\n",
       "[1] 5.855480 9.715228\n",
       "\n",
       "[[3]]\n",
       "[1] 9.212716 3.275258 6.493733\n",
       "\n",
       "[[4]]\n",
       "[1] 2.30523145 0.01935709 3.45246033 8.76167858\n"
      ]
     },
     "metadata": {},
     "output_type": "display_data"
    }
   ],
   "source": [
    "x <- 1:4\n",
    "new_list <- lapply(x, runif, min=0, max=10)\n",
    "new_list"
   ]
  },
  {
   "cell_type": "markdown",
   "metadata": {},
   "source": [
    "#### Example 3: Using anonymous functions to subset a matrix"
   ]
  },
  {
   "cell_type": "code",
   "execution_count": 32,
   "metadata": {},
   "outputs": [
    {
     "data": {
      "text/html": [
       "<dl>\n",
       "\t<dt>$a</dt>\n",
       "\t\t<dd><table>\n",
       "<tbody>\n",
       "\t<tr><td>1</td><td>3</td></tr>\n",
       "\t<tr><td>2</td><td>4</td></tr>\n",
       "</tbody>\n",
       "</table>\n",
       "</dd>\n",
       "\t<dt>$b</dt>\n",
       "\t\t<dd><table>\n",
       "<tbody>\n",
       "\t<tr><td>1</td><td>4</td></tr>\n",
       "\t<tr><td>2</td><td>5</td></tr>\n",
       "\t<tr><td>3</td><td>6</td></tr>\n",
       "</tbody>\n",
       "</table>\n",
       "</dd>\n",
       "</dl>\n"
      ],
      "text/latex": [
       "\\begin{description}\n",
       "\\item[\\$a] \\begin{tabular}{ll}\n",
       "\t 1 & 3\\\\\n",
       "\t 2 & 4\\\\\n",
       "\\end{tabular}\n",
       "\n",
       "\\item[\\$b] \\begin{tabular}{ll}\n",
       "\t 1 & 4\\\\\n",
       "\t 2 & 5\\\\\n",
       "\t 3 & 6\\\\\n",
       "\\end{tabular}\n",
       "\n",
       "\\end{description}\n"
      ],
      "text/markdown": [
       "$a\n",
       ":   \n",
       "| 1 | 3 | \n",
       "| 2 | 4 | \n",
       "\n",
       "\n",
       "\n",
       "$b\n",
       ":   \n",
       "| 1 | 4 | \n",
       "| 2 | 5 | \n",
       "| 3 | 6 | \n",
       "\n",
       "\n",
       "\n",
       "\n",
       "\n"
      ],
      "text/plain": [
       "$a\n",
       "     [,1] [,2]\n",
       "[1,]    1    3\n",
       "[2,]    2    4\n",
       "\n",
       "$b\n",
       "     [,1] [,2]\n",
       "[1,]    1    4\n",
       "[2,]    2    5\n",
       "[3,]    3    6\n"
      ]
     },
     "metadata": {},
     "output_type": "display_data"
    }
   ],
   "source": [
    "x <- list(a=matrix(1:4,2,2), b=matrix(1:6,3,2))\n",
    "x"
   ]
  },
  {
   "cell_type": "code",
   "execution_count": 33,
   "metadata": {},
   "outputs": [
    {
     "data": {
      "text/html": [
       "<dl>\n",
       "\t<dt>$a</dt>\n",
       "\t\t<dd><ol class=list-inline>\n",
       "\t<li>1</li>\n",
       "\t<li>2</li>\n",
       "</ol>\n",
       "</dd>\n",
       "\t<dt>$b</dt>\n",
       "\t\t<dd><ol class=list-inline>\n",
       "\t<li>1</li>\n",
       "\t<li>2</li>\n",
       "\t<li>3</li>\n",
       "</ol>\n",
       "</dd>\n",
       "</dl>\n"
      ],
      "text/latex": [
       "\\begin{description}\n",
       "\\item[\\$a] \\begin{enumerate*}\n",
       "\\item 1\n",
       "\\item 2\n",
       "\\end{enumerate*}\n",
       "\n",
       "\\item[\\$b] \\begin{enumerate*}\n",
       "\\item 1\n",
       "\\item 2\n",
       "\\item 3\n",
       "\\end{enumerate*}\n",
       "\n",
       "\\end{description}\n"
      ],
      "text/markdown": [
       "$a\n",
       ":   1. 1\n",
       "2. 2\n",
       "\n",
       "\n",
       "\n",
       "$b\n",
       ":   1. 1\n",
       "2. 2\n",
       "3. 3\n",
       "\n",
       "\n",
       "\n",
       "\n",
       "\n"
      ],
      "text/plain": [
       "$a\n",
       "[1] 1 2\n",
       "\n",
       "$b\n",
       "[1] 1 2 3\n"
      ]
     },
     "metadata": {},
     "output_type": "display_data"
    }
   ],
   "source": [
    "#Extract 1st column\n",
    "lapply(x, function(m) m[,1])"
   ]
  },
  {
   "cell_type": "code",
   "execution_count": null,
   "metadata": {
    "collapsed": true
   },
   "outputs": [],
   "source": []
  }
 ],
 "metadata": {
  "kernelspec": {
   "display_name": "R",
   "language": "R",
   "name": "ir"
  },
  "language_info": {
   "codemirror_mode": "r",
   "file_extension": ".r",
   "mimetype": "text/x-r-source",
   "name": "R",
   "pygments_lexer": "r",
   "version": "3.4.1"
  }
 },
 "nbformat": 4,
 "nbformat_minor": 2
}
