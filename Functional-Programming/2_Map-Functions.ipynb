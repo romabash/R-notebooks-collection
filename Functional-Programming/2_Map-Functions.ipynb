{
 "cells": [
  {
   "cell_type": "markdown",
   "metadata": {},
   "source": [
    "# Map Family of Functions:"
   ]
  },
  {
   "cell_type": "markdown",
   "metadata": {},
   "source": [
    "### Load the purrr package"
   ]
  },
  {
   "cell_type": "code",
   "execution_count": 1,
   "metadata": {
    "collapsed": true
   },
   "outputs": [],
   "source": [
    "library(purrr)"
   ]
  },
  {
   "cell_type": "markdown",
   "metadata": {},
   "source": [
    "### Example of a function returning another function"
   ]
  },
  {
   "cell_type": "code",
   "execution_count": 2,
   "metadata": {
    "collapsed": true
   },
   "outputs": [],
   "source": [
    "adder_maker <- function(n){\n",
    "  function(x){\n",
    "    n + x\n",
    "  }\n",
    "}"
   ]
  },
  {
   "cell_type": "code",
   "execution_count": 3,
   "metadata": {},
   "outputs": [
    {
     "data": {
      "text/html": [
       "<pre class=language-r><code>function (x) \n",
       "{\n",
       "<span style=white-space:pre-wrap>    n + x</span>\n",
       "}</code></pre>"
      ],
      "text/latex": [
       "\\begin{minted}{r}\n",
       "function (x) \n",
       "\\{\n",
       "    n + x\n",
       "\\}\n",
       "\\end{minted}"
      ],
      "text/markdown": [
       "```r\n",
       "function (x) \n",
       "{\n",
       "    n + x\n",
       "}\n",
       "```"
      ],
      "text/plain": [
       "function(x){\n",
       "    n + x\n",
       "  }\n",
       "<environment: 0x30c7628>"
      ]
     },
     "metadata": {},
     "output_type": "display_data"
    }
   ],
   "source": [
    "adder_maker()"
   ]
  },
  {
   "cell_type": "markdown",
   "metadata": {},
   "source": [
    "#### adder_maker(n) returns a new function with no name, where argument to the new function will be added to n"
   ]
  },
  {
   "cell_type": "code",
   "execution_count": 4,
   "metadata": {},
   "outputs": [
    {
     "data": {
      "text/html": [
       "7"
      ],
      "text/latex": [
       "7"
      ],
      "text/markdown": [
       "7"
      ],
      "text/plain": [
       "[1] 7"
      ]
     },
     "metadata": {},
     "output_type": "display_data"
    }
   ],
   "source": [
    "add2 <- adder_maker(2)\n",
    "add2(5)"
   ]
  },
  {
   "cell_type": "code",
   "execution_count": 5,
   "metadata": {},
   "outputs": [
    {
     "data": {
      "text/html": [
       "8"
      ],
      "text/latex": [
       "8"
      ],
      "text/markdown": [
       "8"
      ],
      "text/plain": [
       "[1] 8"
      ]
     },
     "metadata": {},
     "output_type": "display_data"
    }
   ],
   "source": [
    "add3 <- adder_maker(3)\n",
    "add3(5)"
   ]
  },
  {
   "cell_type": "markdown",
   "metadata": {},
   "source": [
    "## Map family of functions applies a function to the elements of a data structure (list or vector)"
   ]
  },
  {
   "cell_type": "markdown",
   "metadata": {},
   "source": [
    "### map() function returns a lists"
   ]
  },
  {
   "cell_type": "code",
   "execution_count": 6,
   "metadata": {},
   "outputs": [
    {
     "data": {
      "text/html": [
       "<ol>\n",
       "\t<li>TRUE</li>\n",
       "\t<li>TRUE</li>\n",
       "\t<li>FALSE</li>\n",
       "\t<li>FALSE</li>\n",
       "\t<li>FALSE</li>\n",
       "</ol>\n"
      ],
      "text/latex": [
       "\\begin{enumerate}\n",
       "\\item TRUE\n",
       "\\item TRUE\n",
       "\\item FALSE\n",
       "\\item FALSE\n",
       "\\item FALSE\n",
       "\\end{enumerate}\n"
      ],
      "text/markdown": [
       "1. TRUE\n",
       "2. TRUE\n",
       "3. FALSE\n",
       "4. FALSE\n",
       "5. FALSE\n",
       "\n",
       "\n"
      ],
      "text/plain": [
       "[[1]]\n",
       "[1] TRUE\n",
       "\n",
       "[[2]]\n",
       "[1] TRUE\n",
       "\n",
       "[[3]]\n",
       "[1] FALSE\n",
       "\n",
       "[[4]]\n",
       "[1] FALSE\n",
       "\n",
       "[[5]]\n",
       "[1] FALSE\n"
      ]
     },
     "metadata": {},
     "output_type": "display_data"
    }
   ],
   "source": [
    "x <- c(5,4,3,2,1)\n",
    "map(x, function(x){\n",
    "  x > 3\n",
    "})"
   ]
  },
  {
   "cell_type": "code",
   "execution_count": 7,
   "metadata": {},
   "outputs": [
    {
     "data": {
      "text/html": [
       "<ol>\n",
       "\t<li>TRUE</li>\n",
       "\t<li>TRUE</li>\n",
       "\t<li>FALSE</li>\n",
       "\t<li>FALSE</li>\n",
       "\t<li>FALSE</li>\n",
       "</ol>\n"
      ],
      "text/latex": [
       "\\begin{enumerate}\n",
       "\\item TRUE\n",
       "\\item TRUE\n",
       "\\item FALSE\n",
       "\\item FALSE\n",
       "\\item FALSE\n",
       "\\end{enumerate}\n"
      ],
      "text/markdown": [
       "1. TRUE\n",
       "2. TRUE\n",
       "3. FALSE\n",
       "4. FALSE\n",
       "5. FALSE\n",
       "\n",
       "\n"
      ],
      "text/plain": [
       "[[1]]\n",
       "[1] TRUE\n",
       "\n",
       "[[2]]\n",
       "[1] TRUE\n",
       "\n",
       "[[3]]\n",
       "[1] FALSE\n",
       "\n",
       "[[4]]\n",
       "[1] FALSE\n",
       "\n",
       "[[5]]\n",
       "[1] FALSE\n"
      ]
     },
     "metadata": {},
     "output_type": "display_data"
    }
   ],
   "source": [
    "# Same as above with lapply function()\n",
    "lapply(x, function(x){\n",
    "  x > 3\n",
    "})"
   ]
  },
  {
   "cell_type": "markdown",
   "metadata": {},
   "source": [
    "### map_lgl(), map_chr(), map_dbl() functions return vectors of booleans, strings, or numbers"
   ]
  },
  {
   "cell_type": "code",
   "execution_count": 8,
   "metadata": {},
   "outputs": [
    {
     "data": {
      "text/html": [
       "<ol class=list-inline>\n",
       "\t<li>TRUE</li>\n",
       "\t<li>TRUE</li>\n",
       "\t<li>FALSE</li>\n",
       "\t<li>FALSE</li>\n",
       "\t<li>FALSE</li>\n",
       "</ol>\n"
      ],
      "text/latex": [
       "\\begin{enumerate*}\n",
       "\\item TRUE\n",
       "\\item TRUE\n",
       "\\item FALSE\n",
       "\\item FALSE\n",
       "\\item FALSE\n",
       "\\end{enumerate*}\n"
      ],
      "text/markdown": [
       "1. TRUE\n",
       "2. TRUE\n",
       "3. FALSE\n",
       "4. FALSE\n",
       "5. FALSE\n",
       "\n",
       "\n"
      ],
      "text/plain": [
       "[1]  TRUE  TRUE FALSE FALSE FALSE"
      ]
     },
     "metadata": {},
     "output_type": "display_data"
    }
   ],
   "source": [
    "x <- c(5,4,3,2,1)\n",
    "map_lgl(x, function(x){\n",
    "  x > 3\n",
    "})"
   ]
  },
  {
   "cell_type": "code",
   "execution_count": 9,
   "metadata": {},
   "outputs": [
    {
     "data": {
      "text/html": [
       "<ol class=list-inline>\n",
       "\t<li>TRUE</li>\n",
       "\t<li>TRUE</li>\n",
       "\t<li>FALSE</li>\n",
       "\t<li>FALSE</li>\n",
       "\t<li>FALSE</li>\n",
       "</ol>\n"
      ],
      "text/latex": [
       "\\begin{enumerate*}\n",
       "\\item TRUE\n",
       "\\item TRUE\n",
       "\\item FALSE\n",
       "\\item FALSE\n",
       "\\item FALSE\n",
       "\\end{enumerate*}\n"
      ],
      "text/markdown": [
       "1. TRUE\n",
       "2. TRUE\n",
       "3. FALSE\n",
       "4. FALSE\n",
       "5. FALSE\n",
       "\n",
       "\n"
      ],
      "text/plain": [
       "[1]  TRUE  TRUE FALSE FALSE FALSE"
      ]
     },
     "metadata": {},
     "output_type": "display_data"
    }
   ],
   "source": [
    "# Same as above with sapply() function\n",
    "sapply(x, function(x){\n",
    "  x > 3\n",
    "})"
   ]
  },
  {
   "cell_type": "markdown",
   "metadata": {},
   "source": [
    "### map_chr()"
   ]
  },
  {
   "cell_type": "code",
   "execution_count": 10,
   "metadata": {},
   "outputs": [
    {
     "data": {
      "text/html": [
       "<ol class=list-inline>\n",
       "\t<li>'five'</li>\n",
       "\t<li>'four'</li>\n",
       "\t<li>'three'</li>\n",
       "\t<li>'two'</li>\n",
       "\t<li>'one'</li>\n",
       "</ol>\n"
      ],
      "text/latex": [
       "\\begin{enumerate*}\n",
       "\\item 'five'\n",
       "\\item 'four'\n",
       "\\item 'three'\n",
       "\\item 'two'\n",
       "\\item 'one'\n",
       "\\end{enumerate*}\n"
      ],
      "text/markdown": [
       "1. 'five'\n",
       "2. 'four'\n",
       "3. 'three'\n",
       "4. 'two'\n",
       "5. 'one'\n",
       "\n",
       "\n"
      ],
      "text/plain": [
       "[1] \"five\"  \"four\"  \"three\" \"two\"   \"one\"  "
      ]
     },
     "metadata": {},
     "output_type": "display_data"
    }
   ],
   "source": [
    "x <- c(5,4,3,2,1)\n",
    "map_chr(x, function(x){\n",
    "  c('one', 'two', 'three', 'four', 'five')[x]\n",
    "})"
   ]
  },
  {
   "cell_type": "code",
   "execution_count": 11,
   "metadata": {},
   "outputs": [
    {
     "data": {
      "text/html": [
       "<ol class=list-inline>\n",
       "\t<li>'five'</li>\n",
       "\t<li>'four'</li>\n",
       "\t<li>'three'</li>\n",
       "\t<li>'two'</li>\n",
       "\t<li>'one'</li>\n",
       "</ol>\n"
      ],
      "text/latex": [
       "\\begin{enumerate*}\n",
       "\\item 'five'\n",
       "\\item 'four'\n",
       "\\item 'three'\n",
       "\\item 'two'\n",
       "\\item 'one'\n",
       "\\end{enumerate*}\n"
      ],
      "text/markdown": [
       "1. 'five'\n",
       "2. 'four'\n",
       "3. 'three'\n",
       "4. 'two'\n",
       "5. 'one'\n",
       "\n",
       "\n"
      ],
      "text/plain": [
       "[1] \"five\"  \"four\"  \"three\" \"two\"   \"one\"  "
      ]
     },
     "metadata": {},
     "output_type": "display_data"
    }
   ],
   "source": [
    "# Same as above with sapply() function\n",
    "sapply(x, function(x){\n",
    "  c('one', 'two', 'three', 'four', 'five')[x]\n",
    "})"
   ]
  },
  {
   "cell_type": "markdown",
   "metadata": {},
   "source": [
    "### map_if() function takes 2 functions as arguments\n",
    "- evaluates each element to the first functions.  If element is TRUE, applies the second function"
   ]
  },
  {
   "cell_type": "code",
   "execution_count": 12,
   "metadata": {},
   "outputs": [
    {
     "data": {
      "text/html": [
       "<ol>\n",
       "\t<li>5</li>\n",
       "\t<li>104</li>\n",
       "\t<li>3</li>\n",
       "\t<li>102</li>\n",
       "\t<li>1</li>\n",
       "</ol>\n"
      ],
      "text/latex": [
       "\\begin{enumerate}\n",
       "\\item 5\n",
       "\\item 104\n",
       "\\item 3\n",
       "\\item 102\n",
       "\\item 1\n",
       "\\end{enumerate}\n"
      ],
      "text/markdown": [
       "1. 5\n",
       "2. 104\n",
       "3. 3\n",
       "4. 102\n",
       "5. 1\n",
       "\n",
       "\n"
      ],
      "text/plain": [
       "[[1]]\n",
       "[1] 5\n",
       "\n",
       "[[2]]\n",
       "[1] 104\n",
       "\n",
       "[[3]]\n",
       "[1] 3\n",
       "\n",
       "[[4]]\n",
       "[1] 102\n",
       "\n",
       "[[5]]\n",
       "[1] 1\n"
      ]
     },
     "metadata": {},
     "output_type": "display_data"
    }
   ],
   "source": [
    "x <- c(5,4,3,2,1)\n",
    "map_if(x, function(x){\n",
    "  x %% 2 == 0\n",
    "}, function(y){\n",
    "  y + 100\n",
    "})"
   ]
  },
  {
   "cell_type": "markdown",
   "metadata": {},
   "source": [
    "###  map_if() functions always returns a list: Pipe results to unlist() to get a vector"
   ]
  },
  {
   "cell_type": "code",
   "execution_count": 13,
   "metadata": {},
   "outputs": [
    {
     "data": {
      "text/html": [
       "<ol class=list-inline>\n",
       "\t<li>5</li>\n",
       "\t<li>104</li>\n",
       "\t<li>3</li>\n",
       "\t<li>102</li>\n",
       "\t<li>1</li>\n",
       "</ol>\n"
      ],
      "text/latex": [
       "\\begin{enumerate*}\n",
       "\\item 5\n",
       "\\item 104\n",
       "\\item 3\n",
       "\\item 102\n",
       "\\item 1\n",
       "\\end{enumerate*}\n"
      ],
      "text/markdown": [
       "1. 5\n",
       "2. 104\n",
       "3. 3\n",
       "4. 102\n",
       "5. 1\n",
       "\n",
       "\n"
      ],
      "text/plain": [
       "[1]   5 104   3 102   1"
      ]
     },
     "metadata": {},
     "output_type": "display_data"
    }
   ],
   "source": [
    "x <- c(5,4,3,2,1)\n",
    "map_if(x, function(x){\n",
    "  x %% 2 == 0\n",
    "}, function(y){\n",
    "  y + 100\n",
    "}) %>% unlist()"
   ]
  },
  {
   "cell_type": "code",
   "execution_count": 14,
   "metadata": {},
   "outputs": [
    {
     "data": {
      "text/html": [
       "<ol class=list-inline>\n",
       "\t<li>5</li>\n",
       "\t<li>104</li>\n",
       "\t<li>3</li>\n",
       "\t<li>102</li>\n",
       "\t<li>1</li>\n",
       "</ol>\n"
      ],
      "text/latex": [
       "\\begin{enumerate*}\n",
       "\\item 5\n",
       "\\item 104\n",
       "\\item 3\n",
       "\\item 102\n",
       "\\item 1\n",
       "\\end{enumerate*}\n"
      ],
      "text/markdown": [
       "1. 5\n",
       "2. 104\n",
       "3. 3\n",
       "4. 102\n",
       "5. 1\n",
       "\n",
       "\n"
      ],
      "text/plain": [
       "[1]   5 104   3 102   1"
      ]
     },
     "metadata": {},
     "output_type": "display_data"
    }
   ],
   "source": [
    "# Same as above with sapply() function\n",
    "sapply(x, function(x){\n",
    "  if (x %% 2 == 0){\n",
    "    x + 100\n",
    "  }\n",
    "  else{\n",
    "    x\n",
    "  }\n",
    "})"
   ]
  },
  {
   "cell_type": "markdown",
   "metadata": {},
   "source": [
    "### map_at() function only applies the provided function to elements of a provided vector of indecies\n",
    "- Always returns a list: pipe to unlist to get a vector"
   ]
  },
  {
   "cell_type": "code",
   "execution_count": 15,
   "metadata": {},
   "outputs": [
    {
     "data": {
      "text/html": [
       "<ol class=list-inline>\n",
       "\t<li>150</li>\n",
       "\t<li>200</li>\n",
       "\t<li>350</li>\n",
       "\t<li>400</li>\n",
       "\t<li>550</li>\n",
       "</ol>\n"
      ],
      "text/latex": [
       "\\begin{enumerate*}\n",
       "\\item 150\n",
       "\\item 200\n",
       "\\item 350\n",
       "\\item 400\n",
       "\\item 550\n",
       "\\end{enumerate*}\n"
      ],
      "text/markdown": [
       "1. 150\n",
       "2. 200\n",
       "3. 350\n",
       "4. 400\n",
       "5. 550\n",
       "\n",
       "\n"
      ],
      "text/plain": [
       "[1] 150 200 350 400 550"
      ]
     },
     "metadata": {},
     "output_type": "display_data"
    }
   ],
   "source": [
    "x <- seq(100,500, 100)\n",
    "idx <- c(1, 3, 5) #Will only apply to 1st, 3rd, and 5th elements\n",
    "map_at(x, idx, function(x){\n",
    "  x + 50\n",
    "}) %>% unlist()"
   ]
  },
  {
   "cell_type": "markdown",
   "metadata": {},
   "source": [
    "### map2() family functions: Can be used for 2 data structures\n",
    "-  First two arguments should be two vectors or lists of the same length"
   ]
  },
  {
   "cell_type": "code",
   "execution_count": 16,
   "metadata": {},
   "outputs": [
    {
     "data": {
      "text/html": [
       "<ol class=list-inline>\n",
       "\t<li>'1 a'</li>\n",
       "\t<li>'2 b'</li>\n",
       "\t<li>'3 c'</li>\n",
       "\t<li>'4 d'</li>\n",
       "\t<li>'5 e'</li>\n",
       "\t<li>'6 f'</li>\n",
       "\t<li>'7 g'</li>\n",
       "\t<li>'8 h'</li>\n",
       "\t<li>'9 i'</li>\n",
       "\t<li>'10 j'</li>\n",
       "\t<li>'11 k'</li>\n",
       "\t<li>'12 l'</li>\n",
       "\t<li>'13 m'</li>\n",
       "\t<li>'14 n'</li>\n",
       "\t<li>'15 o'</li>\n",
       "\t<li>'16 p'</li>\n",
       "\t<li>'17 q'</li>\n",
       "\t<li>'18 r'</li>\n",
       "\t<li>'19 s'</li>\n",
       "\t<li>'20 t'</li>\n",
       "\t<li>'21 u'</li>\n",
       "\t<li>'22 v'</li>\n",
       "\t<li>'23 w'</li>\n",
       "\t<li>'24 x'</li>\n",
       "\t<li>'25 y'</li>\n",
       "\t<li>'26 z'</li>\n",
       "</ol>\n"
      ],
      "text/latex": [
       "\\begin{enumerate*}\n",
       "\\item '1 a'\n",
       "\\item '2 b'\n",
       "\\item '3 c'\n",
       "\\item '4 d'\n",
       "\\item '5 e'\n",
       "\\item '6 f'\n",
       "\\item '7 g'\n",
       "\\item '8 h'\n",
       "\\item '9 i'\n",
       "\\item '10 j'\n",
       "\\item '11 k'\n",
       "\\item '12 l'\n",
       "\\item '13 m'\n",
       "\\item '14 n'\n",
       "\\item '15 o'\n",
       "\\item '16 p'\n",
       "\\item '17 q'\n",
       "\\item '18 r'\n",
       "\\item '19 s'\n",
       "\\item '20 t'\n",
       "\\item '21 u'\n",
       "\\item '22 v'\n",
       "\\item '23 w'\n",
       "\\item '24 x'\n",
       "\\item '25 y'\n",
       "\\item '26 z'\n",
       "\\end{enumerate*}\n"
      ],
      "text/markdown": [
       "1. '1 a'\n",
       "2. '2 b'\n",
       "3. '3 c'\n",
       "4. '4 d'\n",
       "5. '5 e'\n",
       "6. '6 f'\n",
       "7. '7 g'\n",
       "8. '8 h'\n",
       "9. '9 i'\n",
       "10. '10 j'\n",
       "11. '11 k'\n",
       "12. '12 l'\n",
       "13. '13 m'\n",
       "14. '14 n'\n",
       "15. '15 o'\n",
       "16. '16 p'\n",
       "17. '17 q'\n",
       "18. '18 r'\n",
       "19. '19 s'\n",
       "20. '20 t'\n",
       "21. '21 u'\n",
       "22. '22 v'\n",
       "23. '23 w'\n",
       "24. '24 x'\n",
       "25. '25 y'\n",
       "26. '26 z'\n",
       "\n",
       "\n"
      ],
      "text/plain": [
       " [1] \"1 a\"  \"2 b\"  \"3 c\"  \"4 d\"  \"5 e\"  \"6 f\"  \"7 g\"  \"8 h\"  \"9 i\"  \"10 j\"\n",
       "[11] \"11 k\" \"12 l\" \"13 m\" \"14 n\" \"15 o\" \"16 p\" \"17 q\" \"18 r\" \"19 s\" \"20 t\"\n",
       "[21] \"21 u\" \"22 v\" \"23 w\" \"24 x\" \"25 y\" \"26 z\""
      ]
     },
     "metadata": {},
     "output_type": "display_data"
    }
   ],
   "source": [
    "map2_chr(1:26, letters, paste)"
   ]
  },
  {
   "cell_type": "markdown",
   "metadata": {},
   "source": [
    "### pmap() family of function is similar to map2(), but can provide many vectors or lists in a list"
   ]
  },
  {
   "cell_type": "code",
   "execution_count": 17,
   "metadata": {},
   "outputs": [
    {
     "data": {
      "text/html": [
       "<ol class=list-inline>\n",
       "\t<li>'1 one uno'</li>\n",
       "\t<li>'2 two dos'</li>\n",
       "\t<li>'3 three tres'</li>\n",
       "</ol>\n"
      ],
      "text/latex": [
       "\\begin{enumerate*}\n",
       "\\item '1 one uno'\n",
       "\\item '2 two dos'\n",
       "\\item '3 three tres'\n",
       "\\end{enumerate*}\n"
      ],
      "text/markdown": [
       "1. '1 one uno'\n",
       "2. '2 two dos'\n",
       "3. '3 three tres'\n",
       "\n",
       "\n"
      ],
      "text/plain": [
       "[1] \"1 one uno\"    \"2 two dos\"    \"3 three tres\""
      ]
     },
     "metadata": {},
     "output_type": "display_data"
    },
    {
     "data": {
      "text/html": [
       "<ol class=list-inline>\n",
       "\t<li>'1-one-uno'</li>\n",
       "\t<li>'2-two-dos'</li>\n",
       "\t<li>'3-three-tres'</li>\n",
       "</ol>\n"
      ],
      "text/latex": [
       "\\begin{enumerate*}\n",
       "\\item '1-one-uno'\n",
       "\\item '2-two-dos'\n",
       "\\item '3-three-tres'\n",
       "\\end{enumerate*}\n"
      ],
      "text/markdown": [
       "1. '1-one-uno'\n",
       "2. '2-two-dos'\n",
       "3. '3-three-tres'\n",
       "\n",
       "\n"
      ],
      "text/plain": [
       "[1] \"1-one-uno\"    \"2-two-dos\"    \"3-three-tres\""
      ]
     },
     "metadata": {},
     "output_type": "display_data"
    }
   ],
   "source": [
    "num <- c(1, 2, 3)\n",
    "words1 <- c('one', 'two', 'three')\n",
    "words2 <- c('uno', 'dos', 'tres')\n",
    "\n",
    "pmap_chr(list(num, words1, words2), paste)\n",
    "pmap_chr(list(num, words1, words2), function(x,y,z){\n",
    "  paste(x,y,z, sep=\"-\")\n",
    "})"
   ]
  }
 ],
 "metadata": {
  "kernelspec": {
   "display_name": "R",
   "language": "R",
   "name": "ir"
  },
  "language_info": {
   "codemirror_mode": "r",
   "file_extension": ".r",
   "mimetype": "text/x-r-source",
   "name": "R",
   "pygments_lexer": "r",
   "version": "3.4.1"
  }
 },
 "nbformat": 4,
 "nbformat_minor": 2
}
