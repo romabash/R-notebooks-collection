{
 "cells": [
  {
   "cell_type": "markdown",
   "metadata": {},
   "source": [
    "# Functional Programming"
   ]
  },
  {
   "cell_type": "markdown",
   "metadata": {},
   "source": [
    "### Using reduce() function from \"purrr\" package\n",
    "- Part of Tidyverse\n",
    "- Reducing returns 1 value\n",
    "- Function passed to reduce() should take 2 arguments"
   ]
  },
  {
   "cell_type": "code",
   "execution_count": 1,
   "metadata": {
    "collapsed": true
   },
   "outputs": [],
   "source": [
    "library(purrr)"
   ]
  },
  {
   "cell_type": "markdown",
   "metadata": {},
   "source": [
    "#### Example 1"
   ]
  },
  {
   "cell_type": "code",
   "execution_count": 2,
   "metadata": {},
   "outputs": [
    {
     "name": "stderr",
     "output_type": "stream",
     "text": [
      "x is 1\n",
      "x is 1\n",
      "\n",
      "x is 4\n",
      "x is 4\n",
      "\n",
      "x is 9\n",
      "x is 9\n",
      "\n"
     ]
    },
    {
     "data": {
      "text/html": [
       "16"
      ],
      "text/latex": [
       "16"
      ],
      "text/markdown": [
       "16"
      ],
      "text/plain": [
       "[1] 16"
      ]
     },
     "metadata": {},
     "output_type": "display_data"
    }
   ],
   "source": [
    "data <- c(1, 3, 5, 7)\n",
    "reduce(data, function(x, y){\n",
    "    message(\"x is \", x)\n",
    "    message(\"x is \", x)\n",
    "    message(\"\")\n",
    "    x + y\n",
    "})"
   ]
  },
  {
   "cell_type": "markdown",
   "metadata": {},
   "source": [
    "#### Example 2"
   ]
  },
  {
   "cell_type": "code",
   "execution_count": 3,
   "metadata": {},
   "outputs": [
    {
     "name": "stderr",
     "output_type": "stream",
     "text": [
      "x is a\n",
      "x is a\n",
      "\n",
      "x is ab\n",
      "x is ab\n",
      "\n",
      "x is abc\n",
      "x is abc\n",
      "\n"
     ]
    },
    {
     "data": {
      "text/html": [
       "'abcd'"
      ],
      "text/latex": [
       "'abcd'"
      ],
      "text/markdown": [
       "'abcd'"
      ],
      "text/plain": [
       "[1] \"abcd\""
      ]
     },
     "metadata": {},
     "output_type": "display_data"
    }
   ],
   "source": [
    "reduce(letters[1:4], function(x, y){\n",
    "    message(\"x is \", x)\n",
    "    message(\"x is \", x)\n",
    "    message(\"\")\n",
    "    paste(x, y, sep=\"\")\n",
    "})"
   ]
  },
  {
   "cell_type": "markdown",
   "metadata": {},
   "source": [
    "### Using reduce_right() function\n",
    "-Starts with the last element going from right to left"
   ]
  },
  {
   "cell_type": "code",
   "execution_count": 4,
   "metadata": {},
   "outputs": [
    {
     "name": "stderr",
     "output_type": "stream",
     "text": [
      "x is d\n",
      "x is d\n",
      "\n",
      "x is dc\n",
      "x is dc\n",
      "\n",
      "x is dcb\n",
      "x is dcb\n",
      "\n"
     ]
    },
    {
     "data": {
      "text/html": [
       "'dcba'"
      ],
      "text/latex": [
       "'dcba'"
      ],
      "text/markdown": [
       "'dcba'"
      ],
      "text/plain": [
       "[1] \"dcba\""
      ]
     },
     "metadata": {},
     "output_type": "display_data"
    }
   ],
   "source": [
    "reduce_right(letters[1:4], function(x, y){\n",
    "    message(\"x is \", x)\n",
    "    message(\"x is \", x)\n",
    "    message(\"\")\n",
    "    paste(x, y, sep=\"\")\n",
    "})"
   ]
  },
  {
   "cell_type": "code",
   "execution_count": null,
   "metadata": {
    "collapsed": true
   },
   "outputs": [],
   "source": []
  }
 ],
 "metadata": {
  "kernelspec": {
   "display_name": "R",
   "language": "R",
   "name": "ir"
  },
  "language_info": {
   "codemirror_mode": "r",
   "file_extension": ".r",
   "mimetype": "text/x-r-source",
   "name": "R",
   "pygments_lexer": "r",
   "version": "3.4.1"
  }
 },
 "nbformat": 4,
 "nbformat_minor": 2
}
