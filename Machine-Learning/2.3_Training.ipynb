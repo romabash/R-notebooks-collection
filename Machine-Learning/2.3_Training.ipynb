{
 "cells": [
  {
   "cell_type": "markdown",
   "metadata": {},
   "source": [
    "# train Default Options\n",
    "- method: rf, Random Forest\n",
    "- preProcess: pre-process and impute\n",
    "- weights: can be used to add weights to observations, useful for unbalanced distributions\n",
    "- metric: Accuracy for factor variables, RMSE for continous variables\n",
    "- mazximize: maximize Accuracy and minimize RMSE\n",
    "- trainControl: training control for model"
   ]
  },
  {
   "cell_type": "markdown",
   "metadata": {},
   "source": [
    "# Metric Options\n",
    "\n",
    "#### Continous outcomes:\n",
    "- RMSE: Root mean Squared Error\n",
    "- RSquared: R squared from Regression Models\n",
    "\n",
    "#### Categorical outcomes:\n",
    "- Accuracy: Fraction correct\n",
    "- Kappa: A measure of concordance"
   ]
  },
  {
   "cell_type": "markdown",
   "metadata": {},
   "source": [
    "# trainControl resampling\n",
    "\n",
    "#### method:\n",
    "- boot: bootstrapping\n",
    "- boot632: bootstrapping with adjustment\n",
    "- cv: cross validation\n",
    "- repeatedcv: repeated cross validation\n",
    "- LOOCV: leave one cut cross validation\n",
    "\n",
    "#### number:\n",
    "- For boot/cross validation\n",
    "- Number of subsamples to take\n",
    "\n",
    "#### repeats:\n",
    "- Number of times to repeat subsampling\n",
    "- Slows down with big data"
   ]
  }
 ],
 "metadata": {
  "kernelspec": {
   "display_name": "R",
   "language": "R",
   "name": "ir"
  },
  "language_info": {
   "codemirror_mode": "r",
   "file_extension": ".r",
   "mimetype": "text/x-r-source",
   "name": "R",
   "pygments_lexer": "r",
   "version": "3.4.1"
  }
 },
 "nbformat": 4,
 "nbformat_minor": 2
}
