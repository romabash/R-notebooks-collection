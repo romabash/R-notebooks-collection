{
 "cells": [
  {
   "cell_type": "markdown",
   "metadata": {},
   "source": [
    "# Covariate Creation\n",
    "- Summarization vs Information loss\n",
    "- Err on the side of more features\n",
    "- Creating New Covariates:\n",
    "    - More necessary for some methods (regression, svm) than others (classification trees)\n",
    "    - Should only be done on Training set"
   ]
  },
  {
   "cell_type": "markdown",
   "metadata": {},
   "source": [
    "## Creating Dummy Variables\n",
    "- Example using Wage Dataset from ISLR package"
   ]
  },
  {
   "cell_type": "code",
   "execution_count": 2,
   "metadata": {},
   "outputs": [
    {
     "name": "stderr",
     "output_type": "stream",
     "text": [
      "Loading required package: lattice\n",
      "Loading required package: ggplot2\n"
     ]
    }
   ],
   "source": [
    "# Lod packages\n",
    "library(ISLR)\n",
    "library(caret)\n",
    "data(Wage)"
   ]
  },
  {
   "cell_type": "code",
   "execution_count": 3,
   "metadata": {},
   "outputs": [
    {
     "data": {
      "text/html": [
       "<table>\n",
       "<thead><tr><th></th><th scope=col>year</th><th scope=col>age</th><th scope=col>maritl</th><th scope=col>race</th><th scope=col>education</th><th scope=col>region</th><th scope=col>jobclass</th><th scope=col>health</th><th scope=col>health_ins</th><th scope=col>logwage</th><th scope=col>wage</th></tr></thead>\n",
       "<tbody>\n",
       "\t<tr><th scope=row>231655</th><td>2006                                                      </td><td>18                                                        </td><td>1. Never Married                                          </td><td>1. White                                                  </td><td><span style=white-space:pre-wrap>1. &lt; HS Grad   </span></td><td>2. Middle Atlantic                                        </td><td>1. Industrial                                             </td><td><span style=white-space:pre-wrap>1. &lt;=Good     </span> </td><td>2. No                                                     </td><td>4.318063                                                  </td><td> 75.04315                                                 </td></tr>\n",
       "\t<tr><th scope=row>86582</th><td>2004              </td><td>24                </td><td>1. Never Married  </td><td>1. White          </td><td>4. College Grad   </td><td>2. Middle Atlantic</td><td>2. Information    </td><td>2. &gt;=Very Good </td><td>2. No             </td><td>4.255273          </td><td> 70.47602         </td></tr>\n",
       "\t<tr><th scope=row>161300</th><td>2003                                                     </td><td>45                                                       </td><td><span style=white-space:pre-wrap>2. Married      </span> </td><td>1. White                                                 </td><td>3. Some College                                          </td><td>2. Middle Atlantic                                       </td><td>1. Industrial                                            </td><td><span style=white-space:pre-wrap>1. &lt;=Good     </span></td><td>1. Yes                                                   </td><td>4.875061                                                 </td><td>130.98218                                                </td></tr>\n",
       "\t<tr><th scope=row>155159</th><td>2003                                                    </td><td>43                                                      </td><td><span style=white-space:pre-wrap>2. Married      </span></td><td>3. Asian                                                </td><td>4. College Grad                                         </td><td>2. Middle Atlantic                                      </td><td>2. Information                                          </td><td>2. &gt;=Very Good                                       </td><td>1. Yes                                                  </td><td>5.041393                                                </td><td>154.68529                                               </td></tr>\n",
       "\t<tr><th scope=row>11443</th><td>2005                                                     </td><td>50                                                       </td><td><span style=white-space:pre-wrap>4. Divorced     </span> </td><td>1. White                                                 </td><td><span style=white-space:pre-wrap>2. HS Grad     </span>  </td><td>2. Middle Atlantic                                       </td><td>2. Information                                           </td><td><span style=white-space:pre-wrap>1. &lt;=Good     </span></td><td>1. Yes                                                   </td><td>4.318063                                                 </td><td> 75.04315                                                </td></tr>\n",
       "\t<tr><th scope=row>376662</th><td>2008                                                    </td><td>54                                                      </td><td><span style=white-space:pre-wrap>2. Married      </span></td><td>1. White                                                </td><td>4. College Grad                                         </td><td>2. Middle Atlantic                                      </td><td>2. Information                                          </td><td>2. &gt;=Very Good                                       </td><td>1. Yes                                                  </td><td>4.845098                                                </td><td>127.11574                                               </td></tr>\n",
       "</tbody>\n",
       "</table>\n"
      ],
      "text/latex": [
       "\\begin{tabular}{r|lllllllllll}\n",
       "  & year & age & maritl & race & education & region & jobclass & health & health\\_ins & logwage & wage\\\\\n",
       "\\hline\n",
       "\t231655 & 2006               & 18                 & 1. Never Married   & 1. White           & 1. < HS Grad       & 2. Middle Atlantic & 1. Industrial      & 1. <=Good          & 2. No              & 4.318063           &  75.04315         \\\\\n",
       "\t86582 & 2004               & 24                 & 1. Never Married   & 1. White           & 4. College Grad    & 2. Middle Atlantic & 2. Information     & 2. >=Very Good     & 2. No              & 4.255273           &  70.47602         \\\\\n",
       "\t161300 & 2003               & 45                 & 2. Married         & 1. White           & 3. Some College    & 2. Middle Atlantic & 1. Industrial      & 1. <=Good          & 1. Yes             & 4.875061           & 130.98218         \\\\\n",
       "\t155159 & 2003               & 43                 & 2. Married         & 3. Asian           & 4. College Grad    & 2. Middle Atlantic & 2. Information     & 2. >=Very Good     & 1. Yes             & 5.041393           & 154.68529         \\\\\n",
       "\t11443 & 2005               & 50                 & 4. Divorced        & 1. White           & 2. HS Grad         & 2. Middle Atlantic & 2. Information     & 1. <=Good          & 1. Yes             & 4.318063           &  75.04315         \\\\\n",
       "\t376662 & 2008               & 54                 & 2. Married         & 1. White           & 4. College Grad    & 2. Middle Atlantic & 2. Information     & 2. >=Very Good     & 1. Yes             & 4.845098           & 127.11574         \\\\\n",
       "\\end{tabular}\n"
      ],
      "text/markdown": [
       "\n",
       "| <!--/--> | year | age | maritl | race | education | region | jobclass | health | health_ins | logwage | wage | \n",
       "|---|---|---|---|---|---|\n",
       "| 231655 | 2006               | 18                 | 1. Never Married   | 1. White           | 1. < HS Grad       | 2. Middle Atlantic | 1. Industrial      | 1. <=Good          | 2. No              | 4.318063           |  75.04315          | \n",
       "| 86582 | 2004               | 24                 | 1. Never Married   | 1. White           | 4. College Grad    | 2. Middle Atlantic | 2. Information     | 2. >=Very Good     | 2. No              | 4.255273           |  70.47602          | \n",
       "| 161300 | 2003               | 45                 | 2. Married         | 1. White           | 3. Some College    | 2. Middle Atlantic | 1. Industrial      | 1. <=Good          | 1. Yes             | 4.875061           | 130.98218          | \n",
       "| 155159 | 2003               | 43                 | 2. Married         | 3. Asian           | 4. College Grad    | 2. Middle Atlantic | 2. Information     | 2. >=Very Good     | 1. Yes             | 5.041393           | 154.68529          | \n",
       "| 11443 | 2005               | 50                 | 4. Divorced        | 1. White           | 2. HS Grad         | 2. Middle Atlantic | 2. Information     | 1. <=Good          | 1. Yes             | 4.318063           |  75.04315          | \n",
       "| 376662 | 2008               | 54                 | 2. Married         | 1. White           | 4. College Grad    | 2. Middle Atlantic | 2. Information     | 2. >=Very Good     | 1. Yes             | 4.845098           | 127.11574          | \n",
       "\n",
       "\n"
      ],
      "text/plain": [
       "       year age maritl           race     education       region            \n",
       "231655 2006 18  1. Never Married 1. White 1. < HS Grad    2. Middle Atlantic\n",
       "86582  2004 24  1. Never Married 1. White 4. College Grad 2. Middle Atlantic\n",
       "161300 2003 45  2. Married       1. White 3. Some College 2. Middle Atlantic\n",
       "155159 2003 43  2. Married       3. Asian 4. College Grad 2. Middle Atlantic\n",
       "11443  2005 50  4. Divorced      1. White 2. HS Grad      2. Middle Atlantic\n",
       "376662 2008 54  2. Married       1. White 4. College Grad 2. Middle Atlantic\n",
       "       jobclass       health         health_ins logwage  wage     \n",
       "231655 1. Industrial  1. <=Good      2. No      4.318063  75.04315\n",
       "86582  2. Information 2. >=Very Good 2. No      4.255273  70.47602\n",
       "161300 1. Industrial  1. <=Good      1. Yes     4.875061 130.98218\n",
       "155159 2. Information 2. >=Very Good 1. Yes     5.041393 154.68529\n",
       "11443  2. Information 1. <=Good      1. Yes     4.318063  75.04315\n",
       "376662 2. Information 2. >=Very Good 1. Yes     4.845098 127.11574"
      ]
     },
     "metadata": {},
     "output_type": "display_data"
    }
   ],
   "source": [
    "head(Wage)"
   ]
  },
  {
   "cell_type": "code",
   "execution_count": 6,
   "metadata": {
    "collapsed": true
   },
   "outputs": [],
   "source": [
    "# Partition Data\n",
    "set.seed(32323)\n",
    "\n",
    "inTrain <- createDataPartition(y = Wage$wage, p = 0.7, list = FALSE)\n",
    "training <- Wage[inTrain,]\n",
    "testing <- Wage[-inTrain,]"
   ]
  },
  {
   "cell_type": "code",
   "execution_count": 7,
   "metadata": {},
   "outputs": [
    {
     "data": {
      "text/plain": [
       "\n",
       " 1. Industrial 2. Information \n",
       "          1084           1018 "
      ]
     },
     "metadata": {},
     "output_type": "display_data"
    }
   ],
   "source": [
    "# Convert factor Variables into indicator Variables\n",
    "table(training$jobclass)"
   ]
  },
  {
   "cell_type": "code",
   "execution_count": 8,
   "metadata": {},
   "outputs": [
    {
     "data": {
      "text/plain": [
       "Dummy Variable Object\n",
       "\n",
       "Formula: wage ~ jobclass\n",
       "2 variables, 1 factors\n",
       "Variables and levels will be separated by '.'\n",
       "A less than full rank encoding is used"
      ]
     },
     "metadata": {},
     "output_type": "display_data"
    }
   ],
   "source": [
    "# Create Dummy Variables\n",
    "dummies <- dummyVars(wage ~ jobclass, data = training)\n",
    "dummies"
   ]
  },
  {
   "cell_type": "code",
   "execution_count": 9,
   "metadata": {},
   "outputs": [
    {
     "data": {
      "text/html": [
       "<table>\n",
       "<thead><tr><th></th><th scope=col>jobclass.1. Industrial</th><th scope=col>jobclass.2. Information</th></tr></thead>\n",
       "<tbody>\n",
       "\t<tr><th scope=row>86582</th><td>0</td><td>1</td></tr>\n",
       "\t<tr><th scope=row>155159</th><td>0</td><td>1</td></tr>\n",
       "\t<tr><th scope=row>11443</th><td>0</td><td>1</td></tr>\n",
       "\t<tr><th scope=row>376662</th><td>0</td><td>1</td></tr>\n",
       "\t<tr><th scope=row>450601</th><td>1</td><td>0</td></tr>\n",
       "\t<tr><th scope=row>377954</th><td>0</td><td>1</td></tr>\n",
       "</tbody>\n",
       "</table>\n"
      ],
      "text/latex": [
       "\\begin{tabular}{r|ll}\n",
       "  & jobclass.1. Industrial & jobclass.2. Information\\\\\n",
       "\\hline\n",
       "\t86582 & 0 & 1\\\\\n",
       "\t155159 & 0 & 1\\\\\n",
       "\t11443 & 0 & 1\\\\\n",
       "\t376662 & 0 & 1\\\\\n",
       "\t450601 & 1 & 0\\\\\n",
       "\t377954 & 0 & 1\\\\\n",
       "\\end{tabular}\n"
      ],
      "text/markdown": [
       "\n",
       "| <!--/--> | jobclass.1. Industrial | jobclass.2. Information | \n",
       "|---|---|---|---|---|---|\n",
       "| 86582 | 0 | 1 | \n",
       "| 155159 | 0 | 1 | \n",
       "| 11443 | 0 | 1 | \n",
       "| 376662 | 0 | 1 | \n",
       "| 450601 | 1 | 0 | \n",
       "| 377954 | 0 | 1 | \n",
       "\n",
       "\n"
      ],
      "text/plain": [
       "       jobclass.1. Industrial jobclass.2. Information\n",
       "86582  0                      1                      \n",
       "155159 0                      1                      \n",
       "11443  0                      1                      \n",
       "376662 0                      1                      \n",
       "450601 1                      0                      \n",
       "377954 0                      1                      "
      ]
     },
     "metadata": {},
     "output_type": "display_data"
    }
   ],
   "source": [
    "train_dummy <- predict(dummies, newdata = training)\n",
    "head(train_dummy)"
   ]
  },
  {
   "cell_type": "markdown",
   "metadata": {},
   "source": [
    "<hr>"
   ]
  },
  {
   "cell_type": "markdown",
   "metadata": {},
   "source": [
    "## Removing Zero Covariates\n",
    "- Removing Variable with no Variability\n",
    "- region: No Variability, all from Middle Atlantic.  Can exclude that Variable"
   ]
  },
  {
   "cell_type": "code",
   "execution_count": 12,
   "metadata": {},
   "outputs": [
    {
     "data": {
      "text/html": [
       "<table>\n",
       "<thead><tr><th></th><th scope=col>freqRatio</th><th scope=col>percentUnique</th><th scope=col>zeroVar</th><th scope=col>nzv</th></tr></thead>\n",
       "<tbody>\n",
       "\t<tr><th scope=row>year</th><td>1.071642   </td><td> 0.33301618</td><td>FALSE      </td><td>FALSE      </td></tr>\n",
       "\t<tr><th scope=row>age</th><td>1.068493   </td><td> 2.90199810</td><td>FALSE      </td><td>FALSE      </td></tr>\n",
       "\t<tr><th scope=row>maritl</th><td>3.199561   </td><td> 0.23786870</td><td>FALSE      </td><td>FALSE      </td></tr>\n",
       "\t<tr><th scope=row>race</th><td>8.417476   </td><td> 0.19029496</td><td>FALSE      </td><td>FALSE      </td></tr>\n",
       "\t<tr><th scope=row>education</th><td>1.418947   </td><td> 0.23786870</td><td>FALSE      </td><td>FALSE      </td></tr>\n",
       "\t<tr><th scope=row>region</th><td>0.000000   </td><td> 0.04757374</td><td> TRUE      </td><td> TRUE      </td></tr>\n",
       "\t<tr><th scope=row>jobclass</th><td>1.064833   </td><td> 0.09514748</td><td>FALSE      </td><td>FALSE      </td></tr>\n",
       "\t<tr><th scope=row>health</th><td>2.462932   </td><td> 0.09514748</td><td>FALSE      </td><td>FALSE      </td></tr>\n",
       "\t<tr><th scope=row>health_ins</th><td>2.347134   </td><td> 0.09514748</td><td>FALSE      </td><td>FALSE      </td></tr>\n",
       "\t<tr><th scope=row>logwage</th><td>1.062500   </td><td>19.36251189</td><td>FALSE      </td><td>FALSE      </td></tr>\n",
       "\t<tr><th scope=row>wage</th><td>1.062500   </td><td>19.36251189</td><td>FALSE      </td><td>FALSE      </td></tr>\n",
       "</tbody>\n",
       "</table>\n"
      ],
      "text/latex": [
       "\\begin{tabular}{r|llll}\n",
       "  & freqRatio & percentUnique & zeroVar & nzv\\\\\n",
       "\\hline\n",
       "\tyear & 1.071642    &  0.33301618 & FALSE       & FALSE      \\\\\n",
       "\tage & 1.068493    &  2.90199810 & FALSE       & FALSE      \\\\\n",
       "\tmaritl & 3.199561    &  0.23786870 & FALSE       & FALSE      \\\\\n",
       "\trace & 8.417476    &  0.19029496 & FALSE       & FALSE      \\\\\n",
       "\teducation & 1.418947    &  0.23786870 & FALSE       & FALSE      \\\\\n",
       "\tregion & 0.000000    &  0.04757374 &  TRUE       &  TRUE      \\\\\n",
       "\tjobclass & 1.064833    &  0.09514748 & FALSE       & FALSE      \\\\\n",
       "\thealth & 2.462932    &  0.09514748 & FALSE       & FALSE      \\\\\n",
       "\thealth\\_ins & 2.347134    &  0.09514748 & FALSE       & FALSE      \\\\\n",
       "\tlogwage & 1.062500    & 19.36251189 & FALSE       & FALSE      \\\\\n",
       "\twage & 1.062500    & 19.36251189 & FALSE       & FALSE      \\\\\n",
       "\\end{tabular}\n"
      ],
      "text/markdown": [
       "\n",
       "| <!--/--> | freqRatio | percentUnique | zeroVar | nzv | \n",
       "|---|---|---|---|---|---|---|---|---|---|---|\n",
       "| year | 1.071642    |  0.33301618 | FALSE       | FALSE       | \n",
       "| age | 1.068493    |  2.90199810 | FALSE       | FALSE       | \n",
       "| maritl | 3.199561    |  0.23786870 | FALSE       | FALSE       | \n",
       "| race | 8.417476    |  0.19029496 | FALSE       | FALSE       | \n",
       "| education | 1.418947    |  0.23786870 | FALSE       | FALSE       | \n",
       "| region | 0.000000    |  0.04757374 |  TRUE       |  TRUE       | \n",
       "| jobclass | 1.064833    |  0.09514748 | FALSE       | FALSE       | \n",
       "| health | 2.462932    |  0.09514748 | FALSE       | FALSE       | \n",
       "| health_ins | 2.347134    |  0.09514748 | FALSE       | FALSE       | \n",
       "| logwage | 1.062500    | 19.36251189 | FALSE       | FALSE       | \n",
       "| wage | 1.062500    | 19.36251189 | FALSE       | FALSE       | \n",
       "\n",
       "\n"
      ],
      "text/plain": [
       "           freqRatio percentUnique zeroVar nzv  \n",
       "year       1.071642   0.33301618   FALSE   FALSE\n",
       "age        1.068493   2.90199810   FALSE   FALSE\n",
       "maritl     3.199561   0.23786870   FALSE   FALSE\n",
       "race       8.417476   0.19029496   FALSE   FALSE\n",
       "education  1.418947   0.23786870   FALSE   FALSE\n",
       "region     0.000000   0.04757374    TRUE    TRUE\n",
       "jobclass   1.064833   0.09514748   FALSE   FALSE\n",
       "health     2.462932   0.09514748   FALSE   FALSE\n",
       "health_ins 2.347134   0.09514748   FALSE   FALSE\n",
       "logwage    1.062500  19.36251189   FALSE   FALSE\n",
       "wage       1.062500  19.36251189   FALSE   FALSE"
      ]
     },
     "metadata": {},
     "output_type": "display_data"
    }
   ],
   "source": [
    "nzv <- nearZeroVar(training, saveMetrics = TRUE)\n",
    "nzv"
   ]
  },
  {
   "cell_type": "code",
   "execution_count": null,
   "metadata": {
    "collapsed": true
   },
   "outputs": [],
   "source": []
  }
 ],
 "metadata": {
  "kernelspec": {
   "display_name": "R",
   "language": "R",
   "name": "ir"
  },
  "language_info": {
   "codemirror_mode": "r",
   "file_extension": ".r",
   "mimetype": "text/x-r-source",
   "name": "R",
   "pygments_lexer": "r",
   "version": "3.4.1"
  }
 },
 "nbformat": 4,
 "nbformat_minor": 2
}
