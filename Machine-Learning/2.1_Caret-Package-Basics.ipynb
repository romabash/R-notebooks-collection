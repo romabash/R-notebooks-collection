{
 "cells": [
  {
   "cell_type": "markdown",
   "metadata": {},
   "source": [
    "# Caret Package Basics\n",
    "- Preprocessing and Cleaning:\n",
    "    - preProcess\n",
    "- Data Splitting:\n",
    "    - createDataPartition\n",
    "    - createResample\n",
    "    - createTimeSlices\n",
    "- Training/Testing Functions:\n",
    "    - train\n",
    "    - predict\n",
    "- Model Comparison:\n",
    "    - confusionMatrix"
   ]
  },
  {
   "cell_type": "markdown",
   "metadata": {},
   "source": [
    "## Data Splitting:\n",
    "- Using Spam Dataset"
   ]
  },
  {
   "cell_type": "code",
   "execution_count": 2,
   "metadata": {},
   "outputs": [
    {
     "data": {
      "text/html": [
       "<table>\n",
       "<thead><tr><th scope=col>make</th><th scope=col>address</th><th scope=col>all</th><th scope=col>num3d</th><th scope=col>our</th><th scope=col>over</th><th scope=col>remove</th><th scope=col>internet</th><th scope=col>order</th><th scope=col>mail</th><th scope=col>⋯</th><th scope=col>charSemicolon</th><th scope=col>charRoundbracket</th><th scope=col>charSquarebracket</th><th scope=col>charExclamation</th><th scope=col>charDollar</th><th scope=col>charHash</th><th scope=col>capitalAve</th><th scope=col>capitalLong</th><th scope=col>capitalTotal</th><th scope=col>type</th></tr></thead>\n",
       "<tbody>\n",
       "\t<tr><td>0.00 </td><td>0.64 </td><td>0.64 </td><td>0    </td><td>0.32 </td><td>0.00 </td><td>0.00 </td><td>0.00 </td><td>0.00 </td><td>0.00 </td><td>⋯    </td><td>0.00 </td><td>0.000</td><td>0    </td><td>0.778</td><td>0.000</td><td>0.000</td><td>3.756</td><td> 61  </td><td> 278 </td><td>spam </td></tr>\n",
       "\t<tr><td>0.21 </td><td>0.28 </td><td>0.50 </td><td>0    </td><td>0.14 </td><td>0.28 </td><td>0.21 </td><td>0.07 </td><td>0.00 </td><td>0.94 </td><td>⋯    </td><td>0.00 </td><td>0.132</td><td>0    </td><td>0.372</td><td>0.180</td><td>0.048</td><td>5.114</td><td>101  </td><td>1028 </td><td>spam </td></tr>\n",
       "\t<tr><td>0.06 </td><td>0.00 </td><td>0.71 </td><td>0    </td><td>1.23 </td><td>0.19 </td><td>0.19 </td><td>0.12 </td><td>0.64 </td><td>0.25 </td><td>⋯    </td><td>0.01 </td><td>0.143</td><td>0    </td><td>0.276</td><td>0.184</td><td>0.010</td><td>9.821</td><td>485  </td><td>2259 </td><td>spam </td></tr>\n",
       "\t<tr><td>0.00 </td><td>0.00 </td><td>0.00 </td><td>0    </td><td>0.63 </td><td>0.00 </td><td>0.31 </td><td>0.63 </td><td>0.31 </td><td>0.63 </td><td>⋯    </td><td>0.00 </td><td>0.137</td><td>0    </td><td>0.137</td><td>0.000</td><td>0.000</td><td>3.537</td><td> 40  </td><td> 191 </td><td>spam </td></tr>\n",
       "\t<tr><td>0.00 </td><td>0.00 </td><td>0.00 </td><td>0    </td><td>0.63 </td><td>0.00 </td><td>0.31 </td><td>0.63 </td><td>0.31 </td><td>0.63 </td><td>⋯    </td><td>0.00 </td><td>0.135</td><td>0    </td><td>0.135</td><td>0.000</td><td>0.000</td><td>3.537</td><td> 40  </td><td> 191 </td><td>spam </td></tr>\n",
       "\t<tr><td>0.00 </td><td>0.00 </td><td>0.00 </td><td>0    </td><td>1.85 </td><td>0.00 </td><td>0.00 </td><td>1.85 </td><td>0.00 </td><td>0.00 </td><td>⋯    </td><td>0.00 </td><td>0.223</td><td>0    </td><td>0.000</td><td>0.000</td><td>0.000</td><td>3.000</td><td> 15  </td><td>  54 </td><td>spam </td></tr>\n",
       "</tbody>\n",
       "</table>\n"
      ],
      "text/latex": [
       "\\begin{tabular}{r|llllllllllllllllllllllllllllllllllllllllllllllllllllllllll}\n",
       " make & address & all & num3d & our & over & remove & internet & order & mail & ⋯ & charSemicolon & charRoundbracket & charSquarebracket & charExclamation & charDollar & charHash & capitalAve & capitalLong & capitalTotal & type\\\\\n",
       "\\hline\n",
       "\t 0.00  & 0.64  & 0.64  & 0     & 0.32  & 0.00  & 0.00  & 0.00  & 0.00  & 0.00  & ⋯     & 0.00  & 0.000 & 0     & 0.778 & 0.000 & 0.000 & 3.756 &  61   &  278  & spam \\\\\n",
       "\t 0.21  & 0.28  & 0.50  & 0     & 0.14  & 0.28  & 0.21  & 0.07  & 0.00  & 0.94  & ⋯     & 0.00  & 0.132 & 0     & 0.372 & 0.180 & 0.048 & 5.114 & 101   & 1028  & spam \\\\\n",
       "\t 0.06  & 0.00  & 0.71  & 0     & 1.23  & 0.19  & 0.19  & 0.12  & 0.64  & 0.25  & ⋯     & 0.01  & 0.143 & 0     & 0.276 & 0.184 & 0.010 & 9.821 & 485   & 2259  & spam \\\\\n",
       "\t 0.00  & 0.00  & 0.00  & 0     & 0.63  & 0.00  & 0.31  & 0.63  & 0.31  & 0.63  & ⋯     & 0.00  & 0.137 & 0     & 0.137 & 0.000 & 0.000 & 3.537 &  40   &  191  & spam \\\\\n",
       "\t 0.00  & 0.00  & 0.00  & 0     & 0.63  & 0.00  & 0.31  & 0.63  & 0.31  & 0.63  & ⋯     & 0.00  & 0.135 & 0     & 0.135 & 0.000 & 0.000 & 3.537 &  40   &  191  & spam \\\\\n",
       "\t 0.00  & 0.00  & 0.00  & 0     & 1.85  & 0.00  & 0.00  & 1.85  & 0.00  & 0.00  & ⋯     & 0.00  & 0.223 & 0     & 0.000 & 0.000 & 0.000 & 3.000 &  15   &   54  & spam \\\\\n",
       "\\end{tabular}\n"
      ],
      "text/markdown": [
       "\n",
       "make | address | all | num3d | our | over | remove | internet | order | mail | ⋯ | charSemicolon | charRoundbracket | charSquarebracket | charExclamation | charDollar | charHash | capitalAve | capitalLong | capitalTotal | type | \n",
       "|---|---|---|---|---|---|\n",
       "| 0.00  | 0.64  | 0.64  | 0     | 0.32  | 0.00  | 0.00  | 0.00  | 0.00  | 0.00  | ⋯     | 0.00  | 0.000 | 0     | 0.778 | 0.000 | 0.000 | 3.756 |  61   |  278  | spam  | \n",
       "| 0.21  | 0.28  | 0.50  | 0     | 0.14  | 0.28  | 0.21  | 0.07  | 0.00  | 0.94  | ⋯     | 0.00  | 0.132 | 0     | 0.372 | 0.180 | 0.048 | 5.114 | 101   | 1028  | spam  | \n",
       "| 0.06  | 0.00  | 0.71  | 0     | 1.23  | 0.19  | 0.19  | 0.12  | 0.64  | 0.25  | ⋯     | 0.01  | 0.143 | 0     | 0.276 | 0.184 | 0.010 | 9.821 | 485   | 2259  | spam  | \n",
       "| 0.00  | 0.00  | 0.00  | 0     | 0.63  | 0.00  | 0.31  | 0.63  | 0.31  | 0.63  | ⋯     | 0.00  | 0.137 | 0     | 0.137 | 0.000 | 0.000 | 3.537 |  40   |  191  | spam  | \n",
       "| 0.00  | 0.00  | 0.00  | 0     | 0.63  | 0.00  | 0.31  | 0.63  | 0.31  | 0.63  | ⋯     | 0.00  | 0.135 | 0     | 0.135 | 0.000 | 0.000 | 3.537 |  40   |  191  | spam  | \n",
       "| 0.00  | 0.00  | 0.00  | 0     | 1.85  | 0.00  | 0.00  | 1.85  | 0.00  | 0.00  | ⋯     | 0.00  | 0.223 | 0     | 0.000 | 0.000 | 0.000 | 3.000 |  15   |   54  | spam  | \n",
       "\n",
       "\n"
      ],
      "text/plain": [
       "  make address all  num3d our  over remove internet order mail ⋯ charSemicolon\n",
       "1 0.00 0.64    0.64 0     0.32 0.00 0.00   0.00     0.00  0.00 ⋯ 0.00         \n",
       "2 0.21 0.28    0.50 0     0.14 0.28 0.21   0.07     0.00  0.94 ⋯ 0.00         \n",
       "3 0.06 0.00    0.71 0     1.23 0.19 0.19   0.12     0.64  0.25 ⋯ 0.01         \n",
       "4 0.00 0.00    0.00 0     0.63 0.00 0.31   0.63     0.31  0.63 ⋯ 0.00         \n",
       "5 0.00 0.00    0.00 0     0.63 0.00 0.31   0.63     0.31  0.63 ⋯ 0.00         \n",
       "6 0.00 0.00    0.00 0     1.85 0.00 0.00   1.85     0.00  0.00 ⋯ 0.00         \n",
       "  charRoundbracket charSquarebracket charExclamation charDollar charHash\n",
       "1 0.000            0                 0.778           0.000      0.000   \n",
       "2 0.132            0                 0.372           0.180      0.048   \n",
       "3 0.143            0                 0.276           0.184      0.010   \n",
       "4 0.137            0                 0.137           0.000      0.000   \n",
       "5 0.135            0                 0.135           0.000      0.000   \n",
       "6 0.223            0                 0.000           0.000      0.000   \n",
       "  capitalAve capitalLong capitalTotal type\n",
       "1 3.756       61          278         spam\n",
       "2 5.114      101         1028         spam\n",
       "3 9.821      485         2259         spam\n",
       "4 3.537       40          191         spam\n",
       "5 3.537       40          191         spam\n",
       "6 3.000       15           54         spam"
      ]
     },
     "metadata": {},
     "output_type": "display_data"
    }
   ],
   "source": [
    "library(caret)\n",
    "library(kernlab) #spam dataset\n",
    "data(spam)\n",
    "\n",
    "head(spam)"
   ]
  },
  {
   "cell_type": "code",
   "execution_count": 3,
   "metadata": {
    "collapsed": true
   },
   "outputs": [],
   "source": [
    "# Split based on type\n",
    "inTrain <- createDataPartition(y = spam$type, p = 0.75, list = FALSE) "
   ]
  },
  {
   "cell_type": "code",
   "execution_count": 5,
   "metadata": {},
   "outputs": [
    {
     "data": {
      "text/html": [
       "<ol class=list-inline>\n",
       "\t<li>3451</li>\n",
       "\t<li>58</li>\n",
       "</ol>\n"
      ],
      "text/latex": [
       "\\begin{enumerate*}\n",
       "\\item 3451\n",
       "\\item 58\n",
       "\\end{enumerate*}\n"
      ],
      "text/markdown": [
       "1. 3451\n",
       "2. 58\n",
       "\n",
       "\n"
      ],
      "text/plain": [
       "[1] 3451   58"
      ]
     },
     "metadata": {},
     "output_type": "display_data"
    }
   ],
   "source": [
    "training <- spam[inTrain,]\n",
    "testing <- spam[-inTrain,]\n",
    "dim(training)"
   ]
  },
  {
   "cell_type": "markdown",
   "metadata": {},
   "source": [
    "## Fit a Model"
   ]
  },
  {
   "cell_type": "code",
   "execution_count": 6,
   "metadata": {},
   "outputs": [
    {
     "name": "stderr",
     "output_type": "stream",
     "text": [
      "Warning message:\n",
      "“glm.fit: fitted probabilities numerically 0 or 1 occurred”Warning message:\n",
      "“glm.fit: fitted probabilities numerically 0 or 1 occurred”Warning message:\n",
      "“glm.fit: fitted probabilities numerically 0 or 1 occurred”Warning message:\n",
      "“glm.fit: fitted probabilities numerically 0 or 1 occurred”Warning message:\n",
      "“glm.fit: fitted probabilities numerically 0 or 1 occurred”Warning message:\n",
      "“glm.fit: fitted probabilities numerically 0 or 1 occurred”Warning message:\n",
      "“glm.fit: fitted probabilities numerically 0 or 1 occurred”Warning message:\n",
      "“glm.fit: fitted probabilities numerically 0 or 1 occurred”Warning message:\n",
      "“glm.fit: fitted probabilities numerically 0 or 1 occurred”Warning message:\n",
      "“glm.fit: fitted probabilities numerically 0 or 1 occurred”Warning message:\n",
      "“glm.fit: fitted probabilities numerically 0 or 1 occurred”Warning message:\n",
      "“glm.fit: fitted probabilities numerically 0 or 1 occurred”Warning message:\n",
      "“glm.fit: algorithm did not converge”Warning message:\n",
      "“glm.fit: fitted probabilities numerically 0 or 1 occurred”Warning message:\n",
      "“glm.fit: fitted probabilities numerically 0 or 1 occurred”Warning message:\n",
      "“glm.fit: fitted probabilities numerically 0 or 1 occurred”Warning message:\n",
      "“glm.fit: fitted probabilities numerically 0 or 1 occurred”Warning message:\n",
      "“glm.fit: fitted probabilities numerically 0 or 1 occurred”Warning message:\n",
      "“glm.fit: fitted probabilities numerically 0 or 1 occurred”Warning message:\n",
      "“glm.fit: fitted probabilities numerically 0 or 1 occurred”Warning message:\n",
      "“glm.fit: fitted probabilities numerically 0 or 1 occurred”Warning message:\n",
      "“glm.fit: fitted probabilities numerically 0 or 1 occurred”Warning message:\n",
      "“glm.fit: fitted probabilities numerically 0 or 1 occurred”Warning message:\n",
      "“glm.fit: fitted probabilities numerically 0 or 1 occurred”Warning message:\n",
      "“glm.fit: fitted probabilities numerically 0 or 1 occurred”Warning message:\n",
      "“glm.fit: fitted probabilities numerically 0 or 1 occurred”Warning message:\n",
      "“glm.fit: fitted probabilities numerically 0 or 1 occurred”"
     ]
    },
    {
     "data": {
      "text/plain": [
       "Generalized Linear Model \n",
       "\n",
       "3451 samples\n",
       "  57 predictor\n",
       "   2 classes: 'nonspam', 'spam' \n",
       "\n",
       "No pre-processing\n",
       "Resampling: Bootstrapped (25 reps) \n",
       "Summary of sample sizes: 3451, 3451, 3451, 3451, 3451, 3451, ... \n",
       "Resampling results:\n",
       "\n",
       "  Accuracy   Kappa    \n",
       "  0.9191168  0.8301116\n"
      ]
     },
     "metadata": {},
     "output_type": "display_data"
    }
   ],
   "source": [
    "set.seed(32343)\n",
    "modelFit <- train(type ~ ., data = training, method = 'glm')\n",
    "modelFit"
   ]
  },
  {
   "cell_type": "markdown",
   "metadata": {},
   "source": [
    "## Final Model"
   ]
  },
  {
   "cell_type": "code",
   "execution_count": 7,
   "metadata": {},
   "outputs": [
    {
     "data": {
      "text/plain": [
       "\n",
       "Call:  NULL\n",
       "\n",
       "Coefficients:\n",
       "      (Intercept)               make            address                all  \n",
       "       -1.654e+00         -1.821e-01         -1.618e-01          6.048e-02  \n",
       "            num3d                our               over             remove  \n",
       "        1.845e+00          4.995e-01          7.445e-01          2.185e+00  \n",
       "         internet              order               mail            receive  \n",
       "        5.078e-01          1.161e+00          4.537e-02          7.488e-02  \n",
       "             will             people             report          addresses  \n",
       "       -2.207e-01          4.034e-02          4.804e-02          8.231e-01  \n",
       "             free           business              email                you  \n",
       "        1.369e+00          1.346e+00          6.584e-02          9.619e-02  \n",
       "           credit               your               font             num000  \n",
       "        1.382e+00          1.975e-01          2.408e-01          1.980e+00  \n",
       "            money                 hp                hpl             george  \n",
       "        3.390e-01         -1.812e+00         -1.165e+00         -9.907e+00  \n",
       "           num650                lab               labs             telnet  \n",
       "        6.477e-01         -2.362e+00         -3.314e-01         -2.906e-01  \n",
       "           num857               data             num415              num85  \n",
       "        2.310e+00         -7.232e-01          1.024e+00         -2.083e+00  \n",
       "       technology            num1999              parts                 pm  \n",
       "        1.112e+00         -8.809e-02          6.427e-01         -1.073e+00  \n",
       "           direct                 cs            meeting           original  \n",
       "       -3.399e-01         -2.517e+02         -1.957e+00         -9.662e-01  \n",
       "          project                 re                edu              table  \n",
       "       -1.740e+00         -8.876e-01         -1.436e+00         -4.124e+00  \n",
       "       conference      charSemicolon   charRoundbracket  charSquarebracket  \n",
       "       -3.429e+00         -1.305e+00         -5.883e-01         -6.460e-01  \n",
       "  charExclamation         charDollar           charHash         capitalAve  \n",
       "        2.661e-01          4.994e+00          1.805e+00          1.118e-01  \n",
       "      capitalLong       capitalTotal  \n",
       "        7.309e-03          7.799e-04  \n",
       "\n",
       "Degrees of Freedom: 3450 Total (i.e. Null);  3393 Residual\n",
       "Null Deviance:\t    4628 \n",
       "Residual Deviance: 1352 \tAIC: 1468"
      ]
     },
     "metadata": {},
     "output_type": "display_data"
    }
   ],
   "source": [
    "modelFit$finalModel"
   ]
  },
  {
   "cell_type": "markdown",
   "metadata": {},
   "source": [
    "## Prediction"
   ]
  },
  {
   "cell_type": "code",
   "execution_count": 9,
   "metadata": {},
   "outputs": [
    {
     "data": {
      "text/html": [
       "<ol class=list-inline>\n",
       "\t<li>spam</li>\n",
       "\t<li>spam</li>\n",
       "\t<li>spam</li>\n",
       "\t<li>spam</li>\n",
       "\t<li>nonspam</li>\n",
       "\t<li>spam</li>\n",
       "</ol>\n"
      ],
      "text/latex": [
       "\\begin{enumerate*}\n",
       "\\item spam\n",
       "\\item spam\n",
       "\\item spam\n",
       "\\item spam\n",
       "\\item nonspam\n",
       "\\item spam\n",
       "\\end{enumerate*}\n"
      ],
      "text/markdown": [
       "1. spam\n",
       "2. spam\n",
       "3. spam\n",
       "4. spam\n",
       "5. nonspam\n",
       "6. spam\n",
       "\n",
       "\n"
      ],
      "text/plain": [
       "[1] spam    spam    spam    spam    nonspam spam   \n",
       "Levels: nonspam spam"
      ]
     },
     "metadata": {},
     "output_type": "display_data"
    }
   ],
   "source": [
    "prediction <- predict(modelFit, newdata = testing)\n",
    "head(prediction)"
   ]
  },
  {
   "cell_type": "markdown",
   "metadata": {},
   "source": [
    "## Confusion Matrix"
   ]
  },
  {
   "cell_type": "code",
   "execution_count": 11,
   "metadata": {},
   "outputs": [
    {
     "data": {
      "text/plain": [
       "Confusion Matrix and Statistics\n",
       "\n",
       "          Reference\n",
       "Prediction nonspam spam\n",
       "   nonspam     656   44\n",
       "   spam         41  409\n",
       "                                          \n",
       "               Accuracy : 0.9261          \n",
       "                 95% CI : (0.9094, 0.9405)\n",
       "    No Information Rate : 0.6061          \n",
       "    P-Value [Acc > NIR] : <2e-16          \n",
       "                                          \n",
       "                  Kappa : 0.845           \n",
       " Mcnemar's Test P-Value : 0.8283          \n",
       "                                          \n",
       "            Sensitivity : 0.9412          \n",
       "            Specificity : 0.9029          \n",
       "         Pos Pred Value : 0.9371          \n",
       "         Neg Pred Value : 0.9089          \n",
       "             Prevalence : 0.6061          \n",
       "         Detection Rate : 0.5704          \n",
       "   Detection Prevalence : 0.6087          \n",
       "      Balanced Accuracy : 0.9220          \n",
       "                                          \n",
       "       'Positive' Class : nonspam         \n",
       "                                          "
      ]
     },
     "metadata": {},
     "output_type": "display_data"
    }
   ],
   "source": [
    "# Compare predictions vs type in the testing data\n",
    "confusionMatrix(prediction, testing$type)"
   ]
  }
 ],
 "metadata": {
  "kernelspec": {
   "display_name": "R",
   "language": "R",
   "name": "ir"
  },
  "language_info": {
   "codemirror_mode": "r",
   "file_extension": ".r",
   "mimetype": "text/x-r-source",
   "name": "R",
   "pygments_lexer": "r",
   "version": "3.4.1"
  }
 },
 "nbformat": 4,
 "nbformat_minor": 2
}
