{
 "cells": [
  {
   "cell_type": "markdown",
   "metadata": {},
   "source": [
    "# Bagging\n",
    "- Bootstrap aggregating\n",
    "    - Resample training data set with replacement and recalculate predictions\n",
    "    - Average the predictions together\n",
    "- Averaging multiple complex models have similar bias and reduced variance\n",
    "- Most useful for non linear models"
   ]
  },
  {
   "cell_type": "markdown",
   "metadata": {},
   "source": [
    "# Random Forests\n",
    "- Bootstrap samples\n",
    "- At each split, bootstrap variables\n",
    "- Grow multiple trees\n",
    "- Accurate but slow and can overfit"
   ]
  },
  {
   "cell_type": "markdown",
   "metadata": {},
   "source": [
    "## Example\n",
    "- Using Iris datset"
   ]
  },
  {
   "cell_type": "code",
   "execution_count": 2,
   "metadata": {},
   "outputs": [
    {
     "name": "stderr",
     "output_type": "stream",
     "text": [
      "Loading required package: lattice\n"
     ]
    }
   ],
   "source": [
    "library(caret)\n",
    "library(ggplot2)\n",
    "\n",
    "data(iris)\n",
    "\n",
    "\n",
    "inTrain <- createDataPartition(y = iris$Species, p = 0.7, list = FALSE)\n",
    "training <- iris[inTrain,]\n",
    "testing <- iris[-inTrain,]"
   ]
  },
  {
   "cell_type": "code",
   "execution_count": 3,
   "metadata": {},
   "outputs": [
    {
     "name": "stderr",
     "output_type": "stream",
     "text": [
      "Loading required package: randomForest\n",
      "randomForest 4.6-12\n",
      "Type rfNews() to see new features/changes/bug fixes.\n",
      "\n",
      "Attaching package: ‘randomForest’\n",
      "\n",
      "The following object is masked from ‘package:ggplot2’:\n",
      "\n",
      "    margin\n",
      "\n"
     ]
    },
    {
     "data": {
      "text/plain": [
       "Random Forest \n",
       "\n",
       "105 samples\n",
       "  4 predictor\n",
       "  3 classes: 'setosa', 'versicolor', 'virginica' \n",
       "\n",
       "No pre-processing\n",
       "Resampling: Bootstrapped (25 reps) \n",
       "Summary of sample sizes: 105, 105, 105, 105, 105, 105, ... \n",
       "Resampling results across tuning parameters:\n",
       "\n",
       "  mtry  Accuracy   Kappa    \n",
       "  2     0.9363883  0.9027622\n",
       "  3     0.9352455  0.9010339\n",
       "  4     0.9375312  0.9045056\n",
       "\n",
       "Accuracy was used to select the optimal model using  the largest value.\n",
       "The final value used for the model was mtry = 4."
      ]
     },
     "metadata": {},
     "output_type": "display_data"
    }
   ],
   "source": [
    "# Build a Random Forests Model\n",
    "modelFit <- train(Species ~ ., data = training, method = \"rf\", prox = TRUE)\n",
    "modelFit"
   ]
  },
  {
   "cell_type": "code",
   "execution_count": 5,
   "metadata": {},
   "outputs": [
    {
     "data": {
      "text/html": [
       "<table>\n",
       "<thead><tr><th></th><th scope=col>left daughter</th><th scope=col>right daughter</th><th scope=col>split var</th><th scope=col>split point</th><th scope=col>status</th><th scope=col>prediction</th></tr></thead>\n",
       "<tbody>\n",
       "\t<tr><th scope=row>1</th><td> 2  </td><td> 3  </td><td>3   </td><td>2.45</td><td> 1  </td><td>0   </td></tr>\n",
       "\t<tr><th scope=row>2</th><td> 0  </td><td> 0  </td><td>0   </td><td>0.00</td><td>-1  </td><td>1   </td></tr>\n",
       "\t<tr><th scope=row>3</th><td> 4  </td><td> 5  </td><td>3   </td><td>4.75</td><td> 1  </td><td>0   </td></tr>\n",
       "\t<tr><th scope=row>4</th><td> 6  </td><td> 7  </td><td>1   </td><td>4.95</td><td> 1  </td><td>0   </td></tr>\n",
       "\t<tr><th scope=row>5</th><td> 8  </td><td> 9  </td><td>4   </td><td>1.75</td><td> 1  </td><td>0   </td></tr>\n",
       "\t<tr><th scope=row>6</th><td> 0  </td><td> 0  </td><td>0   </td><td>0.00</td><td>-1  </td><td>3   </td></tr>\n",
       "\t<tr><th scope=row>7</th><td> 0  </td><td> 0  </td><td>0   </td><td>0.00</td><td>-1  </td><td>2   </td></tr>\n",
       "\t<tr><th scope=row>8</th><td>10  </td><td>11  </td><td>3   </td><td>5.30</td><td> 1  </td><td>0   </td></tr>\n",
       "\t<tr><th scope=row>9</th><td> 0  </td><td> 0  </td><td>0   </td><td>0.00</td><td>-1  </td><td>3   </td></tr>\n",
       "\t<tr><th scope=row>10</th><td> 0  </td><td> 0  </td><td>0   </td><td>0.00</td><td>-1  </td><td>2   </td></tr>\n",
       "\t<tr><th scope=row>11</th><td> 0  </td><td> 0  </td><td>0   </td><td>0.00</td><td>-1  </td><td>3   </td></tr>\n",
       "</tbody>\n",
       "</table>\n"
      ],
      "text/latex": [
       "\\begin{tabular}{r|llllll}\n",
       "  & left daughter & right daughter & split var & split point & status & prediction\\\\\n",
       "\\hline\n",
       "\t1 &  2   &  3   & 3    & 2.45 &  1   & 0   \\\\\n",
       "\t2 &  0   &  0   & 0    & 0.00 & -1   & 1   \\\\\n",
       "\t3 &  4   &  5   & 3    & 4.75 &  1   & 0   \\\\\n",
       "\t4 &  6   &  7   & 1    & 4.95 &  1   & 0   \\\\\n",
       "\t5 &  8   &  9   & 4    & 1.75 &  1   & 0   \\\\\n",
       "\t6 &  0   &  0   & 0    & 0.00 & -1   & 3   \\\\\n",
       "\t7 &  0   &  0   & 0    & 0.00 & -1   & 2   \\\\\n",
       "\t8 & 10   & 11   & 3    & 5.30 &  1   & 0   \\\\\n",
       "\t9 &  0   &  0   & 0    & 0.00 & -1   & 3   \\\\\n",
       "\t10 &  0   &  0   & 0    & 0.00 & -1   & 2   \\\\\n",
       "\t11 &  0   &  0   & 0    & 0.00 & -1   & 3   \\\\\n",
       "\\end{tabular}\n"
      ],
      "text/markdown": [
       "\n",
       "| <!--/--> | left daughter | right daughter | split var | split point | status | prediction | \n",
       "|---|---|---|---|---|---|---|---|---|---|---|\n",
       "| 1 |  2   |  3   | 3    | 2.45 |  1   | 0    | \n",
       "| 2 |  0   |  0   | 0    | 0.00 | -1   | 1    | \n",
       "| 3 |  4   |  5   | 3    | 4.75 |  1   | 0    | \n",
       "| 4 |  6   |  7   | 1    | 4.95 |  1   | 0    | \n",
       "| 5 |  8   |  9   | 4    | 1.75 |  1   | 0    | \n",
       "| 6 |  0   |  0   | 0    | 0.00 | -1   | 3    | \n",
       "| 7 |  0   |  0   | 0    | 0.00 | -1   | 2    | \n",
       "| 8 | 10   | 11   | 3    | 5.30 |  1   | 0    | \n",
       "| 9 |  0   |  0   | 0    | 0.00 | -1   | 3    | \n",
       "| 10 |  0   |  0   | 0    | 0.00 | -1   | 2    | \n",
       "| 11 |  0   |  0   | 0    | 0.00 | -1   | 3    | \n",
       "\n",
       "\n"
      ],
      "text/plain": [
       "   left daughter right daughter split var split point status prediction\n",
       "1   2             3             3         2.45         1     0         \n",
       "2   0             0             0         0.00        -1     1         \n",
       "3   4             5             3         4.75         1     0         \n",
       "4   6             7             1         4.95         1     0         \n",
       "5   8             9             4         1.75         1     0         \n",
       "6   0             0             0         0.00        -1     3         \n",
       "7   0             0             0         0.00        -1     2         \n",
       "8  10            11             3         5.30         1     0         \n",
       "9   0             0             0         0.00        -1     3         \n",
       "10  0             0             0         0.00        -1     2         \n",
       "11  0             0             0         0.00        -1     3         "
      ]
     },
     "metadata": {},
     "output_type": "display_data"
    }
   ],
   "source": [
    "# Look at 2nd Tree\n",
    "getTree(modelFit$finalModel, k = 2)"
   ]
  },
  {
   "cell_type": "code",
   "execution_count": 9,
   "metadata": {},
   "outputs": [],
   "source": [
    "# Predict Using the Model\n",
    "pred <- predict(modelFit, testing)"
   ]
  },
  {
   "cell_type": "code",
   "execution_count": 10,
   "metadata": {},
   "outputs": [
    {
     "data": {
      "text/plain": [
       "Confusion Matrix and Statistics\n",
       "\n",
       "            Reference\n",
       "Prediction   setosa versicolor virginica\n",
       "  setosa         15          0         0\n",
       "  versicolor      0         15         1\n",
       "  virginica       0          0        14\n",
       "\n",
       "Overall Statistics\n",
       "                                          \n",
       "               Accuracy : 0.9778          \n",
       "                 95% CI : (0.8823, 0.9994)\n",
       "    No Information Rate : 0.3333          \n",
       "    P-Value [Acc > NIR] : < 2.2e-16       \n",
       "                                          \n",
       "                  Kappa : 0.9667          \n",
       " Mcnemar's Test P-Value : NA              \n",
       "\n",
       "Statistics by Class:\n",
       "\n",
       "                     Class: setosa Class: versicolor Class: virginica\n",
       "Sensitivity                 1.0000            1.0000           0.9333\n",
       "Specificity                 1.0000            0.9667           1.0000\n",
       "Pos Pred Value              1.0000            0.9375           1.0000\n",
       "Neg Pred Value              1.0000            1.0000           0.9677\n",
       "Prevalence                  0.3333            0.3333           0.3333\n",
       "Detection Rate              0.3333            0.3333           0.3111\n",
       "Detection Prevalence        0.3333            0.3556           0.3111\n",
       "Balanced Accuracy           1.0000            0.9833           0.9667"
      ]
     },
     "metadata": {},
     "output_type": "display_data"
    }
   ],
   "source": [
    "# Look at Confusion Matrix\n",
    "confusionMatrix(pred, testing$Species)"
   ]
  },
  {
   "cell_type": "code",
   "execution_count": 11,
   "metadata": {},
   "outputs": [
    {
     "data": {
      "text/plain": [
       "            \n",
       "pred         setosa versicolor virginica\n",
       "  setosa         15          0         0\n",
       "  versicolor      0         15         1\n",
       "  virginica       0          0        14"
      ]
     },
     "metadata": {},
     "output_type": "display_data"
    }
   ],
   "source": [
    "# Look at the Values Predicted wrong\n",
    "testing$predRight <- pred == testing$Species\n",
    "table(pred, testing$Species)"
   ]
  },
  {
   "cell_type": "code",
   "execution_count": 12,
   "metadata": {},
   "outputs": [
    {
     "data": {},
     "metadata": {},
     "output_type": "display_data"
    },
    {
     "data": {
      "image/png": "[encoded data removed]",
      "text/plain": [
       "plot without title"
      ]
     },
     "metadata": {},
     "output_type": "display_data"
    }
   ],
   "source": [
    "qplot(Petal.Width, Petal.Length, color = predRight, data = testing, main = \"Predictions\")"
   ]
  },
  {
   "cell_type": "code",
   "execution_count": null,
   "metadata": {
    "collapsed": true
   },
   "outputs": [],
   "source": []
  }
 ],
 "metadata": {
  "kernelspec": {
   "display_name": "R",
   "language": "R",
   "name": "ir"
  },
  "language_info": {
   "codemirror_mode": "r",
   "file_extension": ".r",
   "mimetype": "text/x-r-source",
   "name": "R",
   "pygments_lexer": "r",
   "version": "3.4.1"
  }
 },
 "nbformat": 4,
 "nbformat_minor": 2
}
