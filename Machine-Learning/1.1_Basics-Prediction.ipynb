{
 "cells": [
  {
   "cell_type": "markdown",
   "metadata": {},
   "source": [
    "<h1><center>Machine Learning Basics</center></h1>"
   ]
  },
  {
   "cell_type": "markdown",
   "metadata": {},
   "source": [
    "## Prediction Study Design\n",
    "1. Split Data into: Training, Validation, and Test\n",
    "2. Pick Features from Training set: use cross-validation\n",
    "3. Pick Prediction Model on the Training set: use cross-validation:\n",
    "    - Apply to Validation Set and refine\n",
    "    - If no Validation set, apply 1 time to Test set\n",
    "4. Benchmark: set all varibale to 0 to pinpoint/test model\n",
    "5. Avoid small sample sizes:\n",
    "    - Coin flip problem: \n",
    "        - For n = 1, Probability of perfect classification (100% accuracy) is 50%\n",
    "        - For n = 10, Probability of perfect classification (100% accuracy) is 0.10%"
   ]
  },
  {
   "cell_type": "markdown",
   "metadata": {},
   "source": [
    "## Sample Division\n",
    "\n",
    "1. Large Sample size:\n",
    "    - 60% Training\n",
    "    - 20% Validation\n",
    "    - 20% Test\n",
    "2. Small Sample size:\n",
    "    - 60% Tarining\n",
    "    - 40% Test\n",
    "    - No Validation to refine the Model\n",
    "3. Randomly sample Training and Test sets\n",
    "    - For data collected over time, build Training set in chunks of time"
   ]
  },
  {
   "cell_type": "markdown",
   "metadata": {},
   "source": [
    "## In Sample vs Out of Sample Errors\n",
    "- In Sample Error (resubstitution error): error from prediction on the dataset used to bulid the algorithm\n",
    "- Out of Sample Error (generalization error): error from prediction on the new dataset\n",
    "- Over-fitting: when is too optimized for the training set\n",
    "  - In Sample Error < Out of Sample Error"
   ]
  },
  {
   "cell_type": "markdown",
   "metadata": {},
   "source": [
    "<hr>"
   ]
  },
  {
   "cell_type": "markdown",
   "metadata": {},
   "source": [
    "<h1><center>Over-Fitting</center></h1>"
   ]
  },
  {
   "cell_type": "markdown",
   "metadata": {},
   "source": [
    "## Example of over-fitting:\n",
    "- Using \"kernlab\" package, included in \"caret\"\n",
    "- Using dataset \"spam\":\n",
    "  - A data frame with 4601 observations and 58 variables.\n",
    "  - The first 48 variables contain the frequency of the variable name (e.g., business) in the e-mail. \n",
    "  - If the variable name starts with num (e.g., num650) the it indicates the frequency of the corresponding number (e.g., 650). \n",
    "  - The variables 49-54 indicate the frequency of the characters \";\", \"(\", \"[\", \"!\", \"\\$\", and \"\\#\" \n",
    "  - The variables 55-57 contain the average, longest and total run-length of capital letters. \n",
    "  - Variable 58 indicates the type of the mail and is either \"nonspam\" or \"spam\", i.e. unsolicited commercial e-mail.\n",
    "\n"
   ]
  },
  {
   "cell_type": "code",
   "execution_count": 1,
   "metadata": {},
   "outputs": [
    {
     "name": "stderr",
     "output_type": "stream",
     "text": [
      "\n",
      "Attaching package: ‘dplyr’\n",
      "\n",
      "The following objects are masked from ‘package:stats’:\n",
      "\n",
      "    filter, lag\n",
      "\n",
      "The following objects are masked from ‘package:base’:\n",
      "\n",
      "    intersect, setdiff, setequal, union\n",
      "\n",
      "\n",
      "Attaching package: ‘kernlab’\n",
      "\n",
      "The following object is masked from ‘package:ggplot2’:\n",
      "\n",
      "    alpha\n",
      "\n"
     ]
    }
   ],
   "source": [
    "# Load data\n",
    "library(dplyr)\n",
    "library(tibble)\n",
    "library(ggplot2)\n",
    "\n",
    "library(kernlab)"
   ]
  },
  {
   "cell_type": "code",
   "execution_count": 2,
   "metadata": {},
   "outputs": [
    {
     "data": {
      "text/html": [
       "<ol class=list-inline>\n",
       "\t<li>4601</li>\n",
       "\t<li>58</li>\n",
       "</ol>\n"
      ],
      "text/latex": [
       "\\begin{enumerate*}\n",
       "\\item 4601\n",
       "\\item 58\n",
       "\\end{enumerate*}\n"
      ],
      "text/markdown": [
       "1. 4601\n",
       "2. 58\n",
       "\n",
       "\n"
      ],
      "text/plain": [
       "[1] 4601   58"
      ]
     },
     "metadata": {},
     "output_type": "display_data"
    }
   ],
   "source": [
    "data(spam)\n",
    "dim(spam)"
   ]
  },
  {
   "cell_type": "code",
   "execution_count": 3,
   "metadata": {},
   "outputs": [
    {
     "data": {
      "text/html": [
       "<table>\n",
       "<thead><tr><th scope=col>make</th><th scope=col>address</th><th scope=col>all</th><th scope=col>num3d</th><th scope=col>our</th><th scope=col>over</th><th scope=col>remove</th><th scope=col>internet</th><th scope=col>order</th><th scope=col>mail</th><th scope=col>⋯</th><th scope=col>charSemicolon</th><th scope=col>charRoundbracket</th><th scope=col>charSquarebracket</th><th scope=col>charExclamation</th><th scope=col>charDollar</th><th scope=col>charHash</th><th scope=col>capitalAve</th><th scope=col>capitalLong</th><th scope=col>capitalTotal</th><th scope=col>type</th></tr></thead>\n",
       "<tbody>\n",
       "\t<tr><td>0.00 </td><td>0.64 </td><td>0.64 </td><td>0    </td><td>0.32 </td><td>0.00 </td><td>0.00 </td><td>0.00 </td><td>0.00 </td><td>0.00 </td><td>⋯    </td><td>0.00 </td><td>0.000</td><td>0    </td><td>0.778</td><td>0.000</td><td>0.000</td><td>3.756</td><td> 61  </td><td> 278 </td><td>spam </td></tr>\n",
       "\t<tr><td>0.21 </td><td>0.28 </td><td>0.50 </td><td>0    </td><td>0.14 </td><td>0.28 </td><td>0.21 </td><td>0.07 </td><td>0.00 </td><td>0.94 </td><td>⋯    </td><td>0.00 </td><td>0.132</td><td>0    </td><td>0.372</td><td>0.180</td><td>0.048</td><td>5.114</td><td>101  </td><td>1028 </td><td>spam </td></tr>\n",
       "\t<tr><td>0.06 </td><td>0.00 </td><td>0.71 </td><td>0    </td><td>1.23 </td><td>0.19 </td><td>0.19 </td><td>0.12 </td><td>0.64 </td><td>0.25 </td><td>⋯    </td><td>0.01 </td><td>0.143</td><td>0    </td><td>0.276</td><td>0.184</td><td>0.010</td><td>9.821</td><td>485  </td><td>2259 </td><td>spam </td></tr>\n",
       "\t<tr><td>0.00 </td><td>0.00 </td><td>0.00 </td><td>0    </td><td>0.63 </td><td>0.00 </td><td>0.31 </td><td>0.63 </td><td>0.31 </td><td>0.63 </td><td>⋯    </td><td>0.00 </td><td>0.137</td><td>0    </td><td>0.137</td><td>0.000</td><td>0.000</td><td>3.537</td><td> 40  </td><td> 191 </td><td>spam </td></tr>\n",
       "\t<tr><td>0.00 </td><td>0.00 </td><td>0.00 </td><td>0    </td><td>0.63 </td><td>0.00 </td><td>0.31 </td><td>0.63 </td><td>0.31 </td><td>0.63 </td><td>⋯    </td><td>0.00 </td><td>0.135</td><td>0    </td><td>0.135</td><td>0.000</td><td>0.000</td><td>3.537</td><td> 40  </td><td> 191 </td><td>spam </td></tr>\n",
       "\t<tr><td>0.00 </td><td>0.00 </td><td>0.00 </td><td>0    </td><td>1.85 </td><td>0.00 </td><td>0.00 </td><td>1.85 </td><td>0.00 </td><td>0.00 </td><td>⋯    </td><td>0.00 </td><td>0.223</td><td>0    </td><td>0.000</td><td>0.000</td><td>0.000</td><td>3.000</td><td> 15  </td><td>  54 </td><td>spam </td></tr>\n",
       "</tbody>\n",
       "</table>\n"
      ],
      "text/latex": [
       "\\begin{tabular}{r|llllllllllllllllllllllllllllllllllllllllllllllllllllllllll}\n",
       " make & address & all & num3d & our & over & remove & internet & order & mail & ⋯ & charSemicolon & charRoundbracket & charSquarebracket & charExclamation & charDollar & charHash & capitalAve & capitalLong & capitalTotal & type\\\\\n",
       "\\hline\n",
       "\t 0.00  & 0.64  & 0.64  & 0     & 0.32  & 0.00  & 0.00  & 0.00  & 0.00  & 0.00  & ⋯     & 0.00  & 0.000 & 0     & 0.778 & 0.000 & 0.000 & 3.756 &  61   &  278  & spam \\\\\n",
       "\t 0.21  & 0.28  & 0.50  & 0     & 0.14  & 0.28  & 0.21  & 0.07  & 0.00  & 0.94  & ⋯     & 0.00  & 0.132 & 0     & 0.372 & 0.180 & 0.048 & 5.114 & 101   & 1028  & spam \\\\\n",
       "\t 0.06  & 0.00  & 0.71  & 0     & 1.23  & 0.19  & 0.19  & 0.12  & 0.64  & 0.25  & ⋯     & 0.01  & 0.143 & 0     & 0.276 & 0.184 & 0.010 & 9.821 & 485   & 2259  & spam \\\\\n",
       "\t 0.00  & 0.00  & 0.00  & 0     & 0.63  & 0.00  & 0.31  & 0.63  & 0.31  & 0.63  & ⋯     & 0.00  & 0.137 & 0     & 0.137 & 0.000 & 0.000 & 3.537 &  40   &  191  & spam \\\\\n",
       "\t 0.00  & 0.00  & 0.00  & 0     & 0.63  & 0.00  & 0.31  & 0.63  & 0.31  & 0.63  & ⋯     & 0.00  & 0.135 & 0     & 0.135 & 0.000 & 0.000 & 3.537 &  40   &  191  & spam \\\\\n",
       "\t 0.00  & 0.00  & 0.00  & 0     & 1.85  & 0.00  & 0.00  & 1.85  & 0.00  & 0.00  & ⋯     & 0.00  & 0.223 & 0     & 0.000 & 0.000 & 0.000 & 3.000 &  15   &   54  & spam \\\\\n",
       "\\end{tabular}\n"
      ],
      "text/markdown": [
       "\n",
       "make | address | all | num3d | our | over | remove | internet | order | mail | ⋯ | charSemicolon | charRoundbracket | charSquarebracket | charExclamation | charDollar | charHash | capitalAve | capitalLong | capitalTotal | type | \n",
       "|---|---|---|---|---|---|\n",
       "| 0.00  | 0.64  | 0.64  | 0     | 0.32  | 0.00  | 0.00  | 0.00  | 0.00  | 0.00  | ⋯     | 0.00  | 0.000 | 0     | 0.778 | 0.000 | 0.000 | 3.756 |  61   |  278  | spam  | \n",
       "| 0.21  | 0.28  | 0.50  | 0     | 0.14  | 0.28  | 0.21  | 0.07  | 0.00  | 0.94  | ⋯     | 0.00  | 0.132 | 0     | 0.372 | 0.180 | 0.048 | 5.114 | 101   | 1028  | spam  | \n",
       "| 0.06  | 0.00  | 0.71  | 0     | 1.23  | 0.19  | 0.19  | 0.12  | 0.64  | 0.25  | ⋯     | 0.01  | 0.143 | 0     | 0.276 | 0.184 | 0.010 | 9.821 | 485   | 2259  | spam  | \n",
       "| 0.00  | 0.00  | 0.00  | 0     | 0.63  | 0.00  | 0.31  | 0.63  | 0.31  | 0.63  | ⋯     | 0.00  | 0.137 | 0     | 0.137 | 0.000 | 0.000 | 3.537 |  40   |  191  | spam  | \n",
       "| 0.00  | 0.00  | 0.00  | 0     | 0.63  | 0.00  | 0.31  | 0.63  | 0.31  | 0.63  | ⋯     | 0.00  | 0.135 | 0     | 0.135 | 0.000 | 0.000 | 3.537 |  40   |  191  | spam  | \n",
       "| 0.00  | 0.00  | 0.00  | 0     | 1.85  | 0.00  | 0.00  | 1.85  | 0.00  | 0.00  | ⋯     | 0.00  | 0.223 | 0     | 0.000 | 0.000 | 0.000 | 3.000 |  15   |   54  | spam  | \n",
       "\n",
       "\n"
      ],
      "text/plain": [
       "  make address all  num3d our  over remove internet order mail ⋯ charSemicolon\n",
       "1 0.00 0.64    0.64 0     0.32 0.00 0.00   0.00     0.00  0.00 ⋯ 0.00         \n",
       "2 0.21 0.28    0.50 0     0.14 0.28 0.21   0.07     0.00  0.94 ⋯ 0.00         \n",
       "3 0.06 0.00    0.71 0     1.23 0.19 0.19   0.12     0.64  0.25 ⋯ 0.01         \n",
       "4 0.00 0.00    0.00 0     0.63 0.00 0.31   0.63     0.31  0.63 ⋯ 0.00         \n",
       "5 0.00 0.00    0.00 0     0.63 0.00 0.31   0.63     0.31  0.63 ⋯ 0.00         \n",
       "6 0.00 0.00    0.00 0     1.85 0.00 0.00   1.85     0.00  0.00 ⋯ 0.00         \n",
       "  charRoundbracket charSquarebracket charExclamation charDollar charHash\n",
       "1 0.000            0                 0.778           0.000      0.000   \n",
       "2 0.132            0                 0.372           0.180      0.048   \n",
       "3 0.143            0                 0.276           0.184      0.010   \n",
       "4 0.137            0                 0.137           0.000      0.000   \n",
       "5 0.135            0                 0.135           0.000      0.000   \n",
       "6 0.223            0                 0.000           0.000      0.000   \n",
       "  capitalAve capitalLong capitalTotal type\n",
       "1 3.756       61          278         spam\n",
       "2 5.114      101         1028         spam\n",
       "3 9.821      485         2259         spam\n",
       "4 3.537       40          191         spam\n",
       "5 3.537       40          191         spam\n",
       "6 3.000       15           54         spam"
      ]
     },
     "metadata": {},
     "output_type": "display_data"
    }
   ],
   "source": [
    "head(spam)"
   ]
  },
  {
   "cell_type": "code",
   "execution_count": 4,
   "metadata": {
    "collapsed": true
   },
   "outputs": [],
   "source": [
    "# Set seed\n",
    "set.seed(333)"
   ]
  },
  {
   "cell_type": "code",
   "execution_count": 5,
   "metadata": {
    "collapsed": true
   },
   "outputs": [],
   "source": [
    "# Pick a small random subset from the spam dataset\n",
    "small_spam <- spam %>%\n",
    "  sample_n(10) %>%\n",
    "  as_tibble()"
   ]
  },
  {
   "cell_type": "code",
   "execution_count": 6,
   "metadata": {},
   "outputs": [
    {
     "data": {
      "text/html": [
       "<ol class=list-inline>\n",
       "\t<li>10</li>\n",
       "\t<li>58</li>\n",
       "</ol>\n"
      ],
      "text/latex": [
       "\\begin{enumerate*}\n",
       "\\item 10\n",
       "\\item 58\n",
       "\\end{enumerate*}\n"
      ],
      "text/markdown": [
       "1. 10\n",
       "2. 58\n",
       "\n",
       "\n"
      ],
      "text/plain": [
       "[1] 10 58"
      ]
     },
     "metadata": {},
     "output_type": "display_data"
    },
    {
     "data": {
      "text/html": [
       "<table>\n",
       "<thead><tr><th scope=col>make</th><th scope=col>address</th><th scope=col>all</th><th scope=col>num3d</th><th scope=col>our</th><th scope=col>over</th><th scope=col>remove</th><th scope=col>internet</th><th scope=col>order</th><th scope=col>mail</th><th scope=col>⋯</th><th scope=col>charSemicolon</th><th scope=col>charRoundbracket</th><th scope=col>charSquarebracket</th><th scope=col>charExclamation</th><th scope=col>charDollar</th><th scope=col>charHash</th><th scope=col>capitalAve</th><th scope=col>capitalLong</th><th scope=col>capitalTotal</th><th scope=col>type</th></tr></thead>\n",
       "<tbody>\n",
       "\t<tr><td>0.00   </td><td>0.00   </td><td>0.00   </td><td>0      </td><td>0.00   </td><td>0.00   </td><td>0.00   </td><td>0.00   </td><td>0.00   </td><td>0.00   </td><td>⋯      </td><td>0.000  </td><td>0.000  </td><td>0      </td><td>0.000  </td><td>0.000  </td><td>0.000  </td><td> 1.000 </td><td>  1    </td><td>   4   </td><td>nonspam</td></tr>\n",
       "\t<tr><td>0.08   </td><td>0.00   </td><td>0.93   </td><td>0      </td><td>1.52   </td><td>0.33   </td><td>0.00   </td><td>0.08   </td><td>0.67   </td><td>0.00   </td><td>⋯      </td><td>0.012  </td><td>0.101  </td><td>0      </td><td>0.356  </td><td>0.101  </td><td>0.012  </td><td>11.320 </td><td>669    </td><td>1834   </td><td>spam   </td></tr>\n",
       "\t<tr><td>0.00   </td><td>0.00   </td><td>0.00   </td><td>0      </td><td>0.00   </td><td>0.00   </td><td>0.00   </td><td>0.00   </td><td>0.00   </td><td>0.00   </td><td>⋯      </td><td>0.000  </td><td>0.684  </td><td>0      </td><td>0.684  </td><td>0.000  </td><td>0.000  </td><td> 1.000 </td><td>  1    </td><td>   1   </td><td>nonspam</td></tr>\n",
       "\t<tr><td>0.00   </td><td>0.00   </td><td>0.55   </td><td>0      </td><td>0.00   </td><td>0.00   </td><td>0.00   </td><td>0.00   </td><td>0.00   </td><td>0.00   </td><td>⋯      </td><td>0.000  </td><td>0.092  </td><td>0      </td><td>0.000  </td><td>0.000  </td><td>0.000  </td><td> 1.840 </td><td>  5    </td><td>  46   </td><td>nonspam</td></tr>\n",
       "\t<tr><td>0.59   </td><td>0.44   </td><td>0.29   </td><td>0      </td><td>0.14   </td><td>0.03   </td><td>0.03   </td><td>0.14   </td><td>0.56   </td><td>0.67   </td><td>⋯      </td><td>0.000  </td><td>0.075  </td><td>0      </td><td>0.613  </td><td>0.532  </td><td>0.137  </td><td> 7.300 </td><td>763    </td><td>2453   </td><td>spam   </td></tr>\n",
       "\t<tr><td>0.00   </td><td>0.00   </td><td>0.26   </td><td>0      </td><td>0.53   </td><td>0.00   </td><td>0.00   </td><td>0.00   </td><td>0.00   </td><td>0.00   </td><td>⋯      </td><td>0.128  </td><td>0.042  </td><td>0      </td><td>0.000  </td><td>0.000  </td><td>0.000  </td><td> 1.635 </td><td>  6    </td><td> 139   </td><td>nonspam</td></tr>\n",
       "</tbody>\n",
       "</table>\n"
      ],
      "text/latex": [
       "\\begin{tabular}{r|llllllllllllllllllllllllllllllllllllllllllllllllllllllllll}\n",
       " make & address & all & num3d & our & over & remove & internet & order & mail & ⋯ & charSemicolon & charRoundbracket & charSquarebracket & charExclamation & charDollar & charHash & capitalAve & capitalLong & capitalTotal & type\\\\\n",
       "\\hline\n",
       "\t 0.00    & 0.00    & 0.00    & 0       & 0.00    & 0.00    & 0.00    & 0.00    & 0.00    & 0.00    & ⋯       & 0.000   & 0.000   & 0       & 0.000   & 0.000   & 0.000   &  1.000  &   1     &    4    & nonspam\\\\\n",
       "\t 0.08    & 0.00    & 0.93    & 0       & 1.52    & 0.33    & 0.00    & 0.08    & 0.67    & 0.00    & ⋯       & 0.012   & 0.101   & 0       & 0.356   & 0.101   & 0.012   & 11.320  & 669     & 1834    & spam   \\\\\n",
       "\t 0.00    & 0.00    & 0.00    & 0       & 0.00    & 0.00    & 0.00    & 0.00    & 0.00    & 0.00    & ⋯       & 0.000   & 0.684   & 0       & 0.684   & 0.000   & 0.000   &  1.000  &   1     &    1    & nonspam\\\\\n",
       "\t 0.00    & 0.00    & 0.55    & 0       & 0.00    & 0.00    & 0.00    & 0.00    & 0.00    & 0.00    & ⋯       & 0.000   & 0.092   & 0       & 0.000   & 0.000   & 0.000   &  1.840  &   5     &   46    & nonspam\\\\\n",
       "\t 0.59    & 0.44    & 0.29    & 0       & 0.14    & 0.03    & 0.03    & 0.14    & 0.56    & 0.67    & ⋯       & 0.000   & 0.075   & 0       & 0.613   & 0.532   & 0.137   &  7.300  & 763     & 2453    & spam   \\\\\n",
       "\t 0.00    & 0.00    & 0.26    & 0       & 0.53    & 0.00    & 0.00    & 0.00    & 0.00    & 0.00    & ⋯       & 0.128   & 0.042   & 0       & 0.000   & 0.000   & 0.000   &  1.635  &   6     &  139    & nonspam\\\\\n",
       "\\end{tabular}\n"
      ],
      "text/markdown": [
       "\n",
       "make | address | all | num3d | our | over | remove | internet | order | mail | ⋯ | charSemicolon | charRoundbracket | charSquarebracket | charExclamation | charDollar | charHash | capitalAve | capitalLong | capitalTotal | type | \n",
       "|---|---|---|---|---|---|\n",
       "| 0.00    | 0.00    | 0.00    | 0       | 0.00    | 0.00    | 0.00    | 0.00    | 0.00    | 0.00    | ⋯       | 0.000   | 0.000   | 0       | 0.000   | 0.000   | 0.000   |  1.000  |   1     |    4    | nonspam | \n",
       "| 0.08    | 0.00    | 0.93    | 0       | 1.52    | 0.33    | 0.00    | 0.08    | 0.67    | 0.00    | ⋯       | 0.012   | 0.101   | 0       | 0.356   | 0.101   | 0.012   | 11.320  | 669     | 1834    | spam    | \n",
       "| 0.00    | 0.00    | 0.00    | 0       | 0.00    | 0.00    | 0.00    | 0.00    | 0.00    | 0.00    | ⋯       | 0.000   | 0.684   | 0       | 0.684   | 0.000   | 0.000   |  1.000  |   1     |    1    | nonspam | \n",
       "| 0.00    | 0.00    | 0.55    | 0       | 0.00    | 0.00    | 0.00    | 0.00    | 0.00    | 0.00    | ⋯       | 0.000   | 0.092   | 0       | 0.000   | 0.000   | 0.000   |  1.840  |   5     |   46    | nonspam | \n",
       "| 0.59    | 0.44    | 0.29    | 0       | 0.14    | 0.03    | 0.03    | 0.14    | 0.56    | 0.67    | ⋯       | 0.000   | 0.075   | 0       | 0.613   | 0.532   | 0.137   |  7.300  | 763     | 2453    | spam    | \n",
       "| 0.00    | 0.00    | 0.26    | 0       | 0.53    | 0.00    | 0.00    | 0.00    | 0.00    | 0.00    | ⋯       | 0.128   | 0.042   | 0       | 0.000   | 0.000   | 0.000   |  1.635  |   6     |  139    | nonspam | \n",
       "\n",
       "\n"
      ],
      "text/plain": [
       "  make address all  num3d our  over remove internet order mail ⋯ charSemicolon\n",
       "1 0.00 0.00    0.00 0     0.00 0.00 0.00   0.00     0.00  0.00 ⋯ 0.000        \n",
       "2 0.08 0.00    0.93 0     1.52 0.33 0.00   0.08     0.67  0.00 ⋯ 0.012        \n",
       "3 0.00 0.00    0.00 0     0.00 0.00 0.00   0.00     0.00  0.00 ⋯ 0.000        \n",
       "4 0.00 0.00    0.55 0     0.00 0.00 0.00   0.00     0.00  0.00 ⋯ 0.000        \n",
       "5 0.59 0.44    0.29 0     0.14 0.03 0.03   0.14     0.56  0.67 ⋯ 0.000        \n",
       "6 0.00 0.00    0.26 0     0.53 0.00 0.00   0.00     0.00  0.00 ⋯ 0.128        \n",
       "  charRoundbracket charSquarebracket charExclamation charDollar charHash\n",
       "1 0.000            0                 0.000           0.000      0.000   \n",
       "2 0.101            0                 0.356           0.101      0.012   \n",
       "3 0.684            0                 0.684           0.000      0.000   \n",
       "4 0.092            0                 0.000           0.000      0.000   \n",
       "5 0.075            0                 0.613           0.532      0.137   \n",
       "6 0.042            0                 0.000           0.000      0.000   \n",
       "  capitalAve capitalLong capitalTotal type   \n",
       "1  1.000       1            4         nonspam\n",
       "2 11.320     669         1834         spam   \n",
       "3  1.000       1            1         nonspam\n",
       "4  1.840       5           46         nonspam\n",
       "5  7.300     763         2453         spam   \n",
       "6  1.635       6          139         nonspam"
      ]
     },
     "metadata": {},
     "output_type": "display_data"
    }
   ],
   "source": [
    "# Tibble not displaying properly in Jupyter \n",
    "dim(small_spam)\n",
    "head(small_spam)"
   ]
  },
  {
   "cell_type": "markdown",
   "metadata": {},
   "source": [
    "## Plot the \"capitalAve\" Variable as either spam or ham based on \"type\" as color "
   ]
  },
  {
   "cell_type": "code",
   "execution_count": 7,
   "metadata": {},
   "outputs": [
    {
     "data": {
      "text/html": [
       "<ol class=list-inline>\n",
       "\t<li>nonspam</li>\n",
       "\t<li>spam</li>\n",
       "\t<li>nonspam</li>\n",
       "\t<li>nonspam</li>\n",
       "\t<li>spam</li>\n",
       "\t<li>nonspam</li>\n",
       "\t<li>nonspam</li>\n",
       "\t<li>spam</li>\n",
       "\t<li>spam</li>\n",
       "\t<li>spam</li>\n",
       "</ol>\n"
      ],
      "text/latex": [
       "\\begin{enumerate*}\n",
       "\\item nonspam\n",
       "\\item spam\n",
       "\\item nonspam\n",
       "\\item nonspam\n",
       "\\item spam\n",
       "\\item nonspam\n",
       "\\item nonspam\n",
       "\\item spam\n",
       "\\item spam\n",
       "\\item spam\n",
       "\\end{enumerate*}\n"
      ],
      "text/markdown": [
       "1. nonspam\n",
       "2. spam\n",
       "3. nonspam\n",
       "4. nonspam\n",
       "5. spam\n",
       "6. nonspam\n",
       "7. nonspam\n",
       "8. spam\n",
       "9. spam\n",
       "10. spam\n",
       "\n",
       "\n"
      ],
      "text/plain": [
       " [1] nonspam spam    nonspam nonspam spam    nonspam nonspam spam    spam   \n",
       "[10] spam   \n",
       "Levels: nonspam spam"
      ]
     },
     "metadata": {},
     "output_type": "display_data"
    }
   ],
   "source": [
    "small_spam$type"
   ]
  },
  {
   "cell_type": "code",
   "execution_count": 8,
   "metadata": {},
   "outputs": [
    {
     "data": {
      "text/html": [
       "<ol class=list-inline>\n",
       "\t<li>'nonspam'</li>\n",
       "\t<li>'spam'</li>\n",
       "</ol>\n"
      ],
      "text/latex": [
       "\\begin{enumerate*}\n",
       "\\item 'nonspam'\n",
       "\\item 'spam'\n",
       "\\end{enumerate*}\n"
      ],
      "text/markdown": [
       "1. 'nonspam'\n",
       "2. 'spam'\n",
       "\n",
       "\n"
      ],
      "text/plain": [
       "[1] \"nonspam\" \"spam\"   "
      ]
     },
     "metadata": {},
     "output_type": "display_data"
    }
   ],
   "source": [
    "levels(small_spam$type)"
   ]
  },
  {
   "cell_type": "code",
   "execution_count": 9,
   "metadata": {},
   "outputs": [
    {
     "data": {
      "text/html": [
       "<ol class=list-inline>\n",
       "\t<li>1</li>\n",
       "\t<li>11.32</li>\n",
       "\t<li>1</li>\n",
       "\t<li>1.84</li>\n",
       "\t<li>7.3</li>\n",
       "\t<li>1.635</li>\n",
       "\t<li>2.666</li>\n",
       "\t<li>3.545</li>\n",
       "\t<li>5.163</li>\n",
       "\t<li>2.444</li>\n",
       "</ol>\n"
      ],
      "text/latex": [
       "\\begin{enumerate*}\n",
       "\\item 1\n",
       "\\item 11.32\n",
       "\\item 1\n",
       "\\item 1.84\n",
       "\\item 7.3\n",
       "\\item 1.635\n",
       "\\item 2.666\n",
       "\\item 3.545\n",
       "\\item 5.163\n",
       "\\item 2.444\n",
       "\\end{enumerate*}\n"
      ],
      "text/markdown": [
       "1. 1\n",
       "2. 11.32\n",
       "3. 1\n",
       "4. 1.84\n",
       "5. 7.3\n",
       "6. 1.635\n",
       "7. 2.666\n",
       "8. 3.545\n",
       "9. 5.163\n",
       "10. 2.444\n",
       "\n",
       "\n"
      ],
      "text/plain": [
       " [1]  1.000 11.320  1.000  1.840  7.300  1.635  2.666  3.545  5.163  2.444"
      ]
     },
     "metadata": {},
     "output_type": "display_data"
    }
   ],
   "source": [
    "small_spam$capitalAve"
   ]
  },
  {
   "cell_type": "code",
   "execution_count": 10,
   "metadata": {},
   "outputs": [
    {
     "data": {},
     "metadata": {},
     "output_type": "display_data"
    },
    {
     "data": {
      "image/png": "[encoded data removed]",
      "text/plain": [
       "plot without title"
      ]
     },
     "metadata": {},
     "output_type": "display_data"
    }
   ],
   "source": [
    "small_spam %>%\n",
    "  ggplot() +\n",
    "  theme_bw() +\n",
    "  geom_point(aes(x = seq_along(capitalAve), y = capitalAve, color = type), alpha = 0.8) +\n",
    "  scale_x_continuous(name = \"Email number\", breaks = 1:10, minor_breaks = FALSE) +\n",
    "  scale_y_continuous(name = \"Average of Capital Letters\") +\n",
    "  scale_color_manual(name = \"Type of Email\", values = c(\"green\", \"red\"))"
   ]
  },
  {
   "cell_type": "markdown",
   "metadata": {},
   "source": [
    "<hr>"
   ]
  },
  {
   "cell_type": "markdown",
   "metadata": {},
   "source": [
    "## Build Prediction Model: Over-fitting based on observation"
   ]
  },
  {
   "cell_type": "code",
   "execution_count": 11,
   "metadata": {
    "collapsed": true
   },
   "outputs": [],
   "source": [
    "rule1 <- function(x) {\n",
    "  # Create vector of NA, length of the Variable passed\n",
    "  prediction <- rep(NA, length(x))\n",
    "  \n",
    "  # Make prediction based on the data to overfit\n",
    "  prediction[x > 3.30] <- \"spam\"\n",
    "  prediction[x < 3.3] <- \"nonspam\"\n",
    "  # Include the Outlier spam\n",
    "  prediction[(x > 2.40 & x < 2.50)] <- \"spam\" # Outlier\n",
    "  \n",
    "  return(prediction)\n",
    "}"
   ]
  },
  {
   "cell_type": "markdown",
   "metadata": {},
   "source": [
    "### No Errors in this case. Model is Overfitted"
   ]
  },
  {
   "cell_type": "code",
   "execution_count": 12,
   "metadata": {},
   "outputs": [
    {
     "data": {
      "text/html": [
       "<ol class=list-inline>\n",
       "\t<li>1</li>\n",
       "\t<li>11.32</li>\n",
       "\t<li>1</li>\n",
       "\t<li>1.84</li>\n",
       "\t<li>7.3</li>\n",
       "\t<li>1.635</li>\n",
       "\t<li>2.666</li>\n",
       "\t<li>3.545</li>\n",
       "\t<li>5.163</li>\n",
       "\t<li>2.444</li>\n",
       "</ol>\n"
      ],
      "text/latex": [
       "\\begin{enumerate*}\n",
       "\\item 1\n",
       "\\item 11.32\n",
       "\\item 1\n",
       "\\item 1.84\n",
       "\\item 7.3\n",
       "\\item 1.635\n",
       "\\item 2.666\n",
       "\\item 3.545\n",
       "\\item 5.163\n",
       "\\item 2.444\n",
       "\\end{enumerate*}\n"
      ],
      "text/markdown": [
       "1. 1\n",
       "2. 11.32\n",
       "3. 1\n",
       "4. 1.84\n",
       "5. 7.3\n",
       "6. 1.635\n",
       "7. 2.666\n",
       "8. 3.545\n",
       "9. 5.163\n",
       "10. 2.444\n",
       "\n",
       "\n"
      ],
      "text/plain": [
       " [1]  1.000 11.320  1.000  1.840  7.300  1.635  2.666  3.545  5.163  2.444"
      ]
     },
     "metadata": {},
     "output_type": "display_data"
    },
    {
     "data": {
      "text/html": [
       "<ol class=list-inline>\n",
       "\t<li>'nonspam'</li>\n",
       "\t<li>'spam'</li>\n",
       "\t<li>'nonspam'</li>\n",
       "\t<li>'nonspam'</li>\n",
       "\t<li>'spam'</li>\n",
       "\t<li>'nonspam'</li>\n",
       "\t<li>'nonspam'</li>\n",
       "\t<li>'spam'</li>\n",
       "\t<li>'spam'</li>\n",
       "\t<li>'spam'</li>\n",
       "</ol>\n"
      ],
      "text/latex": [
       "\\begin{enumerate*}\n",
       "\\item 'nonspam'\n",
       "\\item 'spam'\n",
       "\\item 'nonspam'\n",
       "\\item 'nonspam'\n",
       "\\item 'spam'\n",
       "\\item 'nonspam'\n",
       "\\item 'nonspam'\n",
       "\\item 'spam'\n",
       "\\item 'spam'\n",
       "\\item 'spam'\n",
       "\\end{enumerate*}\n"
      ],
      "text/markdown": [
       "1. 'nonspam'\n",
       "2. 'spam'\n",
       "3. 'nonspam'\n",
       "4. 'nonspam'\n",
       "5. 'spam'\n",
       "6. 'nonspam'\n",
       "7. 'nonspam'\n",
       "8. 'spam'\n",
       "9. 'spam'\n",
       "10. 'spam'\n",
       "\n",
       "\n"
      ],
      "text/plain": [
       " [1] \"nonspam\" \"spam\"    \"nonspam\" \"nonspam\" \"spam\"    \"nonspam\" \"nonspam\"\n",
       " [8] \"spam\"    \"spam\"    \"spam\"   "
      ]
     },
     "metadata": {},
     "output_type": "display_data"
    }
   ],
   "source": [
    "small_spam$capitalAve\n",
    "result <- rule1(small_spam$capitalAve)\n",
    "result"
   ]
  },
  {
   "cell_type": "code",
   "execution_count": 13,
   "metadata": {},
   "outputs": [
    {
     "data": {
      "text/plain": [
       "result\n",
       "nonspam    spam \n",
       "      5       5 "
      ]
     },
     "metadata": {},
     "output_type": "display_data"
    }
   ],
   "source": [
    "# Make a table\n",
    "table(result)"
   ]
  },
  {
   "cell_type": "code",
   "execution_count": 14,
   "metadata": {},
   "outputs": [
    {
     "data": {
      "text/plain": [
       "\n",
       "nonspam    spam \n",
       "      5       5 "
      ]
     },
     "metadata": {},
     "output_type": "display_data"
    }
   ],
   "source": [
    "table(small_spam$type)"
   ]
  },
  {
   "cell_type": "code",
   "execution_count": 15,
   "metadata": {},
   "outputs": [
    {
     "data": {
      "text/plain": [
       "         \n",
       "result    nonspam spam\n",
       "  nonspam       5    0\n",
       "  spam          0    5"
      ]
     },
     "metadata": {},
     "output_type": "display_data"
    }
   ],
   "source": [
    "table(result, small_spam$type)"
   ]
  },
  {
   "cell_type": "markdown",
   "metadata": {},
   "source": [
    "## Build Prediction Model: Threshold"
   ]
  },
  {
   "cell_type": "code",
   "execution_count": 16,
   "metadata": {
    "collapsed": true
   },
   "outputs": [],
   "source": [
    "rule2 <- function(x) {\n",
    "  # Create vector of NA, length of the Variable passed\n",
    "  prediction <- rep(NA, length(x))\n",
    "  \n",
    "  # Make prediction based on the data to overfit\n",
    "  prediction[x > 3.30] <- \"spam\"\n",
    "  prediction[x < 3.3] <- \"nonspam\"\n",
    "  \n",
    "  return(prediction)\n",
    "}"
   ]
  },
  {
   "cell_type": "markdown",
   "metadata": {},
   "source": [
    "### In Sample Errors in this case. Model is NOT Overfitted"
   ]
  },
  {
   "cell_type": "code",
   "execution_count": 17,
   "metadata": {},
   "outputs": [
    {
     "data": {
      "text/html": [
       "<ol class=list-inline>\n",
       "\t<li>'nonspam'</li>\n",
       "\t<li>'spam'</li>\n",
       "\t<li>'nonspam'</li>\n",
       "\t<li>'nonspam'</li>\n",
       "\t<li>'spam'</li>\n",
       "\t<li>'nonspam'</li>\n",
       "\t<li>'nonspam'</li>\n",
       "\t<li>'spam'</li>\n",
       "\t<li>'spam'</li>\n",
       "\t<li>'nonspam'</li>\n",
       "</ol>\n"
      ],
      "text/latex": [
       "\\begin{enumerate*}\n",
       "\\item 'nonspam'\n",
       "\\item 'spam'\n",
       "\\item 'nonspam'\n",
       "\\item 'nonspam'\n",
       "\\item 'spam'\n",
       "\\item 'nonspam'\n",
       "\\item 'nonspam'\n",
       "\\item 'spam'\n",
       "\\item 'spam'\n",
       "\\item 'nonspam'\n",
       "\\end{enumerate*}\n"
      ],
      "text/markdown": [
       "1. 'nonspam'\n",
       "2. 'spam'\n",
       "3. 'nonspam'\n",
       "4. 'nonspam'\n",
       "5. 'spam'\n",
       "6. 'nonspam'\n",
       "7. 'nonspam'\n",
       "8. 'spam'\n",
       "9. 'spam'\n",
       "10. 'nonspam'\n",
       "\n",
       "\n"
      ],
      "text/plain": [
       " [1] \"nonspam\" \"spam\"    \"nonspam\" \"nonspam\" \"spam\"    \"nonspam\" \"nonspam\"\n",
       " [8] \"spam\"    \"spam\"    \"nonspam\""
      ]
     },
     "metadata": {},
     "output_type": "display_data"
    }
   ],
   "source": [
    "result <- rule2(small_spam$capitalAve)\n",
    "result"
   ]
  },
  {
   "cell_type": "code",
   "execution_count": 18,
   "metadata": {},
   "outputs": [
    {
     "data": {
      "text/plain": [
       "result\n",
       "nonspam    spam \n",
       "      6       4 "
      ]
     },
     "metadata": {},
     "output_type": "display_data"
    }
   ],
   "source": [
    "# Make a table\n",
    "table(result)"
   ]
  },
  {
   "cell_type": "code",
   "execution_count": 19,
   "metadata": {},
   "outputs": [
    {
     "data": {
      "text/plain": [
       "\n",
       "nonspam    spam \n",
       "      5       5 "
      ]
     },
     "metadata": {},
     "output_type": "display_data"
    }
   ],
   "source": [
    "table(small_spam$type)"
   ]
  },
  {
   "cell_type": "code",
   "execution_count": 20,
   "metadata": {},
   "outputs": [
    {
     "data": {
      "text/plain": [
       "         \n",
       "result    nonspam spam\n",
       "  nonspam       5    1\n",
       "  spam          0    4"
      ]
     },
     "metadata": {},
     "output_type": "display_data"
    }
   ],
   "source": [
    "table(result, small_spam$type)"
   ]
  },
  {
   "cell_type": "markdown",
   "metadata": {},
   "source": [
    "<hr>"
   ]
  },
  {
   "cell_type": "markdown",
   "metadata": {},
   "source": [
    "## Apply Prediction Models to Test Data"
   ]
  },
  {
   "cell_type": "code",
   "execution_count": 21,
   "metadata": {
    "collapsed": true
   },
   "outputs": [],
   "source": [
    "result1 <- rule1(spam$capitalAve)\n",
    "result2 <- rule2(spam$capitalAve)"
   ]
  },
  {
   "cell_type": "code",
   "execution_count": 22,
   "metadata": {},
   "outputs": [
    {
     "data": {
      "text/plain": [
       "         \n",
       "result1   nonspam spam\n",
       "  nonspam    2348  759\n",
       "  spam        439 1054"
      ]
     },
     "metadata": {},
     "output_type": "display_data"
    }
   ],
   "source": [
    "table(result1, spam$type)"
   ]
  },
  {
   "cell_type": "code",
   "execution_count": 23,
   "metadata": {},
   "outputs": [
    {
     "data": {
      "text/plain": [
       "         \n",
       "result2   nonspam spam\n",
       "  nonspam    2405  801\n",
       "  spam        382 1012"
      ]
     },
     "metadata": {},
     "output_type": "display_data"
    }
   ],
   "source": [
    "table(result2, spam$type)"
   ]
  },
  {
   "cell_type": "markdown",
   "metadata": {},
   "source": [
    "## Check Accuracy"
   ]
  },
  {
   "cell_type": "code",
   "execution_count": 24,
   "metadata": {},
   "outputs": [
    {
     "data": {
      "text/html": [
       "<table>\n",
       "<thead><tr><th></th><th scope=col>Accuracy</th><th scope=col>Total Correct</th></tr></thead>\n",
       "<tbody>\n",
       "\t<tr><th scope=row>Rule 1:</th><td>0.7395652</td><td>3402     </td></tr>\n",
       "\t<tr><th scope=row>Rule 2:</th><td>0.7428261</td><td>3417     </td></tr>\n",
       "</tbody>\n",
       "</table>\n"
      ],
      "text/latex": [
       "\\begin{tabular}{r|ll}\n",
       "  & Accuracy & Total Correct\\\\\n",
       "\\hline\n",
       "\tRule 1: & 0.7395652 & 3402     \\\\\n",
       "\tRule 2: & 0.7428261 & 3417     \\\\\n",
       "\\end{tabular}\n"
      ],
      "text/markdown": [
       "\n",
       "| <!--/--> | Accuracy | Total Correct | \n",
       "|---|---|\n",
       "| Rule 1: | 0.7395652 | 3402      | \n",
       "| Rule 2: | 0.7428261 | 3417      | \n",
       "\n",
       "\n"
      ],
      "text/plain": [
       "        Accuracy  Total Correct\n",
       "Rule 1: 0.7395652 3402         \n",
       "Rule 2: 0.7428261 3417         "
      ]
     },
     "metadata": {},
     "output_type": "display_data"
    }
   ],
   "source": [
    "rbind(\"Rule 1:\" = c(Accuracy = mean(result1 == spam$type, na.rm=TRUE), \n",
    "      \"Total Correct\" = sum(result1 == spam$type,  na.rm=TRUE)),\n",
    "      \"Rule 2:\" = c(Accuracy = mean(result2 == spam$type,  na.rm=TRUE), \n",
    "       \"Total Correct\" = sum(result2 == spam$type,  na.rm=TRUE)))"
   ]
  }
 ],
 "metadata": {
  "kernelspec": {
   "display_name": "R",
   "language": "R",
   "name": "ir"
  },
  "language_info": {
   "codemirror_mode": "r",
   "file_extension": ".r",
   "mimetype": "text/x-r-source",
   "name": "R",
   "pygments_lexer": "r",
   "version": "3.4.1"
  }
 },
 "nbformat": 4,
 "nbformat_minor": 2
}
