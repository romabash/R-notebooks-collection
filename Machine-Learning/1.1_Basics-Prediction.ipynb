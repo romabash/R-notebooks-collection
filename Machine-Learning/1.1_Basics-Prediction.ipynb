{
 "cells": [
  {
   "cell_type": "markdown",
   "metadata": {},
   "source": [
    "# Machine Learning Basics - Prediction\n",
    "- Probability and sampling to pick set of data\n",
    "- Split into training and test set\n",
    "- Build prediction function\n",
    "- Predict for new data\n",
    "- Evaluate"
   ]
  },
  {
   "cell_type": "markdown",
   "metadata": {},
   "source": [
    "## In Sample vs Out of Sample Errors\n",
    "- In Sample Error (resubstitution error): error from prediction on the dataset used to bulid the algorithm\n",
    "- Out of Sample Error (generalization error): error from prediction on the new dataset\n",
    "- Over-fitting: when is too optimized for the training set\n",
    "  - In Sample Error < Out of Sample Error"
   ]
  },
  {
   "cell_type": "markdown",
   "metadata": {},
   "source": [
    "## Example of over-fitting:\n",
    "- Using \"kernlab\" package, included in \"caret\"\n",
    "- Using dataset \"spam\":\n",
    "  - A data frame with 4601 observations and 58 variables.\n",
    "  - The first 48 variables contain the frequency of the variable name (e.g., business) in the e-mail. \n",
    "  - If the variable name starts with num (e.g., num650) the it indicates the frequency of the corresponding number (e.g., 650). \n",
    "  - The variables 49-54 indicate the frequency of the characters \";\", \"(\", \"[\", \"!\", \"\\$\", and \"\\#\" \n",
    "  - The variables 55-57 contain the average, longest and total run-length of capital letters. \n",
    "  - Variable 58 indicates the type of the mail and is either \"nonspam\" or \"spam\", i.e. unsolicited commercial e-mail.\n",
    "\n"
   ]
  },
  {
   "cell_type": "code",
   "execution_count": 1,
   "metadata": {},
   "outputs": [
    {
     "name": "stderr",
     "output_type": "stream",
     "text": [
      "\n",
      "Attaching package: ‘dplyr’\n",
      "\n",
      "The following objects are masked from ‘package:stats’:\n",
      "\n",
      "    filter, lag\n",
      "\n",
      "The following objects are masked from ‘package:base’:\n",
      "\n",
      "    intersect, setdiff, setequal, union\n",
      "\n",
      "\n",
      "Attaching package: ‘kernlab’\n",
      "\n",
      "The following object is masked from ‘package:ggplot2’:\n",
      "\n",
      "    alpha\n",
      "\n"
     ]
    }
   ],
   "source": [
    "# Load data\n",
    "library(dplyr)\n",
    "library(tibble)\n",
    "library(ggplot2)\n",
    "\n",
    "library(kernlab)"
   ]
  },
  {
   "cell_type": "code",
   "execution_count": 2,
   "metadata": {},
   "outputs": [
    {
     "data": {
      "text/html": [
       "<ol class=list-inline>\n",
       "\t<li>4601</li>\n",
       "\t<li>58</li>\n",
       "</ol>\n"
      ],
      "text/latex": [
       "\\begin{enumerate*}\n",
       "\\item 4601\n",
       "\\item 58\n",
       "\\end{enumerate*}\n"
      ],
      "text/markdown": [
       "1. 4601\n",
       "2. 58\n",
       "\n",
       "\n"
      ],
      "text/plain": [
       "[1] 4601   58"
      ]
     },
     "metadata": {},
     "output_type": "display_data"
    }
   ],
   "source": [
    "data(spam)\n",
    "dim(spam)"
   ]
  },
  {
   "cell_type": "code",
   "execution_count": 3,
   "metadata": {},
   "outputs": [
    {
     "data": {
      "text/html": [
       "<table>\n",
       "<thead><tr><th scope=col>make</th><th scope=col>address</th><th scope=col>all</th><th scope=col>num3d</th><th scope=col>our</th><th scope=col>over</th><th scope=col>remove</th><th scope=col>internet</th><th scope=col>order</th><th scope=col>mail</th><th scope=col>⋯</th><th scope=col>charSemicolon</th><th scope=col>charRoundbracket</th><th scope=col>charSquarebracket</th><th scope=col>charExclamation</th><th scope=col>charDollar</th><th scope=col>charHash</th><th scope=col>capitalAve</th><th scope=col>capitalLong</th><th scope=col>capitalTotal</th><th scope=col>type</th></tr></thead>\n",
       "<tbody>\n",
       "\t<tr><td>0.00 </td><td>0.64 </td><td>0.64 </td><td>0    </td><td>0.32 </td><td>0.00 </td><td>0.00 </td><td>0.00 </td><td>0.00 </td><td>0.00 </td><td>⋯    </td><td>0.00 </td><td>0.000</td><td>0    </td><td>0.778</td><td>0.000</td><td>0.000</td><td>3.756</td><td> 61  </td><td> 278 </td><td>spam </td></tr>\n",
       "\t<tr><td>0.21 </td><td>0.28 </td><td>0.50 </td><td>0    </td><td>0.14 </td><td>0.28 </td><td>0.21 </td><td>0.07 </td><td>0.00 </td><td>0.94 </td><td>⋯    </td><td>0.00 </td><td>0.132</td><td>0    </td><td>0.372</td><td>0.180</td><td>0.048</td><td>5.114</td><td>101  </td><td>1028 </td><td>spam </td></tr>\n",
       "\t<tr><td>0.06 </td><td>0.00 </td><td>0.71 </td><td>0    </td><td>1.23 </td><td>0.19 </td><td>0.19 </td><td>0.12 </td><td>0.64 </td><td>0.25 </td><td>⋯    </td><td>0.01 </td><td>0.143</td><td>0    </td><td>0.276</td><td>0.184</td><td>0.010</td><td>9.821</td><td>485  </td><td>2259 </td><td>spam </td></tr>\n",
       "\t<tr><td>0.00 </td><td>0.00 </td><td>0.00 </td><td>0    </td><td>0.63 </td><td>0.00 </td><td>0.31 </td><td>0.63 </td><td>0.31 </td><td>0.63 </td><td>⋯    </td><td>0.00 </td><td>0.137</td><td>0    </td><td>0.137</td><td>0.000</td><td>0.000</td><td>3.537</td><td> 40  </td><td> 191 </td><td>spam </td></tr>\n",
       "\t<tr><td>0.00 </td><td>0.00 </td><td>0.00 </td><td>0    </td><td>0.63 </td><td>0.00 </td><td>0.31 </td><td>0.63 </td><td>0.31 </td><td>0.63 </td><td>⋯    </td><td>0.00 </td><td>0.135</td><td>0    </td><td>0.135</td><td>0.000</td><td>0.000</td><td>3.537</td><td> 40  </td><td> 191 </td><td>spam </td></tr>\n",
       "\t<tr><td>0.00 </td><td>0.00 </td><td>0.00 </td><td>0    </td><td>1.85 </td><td>0.00 </td><td>0.00 </td><td>1.85 </td><td>0.00 </td><td>0.00 </td><td>⋯    </td><td>0.00 </td><td>0.223</td><td>0    </td><td>0.000</td><td>0.000</td><td>0.000</td><td>3.000</td><td> 15  </td><td>  54 </td><td>spam </td></tr>\n",
       "</tbody>\n",
       "</table>\n"
      ],
      "text/latex": [
       "\\begin{tabular}{r|llllllllllllllllllllllllllllllllllllllllllllllllllllllllll}\n",
       " make & address & all & num3d & our & over & remove & internet & order & mail & ⋯ & charSemicolon & charRoundbracket & charSquarebracket & charExclamation & charDollar & charHash & capitalAve & capitalLong & capitalTotal & type\\\\\n",
       "\\hline\n",
       "\t 0.00  & 0.64  & 0.64  & 0     & 0.32  & 0.00  & 0.00  & 0.00  & 0.00  & 0.00  & ⋯     & 0.00  & 0.000 & 0     & 0.778 & 0.000 & 0.000 & 3.756 &  61   &  278  & spam \\\\\n",
       "\t 0.21  & 0.28  & 0.50  & 0     & 0.14  & 0.28  & 0.21  & 0.07  & 0.00  & 0.94  & ⋯     & 0.00  & 0.132 & 0     & 0.372 & 0.180 & 0.048 & 5.114 & 101   & 1028  & spam \\\\\n",
       "\t 0.06  & 0.00  & 0.71  & 0     & 1.23  & 0.19  & 0.19  & 0.12  & 0.64  & 0.25  & ⋯     & 0.01  & 0.143 & 0     & 0.276 & 0.184 & 0.010 & 9.821 & 485   & 2259  & spam \\\\\n",
       "\t 0.00  & 0.00  & 0.00  & 0     & 0.63  & 0.00  & 0.31  & 0.63  & 0.31  & 0.63  & ⋯     & 0.00  & 0.137 & 0     & 0.137 & 0.000 & 0.000 & 3.537 &  40   &  191  & spam \\\\\n",
       "\t 0.00  & 0.00  & 0.00  & 0     & 0.63  & 0.00  & 0.31  & 0.63  & 0.31  & 0.63  & ⋯     & 0.00  & 0.135 & 0     & 0.135 & 0.000 & 0.000 & 3.537 &  40   &  191  & spam \\\\\n",
       "\t 0.00  & 0.00  & 0.00  & 0     & 1.85  & 0.00  & 0.00  & 1.85  & 0.00  & 0.00  & ⋯     & 0.00  & 0.223 & 0     & 0.000 & 0.000 & 0.000 & 3.000 &  15   &   54  & spam \\\\\n",
       "\\end{tabular}\n"
      ],
      "text/markdown": [
       "\n",
       "make | address | all | num3d | our | over | remove | internet | order | mail | ⋯ | charSemicolon | charRoundbracket | charSquarebracket | charExclamation | charDollar | charHash | capitalAve | capitalLong | capitalTotal | type | \n",
       "|---|---|---|---|---|---|\n",
       "| 0.00  | 0.64  | 0.64  | 0     | 0.32  | 0.00  | 0.00  | 0.00  | 0.00  | 0.00  | ⋯     | 0.00  | 0.000 | 0     | 0.778 | 0.000 | 0.000 | 3.756 |  61   |  278  | spam  | \n",
       "| 0.21  | 0.28  | 0.50  | 0     | 0.14  | 0.28  | 0.21  | 0.07  | 0.00  | 0.94  | ⋯     | 0.00  | 0.132 | 0     | 0.372 | 0.180 | 0.048 | 5.114 | 101   | 1028  | spam  | \n",
       "| 0.06  | 0.00  | 0.71  | 0     | 1.23  | 0.19  | 0.19  | 0.12  | 0.64  | 0.25  | ⋯     | 0.01  | 0.143 | 0     | 0.276 | 0.184 | 0.010 | 9.821 | 485   | 2259  | spam  | \n",
       "| 0.00  | 0.00  | 0.00  | 0     | 0.63  | 0.00  | 0.31  | 0.63  | 0.31  | 0.63  | ⋯     | 0.00  | 0.137 | 0     | 0.137 | 0.000 | 0.000 | 3.537 |  40   |  191  | spam  | \n",
       "| 0.00  | 0.00  | 0.00  | 0     | 0.63  | 0.00  | 0.31  | 0.63  | 0.31  | 0.63  | ⋯     | 0.00  | 0.135 | 0     | 0.135 | 0.000 | 0.000 | 3.537 |  40   |  191  | spam  | \n",
       "| 0.00  | 0.00  | 0.00  | 0     | 1.85  | 0.00  | 0.00  | 1.85  | 0.00  | 0.00  | ⋯     | 0.00  | 0.223 | 0     | 0.000 | 0.000 | 0.000 | 3.000 |  15   |   54  | spam  | \n",
       "\n",
       "\n"
      ],
      "text/plain": [
       "  make address all  num3d our  over remove internet order mail ⋯ charSemicolon\n",
       "1 0.00 0.64    0.64 0     0.32 0.00 0.00   0.00     0.00  0.00 ⋯ 0.00         \n",
       "2 0.21 0.28    0.50 0     0.14 0.28 0.21   0.07     0.00  0.94 ⋯ 0.00         \n",
       "3 0.06 0.00    0.71 0     1.23 0.19 0.19   0.12     0.64  0.25 ⋯ 0.01         \n",
       "4 0.00 0.00    0.00 0     0.63 0.00 0.31   0.63     0.31  0.63 ⋯ 0.00         \n",
       "5 0.00 0.00    0.00 0     0.63 0.00 0.31   0.63     0.31  0.63 ⋯ 0.00         \n",
       "6 0.00 0.00    0.00 0     1.85 0.00 0.00   1.85     0.00  0.00 ⋯ 0.00         \n",
       "  charRoundbracket charSquarebracket charExclamation charDollar charHash\n",
       "1 0.000            0                 0.778           0.000      0.000   \n",
       "2 0.132            0                 0.372           0.180      0.048   \n",
       "3 0.143            0                 0.276           0.184      0.010   \n",
       "4 0.137            0                 0.137           0.000      0.000   \n",
       "5 0.135            0                 0.135           0.000      0.000   \n",
       "6 0.223            0                 0.000           0.000      0.000   \n",
       "  capitalAve capitalLong capitalTotal type\n",
       "1 3.756       61          278         spam\n",
       "2 5.114      101         1028         spam\n",
       "3 9.821      485         2259         spam\n",
       "4 3.537       40          191         spam\n",
       "5 3.537       40          191         spam\n",
       "6 3.000       15           54         spam"
      ]
     },
     "metadata": {},
     "output_type": "display_data"
    }
   ],
   "source": [
    "head(spam)"
   ]
  },
  {
   "cell_type": "code",
   "execution_count": 4,
   "metadata": {
    "collapsed": true
   },
   "outputs": [],
   "source": [
    "# Set seed\n",
    "set.seed(333)"
   ]
  },
  {
   "cell_type": "code",
   "execution_count": 5,
   "metadata": {},
   "outputs": [
    {
     "data": {
      "text/html": [
       "<ol class=list-inline>\n",
       "\t<li>10</li>\n",
       "\t<li>58</li>\n",
       "</ol>\n"
      ],
      "text/latex": [
       "\\begin{enumerate*}\n",
       "\\item 10\n",
       "\\item 58\n",
       "\\end{enumerate*}\n"
      ],
      "text/markdown": [
       "1. 10\n",
       "2. 58\n",
       "\n",
       "\n"
      ],
      "text/plain": [
       "[1] 10 58"
      ]
     },
     "metadata": {},
     "output_type": "display_data"
    }
   ],
   "source": [
    "# Pick a small random subset from the spam dataset\n",
    "small_spam <- spam[sample(dim(spam)[1], size = 10), ]\n",
    "dim(small_spam)"
   ]
  },
  {
   "cell_type": "code",
   "execution_count": 6,
   "metadata": {
    "collapsed": true
   },
   "outputs": [],
   "source": [
    "# Same as above using dplyr\n",
    "small_spam <- spam %>%\n",
    "  sample_n(10) %>%\n",
    "  as_tibble()"
   ]
  },
  {
   "cell_type": "code",
   "execution_count": 7,
   "metadata": {},
   "outputs": [
    {
     "data": {
      "text/html": [
       "<ol class=list-inline>\n",
       "\t<li>10</li>\n",
       "\t<li>58</li>\n",
       "</ol>\n"
      ],
      "text/latex": [
       "\\begin{enumerate*}\n",
       "\\item 10\n",
       "\\item 58\n",
       "\\end{enumerate*}\n"
      ],
      "text/markdown": [
       "1. 10\n",
       "2. 58\n",
       "\n",
       "\n"
      ],
      "text/plain": [
       "[1] 10 58"
      ]
     },
     "metadata": {},
     "output_type": "display_data"
    },
    {
     "data": {
      "text/html": [
       "<table>\n",
       "<thead><tr><th scope=col>make</th><th scope=col>address</th><th scope=col>all</th><th scope=col>num3d</th><th scope=col>our</th><th scope=col>over</th><th scope=col>remove</th><th scope=col>internet</th><th scope=col>order</th><th scope=col>mail</th><th scope=col>⋯</th><th scope=col>charSemicolon</th><th scope=col>charRoundbracket</th><th scope=col>charSquarebracket</th><th scope=col>charExclamation</th><th scope=col>charDollar</th><th scope=col>charHash</th><th scope=col>capitalAve</th><th scope=col>capitalLong</th><th scope=col>capitalTotal</th><th scope=col>type</th></tr></thead>\n",
       "<tbody>\n",
       "\t<tr><td>0      </td><td>0.31   </td><td>0.42   </td><td>0      </td><td>0.00   </td><td>0.1    </td><td>0      </td><td>0.52   </td><td>0.21   </td><td>0.52   </td><td>⋯      </td><td>0      </td><td>0.016  </td><td>0.000  </td><td>0.887  </td><td>0.032  </td><td>0.049  </td><td>3.446  </td><td>318    </td><td>1003   </td><td>spam   </td></tr>\n",
       "\t<tr><td>0      </td><td>0.00   </td><td>1.00   </td><td>0      </td><td>1.50   </td><td>0.0    </td><td>0      </td><td>0.00   </td><td>0.00   </td><td>1.00   </td><td>⋯      </td><td>0      </td><td>0.000  </td><td>0.000  </td><td>0.145  </td><td>0.000  </td><td>0.000  </td><td>1.342  </td><td> 14    </td><td>  51   </td><td>nonspam</td></tr>\n",
       "\t<tr><td>0      </td><td>0.00   </td><td>0.00   </td><td>0      </td><td>0.00   </td><td>0.0    </td><td>0      </td><td>0.00   </td><td>0.00   </td><td>0.00   </td><td>⋯      </td><td>0      </td><td>0.143  </td><td>0.000  </td><td>0.143  </td><td>0.000  </td><td>0.000  </td><td>1.370  </td><td>  4    </td><td>  37   </td><td>nonspam</td></tr>\n",
       "\t<tr><td>0      </td><td>0.00   </td><td>0.00   </td><td>0      </td><td>0.00   </td><td>0.0    </td><td>0      </td><td>0.00   </td><td>0.00   </td><td>0.00   </td><td>⋯      </td><td>0      </td><td>0.515  </td><td>0.000  </td><td>0.000  </td><td>0.000  </td><td>0.000  </td><td>3.285  </td><td> 24    </td><td>  69   </td><td>nonspam</td></tr>\n",
       "\t<tr><td>0      </td><td>0.00   </td><td>0.00   </td><td>0      </td><td>0.74   </td><td>0.0    </td><td>0      </td><td>0.00   </td><td>0.00   </td><td>1.49   </td><td>⋯      </td><td>0      </td><td>0.557  </td><td>0.111  </td><td>0.000  </td><td>0.000  </td><td>0.000  </td><td>2.607  </td><td> 12    </td><td> 133   </td><td>nonspam</td></tr>\n",
       "\t<tr><td>0      </td><td>0.00   </td><td>0.76   </td><td>0      </td><td>0.00   </td><td>0.0    </td><td>0      </td><td>0.00   </td><td>0.00   </td><td>0.00   </td><td>⋯      </td><td>0      </td><td>0.139  </td><td>0.000  </td><td>0.000  </td><td>0.000  </td><td>0.000  </td><td>2.290  </td><td> 16    </td><td>  71   </td><td>nonspam</td></tr>\n",
       "</tbody>\n",
       "</table>\n"
      ],
      "text/latex": [
       "\\begin{tabular}{r|llllllllllllllllllllllllllllllllllllllllllllllllllllllllll}\n",
       " make & address & all & num3d & our & over & remove & internet & order & mail & ⋯ & charSemicolon & charRoundbracket & charSquarebracket & charExclamation & charDollar & charHash & capitalAve & capitalLong & capitalTotal & type\\\\\n",
       "\\hline\n",
       "\t 0       & 0.31    & 0.42    & 0       & 0.00    & 0.1     & 0       & 0.52    & 0.21    & 0.52    & ⋯       & 0       & 0.016   & 0.000   & 0.887   & 0.032   & 0.049   & 3.446   & 318     & 1003    & spam   \\\\\n",
       "\t 0       & 0.00    & 1.00    & 0       & 1.50    & 0.0     & 0       & 0.00    & 0.00    & 1.00    & ⋯       & 0       & 0.000   & 0.000   & 0.145   & 0.000   & 0.000   & 1.342   &  14     &   51    & nonspam\\\\\n",
       "\t 0       & 0.00    & 0.00    & 0       & 0.00    & 0.0     & 0       & 0.00    & 0.00    & 0.00    & ⋯       & 0       & 0.143   & 0.000   & 0.143   & 0.000   & 0.000   & 1.370   &   4     &   37    & nonspam\\\\\n",
       "\t 0       & 0.00    & 0.00    & 0       & 0.00    & 0.0     & 0       & 0.00    & 0.00    & 0.00    & ⋯       & 0       & 0.515   & 0.000   & 0.000   & 0.000   & 0.000   & 3.285   &  24     &   69    & nonspam\\\\\n",
       "\t 0       & 0.00    & 0.00    & 0       & 0.74    & 0.0     & 0       & 0.00    & 0.00    & 1.49    & ⋯       & 0       & 0.557   & 0.111   & 0.000   & 0.000   & 0.000   & 2.607   &  12     &  133    & nonspam\\\\\n",
       "\t 0       & 0.00    & 0.76    & 0       & 0.00    & 0.0     & 0       & 0.00    & 0.00    & 0.00    & ⋯       & 0       & 0.139   & 0.000   & 0.000   & 0.000   & 0.000   & 2.290   &  16     &   71    & nonspam\\\\\n",
       "\\end{tabular}\n"
      ],
      "text/markdown": [
       "\n",
       "make | address | all | num3d | our | over | remove | internet | order | mail | ⋯ | charSemicolon | charRoundbracket | charSquarebracket | charExclamation | charDollar | charHash | capitalAve | capitalLong | capitalTotal | type | \n",
       "|---|---|---|---|---|---|\n",
       "| 0       | 0.31    | 0.42    | 0       | 0.00    | 0.1     | 0       | 0.52    | 0.21    | 0.52    | ⋯       | 0       | 0.016   | 0.000   | 0.887   | 0.032   | 0.049   | 3.446   | 318     | 1003    | spam    | \n",
       "| 0       | 0.00    | 1.00    | 0       | 1.50    | 0.0     | 0       | 0.00    | 0.00    | 1.00    | ⋯       | 0       | 0.000   | 0.000   | 0.145   | 0.000   | 0.000   | 1.342   |  14     |   51    | nonspam | \n",
       "| 0       | 0.00    | 0.00    | 0       | 0.00    | 0.0     | 0       | 0.00    | 0.00    | 0.00    | ⋯       | 0       | 0.143   | 0.000   | 0.143   | 0.000   | 0.000   | 1.370   |   4     |   37    | nonspam | \n",
       "| 0       | 0.00    | 0.00    | 0       | 0.00    | 0.0     | 0       | 0.00    | 0.00    | 0.00    | ⋯       | 0       | 0.515   | 0.000   | 0.000   | 0.000   | 0.000   | 3.285   |  24     |   69    | nonspam | \n",
       "| 0       | 0.00    | 0.00    | 0       | 0.74    | 0.0     | 0       | 0.00    | 0.00    | 1.49    | ⋯       | 0       | 0.557   | 0.111   | 0.000   | 0.000   | 0.000   | 2.607   |  12     |  133    | nonspam | \n",
       "| 0       | 0.00    | 0.76    | 0       | 0.00    | 0.0     | 0       | 0.00    | 0.00    | 0.00    | ⋯       | 0       | 0.139   | 0.000   | 0.000   | 0.000   | 0.000   | 2.290   |  16     |   71    | nonspam | \n",
       "\n",
       "\n"
      ],
      "text/plain": [
       "  make address all  num3d our  over remove internet order mail ⋯ charSemicolon\n",
       "1 0    0.31    0.42 0     0.00 0.1  0      0.52     0.21  0.52 ⋯ 0            \n",
       "2 0    0.00    1.00 0     1.50 0.0  0      0.00     0.00  1.00 ⋯ 0            \n",
       "3 0    0.00    0.00 0     0.00 0.0  0      0.00     0.00  0.00 ⋯ 0            \n",
       "4 0    0.00    0.00 0     0.00 0.0  0      0.00     0.00  0.00 ⋯ 0            \n",
       "5 0    0.00    0.00 0     0.74 0.0  0      0.00     0.00  1.49 ⋯ 0            \n",
       "6 0    0.00    0.76 0     0.00 0.0  0      0.00     0.00  0.00 ⋯ 0            \n",
       "  charRoundbracket charSquarebracket charExclamation charDollar charHash\n",
       "1 0.016            0.000             0.887           0.032      0.049   \n",
       "2 0.000            0.000             0.145           0.000      0.000   \n",
       "3 0.143            0.000             0.143           0.000      0.000   \n",
       "4 0.515            0.000             0.000           0.000      0.000   \n",
       "5 0.557            0.111             0.000           0.000      0.000   \n",
       "6 0.139            0.000             0.000           0.000      0.000   \n",
       "  capitalAve capitalLong capitalTotal type   \n",
       "1 3.446      318         1003         spam   \n",
       "2 1.342       14           51         nonspam\n",
       "3 1.370        4           37         nonspam\n",
       "4 3.285       24           69         nonspam\n",
       "5 2.607       12          133         nonspam\n",
       "6 2.290       16           71         nonspam"
      ]
     },
     "metadata": {},
     "output_type": "display_data"
    }
   ],
   "source": [
    "# Tibble not displaying properly in Jupyter \n",
    "dim(small_spam)\n",
    "head(small_spam)"
   ]
  },
  {
   "cell_type": "markdown",
   "metadata": {},
   "source": [
    "### Label spam = 2 and ham = 1\n",
    "- \"type\" is a factor variable. Can use it as a factor when using ggplot2"
   ]
  },
  {
   "cell_type": "code",
   "execution_count": 8,
   "metadata": {},
   "outputs": [
    {
     "data": {
      "text/html": [
       "<ol class=list-inline>\n",
       "\t<li>spam</li>\n",
       "\t<li>nonspam</li>\n",
       "\t<li>nonspam</li>\n",
       "\t<li>nonspam</li>\n",
       "\t<li>nonspam</li>\n",
       "\t<li>nonspam</li>\n",
       "\t<li>nonspam</li>\n",
       "\t<li>nonspam</li>\n",
       "\t<li>spam</li>\n",
       "\t<li>spam</li>\n",
       "</ol>\n"
      ],
      "text/latex": [
       "\\begin{enumerate*}\n",
       "\\item spam\n",
       "\\item nonspam\n",
       "\\item nonspam\n",
       "\\item nonspam\n",
       "\\item nonspam\n",
       "\\item nonspam\n",
       "\\item nonspam\n",
       "\\item nonspam\n",
       "\\item spam\n",
       "\\item spam\n",
       "\\end{enumerate*}\n"
      ],
      "text/markdown": [
       "1. spam\n",
       "2. nonspam\n",
       "3. nonspam\n",
       "4. nonspam\n",
       "5. nonspam\n",
       "6. nonspam\n",
       "7. nonspam\n",
       "8. nonspam\n",
       "9. spam\n",
       "10. spam\n",
       "\n",
       "\n"
      ],
      "text/plain": [
       " [1] spam    nonspam nonspam nonspam nonspam nonspam nonspam nonspam spam   \n",
       "[10] spam   \n",
       "Levels: nonspam spam"
      ]
     },
     "metadata": {},
     "output_type": "display_data"
    }
   ],
   "source": [
    "small_spam$type"
   ]
  },
  {
   "cell_type": "code",
   "execution_count": 9,
   "metadata": {},
   "outputs": [
    {
     "data": {
      "text/html": [
       "<ol class=list-inline>\n",
       "\t<li>2</li>\n",
       "\t<li>1</li>\n",
       "\t<li>1</li>\n",
       "\t<li>1</li>\n",
       "\t<li>1</li>\n",
       "\t<li>1</li>\n",
       "\t<li>1</li>\n",
       "\t<li>1</li>\n",
       "\t<li>2</li>\n",
       "\t<li>2</li>\n",
       "</ol>\n"
      ],
      "text/latex": [
       "\\begin{enumerate*}\n",
       "\\item 2\n",
       "\\item 1\n",
       "\\item 1\n",
       "\\item 1\n",
       "\\item 1\n",
       "\\item 1\n",
       "\\item 1\n",
       "\\item 1\n",
       "\\item 2\n",
       "\\item 2\n",
       "\\end{enumerate*}\n"
      ],
      "text/markdown": [
       "1. 2\n",
       "2. 1\n",
       "3. 1\n",
       "4. 1\n",
       "5. 1\n",
       "6. 1\n",
       "7. 1\n",
       "8. 1\n",
       "9. 2\n",
       "10. 2\n",
       "\n",
       "\n"
      ],
      "text/plain": [
       " [1] 2 1 1 1 1 1 1 1 2 2"
      ]
     },
     "metadata": {},
     "output_type": "display_data"
    }
   ],
   "source": [
    "# Evaluate the statement, TRUE = 1, FALSE = 0\n",
    "spam_label <- (small_spam$type == \"spam\") * 1 + 1\n",
    "spam_label"
   ]
  },
  {
   "cell_type": "code",
   "execution_count": 10,
   "metadata": {},
   "outputs": [
    {
     "data": {
      "text/html": [
       "<ol class=list-inline>\n",
       "\t<li>2</li>\n",
       "\t<li>1</li>\n",
       "\t<li>1</li>\n",
       "\t<li>1</li>\n",
       "\t<li>1</li>\n",
       "\t<li>1</li>\n",
       "\t<li>1</li>\n",
       "\t<li>1</li>\n",
       "\t<li>2</li>\n",
       "\t<li>2</li>\n",
       "</ol>\n"
      ],
      "text/latex": [
       "\\begin{enumerate*}\n",
       "\\item 2\n",
       "\\item 1\n",
       "\\item 1\n",
       "\\item 1\n",
       "\\item 1\n",
       "\\item 1\n",
       "\\item 1\n",
       "\\item 1\n",
       "\\item 2\n",
       "\\item 2\n",
       "\\end{enumerate*}\n"
      ],
      "text/markdown": [
       "1. 2\n",
       "2. 1\n",
       "3. 1\n",
       "4. 1\n",
       "5. 1\n",
       "6. 1\n",
       "7. 1\n",
       "8. 1\n",
       "9. 2\n",
       "10. 2\n",
       "\n",
       "\n"
      ],
      "text/plain": [
       " [1] 2 1 1 1 1 1 1 1 2 2"
      ]
     },
     "metadata": {},
     "output_type": "display_data"
    }
   ],
   "source": [
    "# Same as above using ifelse() function\n",
    "spam_label <- ifelse(small_spam$type == \"spam\", 2, 1)\n",
    "spam_label"
   ]
  },
  {
   "cell_type": "markdown",
   "metadata": {},
   "source": [
    "### Plot the \"capitalAve\" Variable as either spam or ham based on \"spam_label\" as color"
   ]
  },
  {
   "cell_type": "code",
   "execution_count": 11,
   "metadata": {},
   "outputs": [
    {
     "data": {
      "image/png": "[encoded data removed]",
      "text/plain": [
       "plot without title"
      ]
     },
     "metadata": {},
     "output_type": "display_data"
    }
   ],
   "source": [
    "plot(small_spam$capitalAve, col = spam_label)"
   ]
  },
  {
   "cell_type": "markdown",
   "metadata": {},
   "source": [
    "### Plot the \"capitalAve\" Variable as either spam or ham based on \"type\" as color using ggplot2"
   ]
  },
  {
   "cell_type": "code",
   "execution_count": 15,
   "metadata": {},
   "outputs": [
    {
     "data": {},
     "metadata": {},
     "output_type": "display_data"
    },
    {
     "data": {
      "image/png": "[encoded data removed]",
      "text/plain": [
       "plot without title"
      ]
     },
     "metadata": {},
     "output_type": "display_data"
    }
   ],
   "source": [
    "small_spam %>%\n",
    "  ggplot() +\n",
    "  theme_bw() +\n",
    "  geom_point(aes(x = seq_along(capitalAve), y = capitalAve, color = type), alpha = 0.8) +\n",
    "  scale_x_continuous(name = \"Email number\", breaks = 1:10, minor_breaks = FALSE) +\n",
    "  scale_y_continuous(name = \"Average of Capital Letters\") +\n",
    "  scale_color_manual(name = \"Type of Email\", values = c(\"green\", \"red\"))"
   ]
  }
 ],
 "metadata": {
  "kernelspec": {
   "display_name": "R",
   "language": "R",
   "name": "ir"
  },
  "language_info": {
   "codemirror_mode": "r",
   "file_extension": ".r",
   "mimetype": "text/x-r-source",
   "name": "R",
   "pygments_lexer": "r",
   "version": "3.4.1"
  }
 },
 "nbformat": 4,
 "nbformat_minor": 2
}
