{
 "cells": [
  {
   "cell_type": "markdown",
   "metadata": {},
   "source": [
    "# Types of Errors"
   ]
  },
  {
   "cell_type": "markdown",
   "metadata": {},
   "source": [
    "## Definition:\n",
    "- True Positive = correctly identified (predicted true when true)\n",
    "    - Sick people correctly diagnosed as sick\n",
    "- False Positive = incorrectly identified (predicted true when false)\n",
    "    - Healthy people incorrectly diagnosed as sick\n",
    "- True Negative = correctly rejected (predicted false when false)\n",
    "    - Healthy people correctly diagnosed as healthy\n",
    "- False Negative = incorrectly rejected (predicted false when true)\n",
    "    - Sick people incorrectly diagnosed as healthy"
   ]
  },
  {
   "cell_type": "markdown",
   "metadata": {},
   "source": [
    "## Key Quantities\n",
    "\n",
    "|       |  (+)  |  (-)  |\n",
    "|-------|---------------|\n",
    "|  (+)  |  TP   |  FP   | \n",
    "|  (-)  |  FN   |  TN   | \n",
    "\n",
    "- Sensitivity: P(Positive Test | Disease)\n",
    "    - TP / (TP + FN)\n",
    "- Specificity: P(Negative Test | No Disease)\n",
    "    - TN / (FP + TN)\n",
    "- Positive Predictive Value: P(Disease | Positive Test)\n",
    "    - TP / (TP + FP)\n",
    "- Negative Predictive Value: P(No Disease | Negative Test)\n",
    "    - TN / (FN + TN)\n",
    "- Accuracy: P(Correct Outcome)\n",
    "    - (TP + TN) / (TP + FP + FN + TN)"
   ]
  },
  {
   "cell_type": "markdown",
   "metadata": {},
   "source": [
    "## Example\n",
    "- Assume Sensitivity is 99% and Specificity is 99%\n",
    "- What is the Probability of a person having the disease given the test result is positive\n",
    "    - Positive Predictive Value: P(Disease | Positive Test)"
   ]
  },
  {
   "cell_type": "markdown",
   "metadata": {},
   "source": [
    "#### 1. Population Stats of 0.1% Disease: \n",
    "- Diease(+) = 99, Disease(-) = 98901\n",
    "- 99% Healthy : \n",
    "\n",
    "|           |  (+)  |  (-)     |\n",
    "|-----------|------------------|\n",
    "|  **(+)**  |  99   |  999     | \n",
    "|  **(-)**  |  1    |  98901   | \n",
    "\n",
    "- Sensitivity: 99 / (99 + 1) = 99%\n",
    "- Specificity: 98901 / (999 + 98901) = 99%\n",
    "- ** Positive Predictive Value: 99 / (99 + 999) = 9% **\n",
    "- Negative Predictive Value: 98901 / (1 + 98901) = 99.9%\n",
    "- Accuracy: (99 + 98901)/ 100000 = 99%"
   ]
  },
  {
   "cell_type": "markdown",
   "metadata": {},
   "source": [
    "#### 2. Population Stats of 10% Disease: \n",
    "- Diease(+) = 9900, Disease(-) = 89100\n",
    "\n",
    "|           |  (+)    |  (-)     |\n",
    "|-----------|--------------------|\n",
    "|  **(+)**  |  9900   |  900     | \n",
    "|  **(-)**  |  100    |  89100   | \n",
    "\n",
    "- Sensitivity: 9900 / (9900 + 100) = 99%\n",
    "- Specificity: 89100 / (900 + 89100) = 99%\n",
    "- ** Positive Predictive Value: 9900 / (9900 + 900) = 92% **\n",
    "- Negative Predictive Value: 89100 / (100 + 89100) = 99.9%\n",
    "- Accuracy: (9900 + 89100)/ 100000 = 99%"
   ]
  },
  {
   "cell_type": "markdown",
   "metadata": {},
   "source": [
    "<hr>"
   ]
  },
  {
   "cell_type": "markdown",
   "metadata": {},
   "source": [
    "# ROC Curves\n",
    "- Trade off between Specificity and Sensitivity\n",
    "- P(FP) vs P(TP)"
   ]
  },
  {
   "cell_type": "markdown",
   "metadata": {},
   "source": [
    "# AUC: Area Under the Curve:\n",
    "- AUC = 0.5: Random guessing\n",
    "- AUC = 1: Perfect classifier\n",
    "- AUC above 0.8 is considered \"good\""
   ]
  },
  {
   "cell_type": "markdown",
   "metadata": {},
   "source": [
    "<hr>"
   ]
  }
 ],
 "metadata": {
  "kernelspec": {
   "display_name": "R",
   "language": "R",
   "name": "ir"
  },
  "language_info": {
   "codemirror_mode": "r",
   "file_extension": ".r",
   "mimetype": "text/x-r-source",
   "name": "R",
   "pygments_lexer": "r",
   "version": "3.4.1"
  }
 },
 "nbformat": 4,
 "nbformat_minor": 2
}
