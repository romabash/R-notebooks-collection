{
 "cells": [
  {
   "cell_type": "markdown",
   "metadata": {},
   "source": [
    "# Data Slicing"
   ]
  },
  {
   "cell_type": "code",
   "execution_count": 2,
   "metadata": {},
   "outputs": [],
   "source": [
    "# Load packages and \"spam\" dataset\n",
    "library(caret)\n",
    "library(kernlab) #spam dataset\n",
    "data(spam)"
   ]
  },
  {
   "cell_type": "markdown",
   "metadata": {},
   "source": [
    "## Split into Training and Testing"
   ]
  },
  {
   "cell_type": "code",
   "execution_count": 3,
   "metadata": {},
   "outputs": [
    {
     "data": {
      "text/html": [
       "<ol class=list-inline>\n",
       "\t<li>3451</li>\n",
       "\t<li>58</li>\n",
       "</ol>\n"
      ],
      "text/latex": [
       "\\begin{enumerate*}\n",
       "\\item 3451\n",
       "\\item 58\n",
       "\\end{enumerate*}\n"
      ],
      "text/markdown": [
       "1. 3451\n",
       "2. 58\n",
       "\n",
       "\n"
      ],
      "text/plain": [
       "[1] 3451   58"
      ]
     },
     "metadata": {},
     "output_type": "display_data"
    }
   ],
   "source": [
    "# Split based on type\n",
    "inTrain <- createDataPartition(y = spam$type, p = 0.75, list = FALSE) \n",
    "training <- spam[inTrain,]\n",
    "testing <- spam[-inTrain,]\n",
    "dim(training)"
   ]
  },
  {
   "cell_type": "markdown",
   "metadata": {},
   "source": [
    "## K-fold \n",
    "- For Cross-Validation"
   ]
  },
  {
   "cell_type": "code",
   "execution_count": 6,
   "metadata": {},
   "outputs": [
    {
     "data": {
      "text/html": [
       "<dl class=dl-horizontal>\n",
       "\t<dt>Fold01</dt>\n",
       "\t\t<dd>4141</dd>\n",
       "\t<dt>Fold02</dt>\n",
       "\t\t<dd>4140</dd>\n",
       "\t<dt>Fold03</dt>\n",
       "\t\t<dd>4141</dd>\n",
       "\t<dt>Fold04</dt>\n",
       "\t\t<dd>4142</dd>\n",
       "\t<dt>Fold05</dt>\n",
       "\t\t<dd>4140</dd>\n",
       "\t<dt>Fold06</dt>\n",
       "\t\t<dd>4142</dd>\n",
       "\t<dt>Fold07</dt>\n",
       "\t\t<dd>4141</dd>\n",
       "\t<dt>Fold08</dt>\n",
       "\t\t<dd>4141</dd>\n",
       "\t<dt>Fold09</dt>\n",
       "\t\t<dd>4140</dd>\n",
       "\t<dt>Fold10</dt>\n",
       "\t\t<dd>4141</dd>\n",
       "</dl>\n"
      ],
      "text/latex": [
       "\\begin{description*}\n",
       "\\item[Fold01] 4141\n",
       "\\item[Fold02] 4140\n",
       "\\item[Fold03] 4141\n",
       "\\item[Fold04] 4142\n",
       "\\item[Fold05] 4140\n",
       "\\item[Fold06] 4142\n",
       "\\item[Fold07] 4141\n",
       "\\item[Fold08] 4141\n",
       "\\item[Fold09] 4140\n",
       "\\item[Fold10] 4141\n",
       "\\end{description*}\n"
      ],
      "text/markdown": [
       "Fold01\n",
       ":   4141Fold02\n",
       ":   4140Fold03\n",
       ":   4141Fold04\n",
       ":   4142Fold05\n",
       ":   4140Fold06\n",
       ":   4142Fold07\n",
       ":   4141Fold08\n",
       ":   4141Fold09\n",
       ":   4140Fold10\n",
       ":   4141\n",
       "\n"
      ],
      "text/plain": [
       "Fold01 Fold02 Fold03 Fold04 Fold05 Fold06 Fold07 Fold08 Fold09 Fold10 \n",
       "  4141   4140   4141   4142   4140   4142   4141   4141   4140   4141 "
      ]
     },
     "metadata": {},
     "output_type": "display_data"
    }
   ],
   "source": [
    "set.seed(32323)\n",
    "# 10 Folds, returns each set as a List, and returns a Training set\n",
    "folds <- createFolds(y = spam$type, k = 10, list = TRUE, returnTrain = TRUE)\n",
    "\n",
    "sapply(folds, length)"
   ]
  },
  {
   "cell_type": "code",
   "execution_count": 7,
   "metadata": {},
   "outputs": [
    {
     "data": {
      "text/html": [
       "<ol class=list-inline>\n",
       "\t<li>1</li>\n",
       "\t<li>2</li>\n",
       "\t<li>3</li>\n",
       "\t<li>4</li>\n",
       "\t<li>5</li>\n",
       "\t<li>6</li>\n",
       "\t<li>7</li>\n",
       "\t<li>8</li>\n",
       "\t<li>9</li>\n",
       "\t<li>10</li>\n",
       "</ol>\n"
      ],
      "text/latex": [
       "\\begin{enumerate*}\n",
       "\\item 1\n",
       "\\item 2\n",
       "\\item 3\n",
       "\\item 4\n",
       "\\item 5\n",
       "\\item 6\n",
       "\\item 7\n",
       "\\item 8\n",
       "\\item 9\n",
       "\\item 10\n",
       "\\end{enumerate*}\n"
      ],
      "text/markdown": [
       "1. 1\n",
       "2. 2\n",
       "3. 3\n",
       "4. 4\n",
       "5. 5\n",
       "6. 6\n",
       "7. 7\n",
       "8. 8\n",
       "9. 9\n",
       "10. 10\n",
       "\n",
       "\n"
      ],
      "text/plain": [
       " [1]  1  2  3  4  5  6  7  8  9 10"
      ]
     },
     "metadata": {},
     "output_type": "display_data"
    }
   ],
   "source": [
    "# Look at which samples are in first Fold \n",
    "folds[[1]][1:10]"
   ]
  },
  {
   "cell_type": "markdown",
   "metadata": {},
   "source": [
    "#### Return Testing K-folds\n",
    "- Smaller size than Training folds"
   ]
  },
  {
   "cell_type": "code",
   "execution_count": 8,
   "metadata": {},
   "outputs": [
    {
     "data": {
      "text/html": [
       "<dl class=dl-horizontal>\n",
       "\t<dt>Fold01</dt>\n",
       "\t\t<dd>460</dd>\n",
       "\t<dt>Fold02</dt>\n",
       "\t\t<dd>461</dd>\n",
       "\t<dt>Fold03</dt>\n",
       "\t\t<dd>460</dd>\n",
       "\t<dt>Fold04</dt>\n",
       "\t\t<dd>459</dd>\n",
       "\t<dt>Fold05</dt>\n",
       "\t\t<dd>461</dd>\n",
       "\t<dt>Fold06</dt>\n",
       "\t\t<dd>459</dd>\n",
       "\t<dt>Fold07</dt>\n",
       "\t\t<dd>460</dd>\n",
       "\t<dt>Fold08</dt>\n",
       "\t\t<dd>460</dd>\n",
       "\t<dt>Fold09</dt>\n",
       "\t\t<dd>461</dd>\n",
       "\t<dt>Fold10</dt>\n",
       "\t\t<dd>460</dd>\n",
       "</dl>\n"
      ],
      "text/latex": [
       "\\begin{description*}\n",
       "\\item[Fold01] 460\n",
       "\\item[Fold02] 461\n",
       "\\item[Fold03] 460\n",
       "\\item[Fold04] 459\n",
       "\\item[Fold05] 461\n",
       "\\item[Fold06] 459\n",
       "\\item[Fold07] 460\n",
       "\\item[Fold08] 460\n",
       "\\item[Fold09] 461\n",
       "\\item[Fold10] 460\n",
       "\\end{description*}\n"
      ],
      "text/markdown": [
       "Fold01\n",
       ":   460Fold02\n",
       ":   461Fold03\n",
       ":   460Fold04\n",
       ":   459Fold05\n",
       ":   461Fold06\n",
       ":   459Fold07\n",
       ":   460Fold08\n",
       ":   460Fold09\n",
       ":   461Fold10\n",
       ":   460\n",
       "\n"
      ],
      "text/plain": [
       "Fold01 Fold02 Fold03 Fold04 Fold05 Fold06 Fold07 Fold08 Fold09 Fold10 \n",
       "   460    461    460    459    461    459    460    460    461    460 "
      ]
     },
     "metadata": {},
     "output_type": "display_data"
    }
   ],
   "source": [
    "set.seed(32323)\n",
    "# 10 Folds, returns each set as a List, and returns a Testing set\n",
    "folds <- createFolds(y = spam$type, k = 10, list = TRUE, returnTrain = FALSE)\n",
    "\n",
    "sapply(folds, length)"
   ]
  },
  {
   "cell_type": "code",
   "execution_count": 9,
   "metadata": {},
   "outputs": [
    {
     "data": {
      "text/html": [
       "<ol class=list-inline>\n",
       "\t<li>24</li>\n",
       "\t<li>27</li>\n",
       "\t<li>32</li>\n",
       "\t<li>40</li>\n",
       "\t<li>41</li>\n",
       "\t<li>43</li>\n",
       "\t<li>55</li>\n",
       "\t<li>58</li>\n",
       "\t<li>63</li>\n",
       "\t<li>68</li>\n",
       "</ol>\n"
      ],
      "text/latex": [
       "\\begin{enumerate*}\n",
       "\\item 24\n",
       "\\item 27\n",
       "\\item 32\n",
       "\\item 40\n",
       "\\item 41\n",
       "\\item 43\n",
       "\\item 55\n",
       "\\item 58\n",
       "\\item 63\n",
       "\\item 68\n",
       "\\end{enumerate*}\n"
      ],
      "text/markdown": [
       "1. 24\n",
       "2. 27\n",
       "3. 32\n",
       "4. 40\n",
       "5. 41\n",
       "6. 43\n",
       "7. 55\n",
       "8. 58\n",
       "9. 63\n",
       "10. 68\n",
       "\n",
       "\n"
      ],
      "text/plain": [
       " [1] 24 27 32 40 41 43 55 58 63 68"
      ]
     },
     "metadata": {},
     "output_type": "display_data"
    }
   ],
   "source": [
    "# Look at which samples are in first Testing Fold \n",
    "folds[[1]][1:10]"
   ]
  },
  {
   "cell_type": "markdown",
   "metadata": {},
   "source": [
    "## Resampling\n",
    "- Bootstraping"
   ]
  },
  {
   "cell_type": "code",
   "execution_count": 10,
   "metadata": {},
   "outputs": [
    {
     "data": {
      "text/html": [
       "<dl class=dl-horizontal>\n",
       "\t<dt>Resample01</dt>\n",
       "\t\t<dd>4601</dd>\n",
       "\t<dt>Resample02</dt>\n",
       "\t\t<dd>4601</dd>\n",
       "\t<dt>Resample03</dt>\n",
       "\t\t<dd>4601</dd>\n",
       "\t<dt>Resample04</dt>\n",
       "\t\t<dd>4601</dd>\n",
       "\t<dt>Resample05</dt>\n",
       "\t\t<dd>4601</dd>\n",
       "\t<dt>Resample06</dt>\n",
       "\t\t<dd>4601</dd>\n",
       "\t<dt>Resample07</dt>\n",
       "\t\t<dd>4601</dd>\n",
       "\t<dt>Resample08</dt>\n",
       "\t\t<dd>4601</dd>\n",
       "\t<dt>Resample09</dt>\n",
       "\t\t<dd>4601</dd>\n",
       "\t<dt>Resample10</dt>\n",
       "\t\t<dd>4601</dd>\n",
       "</dl>\n"
      ],
      "text/latex": [
       "\\begin{description*}\n",
       "\\item[Resample01] 4601\n",
       "\\item[Resample02] 4601\n",
       "\\item[Resample03] 4601\n",
       "\\item[Resample04] 4601\n",
       "\\item[Resample05] 4601\n",
       "\\item[Resample06] 4601\n",
       "\\item[Resample07] 4601\n",
       "\\item[Resample08] 4601\n",
       "\\item[Resample09] 4601\n",
       "\\item[Resample10] 4601\n",
       "\\end{description*}\n"
      ],
      "text/markdown": [
       "Resample01\n",
       ":   4601Resample02\n",
       ":   4601Resample03\n",
       ":   4601Resample04\n",
       ":   4601Resample05\n",
       ":   4601Resample06\n",
       ":   4601Resample07\n",
       ":   4601Resample08\n",
       ":   4601Resample09\n",
       ":   4601Resample10\n",
       ":   4601\n",
       "\n"
      ],
      "text/plain": [
       "Resample01 Resample02 Resample03 Resample04 Resample05 Resample06 Resample07 \n",
       "      4601       4601       4601       4601       4601       4601       4601 \n",
       "Resample08 Resample09 Resample10 \n",
       "      4601       4601       4601 "
      ]
     },
     "metadata": {},
     "output_type": "display_data"
    }
   ],
   "source": [
    "set.seed(32323)\n",
    "# 10 Resamples, returns each set as a List\n",
    "folds <- createResample(y = spam$type, times = 10, list = TRUE)\n",
    "\n",
    "sapply(folds, length)"
   ]
  },
  {
   "cell_type": "code",
   "execution_count": 12,
   "metadata": {},
   "outputs": [
    {
     "data": {
      "text/html": [
       "<ol class=list-inline>\n",
       "\t<li>1</li>\n",
       "\t<li>2</li>\n",
       "\t<li>3</li>\n",
       "\t<li>3</li>\n",
       "\t<li>3</li>\n",
       "\t<li>5</li>\n",
       "\t<li>5</li>\n",
       "\t<li>7</li>\n",
       "\t<li>8</li>\n",
       "\t<li>12</li>\n",
       "</ol>\n"
      ],
      "text/latex": [
       "\\begin{enumerate*}\n",
       "\\item 1\n",
       "\\item 2\n",
       "\\item 3\n",
       "\\item 3\n",
       "\\item 3\n",
       "\\item 5\n",
       "\\item 5\n",
       "\\item 7\n",
       "\\item 8\n",
       "\\item 12\n",
       "\\end{enumerate*}\n"
      ],
      "text/markdown": [
       "1. 1\n",
       "2. 2\n",
       "3. 3\n",
       "4. 3\n",
       "5. 3\n",
       "6. 5\n",
       "7. 5\n",
       "8. 7\n",
       "9. 8\n",
       "10. 12\n",
       "\n",
       "\n"
      ],
      "text/plain": [
       " [1]  1  2  3  3  3  5  5  7  8 12"
      ]
     },
     "metadata": {},
     "output_type": "display_data"
    }
   ],
   "source": [
    "# Look at which samples are in first Fold \n",
    "# Some values are repeated since Resampling\n",
    "folds[[1]][1:10]"
   ]
  },
  {
   "cell_type": "markdown",
   "metadata": {},
   "source": [
    "## Time Splices"
   ]
  },
  {
   "cell_type": "code",
   "execution_count": 15,
   "metadata": {},
   "outputs": [
    {
     "data": {
      "text/html": [
       "<ol class=list-inline>\n",
       "\t<li>'train'</li>\n",
       "\t<li>'test'</li>\n",
       "</ol>\n"
      ],
      "text/latex": [
       "\\begin{enumerate*}\n",
       "\\item 'train'\n",
       "\\item 'test'\n",
       "\\end{enumerate*}\n"
      ],
      "text/markdown": [
       "1. 'train'\n",
       "2. 'test'\n",
       "\n",
       "\n"
      ],
      "text/plain": [
       "[1] \"train\" \"test\" "
      ]
     },
     "metadata": {},
     "output_type": "display_data"
    },
    {
     "data": {
      "text/html": [
       "<dl class=dl-horizontal>\n",
       "\t<dt>train</dt>\n",
       "\t\t<dd>971</dd>\n",
       "\t<dt>test</dt>\n",
       "\t\t<dd>971</dd>\n",
       "</dl>\n"
      ],
      "text/latex": [
       "\\begin{description*}\n",
       "\\item[train] 971\n",
       "\\item[test] 971\n",
       "\\end{description*}\n"
      ],
      "text/markdown": [
       "train\n",
       ":   971test\n",
       ":   971\n",
       "\n"
      ],
      "text/plain": [
       "train  test \n",
       "  971   971 "
      ]
     },
     "metadata": {},
     "output_type": "display_data"
    }
   ],
   "source": [
    "set.seed(32323)\n",
    "tme <- 1:1000\n",
    "\n",
    "# horizon - 10: Predict the next 10 after folds\n",
    "folds <- createTimeSlices(y = tme, initialWindow = 20, horizon = 10)\n",
    "\n",
    "names(folds)\n",
    "sapply(folds, length)"
   ]
  },
  {
   "cell_type": "code",
   "execution_count": 18,
   "metadata": {},
   "outputs": [
    {
     "data": {
      "text/html": [
       "<ol class=list-inline>\n",
       "\t<li>1</li>\n",
       "\t<li>2</li>\n",
       "\t<li>3</li>\n",
       "\t<li>4</li>\n",
       "\t<li>5</li>\n",
       "\t<li>6</li>\n",
       "\t<li>7</li>\n",
       "\t<li>8</li>\n",
       "\t<li>9</li>\n",
       "\t<li>10</li>\n",
       "\t<li>11</li>\n",
       "\t<li>12</li>\n",
       "\t<li>13</li>\n",
       "\t<li>14</li>\n",
       "\t<li>15</li>\n",
       "\t<li>16</li>\n",
       "\t<li>17</li>\n",
       "\t<li>18</li>\n",
       "\t<li>19</li>\n",
       "\t<li>20</li>\n",
       "</ol>\n"
      ],
      "text/latex": [
       "\\begin{enumerate*}\n",
       "\\item 1\n",
       "\\item 2\n",
       "\\item 3\n",
       "\\item 4\n",
       "\\item 5\n",
       "\\item 6\n",
       "\\item 7\n",
       "\\item 8\n",
       "\\item 9\n",
       "\\item 10\n",
       "\\item 11\n",
       "\\item 12\n",
       "\\item 13\n",
       "\\item 14\n",
       "\\item 15\n",
       "\\item 16\n",
       "\\item 17\n",
       "\\item 18\n",
       "\\item 19\n",
       "\\item 20\n",
       "\\end{enumerate*}\n"
      ],
      "text/markdown": [
       "1. 1\n",
       "2. 2\n",
       "3. 3\n",
       "4. 4\n",
       "5. 5\n",
       "6. 6\n",
       "7. 7\n",
       "8. 8\n",
       "9. 9\n",
       "10. 10\n",
       "11. 11\n",
       "12. 12\n",
       "13. 13\n",
       "14. 14\n",
       "15. 15\n",
       "16. 16\n",
       "17. 17\n",
       "18. 18\n",
       "19. 19\n",
       "20. 20\n",
       "\n",
       "\n"
      ],
      "text/plain": [
       " [1]  1  2  3  4  5  6  7  8  9 10 11 12 13 14 15 16 17 18 19 20"
      ]
     },
     "metadata": {},
     "output_type": "display_data"
    }
   ],
   "source": [
    "folds$train[[1]]"
   ]
  },
  {
   "cell_type": "code",
   "execution_count": 19,
   "metadata": {},
   "outputs": [
    {
     "data": {
      "text/html": [
       "<ol class=list-inline>\n",
       "\t<li>2</li>\n",
       "\t<li>3</li>\n",
       "\t<li>4</li>\n",
       "\t<li>5</li>\n",
       "\t<li>6</li>\n",
       "\t<li>7</li>\n",
       "\t<li>8</li>\n",
       "\t<li>9</li>\n",
       "\t<li>10</li>\n",
       "\t<li>11</li>\n",
       "\t<li>12</li>\n",
       "\t<li>13</li>\n",
       "\t<li>14</li>\n",
       "\t<li>15</li>\n",
       "\t<li>16</li>\n",
       "\t<li>17</li>\n",
       "\t<li>18</li>\n",
       "\t<li>19</li>\n",
       "\t<li>20</li>\n",
       "\t<li>21</li>\n",
       "</ol>\n"
      ],
      "text/latex": [
       "\\begin{enumerate*}\n",
       "\\item 2\n",
       "\\item 3\n",
       "\\item 4\n",
       "\\item 5\n",
       "\\item 6\n",
       "\\item 7\n",
       "\\item 8\n",
       "\\item 9\n",
       "\\item 10\n",
       "\\item 11\n",
       "\\item 12\n",
       "\\item 13\n",
       "\\item 14\n",
       "\\item 15\n",
       "\\item 16\n",
       "\\item 17\n",
       "\\item 18\n",
       "\\item 19\n",
       "\\item 20\n",
       "\\item 21\n",
       "\\end{enumerate*}\n"
      ],
      "text/markdown": [
       "1. 2\n",
       "2. 3\n",
       "3. 4\n",
       "4. 5\n",
       "5. 6\n",
       "6. 7\n",
       "7. 8\n",
       "8. 9\n",
       "9. 10\n",
       "10. 11\n",
       "11. 12\n",
       "12. 13\n",
       "13. 14\n",
       "14. 15\n",
       "15. 16\n",
       "16. 17\n",
       "17. 18\n",
       "18. 19\n",
       "19. 20\n",
       "20. 21\n",
       "\n",
       "\n"
      ],
      "text/plain": [
       " [1]  2  3  4  5  6  7  8  9 10 11 12 13 14 15 16 17 18 19 20 21"
      ]
     },
     "metadata": {},
     "output_type": "display_data"
    }
   ],
   "source": [
    "folds$train[[2]]"
   ]
  },
  {
   "cell_type": "markdown",
   "metadata": {},
   "source": [
    "<hr>"
   ]
  }
 ],
 "metadata": {
  "kernelspec": {
   "display_name": "R",
   "language": "R",
   "name": "ir"
  },
  "language_info": {
   "codemirror_mode": "r",
   "file_extension": ".r",
   "mimetype": "text/x-r-source",
   "name": "R",
   "pygments_lexer": "r",
   "version": "3.4.1"
  }
 },
 "nbformat": 4,
 "nbformat_minor": 2
}
