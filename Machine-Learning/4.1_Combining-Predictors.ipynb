{
 "cells": [
  {
   "cell_type": "markdown",
   "metadata": {},
   "source": [
    "# Combining Predictors\n",
    "- Combine classifiers by averaging or voting\n",
    "- Improves accuracy\n",
    "- Boosting, Bagging, and Random Forests combine similar classifiers\n",
    "- Model stacking or Model ensembling, combine different classifiers"
   ]
  },
  {
   "cell_type": "markdown",
   "metadata": {},
   "source": [
    "## Example\n",
    "- Using Wage datset"
   ]
  },
  {
   "cell_type": "code",
   "execution_count": 1,
   "metadata": {},
   "outputs": [
    {
     "name": "stderr",
     "output_type": "stream",
     "text": [
      "Loading required package: lattice\n"
     ]
    },
    {
     "data": {
      "text/html": [
       "<table>\n",
       "<thead><tr><th></th><th scope=col>freqRatio</th><th scope=col>percentUnique</th><th scope=col>zeroVar</th><th scope=col>nzv</th></tr></thead>\n",
       "<tbody>\n",
       "\t<tr><th scope=row>year</th><td>1.057732   </td><td> 0.23333333</td><td>FALSE      </td><td>FALSE      </td></tr>\n",
       "\t<tr><th scope=row>age</th><td>1.153061   </td><td> 2.03333333</td><td>FALSE      </td><td>FALSE      </td></tr>\n",
       "\t<tr><th scope=row>maritl</th><td>3.200617   </td><td> 0.16666667</td><td>FALSE      </td><td>FALSE      </td></tr>\n",
       "\t<tr><th scope=row>race</th><td>8.464164   </td><td> 0.13333333</td><td>FALSE      </td><td>FALSE      </td></tr>\n",
       "\t<tr><th scope=row>education</th><td>1.417518   </td><td> 0.16666667</td><td>FALSE      </td><td>FALSE      </td></tr>\n",
       "\t<tr><th scope=row>region</th><td>0.000000   </td><td> 0.03333333</td><td> TRUE      </td><td> TRUE      </td></tr>\n",
       "\t<tr><th scope=row>jobclass</th><td>1.060440   </td><td> 0.06666667</td><td>FALSE      </td><td>FALSE      </td></tr>\n",
       "\t<tr><th scope=row>health</th><td>2.496503   </td><td> 0.06666667</td><td>FALSE      </td><td>FALSE      </td></tr>\n",
       "\t<tr><th scope=row>health_ins</th><td>2.271538   </td><td> 0.06666667</td><td>FALSE      </td><td>FALSE      </td></tr>\n",
       "\t<tr><th scope=row>logwage</th><td>1.052632   </td><td>16.93333333</td><td>FALSE      </td><td>FALSE      </td></tr>\n",
       "\t<tr><th scope=row>wage</th><td>1.052632   </td><td>16.93333333</td><td>FALSE      </td><td>FALSE      </td></tr>\n",
       "</tbody>\n",
       "</table>\n"
      ],
      "text/latex": [
       "\\begin{tabular}{r|llll}\n",
       "  & freqRatio & percentUnique & zeroVar & nzv\\\\\n",
       "\\hline\n",
       "\tyear & 1.057732    &  0.23333333 & FALSE       & FALSE      \\\\\n",
       "\tage & 1.153061    &  2.03333333 & FALSE       & FALSE      \\\\\n",
       "\tmaritl & 3.200617    &  0.16666667 & FALSE       & FALSE      \\\\\n",
       "\trace & 8.464164    &  0.13333333 & FALSE       & FALSE      \\\\\n",
       "\teducation & 1.417518    &  0.16666667 & FALSE       & FALSE      \\\\\n",
       "\tregion & 0.000000    &  0.03333333 &  TRUE       &  TRUE      \\\\\n",
       "\tjobclass & 1.060440    &  0.06666667 & FALSE       & FALSE      \\\\\n",
       "\thealth & 2.496503    &  0.06666667 & FALSE       & FALSE      \\\\\n",
       "\thealth\\_ins & 2.271538    &  0.06666667 & FALSE       & FALSE      \\\\\n",
       "\tlogwage & 1.052632    & 16.93333333 & FALSE       & FALSE      \\\\\n",
       "\twage & 1.052632    & 16.93333333 & FALSE       & FALSE      \\\\\n",
       "\\end{tabular}\n"
      ],
      "text/markdown": [
       "\n",
       "| <!--/--> | freqRatio | percentUnique | zeroVar | nzv | \n",
       "|---|---|---|---|---|---|---|---|---|---|---|\n",
       "| year | 1.057732    |  0.23333333 | FALSE       | FALSE       | \n",
       "| age | 1.153061    |  2.03333333 | FALSE       | FALSE       | \n",
       "| maritl | 3.200617    |  0.16666667 | FALSE       | FALSE       | \n",
       "| race | 8.464164    |  0.13333333 | FALSE       | FALSE       | \n",
       "| education | 1.417518    |  0.16666667 | FALSE       | FALSE       | \n",
       "| region | 0.000000    |  0.03333333 |  TRUE       |  TRUE       | \n",
       "| jobclass | 1.060440    |  0.06666667 | FALSE       | FALSE       | \n",
       "| health | 2.496503    |  0.06666667 | FALSE       | FALSE       | \n",
       "| health_ins | 2.271538    |  0.06666667 | FALSE       | FALSE       | \n",
       "| logwage | 1.052632    | 16.93333333 | FALSE       | FALSE       | \n",
       "| wage | 1.052632    | 16.93333333 | FALSE       | FALSE       | \n",
       "\n",
       "\n"
      ],
      "text/plain": [
       "           freqRatio percentUnique zeroVar nzv  \n",
       "year       1.057732   0.23333333   FALSE   FALSE\n",
       "age        1.153061   2.03333333   FALSE   FALSE\n",
       "maritl     3.200617   0.16666667   FALSE   FALSE\n",
       "race       8.464164   0.13333333   FALSE   FALSE\n",
       "education  1.417518   0.16666667   FALSE   FALSE\n",
       "region     0.000000   0.03333333    TRUE    TRUE\n",
       "jobclass   1.060440   0.06666667   FALSE   FALSE\n",
       "health     2.496503   0.06666667   FALSE   FALSE\n",
       "health_ins 2.271538   0.06666667   FALSE   FALSE\n",
       "logwage    1.052632  16.93333333   FALSE   FALSE\n",
       "wage       1.052632  16.93333333   FALSE   FALSE"
      ]
     },
     "metadata": {},
     "output_type": "display_data"
    }
   ],
   "source": [
    "library(ISLR)\n",
    "library(ggplot2)\n",
    "library(caret)\n",
    "\n",
    "data(Wage)\n",
    "\n",
    "# Remove Variable with no Variability\n",
    "nzv <- nearZeroVar(Wage, saveMetrics = TRUE)\n",
    "nzv"
   ]
  },
  {
   "cell_type": "code",
   "execution_count": 2,
   "metadata": {
    "collapsed": true
   },
   "outputs": [],
   "source": [
    "# Remove region and  logwage\n",
    "Wage <- subset(Wage, select = -c(region, logwage))"
   ]
  },
  {
   "cell_type": "code",
   "execution_count": 3,
   "metadata": {
    "collapsed": true
   },
   "outputs": [],
   "source": [
    "# Create Building dataset and Validation dataset\n",
    "inBuild <- createDataPartition(y = Wage$wage, p = 0.7, list = FALSE)\n",
    "\n",
    "validation <- Wage[-inBuild,]\n",
    "buildData <- Wage[inBuild,]\n",
    "\n",
    "inTrain <- createDataPartition(y = buildData$wage, p = 0.7, list = FALSE)\n",
    "training <- buildData[inTrain,]\n",
    "testing <- buildData[-inTrain,]"
   ]
  },
  {
   "cell_type": "code",
   "execution_count": 4,
   "metadata": {},
   "outputs": [
    {
     "data": {
      "text/html": [
       "<ol class=list-inline>\n",
       "\t<li>1474</li>\n",
       "\t<li>9</li>\n",
       "</ol>\n"
      ],
      "text/latex": [
       "\\begin{enumerate*}\n",
       "\\item 1474\n",
       "\\item 9\n",
       "\\end{enumerate*}\n"
      ],
      "text/markdown": [
       "1. 1474\n",
       "2. 9\n",
       "\n",
       "\n"
      ],
      "text/plain": [
       "[1] 1474    9"
      ]
     },
     "metadata": {},
     "output_type": "display_data"
    }
   ],
   "source": [
    "dim(training)"
   ]
  },
  {
   "cell_type": "code",
   "execution_count": 5,
   "metadata": {},
   "outputs": [
    {
     "data": {
      "text/html": [
       "<ol class=list-inline>\n",
       "\t<li>628</li>\n",
       "\t<li>9</li>\n",
       "</ol>\n"
      ],
      "text/latex": [
       "\\begin{enumerate*}\n",
       "\\item 628\n",
       "\\item 9\n",
       "\\end{enumerate*}\n"
      ],
      "text/markdown": [
       "1. 628\n",
       "2. 9\n",
       "\n",
       "\n"
      ],
      "text/plain": [
       "[1] 628   9"
      ]
     },
     "metadata": {},
     "output_type": "display_data"
    }
   ],
   "source": [
    "dim(testing)"
   ]
  },
  {
   "cell_type": "code",
   "execution_count": 6,
   "metadata": {},
   "outputs": [
    {
     "data": {
      "text/html": [
       "<ol class=list-inline>\n",
       "\t<li>898</li>\n",
       "\t<li>9</li>\n",
       "</ol>\n"
      ],
      "text/latex": [
       "\\begin{enumerate*}\n",
       "\\item 898\n",
       "\\item 9\n",
       "\\end{enumerate*}\n"
      ],
      "text/markdown": [
       "1. 898\n",
       "2. 9\n",
       "\n",
       "\n"
      ],
      "text/plain": [
       "[1] 898   9"
      ]
     },
     "metadata": {},
     "output_type": "display_data"
    }
   ],
   "source": [
    "dim(validation)"
   ]
  },
  {
   "cell_type": "markdown",
   "metadata": {},
   "source": [
    "## Use Training set to build Models\n",
    "- Build 2 Models: regression and boosting (gbm)\n",
    "- Can use cross validation "
   ]
  },
  {
   "cell_type": "code",
   "execution_count": 7,
   "metadata": {
    "collapsed": true
   },
   "outputs": [],
   "source": [
    "# Model 1: Regression\n",
    "model1 <- train(wage ~ ., method = \"glm\", data = training)"
   ]
  },
  {
   "cell_type": "code",
   "execution_count": 8,
   "metadata": {},
   "outputs": [
    {
     "data": {
      "text/plain": [
       "Generalized Linear Model \n",
       "\n",
       "1474 samples\n",
       "   8 predictor\n",
       "\n",
       "No pre-processing\n",
       "Resampling: Bootstrapped (25 reps) \n",
       "Summary of sample sizes: 1474, 1474, 1474, 1474, 1474, 1474, ... \n",
       "Resampling results:\n",
       "\n",
       "  RMSE      Rsquared \n",
       "  33.88225  0.3496871\n"
      ]
     },
     "metadata": {},
     "output_type": "display_data"
    }
   ],
   "source": [
    "model1"
   ]
  },
  {
   "cell_type": "code",
   "execution_count": 9,
   "metadata": {},
   "outputs": [
    {
     "name": "stderr",
     "output_type": "stream",
     "text": [
      "Loading required package: gbm\n",
      "Loading required package: survival\n",
      "\n",
      "Attaching package: ‘survival’\n",
      "\n",
      "The following object is masked from ‘package:caret’:\n",
      "\n",
      "    cluster\n",
      "\n",
      "Loading required package: splines\n",
      "Loading required package: parallel\n",
      "Loaded gbm 2.1.3\n",
      "Loading required package: plyr\n"
     ]
    }
   ],
   "source": [
    "# Model 2: gbm\n",
    "model2 <- train(wage ~ ., method = \"gbm\", data = training, verbose = FALSE)"
   ]
  },
  {
   "cell_type": "code",
   "execution_count": 10,
   "metadata": {},
   "outputs": [
    {
     "data": {
      "text/plain": [
       "A gradient boosted model with gaussian loss function.\n",
       "50 iterations were performed.\n",
       "There were 16 predictors of which 12 had non-zero influence."
      ]
     },
     "metadata": {},
     "output_type": "display_data"
    }
   ],
   "source": [
    "model2$finalModel"
   ]
  },
  {
   "cell_type": "markdown",
   "metadata": {},
   "source": [
    "## Predict and Plot the 2 Model Prediction vs each other\n",
    "- Good but not perfect fit"
   ]
  },
  {
   "cell_type": "code",
   "execution_count": 11,
   "metadata": {
    "collapsed": true
   },
   "outputs": [],
   "source": [
    "prediction1 <- predict(model1, newdata = testing)\n",
    "prediction2 <- predict(model2, newdata = testing)"
   ]
  },
  {
   "cell_type": "code",
   "execution_count": 12,
   "metadata": {},
   "outputs": [
    {
     "data": {},
     "metadata": {},
     "output_type": "display_data"
    },
    {
     "data": {
      "image/png": "[encoded data removed]",
      "text/plain": [
       "plot without title"
      ]
     },
     "metadata": {},
     "output_type": "display_data"
    }
   ],
   "source": [
    "qplot(prediction1, prediction2, color = wage, data = testing)"
   ]
  },
  {
   "cell_type": "markdown",
   "metadata": {},
   "source": [
    "## Fit a New Model that combines the predictors\n",
    "- Using a new method: Random Forests (rf)"
   ]
  },
  {
   "cell_type": "code",
   "execution_count": 14,
   "metadata": {},
   "outputs": [
    {
     "data": {
      "text/html": [
       "<table>\n",
       "<thead><tr><th></th><th scope=col>prediction1</th><th scope=col>prediction2</th><th scope=col>wage</th></tr></thead>\n",
       "<tbody>\n",
       "\t<tr><th scope=row>86582</th><td> 91.86816</td><td> 78.22497</td><td> 70.47602</td></tr>\n",
       "\t<tr><th scope=row>376662</th><td>140.61792</td><td>144.09257</td><td>127.11574</td></tr>\n",
       "\t<tr><th scope=row>160191</th><td> 86.36127</td><td> 89.17118</td><td> 82.67964</td></tr>\n",
       "\t<tr><th scope=row>230312</th><td>143.98410</td><td>145.91810</td><td>212.84235</td></tr>\n",
       "\t<tr><th scope=row>158226</th><td>105.51186</td><td>101.15631</td><td>200.54326</td></tr>\n",
       "\t<tr><th scope=row>86064</th><td> 97.11988</td><td>100.29628</td><td> 65.11085</td></tr>\n",
       "</tbody>\n",
       "</table>\n"
      ],
      "text/latex": [
       "\\begin{tabular}{r|lll}\n",
       "  & prediction1 & prediction2 & wage\\\\\n",
       "\\hline\n",
       "\t86582 &  91.86816 &  78.22497 &  70.47602\\\\\n",
       "\t376662 & 140.61792 & 144.09257 & 127.11574\\\\\n",
       "\t160191 &  86.36127 &  89.17118 &  82.67964\\\\\n",
       "\t230312 & 143.98410 & 145.91810 & 212.84235\\\\\n",
       "\t158226 & 105.51186 & 101.15631 & 200.54326\\\\\n",
       "\t86064 &  97.11988 & 100.29628 &  65.11085\\\\\n",
       "\\end{tabular}\n"
      ],
      "text/markdown": [
       "\n",
       "| <!--/--> | prediction1 | prediction2 | wage | \n",
       "|---|---|---|---|---|---|\n",
       "| 86582 |  91.86816 |  78.22497 |  70.47602 | \n",
       "| 376662 | 140.61792 | 144.09257 | 127.11574 | \n",
       "| 160191 |  86.36127 |  89.17118 |  82.67964 | \n",
       "| 230312 | 143.98410 | 145.91810 | 212.84235 | \n",
       "| 158226 | 105.51186 | 101.15631 | 200.54326 | \n",
       "| 86064 |  97.11988 | 100.29628 |  65.11085 | \n",
       "\n",
       "\n"
      ],
      "text/plain": [
       "       prediction1 prediction2 wage     \n",
       "86582   91.86816    78.22497    70.47602\n",
       "376662 140.61792   144.09257   127.11574\n",
       "160191  86.36127    89.17118    82.67964\n",
       "230312 143.98410   145.91810   212.84235\n",
       "158226 105.51186   101.15631   200.54326\n",
       "86064   97.11988   100.29628    65.11085"
      ]
     },
     "metadata": {},
     "output_type": "display_data"
    }
   ],
   "source": [
    "predictionDF <- data.frame(prediction1, prediction2, wage = testing$wage)\n",
    "head(predictionDF)"
   ]
  },
  {
   "cell_type": "code",
   "execution_count": 48,
   "metadata": {},
   "outputs": [
    {
     "name": "stderr",
     "output_type": "stream",
     "text": [
      "Loading required package: mgcv\n",
      "Loading required package: nlme\n",
      "This is mgcv 1.8-17. For overview type 'help(\"mgcv-package\")'.\n"
     ]
    }
   ],
   "source": [
    "combinedModel <- train(wage ~ ., method = \"gam\", data = predictionDF)"
   ]
  },
  {
   "cell_type": "markdown",
   "metadata": {},
   "source": [
    "## Use the New Combined Model to predict on the Validation Set"
   ]
  },
  {
   "cell_type": "code",
   "execution_count": 49,
   "metadata": {
    "collapsed": true
   },
   "outputs": [],
   "source": [
    "prediction1 <- predict(model1, newdata = validation)\n",
    "prediction2 <- predict(model2, newdata = validation)"
   ]
  },
  {
   "cell_type": "code",
   "execution_count": 50,
   "metadata": {},
   "outputs": [
    {
     "data": {
      "text/html": [
       "<table>\n",
       "<thead><tr><th></th><th scope=col>prediction1</th><th scope=col>prediction2</th></tr></thead>\n",
       "<tbody>\n",
       "\t<tr><th scope=row>161300</th><td>111.72176</td><td>108.66417</td></tr>\n",
       "\t<tr><th scope=row>155159</th><td>125.52124</td><td>133.46409</td></tr>\n",
       "\t<tr><th scope=row>450601</th><td>125.22341</td><td>122.28395</td></tr>\n",
       "\t<tr><th scope=row>302778</th><td>105.39996</td><td>104.25419</td></tr>\n",
       "\t<tr><th scope=row>305706</th><td> 91.71282</td><td> 89.92786</td></tr>\n",
       "\t<tr><th scope=row>153561</th><td>126.70771</td><td>130.91539</td></tr>\n",
       "</tbody>\n",
       "</table>\n"
      ],
      "text/latex": [
       "\\begin{tabular}{r|ll}\n",
       "  & prediction1 & prediction2\\\\\n",
       "\\hline\n",
       "\t161300 & 111.72176 & 108.66417\\\\\n",
       "\t155159 & 125.52124 & 133.46409\\\\\n",
       "\t450601 & 125.22341 & 122.28395\\\\\n",
       "\t302778 & 105.39996 & 104.25419\\\\\n",
       "\t305706 &  91.71282 &  89.92786\\\\\n",
       "\t153561 & 126.70771 & 130.91539\\\\\n",
       "\\end{tabular}\n"
      ],
      "text/markdown": [
       "\n",
       "| <!--/--> | prediction1 | prediction2 | \n",
       "|---|---|---|---|---|---|\n",
       "| 161300 | 111.72176 | 108.66417 | \n",
       "| 155159 | 125.52124 | 133.46409 | \n",
       "| 450601 | 125.22341 | 122.28395 | \n",
       "| 302778 | 105.39996 | 104.25419 | \n",
       "| 305706 |  91.71282 |  89.92786 | \n",
       "| 153561 | 126.70771 | 130.91539 | \n",
       "\n",
       "\n"
      ],
      "text/plain": [
       "       prediction1 prediction2\n",
       "161300 111.72176   108.66417  \n",
       "155159 125.52124   133.46409  \n",
       "450601 125.22341   122.28395  \n",
       "302778 105.39996   104.25419  \n",
       "305706  91.71282    89.92786  \n",
       "153561 126.70771   130.91539  "
      ]
     },
     "metadata": {},
     "output_type": "display_data"
    }
   ],
   "source": [
    "validationPredDF <- data.frame(prediction1, prediction2)\n",
    "head(validationPredDF)"
   ]
  },
  {
   "cell_type": "code",
   "execution_count": 51,
   "metadata": {},
   "outputs": [],
   "source": [
    "combinedPred <- predict(combinedModel, newdata = validationPredDF)"
   ]
  },
  {
   "cell_type": "code",
   "execution_count": 52,
   "metadata": {},
   "outputs": [
    {
     "data": {
      "text/html": [
       "<dl class=dl-horizontal>\n",
       "\t<dt>161300</dt>\n",
       "\t\t<dd>109.40234553084</dd>\n",
       "\t<dt>155159</dt>\n",
       "\t\t<dd>133.153273153183</dd>\n",
       "\t<dt>450601</dt>\n",
       "\t\t<dd>124.170794133306</dd>\n",
       "\t<dt>302778</dt>\n",
       "\t\t<dd>103.977900994552</dd>\n",
       "\t<dt>305706</dt>\n",
       "\t\t<dd>88.5699372767882</dd>\n",
       "\t<dt>153561</dt>\n",
       "\t\t<dd>131.438788671299</dd>\n",
       "</dl>\n"
      ],
      "text/plain": [
       "   161300    155159    450601    302778    305706    153561 \n",
       "109.40235 133.15327 124.17079 103.97790  88.56994 131.43879 "
      ]
     },
     "metadata": {},
     "output_type": "display_data"
    }
   ],
   "source": [
    "head(combinedPred)"
   ]
  },
  {
   "cell_type": "markdown",
   "metadata": {},
   "source": [
    "## Testing Errors"
   ]
  },
  {
   "cell_type": "code",
   "execution_count": 53,
   "metadata": {},
   "outputs": [
    {
     "data": {
      "text/html": [
       "23.0986220219436"
      ],
      "text/latex": [
       "23.0986220219436"
      ],
      "text/markdown": [
       "23.0986220219436"
      ],
      "text/plain": [
       "[1] 23.09862"
      ]
     },
     "metadata": {},
     "output_type": "display_data"
    }
   ],
   "source": [
    "sqrt(sum(prediction1 - validation$wage)^2)"
   ]
  },
  {
   "cell_type": "code",
   "execution_count": 54,
   "metadata": {},
   "outputs": [
    {
     "data": {
      "text/html": [
       "1.43207823975195"
      ],
      "text/latex": [
       "1.43207823975195"
      ],
      "text/markdown": [
       "1.43207823975195"
      ],
      "text/plain": [
       "[1] 1.432078"
      ]
     },
     "metadata": {},
     "output_type": "display_data"
    }
   ],
   "source": [
    "sqrt(sum(prediction2 - validation$wage)^2)"
   ]
  },
  {
   "cell_type": "code",
   "execution_count": 55,
   "metadata": {},
   "outputs": [
    {
     "data": {
      "text/html": [
       "220.568701602621"
      ],
      "text/latex": [
       "220.568701602621"
      ],
      "text/markdown": [
       "220.568701602621"
      ],
      "text/plain": [
       "[1] 220.5687"
      ]
     },
     "metadata": {},
     "output_type": "display_data"
    }
   ],
   "source": [
    "sqrt(sum(combinedPred - validation$wage)^2)"
   ]
  }
 ],
 "metadata": {
  "kernelspec": {
   "display_name": "R",
   "language": "R",
   "name": "ir"
  },
  "language_info": {
   "codemirror_mode": "r",
   "file_extension": ".r",
   "mimetype": "text/x-r-source",
   "name": "R",
   "pygments_lexer": "r",
   "version": "3.4.1"
  }
 },
 "nbformat": 4,
 "nbformat_minor": 2
}
