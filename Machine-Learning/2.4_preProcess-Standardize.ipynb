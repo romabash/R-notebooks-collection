{
 "cells": [
  {
   "cell_type": "markdown",
   "metadata": {},
   "source": [
    "# Pre-Processing\n",
    "- Adjust for skewed data: standardize\n",
    "- Impute Missing data\n",
    "- Can be passed into the train() function to standardize all Predictors"
   ]
  },
  {
   "cell_type": "code",
   "execution_count": 1,
   "metadata": {},
   "outputs": [
    {
     "name": "stderr",
     "output_type": "stream",
     "text": [
      "Loading required package: lattice\n",
      "Loading required package: ggplot2\n",
      "\n",
      "Attaching package: ‘kernlab’\n",
      "\n",
      "The following object is masked from ‘package:ggplot2’:\n",
      "\n",
      "    alpha\n",
      "\n"
     ]
    }
   ],
   "source": [
    "library(caret)\n",
    "library(kernlab) #spam dataset\n",
    "data(spam)"
   ]
  },
  {
   "cell_type": "code",
   "execution_count": 5,
   "metadata": {},
   "outputs": [
    {
     "data": {
      "image/png": "[encoded data removed]",
      "text/plain": [
       "Plot with title “”"
      ]
     },
     "metadata": {},
     "output_type": "display_data"
    }
   ],
   "source": [
    "# Split based on type\n",
    "set.seed(32323)\n",
    "inTrain <- createDataPartition(y = spam$type, p = 0.75, list = FALSE)\n",
    "training <- spam[inTrain,]\n",
    "testing <- spam[-inTrain,]\n",
    "\n",
    "# Look at capitalAve Variable: skewed (too many small run lengths, with few large ones)\n",
    "hist(training$capitalAve, main = \"\", xlab = \"Average capital run length\")"
   ]
  },
  {
   "cell_type": "markdown",
   "metadata": {},
   "source": [
    "## Preprocess Manually\n",
    "- Small Mean and Large SD"
   ]
  },
  {
   "cell_type": "code",
   "execution_count": 6,
   "metadata": {},
   "outputs": [
    {
     "data": {
      "text/html": [
       "'mean: 5.68948420747609'"
      ],
      "text/latex": [
       "'mean: 5.68948420747609'"
      ],
      "text/markdown": [
       "'mean: 5.68948420747609'"
      ],
      "text/plain": [
       "[1] \"mean: 5.68948420747609\""
      ]
     },
     "metadata": {},
     "output_type": "display_data"
    },
    {
     "data": {
      "text/html": [
       "'sd: 36.0709064796029'"
      ],
      "text/latex": [
       "'sd: 36.0709064796029'"
      ],
      "text/markdown": [
       "'sd: 36.0709064796029'"
      ],
      "text/plain": [
       "[1] \"sd: 36.0709064796029\""
      ]
     },
     "metadata": {},
     "output_type": "display_data"
    }
   ],
   "source": [
    "paste(\"mean:\", mean(training$capitalAve))\n",
    "paste(\"sd:\", sd(training$capitalAve))"
   ]
  },
  {
   "cell_type": "code",
   "execution_count": 7,
   "metadata": {},
   "outputs": [
    {
     "data": {
      "text/html": [
       "'mean: -1.11325096001001e-17'"
      ],
      "text/latex": [
       "'mean: -1.11325096001001e-17'"
      ],
      "text/markdown": [
       "'mean: -1.11325096001001e-17'"
      ],
      "text/plain": [
       "[1] \"mean: -1.11325096001001e-17\""
      ]
     },
     "metadata": {},
     "output_type": "display_data"
    },
    {
     "data": {
      "text/html": [
       "'sd: 1'"
      ],
      "text/latex": [
       "'sd: 1'"
      ],
      "text/markdown": [
       "'sd: 1'"
      ],
      "text/plain": [
       "[1] \"sd: 1\""
      ]
     },
     "metadata": {},
     "output_type": "display_data"
    }
   ],
   "source": [
    "# Standardize Training set\n",
    "# Mean will be 0, Sd will be 1\n",
    "trainCapAveStd <- (training$capitalAve - mean(training$capitalAve)) / sd(training$capitalAve)\n",
    "paste(\"mean:\", mean(trainCapAveStd))\n",
    "paste(\"sd:\", sd(trainCapAveStd))"
   ]
  },
  {
   "cell_type": "markdown",
   "metadata": {},
   "source": [
    "## When Applying to the Test Dataset, apply parameters used for Training set\n",
    "- Mean won't be exactly 0, and SD won't be exactly 1"
   ]
  },
  {
   "cell_type": "code",
   "execution_count": 8,
   "metadata": {},
   "outputs": [
    {
     "data": {
      "text/html": [
       "'mean: -0.0552331399266053'"
      ],
      "text/latex": [
       "'mean: -0.0552331399266053'"
      ],
      "text/markdown": [
       "'mean: -0.0552331399266053'"
      ],
      "text/plain": [
       "[1] \"mean: -0.0552331399266053\""
      ]
     },
     "metadata": {},
     "output_type": "display_data"
    },
    {
     "data": {
      "text/html": [
       "'sd: 0.304738927818326'"
      ],
      "text/latex": [
       "'sd: 0.304738927818326'"
      ],
      "text/markdown": [
       "'sd: 0.304738927818326'"
      ],
      "text/plain": [
       "[1] \"sd: 0.304738927818326\""
      ]
     },
     "metadata": {},
     "output_type": "display_data"
    }
   ],
   "source": [
    "# Standardize Testing set\n",
    "testCapAveStd <- (testing$capitalAve - mean(training$capitalAve)) / sd(training$capitalAve)\n",
    "paste(\"mean:\", mean(testCapAveStd))\n",
    "paste(\"sd:\", sd(testCapAveStd))"
   ]
  },
  {
   "cell_type": "markdown",
   "metadata": {},
   "source": [
    "<hr>"
   ]
  },
  {
   "cell_type": "markdown",
   "metadata": {},
   "source": [
    "## Use preProcess() function to Standardize\n",
    "- Pass all Variable except for the last (type)\n",
    "- Create preProcess Object\n",
    "- Use that Object to predict\n",
    "- Use that Object to predict on Testing set as well"
   ]
  },
  {
   "cell_type": "code",
   "execution_count": 14,
   "metadata": {},
   "outputs": [
    {
     "data": {
      "text/plain": [
       "Created from 3451 samples and 57 variables\n",
       "\n",
       "Pre-processing:\n",
       "  - centered (57)\n",
       "  - ignored (0)\n",
       "  - scaled (57)\n"
      ]
     },
     "metadata": {},
     "output_type": "display_data"
    }
   ],
   "source": [
    "preObj <- preProcess(training[, -58], method = c(\"center\", \"scale\"))\n",
    "preObj"
   ]
  },
  {
   "cell_type": "code",
   "execution_count": 15,
   "metadata": {},
   "outputs": [
    {
     "data": {
      "text/html": [
       "<ol class=list-inline>\n",
       "\t<li>-0.053602318216467</li>\n",
       "\t<li>-0.0159542485521265</li>\n",
       "\t<li>-0.0596736932212465</li>\n",
       "\t<li>-0.0596736932212465</li>\n",
       "\t<li>-0.0745610374110483</li>\n",
       "\t<li>-0.0898087828568415</li>\n",
       "</ol>\n"
      ],
      "text/latex": [
       "\\begin{enumerate*}\n",
       "\\item -0.053602318216467\n",
       "\\item -0.0159542485521265\n",
       "\\item -0.0596736932212465\n",
       "\\item -0.0596736932212465\n",
       "\\item -0.0745610374110483\n",
       "\\item -0.0898087828568415\n",
       "\\end{enumerate*}\n"
      ],
      "text/markdown": [
       "1. -0.053602318216467\n",
       "2. -0.0159542485521265\n",
       "3. -0.0596736932212465\n",
       "4. -0.0596736932212465\n",
       "5. -0.0745610374110483\n",
       "6. -0.0898087828568415\n",
       "\n",
       "\n"
      ],
      "text/plain": [
       "[1] -0.05360232 -0.01595425 -0.05967369 -0.05967369 -0.07456104 -0.08980878"
      ]
     },
     "metadata": {},
     "output_type": "display_data"
    }
   ],
   "source": [
    "trainCapAveStd <- predict(preObj, training[, -58])$capitalAve\n",
    "head(trainCapAveStd)"
   ]
  },
  {
   "cell_type": "code",
   "execution_count": 16,
   "metadata": {},
   "outputs": [
    {
     "data": {
      "text/html": [
       "'mean: -1.11325096001001e-17'"
      ],
      "text/latex": [
       "'mean: -1.11325096001001e-17'"
      ],
      "text/markdown": [
       "'mean: -1.11325096001001e-17'"
      ],
      "text/plain": [
       "[1] \"mean: -1.11325096001001e-17\""
      ]
     },
     "metadata": {},
     "output_type": "display_data"
    },
    {
     "data": {
      "text/html": [
       "'sd: 1'"
      ],
      "text/latex": [
       "'sd: 1'"
      ],
      "text/markdown": [
       "'sd: 1'"
      ],
      "text/plain": [
       "[1] \"sd: 1\""
      ]
     },
     "metadata": {},
     "output_type": "display_data"
    }
   ],
   "source": [
    "paste(\"mean:\", mean(trainCapAveStd))\n",
    "paste(\"sd:\", sd(trainCapAveStd))"
   ]
  },
  {
   "cell_type": "markdown",
   "metadata": {},
   "source": [
    "## Standardize the Testing Set"
   ]
  },
  {
   "cell_type": "code",
   "execution_count": 17,
   "metadata": {},
   "outputs": [
    {
     "data": {
      "text/html": [
       "<ol class=list-inline>\n",
       "\t<li>0.114538729290326</li>\n",
       "\t<li>-0.111405135042792</li>\n",
       "\t<li>0.112404044927915</li>\n",
       "\t<li>-0.121357754342865</li>\n",
       "\t<li>-0.103088182981451</li>\n",
       "\t<li>-0.0230791041513426</li>\n",
       "</ol>\n"
      ],
      "text/latex": [
       "\\begin{enumerate*}\n",
       "\\item 0.114538729290326\n",
       "\\item -0.111405135042792\n",
       "\\item 0.112404044927915\n",
       "\\item -0.121357754342865\n",
       "\\item -0.103088182981451\n",
       "\\item -0.0230791041513426\n",
       "\\end{enumerate*}\n"
      ],
      "text/markdown": [
       "1. 0.114538729290326\n",
       "2. -0.111405135042792\n",
       "3. 0.112404044927915\n",
       "4. -0.121357754342865\n",
       "5. -0.103088182981451\n",
       "6. -0.0230791041513426\n",
       "\n",
       "\n"
      ],
      "text/plain": [
       "[1]  0.1145387 -0.1114051  0.1124040 -0.1213578 -0.1030882 -0.0230791"
      ]
     },
     "metadata": {},
     "output_type": "display_data"
    },
    {
     "data": {
      "text/html": [
       "'mean: -0.0552331399266053'"
      ],
      "text/latex": [
       "'mean: -0.0552331399266053'"
      ],
      "text/markdown": [
       "'mean: -0.0552331399266053'"
      ],
      "text/plain": [
       "[1] \"mean: -0.0552331399266053\""
      ]
     },
     "metadata": {},
     "output_type": "display_data"
    },
    {
     "data": {
      "text/html": [
       "'sd: 0.304738927818326'"
      ],
      "text/latex": [
       "'sd: 0.304738927818326'"
      ],
      "text/markdown": [
       "'sd: 0.304738927818326'"
      ],
      "text/plain": [
       "[1] \"sd: 0.304738927818326\""
      ]
     },
     "metadata": {},
     "output_type": "display_data"
    }
   ],
   "source": [
    "testCapAveStd <- predict(preObj, testing[, -58])$capitalAve\n",
    "head(testCapAveStd)\n",
    "\n",
    "paste(\"mean:\", mean(testCapAveStd))\n",
    "paste(\"sd:\", sd(testCapAveStd))"
   ]
  },
  {
   "cell_type": "markdown",
   "metadata": {},
   "source": [
    "## Look at Standardize distribution"
   ]
  },
  {
   "cell_type": "code",
   "execution_count": 18,
   "metadata": {},
   "outputs": [
    {
     "data": {
      "image/png": "[encoded data removed]",
      "text/plain": [
       "Plot with title “”"
      ]
     },
     "metadata": {},
     "output_type": "display_data"
    }
   ],
   "source": [
    "hist(trainCapAveStd, main = \"\", xlab = \"Average capital run length\")"
   ]
  },
  {
   "cell_type": "markdown",
   "metadata": {},
   "source": [
    "<hr>"
   ]
  },
  {
   "cell_type": "markdown",
   "metadata": {},
   "source": [
    "# Standardizing - Box-Cox transforms\n",
    "- Transform continuous data into normal data\n",
    "- Not perfect normal distribution but close"
   ]
  },
  {
   "cell_type": "code",
   "execution_count": 21,
   "metadata": {},
   "outputs": [
    {
     "data": {
      "image/png": "[encoded data removed]",
      "text/plain": [
       "Plot with title “Normal Q-Q Plot”"
      ]
     },
     "metadata": {},
     "output_type": "display_data"
    }
   ],
   "source": [
    "preObj <- preProcess(training[, -58], method = c(\"BoxCox\"))\n",
    "trainCapAveStd <- predict(preObj, training[, -58])$capitalAve\n",
    "\n",
    "par(mfrow = c(1,2))\n",
    "hist(trainCapAveStd)\n",
    "qqnorm(trainCapAveStd)"
   ]
  }
 ],
 "metadata": {
  "kernelspec": {
   "display_name": "R",
   "language": "R",
   "name": "ir"
  },
  "language_info": {
   "codemirror_mode": "r",
   "file_extension": ".r",
   "mimetype": "text/x-r-source",
   "name": "R",
   "pygments_lexer": "r",
   "version": "3.4.1"
  }
 },
 "nbformat": 4,
 "nbformat_minor": 2
}
