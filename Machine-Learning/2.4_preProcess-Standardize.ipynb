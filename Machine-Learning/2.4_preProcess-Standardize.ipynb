{
 "cells": [
  {
   "cell_type": "markdown",
   "metadata": {},
   "source": [
    "# Pre-Processing\n",
    "- Adjust for skewed data: standardize\n",
    "- Impute Missing data\n",
    "- Can be passed into the train() function to standardize all Predictors"
   ]
  },
  {
   "cell_type": "code",
   "execution_count": 1,
   "metadata": {},
   "outputs": [
    {
     "name": "stderr",
     "output_type": "stream",
     "text": [
      "Loading required package: lattice\n",
      "Loading required package: ggplot2\n",
      "\n",
      "Attaching package: ‘kernlab’\n",
      "\n",
      "The following object is masked from ‘package:ggplot2’:\n",
      "\n",
      "    alpha\n",
      "\n"
     ]
    },
    {
     "data": {
      "image/png": "[encoded data removed]",
      "text/plain": [
       "Plot with title “”"
      ]
     },
     "metadata": {},
     "output_type": "display_data"
    }
   ],
   "source": [
    "library(caret)\n",
    "library(kernlab) #spam dataset\n",
    "data(spam)\n",
    "\n",
    "# Split based on type\n",
    "inTrain <- createDataPartition(y = spam$type, p = 0.75, list = FALSE)\n",
    "training <- spam[inTrain,]\n",
    "testing <- spam[-inTrain,]\n",
    "\n",
    "# Look at capitalAve Variable: skewed (too many small run lengths, with few large ones)\n",
    "hist(training$capitalAve, main = \"\", xlab = \"Average capital run length\")"
   ]
  },
  {
   "cell_type": "markdown",
   "metadata": {},
   "source": [
    "## Preprocess Manually\n",
    "- Small Mean and Large SD"
   ]
  },
  {
   "cell_type": "code",
   "execution_count": 6,
   "metadata": {},
   "outputs": [
    {
     "data": {
      "text/html": [
       "'mean: 5.24709852216749'"
      ],
      "text/latex": [
       "'mean: 5.24709852216749'"
      ],
      "text/markdown": [
       "'mean: 5.24709852216749'"
      ],
      "text/plain": [
       "[1] \"mean: 5.24709852216749\""
      ]
     },
     "metadata": {},
     "output_type": "display_data"
    },
    {
     "data": {
      "text/html": [
       "'sd: 33.7048255345828'"
      ],
      "text/latex": [
       "'sd: 33.7048255345828'"
      ],
      "text/markdown": [
       "'sd: 33.7048255345828'"
      ],
      "text/plain": [
       "[1] \"sd: 33.7048255345828\""
      ]
     },
     "metadata": {},
     "output_type": "display_data"
    }
   ],
   "source": [
    "paste(\"mean:\", mean(training$capitalAve))\n",
    "paste(\"sd:\", sd(training$capitalAve))"
   ]
  },
  {
   "cell_type": "code",
   "execution_count": 44,
   "metadata": {},
   "outputs": [
    {
     "data": {
      "text/html": [
       "'mean: 8.7359487942628e-18'"
      ],
      "text/latex": [
       "'mean: 8.7359487942628e-18'"
      ],
      "text/markdown": [
       "'mean: 8.7359487942628e-18'"
      ],
      "text/plain": [
       "[1] \"mean: 8.7359487942628e-18\""
      ]
     },
     "metadata": {},
     "output_type": "display_data"
    },
    {
     "data": {
      "text/html": [
       "'sd: 1'"
      ],
      "text/latex": [
       "'sd: 1'"
      ],
      "text/markdown": [
       "'sd: 1'"
      ],
      "text/plain": [
       "[1] \"sd: 1\""
      ]
     },
     "metadata": {},
     "output_type": "display_data"
    }
   ],
   "source": [
    "# Standardize Training set\n",
    "# Mean will be 0, Sd will be 1\n",
    "trainCapAveStd <- (training$capitalAve - mean(training$capitalAve)) / sd(training$capitalAve)\n",
    "paste(\"mean:\", mean(trainCapAveStd))\n",
    "paste(\"sd:\", sd(trainCapAveStd))"
   ]
  },
  {
   "cell_type": "markdown",
   "metadata": {},
   "source": [
    "## When Applying to the Test Dataset, apply parameters used for Training set\n",
    "- Mean won't be exactly 0, and SD won't be exactly 1"
   ]
  },
  {
   "cell_type": "code",
   "execution_count": 17,
   "metadata": {},
   "outputs": [
    {
     "data": {
      "text/html": [
       "'mean: -0.00659792765282769'"
      ],
      "text/latex": [
       "'mean: -0.00659792765282769'"
      ],
      "text/markdown": [
       "'mean: -0.00659792765282769'"
      ],
      "text/plain": [
       "[1] \"mean: -0.00659792765282769\""
      ]
     },
     "metadata": {},
     "output_type": "display_data"
    },
    {
     "data": {
      "text/html": [
       "'sd: 0.73845524454729'"
      ],
      "text/latex": [
       "'sd: 0.73845524454729'"
      ],
      "text/markdown": [
       "'sd: 0.73845524454729'"
      ],
      "text/plain": [
       "[1] \"sd: 0.73845524454729\""
      ]
     },
     "metadata": {},
     "output_type": "display_data"
    }
   ],
   "source": [
    "# Standardize Testing set\n",
    "testCapAveStd <- (testing$capitalAve - mean(training$capitalAve)) / sd(training$capitalAve)\n",
    "paste(\"mean:\", mean(testCapAveStd))\n",
    "paste(\"sd:\", sd(testCapAveStd))"
   ]
  },
  {
   "cell_type": "markdown",
   "metadata": {},
   "source": [
    "<hr>"
   ]
  },
  {
   "cell_type": "markdown",
   "metadata": {},
   "source": [
    "## Use preProcess() function to Standardize\n",
    "- Pass all Variable except for the last (type)\n",
    "- Create preProcess Object\n",
    "- Use that Object to predict\n",
    "- Use that Object to predict on Testing set as well"
   ]
  },
  {
   "cell_type": "code",
   "execution_count": 39,
   "metadata": {},
   "outputs": [
    {
     "data": {
      "text/plain": [
       "Created from 3451 samples and 57 variables\n",
       "\n",
       "Pre-processing:\n",
       "  - centered (57)\n",
       "  - ignored (0)\n",
       "  - scaled (57)\n"
      ]
     },
     "metadata": {},
     "output_type": "display_data"
    }
   ],
   "source": [
    "preObj <- preProcess(training[, -58], method = c(\"center\", \"scale\"))\n",
    "preObj"
   ]
  },
  {
   "cell_type": "code",
   "execution_count": 40,
   "metadata": {},
   "outputs": [
    {
     "data": {
      "text/html": [
       "<ol class=list-inline>\n",
       "\t<li>-0.0442399121941025</li>\n",
       "\t<li>-0.00394894559032568</li>\n",
       "\t<li>-0.0507374981191593</li>\n",
       "\t<li>-0.066669934839504</li>\n",
       "\t<li>-0.106100490521698</li>\n",
       "\t<li>0.133420108441697</li>\n",
       "</ol>\n"
      ],
      "text/latex": [
       "\\begin{enumerate*}\n",
       "\\item -0.0442399121941025\n",
       "\\item -0.00394894559032568\n",
       "\\item -0.0507374981191593\n",
       "\\item -0.066669934839504\n",
       "\\item -0.106100490521698\n",
       "\\item 0.133420108441697\n",
       "\\end{enumerate*}\n"
      ],
      "text/markdown": [
       "1. -0.0442399121941025\n",
       "2. -0.00394894559032568\n",
       "3. -0.0507374981191593\n",
       "4. -0.066669934839504\n",
       "5. -0.106100490521698\n",
       "6. 0.133420108441697\n",
       "\n",
       "\n"
      ],
      "text/plain": [
       "[1] -0.044239912 -0.003948946 -0.050737498 -0.066669935 -0.106100491\n",
       "[6]  0.133420108"
      ]
     },
     "metadata": {},
     "output_type": "display_data"
    }
   ],
   "source": [
    "trainCapAveStd <- predict(preObj, training[, -58])$capitalAve\n",
    "head(trainCapAveStd)"
   ]
  },
  {
   "cell_type": "code",
   "execution_count": 45,
   "metadata": {},
   "outputs": [
    {
     "data": {
      "text/html": [
       "'mean: 8.7359487942628e-18'"
      ],
      "text/latex": [
       "'mean: 8.7359487942628e-18'"
      ],
      "text/markdown": [
       "'mean: 8.7359487942628e-18'"
      ],
      "text/plain": [
       "[1] \"mean: 8.7359487942628e-18\""
      ]
     },
     "metadata": {},
     "output_type": "display_data"
    },
    {
     "data": {
      "text/html": [
       "'sd: 1'"
      ],
      "text/latex": [
       "'sd: 1'"
      ],
      "text/markdown": [
       "'sd: 1'"
      ],
      "text/plain": [
       "[1] \"sd: 1\""
      ]
     },
     "metadata": {},
     "output_type": "display_data"
    }
   ],
   "source": [
    "paste(\"mean:\", mean(trainCapAveStd))\n",
    "paste(\"sd:\", sd(trainCapAveStd))"
   ]
  },
  {
   "cell_type": "markdown",
   "metadata": {},
   "source": [
    "## Standardize the Testing Set"
   ]
  },
  {
   "cell_type": "code",
   "execution_count": 46,
   "metadata": {},
   "outputs": [
    {
     "data": {
      "text/html": [
       "<ol class=list-inline>\n",
       "\t<li>0.13570464778521</li>\n",
       "\t<li>-0.0507374981191593</li>\n",
       "\t<li>-0.0829880730074548</li>\n",
       "\t<li>0.0122208458670074</li>\n",
       "\t<li>-0.0176561816514044</li>\n",
       "\t<li>0.896426579832954</li>\n",
       "</ol>\n"
      ],
      "text/latex": [
       "\\begin{enumerate*}\n",
       "\\item 0.13570464778521\n",
       "\\item -0.0507374981191593\n",
       "\\item -0.0829880730074548\n",
       "\\item 0.0122208458670074\n",
       "\\item -0.0176561816514044\n",
       "\\item 0.896426579832954\n",
       "\\end{enumerate*}\n"
      ],
      "text/markdown": [
       "1. 0.13570464778521\n",
       "2. -0.0507374981191593\n",
       "3. -0.0829880730074548\n",
       "4. 0.0122208458670074\n",
       "5. -0.0176561816514044\n",
       "6. 0.896426579832954\n",
       "\n",
       "\n"
      ],
      "text/plain": [
       "[1]  0.13570465 -0.05073750 -0.08298807  0.01222085 -0.01765618  0.89642658"
      ]
     },
     "metadata": {},
     "output_type": "display_data"
    },
    {
     "data": {
      "text/html": [
       "'mean: -0.00659792765282769'"
      ],
      "text/latex": [
       "'mean: -0.00659792765282769'"
      ],
      "text/markdown": [
       "'mean: -0.00659792765282769'"
      ],
      "text/plain": [
       "[1] \"mean: -0.00659792765282769\""
      ]
     },
     "metadata": {},
     "output_type": "display_data"
    },
    {
     "data": {
      "text/html": [
       "'sd: 0.73845524454729'"
      ],
      "text/latex": [
       "'sd: 0.73845524454729'"
      ],
      "text/markdown": [
       "'sd: 0.73845524454729'"
      ],
      "text/plain": [
       "[1] \"sd: 0.73845524454729\""
      ]
     },
     "metadata": {},
     "output_type": "display_data"
    }
   ],
   "source": [
    "testCapAveStd <- predict(preObj, testing[, -58])$capitalAve\n",
    "head(testCapAveStd)\n",
    "\n",
    "paste(\"mean:\", mean(testCapAveStd))\n",
    "paste(\"sd:\", sd(testCapAveStd))"
   ]
  },
  {
   "cell_type": "markdown",
   "metadata": {},
   "source": [
    "## Look at Standardize distribution"
   ]
  },
  {
   "cell_type": "code",
   "execution_count": 47,
   "metadata": {},
   "outputs": [
    {
     "data": {
      "image/png": "[encoded data removed]",
      "text/plain": [
       "Plot with title “”"
      ]
     },
     "metadata": {},
     "output_type": "display_data"
    }
   ],
   "source": [
    "hist(trainCapAveStd, main = \"\", xlab = \"Average capital run length\")"
   ]
  },
  {
   "cell_type": "code",
   "execution_count": null,
   "metadata": {
    "collapsed": true
   },
   "outputs": [],
   "source": []
  }
 ],
 "metadata": {
  "kernelspec": {
   "display_name": "R",
   "language": "R",
   "name": "ir"
  },
  "language_info": {
   "codemirror_mode": "r",
   "file_extension": ".r",
   "mimetype": "text/x-r-source",
   "name": "R",
   "pygments_lexer": "r",
   "version": "3.4.1"
  }
 },
 "nbformat": 4,
 "nbformat_minor": 2
}
