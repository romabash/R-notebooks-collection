{
 "cells": [
  {
   "cell_type": "markdown",
   "metadata": {},
   "source": [
    "<h1><center>Types of Errors</center></h1>"
   ]
  },
  {
   "cell_type": "markdown",
   "metadata": {},
   "source": [
    "## Definition:\n",
    "- True Positive = correctly identified (predicted true when true)\n",
    "    - Sick people correctly diagnosed as sick\n",
    "- False Positive = incorrectly identified (predicted true when false)\n",
    "    - Healthy people incorrectly diagnosed as sick\n",
    "- True Negative = correctly rejected (predicted false when false)\n",
    "    - Healthy people correctly diagnosed as healthy\n",
    "- False Negative = incorrectly rejected (predicted false when true)\n",
    "    - Sick people incorrectly diagnosed as healthy"
   ]
  },
  {
   "cell_type": "code",
   "execution_count": null,
   "metadata": {
    "collapsed": true
   },
   "outputs": [],
   "source": []
  }
 ],
 "metadata": {
  "kernelspec": {
   "display_name": "R",
   "language": "R",
   "name": "ir"
  },
  "language_info": {
   "codemirror_mode": "r",
   "file_extension": ".r",
   "mimetype": "text/x-r-source",
   "name": "R",
   "pygments_lexer": "r",
   "version": "3.4.1"
  }
 },
 "nbformat": 4,
 "nbformat_minor": 2
}
