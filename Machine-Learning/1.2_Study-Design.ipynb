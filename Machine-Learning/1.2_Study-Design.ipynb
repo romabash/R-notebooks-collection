{
 "cells": [
  {
   "cell_type": "markdown",
   "metadata": {},
   "source": [
    "# Types of Errors"
   ]
  },
  {
   "cell_type": "markdown",
   "metadata": {},
   "source": [
    "## Definition:\n",
    "- True Positive = correctly identified (predicted true when true)\n",
    "    - Sick people correctly diagnosed as sick\n",
    "- False Positive = incorrectly identified (predicted true when false)\n",
    "    - Healthy people incorrectly diagnosed as sick\n",
    "- True Negative = correctly rejected (predicted false when false)\n",
    "    - Healthy people correctly diagnosed as healthy\n",
    "- False Negative = incorrectly rejected (predicted false when true)\n",
    "    - Sick people incorrectly diagnosed as healthy"
   ]
  },
  {
   "cell_type": "markdown",
   "metadata": {},
   "source": [
    "## Key Quantities\n",
    "\n",
    "|       |  (+)  |  (-)  |\n",
    "|-------|---------------|\n",
    "|  (+)  |  TP   |  FP   | \n",
    "|  (-)  |  FN   |  TN   | \n",
    "\n",
    "- Sensitivity: P(Positive Test | Disease)\n",
    "    - TP / (TP + FN)\n",
    "- Specificity: P(Negative Test | No Disease)\n",
    "    - TN / (FP + TN)\n",
    "- Positive Predictive Value: P(Disease | Positive Test)\n",
    "    - TP / (TP + FP)\n",
    "- Negative Predictive Value: P(No Disease | Negative Test)\n",
    "    - TN / (FN + TN)\n",
    "- Accuracy: P(Correct Outcome)\n",
    "    - (TP + TN) / (TP + FP + FN + TN)"
   ]
  },
  {
   "cell_type": "markdown",
   "metadata": {},
   "source": [
    "## Example\n",
    "- Disease has 0.1% prevalence in the population\n",
    "- Assume Sensitivity is 99% and Specificity is 99%\n",
    "- What is the Probability of a person having the disease given the test result is positive\n",
    "    - P(Disease | Positive Test)"
   ]
  },
  {
   "cell_type": "markdown",
   "metadata": {},
   "source": [
    "- Population Stats of 0.1% Disease: \n",
    "    - Diease(+) = 99, Disease(-) = 98901\n",
    "    - 99% Healthy : \n",
    "\n",
    "|       |  (+)  |  (-)     |\n",
    "|-------|------------------|\n",
    "|  (+)  |  99   |  999     | \n",
    "|  (-)  |  1    |  98901   | \n",
    "\n"
   ]
  }
 ],
 "metadata": {
  "kernelspec": {
   "display_name": "R",
   "language": "R",
   "name": "ir"
  },
  "language_info": {
   "codemirror_mode": "r",
   "file_extension": ".r",
   "mimetype": "text/x-r-source",
   "name": "R",
   "pygments_lexer": "r",
   "version": "3.4.1"
  }
 },
 "nbformat": 4,
 "nbformat_minor": 2
}
