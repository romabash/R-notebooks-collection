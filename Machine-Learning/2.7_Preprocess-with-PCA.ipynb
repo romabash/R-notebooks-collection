{
 "cells": [
  {
   "cell_type": "markdown",
   "metadata": {},
   "source": [
    "# Principal Components Analysis (PCA)\n",
    "- Dealing with highly Correlated Variables\n",
    "- Weighted combination of predictors might be better\n",
    "- Reducing number of predictors, reduces noise"
   ]
  },
  {
   "cell_type": "markdown",
   "metadata": {},
   "source": [
    "## Correlated Predictors\n",
    "- Using spam Dataset from kernlab package"
   ]
  },
  {
   "cell_type": "code",
   "execution_count": 1,
   "metadata": {},
   "outputs": [
    {
     "name": "stderr",
     "output_type": "stream",
     "text": [
      "Loading required package: lattice\n",
      "Loading required package: ggplot2\n",
      "\n",
      "Attaching package: ‘kernlab’\n",
      "\n",
      "The following object is masked from ‘package:ggplot2’:\n",
      "\n",
      "    alpha\n",
      "\n"
     ]
    }
   ],
   "source": [
    "# Load packages\n",
    "library(caret)\n",
    "library(kernlab)\n",
    "data(spam)"
   ]
  },
  {
   "cell_type": "code",
   "execution_count": 2,
   "metadata": {
    "collapsed": true
   },
   "outputs": [],
   "source": [
    "# Partition Data\n",
    "set.seed(32323)\n",
    "inTrain <- createDataPartition(y = spam$type, p = 0.75, list = FALSE)\n",
    "training <- spam[inTrain, ]\n",
    "testing <- spam[-inTrain, ]"
   ]
  },
  {
   "cell_type": "markdown",
   "metadata": {},
   "source": [
    "## Look at Correlation between Predictors\n",
    "- Leave out the spam Variable\n",
    "- Look at Correlation between all Variables\n",
    "- Select only the ones higher than 0.8\n",
    "- Remove Variable that have Correlation with themselves, assign 0 instead of 1"
   ]
  },
  {
   "cell_type": "code",
   "execution_count": 3,
   "metadata": {},
   "outputs": [
    {
     "data": {
      "text/html": [
       "<table>\n",
       "<thead><tr><th></th><th scope=col>row</th><th scope=col>col</th></tr></thead>\n",
       "<tbody>\n",
       "\t<tr><th scope=row>num415</th><td>34</td><td>32</td></tr>\n",
       "\t<tr><th scope=row>direct</th><td>40</td><td>32</td></tr>\n",
       "\t<tr><th scope=row>num857</th><td>32</td><td>34</td></tr>\n",
       "\t<tr><th scope=row>direct</th><td>40</td><td>34</td></tr>\n",
       "\t<tr><th scope=row>num857</th><td>32</td><td>40</td></tr>\n",
       "\t<tr><th scope=row>num415</th><td>34</td><td>40</td></tr>\n",
       "</tbody>\n",
       "</table>\n"
      ],
      "text/latex": [
       "\\begin{tabular}{r|ll}\n",
       "  & row & col\\\\\n",
       "\\hline\n",
       "\tnum415 & 34 & 32\\\\\n",
       "\tdirect & 40 & 32\\\\\n",
       "\tnum857 & 32 & 34\\\\\n",
       "\tdirect & 40 & 34\\\\\n",
       "\tnum857 & 32 & 40\\\\\n",
       "\tnum415 & 34 & 40\\\\\n",
       "\\end{tabular}\n"
      ],
      "text/markdown": [
       "\n",
       "| <!--/--> | row | col | \n",
       "|---|---|---|---|---|---|\n",
       "| num415 | 34 | 32 | \n",
       "| direct | 40 | 32 | \n",
       "| num857 | 32 | 34 | \n",
       "| direct | 40 | 34 | \n",
       "| num857 | 32 | 40 | \n",
       "| num415 | 34 | 40 | \n",
       "\n",
       "\n"
      ],
      "text/plain": [
       "       row col\n",
       "num415 34  32 \n",
       "direct 40  32 \n",
       "num857 32  34 \n",
       "direct 40  34 \n",
       "num857 32  40 \n",
       "num415 34  40 "
      ]
     },
     "metadata": {},
     "output_type": "display_data"
    }
   ],
   "source": [
    "m <- abs(cor(training[,-58]))\n",
    "diag(m) <- 0\n",
    "which(m > 0.8, arr.ind = T)"
   ]
  },
  {
   "cell_type": "code",
   "execution_count": 4,
   "metadata": {},
   "outputs": [
    {
     "data": {
      "text/html": [
       "<ol class=list-inline>\n",
       "\t<li>'num415'</li>\n",
       "\t<li>'num857'</li>\n",
       "</ol>\n"
      ],
      "text/latex": [
       "\\begin{enumerate*}\n",
       "\\item 'num415'\n",
       "\\item 'num857'\n",
       "\\end{enumerate*}\n"
      ],
      "text/markdown": [
       "1. 'num415'\n",
       "2. 'num857'\n",
       "\n",
       "\n"
      ],
      "text/plain": [
       "[1] \"num415\" \"num857\""
      ]
     },
     "metadata": {},
     "output_type": "display_data"
    }
   ],
   "source": [
    "names(spam)[c(34,32)]"
   ]
  },
  {
   "cell_type": "markdown",
   "metadata": {},
   "source": [
    "### Plot the 2 highly Correleated Variables"
   ]
  },
  {
   "cell_type": "code",
   "execution_count": 5,
   "metadata": {},
   "outputs": [
    {
     "data": {
      "image/png": "[encoded data removed]",
      "text/plain": [
       "plot without title"
      ]
     },
     "metadata": {},
     "output_type": "display_data"
    }
   ],
   "source": [
    "plot(spam[,34], spam[,32])"
   ]
  },
  {
   "cell_type": "markdown",
   "metadata": {},
   "source": [
    "## Principal Components in R\n",
    "- Using the prcomp() function\n",
    "- Using the spam datset"
   ]
  },
  {
   "cell_type": "code",
   "execution_count": 8,
   "metadata": {},
   "outputs": [
    {
     "data": {
      "image/png": "[encoded data removed]",
      "text/plain": [
       "plot without title"
      ]
     },
     "metadata": {},
     "output_type": "display_data"
    }
   ],
   "source": [
    "prComp <- prcomp(spam[, c(34,32)])\n",
    "plot(prComp$x[,1], prComp$x[,2])"
   ]
  },
  {
   "cell_type": "markdown",
   "metadata": {},
   "source": [
    "<hr>"
   ]
  }
 ],
 "metadata": {
  "kernelspec": {
   "display_name": "R",
   "language": "R",
   "name": "ir"
  },
  "language_info": {
   "codemirror_mode": "r",
   "file_extension": ".r",
   "mimetype": "text/x-r-source",
   "name": "R",
   "pygments_lexer": "r",
   "version": "3.4.1"
  }
 },
 "nbformat": 4,
 "nbformat_minor": 2
}
