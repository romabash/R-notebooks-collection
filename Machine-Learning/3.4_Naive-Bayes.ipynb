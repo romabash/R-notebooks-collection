{
 "cells": [
  {
   "cell_type": "markdown",
   "metadata": {},
   "source": [
    "# Model Based Prediction - Naive Bayes\n",
    "- Assume data follows a probabilistic model\n",
    "- Use Baye's theorem to identify optimal classifiers\n",
    "- Reasonably accurate and computationally convenient, but makes assumptions about the data"
   ]
  },
  {
   "cell_type": "markdown",
   "metadata": {},
   "source": [
    "## Classifying Using the Model\n",
    "- Linear Discriminant Analysis (lda): assumes Gaussian with same covariances (Decision Boundaries)\n",
    "- Naive Bayes: assumes independence between features for model building"
   ]
  },
  {
   "cell_type": "markdown",
   "metadata": {},
   "source": [
    "## Naive Bayes\n",
    "- Primarily used for text classification (spam, classifying news articles...)\n",
    "- Example of drawing a Queen if the card is a face card\n",
    "    - P(Queen | Face) = ( P(Face | Queen) * P(Queen) ) / P(Face)\n",
    "        - P(Face | Queen) = 1\n",
    "        - P(Queen) = 1/13\n",
    "        - P(Face) = 3/13\n",
    "    - P(Queen | Face) = (1 x 1/13) / 3/13 = 1/13 x 13/3 = 1/3"
   ]
  },
  {
   "cell_type": "markdown",
   "metadata": {},
   "source": [
    "## Example:\n",
    "- Using Iris dataset\n",
    "- Linear Discriminant Analysis and Naive Bayes"
   ]
  },
  {
   "cell_type": "code",
   "execution_count": 1,
   "metadata": {},
   "outputs": [
    {
     "name": "stderr",
     "output_type": "stream",
     "text": [
      "Loading required package: lattice\n"
     ]
    }
   ],
   "source": [
    "library(ggplot2)\n",
    "library(caret)\n",
    "\n",
    "# Using iris dataset\n",
    "set.seed(021818)\n",
    "inTrain <- createDataPartition(y = iris$Species, p = 0.7, list = FALSE)\n",
    "training <- iris[inTrain,]\n",
    "testing <- iris[-inTrain,]"
   ]
  },
  {
   "cell_type": "code",
   "execution_count": 2,
   "metadata": {},
   "outputs": [
    {
     "name": "stderr",
     "output_type": "stream",
     "text": [
      "Loading required package: MASS\n"
     ]
    },
    {
     "data": {
      "text/plain": [
       "Confusion Matrix and Statistics\n",
       "\n",
       "            Reference\n",
       "Prediction   setosa versicolor virginica\n",
       "  setosa         15          0         0\n",
       "  versicolor      0         14         0\n",
       "  virginica       0          1        15\n",
       "\n",
       "Overall Statistics\n",
       "                                          \n",
       "               Accuracy : 0.9778          \n",
       "                 95% CI : (0.8823, 0.9994)\n",
       "    No Information Rate : 0.3333          \n",
       "    P-Value [Acc > NIR] : < 2.2e-16       \n",
       "                                          \n",
       "                  Kappa : 0.9667          \n",
       " Mcnemar's Test P-Value : NA              \n",
       "\n",
       "Statistics by Class:\n",
       "\n",
       "                     Class: setosa Class: versicolor Class: virginica\n",
       "Sensitivity                 1.0000            0.9333           1.0000\n",
       "Specificity                 1.0000            1.0000           0.9667\n",
       "Pos Pred Value              1.0000            1.0000           0.9375\n",
       "Neg Pred Value              1.0000            0.9677           1.0000\n",
       "Prevalence                  0.3333            0.3333           0.3333\n",
       "Detection Rate              0.3333            0.3111           0.3333\n",
       "Detection Prevalence        0.3333            0.3111           0.3556\n",
       "Balanced Accuracy           1.0000            0.9667           0.9833"
      ]
     },
     "metadata": {},
     "output_type": "display_data"
    }
   ],
   "source": [
    "# Build the LDA Model\n",
    "\n",
    "model_lda <- train(Species ~ ., data = training, method = \"lda\")\n",
    "pred <- predict(model_lda, newdata = testing)\n",
    "confusionMatrix(pred, testing$Species)"
   ]
  },
  {
   "cell_type": "markdown",
   "metadata": {},
   "source": [
    "## Comapre to Naive Bayes"
   ]
  },
  {
   "cell_type": "code",
   "execution_count": 3,
   "metadata": {},
   "outputs": [
    {
     "name": "stderr",
     "output_type": "stream",
     "text": [
      "Loading required package: klaR\n",
      "Warning message in FUN(X[[i]], ...):\n",
      "“Numerical 0 probability for all classes with observation 17”"
     ]
    },
    {
     "data": {
      "text/plain": [
       "Confusion Matrix and Statistics\n",
       "\n",
       "            Reference\n",
       "Prediction   setosa versicolor virginica\n",
       "  setosa         15          0         0\n",
       "  versicolor      0         13         0\n",
       "  virginica       0          2        15\n",
       "\n",
       "Overall Statistics\n",
       "                                          \n",
       "               Accuracy : 0.9556          \n",
       "                 95% CI : (0.8485, 0.9946)\n",
       "    No Information Rate : 0.3333          \n",
       "    P-Value [Acc > NIR] : < 2.2e-16       \n",
       "                                          \n",
       "                  Kappa : 0.9333          \n",
       " Mcnemar's Test P-Value : NA              \n",
       "\n",
       "Statistics by Class:\n",
       "\n",
       "                     Class: setosa Class: versicolor Class: virginica\n",
       "Sensitivity                 1.0000            0.8667           1.0000\n",
       "Specificity                 1.0000            1.0000           0.9333\n",
       "Pos Pred Value              1.0000            1.0000           0.8824\n",
       "Neg Pred Value              1.0000            0.9375           1.0000\n",
       "Prevalence                  0.3333            0.3333           0.3333\n",
       "Detection Rate              0.3333            0.2889           0.3333\n",
       "Detection Prevalence        0.3333            0.2889           0.3778\n",
       "Balanced Accuracy           1.0000            0.9333           0.9667"
      ]
     },
     "metadata": {},
     "output_type": "display_data"
    }
   ],
   "source": [
    "# Build the Naive Bayes Model\n",
    "\n",
    "model_nb <- train(Species ~ ., data = training, method = \"nb\")\n",
    "pred <- predict(model_nb, newdata = testing)\n",
    "confusionMatrix(pred, testing$Species)"
   ]
  }
 ],
 "metadata": {
  "kernelspec": {
   "display_name": "R",
   "language": "R",
   "name": "ir"
  },
  "language_info": {
   "codemirror_mode": "r",
   "file_extension": ".r",
   "mimetype": "text/x-r-source",
   "name": "R",
   "pygments_lexer": "r",
   "version": "3.4.1"
  }
 },
 "nbformat": 4,
 "nbformat_minor": 2
}
