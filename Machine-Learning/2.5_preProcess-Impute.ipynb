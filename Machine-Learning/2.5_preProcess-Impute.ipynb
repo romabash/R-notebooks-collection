{
 "cells": [
  {
   "cell_type": "markdown",
   "metadata": {},
   "source": [
    "# Pre-Processing\n",
    "- Adjust for skewed data: standardize\n",
    "- Impute Missing data\n",
    "- Can be passed into the train() function to standardize all Predictors"
   ]
  },
  {
   "cell_type": "code",
   "execution_count": 1,
   "metadata": {},
   "outputs": [
    {
     "name": "stderr",
     "output_type": "stream",
     "text": [
      "Loading required package: lattice\n",
      "Loading required package: ggplot2\n",
      "\n",
      "Attaching package: ‘kernlab’\n",
      "\n",
      "The following object is masked from ‘package:ggplot2’:\n",
      "\n",
      "    alpha\n",
      "\n"
     ]
    }
   ],
   "source": [
    "library(caret)\n",
    "library(kernlab) #spam dataset\n",
    "data(spam)"
   ]
  },
  {
   "cell_type": "code",
   "execution_count": 2,
   "metadata": {
    "collapsed": true
   },
   "outputs": [],
   "source": [
    "# Split based on type\n",
    "set.seed(32323)\n",
    "inTrain <- createDataPartition(y = spam$type, p = 0.75, list = FALSE)\n",
    "training <- spam[inTrain,]\n",
    "testing <- spam[-inTrain,]"
   ]
  },
  {
   "cell_type": "markdown",
   "metadata": {},
   "source": [
    "<hr>"
   ]
  },
  {
   "cell_type": "markdown",
   "metadata": {},
   "source": [
    "# Imputing Data\n",
    "- Build a Model to preprocess\n",
    "- Predict using that model\n",
    "- Assign Standardized Variable to a new Variable"
   ]
  },
  {
   "cell_type": "code",
   "execution_count": 6,
   "metadata": {},
   "outputs": [
    {
     "data": {
      "text/html": [
       "<ol class=list-inline>\n",
       "\t<li>3.756</li>\n",
       "\t<li>5.114</li>\n",
       "\t<li>3.537</li>\n",
       "\t<li>3.537</li>\n",
       "\t<li>3</li>\n",
       "\t<li>2.45</li>\n",
       "\t<li>1.729</li>\n",
       "\t<li>1.243</li>\n",
       "\t<li>3.728</li>\n",
       "\t<li>2.083</li>\n",
       "</ol>\n"
      ],
      "text/latex": [
       "\\begin{enumerate*}\n",
       "\\item 3.756\n",
       "\\item 5.114\n",
       "\\item 3.537\n",
       "\\item 3.537\n",
       "\\item 3\n",
       "\\item 2.45\n",
       "\\item 1.729\n",
       "\\item 1.243\n",
       "\\item 3.728\n",
       "\\item 2.083\n",
       "\\end{enumerate*}\n"
      ],
      "text/markdown": [
       "1. 3.756\n",
       "2. 5.114\n",
       "3. 3.537\n",
       "4. 3.537\n",
       "5. 3\n",
       "6. 2.45\n",
       "7. 1.729\n",
       "8. 1.243\n",
       "9. 3.728\n",
       "10. 2.083\n",
       "\n",
       "\n"
      ],
      "text/plain": [
       " [1] 3.756 5.114 3.537 3.537 3.000 2.450 1.729 1.243 3.728 2.083"
      ]
     },
     "metadata": {},
     "output_type": "display_data"
    }
   ],
   "source": [
    "set.seed(13343)\n",
    "\n",
    "# Make some values NA\n",
    "training$capAve <- training$capitalAve\n",
    "selectNA <- rbinom(dim(training)[1], size = 1, prob = 0.05) == 1\n",
    "training$capAve[selectNA] <- NA"
   ]
  },
  {
   "cell_type": "code",
   "execution_count": 9,
   "metadata": {},
   "outputs": [
    {
     "data": {
      "text/plain": [
       "Created from 3270 samples and 58 variables\n",
       "\n",
       "Pre-processing:\n",
       "  - centered (58)\n",
       "  - ignored (0)\n",
       "  - 5 nearest neighbor imputation (58)\n",
       "  - scaled (58)\n"
      ]
     },
     "metadata": {},
     "output_type": "display_data"
    }
   ],
   "source": [
    "# Impute and Standardize\n",
    "preObj <- preProcess(training[, -58], method = c(\"knnImpute\"))\n",
    "preObj"
   ]
  },
  {
   "cell_type": "code",
   "execution_count": 10,
   "metadata": {},
   "outputs": [
    {
     "data": {
      "text/html": [
       "<ol class=list-inline>\n",
       "\t<li>-0.0526874427456759</li>\n",
       "\t<li>-0.0156455884947277</li>\n",
       "\t<li>-0.0586610554709761</li>\n",
       "\t<li>-0.0586610554709761</li>\n",
       "\t<li>-0.0733086811946573</li>\n",
       "\t<li>-0.0883109049339957</li>\n",
       "</ol>\n"
      ],
      "text/latex": [
       "\\begin{enumerate*}\n",
       "\\item -0.0526874427456759\n",
       "\\item -0.0156455884947277\n",
       "\\item -0.0586610554709761\n",
       "\\item -0.0586610554709761\n",
       "\\item -0.0733086811946573\n",
       "\\item -0.0883109049339957\n",
       "\\end{enumerate*}\n"
      ],
      "text/markdown": [
       "1. -0.0526874427456759\n",
       "2. -0.0156455884947277\n",
       "3. -0.0586610554709761\n",
       "4. -0.0586610554709761\n",
       "5. -0.0733086811946573\n",
       "6. -0.0883109049339957\n",
       "\n",
       "\n"
      ],
      "text/plain": [
       "[1] -0.05268744 -0.01564559 -0.05866106 -0.05866106 -0.07330868 -0.08831090"
      ]
     },
     "metadata": {},
     "output_type": "display_data"
    }
   ],
   "source": [
    "capAve <- predict(preObj, training[, -58])$capAve\n",
    "head(capAve)"
   ]
  },
  {
   "cell_type": "code",
   "execution_count": 30,
   "metadata": {},
   "outputs": [
    {
     "data": {
      "text/html": [
       "<table>\n",
       "<thead><tr><th></th><th scope=col>make</th><th scope=col>address</th><th scope=col>all</th><th scope=col>num3d</th><th scope=col>our</th><th scope=col>over</th><th scope=col>remove</th><th scope=col>internet</th><th scope=col>order</th><th scope=col>mail</th><th scope=col>⋯</th><th scope=col>charRoundbracket</th><th scope=col>charSquarebracket</th><th scope=col>charExclamation</th><th scope=col>charDollar</th><th scope=col>charHash</th><th scope=col>capitalAve</th><th scope=col>capitalLong</th><th scope=col>capitalTotal</th><th scope=col>type</th><th scope=col>capAve</th></tr></thead>\n",
       "<tbody>\n",
       "\t<tr><th scope=row>1</th><td>0.00 </td><td>0.64 </td><td>0.64 </td><td>0    </td><td>0.32 </td><td>0.00 </td><td>0.00 </td><td>0.00 </td><td>0.00 </td><td>0.00 </td><td>⋯    </td><td>0.000</td><td>0    </td><td>0.778</td><td>0.00 </td><td>0.000</td><td>3.756</td><td> 61  </td><td> 278 </td><td>spam </td><td>3.756</td></tr>\n",
       "\t<tr><th scope=row>2</th><td>0.21 </td><td>0.28 </td><td>0.50 </td><td>0    </td><td>0.14 </td><td>0.28 </td><td>0.21 </td><td>0.07 </td><td>0.00 </td><td>0.94 </td><td>⋯    </td><td>0.132</td><td>0    </td><td>0.372</td><td>0.18 </td><td>0.048</td><td>5.114</td><td>101  </td><td>1028 </td><td>spam </td><td>5.114</td></tr>\n",
       "\t<tr><th scope=row>4</th><td>0.00 </td><td>0.00 </td><td>0.00 </td><td>0    </td><td>0.63 </td><td>0.00 </td><td>0.31 </td><td>0.63 </td><td>0.31 </td><td>0.63 </td><td>⋯    </td><td>0.137</td><td>0    </td><td>0.137</td><td>0.00 </td><td>0.000</td><td>3.537</td><td> 40  </td><td> 191 </td><td>spam </td><td>3.537</td></tr>\n",
       "\t<tr><th scope=row>5</th><td>0.00 </td><td>0.00 </td><td>0.00 </td><td>0    </td><td>0.63 </td><td>0.00 </td><td>0.31 </td><td>0.63 </td><td>0.31 </td><td>0.63 </td><td>⋯    </td><td>0.135</td><td>0    </td><td>0.135</td><td>0.00 </td><td>0.000</td><td>3.537</td><td> 40  </td><td> 191 </td><td>spam </td><td>3.537</td></tr>\n",
       "\t<tr><th scope=row>6</th><td>0.00 </td><td>0.00 </td><td>0.00 </td><td>0    </td><td>1.85 </td><td>0.00 </td><td>0.00 </td><td>1.85 </td><td>0.00 </td><td>0.00 </td><td>⋯    </td><td>0.223</td><td>0    </td><td>0.000</td><td>0.00 </td><td>0.000</td><td>3.000</td><td> 15  </td><td>  54 </td><td>spam </td><td>3.000</td></tr>\n",
       "\t<tr><th scope=row>8</th><td>0.00 </td><td>0.00 </td><td>0.00 </td><td>0    </td><td>1.88 </td><td>0.00 </td><td>0.00 </td><td>1.88 </td><td>0.00 </td><td>0.00 </td><td>⋯    </td><td>0.206</td><td>0    </td><td>0.000</td><td>0.00 </td><td>0.000</td><td>2.450</td><td> 11  </td><td>  49 </td><td>spam </td><td>2.450</td></tr>\n",
       "</tbody>\n",
       "</table>\n"
      ],
      "text/latex": [
       "\\begin{tabular}{r|lllllllllllllllllllllllllllllllllllllllllllllllllllllllllll}\n",
       "  & make & address & all & num3d & our & over & remove & internet & order & mail & ⋯ & charRoundbracket & charSquarebracket & charExclamation & charDollar & charHash & capitalAve & capitalLong & capitalTotal & type & capAve\\\\\n",
       "\\hline\n",
       "\t1 & 0.00  & 0.64  & 0.64  & 0     & 0.32  & 0.00  & 0.00  & 0.00  & 0.00  & 0.00  & ⋯     & 0.000 & 0     & 0.778 & 0.00  & 0.000 & 3.756 &  61   &  278  & spam  & 3.756\\\\\n",
       "\t2 & 0.21  & 0.28  & 0.50  & 0     & 0.14  & 0.28  & 0.21  & 0.07  & 0.00  & 0.94  & ⋯     & 0.132 & 0     & 0.372 & 0.18  & 0.048 & 5.114 & 101   & 1028  & spam  & 5.114\\\\\n",
       "\t4 & 0.00  & 0.00  & 0.00  & 0     & 0.63  & 0.00  & 0.31  & 0.63  & 0.31  & 0.63  & ⋯     & 0.137 & 0     & 0.137 & 0.00  & 0.000 & 3.537 &  40   &  191  & spam  & 3.537\\\\\n",
       "\t5 & 0.00  & 0.00  & 0.00  & 0     & 0.63  & 0.00  & 0.31  & 0.63  & 0.31  & 0.63  & ⋯     & 0.135 & 0     & 0.135 & 0.00  & 0.000 & 3.537 &  40   &  191  & spam  & 3.537\\\\\n",
       "\t6 & 0.00  & 0.00  & 0.00  & 0     & 1.85  & 0.00  & 0.00  & 1.85  & 0.00  & 0.00  & ⋯     & 0.223 & 0     & 0.000 & 0.00  & 0.000 & 3.000 &  15   &   54  & spam  & 3.000\\\\\n",
       "\t8 & 0.00  & 0.00  & 0.00  & 0     & 1.88  & 0.00  & 0.00  & 1.88  & 0.00  & 0.00  & ⋯     & 0.206 & 0     & 0.000 & 0.00  & 0.000 & 2.450 &  11   &   49  & spam  & 2.450\\\\\n",
       "\\end{tabular}\n"
      ],
      "text/markdown": [
       "\n",
       "| <!--/--> | make | address | all | num3d | our | over | remove | internet | order | mail | ⋯ | charRoundbracket | charSquarebracket | charExclamation | charDollar | charHash | capitalAve | capitalLong | capitalTotal | type | capAve | \n",
       "|---|---|---|---|---|---|\n",
       "| 1 | 0.00  | 0.64  | 0.64  | 0     | 0.32  | 0.00  | 0.00  | 0.00  | 0.00  | 0.00  | ⋯     | 0.000 | 0     | 0.778 | 0.00  | 0.000 | 3.756 |  61   |  278  | spam  | 3.756 | \n",
       "| 2 | 0.21  | 0.28  | 0.50  | 0     | 0.14  | 0.28  | 0.21  | 0.07  | 0.00  | 0.94  | ⋯     | 0.132 | 0     | 0.372 | 0.18  | 0.048 | 5.114 | 101   | 1028  | spam  | 5.114 | \n",
       "| 4 | 0.00  | 0.00  | 0.00  | 0     | 0.63  | 0.00  | 0.31  | 0.63  | 0.31  | 0.63  | ⋯     | 0.137 | 0     | 0.137 | 0.00  | 0.000 | 3.537 |  40   |  191  | spam  | 3.537 | \n",
       "| 5 | 0.00  | 0.00  | 0.00  | 0     | 0.63  | 0.00  | 0.31  | 0.63  | 0.31  | 0.63  | ⋯     | 0.135 | 0     | 0.135 | 0.00  | 0.000 | 3.537 |  40   |  191  | spam  | 3.537 | \n",
       "| 6 | 0.00  | 0.00  | 0.00  | 0     | 1.85  | 0.00  | 0.00  | 1.85  | 0.00  | 0.00  | ⋯     | 0.223 | 0     | 0.000 | 0.00  | 0.000 | 3.000 |  15   |   54  | spam  | 3.000 | \n",
       "| 8 | 0.00  | 0.00  | 0.00  | 0     | 1.88  | 0.00  | 0.00  | 1.88  | 0.00  | 0.00  | ⋯     | 0.206 | 0     | 0.000 | 0.00  | 0.000 | 2.450 |  11   |   49  | spam  | 2.450 | \n",
       "\n",
       "\n"
      ],
      "text/plain": [
       "  make address all  num3d our  over remove internet order mail ⋯\n",
       "1 0.00 0.64    0.64 0     0.32 0.00 0.00   0.00     0.00  0.00 ⋯\n",
       "2 0.21 0.28    0.50 0     0.14 0.28 0.21   0.07     0.00  0.94 ⋯\n",
       "4 0.00 0.00    0.00 0     0.63 0.00 0.31   0.63     0.31  0.63 ⋯\n",
       "5 0.00 0.00    0.00 0     0.63 0.00 0.31   0.63     0.31  0.63 ⋯\n",
       "6 0.00 0.00    0.00 0     1.85 0.00 0.00   1.85     0.00  0.00 ⋯\n",
       "8 0.00 0.00    0.00 0     1.88 0.00 0.00   1.88     0.00  0.00 ⋯\n",
       "  charRoundbracket charSquarebracket charExclamation charDollar charHash\n",
       "1 0.000            0                 0.778           0.00       0.000   \n",
       "2 0.132            0                 0.372           0.18       0.048   \n",
       "4 0.137            0                 0.137           0.00       0.000   \n",
       "5 0.135            0                 0.135           0.00       0.000   \n",
       "6 0.223            0                 0.000           0.00       0.000   \n",
       "8 0.206            0                 0.000           0.00       0.000   \n",
       "  capitalAve capitalLong capitalTotal type capAve\n",
       "1 3.756       61          278         spam 3.756 \n",
       "2 5.114      101         1028         spam 5.114 \n",
       "4 3.537       40          191         spam 3.537 \n",
       "5 3.537       40          191         spam 3.537 \n",
       "6 3.000       15           54         spam 3.000 \n",
       "8 2.450       11           49         spam 2.450 "
      ]
     },
     "metadata": {},
     "output_type": "display_data"
    }
   ],
   "source": [
    "# Training set stays unchanged\n",
    "head(training)"
   ]
  },
  {
   "cell_type": "code",
   "execution_count": 16,
   "metadata": {},
   "outputs": [
    {
     "data": {
      "text/html": [
       "<ol class=list-inline>\n",
       "\t<li>3.756</li>\n",
       "\t<li>5.114</li>\n",
       "\t<li>3.537</li>\n",
       "\t<li>3.537</li>\n",
       "\t<li>3</li>\n",
       "\t<li>2.45</li>\n",
       "</ol>\n"
      ],
      "text/latex": [
       "\\begin{enumerate*}\n",
       "\\item 3.756\n",
       "\\item 5.114\n",
       "\\item 3.537\n",
       "\\item 3.537\n",
       "\\item 3\n",
       "\\item 2.45\n",
       "\\end{enumerate*}\n"
      ],
      "text/markdown": [
       "1. 3.756\n",
       "2. 5.114\n",
       "3. 3.537\n",
       "4. 3.537\n",
       "5. 3\n",
       "6. 2.45\n",
       "\n",
       "\n"
      ],
      "text/plain": [
       "[1] 3.756 5.114 3.537 3.537 3.000 2.450"
      ]
     },
     "metadata": {},
     "output_type": "display_data"
    }
   ],
   "source": [
    "# Standardize true values (Variable without NAs)\n",
    "capAveTruth <- training$capitalAve\n",
    "head(capAveTruth)"
   ]
  },
  {
   "cell_type": "code",
   "execution_count": 17,
   "metadata": {},
   "outputs": [
    {
     "data": {
      "text/html": [
       "<ol class=list-inline>\n",
       "\t<li>-0.053602318216467</li>\n",
       "\t<li>-0.0159542485521265</li>\n",
       "\t<li>-0.0596736932212465</li>\n",
       "\t<li>-0.0596736932212465</li>\n",
       "\t<li>-0.0745610374110483</li>\n",
       "\t<li>-0.0898087828568415</li>\n",
       "</ol>\n"
      ],
      "text/latex": [
       "\\begin{enumerate*}\n",
       "\\item -0.053602318216467\n",
       "\\item -0.0159542485521265\n",
       "\\item -0.0596736932212465\n",
       "\\item -0.0596736932212465\n",
       "\\item -0.0745610374110483\n",
       "\\item -0.0898087828568415\n",
       "\\end{enumerate*}\n"
      ],
      "text/markdown": [
       "1. -0.053602318216467\n",
       "2. -0.0159542485521265\n",
       "3. -0.0596736932212465\n",
       "4. -0.0596736932212465\n",
       "5. -0.0745610374110483\n",
       "6. -0.0898087828568415\n",
       "\n",
       "\n"
      ],
      "text/plain": [
       "[1] -0.05360232 -0.01595425 -0.05967369 -0.05967369 -0.07456104 -0.08980878"
      ]
     },
     "metadata": {},
     "output_type": "display_data"
    }
   ],
   "source": [
    "# Standardize manually\n",
    "capAveTruth <- (capAveTruth - mean(capAveTruth)) / sd(capAveTruth)\n",
    "head(capAveTruth)"
   ]
  },
  {
   "cell_type": "markdown",
   "metadata": {},
   "source": [
    "### Look at difference between Imputed and Real Values"
   ]
  },
  {
   "cell_type": "code",
   "execution_count": 33,
   "metadata": {},
   "outputs": [
    {
     "data": {
      "text/html": [
       "<dl class=dl-horizontal>\n",
       "\t<dt>0%</dt>\n",
       "\t\t<dd>-0.915972051087816</dd>\n",
       "\t<dt>25%</dt>\n",
       "\t\t<dd>0.000900144168403803</dd>\n",
       "\t<dt>50%</dt>\n",
       "\t\t<dd>0.00158269451234844</dd>\n",
       "\t<dt>75%</dt>\n",
       "\t\t<dd>0.0019018727307398</dd>\n",
       "\t<dt>100%</dt>\n",
       "\t\t<dd>1.48159048908612</dd>\n",
       "</dl>\n"
      ],
      "text/latex": [
       "\\begin{description*}\n",
       "\\item[0\\textbackslash{}\\%] -0.915972051087816\n",
       "\\item[25\\textbackslash{}\\%] 0.000900144168403803\n",
       "\\item[50\\textbackslash{}\\%] 0.00158269451234844\n",
       "\\item[75\\textbackslash{}\\%] 0.0019018727307398\n",
       "\\item[100\\textbackslash{}\\%] 1.48159048908612\n",
       "\\end{description*}\n"
      ],
      "text/markdown": [
       "0%\n",
       ":   -0.91597205108781625%\n",
       ":   0.00090014416840380350%\n",
       ":   0.0015826945123484475%\n",
       ":   0.0019018727307398100%\n",
       ":   1.48159048908612\n",
       "\n"
      ],
      "text/plain": [
       "           0%           25%           50%           75%          100% \n",
       "-0.9159720511  0.0009001442  0.0015826945  0.0019018727  1.4815904891 "
      ]
     },
     "metadata": {},
     "output_type": "display_data"
    }
   ],
   "source": [
    "quantile(capAve - capAveTruth)"
   ]
  }
 ],
 "metadata": {
  "kernelspec": {
   "display_name": "R",
   "language": "R",
   "name": "ir"
  },
  "language_info": {
   "codemirror_mode": "r",
   "file_extension": ".r",
   "mimetype": "text/x-r-source",
   "name": "R",
   "pygments_lexer": "r",
   "version": "3.4.1"
  }
 },
 "nbformat": 4,
 "nbformat_minor": 2
}
