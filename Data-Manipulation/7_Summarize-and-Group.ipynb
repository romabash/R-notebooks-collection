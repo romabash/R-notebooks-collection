{
 "cells": [
  {
   "cell_type": "markdown",
   "metadata": {},
   "source": [
    "# Summarizing Data"
   ]
  },
  {
   "cell_type": "markdown",
   "metadata": {},
   "source": [
    "### Load required Tidyverse packages"
   ]
  },
  {
   "cell_type": "code",
   "execution_count": 1,
   "metadata": {},
   "outputs": [
    {
     "name": "stderr",
     "output_type": "stream",
     "text": [
      "\n",
      "Attaching package: ‘dplyr’\n",
      "\n",
      "The following objects are masked from ‘package:stats’:\n",
      "\n",
      "    filter, lag\n",
      "\n",
      "The following objects are masked from ‘package:base’:\n",
      "\n",
      "    intersect, setdiff, setequal, union\n",
      "\n"
     ]
    }
   ],
   "source": [
    "library(readr)\n",
    "library(dplyr)\n",
    "library(ggplot2)"
   ]
  },
  {
   "cell_type": "markdown",
   "metadata": {},
   "source": [
    "### Read in Hurricane Data that was saved as a csv file from a flat file online"
   ]
  },
  {
   "cell_type": "code",
   "execution_count": 2,
   "metadata": {},
   "outputs": [
    {
     "name": "stderr",
     "output_type": "stream",
     "text": [
      "Parsed with column specification:\n",
      "cols(\n",
      "  .default = col_integer(),\n",
      "  storm_id = col_character(),\n",
      "  storm_name = col_character(),\n",
      "  month = col_character(),\n",
      "  day = col_character(),\n",
      "  hour = col_character(),\n",
      "  latitude = col_double(),\n",
      "  longitude = col_double(),\n",
      "  storm_type = col_character(),\n",
      "  final = col_character()\n",
      ")\n",
      "See spec(...) for full column specifications.\n"
     ]
    },
    {
     "data": {
      "text/html": [
       "<table>\n",
       "<thead><tr><th scope=col>storm_id</th><th scope=col>storm_name</th><th scope=col>month</th><th scope=col>day</th><th scope=col>hour</th><th scope=col>year</th><th scope=col>latitude</th><th scope=col>longitude</th><th scope=col>max_wind</th><th scope=col>min_pressure</th><th scope=col>⋯</th><th scope=col>radius_50_se</th><th scope=col>radius_50_sw</th><th scope=col>radius_50_nw</th><th scope=col>radius_64_ne</th><th scope=col>radius_64_se</th><th scope=col>radius_64_sw</th><th scope=col>radius_64_nw</th><th scope=col>storm_type</th><th scope=col>distance_to_land</th><th scope=col>final</th></tr></thead>\n",
       "<tbody>\n",
       "\t<tr><td>AL0188 </td><td>ALBERTO</td><td>08     </td><td>05     </td><td>18     </td><td>1988   </td><td>32.0   </td><td>77.5   </td><td>20     </td><td>1015   </td><td>⋯      </td><td>0      </td><td>0      </td><td>0      </td><td>0      </td><td>0      </td><td>0      </td><td>0      </td><td>*      </td><td>218    </td><td>.      </td></tr>\n",
       "\t<tr><td>AL0188 </td><td>ALBERTO</td><td>08     </td><td>06     </td><td>00     </td><td>1988   </td><td>32.8   </td><td>76.2   </td><td>20     </td><td>1014   </td><td>⋯      </td><td>0      </td><td>0      </td><td>0      </td><td>0      </td><td>0      </td><td>0      </td><td>0      </td><td>*      </td><td>213    </td><td>.      </td></tr>\n",
       "\t<tr><td>AL0188 </td><td>ALBERTO</td><td>08     </td><td>06     </td><td>06     </td><td>1988   </td><td>34.0   </td><td>75.2   </td><td>20     </td><td>1013   </td><td>⋯      </td><td>0      </td><td>0      </td><td>0      </td><td>0      </td><td>0      </td><td>0      </td><td>0      </td><td>*      </td><td>149    </td><td>.      </td></tr>\n",
       "\t<tr><td>AL0188 </td><td>ALBERTO</td><td>08     </td><td>06     </td><td>12     </td><td>1988   </td><td>35.2   </td><td>74.6   </td><td>25     </td><td>1012   </td><td>⋯      </td><td>0      </td><td>0      </td><td>0      </td><td>0      </td><td>0      </td><td>0      </td><td>0      </td><td>*      </td><td>126    </td><td>.      </td></tr>\n",
       "\t<tr><td>AL0188 </td><td>ALBERTO</td><td>08     </td><td>06     </td><td>18     </td><td>1988   </td><td>37.0   </td><td>73.5   </td><td>25     </td><td>1011   </td><td>⋯      </td><td>0      </td><td>0      </td><td>0      </td><td>0      </td><td>0      </td><td>0      </td><td>0      </td><td>*      </td><td>197    </td><td>.      </td></tr>\n",
       "\t<tr><td>AL0188 </td><td>ALBERTO</td><td>08     </td><td>07     </td><td>00     </td><td>1988   </td><td>38.7   </td><td>72.4   </td><td>25     </td><td>1009   </td><td>⋯      </td><td>0      </td><td>0      </td><td>0      </td><td>0      </td><td>0      </td><td>0      </td><td>0      </td><td>*      </td><td>193    </td><td>.      </td></tr>\n",
       "</tbody>\n",
       "</table>\n"
      ],
      "text/latex": [
       "\\begin{tabular}{r|lllllllllllllllllllllllllllll}\n",
       " storm\\_id & storm\\_name & month & day & hour & year & latitude & longitude & max\\_wind & min\\_pressure & ⋯ & radius\\_50\\_se & radius\\_50\\_sw & radius\\_50\\_nw & radius\\_64\\_ne & radius\\_64\\_se & radius\\_64\\_sw & radius\\_64\\_nw & storm\\_type & distance\\_to\\_land & final\\\\\n",
       "\\hline\n",
       "\t AL0188  & ALBERTO & 08      & 05      & 18      & 1988    & 32.0    & 77.5    & 20      & 1015    & ⋯       & 0       & 0       & 0       & 0       & 0       & 0       & 0       & *       & 218     & .      \\\\\n",
       "\t AL0188  & ALBERTO & 08      & 06      & 00      & 1988    & 32.8    & 76.2    & 20      & 1014    & ⋯       & 0       & 0       & 0       & 0       & 0       & 0       & 0       & *       & 213     & .      \\\\\n",
       "\t AL0188  & ALBERTO & 08      & 06      & 06      & 1988    & 34.0    & 75.2    & 20      & 1013    & ⋯       & 0       & 0       & 0       & 0       & 0       & 0       & 0       & *       & 149     & .      \\\\\n",
       "\t AL0188  & ALBERTO & 08      & 06      & 12      & 1988    & 35.2    & 74.6    & 25      & 1012    & ⋯       & 0       & 0       & 0       & 0       & 0       & 0       & 0       & *       & 126     & .      \\\\\n",
       "\t AL0188  & ALBERTO & 08      & 06      & 18      & 1988    & 37.0    & 73.5    & 25      & 1011    & ⋯       & 0       & 0       & 0       & 0       & 0       & 0       & 0       & *       & 197     & .      \\\\\n",
       "\t AL0188  & ALBERTO & 08      & 07      & 00      & 1988    & 38.7    & 72.4    & 25      & 1009    & ⋯       & 0       & 0       & 0       & 0       & 0       & 0       & 0       & *       & 193     & .      \\\\\n",
       "\\end{tabular}\n"
      ],
      "text/markdown": [
       "\n",
       "storm_id | storm_name | month | day | hour | year | latitude | longitude | max_wind | min_pressure | ⋯ | radius_50_se | radius_50_sw | radius_50_nw | radius_64_ne | radius_64_se | radius_64_sw | radius_64_nw | storm_type | distance_to_land | final | \n",
       "|---|---|---|---|---|---|\n",
       "| AL0188  | ALBERTO | 08      | 05      | 18      | 1988    | 32.0    | 77.5    | 20      | 1015    | ⋯       | 0       | 0       | 0       | 0       | 0       | 0       | 0       | *       | 218     | .       | \n",
       "| AL0188  | ALBERTO | 08      | 06      | 00      | 1988    | 32.8    | 76.2    | 20      | 1014    | ⋯       | 0       | 0       | 0       | 0       | 0       | 0       | 0       | *       | 213     | .       | \n",
       "| AL0188  | ALBERTO | 08      | 06      | 06      | 1988    | 34.0    | 75.2    | 20      | 1013    | ⋯       | 0       | 0       | 0       | 0       | 0       | 0       | 0       | *       | 149     | .       | \n",
       "| AL0188  | ALBERTO | 08      | 06      | 12      | 1988    | 35.2    | 74.6    | 25      | 1012    | ⋯       | 0       | 0       | 0       | 0       | 0       | 0       | 0       | *       | 126     | .       | \n",
       "| AL0188  | ALBERTO | 08      | 06      | 18      | 1988    | 37.0    | 73.5    | 25      | 1011    | ⋯       | 0       | 0       | 0       | 0       | 0       | 0       | 0       | *       | 197     | .       | \n",
       "| AL0188  | ALBERTO | 08      | 07      | 00      | 1988    | 38.7    | 72.4    | 25      | 1009    | ⋯       | 0       | 0       | 0       | 0       | 0       | 0       | 0       | *       | 193     | .       | \n",
       "\n",
       "\n"
      ],
      "text/plain": [
       "  storm_id storm_name month day hour year latitude longitude max_wind\n",
       "1 AL0188   ALBERTO    08    05  18   1988 32.0     77.5      20      \n",
       "2 AL0188   ALBERTO    08    06  00   1988 32.8     76.2      20      \n",
       "3 AL0188   ALBERTO    08    06  06   1988 34.0     75.2      20      \n",
       "4 AL0188   ALBERTO    08    06  12   1988 35.2     74.6      25      \n",
       "5 AL0188   ALBERTO    08    06  18   1988 37.0     73.5      25      \n",
       "6 AL0188   ALBERTO    08    07  00   1988 38.7     72.4      25      \n",
       "  min_pressure ⋯ radius_50_se radius_50_sw radius_50_nw radius_64_ne\n",
       "1 1015         ⋯ 0            0            0            0           \n",
       "2 1014         ⋯ 0            0            0            0           \n",
       "3 1013         ⋯ 0            0            0            0           \n",
       "4 1012         ⋯ 0            0            0            0           \n",
       "5 1011         ⋯ 0            0            0            0           \n",
       "6 1009         ⋯ 0            0            0            0           \n",
       "  radius_64_se radius_64_sw radius_64_nw storm_type distance_to_land final\n",
       "1 0            0            0            *          218              .    \n",
       "2 0            0            0            *          213              .    \n",
       "3 0            0            0            *          149              .    \n",
       "4 0            0            0            *          126              .    \n",
       "5 0            0            0            *          197              .    \n",
       "6 0            0            0            *          193              .    "
      ]
     },
     "metadata": {},
     "output_type": "display_data"
    }
   ],
   "source": [
    "hurricane <- read_csv(\"Data/hurricane_data.csv\")\n",
    "hurricane <- as_tibble(hurricane)\n",
    "head(hurricane)"
   ]
  },
  {
   "cell_type": "markdown",
   "metadata": {},
   "source": [
    "### Using summarize() function\n",
    "- Summarize Hurricane Data to find the highest measured maximum wind speed (max_wind) and lowest minimum pressure (min_pressure)\n",
    "- n() returns number of rows\n",
    "- Minimum pressure of 0 is unrealistics, means that this data needs to be cleaned up"
   ]
  },
  {
   "cell_type": "code",
   "execution_count": 3,
   "metadata": {},
   "outputs": [
    {
     "data": {
      "text/html": [
       "<table>\n",
       "<thead><tr><th scope=col>n_obs</th><th scope=col>worst_wind</th><th scope=col>worst_pressure</th></tr></thead>\n",
       "<tbody>\n",
       "\t<tr><td>11824</td><td>160  </td><td>0    </td></tr>\n",
       "</tbody>\n",
       "</table>\n"
      ],
      "text/latex": [
       "\\begin{tabular}{r|lll}\n",
       " n\\_obs & worst\\_wind & worst\\_pressure\\\\\n",
       "\\hline\n",
       "\t 11824 & 160   & 0    \\\\\n",
       "\\end{tabular}\n"
      ],
      "text/markdown": [
       "\n",
       "n_obs | worst_wind | worst_pressure | \n",
       "|---|\n",
       "| 11824 | 160   | 0     | \n",
       "\n",
       "\n"
      ],
      "text/plain": [
       "  n_obs worst_wind worst_pressure\n",
       "1 11824 160        0             "
      ]
     },
     "metadata": {},
     "output_type": "display_data"
    }
   ],
   "source": [
    "hurricane %>%\n",
    "  summarize(n_obs = n(), \n",
    "            worst_wind = max(max_wind), \n",
    "            worst_pressure = min(min_pressure))"
   ]
  },
  {
   "cell_type": "markdown",
   "metadata": {},
   "source": [
    "### Can use summarize() function with other functions as well\n",
    "- Create a function to convert knots to miles per hour"
   ]
  },
  {
   "cell_type": "code",
   "execution_count": 4,
   "metadata": {},
   "outputs": [
    {
     "data": {
      "text/html": [
       "<table>\n",
       "<thead><tr><th scope=col>n_obs</th><th scope=col>worst_wind</th><th scope=col>worst_pressure</th></tr></thead>\n",
       "<tbody>\n",
       "\t<tr><td>11824 </td><td>184.32</td><td>0     </td></tr>\n",
       "</tbody>\n",
       "</table>\n"
      ],
      "text/latex": [
       "\\begin{tabular}{r|lll}\n",
       " n\\_obs & worst\\_wind & worst\\_pressure\\\\\n",
       "\\hline\n",
       "\t 11824  & 184.32 & 0     \\\\\n",
       "\\end{tabular}\n"
      ],
      "text/markdown": [
       "\n",
       "n_obs | worst_wind | worst_pressure | \n",
       "|---|\n",
       "| 11824  | 184.32 | 0      | \n",
       "\n",
       "\n"
      ],
      "text/plain": [
       "  n_obs worst_wind worst_pressure\n",
       "1 11824 184.32     0             "
      ]
     },
     "metadata": {},
     "output_type": "display_data"
    }
   ],
   "source": [
    "# Function to convert knots to miles per hour\n",
    "knots_to_mph <- function(knots){\n",
    "  mph <- 1.152 * knots\n",
    "}\n",
    "# Use function with summarize()\n",
    "hurricane %>%\n",
    "  summarize(n_obs = n(), \n",
    "            worst_wind = knots_to_mph(max(max_wind)), \n",
    "            worst_pressure = min(min_pressure))"
   ]
  },
  {
   "cell_type": "markdown",
   "metadata": {},
   "source": [
    "# Grouping and Summarizing Data \n",
    "- Summarize based on grouped data \n",
    "- No visible change when printed as a tibble\n",
    "- When summarized, data will be summarized based on groups rather than the whole data frame"
   ]
  },
  {
   "cell_type": "markdown",
   "metadata": {},
   "source": [
    "## Group by Storm name and Year \n",
    "- Storm names repeat unless retired, group by Year to get separate Storm names\n",
    "- Groups will includes all the days and hours of that Storm"
   ]
  },
  {
   "cell_type": "code",
   "execution_count": 5,
   "metadata": {},
   "outputs": [
    {
     "data": {
      "text/html": [
       "<table>\n",
       "<thead><tr><th scope=col>storm_id</th><th scope=col>storm_name</th><th scope=col>month</th><th scope=col>day</th><th scope=col>hour</th><th scope=col>year</th><th scope=col>latitude</th><th scope=col>longitude</th><th scope=col>max_wind</th><th scope=col>min_pressure</th><th scope=col>⋯</th><th scope=col>radius_50_se</th><th scope=col>radius_50_sw</th><th scope=col>radius_50_nw</th><th scope=col>radius_64_ne</th><th scope=col>radius_64_se</th><th scope=col>radius_64_sw</th><th scope=col>radius_64_nw</th><th scope=col>storm_type</th><th scope=col>distance_to_land</th><th scope=col>final</th></tr></thead>\n",
       "<tbody>\n",
       "\t<tr><td>AL0188 </td><td>ALBERTO</td><td>08     </td><td>05     </td><td>18     </td><td>1988   </td><td>32.0   </td><td>77.5   </td><td>20     </td><td>1015   </td><td>⋯      </td><td>0      </td><td>0      </td><td>0      </td><td>0      </td><td>0      </td><td>0      </td><td>0      </td><td>*      </td><td>218    </td><td>.      </td></tr>\n",
       "\t<tr><td>AL0188 </td><td>ALBERTO</td><td>08     </td><td>06     </td><td>00     </td><td>1988   </td><td>32.8   </td><td>76.2   </td><td>20     </td><td>1014   </td><td>⋯      </td><td>0      </td><td>0      </td><td>0      </td><td>0      </td><td>0      </td><td>0      </td><td>0      </td><td>*      </td><td>213    </td><td>.      </td></tr>\n",
       "\t<tr><td>AL0188 </td><td>ALBERTO</td><td>08     </td><td>06     </td><td>06     </td><td>1988   </td><td>34.0   </td><td>75.2   </td><td>20     </td><td>1013   </td><td>⋯      </td><td>0      </td><td>0      </td><td>0      </td><td>0      </td><td>0      </td><td>0      </td><td>0      </td><td>*      </td><td>149    </td><td>.      </td></tr>\n",
       "\t<tr><td>AL0188 </td><td>ALBERTO</td><td>08     </td><td>06     </td><td>12     </td><td>1988   </td><td>35.2   </td><td>74.6   </td><td>25     </td><td>1012   </td><td>⋯      </td><td>0      </td><td>0      </td><td>0      </td><td>0      </td><td>0      </td><td>0      </td><td>0      </td><td>*      </td><td>126    </td><td>.      </td></tr>\n",
       "\t<tr><td>AL0188 </td><td>ALBERTO</td><td>08     </td><td>06     </td><td>18     </td><td>1988   </td><td>37.0   </td><td>73.5   </td><td>25     </td><td>1011   </td><td>⋯      </td><td>0      </td><td>0      </td><td>0      </td><td>0      </td><td>0      </td><td>0      </td><td>0      </td><td>*      </td><td>197    </td><td>.      </td></tr>\n",
       "\t<tr><td>AL0188 </td><td>ALBERTO</td><td>08     </td><td>07     </td><td>00     </td><td>1988   </td><td>38.7   </td><td>72.4   </td><td>25     </td><td>1009   </td><td>⋯      </td><td>0      </td><td>0      </td><td>0      </td><td>0      </td><td>0      </td><td>0      </td><td>0      </td><td>*      </td><td>193    </td><td>.      </td></tr>\n",
       "</tbody>\n",
       "</table>\n"
      ],
      "text/latex": [
       "\\begin{tabular}{r|lllllllllllllllllllllllllllll}\n",
       " storm\\_id & storm\\_name & month & day & hour & year & latitude & longitude & max\\_wind & min\\_pressure & ⋯ & radius\\_50\\_se & radius\\_50\\_sw & radius\\_50\\_nw & radius\\_64\\_ne & radius\\_64\\_se & radius\\_64\\_sw & radius\\_64\\_nw & storm\\_type & distance\\_to\\_land & final\\\\\n",
       "\\hline\n",
       "\t AL0188  & ALBERTO & 08      & 05      & 18      & 1988    & 32.0    & 77.5    & 20      & 1015    & ⋯       & 0       & 0       & 0       & 0       & 0       & 0       & 0       & *       & 218     & .      \\\\\n",
       "\t AL0188  & ALBERTO & 08      & 06      & 00      & 1988    & 32.8    & 76.2    & 20      & 1014    & ⋯       & 0       & 0       & 0       & 0       & 0       & 0       & 0       & *       & 213     & .      \\\\\n",
       "\t AL0188  & ALBERTO & 08      & 06      & 06      & 1988    & 34.0    & 75.2    & 20      & 1013    & ⋯       & 0       & 0       & 0       & 0       & 0       & 0       & 0       & *       & 149     & .      \\\\\n",
       "\t AL0188  & ALBERTO & 08      & 06      & 12      & 1988    & 35.2    & 74.6    & 25      & 1012    & ⋯       & 0       & 0       & 0       & 0       & 0       & 0       & 0       & *       & 126     & .      \\\\\n",
       "\t AL0188  & ALBERTO & 08      & 06      & 18      & 1988    & 37.0    & 73.5    & 25      & 1011    & ⋯       & 0       & 0       & 0       & 0       & 0       & 0       & 0       & *       & 197     & .      \\\\\n",
       "\t AL0188  & ALBERTO & 08      & 07      & 00      & 1988    & 38.7    & 72.4    & 25      & 1009    & ⋯       & 0       & 0       & 0       & 0       & 0       & 0       & 0       & *       & 193     & .      \\\\\n",
       "\\end{tabular}\n"
      ],
      "text/markdown": [
       "\n",
       "storm_id | storm_name | month | day | hour | year | latitude | longitude | max_wind | min_pressure | ⋯ | radius_50_se | radius_50_sw | radius_50_nw | radius_64_ne | radius_64_se | radius_64_sw | radius_64_nw | storm_type | distance_to_land | final | \n",
       "|---|---|---|---|---|---|\n",
       "| AL0188  | ALBERTO | 08      | 05      | 18      | 1988    | 32.0    | 77.5    | 20      | 1015    | ⋯       | 0       | 0       | 0       | 0       | 0       | 0       | 0       | *       | 218     | .       | \n",
       "| AL0188  | ALBERTO | 08      | 06      | 00      | 1988    | 32.8    | 76.2    | 20      | 1014    | ⋯       | 0       | 0       | 0       | 0       | 0       | 0       | 0       | *       | 213     | .       | \n",
       "| AL0188  | ALBERTO | 08      | 06      | 06      | 1988    | 34.0    | 75.2    | 20      | 1013    | ⋯       | 0       | 0       | 0       | 0       | 0       | 0       | 0       | *       | 149     | .       | \n",
       "| AL0188  | ALBERTO | 08      | 06      | 12      | 1988    | 35.2    | 74.6    | 25      | 1012    | ⋯       | 0       | 0       | 0       | 0       | 0       | 0       | 0       | *       | 126     | .       | \n",
       "| AL0188  | ALBERTO | 08      | 06      | 18      | 1988    | 37.0    | 73.5    | 25      | 1011    | ⋯       | 0       | 0       | 0       | 0       | 0       | 0       | 0       | *       | 197     | .       | \n",
       "| AL0188  | ALBERTO | 08      | 07      | 00      | 1988    | 38.7    | 72.4    | 25      | 1009    | ⋯       | 0       | 0       | 0       | 0       | 0       | 0       | 0       | *       | 193     | .       | \n",
       "\n",
       "\n"
      ],
      "text/plain": [
       "  storm_id storm_name month day hour year latitude longitude max_wind\n",
       "1 AL0188   ALBERTO    08    05  18   1988 32.0     77.5      20      \n",
       "2 AL0188   ALBERTO    08    06  00   1988 32.8     76.2      20      \n",
       "3 AL0188   ALBERTO    08    06  06   1988 34.0     75.2      20      \n",
       "4 AL0188   ALBERTO    08    06  12   1988 35.2     74.6      25      \n",
       "5 AL0188   ALBERTO    08    06  18   1988 37.0     73.5      25      \n",
       "6 AL0188   ALBERTO    08    07  00   1988 38.7     72.4      25      \n",
       "  min_pressure ⋯ radius_50_se radius_50_sw radius_50_nw radius_64_ne\n",
       "1 1015         ⋯ 0            0            0            0           \n",
       "2 1014         ⋯ 0            0            0            0           \n",
       "3 1013         ⋯ 0            0            0            0           \n",
       "4 1012         ⋯ 0            0            0            0           \n",
       "5 1011         ⋯ 0            0            0            0           \n",
       "6 1009         ⋯ 0            0            0            0           \n",
       "  radius_64_se radius_64_sw radius_64_nw storm_type distance_to_land final\n",
       "1 0            0            0            *          218              .    \n",
       "2 0            0            0            *          213              .    \n",
       "3 0            0            0            *          149              .    \n",
       "4 0            0            0            *          126              .    \n",
       "5 0            0            0            *          197              .    \n",
       "6 0            0            0            *          193              .    "
      ]
     },
     "metadata": {},
     "output_type": "display_data"
    }
   ],
   "source": [
    "hurricane %>%\n",
    "  group_by(storm_name, year) %>%\n",
    "  head()"
   ]
  },
  {
   "cell_type": "markdown",
   "metadata": {},
   "source": [
    "### Summarize based on grouping\n",
    "- Find the highest measured maximum wind speed (max_wind) and lowest minimum pressure (min_pressure) for each storm group (across days and hours of that strom...)\n"
   ]
  },
  {
   "cell_type": "code",
   "execution_count": 6,
   "metadata": {},
   "outputs": [
    {
     "data": {
      "text/html": [
       "<table>\n",
       "<thead><tr><th scope=col>storm_name</th><th scope=col>year</th><th scope=col>n_obs</th><th scope=col>worst_wind</th><th scope=col>worst_pressure</th></tr></thead>\n",
       "<tbody>\n",
       "\t<tr><td>ALBERTO</td><td>1988   </td><td>13     </td><td> 35    </td><td>1002   </td></tr>\n",
       "\t<tr><td>ALBERTO</td><td>1994   </td><td>31     </td><td> 55    </td><td> 993   </td></tr>\n",
       "\t<tr><td>ALBERTO</td><td>2000   </td><td>87     </td><td>110    </td><td> 950   </td></tr>\n",
       "\t<tr><td>ALBERTO</td><td>2006   </td><td>37     </td><td> 60    </td><td> 969   </td></tr>\n",
       "\t<tr><td>ALBERTO</td><td>2012   </td><td>20     </td><td> 50    </td><td> 995   </td></tr>\n",
       "\t<tr><td>ALEX   </td><td>1998   </td><td>26     </td><td> 45    </td><td>1002   </td></tr>\n",
       "\t<tr><td>ALEX   </td><td>2004   </td><td>25     </td><td>105    </td><td> 957   </td></tr>\n",
       "\t<tr><td>ALEX   </td><td>2010   </td><td>30     </td><td> 90    </td><td> 948   </td></tr>\n",
       "\t<tr><td>ALLISON</td><td>1989   </td><td>28     </td><td> 45    </td><td> 999   </td></tr>\n",
       "\t<tr><td>ALLISON</td><td>1995   </td><td>33     </td><td> 65    </td><td> 982   </td></tr>\n",
       "\t<tr><td>ALLISON</td><td>2001   </td><td>55     </td><td> 50    </td><td>1000   </td></tr>\n",
       "\t<tr><td>ALPHA  </td><td>2005   </td><td>10     </td><td> 45    </td><td> 998   </td></tr>\n",
       "\t<tr><td>ANA    </td><td>1991   </td><td>25     </td><td> 45    </td><td>1000   </td></tr>\n",
       "\t<tr><td>ANA    </td><td>1997   </td><td>19     </td><td> 40    </td><td>1000   </td></tr>\n",
       "\t<tr><td>ANA    </td><td>2003   </td><td>39     </td><td> 50    </td><td> 994   </td></tr>\n",
       "\t<tr><td>ANA    </td><td>2009   </td><td>26     </td><td> 35    </td><td>1003   </td></tr>\n",
       "\t<tr><td>ANA    </td><td>2015   </td><td>27     </td><td> 50    </td><td> 998   </td></tr>\n",
       "\t<tr><td>ANDREA </td><td>2007   </td><td>31     </td><td> 65    </td><td> 998   </td></tr>\n",
       "\t<tr><td>ANDREA </td><td>2013   </td><td>13     </td><td> 55    </td><td> 993   </td></tr>\n",
       "\t<tr><td>ANDREW </td><td>1992   </td><td>47     </td><td>150    </td><td> 922   </td></tr>\n",
       "\t<tr><td>ARLENE </td><td>1993   </td><td>14     </td><td> 35    </td><td>1000   </td></tr>\n",
       "\t<tr><td>ARLENE </td><td>1999   </td><td>26     </td><td> 50    </td><td>1006   </td></tr>\n",
       "\t<tr><td>ARLENE </td><td>2005   </td><td>23     </td><td> 60    </td><td> 990   </td></tr>\n",
       "\t<tr><td>ARLENE </td><td>2011   </td><td>12     </td><td> 55    </td><td> 993   </td></tr>\n",
       "\t<tr><td>ARTHUR </td><td>1990   </td><td>22     </td><td> 60    </td><td> 995   </td></tr>\n",
       "\t<tr><td>ARTHUR </td><td>1996   </td><td>22     </td><td> 45    </td><td> 992   </td></tr>\n",
       "\t<tr><td>ARTHUR </td><td>2002   </td><td>20     </td><td> 50    </td><td> 992   </td></tr>\n",
       "\t<tr><td>ARTHUR </td><td>2008   </td><td> 9     </td><td> 40    </td><td>1004   </td></tr>\n",
       "\t<tr><td>ARTHUR </td><td>2014   </td><td>45     </td><td> 85    </td><td> 972   </td></tr>\n",
       "\t<tr><td>BARRY  </td><td>1989   </td><td>18     </td><td> 45    </td><td>1005   </td></tr>\n",
       "\t<tr><td>⋮</td><td>⋮</td><td>⋮</td><td>⋮</td><td>⋮</td></tr>\n",
       "\t<tr><td>PETER    </td><td>2003     </td><td>15       </td><td> 60      </td><td> 990     </td></tr>\n",
       "\t<tr><td>PHILIPPE </td><td>2005     </td><td>28       </td><td> 70      </td><td> 985     </td></tr>\n",
       "\t<tr><td>PHILIPPE </td><td>2011     </td><td>65       </td><td> 80      </td><td> 976     </td></tr>\n",
       "\t<tr><td>RAFAEL   </td><td>2012     </td><td>56       </td><td> 80      </td><td> 966     </td></tr>\n",
       "\t<tr><td>RICHARD  </td><td>2010     </td><td>28       </td><td> 85      </td><td> 977     </td></tr>\n",
       "\t<tr><td>RINA     </td><td>2011     </td><td>30       </td><td>100      </td><td> 966     </td></tr>\n",
       "\t<tr><td>RITA     </td><td>2005     </td><td>34       </td><td>155      </td><td> 897     </td></tr>\n",
       "\t<tr><td>ROXANNE  </td><td>1995     </td><td>54       </td><td>100      </td><td> 958     </td></tr>\n",
       "\t<tr><td>SANDY    </td><td>2012     </td><td>40       </td><td>100      </td><td> 940     </td></tr>\n",
       "\t<tr><td>SEAN     </td><td>2011     </td><td>28       </td><td> 55      </td><td> 982     </td></tr>\n",
       "\t<tr><td>SEBASTIEN</td><td>1995     </td><td>19       </td><td> 55      </td><td>1001     </td></tr>\n",
       "\t<tr><td>SHARY    </td><td>2010     </td><td> 9       </td><td> 65      </td><td> 989     </td></tr>\n",
       "\t<tr><td>STAN     </td><td>2005     </td><td>16       </td><td> 70      </td><td> 977     </td></tr>\n",
       "\t<tr><td>SUBTROP  </td><td>1997     </td><td> 9       </td><td> 45      </td><td>1003     </td></tr>\n",
       "\t<tr><td>SUBTROP  </td><td>2000     </td><td>19       </td><td> 55      </td><td> 978     </td></tr>\n",
       "\t<tr><td>SUBTROP  </td><td>2005     </td><td> 7       </td><td> 45      </td><td> 997     </td></tr>\n",
       "\t<tr><td>SUBTROP 1</td><td>1992     </td><td>14       </td><td> 45      </td><td>1002     </td></tr>\n",
       "\t<tr><td>TAMMY    </td><td>2005     </td><td> 8       </td><td> 45      </td><td>1001     </td></tr>\n",
       "\t<tr><td>TANYA    </td><td>1995     </td><td>29       </td><td> 75      </td><td> 970     </td></tr>\n",
       "\t<tr><td>TD02     </td><td>2014     </td><td>17       </td><td> 30      </td><td>1012     </td></tr>\n",
       "\t<tr><td>TD08     </td><td>2013     </td><td> 4       </td><td> 30      </td><td>1008     </td></tr>\n",
       "\t<tr><td>TD09     </td><td>2015     </td><td>19       </td><td> 30      </td><td>1006     </td></tr>\n",
       "\t<tr><td>TOMAS    </td><td>2010     </td><td>51       </td><td> 85      </td><td> 982     </td></tr>\n",
       "\t<tr><td>TONY     </td><td>2012     </td><td>20       </td><td> 45      </td><td>1000     </td></tr>\n",
       "\t<tr><td>UNNAMED  </td><td>2011     </td><td>14       </td><td> 40      </td><td>1002     </td></tr>\n",
       "\t<tr><td>UNNAMED  </td><td>2013     </td><td>16       </td><td> 55      </td><td> 995     </td></tr>\n",
       "\t<tr><td>VINCE    </td><td>2005     </td><td>14       </td><td> 65      </td><td> 988     </td></tr>\n",
       "\t<tr><td>WILMA    </td><td>2005     </td><td>45       </td><td>160      </td><td> 882     </td></tr>\n",
       "\t<tr><td>ZETA     </td><td>2005     </td><td> 8       </td><td> 50      </td><td> 997     </td></tr>\n",
       "\t<tr><td>ZETA     </td><td>2006     </td><td>28       </td><td> 55      </td><td> 994     </td></tr>\n",
       "</tbody>\n",
       "</table>\n"
      ],
      "text/latex": [
       "\\begin{tabular}{r|lllll}\n",
       " storm\\_name & year & n\\_obs & worst\\_wind & worst\\_pressure\\\\\n",
       "\\hline\n",
       "\t ALBERTO & 1988    & 13      &  35     & 1002   \\\\\n",
       "\t ALBERTO & 1994    & 31      &  55     &  993   \\\\\n",
       "\t ALBERTO & 2000    & 87      & 110     &  950   \\\\\n",
       "\t ALBERTO & 2006    & 37      &  60     &  969   \\\\\n",
       "\t ALBERTO & 2012    & 20      &  50     &  995   \\\\\n",
       "\t ALEX    & 1998    & 26      &  45     & 1002   \\\\\n",
       "\t ALEX    & 2004    & 25      & 105     &  957   \\\\\n",
       "\t ALEX    & 2010    & 30      &  90     &  948   \\\\\n",
       "\t ALLISON & 1989    & 28      &  45     &  999   \\\\\n",
       "\t ALLISON & 1995    & 33      &  65     &  982   \\\\\n",
       "\t ALLISON & 2001    & 55      &  50     & 1000   \\\\\n",
       "\t ALPHA   & 2005    & 10      &  45     &  998   \\\\\n",
       "\t ANA     & 1991    & 25      &  45     & 1000   \\\\\n",
       "\t ANA     & 1997    & 19      &  40     & 1000   \\\\\n",
       "\t ANA     & 2003    & 39      &  50     &  994   \\\\\n",
       "\t ANA     & 2009    & 26      &  35     & 1003   \\\\\n",
       "\t ANA     & 2015    & 27      &  50     &  998   \\\\\n",
       "\t ANDREA  & 2007    & 31      &  65     &  998   \\\\\n",
       "\t ANDREA  & 2013    & 13      &  55     &  993   \\\\\n",
       "\t ANDREW  & 1992    & 47      & 150     &  922   \\\\\n",
       "\t ARLENE  & 1993    & 14      &  35     & 1000   \\\\\n",
       "\t ARLENE  & 1999    & 26      &  50     & 1006   \\\\\n",
       "\t ARLENE  & 2005    & 23      &  60     &  990   \\\\\n",
       "\t ARLENE  & 2011    & 12      &  55     &  993   \\\\\n",
       "\t ARTHUR  & 1990    & 22      &  60     &  995   \\\\\n",
       "\t ARTHUR  & 1996    & 22      &  45     &  992   \\\\\n",
       "\t ARTHUR  & 2002    & 20      &  50     &  992   \\\\\n",
       "\t ARTHUR  & 2008    &  9      &  40     & 1004   \\\\\n",
       "\t ARTHUR  & 2014    & 45      &  85     &  972   \\\\\n",
       "\t BARRY   & 1989    & 18      &  45     & 1005   \\\\\n",
       "\t ⋮ & ⋮ & ⋮ & ⋮ & ⋮\\\\\n",
       "\t PETER     & 2003      & 15        &  60       &  990     \\\\\n",
       "\t PHILIPPE  & 2005      & 28        &  70       &  985     \\\\\n",
       "\t PHILIPPE  & 2011      & 65        &  80       &  976     \\\\\n",
       "\t RAFAEL    & 2012      & 56        &  80       &  966     \\\\\n",
       "\t RICHARD   & 2010      & 28        &  85       &  977     \\\\\n",
       "\t RINA      & 2011      & 30        & 100       &  966     \\\\\n",
       "\t RITA      & 2005      & 34        & 155       &  897     \\\\\n",
       "\t ROXANNE   & 1995      & 54        & 100       &  958     \\\\\n",
       "\t SANDY     & 2012      & 40        & 100       &  940     \\\\\n",
       "\t SEAN      & 2011      & 28        &  55       &  982     \\\\\n",
       "\t SEBASTIEN & 1995      & 19        &  55       & 1001     \\\\\n",
       "\t SHARY     & 2010      &  9        &  65       &  989     \\\\\n",
       "\t STAN      & 2005      & 16        &  70       &  977     \\\\\n",
       "\t SUBTROP   & 1997      &  9        &  45       & 1003     \\\\\n",
       "\t SUBTROP   & 2000      & 19        &  55       &  978     \\\\\n",
       "\t SUBTROP   & 2005      &  7        &  45       &  997     \\\\\n",
       "\t SUBTROP 1 & 1992      & 14        &  45       & 1002     \\\\\n",
       "\t TAMMY     & 2005      &  8        &  45       & 1001     \\\\\n",
       "\t TANYA     & 1995      & 29        &  75       &  970     \\\\\n",
       "\t TD02      & 2014      & 17        &  30       & 1012     \\\\\n",
       "\t TD08      & 2013      &  4        &  30       & 1008     \\\\\n",
       "\t TD09      & 2015      & 19        &  30       & 1006     \\\\\n",
       "\t TOMAS     & 2010      & 51        &  85       &  982     \\\\\n",
       "\t TONY      & 2012      & 20        &  45       & 1000     \\\\\n",
       "\t UNNAMED   & 2011      & 14        &  40       & 1002     \\\\\n",
       "\t UNNAMED   & 2013      & 16        &  55       &  995     \\\\\n",
       "\t VINCE     & 2005      & 14        &  65       &  988     \\\\\n",
       "\t WILMA     & 2005      & 45        & 160       &  882     \\\\\n",
       "\t ZETA      & 2005      &  8        &  50       &  997     \\\\\n",
       "\t ZETA      & 2006      & 28        &  55       &  994     \\\\\n",
       "\\end{tabular}\n"
      ],
      "text/markdown": [
       "\n",
       "storm_name | year | n_obs | worst_wind | worst_pressure | \n",
       "|---|---|---|---|---|---|---|---|---|---|---|---|---|---|---|---|---|---|---|---|---|---|---|---|---|---|---|---|---|---|---|---|---|---|---|---|---|---|---|---|---|---|---|---|---|---|---|---|---|---|---|---|---|---|---|---|---|---|---|---|---|\n",
       "| ALBERTO | 1988    | 13      |  35     | 1002    | \n",
       "| ALBERTO | 1994    | 31      |  55     |  993    | \n",
       "| ALBERTO | 2000    | 87      | 110     |  950    | \n",
       "| ALBERTO | 2006    | 37      |  60     |  969    | \n",
       "| ALBERTO | 2012    | 20      |  50     |  995    | \n",
       "| ALEX    | 1998    | 26      |  45     | 1002    | \n",
       "| ALEX    | 2004    | 25      | 105     |  957    | \n",
       "| ALEX    | 2010    | 30      |  90     |  948    | \n",
       "| ALLISON | 1989    | 28      |  45     |  999    | \n",
       "| ALLISON | 1995    | 33      |  65     |  982    | \n",
       "| ALLISON | 2001    | 55      |  50     | 1000    | \n",
       "| ALPHA   | 2005    | 10      |  45     |  998    | \n",
       "| ANA     | 1991    | 25      |  45     | 1000    | \n",
       "| ANA     | 1997    | 19      |  40     | 1000    | \n",
       "| ANA     | 2003    | 39      |  50     |  994    | \n",
       "| ANA     | 2009    | 26      |  35     | 1003    | \n",
       "| ANA     | 2015    | 27      |  50     |  998    | \n",
       "| ANDREA  | 2007    | 31      |  65     |  998    | \n",
       "| ANDREA  | 2013    | 13      |  55     |  993    | \n",
       "| ANDREW  | 1992    | 47      | 150     |  922    | \n",
       "| ARLENE  | 1993    | 14      |  35     | 1000    | \n",
       "| ARLENE  | 1999    | 26      |  50     | 1006    | \n",
       "| ARLENE  | 2005    | 23      |  60     |  990    | \n",
       "| ARLENE  | 2011    | 12      |  55     |  993    | \n",
       "| ARTHUR  | 1990    | 22      |  60     |  995    | \n",
       "| ARTHUR  | 1996    | 22      |  45     |  992    | \n",
       "| ARTHUR  | 2002    | 20      |  50     |  992    | \n",
       "| ARTHUR  | 2008    |  9      |  40     | 1004    | \n",
       "| ARTHUR  | 2014    | 45      |  85     |  972    | \n",
       "| BARRY   | 1989    | 18      |  45     | 1005    | \n",
       "| ⋮ | ⋮ | ⋮ | ⋮ | ⋮ | \n",
       "| PETER     | 2003      | 15        |  60       |  990      | \n",
       "| PHILIPPE  | 2005      | 28        |  70       |  985      | \n",
       "| PHILIPPE  | 2011      | 65        |  80       |  976      | \n",
       "| RAFAEL    | 2012      | 56        |  80       |  966      | \n",
       "| RICHARD   | 2010      | 28        |  85       |  977      | \n",
       "| RINA      | 2011      | 30        | 100       |  966      | \n",
       "| RITA      | 2005      | 34        | 155       |  897      | \n",
       "| ROXANNE   | 1995      | 54        | 100       |  958      | \n",
       "| SANDY     | 2012      | 40        | 100       |  940      | \n",
       "| SEAN      | 2011      | 28        |  55       |  982      | \n",
       "| SEBASTIEN | 1995      | 19        |  55       | 1001      | \n",
       "| SHARY     | 2010      |  9        |  65       |  989      | \n",
       "| STAN      | 2005      | 16        |  70       |  977      | \n",
       "| SUBTROP   | 1997      |  9        |  45       | 1003      | \n",
       "| SUBTROP   | 2000      | 19        |  55       |  978      | \n",
       "| SUBTROP   | 2005      |  7        |  45       |  997      | \n",
       "| SUBTROP 1 | 1992      | 14        |  45       | 1002      | \n",
       "| TAMMY     | 2005      |  8        |  45       | 1001      | \n",
       "| TANYA     | 1995      | 29        |  75       |  970      | \n",
       "| TD02      | 2014      | 17        |  30       | 1012      | \n",
       "| TD08      | 2013      |  4        |  30       | 1008      | \n",
       "| TD09      | 2015      | 19        |  30       | 1006      | \n",
       "| TOMAS     | 2010      | 51        |  85       |  982      | \n",
       "| TONY      | 2012      | 20        |  45       | 1000      | \n",
       "| UNNAMED   | 2011      | 14        |  40       | 1002      | \n",
       "| UNNAMED   | 2013      | 16        |  55       |  995      | \n",
       "| VINCE     | 2005      | 14        |  65       |  988      | \n",
       "| WILMA     | 2005      | 45        | 160       |  882      | \n",
       "| ZETA      | 2005      |  8        |  50       |  997      | \n",
       "| ZETA      | 2006      | 28        |  55       |  994      | \n",
       "\n",
       "\n"
      ],
      "text/plain": [
       "    storm_name year n_obs worst_wind worst_pressure\n",
       "1   ALBERTO    1988 13     35        1002          \n",
       "2   ALBERTO    1994 31     55         993          \n",
       "3   ALBERTO    2000 87    110         950          \n",
       "4   ALBERTO    2006 37     60         969          \n",
       "5   ALBERTO    2012 20     50         995          \n",
       "6   ALEX       1998 26     45        1002          \n",
       "7   ALEX       2004 25    105         957          \n",
       "8   ALEX       2010 30     90         948          \n",
       "9   ALLISON    1989 28     45         999          \n",
       "10  ALLISON    1995 33     65         982          \n",
       "11  ALLISON    2001 55     50        1000          \n",
       "12  ALPHA      2005 10     45         998          \n",
       "13  ANA        1991 25     45        1000          \n",
       "14  ANA        1997 19     40        1000          \n",
       "15  ANA        2003 39     50         994          \n",
       "16  ANA        2009 26     35        1003          \n",
       "17  ANA        2015 27     50         998          \n",
       "18  ANDREA     2007 31     65         998          \n",
       "19  ANDREA     2013 13     55         993          \n",
       "20  ANDREW     1992 47    150         922          \n",
       "21  ARLENE     1993 14     35        1000          \n",
       "22  ARLENE     1999 26     50        1006          \n",
       "23  ARLENE     2005 23     60         990          \n",
       "24  ARLENE     2011 12     55         993          \n",
       "25  ARTHUR     1990 22     60         995          \n",
       "26  ARTHUR     1996 22     45         992          \n",
       "27  ARTHUR     2002 20     50         992          \n",
       "28  ARTHUR     2008  9     40        1004          \n",
       "29  ARTHUR     2014 45     85         972          \n",
       "30  BARRY      1989 18     45        1005          \n",
       "⋮   ⋮          ⋮    ⋮     ⋮          ⋮             \n",
       "349 PETER      2003 15     60         990          \n",
       "350 PHILIPPE   2005 28     70         985          \n",
       "351 PHILIPPE   2011 65     80         976          \n",
       "352 RAFAEL     2012 56     80         966          \n",
       "353 RICHARD    2010 28     85         977          \n",
       "354 RINA       2011 30    100         966          \n",
       "355 RITA       2005 34    155         897          \n",
       "356 ROXANNE    1995 54    100         958          \n",
       "357 SANDY      2012 40    100         940          \n",
       "358 SEAN       2011 28     55         982          \n",
       "359 SEBASTIEN  1995 19     55        1001          \n",
       "360 SHARY      2010  9     65         989          \n",
       "361 STAN       2005 16     70         977          \n",
       "362 SUBTROP    1997  9     45        1003          \n",
       "363 SUBTROP    2000 19     55         978          \n",
       "364 SUBTROP    2005  7     45         997          \n",
       "365 SUBTROP 1  1992 14     45        1002          \n",
       "366 TAMMY      2005  8     45        1001          \n",
       "367 TANYA      1995 29     75         970          \n",
       "368 TD02       2014 17     30        1012          \n",
       "369 TD08       2013  4     30        1008          \n",
       "370 TD09       2015 19     30        1006          \n",
       "371 TOMAS      2010 51     85         982          \n",
       "372 TONY       2012 20     45        1000          \n",
       "373 UNNAMED    2011 14     40        1002          \n",
       "374 UNNAMED    2013 16     55         995          \n",
       "375 VINCE      2005 14     65         988          \n",
       "376 WILMA      2005 45    160         882          \n",
       "377 ZETA       2005  8     50         997          \n",
       "378 ZETA       2006 28     55         994          "
      ]
     },
     "metadata": {},
     "output_type": "display_data"
    }
   ],
   "source": [
    "hurricane %>%\n",
    "  group_by(storm_name, year) %>%\n",
    "  summarize(n_obs = n(), \n",
    "            worst_wind = max(max_wind), \n",
    "            worst_pressure = min(min_pressure))"
   ]
  },
  {
   "cell_type": "markdown",
   "metadata": {},
   "source": [
    "### Can use Grouping and Summarizing to quickly plot summaries of the datasets:\n",
    "- Plot as Wind Speed vs Count\n",
    "- From the Plot, can see that only 2 Stroms had winds higher than 160"
   ]
  },
  {
   "cell_type": "code",
   "execution_count": 7,
   "metadata": {},
   "outputs": [
    {
     "name": "stderr",
     "output_type": "stream",
     "text": [
      "`stat_bin()` using `bins = 30`. Pick better value with `binwidth`.\n"
     ]
    },
    {
     "data": {},
     "metadata": {},
     "output_type": "display_data"
    },
    {
     "data": {
      "image/png": "[encoded data removed]",
      "text/plain": [
       "plot without title"
      ]
     },
     "metadata": {},
     "output_type": "display_data"
    }
   ],
   "source": [
    "hurricane %>%\n",
    "  group_by(storm_name, year) %>%\n",
    "  summarize(n_obs = n(), \n",
    "            worst_wind = max(max_wind), \n",
    "            worst_pressure = min(min_pressure)) %>%\n",
    "  ggplot(aes(x=worst_wind)) + geom_histogram()"
   ]
  },
  {
   "cell_type": "markdown",
   "metadata": {},
   "source": [
    "### Filter out the Storms that had winds higher than 160:\n",
    "- Only Gilbert (1998) and Wilma (2005) had 160 knots winds"
   ]
  },
  {
   "cell_type": "code",
   "execution_count": 8,
   "metadata": {},
   "outputs": [
    {
     "data": {
      "text/html": [
       "<table>\n",
       "<thead><tr><th scope=col>storm_name</th><th scope=col>year</th><th scope=col>n_obs</th><th scope=col>worst_wind</th></tr></thead>\n",
       "<tbody>\n",
       "\t<tr><td>GILBERT</td><td>1988   </td><td>46     </td><td>160    </td></tr>\n",
       "\t<tr><td>WILMA  </td><td>2005   </td><td>45     </td><td>160    </td></tr>\n",
       "</tbody>\n",
       "</table>\n"
      ],
      "text/latex": [
       "\\begin{tabular}{r|llll}\n",
       " storm\\_name & year & n\\_obs & worst\\_wind\\\\\n",
       "\\hline\n",
       "\t GILBERT & 1988    & 46      & 160    \\\\\n",
       "\t WILMA   & 2005    & 45      & 160    \\\\\n",
       "\\end{tabular}\n"
      ],
      "text/markdown": [
       "\n",
       "storm_name | year | n_obs | worst_wind | \n",
       "|---|---|\n",
       "| GILBERT | 1988    | 46      | 160     | \n",
       "| WILMA   | 2005    | 45      | 160     | \n",
       "\n",
       "\n"
      ],
      "text/plain": [
       "  storm_name year n_obs worst_wind\n",
       "1 GILBERT    1988 46    160       \n",
       "2 WILMA      2005 45    160       "
      ]
     },
     "metadata": {},
     "output_type": "display_data"
    }
   ],
   "source": [
    "hurricane %>%\n",
    "  group_by(storm_name, year) %>%\n",
    "  summarize(n_obs = n(), \n",
    "            worst_wind = max(max_wind)) %>%\n",
    "  filter(worst_wind >= 160)"
   ]
  },
  {
   "cell_type": "code",
   "execution_count": 10,
   "metadata": {},
   "outputs": [
    {
     "data": {
      "text/html": [
       "<table>\n",
       "<thead><tr><th scope=col>storm_name</th><th scope=col>year</th><th scope=col>n_obs</th><th scope=col>worst_wind</th></tr></thead>\n",
       "<tbody>\n",
       "\t<tr><td>ANDREW </td><td>1992   </td><td>47     </td><td>150    </td></tr>\n",
       "\t<tr><td>DEAN   </td><td>2007   </td><td>40     </td><td>150    </td></tr>\n",
       "\t<tr><td>EMILY  </td><td>2005   </td><td>43     </td><td>140    </td></tr>\n",
       "\t<tr><td>FELIX  </td><td>2007   </td><td>26     </td><td>150    </td></tr>\n",
       "\t<tr><td>GILBERT</td><td>1988   </td><td>46     </td><td>160    </td></tr>\n",
       "\t<tr><td>HUGO   </td><td>1989   </td><td>61     </td><td>140    </td></tr>\n",
       "\t<tr><td>ISABEL </td><td>2003   </td><td>57     </td><td>145    </td></tr>\n",
       "\t<tr><td>IVAN   </td><td>2004   </td><td>87     </td><td>145    </td></tr>\n",
       "\t<tr><td>KATRINA</td><td>2005   </td><td>31     </td><td>150    </td></tr>\n",
       "\t<tr><td>MITCH  </td><td>1998   </td><td>76     </td><td>155    </td></tr>\n",
       "\t<tr><td>RITA   </td><td>2005   </td><td>34     </td><td>155    </td></tr>\n",
       "\t<tr><td>WILMA  </td><td>2005   </td><td>45     </td><td>160    </td></tr>\n",
       "</tbody>\n",
       "</table>\n"
      ],
      "text/latex": [
       "\\begin{tabular}{r|llll}\n",
       " storm\\_name & year & n\\_obs & worst\\_wind\\\\\n",
       "\\hline\n",
       "\t ANDREW  & 1992    & 47      & 150    \\\\\n",
       "\t DEAN    & 2007    & 40      & 150    \\\\\n",
       "\t EMILY   & 2005    & 43      & 140    \\\\\n",
       "\t FELIX   & 2007    & 26      & 150    \\\\\n",
       "\t GILBERT & 1988    & 46      & 160    \\\\\n",
       "\t HUGO    & 1989    & 61      & 140    \\\\\n",
       "\t ISABEL  & 2003    & 57      & 145    \\\\\n",
       "\t IVAN    & 2004    & 87      & 145    \\\\\n",
       "\t KATRINA & 2005    & 31      & 150    \\\\\n",
       "\t MITCH   & 1998    & 76      & 155    \\\\\n",
       "\t RITA    & 2005    & 34      & 155    \\\\\n",
       "\t WILMA   & 2005    & 45      & 160    \\\\\n",
       "\\end{tabular}\n"
      ],
      "text/markdown": [
       "\n",
       "storm_name | year | n_obs | worst_wind | \n",
       "|---|---|---|---|---|---|---|---|---|---|---|---|\n",
       "| ANDREW  | 1992    | 47      | 150     | \n",
       "| DEAN    | 2007    | 40      | 150     | \n",
       "| EMILY   | 2005    | 43      | 140     | \n",
       "| FELIX   | 2007    | 26      | 150     | \n",
       "| GILBERT | 1988    | 46      | 160     | \n",
       "| HUGO    | 1989    | 61      | 140     | \n",
       "| ISABEL  | 2003    | 57      | 145     | \n",
       "| IVAN    | 2004    | 87      | 145     | \n",
       "| KATRINA | 2005    | 31      | 150     | \n",
       "| MITCH   | 1998    | 76      | 155     | \n",
       "| RITA    | 2005    | 34      | 155     | \n",
       "| WILMA   | 2005    | 45      | 160     | \n",
       "\n",
       "\n"
      ],
      "text/plain": [
       "   storm_name year n_obs worst_wind\n",
       "1  ANDREW     1992 47    150       \n",
       "2  DEAN       2007 40    150       \n",
       "3  EMILY      2005 43    140       \n",
       "4  FELIX      2007 26    150       \n",
       "5  GILBERT    1988 46    160       \n",
       "6  HUGO       1989 61    140       \n",
       "7  ISABEL     2003 57    145       \n",
       "8  IVAN       2004 87    145       \n",
       "9  KATRINA    2005 31    150       \n",
       "10 MITCH      1998 76    155       \n",
       "11 RITA       2005 34    155       \n",
       "12 WILMA      2005 45    160       "
      ]
     },
     "metadata": {},
     "output_type": "display_data"
    }
   ],
   "source": [
    "hurricane %>%\n",
    "  group_by(storm_name, year) %>%\n",
    "  summarize(n_obs = n(), \n",
    "            worst_wind = max(max_wind)) %>%\n",
    "  filter(worst_wind >= 140)"
   ]
  }
 ],
 "metadata": {
  "kernelspec": {
   "display_name": "R",
   "language": "R",
   "name": "ir"
  },
  "language_info": {
   "codemirror_mode": "r",
   "file_extension": ".r",
   "mimetype": "text/x-r-source",
   "name": "R",
   "pygments_lexer": "r",
   "version": "3.4.1"
  }
 },
 "nbformat": 4,
 "nbformat_minor": 2
}
