{
 "cells": [
  {
   "cell_type": "markdown",
   "metadata": {},
   "source": [
    "# Adding, Changing, and Renaming Columns"
   ]
  },
  {
   "cell_type": "markdown",
   "metadata": {},
   "source": [
    "### Load required Tidyverse packages"
   ]
  },
  {
   "cell_type": "code",
   "execution_count": 1,
   "metadata": {},
   "outputs": [
    {
     "name": "stderr",
     "output_type": "stream",
     "text": [
      "\n",
      "Attaching package: ‘dplyr’\n",
      "\n",
      "The following objects are masked from ‘package:stats’:\n",
      "\n",
      "    filter, lag\n",
      "\n",
      "The following objects are masked from ‘package:base’:\n",
      "\n",
      "    intersect, setdiff, setequal, union\n",
      "\n"
     ]
    }
   ],
   "source": [
    "library(readr)\n",
    "library(dplyr)\n",
    "library(tidyr)\n",
    "library(ggplot2)"
   ]
  },
  {
   "cell_type": "markdown",
   "metadata": {},
   "source": [
    "### mutate() function can be used to Add or Change existing Columns in the data frame\n",
    "- Using \"worldcup\" Dataset in package \"faraway\":  2010 World Cup Statistics\n",
    "- Using a localy saved dataset (as csv file)\n",
    "- This dataset contains observations by player, including the player's team, position, number of shots ...\n",
    "- Dataset is not tidy, and includes variable player's name as rownames rather than a column "
   ]
  },
  {
   "cell_type": "code",
   "execution_count": 2,
   "metadata": {
    "collapsed": true
   },
   "outputs": [],
   "source": [
    "#install.packages(\"faraway\")\n",
    "#library(faraway)  \n",
    "#data(worldcup)"
   ]
  },
  {
   "cell_type": "markdown",
   "metadata": {},
   "source": [
    "#### Tibble doesn't use row names.  Convert rownames into a column variable (if using data from a package):"
   ]
  },
  {
   "cell_type": "code",
   "execution_count": 3,
   "metadata": {
    "collapsed": true
   },
   "outputs": [],
   "source": [
    "# worldcup <- worldcup %>%\n",
    "#   mutate(player_name = rownames(worldcup))\n",
    "# head(worldcup)"
   ]
  },
  {
   "cell_type": "code",
   "execution_count": 4,
   "metadata": {},
   "outputs": [
    {
     "name": "stderr",
     "output_type": "stream",
     "text": [
      "Parsed with column specification:\n",
      "cols(\n",
      "  Team = col_character(),\n",
      "  Position = col_character(),\n",
      "  Time = col_integer(),\n",
      "  Shots = col_integer(),\n",
      "  Passes = col_integer(),\n",
      "  Tackles = col_integer(),\n",
      "  Saves = col_integer(),\n",
      "  player_name = col_character()\n",
      ")\n"
     ]
    }
   ],
   "source": [
    "worldcup <- read_csv(\"Data/worldcup.csv\")"
   ]
  },
  {
   "cell_type": "code",
   "execution_count": 5,
   "metadata": {},
   "outputs": [
    {
     "data": {
      "text/html": [
       "<ol class=list-inline>\n",
       "\t<li>'tbl_df'</li>\n",
       "\t<li>'tbl'</li>\n",
       "\t<li>'data.frame'</li>\n",
       "</ol>\n"
      ],
      "text/latex": [
       "\\begin{enumerate*}\n",
       "\\item 'tbl\\_df'\n",
       "\\item 'tbl'\n",
       "\\item 'data.frame'\n",
       "\\end{enumerate*}\n"
      ],
      "text/markdown": [
       "1. 'tbl_df'\n",
       "2. 'tbl'\n",
       "3. 'data.frame'\n",
       "\n",
       "\n"
      ],
      "text/plain": [
       "[1] \"tbl_df\"     \"tbl\"        \"data.frame\""
      ]
     },
     "metadata": {},
     "output_type": "display_data"
    }
   ],
   "source": [
    "class(worldcup)"
   ]
  },
  {
   "cell_type": "code",
   "execution_count": 6,
   "metadata": {},
   "outputs": [
    {
     "data": {
      "text/html": [
       "<table>\n",
       "<thead><tr><th scope=col>Team</th><th scope=col>Position</th><th scope=col>Time</th><th scope=col>Shots</th><th scope=col>Passes</th><th scope=col>Tackles</th><th scope=col>Saves</th><th scope=col>player_name</th></tr></thead>\n",
       "<tbody>\n",
       "\t<tr><td>Algeria   </td><td>Midfielder</td><td> 16       </td><td>0         </td><td>  6       </td><td> 0        </td><td>0         </td><td>Abdoun    </td></tr>\n",
       "\t<tr><td>Japan     </td><td>Midfielder</td><td>351       </td><td>0         </td><td>101       </td><td>14        </td><td>0         </td><td>Abe       </td></tr>\n",
       "\t<tr><td>France    </td><td>Defender  </td><td>180       </td><td>0         </td><td> 91       </td><td> 6        </td><td>0         </td><td>Abidal    </td></tr>\n",
       "\t<tr><td>France    </td><td>Midfielder</td><td>270       </td><td>1         </td><td>111       </td><td> 5        </td><td>0         </td><td>Abou Diaby</td></tr>\n",
       "\t<tr><td>Cameroon  </td><td>Forward   </td><td> 46       </td><td>2         </td><td> 16       </td><td> 0        </td><td>0         </td><td>Aboubakar </td></tr>\n",
       "\t<tr><td>Uruguay   </td><td>Forward   </td><td> 72       </td><td>0         </td><td> 15       </td><td> 0        </td><td>0         </td><td>Abreu     </td></tr>\n",
       "</tbody>\n",
       "</table>\n"
      ],
      "text/latex": [
       "\\begin{tabular}{r|llllllll}\n",
       " Team & Position & Time & Shots & Passes & Tackles & Saves & player\\_name\\\\\n",
       "\\hline\n",
       "\t Algeria    & Midfielder &  16        & 0          &   6        &  0         & 0          & Abdoun    \\\\\n",
       "\t Japan      & Midfielder & 351        & 0          & 101        & 14         & 0          & Abe       \\\\\n",
       "\t France     & Defender   & 180        & 0          &  91        &  6         & 0          & Abidal    \\\\\n",
       "\t France     & Midfielder & 270        & 1          & 111        &  5         & 0          & Abou Diaby\\\\\n",
       "\t Cameroon   & Forward    &  46        & 2          &  16        &  0         & 0          & Aboubakar \\\\\n",
       "\t Uruguay    & Forward    &  72        & 0          &  15        &  0         & 0          & Abreu     \\\\\n",
       "\\end{tabular}\n"
      ],
      "text/markdown": [
       "\n",
       "Team | Position | Time | Shots | Passes | Tackles | Saves | player_name | \n",
       "|---|---|---|---|---|---|\n",
       "| Algeria    | Midfielder |  16        | 0          |   6        |  0         | 0          | Abdoun     | \n",
       "| Japan      | Midfielder | 351        | 0          | 101        | 14         | 0          | Abe        | \n",
       "| France     | Defender   | 180        | 0          |  91        |  6         | 0          | Abidal     | \n",
       "| France     | Midfielder | 270        | 1          | 111        |  5         | 0          | Abou Diaby | \n",
       "| Cameroon   | Forward    |  46        | 2          |  16        |  0         | 0          | Aboubakar  | \n",
       "| Uruguay    | Forward    |  72        | 0          |  15        |  0         | 0          | Abreu      | \n",
       "\n",
       "\n"
      ],
      "text/plain": [
       "  Team     Position   Time Shots Passes Tackles Saves player_name\n",
       "1 Algeria  Midfielder  16  0       6     0      0     Abdoun     \n",
       "2 Japan    Midfielder 351  0     101    14      0     Abe        \n",
       "3 France   Defender   180  0      91     6      0     Abidal     \n",
       "4 France   Midfielder 270  1     111     5      0     Abou Diaby \n",
       "5 Cameroon Forward     46  2      16     0      0     Aboubakar  \n",
       "6 Uruguay  Forward     72  0      15     0      0     Abreu      "
      ]
     },
     "metadata": {},
     "output_type": "display_data"
    }
   ],
   "source": [
    "head(worldcup)"
   ]
  },
  {
   "cell_type": "markdown",
   "metadata": {},
   "source": [
    "### Re-order player_name column to be the 1st column"
   ]
  },
  {
   "cell_type": "code",
   "execution_count": 7,
   "metadata": {},
   "outputs": [
    {
     "data": {
      "text/html": [
       "<table>\n",
       "<thead><tr><th scope=col>player_name</th><th scope=col>Team</th><th scope=col>Position</th><th scope=col>Time</th><th scope=col>Shots</th><th scope=col>Passes</th><th scope=col>Tackles</th><th scope=col>Saves</th></tr></thead>\n",
       "<tbody>\n",
       "\t<tr><td>Abdoun    </td><td>Algeria   </td><td>Midfielder</td><td> 16       </td><td>0         </td><td>  6       </td><td> 0        </td><td>0         </td></tr>\n",
       "\t<tr><td>Abe       </td><td>Japan     </td><td>Midfielder</td><td>351       </td><td>0         </td><td>101       </td><td>14        </td><td>0         </td></tr>\n",
       "\t<tr><td>Abidal    </td><td>France    </td><td>Defender  </td><td>180       </td><td>0         </td><td> 91       </td><td> 6        </td><td>0         </td></tr>\n",
       "\t<tr><td>Abou Diaby</td><td>France    </td><td>Midfielder</td><td>270       </td><td>1         </td><td>111       </td><td> 5        </td><td>0         </td></tr>\n",
       "\t<tr><td>Aboubakar </td><td>Cameroon  </td><td>Forward   </td><td> 46       </td><td>2         </td><td> 16       </td><td> 0        </td><td>0         </td></tr>\n",
       "\t<tr><td>Abreu     </td><td>Uruguay   </td><td>Forward   </td><td> 72       </td><td>0         </td><td> 15       </td><td> 0        </td><td>0         </td></tr>\n",
       "</tbody>\n",
       "</table>\n"
      ],
      "text/latex": [
       "\\begin{tabular}{r|llllllll}\n",
       " player\\_name & Team & Position & Time & Shots & Passes & Tackles & Saves\\\\\n",
       "\\hline\n",
       "\t Abdoun     & Algeria    & Midfielder &  16        & 0          &   6        &  0         & 0         \\\\\n",
       "\t Abe        & Japan      & Midfielder & 351        & 0          & 101        & 14         & 0         \\\\\n",
       "\t Abidal     & France     & Defender   & 180        & 0          &  91        &  6         & 0         \\\\\n",
       "\t Abou Diaby & France     & Midfielder & 270        & 1          & 111        &  5         & 0         \\\\\n",
       "\t Aboubakar  & Cameroon   & Forward    &  46        & 2          &  16        &  0         & 0         \\\\\n",
       "\t Abreu      & Uruguay    & Forward    &  72        & 0          &  15        &  0         & 0         \\\\\n",
       "\\end{tabular}\n"
      ],
      "text/markdown": [
       "\n",
       "player_name | Team | Position | Time | Shots | Passes | Tackles | Saves | \n",
       "|---|---|---|---|---|---|\n",
       "| Abdoun     | Algeria    | Midfielder |  16        | 0          |   6        |  0         | 0          | \n",
       "| Abe        | Japan      | Midfielder | 351        | 0          | 101        | 14         | 0          | \n",
       "| Abidal     | France     | Defender   | 180        | 0          |  91        |  6         | 0          | \n",
       "| Abou Diaby | France     | Midfielder | 270        | 1          | 111        |  5         | 0          | \n",
       "| Aboubakar  | Cameroon   | Forward    |  46        | 2          |  16        |  0         | 0          | \n",
       "| Abreu      | Uruguay    | Forward    |  72        | 0          |  15        |  0         | 0          | \n",
       "\n",
       "\n"
      ],
      "text/plain": [
       "  player_name Team     Position   Time Shots Passes Tackles Saves\n",
       "1 Abdoun      Algeria  Midfielder  16  0       6     0      0    \n",
       "2 Abe         Japan    Midfielder 351  0     101    14      0    \n",
       "3 Abidal      France   Defender   180  0      91     6      0    \n",
       "4 Abou Diaby  France   Midfielder 270  1     111     5      0    \n",
       "5 Aboubakar   Cameroon Forward     46  2      16     0      0    \n",
       "6 Abreu       Uruguay  Forward     72  0      15     0      0    "
      ]
     },
     "metadata": {},
     "output_type": "display_data"
    }
   ],
   "source": [
    "worldcup <- worldcup %>%\n",
    "  select(player_name, everything())\n",
    "\n",
    "head(worldcup)"
   ]
  },
  {
   "cell_type": "markdown",
   "metadata": {
    "collapsed": true
   },
   "source": [
    "### With summarize(), get average number of shots for a player's position"
   ]
  },
  {
   "cell_type": "code",
   "execution_count": 8,
   "metadata": {},
   "outputs": [
    {
     "data": {
      "text/html": [
       "<table>\n",
       "<thead><tr><th scope=col>Position</th><th scope=col>ave_shot</th></tr></thead>\n",
       "<tbody>\n",
       "\t<tr><td>Defender  </td><td>1.16489362</td></tr>\n",
       "\t<tr><td>Forward   </td><td>4.23076923</td></tr>\n",
       "\t<tr><td>Goalkeeper</td><td>0.02777778</td></tr>\n",
       "\t<tr><td>Midfielder</td><td>2.39473684</td></tr>\n",
       "</tbody>\n",
       "</table>\n"
      ],
      "text/latex": [
       "\\begin{tabular}{r|ll}\n",
       " Position & ave\\_shot\\\\\n",
       "\\hline\n",
       "\t Defender   & 1.16489362\\\\\n",
       "\t Forward    & 4.23076923\\\\\n",
       "\t Goalkeeper & 0.02777778\\\\\n",
       "\t Midfielder & 2.39473684\\\\\n",
       "\\end{tabular}\n"
      ],
      "text/markdown": [
       "\n",
       "Position | ave_shot | \n",
       "|---|---|---|---|\n",
       "| Defender   | 1.16489362 | \n",
       "| Forward    | 4.23076923 | \n",
       "| Goalkeeper | 0.02777778 | \n",
       "| Midfielder | 2.39473684 | \n",
       "\n",
       "\n"
      ],
      "text/plain": [
       "  Position   ave_shot  \n",
       "1 Defender   1.16489362\n",
       "2 Forward    4.23076923\n",
       "3 Goalkeeper 0.02777778\n",
       "4 Midfielder 2.39473684"
      ]
     },
     "metadata": {},
     "output_type": "display_data"
    }
   ],
   "source": [
    "worldcup %>%\n",
    "  group_by(Position) %>%\n",
    "  summarize(ave_shot = mean(Shots)) %>%\n",
    "  head()"
   ]
  },
  {
   "cell_type": "markdown",
   "metadata": {},
   "source": [
    "### Add a column with average number of shots for a player's position with mutate() function\n",
    "- Use mutate instead of summarize() to add to the data frame\n",
    "- Use ungroup() to ungroup the data frame and add to each row based on Position"
   ]
  },
  {
   "cell_type": "code",
   "execution_count": 9,
   "metadata": {
    "scrolled": true
   },
   "outputs": [
    {
     "data": {
      "text/html": [
       "<table>\n",
       "<thead><tr><th scope=col>player_name</th><th scope=col>Team</th><th scope=col>Position</th><th scope=col>Time</th><th scope=col>Shots</th><th scope=col>Passes</th><th scope=col>Tackles</th><th scope=col>Saves</th><th scope=col>ave_shots</th></tr></thead>\n",
       "<tbody>\n",
       "\t<tr><td>Abdoun    </td><td>Algeria   </td><td>Midfielder</td><td> 16       </td><td>0         </td><td>  6       </td><td> 0        </td><td>0         </td><td>2.394737  </td></tr>\n",
       "\t<tr><td>Abe       </td><td>Japan     </td><td>Midfielder</td><td>351       </td><td>0         </td><td>101       </td><td>14        </td><td>0         </td><td>2.394737  </td></tr>\n",
       "\t<tr><td>Abidal    </td><td>France    </td><td>Defender  </td><td>180       </td><td>0         </td><td> 91       </td><td> 6        </td><td>0         </td><td>1.164894  </td></tr>\n",
       "\t<tr><td>Abou Diaby</td><td>France    </td><td>Midfielder</td><td>270       </td><td>1         </td><td>111       </td><td> 5        </td><td>0         </td><td>2.394737  </td></tr>\n",
       "\t<tr><td>Aboubakar </td><td>Cameroon  </td><td>Forward   </td><td> 46       </td><td>2         </td><td> 16       </td><td> 0        </td><td>0         </td><td>4.230769  </td></tr>\n",
       "\t<tr><td>Abreu     </td><td>Uruguay   </td><td>Forward   </td><td> 72       </td><td>0         </td><td> 15       </td><td> 0        </td><td>0         </td><td>4.230769  </td></tr>\n",
       "</tbody>\n",
       "</table>\n"
      ],
      "text/latex": [
       "\\begin{tabular}{r|lllllllll}\n",
       " player\\_name & Team & Position & Time & Shots & Passes & Tackles & Saves & ave\\_shots\\\\\n",
       "\\hline\n",
       "\t Abdoun     & Algeria    & Midfielder &  16        & 0          &   6        &  0         & 0          & 2.394737  \\\\\n",
       "\t Abe        & Japan      & Midfielder & 351        & 0          & 101        & 14         & 0          & 2.394737  \\\\\n",
       "\t Abidal     & France     & Defender   & 180        & 0          &  91        &  6         & 0          & 1.164894  \\\\\n",
       "\t Abou Diaby & France     & Midfielder & 270        & 1          & 111        &  5         & 0          & 2.394737  \\\\\n",
       "\t Aboubakar  & Cameroon   & Forward    &  46        & 2          &  16        &  0         & 0          & 4.230769  \\\\\n",
       "\t Abreu      & Uruguay    & Forward    &  72        & 0          &  15        &  0         & 0          & 4.230769  \\\\\n",
       "\\end{tabular}\n"
      ],
      "text/markdown": [
       "\n",
       "player_name | Team | Position | Time | Shots | Passes | Tackles | Saves | ave_shots | \n",
       "|---|---|---|---|---|---|\n",
       "| Abdoun     | Algeria    | Midfielder |  16        | 0          |   6        |  0         | 0          | 2.394737   | \n",
       "| Abe        | Japan      | Midfielder | 351        | 0          | 101        | 14         | 0          | 2.394737   | \n",
       "| Abidal     | France     | Defender   | 180        | 0          |  91        |  6         | 0          | 1.164894   | \n",
       "| Abou Diaby | France     | Midfielder | 270        | 1          | 111        |  5         | 0          | 2.394737   | \n",
       "| Aboubakar  | Cameroon   | Forward    |  46        | 2          |  16        |  0         | 0          | 4.230769   | \n",
       "| Abreu      | Uruguay    | Forward    |  72        | 0          |  15        |  0         | 0          | 4.230769   | \n",
       "\n",
       "\n"
      ],
      "text/plain": [
       "  player_name Team     Position   Time Shots Passes Tackles Saves ave_shots\n",
       "1 Abdoun      Algeria  Midfielder  16  0       6     0      0     2.394737 \n",
       "2 Abe         Japan    Midfielder 351  0     101    14      0     2.394737 \n",
       "3 Abidal      France   Defender   180  0      91     6      0     1.164894 \n",
       "4 Abou Diaby  France   Midfielder 270  1     111     5      0     2.394737 \n",
       "5 Aboubakar   Cameroon Forward     46  2      16     0      0     4.230769 \n",
       "6 Abreu       Uruguay  Forward     72  0      15     0      0     4.230769 "
      ]
     },
     "metadata": {},
     "output_type": "display_data"
    }
   ],
   "source": [
    "worldcup <- worldcup %>%\n",
    "  group_by(Position) %>%\n",
    "  mutate(ave_shots = mean(Shots)) %>%\n",
    "  ungroup()\n",
    "\n",
    "head(worldcup)"
   ]
  },
  {
   "cell_type": "markdown",
   "metadata": {},
   "source": [
    "# Using rename() function"
   ]
  },
  {
   "cell_type": "markdown",
   "metadata": {},
   "source": [
    "### To rename a column, use rename() function\n",
    "- The new name is the first argument: rename(new_name = old_name)"
   ]
  },
  {
   "cell_type": "code",
   "execution_count": 10,
   "metadata": {},
   "outputs": [
    {
     "data": {
      "text/html": [
       "<table>\n",
       "<thead><tr><th scope=col>Name</th><th scope=col>Team</th><th scope=col>Position</th><th scope=col>Time</th><th scope=col>Shots</th><th scope=col>Passes</th><th scope=col>Tackles</th><th scope=col>Saves</th><th scope=col>Ave_Shots</th></tr></thead>\n",
       "<tbody>\n",
       "\t<tr><td>Abdoun    </td><td>Algeria   </td><td>Midfielder</td><td> 16       </td><td>0         </td><td>  6       </td><td> 0        </td><td>0         </td><td>2.394737  </td></tr>\n",
       "\t<tr><td>Abe       </td><td>Japan     </td><td>Midfielder</td><td>351       </td><td>0         </td><td>101       </td><td>14        </td><td>0         </td><td>2.394737  </td></tr>\n",
       "\t<tr><td>Abidal    </td><td>France    </td><td>Defender  </td><td>180       </td><td>0         </td><td> 91       </td><td> 6        </td><td>0         </td><td>1.164894  </td></tr>\n",
       "\t<tr><td>Abou Diaby</td><td>France    </td><td>Midfielder</td><td>270       </td><td>1         </td><td>111       </td><td> 5        </td><td>0         </td><td>2.394737  </td></tr>\n",
       "\t<tr><td>Aboubakar </td><td>Cameroon  </td><td>Forward   </td><td> 46       </td><td>2         </td><td> 16       </td><td> 0        </td><td>0         </td><td>4.230769  </td></tr>\n",
       "\t<tr><td>Abreu     </td><td>Uruguay   </td><td>Forward   </td><td> 72       </td><td>0         </td><td> 15       </td><td> 0        </td><td>0         </td><td>4.230769  </td></tr>\n",
       "</tbody>\n",
       "</table>\n"
      ],
      "text/latex": [
       "\\begin{tabular}{r|lllllllll}\n",
       " Name & Team & Position & Time & Shots & Passes & Tackles & Saves & Ave\\_Shots\\\\\n",
       "\\hline\n",
       "\t Abdoun     & Algeria    & Midfielder &  16        & 0          &   6        &  0         & 0          & 2.394737  \\\\\n",
       "\t Abe        & Japan      & Midfielder & 351        & 0          & 101        & 14         & 0          & 2.394737  \\\\\n",
       "\t Abidal     & France     & Defender   & 180        & 0          &  91        &  6         & 0          & 1.164894  \\\\\n",
       "\t Abou Diaby & France     & Midfielder & 270        & 1          & 111        &  5         & 0          & 2.394737  \\\\\n",
       "\t Aboubakar  & Cameroon   & Forward    &  46        & 2          &  16        &  0         & 0          & 4.230769  \\\\\n",
       "\t Abreu      & Uruguay    & Forward    &  72        & 0          &  15        &  0         & 0          & 4.230769  \\\\\n",
       "\\end{tabular}\n"
      ],
      "text/markdown": [
       "\n",
       "Name | Team | Position | Time | Shots | Passes | Tackles | Saves | Ave_Shots | \n",
       "|---|---|---|---|---|---|\n",
       "| Abdoun     | Algeria    | Midfielder |  16        | 0          |   6        |  0         | 0          | 2.394737   | \n",
       "| Abe        | Japan      | Midfielder | 351        | 0          | 101        | 14         | 0          | 2.394737   | \n",
       "| Abidal     | France     | Defender   | 180        | 0          |  91        |  6         | 0          | 1.164894   | \n",
       "| Abou Diaby | France     | Midfielder | 270        | 1          | 111        |  5         | 0          | 2.394737   | \n",
       "| Aboubakar  | Cameroon   | Forward    |  46        | 2          |  16        |  0         | 0          | 4.230769   | \n",
       "| Abreu      | Uruguay    | Forward    |  72        | 0          |  15        |  0         | 0          | 4.230769   | \n",
       "\n",
       "\n"
      ],
      "text/plain": [
       "  Name       Team     Position   Time Shots Passes Tackles Saves Ave_Shots\n",
       "1 Abdoun     Algeria  Midfielder  16  0       6     0      0     2.394737 \n",
       "2 Abe        Japan    Midfielder 351  0     101    14      0     2.394737 \n",
       "3 Abidal     France   Defender   180  0      91     6      0     1.164894 \n",
       "4 Abou Diaby France   Midfielder 270  1     111     5      0     2.394737 \n",
       "5 Aboubakar  Cameroon Forward     46  2      16     0      0     4.230769 \n",
       "6 Abreu      Uruguay  Forward     72  0      15     0      0     4.230769 "
      ]
     },
     "metadata": {},
     "output_type": "display_data"
    }
   ],
   "source": [
    "worldcup <- worldcup %>%\n",
    "  rename(Name = player_name, Ave_Shots = ave_shots)\n",
    "\n",
    "head(worldcup)"
   ]
  }
 ],
 "metadata": {
  "kernelspec": {
   "display_name": "R",
   "language": "R",
   "name": "ir"
  },
  "language_info": {
   "codemirror_mode": "r",
   "file_extension": ".r",
   "mimetype": "text/x-r-source",
   "name": "R",
   "pygments_lexer": "r",
   "version": "3.4.1"
  }
 },
 "nbformat": 4,
 "nbformat_minor": 2
}
