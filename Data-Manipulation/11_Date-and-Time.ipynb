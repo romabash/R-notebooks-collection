{
 "cells": [
  {
   "cell_type": "markdown",
   "metadata": {},
   "source": [
    "# Working with Dates and Time"
   ]
  },
  {
   "cell_type": "markdown",
   "metadata": {},
   "source": [
    "### Load required Tidyverse packages"
   ]
  },
  {
   "cell_type": "code",
   "execution_count": 1,
   "metadata": {},
   "outputs": [
    {
     "name": "stderr",
     "output_type": "stream",
     "text": [
      "\n",
      "Attaching package: ‘dplyr’\n",
      "\n",
      "The following objects are masked from ‘package:stats’:\n",
      "\n",
      "    filter, lag\n",
      "\n",
      "The following objects are masked from ‘package:base’:\n",
      "\n",
      "    intersect, setdiff, setequal, union\n",
      "\n",
      "\n",
      "Attaching package: ‘lubridate’\n",
      "\n",
      "The following object is masked from ‘package:base’:\n",
      "\n",
      "    date\n",
      "\n"
     ]
    }
   ],
   "source": [
    "library(readr)\n",
    "library(dplyr)\n",
    "library(tidyr)\n",
    "library(ggplot2)\n",
    "library(lubridate)"
   ]
  },
  {
   "cell_type": "markdown",
   "metadata": {},
   "source": [
    "### Using \"lubridate\" package\n",
    "- Transform strings into Dates and Time as long as it follows the format: \n",
    "- year, month, day\n",
    "- hour, minute"
   ]
  },
  {
   "cell_type": "code",
   "execution_count": 2,
   "metadata": {},
   "outputs": [
    {
     "data": {
      "text/html": [
       "<time datetime=\"2006-03-12\">2006-03-12</time>"
      ],
      "text/latex": [
       "2006-03-12"
      ],
      "text/markdown": [
       "2006-03-12"
      ],
      "text/plain": [
       "[1] \"2006-03-12\""
      ]
     },
     "metadata": {},
     "output_type": "display_data"
    },
    {
     "data": {
      "text/html": [
       "<time datetime=\"2006-03-12\">2006-03-12</time>"
      ],
      "text/latex": [
       "2006-03-12"
      ],
      "text/markdown": [
       "2006-03-12"
      ],
      "text/plain": [
       "[1] \"2006-03-12\""
      ]
     },
     "metadata": {},
     "output_type": "display_data"
    },
    {
     "data": {
      "text/plain": [
       "[1] \"2006-03-12 18:30:00 UTC\""
      ]
     },
     "metadata": {},
     "output_type": "display_data"
    }
   ],
   "source": [
    "ymd(\"2006-03-12\")\n",
    "ymd(\" '06 March 12\")\n",
    "ymd_hm(\"06/3/12 6:30pm\")"
   ]
  },
  {
   "cell_type": "markdown",
   "metadata": {},
   "source": [
    "### Read in Hurricane Data that was saved as a csv file from a flat file online"
   ]
  },
  {
   "cell_type": "code",
   "execution_count": 3,
   "metadata": {},
   "outputs": [
    {
     "name": "stderr",
     "output_type": "stream",
     "text": [
      "Parsed with column specification:\n",
      "cols(\n",
      "  .default = col_integer(),\n",
      "  storm_id = col_character(),\n",
      "  storm_name = col_character(),\n",
      "  month = col_character(),\n",
      "  day = col_character(),\n",
      "  hour = col_character(),\n",
      "  latitude = col_double(),\n",
      "  longitude = col_double(),\n",
      "  storm_type = col_character(),\n",
      "  final = col_character()\n",
      ")\n",
      "See spec(...) for full column specifications.\n"
     ]
    },
    {
     "data": {
      "text/html": [
       "<table>\n",
       "<thead><tr><th scope=col>storm_id</th><th scope=col>storm_name</th><th scope=col>month</th><th scope=col>day</th><th scope=col>hour</th><th scope=col>year</th><th scope=col>latitude</th><th scope=col>longitude</th><th scope=col>max_wind</th><th scope=col>min_pressure</th></tr></thead>\n",
       "<tbody>\n",
       "\t<tr><td>AL0188 </td><td>ALBERTO</td><td>08     </td><td>05     </td><td>18     </td><td>1988   </td><td>32.0   </td><td>77.5   </td><td>20     </td><td>1015   </td></tr>\n",
       "\t<tr><td>AL0188 </td><td>ALBERTO</td><td>08     </td><td>06     </td><td>00     </td><td>1988   </td><td>32.8   </td><td>76.2   </td><td>20     </td><td>1014   </td></tr>\n",
       "\t<tr><td>AL0188 </td><td>ALBERTO</td><td>08     </td><td>06     </td><td>06     </td><td>1988   </td><td>34.0   </td><td>75.2   </td><td>20     </td><td>1013   </td></tr>\n",
       "\t<tr><td>AL0188 </td><td>ALBERTO</td><td>08     </td><td>06     </td><td>12     </td><td>1988   </td><td>35.2   </td><td>74.6   </td><td>25     </td><td>1012   </td></tr>\n",
       "\t<tr><td>AL0188 </td><td>ALBERTO</td><td>08     </td><td>06     </td><td>18     </td><td>1988   </td><td>37.0   </td><td>73.5   </td><td>25     </td><td>1011   </td></tr>\n",
       "</tbody>\n",
       "</table>\n"
      ],
      "text/latex": [
       "\\begin{tabular}{r|llllllllll}\n",
       " storm\\_id & storm\\_name & month & day & hour & year & latitude & longitude & max\\_wind & min\\_pressure\\\\\n",
       "\\hline\n",
       "\t AL0188  & ALBERTO & 08      & 05      & 18      & 1988    & 32.0    & 77.5    & 20      & 1015   \\\\\n",
       "\t AL0188  & ALBERTO & 08      & 06      & 00      & 1988    & 32.8    & 76.2    & 20      & 1014   \\\\\n",
       "\t AL0188  & ALBERTO & 08      & 06      & 06      & 1988    & 34.0    & 75.2    & 20      & 1013   \\\\\n",
       "\t AL0188  & ALBERTO & 08      & 06      & 12      & 1988    & 35.2    & 74.6    & 25      & 1012   \\\\\n",
       "\t AL0188  & ALBERTO & 08      & 06      & 18      & 1988    & 37.0    & 73.5    & 25      & 1011   \\\\\n",
       "\\end{tabular}\n"
      ],
      "text/markdown": [
       "\n",
       "storm_id | storm_name | month | day | hour | year | latitude | longitude | max_wind | min_pressure | \n",
       "|---|---|---|---|---|\n",
       "| AL0188  | ALBERTO | 08      | 05      | 18      | 1988    | 32.0    | 77.5    | 20      | 1015    | \n",
       "| AL0188  | ALBERTO | 08      | 06      | 00      | 1988    | 32.8    | 76.2    | 20      | 1014    | \n",
       "| AL0188  | ALBERTO | 08      | 06      | 06      | 1988    | 34.0    | 75.2    | 20      | 1013    | \n",
       "| AL0188  | ALBERTO | 08      | 06      | 12      | 1988    | 35.2    | 74.6    | 25      | 1012    | \n",
       "| AL0188  | ALBERTO | 08      | 06      | 18      | 1988    | 37.0    | 73.5    | 25      | 1011    | \n",
       "\n",
       "\n"
      ],
      "text/plain": [
       "  storm_id storm_name month day hour year latitude longitude max_wind\n",
       "1 AL0188   ALBERTO    08    05  18   1988 32.0     77.5      20      \n",
       "2 AL0188   ALBERTO    08    06  00   1988 32.8     76.2      20      \n",
       "3 AL0188   ALBERTO    08    06  06   1988 34.0     75.2      20      \n",
       "4 AL0188   ALBERTO    08    06  12   1988 35.2     74.6      25      \n",
       "5 AL0188   ALBERTO    08    06  18   1988 37.0     73.5      25      \n",
       "  min_pressure\n",
       "1 1015        \n",
       "2 1014        \n",
       "3 1013        \n",
       "4 1012        \n",
       "5 1011        "
      ]
     },
     "metadata": {},
     "output_type": "display_data"
    }
   ],
   "source": [
    "hurricane <- read_csv(\"Data/hurricane_data.csv\")\n",
    "hurricane[1:5, 1:10]"
   ]
  },
  {
   "cell_type": "markdown",
   "metadata": {},
   "source": [
    "### Transform the date and time to a date-time class\n",
    "- Subset data from \"hurricane\" dataset\n",
    "- Use unite() function from \"tidyr\" package to combine all dates columns into one datetime variable"
   ]
  },
  {
   "cell_type": "code",
   "execution_count": 4,
   "metadata": {},
   "outputs": [
    {
     "data": {
      "text/html": [
       "<table>\n",
       "<thead><tr><th scope=col>datetime</th><th scope=col>max_wind</th><th scope=col>min_pressure</th></tr></thead>\n",
       "<tbody>\n",
       "\t<tr><td>1992_08_19_00</td><td> 45          </td><td>1001         </td></tr>\n",
       "\t<tr><td>1992_08_22_06</td><td> 65          </td><td> 994         </td></tr>\n",
       "\t<tr><td>1992_08_21_18</td><td> 50          </td><td>1004         </td></tr>\n",
       "\t<tr><td>1992_08_23_00</td><td>110          </td><td> 961         </td></tr>\n",
       "\t<tr><td>1992_08_27_18</td><td> 25          </td><td> 999         </td></tr>\n",
       "</tbody>\n",
       "</table>\n"
      ],
      "text/latex": [
       "\\begin{tabular}{r|lll}\n",
       " datetime & max\\_wind & min\\_pressure\\\\\n",
       "\\hline\n",
       "\t 1992\\_08\\_19\\_00 &  45                 & 1001               \\\\\n",
       "\t 1992\\_08\\_22\\_06 &  65                 &  994               \\\\\n",
       "\t 1992\\_08\\_21\\_18 &  50                 & 1004               \\\\\n",
       "\t 1992\\_08\\_23\\_00 & 110                 &  961               \\\\\n",
       "\t 1992\\_08\\_27\\_18 &  25                 &  999               \\\\\n",
       "\\end{tabular}\n"
      ],
      "text/markdown": [
       "\n",
       "datetime | max_wind | min_pressure | \n",
       "|---|---|---|---|---|\n",
       "| 1992_08_19_00 |  45           | 1001          | \n",
       "| 1992_08_22_06 |  65           |  994          | \n",
       "| 1992_08_21_18 |  50           | 1004          | \n",
       "| 1992_08_23_00 | 110           |  961          | \n",
       "| 1992_08_27_18 |  25           |  999          | \n",
       "\n",
       "\n"
      ],
      "text/plain": [
       "  datetime      max_wind min_pressure\n",
       "1 1992_08_19_00  45      1001        \n",
       "2 1992_08_22_06  65       994        \n",
       "3 1992_08_21_18  50      1004        \n",
       "4 1992_08_23_00 110       961        \n",
       "5 1992_08_27_18  25       999        "
      ]
     },
     "metadata": {},
     "output_type": "display_data"
    }
   ],
   "source": [
    "hurricane %>%\n",
    "  filter(storm_name == \"ANDREW\" & year == \"1992\") %>%\n",
    "  select(year, month, day, hour, max_wind, min_pressure) %>%\n",
    "  unite(datetime, year, month, day, hour) %>%\n",
    "  sample_n(5)"
   ]
  },
  {
   "cell_type": "markdown",
   "metadata": {},
   "source": [
    "### Use mutate() function to convert datetime into date-time class\n",
    "- With datetime class it is easier to plot using ggplot2"
   ]
  },
  {
   "cell_type": "code",
   "execution_count": 5,
   "metadata": {},
   "outputs": [
    {
     "data": {
      "text/html": [
       "<table>\n",
       "<thead><tr><th scope=col>datetime</th><th scope=col>max_wind</th><th scope=col>min_pressure</th></tr></thead>\n",
       "<tbody>\n",
       "\t<tr><td>1992-08-16 18:00:00</td><td>25                 </td><td>1010               </td></tr>\n",
       "\t<tr><td>1992-08-17 00:00:00</td><td>30                 </td><td>1009               </td></tr>\n",
       "\t<tr><td>1992-08-17 06:00:00</td><td>30                 </td><td>1008               </td></tr>\n",
       "\t<tr><td>1992-08-17 12:00:00</td><td>35                 </td><td>1006               </td></tr>\n",
       "\t<tr><td>1992-08-17 18:00:00</td><td>35                 </td><td>1003               </td></tr>\n",
       "\t<tr><td>1992-08-18 00:00:00</td><td>40                 </td><td>1002               </td></tr>\n",
       "</tbody>\n",
       "</table>\n"
      ],
      "text/latex": [
       "\\begin{tabular}{r|lll}\n",
       " datetime & max\\_wind & min\\_pressure\\\\\n",
       "\\hline\n",
       "\t 1992-08-16 18:00:00 & 25                  & 1010               \\\\\n",
       "\t 1992-08-17 00:00:00 & 30                  & 1009               \\\\\n",
       "\t 1992-08-17 06:00:00 & 30                  & 1008               \\\\\n",
       "\t 1992-08-17 12:00:00 & 35                  & 1006               \\\\\n",
       "\t 1992-08-17 18:00:00 & 35                  & 1003               \\\\\n",
       "\t 1992-08-18 00:00:00 & 40                  & 1002               \\\\\n",
       "\\end{tabular}\n"
      ],
      "text/markdown": [
       "\n",
       "datetime | max_wind | min_pressure | \n",
       "|---|---|---|---|---|---|\n",
       "| 1992-08-16 18:00:00 | 25                  | 1010                | \n",
       "| 1992-08-17 00:00:00 | 30                  | 1009                | \n",
       "| 1992-08-17 06:00:00 | 30                  | 1008                | \n",
       "| 1992-08-17 12:00:00 | 35                  | 1006                | \n",
       "| 1992-08-17 18:00:00 | 35                  | 1003                | \n",
       "| 1992-08-18 00:00:00 | 40                  | 1002                | \n",
       "\n",
       "\n"
      ],
      "text/plain": [
       "  datetime            max_wind min_pressure\n",
       "1 1992-08-16 18:00:00 25       1010        \n",
       "2 1992-08-17 00:00:00 30       1009        \n",
       "3 1992-08-17 06:00:00 30       1008        \n",
       "4 1992-08-17 12:00:00 35       1006        \n",
       "5 1992-08-17 18:00:00 35       1003        \n",
       "6 1992-08-18 00:00:00 40       1002        "
      ]
     },
     "metadata": {},
     "output_type": "display_data"
    }
   ],
   "source": [
    "andrew <- hurricane %>%\n",
    "  filter(storm_name == \"ANDREW\" & year == \"1992\") %>%\n",
    "  select(year, month, day, hour, max_wind, min_pressure) %>%\n",
    "  unite(datetime, year, month, day, hour) %>%\n",
    "  mutate(datetime = ymd_h(datetime))\n",
    "\n",
    "head(andrew)"
   ]
  },
  {
   "cell_type": "markdown",
   "metadata": {},
   "source": [
    "<hr>"
   ]
  },
  {
   "cell_type": "markdown",
   "metadata": {},
   "source": [
    "# Pulling out Date and Time elements\n",
    "- Using year(), months(), mday(), wday(), yday(), weekdays(), hour(), minute(), and second() functions"
   ]
  },
  {
   "cell_type": "markdown",
   "metadata": {},
   "source": [
    "### Use datetime column to add new columns for the year, month, weekday, year day, and hour of each observation\n",
    "- Recreating the original dataset (with additional info)"
   ]
  },
  {
   "cell_type": "code",
   "execution_count": 6,
   "metadata": {},
   "outputs": [
    {
     "data": {
      "text/html": [
       "<table>\n",
       "<thead><tr><th scope=col>datetime</th><th scope=col>year</th><th scope=col>month</th><th scope=col>weekday</th><th scope=col>year_day</th><th scope=col>hour</th></tr></thead>\n",
       "<tbody>\n",
       "\t<tr><td>1992-08-21 18:00:00</td><td>1992               </td><td>August             </td><td>Friday             </td><td>234                </td><td>18                 </td></tr>\n",
       "\t<tr><td>1992-08-21 12:00:00</td><td>1992               </td><td>August             </td><td>Friday             </td><td>234                </td><td>12                 </td></tr>\n",
       "\t<tr><td>1992-08-19 00:00:00</td><td>1992               </td><td>August             </td><td>Wednesday          </td><td>232                </td><td> 0                 </td></tr>\n",
       "\t<tr><td>1992-08-21 06:00:00</td><td>1992               </td><td>August             </td><td>Friday             </td><td>234                </td><td> 6                 </td></tr>\n",
       "\t<tr><td>1992-08-24 06:00:00</td><td>1992               </td><td>August             </td><td>Monday             </td><td>237                </td><td> 6                 </td></tr>\n",
       "\t<tr><td>1992-08-25 06:00:00</td><td>1992               </td><td>August             </td><td>Tuesday            </td><td>238                </td><td> 6                 </td></tr>\n",
       "\t<tr><td>1992-08-27 12:00:00</td><td>1992               </td><td>August             </td><td>Thursday           </td><td>240                </td><td>12                 </td></tr>\n",
       "\t<tr><td>1992-08-27 18:00:00</td><td>1992               </td><td>August             </td><td>Thursday           </td><td>240                </td><td>18                 </td></tr>\n",
       "\t<tr><td>1992-08-18 18:00:00</td><td>1992               </td><td>August             </td><td>Tuesday            </td><td>231                </td><td>18                 </td></tr>\n",
       "\t<tr><td>1992-08-22 00:00:00</td><td>1992               </td><td>August             </td><td>Saturday           </td><td>235                </td><td> 0                 </td></tr>\n",
       "</tbody>\n",
       "</table>\n"
      ],
      "text/latex": [
       "\\begin{tabular}{r|llllll}\n",
       " datetime & year & month & weekday & year\\_day & hour\\\\\n",
       "\\hline\n",
       "\t 1992-08-21 18:00:00 & 1992                & August              & Friday              & 234                 & 18                 \\\\\n",
       "\t 1992-08-21 12:00:00 & 1992                & August              & Friday              & 234                 & 12                 \\\\\n",
       "\t 1992-08-19 00:00:00 & 1992                & August              & Wednesday           & 232                 &  0                 \\\\\n",
       "\t 1992-08-21 06:00:00 & 1992                & August              & Friday              & 234                 &  6                 \\\\\n",
       "\t 1992-08-24 06:00:00 & 1992                & August              & Monday              & 237                 &  6                 \\\\\n",
       "\t 1992-08-25 06:00:00 & 1992                & August              & Tuesday             & 238                 &  6                 \\\\\n",
       "\t 1992-08-27 12:00:00 & 1992                & August              & Thursday            & 240                 & 12                 \\\\\n",
       "\t 1992-08-27 18:00:00 & 1992                & August              & Thursday            & 240                 & 18                 \\\\\n",
       "\t 1992-08-18 18:00:00 & 1992                & August              & Tuesday             & 231                 & 18                 \\\\\n",
       "\t 1992-08-22 00:00:00 & 1992                & August              & Saturday            & 235                 &  0                 \\\\\n",
       "\\end{tabular}\n"
      ],
      "text/markdown": [
       "\n",
       "datetime | year | month | weekday | year_day | hour | \n",
       "|---|---|---|---|---|---|---|---|---|---|\n",
       "| 1992-08-21 18:00:00 | 1992                | August              | Friday              | 234                 | 18                  | \n",
       "| 1992-08-21 12:00:00 | 1992                | August              | Friday              | 234                 | 12                  | \n",
       "| 1992-08-19 00:00:00 | 1992                | August              | Wednesday           | 232                 |  0                  | \n",
       "| 1992-08-21 06:00:00 | 1992                | August              | Friday              | 234                 |  6                  | \n",
       "| 1992-08-24 06:00:00 | 1992                | August              | Monday              | 237                 |  6                  | \n",
       "| 1992-08-25 06:00:00 | 1992                | August              | Tuesday             | 238                 |  6                  | \n",
       "| 1992-08-27 12:00:00 | 1992                | August              | Thursday            | 240                 | 12                  | \n",
       "| 1992-08-27 18:00:00 | 1992                | August              | Thursday            | 240                 | 18                  | \n",
       "| 1992-08-18 18:00:00 | 1992                | August              | Tuesday             | 231                 | 18                  | \n",
       "| 1992-08-22 00:00:00 | 1992                | August              | Saturday            | 235                 |  0                  | \n",
       "\n",
       "\n"
      ],
      "text/plain": [
       "   datetime            year month  weekday   year_day hour\n",
       "1  1992-08-21 18:00:00 1992 August Friday    234      18  \n",
       "2  1992-08-21 12:00:00 1992 August Friday    234      12  \n",
       "3  1992-08-19 00:00:00 1992 August Wednesday 232       0  \n",
       "4  1992-08-21 06:00:00 1992 August Friday    234       6  \n",
       "5  1992-08-24 06:00:00 1992 August Monday    237       6  \n",
       "6  1992-08-25 06:00:00 1992 August Tuesday   238       6  \n",
       "7  1992-08-27 12:00:00 1992 August Thursday  240      12  \n",
       "8  1992-08-27 18:00:00 1992 August Thursday  240      18  \n",
       "9  1992-08-18 18:00:00 1992 August Tuesday   231      18  \n",
       "10 1992-08-22 00:00:00 1992 August Saturday  235       0  "
      ]
     },
     "metadata": {},
     "output_type": "display_data"
    }
   ],
   "source": [
    "andrew %>%\n",
    "  select(datetime) %>%\n",
    "  mutate(year = year(datetime),\n",
    "         month = months(datetime),\n",
    "         weekday = weekdays(datetime),\n",
    "         year_day = yday(datetime),\n",
    "         hour = hour(datetime)) %>%\n",
    "  sample_n(10)"
   ]
  },
  {
   "cell_type": "markdown",
   "metadata": {},
   "source": [
    "### Using ggplot2, look at patterns in max_wind by weeksday and month\n",
    "- Using dplyr, tidyr, lubridate, and ggplot2 packages:\n",
    "- After creating weekday and month varibales, set them to be factors with levels for accurate display when plotting"
   ]
  },
  {
   "cell_type": "code",
   "execution_count": 7,
   "metadata": {},
   "outputs": [
    {
     "data": {
      "text/html": [
       "<table>\n",
       "<thead><tr><th scope=col>datetime</th><th scope=col>max_wind</th><th scope=col>weekday</th><th scope=col>month</th></tr></thead>\n",
       "<tbody>\n",
       "\t<tr><td>2007-05-06 12:00:00</td><td> 35                </td><td>Sunday             </td><td>May                </td></tr>\n",
       "\t<tr><td>2001-11-29 00:00:00</td><td> 65                </td><td>Thursday           </td><td>November           </td></tr>\n",
       "\t<tr><td>1995-09-02 12:00:00</td><td> 30                </td><td>Saturday           </td><td>September          </td></tr>\n",
       "\t<tr><td>1988-10-19 00:00:00</td><td> 90                </td><td>Wednesday          </td><td>October            </td></tr>\n",
       "\t<tr><td>2002-09-23 06:00:00</td><td> 40                </td><td>Monday             </td><td>September          </td></tr>\n",
       "\t<tr><td>2003-04-18 12:00:00</td><td> 30                </td><td>Friday             </td><td>April              </td></tr>\n",
       "\t<tr><td>2004-08-27 18:00:00</td><td>100                </td><td>Friday             </td><td>August             </td></tr>\n",
       "\t<tr><td>1992-08-27 06:00:00</td><td> 30                </td><td>Thursday           </td><td>August             </td></tr>\n",
       "\t<tr><td>1994-09-25 12:00:00</td><td> 25                </td><td>Sunday             </td><td>September          </td></tr>\n",
       "\t<tr><td>2005-09-09 06:00:00</td><td> 55                </td><td>Friday             </td><td>September          </td></tr>\n",
       "</tbody>\n",
       "</table>\n"
      ],
      "text/latex": [
       "\\begin{tabular}{r|llll}\n",
       " datetime & max\\_wind & weekday & month\\\\\n",
       "\\hline\n",
       "\t 2007-05-06 12:00:00 &  35                 & Sunday              & May                \\\\\n",
       "\t 2001-11-29 00:00:00 &  65                 & Thursday            & November           \\\\\n",
       "\t 1995-09-02 12:00:00 &  30                 & Saturday            & September          \\\\\n",
       "\t 1988-10-19 00:00:00 &  90                 & Wednesday           & October            \\\\\n",
       "\t 2002-09-23 06:00:00 &  40                 & Monday              & September          \\\\\n",
       "\t 2003-04-18 12:00:00 &  30                 & Friday              & April              \\\\\n",
       "\t 2004-08-27 18:00:00 & 100                 & Friday              & August             \\\\\n",
       "\t 1992-08-27 06:00:00 &  30                 & Thursday            & August             \\\\\n",
       "\t 1994-09-25 12:00:00 &  25                 & Sunday              & September          \\\\\n",
       "\t 2005-09-09 06:00:00 &  55                 & Friday              & September          \\\\\n",
       "\\end{tabular}\n"
      ],
      "text/markdown": [
       "\n",
       "datetime | max_wind | weekday | month | \n",
       "|---|---|---|---|---|---|---|---|---|---|\n",
       "| 2007-05-06 12:00:00 |  35                 | Sunday              | May                 | \n",
       "| 2001-11-29 00:00:00 |  65                 | Thursday            | November            | \n",
       "| 1995-09-02 12:00:00 |  30                 | Saturday            | September           | \n",
       "| 1988-10-19 00:00:00 |  90                 | Wednesday           | October             | \n",
       "| 2002-09-23 06:00:00 |  40                 | Monday              | September           | \n",
       "| 2003-04-18 12:00:00 |  30                 | Friday              | April               | \n",
       "| 2004-08-27 18:00:00 | 100                 | Friday              | August              | \n",
       "| 1992-08-27 06:00:00 |  30                 | Thursday            | August              | \n",
       "| 1994-09-25 12:00:00 |  25                 | Sunday              | September           | \n",
       "| 2005-09-09 06:00:00 |  55                 | Friday              | September           | \n",
       "\n",
       "\n"
      ],
      "text/plain": [
       "   datetime            max_wind weekday   month    \n",
       "1  2007-05-06 12:00:00  35      Sunday    May      \n",
       "2  2001-11-29 00:00:00  65      Thursday  November \n",
       "3  1995-09-02 12:00:00  30      Saturday  September\n",
       "4  1988-10-19 00:00:00  90      Wednesday October  \n",
       "5  2002-09-23 06:00:00  40      Monday    September\n",
       "6  2003-04-18 12:00:00  30      Friday    April    \n",
       "7  2004-08-27 18:00:00 100      Friday    August   \n",
       "8  1992-08-27 06:00:00  30      Thursday  August   \n",
       "9  1994-09-25 12:00:00  25      Sunday    September\n",
       "10 2005-09-09 06:00:00  55      Friday    September"
      ]
     },
     "metadata": {},
     "output_type": "display_data"
    }
   ],
   "source": [
    "patterns <- hurricane %>%\n",
    "  select(month, day, hour, year, max_wind) %>%\n",
    "  unite(datetime, year, month, day, hour) %>%\n",
    "  mutate(datetime = ymd_h(datetime),\n",
    "         weekday = weekdays(datetime),\n",
    "         weekday = factor(weekday, levels = c(\"Sunday\", \"Monday\", \"Tuesday\", \"Wednesday\", \n",
    "                                              \"Thursday\", \"Friday\", \"Saturday\")),\n",
    "         month = months(datetime),\n",
    "         month = factor(month, levels = c(\"January\", \"Februrary\", \"March\", \"April\", \"May\", \"June\", \n",
    "                                          \"July\", \"August\", \"September\", \"October\", \"November\", \"December\")))\n",
    "\n",
    "patterns %>% sample_n(10)"
   ]
  },
  {
   "cell_type": "markdown",
   "metadata": {},
   "source": [
    "### Plot using ggplot2 to check patterns for weekdays and for months"
   ]
  },
  {
   "cell_type": "markdown",
   "metadata": {},
   "source": [
    "#### Weekday Patterns:"
   ]
  },
  {
   "cell_type": "code",
   "execution_count": 8,
   "metadata": {},
   "outputs": [
    {
     "data": {
      "text/html": [
       "<table>\n",
       "<thead><tr><th scope=col>grouping</th><th scope=col>ave_max_wind</th></tr></thead>\n",
       "<tbody>\n",
       "\t<tr><td>Sunday   </td><td>50.29326 </td></tr>\n",
       "\t<tr><td>Monday   </td><td>49.92836 </td></tr>\n",
       "\t<tr><td>Tuesday  </td><td>49.14007 </td></tr>\n",
       "\t<tr><td>Wednesday</td><td>49.35329 </td></tr>\n",
       "\t<tr><td>Thursday </td><td>50.93357 </td></tr>\n",
       "\t<tr><td>Friday   </td><td>49.95330 </td></tr>\n",
       "\t<tr><td>Saturday </td><td>50.17373 </td></tr>\n",
       "</tbody>\n",
       "</table>\n"
      ],
      "text/latex": [
       "\\begin{tabular}{r|ll}\n",
       " grouping & ave\\_max\\_wind\\\\\n",
       "\\hline\n",
       "\t Sunday    & 50.29326 \\\\\n",
       "\t Monday    & 49.92836 \\\\\n",
       "\t Tuesday   & 49.14007 \\\\\n",
       "\t Wednesday & 49.35329 \\\\\n",
       "\t Thursday  & 50.93357 \\\\\n",
       "\t Friday    & 49.95330 \\\\\n",
       "\t Saturday  & 50.17373 \\\\\n",
       "\\end{tabular}\n"
      ],
      "text/markdown": [
       "\n",
       "grouping | ave_max_wind | \n",
       "|---|---|---|---|---|---|---|\n",
       "| Sunday    | 50.29326  | \n",
       "| Monday    | 49.92836  | \n",
       "| Tuesday   | 49.14007  | \n",
       "| Wednesday | 49.35329  | \n",
       "| Thursday  | 50.93357  | \n",
       "| Friday    | 49.95330  | \n",
       "| Saturday  | 50.17373  | \n",
       "\n",
       "\n"
      ],
      "text/plain": [
       "  grouping  ave_max_wind\n",
       "1 Sunday    50.29326    \n",
       "2 Monday    49.92836    \n",
       "3 Tuesday   49.14007    \n",
       "4 Wednesday 49.35329    \n",
       "5 Thursday  50.93357    \n",
       "6 Friday    49.95330    \n",
       "7 Saturday  50.17373    "
      ]
     },
     "metadata": {},
     "output_type": "display_data"
    }
   ],
   "source": [
    "pattern_weekdays <- patterns %>%\n",
    "  group_by(weekday) %>%\n",
    "  summarize(ave_max_wind = mean(max_wind)) %>%\n",
    "  rename(grouping = weekday)\n",
    "  \n",
    "pattern_weekdays"
   ]
  },
  {
   "cell_type": "markdown",
   "metadata": {},
   "source": [
    "#### Monthly Patterns:\n"
   ]
  },
  {
   "cell_type": "code",
   "execution_count": 9,
   "metadata": {},
   "outputs": [
    {
     "data": {
      "text/html": [
       "<table>\n",
       "<thead><tr><th scope=col>grouping</th><th scope=col>ave_max_wind</th></tr></thead>\n",
       "<tbody>\n",
       "\t<tr><td>January  </td><td>41.96429 </td></tr>\n",
       "\t<tr><td>April    </td><td>37.07547 </td></tr>\n",
       "\t<tr><td>May      </td><td>36.06195 </td></tr>\n",
       "\t<tr><td>June     </td><td>35.26786 </td></tr>\n",
       "\t<tr><td>July     </td><td>42.79981 </td></tr>\n",
       "\t<tr><td>August   </td><td>49.39716 </td></tr>\n",
       "\t<tr><td>September</td><td>54.85795 </td></tr>\n",
       "\t<tr><td>October  </td><td>49.60255 </td></tr>\n",
       "\t<tr><td>November </td><td>47.78761 </td></tr>\n",
       "\t<tr><td>December </td><td>42.17514 </td></tr>\n",
       "</tbody>\n",
       "</table>\n"
      ],
      "text/latex": [
       "\\begin{tabular}{r|ll}\n",
       " grouping & ave\\_max\\_wind\\\\\n",
       "\\hline\n",
       "\t January   & 41.96429 \\\\\n",
       "\t April     & 37.07547 \\\\\n",
       "\t May       & 36.06195 \\\\\n",
       "\t June      & 35.26786 \\\\\n",
       "\t July      & 42.79981 \\\\\n",
       "\t August    & 49.39716 \\\\\n",
       "\t September & 54.85795 \\\\\n",
       "\t October   & 49.60255 \\\\\n",
       "\t November  & 47.78761 \\\\\n",
       "\t December  & 42.17514 \\\\\n",
       "\\end{tabular}\n"
      ],
      "text/markdown": [
       "\n",
       "grouping | ave_max_wind | \n",
       "|---|---|---|---|---|---|---|---|---|---|\n",
       "| January   | 41.96429  | \n",
       "| April     | 37.07547  | \n",
       "| May       | 36.06195  | \n",
       "| June      | 35.26786  | \n",
       "| July      | 42.79981  | \n",
       "| August    | 49.39716  | \n",
       "| September | 54.85795  | \n",
       "| October   | 49.60255  | \n",
       "| November  | 47.78761  | \n",
       "| December  | 42.17514  | \n",
       "\n",
       "\n"
      ],
      "text/plain": [
       "   grouping  ave_max_wind\n",
       "1  January   41.96429    \n",
       "2  April     37.07547    \n",
       "3  May       36.06195    \n",
       "4  June      35.26786    \n",
       "5  July      42.79981    \n",
       "6  August    49.39716    \n",
       "7  September 54.85795    \n",
       "8  October   49.60255    \n",
       "9  November  47.78761    \n",
       "10 December  42.17514    "
      ]
     },
     "metadata": {},
     "output_type": "display_data"
    }
   ],
   "source": [
    "pattern_months <- patterns %>%\n",
    "  group_by(month) %>%\n",
    "  summarize(ave_max_wind = mean(max_wind)) %>%\n",
    "  rename(grouping = month)\n",
    "\n",
    "pattern_months"
   ]
  },
  {
   "cell_type": "markdown",
   "metadata": {},
   "source": [
    "### Plot with ggplot2\n",
    "- Use grid.arrange() function from \"gridExtra\" packageTo arrange different ggplot objects in the same plot\n",
    "- Use %+% function to reuse the code for both graphs, substituting only the data frame"
   ]
  },
  {
   "cell_type": "code",
   "execution_count": 10,
   "metadata": {},
   "outputs": [
    {
     "name": "stderr",
     "output_type": "stream",
     "text": [
      "\n",
      "Attaching package: ‘gridExtra’\n",
      "\n",
      "The following object is masked from ‘package:dplyr’:\n",
      "\n",
      "    combine\n",
      "\n"
     ]
    }
   ],
   "source": [
    "library(gridExtra)"
   ]
  },
  {
   "cell_type": "code",
   "execution_count": 11,
   "metadata": {
    "collapsed": true
   },
   "outputs": [],
   "source": [
    "a <- ggplot(pattern_weekdays, \n",
    "            aes(x = grouping, y = ave_max_wind)) + \n",
    "            geom_bar(stat = \"identity\") +\n",
    "            xlab(\"\")"
   ]
  },
  {
   "cell_type": "code",
   "execution_count": 12,
   "metadata": {
    "collapsed": true
   },
   "outputs": [],
   "source": [
    "b <- a %+% pattern_months"
   ]
  },
  {
   "cell_type": "code",
   "execution_count": 13,
   "metadata": {},
   "outputs": [
    {
     "data": {
      "image/png": "[encoded data removed]",
      "text/plain": [
       "plot without title"
      ]
     },
     "metadata": {},
     "output_type": "display_data"
    }
   ],
   "source": [
    "grid.arrange(a, b, ncol=1)"
   ]
  },
  {
   "cell_type": "markdown",
   "metadata": {},
   "source": [
    "#### Analysis:\n",
    "- No pattern in storm intensity by day\n",
    "- But there is pattern when looking by months, highest average wind speed is in September"
   ]
  }
 ],
 "metadata": {
  "kernelspec": {
   "display_name": "R",
   "language": "R",
   "name": "ir"
  },
  "language_info": {
   "codemirror_mode": "r",
   "file_extension": ".r",
   "mimetype": "text/x-r-source",
   "name": "R",
   "pygments_lexer": "r",
   "version": "3.4.1"
  }
 },
 "nbformat": 4,
 "nbformat_minor": 2
}
