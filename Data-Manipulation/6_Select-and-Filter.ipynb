{
 "cells": [
  {
   "cell_type": "markdown",
   "metadata": {},
   "source": [
    "# Basic Data Manipulation with dplyr"
   ]
  },
  {
   "cell_type": "markdown",
   "metadata": {},
   "source": [
    "### Load required Tidyverse packages"
   ]
  },
  {
   "cell_type": "code",
   "execution_count": 1,
   "metadata": {},
   "outputs": [
    {
     "name": "stderr",
     "output_type": "stream",
     "text": [
      "\n",
      "Attaching package: ‘dplyr’\n",
      "\n",
      "The following objects are masked from ‘package:stats’:\n",
      "\n",
      "    filter, lag\n",
      "\n",
      "The following objects are masked from ‘package:base’:\n",
      "\n",
      "    intersect, setdiff, setequal, union\n",
      "\n"
     ]
    }
   ],
   "source": [
    "library(readr)\n",
    "library(dplyr)\n",
    "library(tibble)"
   ]
  },
  {
   "cell_type": "markdown",
   "metadata": {},
   "source": [
    "### Read in Hurricane Data that was saved as a csv file from a flat file online"
   ]
  },
  {
   "cell_type": "code",
   "execution_count": 2,
   "metadata": {},
   "outputs": [
    {
     "name": "stderr",
     "output_type": "stream",
     "text": [
      "Parsed with column specification:\n",
      "cols(\n",
      "  .default = col_integer(),\n",
      "  storm_id = col_character(),\n",
      "  storm_name = col_character(),\n",
      "  month = col_character(),\n",
      "  day = col_character(),\n",
      "  hour = col_character(),\n",
      "  latitude = col_double(),\n",
      "  longitude = col_double(),\n",
      "  storm_type = col_character(),\n",
      "  final = col_character()\n",
      ")\n",
      "See spec(...) for full column specifications.\n"
     ]
    },
    {
     "data": {
      "text/html": [
       "<table>\n",
       "<thead><tr><th scope=col>storm_id</th><th scope=col>storm_name</th><th scope=col>month</th><th scope=col>day</th><th scope=col>hour</th><th scope=col>year</th><th scope=col>latitude</th><th scope=col>longitude</th><th scope=col>max_wind</th><th scope=col>min_pressure</th></tr></thead>\n",
       "<tbody>\n",
       "\t<tr><td>AL0188 </td><td>ALBERTO</td><td>08     </td><td>05     </td><td>18     </td><td>1988   </td><td>32.0   </td><td>77.5   </td><td>20     </td><td>1015   </td></tr>\n",
       "\t<tr><td>AL0188 </td><td>ALBERTO</td><td>08     </td><td>06     </td><td>00     </td><td>1988   </td><td>32.8   </td><td>76.2   </td><td>20     </td><td>1014   </td></tr>\n",
       "\t<tr><td>AL0188 </td><td>ALBERTO</td><td>08     </td><td>06     </td><td>06     </td><td>1988   </td><td>34.0   </td><td>75.2   </td><td>20     </td><td>1013   </td></tr>\n",
       "\t<tr><td>AL0188 </td><td>ALBERTO</td><td>08     </td><td>06     </td><td>12     </td><td>1988   </td><td>35.2   </td><td>74.6   </td><td>25     </td><td>1012   </td></tr>\n",
       "\t<tr><td>AL0188 </td><td>ALBERTO</td><td>08     </td><td>06     </td><td>18     </td><td>1988   </td><td>37.0   </td><td>73.5   </td><td>25     </td><td>1011   </td></tr>\n",
       "</tbody>\n",
       "</table>\n"
      ],
      "text/latex": [
       "\\begin{tabular}{r|llllllllll}\n",
       " storm\\_id & storm\\_name & month & day & hour & year & latitude & longitude & max\\_wind & min\\_pressure\\\\\n",
       "\\hline\n",
       "\t AL0188  & ALBERTO & 08      & 05      & 18      & 1988    & 32.0    & 77.5    & 20      & 1015   \\\\\n",
       "\t AL0188  & ALBERTO & 08      & 06      & 00      & 1988    & 32.8    & 76.2    & 20      & 1014   \\\\\n",
       "\t AL0188  & ALBERTO & 08      & 06      & 06      & 1988    & 34.0    & 75.2    & 20      & 1013   \\\\\n",
       "\t AL0188  & ALBERTO & 08      & 06      & 12      & 1988    & 35.2    & 74.6    & 25      & 1012   \\\\\n",
       "\t AL0188  & ALBERTO & 08      & 06      & 18      & 1988    & 37.0    & 73.5    & 25      & 1011   \\\\\n",
       "\\end{tabular}\n"
      ],
      "text/markdown": [
       "\n",
       "storm_id | storm_name | month | day | hour | year | latitude | longitude | max_wind | min_pressure | \n",
       "|---|---|---|---|---|\n",
       "| AL0188  | ALBERTO | 08      | 05      | 18      | 1988    | 32.0    | 77.5    | 20      | 1015    | \n",
       "| AL0188  | ALBERTO | 08      | 06      | 00      | 1988    | 32.8    | 76.2    | 20      | 1014    | \n",
       "| AL0188  | ALBERTO | 08      | 06      | 06      | 1988    | 34.0    | 75.2    | 20      | 1013    | \n",
       "| AL0188  | ALBERTO | 08      | 06      | 12      | 1988    | 35.2    | 74.6    | 25      | 1012    | \n",
       "| AL0188  | ALBERTO | 08      | 06      | 18      | 1988    | 37.0    | 73.5    | 25      | 1011    | \n",
       "\n",
       "\n"
      ],
      "text/plain": [
       "  storm_id storm_name month day hour year latitude longitude max_wind\n",
       "1 AL0188   ALBERTO    08    05  18   1988 32.0     77.5      20      \n",
       "2 AL0188   ALBERTO    08    06  00   1988 32.8     76.2      20      \n",
       "3 AL0188   ALBERTO    08    06  06   1988 34.0     75.2      20      \n",
       "4 AL0188   ALBERTO    08    06  12   1988 35.2     74.6      25      \n",
       "5 AL0188   ALBERTO    08    06  18   1988 37.0     73.5      25      \n",
       "  min_pressure\n",
       "1 1015        \n",
       "2 1014        \n",
       "3 1013        \n",
       "4 1012        \n",
       "5 1011        "
      ]
     },
     "metadata": {},
     "output_type": "display_data"
    }
   ],
   "source": [
    "hurricane <- read_csv(\"Data/hurricane_data.csv\")\n",
    "hurricane[1:5, 1:10]"
   ]
  },
  {
   "cell_type": "markdown",
   "metadata": {},
   "source": [
    "#### Convert data frame into a local data frame (tibble) with as_tibble(), used to be tbl_df()\n",
    "- Doesn't display roperly in Jupyter notebook"
   ]
  },
  {
   "cell_type": "code",
   "execution_count": 3,
   "metadata": {},
   "outputs": [
    {
     "data": {
      "text/html": [
       "<table>\n",
       "<thead><tr><th scope=col>storm_id</th><th scope=col>storm_name</th><th scope=col>month</th><th scope=col>day</th><th scope=col>hour</th><th scope=col>year</th><th scope=col>latitude</th><th scope=col>longitude</th><th scope=col>max_wind</th><th scope=col>min_pressure</th><th scope=col>⋯</th><th scope=col>radius_50_se</th><th scope=col>radius_50_sw</th><th scope=col>radius_50_nw</th><th scope=col>radius_64_ne</th><th scope=col>radius_64_se</th><th scope=col>radius_64_sw</th><th scope=col>radius_64_nw</th><th scope=col>storm_type</th><th scope=col>distance_to_land</th><th scope=col>final</th></tr></thead>\n",
       "<tbody>\n",
       "\t<tr><td>AL0188 </td><td>ALBERTO</td><td>08     </td><td>05     </td><td>18     </td><td>1988   </td><td>32.0   </td><td>77.5   </td><td>20     </td><td>1015   </td><td>⋯      </td><td>0      </td><td>0      </td><td>0      </td><td>0      </td><td>0      </td><td>0      </td><td>0      </td><td>*      </td><td>218    </td><td>.      </td></tr>\n",
       "\t<tr><td>AL0188 </td><td>ALBERTO</td><td>08     </td><td>06     </td><td>00     </td><td>1988   </td><td>32.8   </td><td>76.2   </td><td>20     </td><td>1014   </td><td>⋯      </td><td>0      </td><td>0      </td><td>0      </td><td>0      </td><td>0      </td><td>0      </td><td>0      </td><td>*      </td><td>213    </td><td>.      </td></tr>\n",
       "\t<tr><td>AL0188 </td><td>ALBERTO</td><td>08     </td><td>06     </td><td>06     </td><td>1988   </td><td>34.0   </td><td>75.2   </td><td>20     </td><td>1013   </td><td>⋯      </td><td>0      </td><td>0      </td><td>0      </td><td>0      </td><td>0      </td><td>0      </td><td>0      </td><td>*      </td><td>149    </td><td>.      </td></tr>\n",
       "\t<tr><td>AL0188 </td><td>ALBERTO</td><td>08     </td><td>06     </td><td>12     </td><td>1988   </td><td>35.2   </td><td>74.6   </td><td>25     </td><td>1012   </td><td>⋯      </td><td>0      </td><td>0      </td><td>0      </td><td>0      </td><td>0      </td><td>0      </td><td>0      </td><td>*      </td><td>126    </td><td>.      </td></tr>\n",
       "\t<tr><td>AL0188 </td><td>ALBERTO</td><td>08     </td><td>06     </td><td>18     </td><td>1988   </td><td>37.0   </td><td>73.5   </td><td>25     </td><td>1011   </td><td>⋯      </td><td>0      </td><td>0      </td><td>0      </td><td>0      </td><td>0      </td><td>0      </td><td>0      </td><td>*      </td><td>197    </td><td>.      </td></tr>\n",
       "\t<tr><td>AL0188 </td><td>ALBERTO</td><td>08     </td><td>07     </td><td>00     </td><td>1988   </td><td>38.7   </td><td>72.4   </td><td>25     </td><td>1009   </td><td>⋯      </td><td>0      </td><td>0      </td><td>0      </td><td>0      </td><td>0      </td><td>0      </td><td>0      </td><td>*      </td><td>193    </td><td>.      </td></tr>\n",
       "</tbody>\n",
       "</table>\n"
      ],
      "text/latex": [
       "\\begin{tabular}{r|lllllllllllllllllllllllllllll}\n",
       " storm\\_id & storm\\_name & month & day & hour & year & latitude & longitude & max\\_wind & min\\_pressure & ⋯ & radius\\_50\\_se & radius\\_50\\_sw & radius\\_50\\_nw & radius\\_64\\_ne & radius\\_64\\_se & radius\\_64\\_sw & radius\\_64\\_nw & storm\\_type & distance\\_to\\_land & final\\\\\n",
       "\\hline\n",
       "\t AL0188  & ALBERTO & 08      & 05      & 18      & 1988    & 32.0    & 77.5    & 20      & 1015    & ⋯       & 0       & 0       & 0       & 0       & 0       & 0       & 0       & *       & 218     & .      \\\\\n",
       "\t AL0188  & ALBERTO & 08      & 06      & 00      & 1988    & 32.8    & 76.2    & 20      & 1014    & ⋯       & 0       & 0       & 0       & 0       & 0       & 0       & 0       & *       & 213     & .      \\\\\n",
       "\t AL0188  & ALBERTO & 08      & 06      & 06      & 1988    & 34.0    & 75.2    & 20      & 1013    & ⋯       & 0       & 0       & 0       & 0       & 0       & 0       & 0       & *       & 149     & .      \\\\\n",
       "\t AL0188  & ALBERTO & 08      & 06      & 12      & 1988    & 35.2    & 74.6    & 25      & 1012    & ⋯       & 0       & 0       & 0       & 0       & 0       & 0       & 0       & *       & 126     & .      \\\\\n",
       "\t AL0188  & ALBERTO & 08      & 06      & 18      & 1988    & 37.0    & 73.5    & 25      & 1011    & ⋯       & 0       & 0       & 0       & 0       & 0       & 0       & 0       & *       & 197     & .      \\\\\n",
       "\t AL0188  & ALBERTO & 08      & 07      & 00      & 1988    & 38.7    & 72.4    & 25      & 1009    & ⋯       & 0       & 0       & 0       & 0       & 0       & 0       & 0       & *       & 193     & .      \\\\\n",
       "\\end{tabular}\n"
      ],
      "text/markdown": [
       "\n",
       "storm_id | storm_name | month | day | hour | year | latitude | longitude | max_wind | min_pressure | ⋯ | radius_50_se | radius_50_sw | radius_50_nw | radius_64_ne | radius_64_se | radius_64_sw | radius_64_nw | storm_type | distance_to_land | final | \n",
       "|---|---|---|---|---|---|\n",
       "| AL0188  | ALBERTO | 08      | 05      | 18      | 1988    | 32.0    | 77.5    | 20      | 1015    | ⋯       | 0       | 0       | 0       | 0       | 0       | 0       | 0       | *       | 218     | .       | \n",
       "| AL0188  | ALBERTO | 08      | 06      | 00      | 1988    | 32.8    | 76.2    | 20      | 1014    | ⋯       | 0       | 0       | 0       | 0       | 0       | 0       | 0       | *       | 213     | .       | \n",
       "| AL0188  | ALBERTO | 08      | 06      | 06      | 1988    | 34.0    | 75.2    | 20      | 1013    | ⋯       | 0       | 0       | 0       | 0       | 0       | 0       | 0       | *       | 149     | .       | \n",
       "| AL0188  | ALBERTO | 08      | 06      | 12      | 1988    | 35.2    | 74.6    | 25      | 1012    | ⋯       | 0       | 0       | 0       | 0       | 0       | 0       | 0       | *       | 126     | .       | \n",
       "| AL0188  | ALBERTO | 08      | 06      | 18      | 1988    | 37.0    | 73.5    | 25      | 1011    | ⋯       | 0       | 0       | 0       | 0       | 0       | 0       | 0       | *       | 197     | .       | \n",
       "| AL0188  | ALBERTO | 08      | 07      | 00      | 1988    | 38.7    | 72.4    | 25      | 1009    | ⋯       | 0       | 0       | 0       | 0       | 0       | 0       | 0       | *       | 193     | .       | \n",
       "\n",
       "\n"
      ],
      "text/plain": [
       "  storm_id storm_name month day hour year latitude longitude max_wind\n",
       "1 AL0188   ALBERTO    08    05  18   1988 32.0     77.5      20      \n",
       "2 AL0188   ALBERTO    08    06  00   1988 32.8     76.2      20      \n",
       "3 AL0188   ALBERTO    08    06  06   1988 34.0     75.2      20      \n",
       "4 AL0188   ALBERTO    08    06  12   1988 35.2     74.6      25      \n",
       "5 AL0188   ALBERTO    08    06  18   1988 37.0     73.5      25      \n",
       "6 AL0188   ALBERTO    08    07  00   1988 38.7     72.4      25      \n",
       "  min_pressure ⋯ radius_50_se radius_50_sw radius_50_nw radius_64_ne\n",
       "1 1015         ⋯ 0            0            0            0           \n",
       "2 1014         ⋯ 0            0            0            0           \n",
       "3 1013         ⋯ 0            0            0            0           \n",
       "4 1012         ⋯ 0            0            0            0           \n",
       "5 1011         ⋯ 0            0            0            0           \n",
       "6 1009         ⋯ 0            0            0            0           \n",
       "  radius_64_se radius_64_sw radius_64_nw storm_type distance_to_land final\n",
       "1 0            0            0            *          218              .    \n",
       "2 0            0            0            *          213              .    \n",
       "3 0            0            0            *          149              .    \n",
       "4 0            0            0            *          126              .    \n",
       "5 0            0            0            *          197              .    \n",
       "6 0            0            0            *          193              .    "
      ]
     },
     "metadata": {},
     "output_type": "display_data"
    }
   ],
   "source": [
    "hurricane <- as_tibble(hurricane)\n",
    "head(hurricane)"
   ]
  },
  {
   "cell_type": "markdown",
   "metadata": {},
   "source": [
    "# Selecting Columns and Filtering Rows:\n",
    "- Filter: to subset Rows\n",
    "- Select: to subset Columns"
   ]
  },
  {
   "cell_type": "markdown",
   "metadata": {},
   "source": [
    "### Example using Base R:\n",
    "- Looking at time, date, and maximum winds for Katrina of the Hurricane Data"
   ]
  },
  {
   "cell_type": "code",
   "execution_count": 4,
   "metadata": {},
   "outputs": [
    {
     "data": {
      "text/html": [
       "<table>\n",
       "<thead><tr><th scope=col>month</th><th scope=col>day</th><th scope=col>hour</th><th scope=col>max_wind</th></tr></thead>\n",
       "<tbody>\n",
       "\t<tr><td>10</td><td>28</td><td>18</td><td>30</td></tr>\n",
       "\t<tr><td>10</td><td>29</td><td>00</td><td>30</td></tr>\n",
       "\t<tr><td>10</td><td>29</td><td>06</td><td>30</td></tr>\n",
       "\t<tr><td>10</td><td>29</td><td>12</td><td>30</td></tr>\n",
       "\t<tr><td>10</td><td>29</td><td>18</td><td>35</td></tr>\n",
       "\t<tr><td>10</td><td>30</td><td>00</td><td>35</td></tr>\n",
       "</tbody>\n",
       "</table>\n"
      ],
      "text/latex": [
       "\\begin{tabular}{r|llll}\n",
       " month & day & hour & max\\_wind\\\\\n",
       "\\hline\n",
       "\t 10 & 28 & 18 & 30\\\\\n",
       "\t 10 & 29 & 00 & 30\\\\\n",
       "\t 10 & 29 & 06 & 30\\\\\n",
       "\t 10 & 29 & 12 & 30\\\\\n",
       "\t 10 & 29 & 18 & 35\\\\\n",
       "\t 10 & 30 & 00 & 35\\\\\n",
       "\\end{tabular}\n"
      ],
      "text/markdown": [
       "\n",
       "month | day | hour | max_wind | \n",
       "|---|---|---|---|---|---|\n",
       "| 10 | 28 | 18 | 30 | \n",
       "| 10 | 29 | 00 | 30 | \n",
       "| 10 | 29 | 06 | 30 | \n",
       "| 10 | 29 | 12 | 30 | \n",
       "| 10 | 29 | 18 | 35 | \n",
       "| 10 | 30 | 00 | 35 | \n",
       "\n",
       "\n"
      ],
      "text/plain": [
       "  month day hour max_wind\n",
       "1 10    28  18   30      \n",
       "2 10    29  00   30      \n",
       "3 10    29  06   30      \n",
       "4 10    29  12   30      \n",
       "5 10    29  18   35      \n",
       "6 10    30  00   35      "
      ]
     },
     "metadata": {},
     "output_type": "display_data"
    }
   ],
   "source": [
    "katrina <- hurricane[hurricane$storm_name == \"KATRINA\", ]\n",
    "katrina <- katrina[ , c('month', 'day', 'hour', 'max_wind')]\n",
    "head(katrina)"
   ]
  },
  {
   "cell_type": "code",
   "execution_count": 5,
   "metadata": {},
   "outputs": [
    {
     "data": {
      "text/html": [
       "<table>\n",
       "<thead><tr><th scope=col>month</th><th scope=col>day</th><th scope=col>hour</th><th scope=col>max_wind</th></tr></thead>\n",
       "<tbody>\n",
       "\t<tr><td>10</td><td>28</td><td>18</td><td>30</td></tr>\n",
       "\t<tr><td>10</td><td>29</td><td>00</td><td>30</td></tr>\n",
       "\t<tr><td>10</td><td>29</td><td>06</td><td>30</td></tr>\n",
       "\t<tr><td>10</td><td>29</td><td>12</td><td>30</td></tr>\n",
       "\t<tr><td>10</td><td>29</td><td>18</td><td>35</td></tr>\n",
       "\t<tr><td>10</td><td>30</td><td>00</td><td>35</td></tr>\n",
       "</tbody>\n",
       "</table>\n"
      ],
      "text/latex": [
       "\\begin{tabular}{r|llll}\n",
       " month & day & hour & max\\_wind\\\\\n",
       "\\hline\n",
       "\t 10 & 28 & 18 & 30\\\\\n",
       "\t 10 & 29 & 00 & 30\\\\\n",
       "\t 10 & 29 & 06 & 30\\\\\n",
       "\t 10 & 29 & 12 & 30\\\\\n",
       "\t 10 & 29 & 18 & 35\\\\\n",
       "\t 10 & 30 & 00 & 35\\\\\n",
       "\\end{tabular}\n"
      ],
      "text/markdown": [
       "\n",
       "month | day | hour | max_wind | \n",
       "|---|---|---|---|---|---|\n",
       "| 10 | 28 | 18 | 30 | \n",
       "| 10 | 29 | 00 | 30 | \n",
       "| 10 | 29 | 06 | 30 | \n",
       "| 10 | 29 | 12 | 30 | \n",
       "| 10 | 29 | 18 | 35 | \n",
       "| 10 | 30 | 00 | 35 | \n",
       "\n",
       "\n"
      ],
      "text/plain": [
       "  month day hour max_wind\n",
       "1 10    28  18   30      \n",
       "2 10    29  00   30      \n",
       "3 10    29  06   30      \n",
       "4 10    29  12   30      \n",
       "5 10    29  18   35      \n",
       "6 10    30  00   35      "
      ]
     },
     "metadata": {},
     "output_type": "display_data"
    }
   ],
   "source": [
    "#Same as above in one line:\n",
    "katrina <- hurricane[hurricane$storm_name == \"KATRINA\", c('month', 'day', 'hour', 'max_wind')]\n",
    "head(katrina)"
   ]
  },
  {
   "cell_type": "markdown",
   "metadata": {},
   "source": [
    "### Example using dplyr without Piping"
   ]
  },
  {
   "cell_type": "code",
   "execution_count": 6,
   "metadata": {},
   "outputs": [
    {
     "data": {
      "text/html": [
       "<table>\n",
       "<thead><tr><th scope=col>month</th><th scope=col>day</th><th scope=col>hour</th><th scope=col>max_wind</th></tr></thead>\n",
       "<tbody>\n",
       "\t<tr><td>10</td><td>28</td><td>18</td><td>30</td></tr>\n",
       "\t<tr><td>10</td><td>29</td><td>00</td><td>30</td></tr>\n",
       "\t<tr><td>10</td><td>29</td><td>06</td><td>30</td></tr>\n",
       "\t<tr><td>10</td><td>29</td><td>12</td><td>30</td></tr>\n",
       "\t<tr><td>10</td><td>29</td><td>18</td><td>35</td></tr>\n",
       "\t<tr><td>10</td><td>30</td><td>00</td><td>35</td></tr>\n",
       "</tbody>\n",
       "</table>\n"
      ],
      "text/latex": [
       "\\begin{tabular}{r|llll}\n",
       " month & day & hour & max\\_wind\\\\\n",
       "\\hline\n",
       "\t 10 & 28 & 18 & 30\\\\\n",
       "\t 10 & 29 & 00 & 30\\\\\n",
       "\t 10 & 29 & 06 & 30\\\\\n",
       "\t 10 & 29 & 12 & 30\\\\\n",
       "\t 10 & 29 & 18 & 35\\\\\n",
       "\t 10 & 30 & 00 & 35\\\\\n",
       "\\end{tabular}\n"
      ],
      "text/markdown": [
       "\n",
       "month | day | hour | max_wind | \n",
       "|---|---|---|---|---|---|\n",
       "| 10 | 28 | 18 | 30 | \n",
       "| 10 | 29 | 00 | 30 | \n",
       "| 10 | 29 | 06 | 30 | \n",
       "| 10 | 29 | 12 | 30 | \n",
       "| 10 | 29 | 18 | 35 | \n",
       "| 10 | 30 | 00 | 35 | \n",
       "\n",
       "\n"
      ],
      "text/plain": [
       "  month day hour max_wind\n",
       "1 10    28  18   30      \n",
       "2 10    29  00   30      \n",
       "3 10    29  06   30      \n",
       "4 10    29  12   30      \n",
       "5 10    29  18   35      \n",
       "6 10    30  00   35      "
      ]
     },
     "metadata": {},
     "output_type": "display_data"
    }
   ],
   "source": [
    "#Filter to get rows of only Katrina: \n",
    "katrina <- filter(hurricane, storm_name == \"KATRINA\")\n",
    "#Select the columns:\n",
    "katrina <- select(katrina, month, day, hour, max_wind)\n",
    "head(katrina)"
   ]
  },
  {
   "cell_type": "code",
   "execution_count": 7,
   "metadata": {},
   "outputs": [
    {
     "data": {
      "text/html": [
       "<table>\n",
       "<thead><tr><th scope=col>month</th><th scope=col>day</th><th scope=col>hour</th><th scope=col>max_wind</th></tr></thead>\n",
       "<tbody>\n",
       "\t<tr><td>10</td><td>28</td><td>18</td><td>30</td></tr>\n",
       "\t<tr><td>10</td><td>29</td><td>00</td><td>30</td></tr>\n",
       "\t<tr><td>10</td><td>29</td><td>06</td><td>30</td></tr>\n",
       "\t<tr><td>10</td><td>29</td><td>12</td><td>30</td></tr>\n",
       "\t<tr><td>10</td><td>29</td><td>18</td><td>35</td></tr>\n",
       "\t<tr><td>10</td><td>30</td><td>00</td><td>35</td></tr>\n",
       "</tbody>\n",
       "</table>\n"
      ],
      "text/latex": [
       "\\begin{tabular}{r|llll}\n",
       " month & day & hour & max\\_wind\\\\\n",
       "\\hline\n",
       "\t 10 & 28 & 18 & 30\\\\\n",
       "\t 10 & 29 & 00 & 30\\\\\n",
       "\t 10 & 29 & 06 & 30\\\\\n",
       "\t 10 & 29 & 12 & 30\\\\\n",
       "\t 10 & 29 & 18 & 35\\\\\n",
       "\t 10 & 30 & 00 & 35\\\\\n",
       "\\end{tabular}\n"
      ],
      "text/markdown": [
       "\n",
       "month | day | hour | max_wind | \n",
       "|---|---|---|---|---|---|\n",
       "| 10 | 28 | 18 | 30 | \n",
       "| 10 | 29 | 00 | 30 | \n",
       "| 10 | 29 | 06 | 30 | \n",
       "| 10 | 29 | 12 | 30 | \n",
       "| 10 | 29 | 18 | 35 | \n",
       "| 10 | 30 | 00 | 35 | \n",
       "\n",
       "\n"
      ],
      "text/plain": [
       "  month day hour max_wind\n",
       "1 10    28  18   30      \n",
       "2 10    29  00   30      \n",
       "3 10    29  06   30      \n",
       "4 10    29  12   30      \n",
       "5 10    29  18   35      \n",
       "6 10    30  00   35      "
      ]
     },
     "metadata": {},
     "output_type": "display_data"
    }
   ],
   "source": [
    "#Same as above in one line\n",
    "katrina <- select(filter(hurricane, storm_name == \"KATRINA\"), month, day, hour, max_wind)\n",
    "head(katrina)"
   ]
  },
  {
   "cell_type": "markdown",
   "metadata": {},
   "source": [
    "### Example using dplyr and Piping"
   ]
  },
  {
   "cell_type": "code",
   "execution_count": 8,
   "metadata": {},
   "outputs": [
    {
     "data": {
      "text/html": [
       "<table>\n",
       "<thead><tr><th scope=col>month</th><th scope=col>day</th><th scope=col>hour</th><th scope=col>max_wind</th></tr></thead>\n",
       "<tbody>\n",
       "\t<tr><td>10</td><td>28</td><td>18</td><td>30</td></tr>\n",
       "\t<tr><td>10</td><td>29</td><td>00</td><td>30</td></tr>\n",
       "\t<tr><td>10</td><td>29</td><td>06</td><td>30</td></tr>\n",
       "\t<tr><td>10</td><td>29</td><td>12</td><td>30</td></tr>\n",
       "\t<tr><td>10</td><td>29</td><td>18</td><td>35</td></tr>\n",
       "\t<tr><td>10</td><td>30</td><td>00</td><td>35</td></tr>\n",
       "</tbody>\n",
       "</table>\n"
      ],
      "text/latex": [
       "\\begin{tabular}{r|llll}\n",
       " month & day & hour & max\\_wind\\\\\n",
       "\\hline\n",
       "\t 10 & 28 & 18 & 30\\\\\n",
       "\t 10 & 29 & 00 & 30\\\\\n",
       "\t 10 & 29 & 06 & 30\\\\\n",
       "\t 10 & 29 & 12 & 30\\\\\n",
       "\t 10 & 29 & 18 & 35\\\\\n",
       "\t 10 & 30 & 00 & 35\\\\\n",
       "\\end{tabular}\n"
      ],
      "text/markdown": [
       "\n",
       "month | day | hour | max_wind | \n",
       "|---|---|---|---|---|---|\n",
       "| 10 | 28 | 18 | 30 | \n",
       "| 10 | 29 | 00 | 30 | \n",
       "| 10 | 29 | 06 | 30 | \n",
       "| 10 | 29 | 12 | 30 | \n",
       "| 10 | 29 | 18 | 35 | \n",
       "| 10 | 30 | 00 | 35 | \n",
       "\n",
       "\n"
      ],
      "text/plain": [
       "  month day hour max_wind\n",
       "1 10    28  18   30      \n",
       "2 10    29  00   30      \n",
       "3 10    29  06   30      \n",
       "4 10    29  12   30      \n",
       "5 10    29  18   35      \n",
       "6 10    30  00   35      "
      ]
     },
     "metadata": {},
     "output_type": "display_data"
    }
   ],
   "source": [
    "katrina <- hurricane %>% \n",
    "  filter(storm_name == \"KATRINA\") %>%\n",
    "  select(month, day, hour, max_wind)\n",
    "\n",
    "head(katrina)"
   ]
  },
  {
   "cell_type": "markdown",
   "metadata": {},
   "source": [
    "<hr>"
   ]
  },
  {
   "cell_type": "markdown",
   "metadata": {},
   "source": [
    "# Using select() function:"
   ]
  },
  {
   "cell_type": "code",
   "execution_count": 9,
   "metadata": {},
   "outputs": [
    {
     "data": {
      "text/html": [
       "<table>\n",
       "<thead><tr><th scope=col>storm_name</th><th scope=col>month</th><th scope=col>day</th><th scope=col>hour</th><th scope=col>year</th><th scope=col>latitude</th><th scope=col>longitude</th><th scope=col>max_wind</th></tr></thead>\n",
       "<tbody>\n",
       "\t<tr><td>ALBERTO</td><td>08     </td><td>05     </td><td>18     </td><td>1988   </td><td>32.0   </td><td>77.5   </td><td>20     </td></tr>\n",
       "\t<tr><td>ALBERTO</td><td>08     </td><td>06     </td><td>00     </td><td>1988   </td><td>32.8   </td><td>76.2   </td><td>20     </td></tr>\n",
       "\t<tr><td>ALBERTO</td><td>08     </td><td>06     </td><td>06     </td><td>1988   </td><td>34.0   </td><td>75.2   </td><td>20     </td></tr>\n",
       "\t<tr><td>ALBERTO</td><td>08     </td><td>06     </td><td>12     </td><td>1988   </td><td>35.2   </td><td>74.6   </td><td>25     </td></tr>\n",
       "\t<tr><td>ALBERTO</td><td>08     </td><td>06     </td><td>18     </td><td>1988   </td><td>37.0   </td><td>73.5   </td><td>25     </td></tr>\n",
       "\t<tr><td>ALBERTO</td><td>08     </td><td>07     </td><td>00     </td><td>1988   </td><td>38.7   </td><td>72.4   </td><td>25     </td></tr>\n",
       "</tbody>\n",
       "</table>\n"
      ],
      "text/latex": [
       "\\begin{tabular}{r|llllllll}\n",
       " storm\\_name & month & day & hour & year & latitude & longitude & max\\_wind\\\\\n",
       "\\hline\n",
       "\t ALBERTO & 08      & 05      & 18      & 1988    & 32.0    & 77.5    & 20     \\\\\n",
       "\t ALBERTO & 08      & 06      & 00      & 1988    & 32.8    & 76.2    & 20     \\\\\n",
       "\t ALBERTO & 08      & 06      & 06      & 1988    & 34.0    & 75.2    & 20     \\\\\n",
       "\t ALBERTO & 08      & 06      & 12      & 1988    & 35.2    & 74.6    & 25     \\\\\n",
       "\t ALBERTO & 08      & 06      & 18      & 1988    & 37.0    & 73.5    & 25     \\\\\n",
       "\t ALBERTO & 08      & 07      & 00      & 1988    & 38.7    & 72.4    & 25     \\\\\n",
       "\\end{tabular}\n"
      ],
      "text/markdown": [
       "\n",
       "storm_name | month | day | hour | year | latitude | longitude | max_wind | \n",
       "|---|---|---|---|---|---|\n",
       "| ALBERTO | 08      | 05      | 18      | 1988    | 32.0    | 77.5    | 20      | \n",
       "| ALBERTO | 08      | 06      | 00      | 1988    | 32.8    | 76.2    | 20      | \n",
       "| ALBERTO | 08      | 06      | 06      | 1988    | 34.0    | 75.2    | 20      | \n",
       "| ALBERTO | 08      | 06      | 12      | 1988    | 35.2    | 74.6    | 25      | \n",
       "| ALBERTO | 08      | 06      | 18      | 1988    | 37.0    | 73.5    | 25      | \n",
       "| ALBERTO | 08      | 07      | 00      | 1988    | 38.7    | 72.4    | 25      | \n",
       "\n",
       "\n"
      ],
      "text/plain": [
       "  storm_name month day hour year latitude longitude max_wind\n",
       "1 ALBERTO    08    05  18   1988 32.0     77.5      20      \n",
       "2 ALBERTO    08    06  00   1988 32.8     76.2      20      \n",
       "3 ALBERTO    08    06  06   1988 34.0     75.2      20      \n",
       "4 ALBERTO    08    06  12   1988 35.2     74.6      25      \n",
       "5 ALBERTO    08    06  18   1988 37.0     73.5      25      \n",
       "6 ALBERTO    08    07  00   1988 38.7     72.4      25      "
      ]
     },
     "metadata": {},
     "output_type": "display_data"
    }
   ],
   "source": [
    "hurricane %>% \n",
    "  select(storm_name, month, day, hour, year, latitude, longitude, max_wind) %>%\n",
    "  head()"
   ]
  },
  {
   "cell_type": "markdown",
   "metadata": {},
   "source": [
    "### Using arguments to select columns based on criteria:\n",
    "- \"starts_with\": Select all columns that Start with specified string\n",
    "- \"ends_with\": Select all columns that Eend with specified string\n",
    "- \"contains\":  Select all columns that Contain the specified string\n",
    "- \"matches\": Select all columns that Match a specified Regular Expression\n"
   ]
  },
  {
   "cell_type": "markdown",
   "metadata": {},
   "source": [
    "#### Select all columns with radius to which winds of 34 knots or more extend"
   ]
  },
  {
   "cell_type": "code",
   "execution_count": 10,
   "metadata": {},
   "outputs": [
    {
     "data": {
      "text/html": [
       "<table>\n",
       "<thead><tr><th scope=col>storm_name</th><th scope=col>latitude</th><th scope=col>longitude</th><th scope=col>radius_34_ne</th><th scope=col>radius_34_se</th><th scope=col>radius_34_sw</th><th scope=col>radius_34_nw</th></tr></thead>\n",
       "<tbody>\n",
       "\t<tr><td>OTTO   </td><td>29.6   </td><td>47.9   </td><td>275    </td><td>  0    </td><td>  0    </td><td>300    </td></tr>\n",
       "\t<tr><td>IVAN   </td><td>32.8   </td><td>75.8   </td><td>  0    </td><td>  0    </td><td>  0    </td><td> 75    </td></tr>\n",
       "\t<tr><td>EDOUARD</td><td>37.1   </td><td>34.2   </td><td>  0    </td><td>  0    </td><td>  0    </td><td>  0    </td></tr>\n",
       "\t<tr><td>ANDREW </td><td>24.4   </td><td>64.2   </td><td> 75    </td><td> 50    </td><td> 50    </td><td> 75    </td></tr>\n",
       "\t<tr><td>BERTHA </td><td>29.8   </td><td>62.5   </td><td>150    </td><td>150    </td><td>120    </td><td>120    </td></tr>\n",
       "</tbody>\n",
       "</table>\n"
      ],
      "text/latex": [
       "\\begin{tabular}{r|lllllll}\n",
       " storm\\_name & latitude & longitude & radius\\_34\\_ne & radius\\_34\\_se & radius\\_34\\_sw & radius\\_34\\_nw\\\\\n",
       "\\hline\n",
       "\t OTTO    & 29.6    & 47.9    & 275     &   0     &   0     & 300    \\\\\n",
       "\t IVAN    & 32.8    & 75.8    &   0     &   0     &   0     &  75    \\\\\n",
       "\t EDOUARD & 37.1    & 34.2    &   0     &   0     &   0     &   0    \\\\\n",
       "\t ANDREW  & 24.4    & 64.2    &  75     &  50     &  50     &  75    \\\\\n",
       "\t BERTHA  & 29.8    & 62.5    & 150     & 150     & 120     & 120    \\\\\n",
       "\\end{tabular}\n"
      ],
      "text/markdown": [
       "\n",
       "storm_name | latitude | longitude | radius_34_ne | radius_34_se | radius_34_sw | radius_34_nw | \n",
       "|---|---|---|---|---|\n",
       "| OTTO    | 29.6    | 47.9    | 275     |   0     |   0     | 300     | \n",
       "| IVAN    | 32.8    | 75.8    |   0     |   0     |   0     |  75     | \n",
       "| EDOUARD | 37.1    | 34.2    |   0     |   0     |   0     |   0     | \n",
       "| ANDREW  | 24.4    | 64.2    |  75     |  50     |  50     |  75     | \n",
       "| BERTHA  | 29.8    | 62.5    | 150     | 150     | 120     | 120     | \n",
       "\n",
       "\n"
      ],
      "text/plain": [
       "  storm_name latitude longitude radius_34_ne radius_34_se radius_34_sw\n",
       "1 OTTO       29.6     47.9      275            0            0         \n",
       "2 IVAN       32.8     75.8        0            0            0         \n",
       "3 EDOUARD    37.1     34.2        0            0            0         \n",
       "4 ANDREW     24.4     64.2       75           50           50         \n",
       "5 BERTHA     29.8     62.5      150          150          120         \n",
       "  radius_34_nw\n",
       "1 300         \n",
       "2  75         \n",
       "3   0         \n",
       "4  75         \n",
       "5 120         "
      ]
     },
     "metadata": {},
     "output_type": "display_data"
    }
   ],
   "source": [
    "hurricane %>% \n",
    "  select(storm_name, latitude, longitude, starts_with(\"radius_34\")) %>%\n",
    "  sample_n(5)"
   ]
  },
  {
   "cell_type": "markdown",
   "metadata": {},
   "source": [
    "<hr>"
   ]
  },
  {
   "cell_type": "markdown",
   "metadata": {},
   "source": [
    "# Using filter() function:"
   ]
  },
  {
   "cell_type": "code",
   "execution_count": 11,
   "metadata": {},
   "outputs": [
    {
     "data": {
      "text/html": [
       "<table>\n",
       "<thead><tr><th scope=col>storm_id</th><th scope=col>storm_name</th><th scope=col>month</th><th scope=col>day</th><th scope=col>hour</th><th scope=col>year</th><th scope=col>latitude</th><th scope=col>longitude</th><th scope=col>max_wind</th><th scope=col>min_pressure</th><th scope=col>⋯</th><th scope=col>radius_50_se</th><th scope=col>radius_50_sw</th><th scope=col>radius_50_nw</th><th scope=col>radius_64_ne</th><th scope=col>radius_64_se</th><th scope=col>radius_64_sw</th><th scope=col>radius_64_nw</th><th scope=col>storm_type</th><th scope=col>distance_to_land</th><th scope=col>final</th></tr></thead>\n",
       "<tbody>\n",
       "\t<tr><td>AL1599 </td><td>KATRINA</td><td>10     </td><td>28     </td><td>18     </td><td>1999   </td><td>11.4   </td><td>80.9   </td><td>30     </td><td>1001   </td><td>⋯      </td><td>0      </td><td>0      </td><td>0      </td><td>0      </td><td>0      </td><td>0      </td><td>0      </td><td>*      </td><td>252    </td><td>.      </td></tr>\n",
       "\t<tr><td>AL1599 </td><td>KATRINA</td><td>10     </td><td>29     </td><td>00     </td><td>1999   </td><td>11.6   </td><td>81.6   </td><td>30     </td><td>1001   </td><td>⋯      </td><td>0      </td><td>0      </td><td>0      </td><td>0      </td><td>0      </td><td>0      </td><td>0      </td><td>*      </td><td>233    </td><td>.      </td></tr>\n",
       "\t<tr><td>AL1599 </td><td>KATRINA</td><td>10     </td><td>29     </td><td>06     </td><td>1999   </td><td>12.0   </td><td>82.0   </td><td>30     </td><td>1001   </td><td>⋯      </td><td>0      </td><td>0      </td><td>0      </td><td>0      </td><td>0      </td><td>0      </td><td>0      </td><td>*      </td><td>180    </td><td>.      </td></tr>\n",
       "\t<tr><td>AL1599 </td><td>KATRINA</td><td>10     </td><td>29     </td><td>12     </td><td>1999   </td><td>12.6   </td><td>82.6   </td><td>30     </td><td>1000   </td><td>⋯      </td><td>0      </td><td>0      </td><td>0      </td><td>0      </td><td>0      </td><td>0      </td><td>0      </td><td>*      </td><td>100    </td><td>.      </td></tr>\n",
       "\t<tr><td>AL1599 </td><td>KATRINA</td><td>10     </td><td>29     </td><td>18     </td><td>1999   </td><td>13.2   </td><td>82.9   </td><td>35     </td><td>1000   </td><td>⋯      </td><td>0      </td><td>0      </td><td>0      </td><td>0      </td><td>0      </td><td>0      </td><td>0      </td><td>*      </td><td> 65    </td><td>.      </td></tr>\n",
       "\t<tr><td>AL1599 </td><td>KATRINA</td><td>10     </td><td>30     </td><td>00     </td><td>1999   </td><td>13.8   </td><td>83.4   </td><td>35     </td><td> 999   </td><td>⋯      </td><td>0      </td><td>0      </td><td>0      </td><td>0      </td><td>0      </td><td>0      </td><td>0      </td><td>*      </td><td> 11    </td><td>.      </td></tr>\n",
       "</tbody>\n",
       "</table>\n"
      ],
      "text/latex": [
       "\\begin{tabular}{r|lllllllllllllllllllllllllllll}\n",
       " storm\\_id & storm\\_name & month & day & hour & year & latitude & longitude & max\\_wind & min\\_pressure & ⋯ & radius\\_50\\_se & radius\\_50\\_sw & radius\\_50\\_nw & radius\\_64\\_ne & radius\\_64\\_se & radius\\_64\\_sw & radius\\_64\\_nw & storm\\_type & distance\\_to\\_land & final\\\\\n",
       "\\hline\n",
       "\t AL1599  & KATRINA & 10      & 28      & 18      & 1999    & 11.4    & 80.9    & 30      & 1001    & ⋯       & 0       & 0       & 0       & 0       & 0       & 0       & 0       & *       & 252     & .      \\\\\n",
       "\t AL1599  & KATRINA & 10      & 29      & 00      & 1999    & 11.6    & 81.6    & 30      & 1001    & ⋯       & 0       & 0       & 0       & 0       & 0       & 0       & 0       & *       & 233     & .      \\\\\n",
       "\t AL1599  & KATRINA & 10      & 29      & 06      & 1999    & 12.0    & 82.0    & 30      & 1001    & ⋯       & 0       & 0       & 0       & 0       & 0       & 0       & 0       & *       & 180     & .      \\\\\n",
       "\t AL1599  & KATRINA & 10      & 29      & 12      & 1999    & 12.6    & 82.6    & 30      & 1000    & ⋯       & 0       & 0       & 0       & 0       & 0       & 0       & 0       & *       & 100     & .      \\\\\n",
       "\t AL1599  & KATRINA & 10      & 29      & 18      & 1999    & 13.2    & 82.9    & 35      & 1000    & ⋯       & 0       & 0       & 0       & 0       & 0       & 0       & 0       & *       &  65     & .      \\\\\n",
       "\t AL1599  & KATRINA & 10      & 30      & 00      & 1999    & 13.8    & 83.4    & 35      &  999    & ⋯       & 0       & 0       & 0       & 0       & 0       & 0       & 0       & *       &  11     & .      \\\\\n",
       "\\end{tabular}\n"
      ],
      "text/markdown": [
       "\n",
       "storm_id | storm_name | month | day | hour | year | latitude | longitude | max_wind | min_pressure | ⋯ | radius_50_se | radius_50_sw | radius_50_nw | radius_64_ne | radius_64_se | radius_64_sw | radius_64_nw | storm_type | distance_to_land | final | \n",
       "|---|---|---|---|---|---|\n",
       "| AL1599  | KATRINA | 10      | 28      | 18      | 1999    | 11.4    | 80.9    | 30      | 1001    | ⋯       | 0       | 0       | 0       | 0       | 0       | 0       | 0       | *       | 252     | .       | \n",
       "| AL1599  | KATRINA | 10      | 29      | 00      | 1999    | 11.6    | 81.6    | 30      | 1001    | ⋯       | 0       | 0       | 0       | 0       | 0       | 0       | 0       | *       | 233     | .       | \n",
       "| AL1599  | KATRINA | 10      | 29      | 06      | 1999    | 12.0    | 82.0    | 30      | 1001    | ⋯       | 0       | 0       | 0       | 0       | 0       | 0       | 0       | *       | 180     | .       | \n",
       "| AL1599  | KATRINA | 10      | 29      | 12      | 1999    | 12.6    | 82.6    | 30      | 1000    | ⋯       | 0       | 0       | 0       | 0       | 0       | 0       | 0       | *       | 100     | .       | \n",
       "| AL1599  | KATRINA | 10      | 29      | 18      | 1999    | 13.2    | 82.9    | 35      | 1000    | ⋯       | 0       | 0       | 0       | 0       | 0       | 0       | 0       | *       |  65     | .       | \n",
       "| AL1599  | KATRINA | 10      | 30      | 00      | 1999    | 13.8    | 83.4    | 35      |  999    | ⋯       | 0       | 0       | 0       | 0       | 0       | 0       | 0       | *       |  11     | .       | \n",
       "\n",
       "\n"
      ],
      "text/plain": [
       "  storm_id storm_name month day hour year latitude longitude max_wind\n",
       "1 AL1599   KATRINA    10    28  18   1999 11.4     80.9      30      \n",
       "2 AL1599   KATRINA    10    29  00   1999 11.6     81.6      30      \n",
       "3 AL1599   KATRINA    10    29  06   1999 12.0     82.0      30      \n",
       "4 AL1599   KATRINA    10    29  12   1999 12.6     82.6      30      \n",
       "5 AL1599   KATRINA    10    29  18   1999 13.2     82.9      35      \n",
       "6 AL1599   KATRINA    10    30  00   1999 13.8     83.4      35      \n",
       "  min_pressure ⋯ radius_50_se radius_50_sw radius_50_nw radius_64_ne\n",
       "1 1001         ⋯ 0            0            0            0           \n",
       "2 1001         ⋯ 0            0            0            0           \n",
       "3 1001         ⋯ 0            0            0            0           \n",
       "4 1000         ⋯ 0            0            0            0           \n",
       "5 1000         ⋯ 0            0            0            0           \n",
       "6  999         ⋯ 0            0            0            0           \n",
       "  radius_64_se radius_64_sw radius_64_nw storm_type distance_to_land final\n",
       "1 0            0            0            *          252              .    \n",
       "2 0            0            0            *          233              .    \n",
       "3 0            0            0            *          180              .    \n",
       "4 0            0            0            *          100              .    \n",
       "5 0            0            0            *           65              .    \n",
       "6 0            0            0            *           11              .    "
      ]
     },
     "metadata": {},
     "output_type": "display_data"
    }
   ],
   "source": [
    "hurricane %>% \n",
    "  filter(storm_name == \"KATRINA\") %>%\n",
    "  head()"
   ]
  },
  {
   "cell_type": "markdown",
   "metadata": {},
   "source": [
    "### Using arguments to select columns based on criteria:\n",
    "- Use Logical Operators to return Rows that meet those conditions\n",
    "- Common Operators: ==, !=, >, >=, <, <= \n",
    "- %in%:  Included in.  storm_name %in% c(\"KATRINA\", \"ANDREW\")\n",
    "- is.na(): Missing Value. is.na(radius_34_ne)"
   ]
  },
  {
   "cell_type": "markdown",
   "metadata": {},
   "source": [
    "#### Select all rows that include Storm Names \"Katrina\" and \"Andrew\" with radius to which winds of 34 knots or more extend:"
   ]
  },
  {
   "cell_type": "code",
   "execution_count": 12,
   "metadata": {},
   "outputs": [
    {
     "data": {
      "text/html": [
       "<table>\n",
       "<thead><tr><th scope=col>storm_id</th><th scope=col>storm_name</th><th scope=col>month</th><th scope=col>day</th><th scope=col>hour</th><th scope=col>year</th><th scope=col>latitude</th><th scope=col>longitude</th><th scope=col>max_wind</th><th scope=col>min_pressure</th><th scope=col>⋯</th><th scope=col>radius_50_se</th><th scope=col>radius_50_sw</th><th scope=col>radius_50_nw</th><th scope=col>radius_64_ne</th><th scope=col>radius_64_se</th><th scope=col>radius_64_sw</th><th scope=col>radius_64_nw</th><th scope=col>storm_type</th><th scope=col>distance_to_land</th><th scope=col>final</th></tr></thead>\n",
       "<tbody>\n",
       "\t<tr><td>AL0492</td><td>ANDREW</td><td>08    </td><td>16    </td><td>18    </td><td>1992  </td><td>10.8  </td><td>35.5  </td><td>25    </td><td>1010  </td><td>⋯     </td><td>0     </td><td>0     </td><td>0     </td><td>0     </td><td>0     </td><td>0     </td><td>0     </td><td>*     </td><td>1602  </td><td>.     </td></tr>\n",
       "\t<tr><td>AL0492</td><td>ANDREW</td><td>08    </td><td>17    </td><td>00    </td><td>1992  </td><td>11.2  </td><td>37.4  </td><td>30    </td><td>1009  </td><td>⋯     </td><td>0     </td><td>0     </td><td>0     </td><td>0     </td><td>0     </td><td>0     </td><td>0     </td><td>*     </td><td>1593  </td><td>.     </td></tr>\n",
       "\t<tr><td>AL0492</td><td>ANDREW</td><td>08    </td><td>17    </td><td>06    </td><td>1992  </td><td>11.7  </td><td>39.6  </td><td>30    </td><td>1008  </td><td>⋯     </td><td>0     </td><td>0     </td><td>0     </td><td>0     </td><td>0     </td><td>0     </td><td>0     </td><td>*     </td><td>1532  </td><td>.     </td></tr>\n",
       "\t<tr><td>AL0492</td><td>ANDREW</td><td>08    </td><td>17    </td><td>12    </td><td>1992  </td><td>12.3  </td><td>42.0  </td><td>35    </td><td>1006  </td><td>⋯     </td><td>0     </td><td>0     </td><td>0     </td><td>0     </td><td>0     </td><td>0     </td><td>0     </td><td>*     </td><td>1368  </td><td>.     </td></tr>\n",
       "\t<tr><td>AL0492</td><td>ANDREW</td><td>08    </td><td>17    </td><td>18    </td><td>1992  </td><td>13.1  </td><td>44.2  </td><td>35    </td><td>1003  </td><td>⋯     </td><td>0     </td><td>0     </td><td>0     </td><td>0     </td><td>0     </td><td>0     </td><td>0     </td><td>*     </td><td>1275  </td><td>.     </td></tr>\n",
       "\t<tr><td>AL0492</td><td>ANDREW</td><td>08    </td><td>18    </td><td>00    </td><td>1992  </td><td>13.6  </td><td>46.2  </td><td>40    </td><td>1002  </td><td>⋯     </td><td>0     </td><td>0     </td><td>0     </td><td>0     </td><td>0     </td><td>0     </td><td>0     </td><td>*     </td><td>1183  </td><td>.     </td></tr>\n",
       "</tbody>\n",
       "</table>\n"
      ],
      "text/latex": [
       "\\begin{tabular}{r|lllllllllllllllllllllllllllll}\n",
       " storm\\_id & storm\\_name & month & day & hour & year & latitude & longitude & max\\_wind & min\\_pressure & ⋯ & radius\\_50\\_se & radius\\_50\\_sw & radius\\_50\\_nw & radius\\_64\\_ne & radius\\_64\\_se & radius\\_64\\_sw & radius\\_64\\_nw & storm\\_type & distance\\_to\\_land & final\\\\\n",
       "\\hline\n",
       "\t AL0492 & ANDREW & 08     & 16     & 18     & 1992   & 10.8   & 35.5   & 25     & 1010   & ⋯      & 0      & 0      & 0      & 0      & 0      & 0      & 0      & *      & 1602   & .     \\\\\n",
       "\t AL0492 & ANDREW & 08     & 17     & 00     & 1992   & 11.2   & 37.4   & 30     & 1009   & ⋯      & 0      & 0      & 0      & 0      & 0      & 0      & 0      & *      & 1593   & .     \\\\\n",
       "\t AL0492 & ANDREW & 08     & 17     & 06     & 1992   & 11.7   & 39.6   & 30     & 1008   & ⋯      & 0      & 0      & 0      & 0      & 0      & 0      & 0      & *      & 1532   & .     \\\\\n",
       "\t AL0492 & ANDREW & 08     & 17     & 12     & 1992   & 12.3   & 42.0   & 35     & 1006   & ⋯      & 0      & 0      & 0      & 0      & 0      & 0      & 0      & *      & 1368   & .     \\\\\n",
       "\t AL0492 & ANDREW & 08     & 17     & 18     & 1992   & 13.1   & 44.2   & 35     & 1003   & ⋯      & 0      & 0      & 0      & 0      & 0      & 0      & 0      & *      & 1275   & .     \\\\\n",
       "\t AL0492 & ANDREW & 08     & 18     & 00     & 1992   & 13.6   & 46.2   & 40     & 1002   & ⋯      & 0      & 0      & 0      & 0      & 0      & 0      & 0      & *      & 1183   & .     \\\\\n",
       "\\end{tabular}\n"
      ],
      "text/markdown": [
       "\n",
       "storm_id | storm_name | month | day | hour | year | latitude | longitude | max_wind | min_pressure | ⋯ | radius_50_se | radius_50_sw | radius_50_nw | radius_64_ne | radius_64_se | radius_64_sw | radius_64_nw | storm_type | distance_to_land | final | \n",
       "|---|---|---|---|---|---|\n",
       "| AL0492 | ANDREW | 08     | 16     | 18     | 1992   | 10.8   | 35.5   | 25     | 1010   | ⋯      | 0      | 0      | 0      | 0      | 0      | 0      | 0      | *      | 1602   | .      | \n",
       "| AL0492 | ANDREW | 08     | 17     | 00     | 1992   | 11.2   | 37.4   | 30     | 1009   | ⋯      | 0      | 0      | 0      | 0      | 0      | 0      | 0      | *      | 1593   | .      | \n",
       "| AL0492 | ANDREW | 08     | 17     | 06     | 1992   | 11.7   | 39.6   | 30     | 1008   | ⋯      | 0      | 0      | 0      | 0      | 0      | 0      | 0      | *      | 1532   | .      | \n",
       "| AL0492 | ANDREW | 08     | 17     | 12     | 1992   | 12.3   | 42.0   | 35     | 1006   | ⋯      | 0      | 0      | 0      | 0      | 0      | 0      | 0      | *      | 1368   | .      | \n",
       "| AL0492 | ANDREW | 08     | 17     | 18     | 1992   | 13.1   | 44.2   | 35     | 1003   | ⋯      | 0      | 0      | 0      | 0      | 0      | 0      | 0      | *      | 1275   | .      | \n",
       "| AL0492 | ANDREW | 08     | 18     | 00     | 1992   | 13.6   | 46.2   | 40     | 1002   | ⋯      | 0      | 0      | 0      | 0      | 0      | 0      | 0      | *      | 1183   | .      | \n",
       "\n",
       "\n"
      ],
      "text/plain": [
       "  storm_id storm_name month day hour year latitude longitude max_wind\n",
       "1 AL0492   ANDREW     08    16  18   1992 10.8     35.5      25      \n",
       "2 AL0492   ANDREW     08    17  00   1992 11.2     37.4      30      \n",
       "3 AL0492   ANDREW     08    17  06   1992 11.7     39.6      30      \n",
       "4 AL0492   ANDREW     08    17  12   1992 12.3     42.0      35      \n",
       "5 AL0492   ANDREW     08    17  18   1992 13.1     44.2      35      \n",
       "6 AL0492   ANDREW     08    18  00   1992 13.6     46.2      40      \n",
       "  min_pressure ⋯ radius_50_se radius_50_sw radius_50_nw radius_64_ne\n",
       "1 1010         ⋯ 0            0            0            0           \n",
       "2 1009         ⋯ 0            0            0            0           \n",
       "3 1008         ⋯ 0            0            0            0           \n",
       "4 1006         ⋯ 0            0            0            0           \n",
       "5 1003         ⋯ 0            0            0            0           \n",
       "6 1002         ⋯ 0            0            0            0           \n",
       "  radius_64_se radius_64_sw radius_64_nw storm_type distance_to_land final\n",
       "1 0            0            0            *          1602             .    \n",
       "2 0            0            0            *          1593             .    \n",
       "3 0            0            0            *          1532             .    \n",
       "4 0            0            0            *          1368             .    \n",
       "5 0            0            0            *          1275             .    \n",
       "6 0            0            0            *          1183             .    "
      ]
     },
     "metadata": {},
     "output_type": "display_data"
    }
   ],
   "source": [
    "hurricane %>% \n",
    "  filter(storm_name %in% c(\"KATRINA\", \"ANDREW\")) %>%\n",
    "  head()"
   ]
  },
  {
   "cell_type": "code",
   "execution_count": 13,
   "metadata": {},
   "outputs": [
    {
     "data": {
      "text/html": [
       "<table>\n",
       "<thead><tr><th scope=col>storm_name</th><th scope=col>year</th><th scope=col>month</th><th scope=col>day</th><th scope=col>max_wind</th></tr></thead>\n",
       "<tbody>\n",
       "\t<tr><td>ANDREW</td><td>1992  </td><td>08    </td><td>23    </td><td>145   </td></tr>\n",
       "\t<tr><td>ANDREW</td><td>1992  </td><td>08    </td><td>23    </td><td>150   </td></tr>\n",
       "</tbody>\n",
       "</table>\n"
      ],
      "text/latex": [
       "\\begin{tabular}{r|lllll}\n",
       " storm\\_name & year & month & day & max\\_wind\\\\\n",
       "\\hline\n",
       "\t ANDREW & 1992   & 08     & 23     & 145   \\\\\n",
       "\t ANDREW & 1992   & 08     & 23     & 150   \\\\\n",
       "\\end{tabular}\n"
      ],
      "text/markdown": [
       "\n",
       "storm_name | year | month | day | max_wind | \n",
       "|---|---|\n",
       "| ANDREW | 1992   | 08     | 23     | 145    | \n",
       "| ANDREW | 1992   | 08     | 23     | 150    | \n",
       "\n",
       "\n"
      ],
      "text/plain": [
       "  storm_name year month day max_wind\n",
       "1 ANDREW     1992 08    23  145     \n",
       "2 ANDREW     1992 08    23  150     "
      ]
     },
     "metadata": {},
     "output_type": "display_data"
    }
   ],
   "source": [
    "hurricane %>% \n",
    "  select(storm_name, year, month, day, max_wind) %>%\n",
    "  filter(storm_name == \"ANDREW\" & max_wind >= 137)"
   ]
  }
 ],
 "metadata": {
  "kernelspec": {
   "display_name": "R",
   "language": "R",
   "name": "ir"
  },
  "language_info": {
   "codemirror_mode": "r",
   "file_extension": ".r",
   "mimetype": "text/x-r-source",
   "name": "R",
   "pygments_lexer": "r",
   "version": "3.4.1"
  }
 },
 "nbformat": 4,
 "nbformat_minor": 2
}
