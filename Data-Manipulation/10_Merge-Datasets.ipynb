{
 "cells": [
  {
   "cell_type": "markdown",
   "metadata": {},
   "source": [
    "# Merging Datasets"
   ]
  },
  {
   "cell_type": "markdown",
   "metadata": {},
   "source": [
    "### Load required Tidyverse packages"
   ]
  },
  {
   "cell_type": "code",
   "execution_count": 1,
   "metadata": {},
   "outputs": [
    {
     "name": "stderr",
     "output_type": "stream",
     "text": [
      "\n",
      "Attaching package: ‘dplyr’\n",
      "\n",
      "The following objects are masked from ‘package:stats’:\n",
      "\n",
      "    filter, lag\n",
      "\n",
      "The following objects are masked from ‘package:base’:\n",
      "\n",
      "    intersect, setdiff, setequal, union\n",
      "\n"
     ]
    }
   ],
   "source": [
    "library(readr)\n",
    "library(dplyr)\n",
    "library(tidyr)\n",
    "library(ggplot2)\n",
    "library(knitr)"
   ]
  },
  {
   "cell_type": "markdown",
   "metadata": {},
   "source": [
    "### Using \"World Cup\" Dataset from \"faraway\" package\n",
    "- Using locally saved csv file"
   ]
  },
  {
   "cell_type": "code",
   "execution_count": 2,
   "metadata": {},
   "outputs": [
    {
     "name": "stderr",
     "output_type": "stream",
     "text": [
      "Parsed with column specification:\n",
      "cols(\n",
      "  Team = col_character(),\n",
      "  Position = col_character(),\n",
      "  Time = col_integer(),\n",
      "  Shots = col_integer(),\n",
      "  Passes = col_integer(),\n",
      "  Tackles = col_integer(),\n",
      "  Saves = col_integer(),\n",
      "  player_name = col_character()\n",
      ")\n"
     ]
    },
    {
     "data": {
      "text/html": [
       "<table>\n",
       "<thead><tr><th scope=col>Player_Name</th><th scope=col>Team</th><th scope=col>Position</th><th scope=col>Time</th><th scope=col>Shots</th><th scope=col>Passes</th><th scope=col>Tackles</th><th scope=col>Saves</th></tr></thead>\n",
       "<tbody>\n",
       "\t<tr><td>Abdoun    </td><td>Algeria   </td><td>Midfielder</td><td> 16       </td><td>0         </td><td>  6       </td><td> 0        </td><td>0         </td></tr>\n",
       "\t<tr><td>Abe       </td><td>Japan     </td><td>Midfielder</td><td>351       </td><td>0         </td><td>101       </td><td>14        </td><td>0         </td></tr>\n",
       "\t<tr><td>Abidal    </td><td>France    </td><td>Defender  </td><td>180       </td><td>0         </td><td> 91       </td><td> 6        </td><td>0         </td></tr>\n",
       "\t<tr><td>Abou Diaby</td><td>France    </td><td>Midfielder</td><td>270       </td><td>1         </td><td>111       </td><td> 5        </td><td>0         </td></tr>\n",
       "\t<tr><td>Aboubakar </td><td>Cameroon  </td><td>Forward   </td><td> 46       </td><td>2         </td><td> 16       </td><td> 0        </td><td>0         </td></tr>\n",
       "\t<tr><td>Abreu     </td><td>Uruguay   </td><td>Forward   </td><td> 72       </td><td>0         </td><td> 15       </td><td> 0        </td><td>0         </td></tr>\n",
       "</tbody>\n",
       "</table>\n"
      ],
      "text/latex": [
       "\\begin{tabular}{r|llllllll}\n",
       " Player\\_Name & Team & Position & Time & Shots & Passes & Tackles & Saves\\\\\n",
       "\\hline\n",
       "\t Abdoun     & Algeria    & Midfielder &  16        & 0          &   6        &  0         & 0         \\\\\n",
       "\t Abe        & Japan      & Midfielder & 351        & 0          & 101        & 14         & 0         \\\\\n",
       "\t Abidal     & France     & Defender   & 180        & 0          &  91        &  6         & 0         \\\\\n",
       "\t Abou Diaby & France     & Midfielder & 270        & 1          & 111        &  5         & 0         \\\\\n",
       "\t Aboubakar  & Cameroon   & Forward    &  46        & 2          &  16        &  0         & 0         \\\\\n",
       "\t Abreu      & Uruguay    & Forward    &  72        & 0          &  15        &  0         & 0         \\\\\n",
       "\\end{tabular}\n"
      ],
      "text/markdown": [
       "\n",
       "Player_Name | Team | Position | Time | Shots | Passes | Tackles | Saves | \n",
       "|---|---|---|---|---|---|\n",
       "| Abdoun     | Algeria    | Midfielder |  16        | 0          |   6        |  0         | 0          | \n",
       "| Abe        | Japan      | Midfielder | 351        | 0          | 101        | 14         | 0          | \n",
       "| Abidal     | France     | Defender   | 180        | 0          |  91        |  6         | 0          | \n",
       "| Abou Diaby | France     | Midfielder | 270        | 1          | 111        |  5         | 0          | \n",
       "| Aboubakar  | Cameroon   | Forward    |  46        | 2          |  16        |  0         | 0          | \n",
       "| Abreu      | Uruguay    | Forward    |  72        | 0          |  15        |  0         | 0          | \n",
       "\n",
       "\n"
      ],
      "text/plain": [
       "  Player_Name Team     Position   Time Shots Passes Tackles Saves\n",
       "1 Abdoun      Algeria  Midfielder  16  0       6     0      0    \n",
       "2 Abe         Japan    Midfielder 351  0     101    14      0    \n",
       "3 Abidal      France   Defender   180  0      91     6      0    \n",
       "4 Abou Diaby  France   Midfielder 270  1     111     5      0    \n",
       "5 Aboubakar   Cameroon Forward     46  2      16     0      0    \n",
       "6 Abreu       Uruguay  Forward     72  0      15     0      0    "
      ]
     },
     "metadata": {},
     "output_type": "display_data"
    }
   ],
   "source": [
    "worldcup <- read_csv(\"Data/worldcup.csv\")\n",
    "worldcup <- worldcup %>%\n",
    "  select(player_name, everything()) %>%\n",
    "  rename(Player_Name = player_name)\n",
    "\n",
    "head(worldcup)"
   ]
  },
  {
   "cell_type": "markdown",
   "metadata": {},
   "source": [
    "### Merging \"Team Standings\" Dataset to \"World Cup\" Dataset\n",
    "- Read in \"Team Standings\" csv file\n",
    "- Provide column types explicitly (integer, character)"
   ]
  },
  {
   "cell_type": "code",
   "execution_count": 3,
   "metadata": {},
   "outputs": [
    {
     "data": {
      "text/html": [
       "<table>\n",
       "<thead><tr><th scope=col>Standing</th><th scope=col>Team</th></tr></thead>\n",
       "<tbody>\n",
       "\t<tr><td> 4         </td><td>Uruguay    </td></tr>\n",
       "\t<tr><td>25         </td><td>Greece     </td></tr>\n",
       "\t<tr><td>23         </td><td>Serbia     </td></tr>\n",
       "\t<tr><td>14         </td><td>Mexico     </td></tr>\n",
       "\t<tr><td>26         </td><td>Italy      </td></tr>\n",
       "\t<tr><td> 1         </td><td>Spain      </td></tr>\n",
       "\t<tr><td>22         </td><td>New Zealand</td></tr>\n",
       "\t<tr><td>12         </td><td>USA        </td></tr>\n",
       "\t<tr><td> 2         </td><td>Netherlands</td></tr>\n",
       "\t<tr><td> 7         </td><td>Ghana      </td></tr>\n",
       "</tbody>\n",
       "</table>\n"
      ],
      "text/latex": [
       "\\begin{tabular}{r|ll}\n",
       " Standing & Team\\\\\n",
       "\\hline\n",
       "\t  4          & Uruguay    \\\\\n",
       "\t 25          & Greece     \\\\\n",
       "\t 23          & Serbia     \\\\\n",
       "\t 14          & Mexico     \\\\\n",
       "\t 26          & Italy      \\\\\n",
       "\t  1          & Spain      \\\\\n",
       "\t 22          & New Zealand\\\\\n",
       "\t 12          & USA        \\\\\n",
       "\t  2          & Netherlands\\\\\n",
       "\t  7          & Ghana      \\\\\n",
       "\\end{tabular}\n"
      ],
      "text/markdown": [
       "\n",
       "Standing | Team | \n",
       "|---|---|---|---|---|---|---|---|---|---|\n",
       "|  4          | Uruguay     | \n",
       "| 25          | Greece      | \n",
       "| 23          | Serbia      | \n",
       "| 14          | Mexico      | \n",
       "| 26          | Italy       | \n",
       "|  1          | Spain       | \n",
       "| 22          | New Zealand | \n",
       "| 12          | USA         | \n",
       "|  2          | Netherlands | \n",
       "|  7          | Ghana       | \n",
       "\n",
       "\n"
      ],
      "text/plain": [
       "   Standing Team       \n",
       "1   4       Uruguay    \n",
       "2  25       Greece     \n",
       "3  23       Serbia     \n",
       "4  14       Mexico     \n",
       "5  26       Italy      \n",
       "6   1       Spain      \n",
       "7  22       New Zealand\n",
       "8  12       USA        \n",
       "9   2       Netherlands\n",
       "10  7       Ghana      "
      ]
     },
     "metadata": {},
     "output_type": "display_data"
    }
   ],
   "source": [
    "team_standings <- read_csv(\"Data/team_standings.csv\", col_types=\"ic\")\n",
    "sample_n(team_standings, 10)"
   ]
  },
  {
   "cell_type": "markdown",
   "metadata": {},
   "source": [
    "## Using *_join() family of functions:\n",
    "- left_join(): Includes all observations in the left data frame, whether or not there is a match in the right data frame\n",
    "- right_join(): Includes all observations in the right data frame, whether or not there is a match in the left data frame\n",
    "- inner_join(): Includes only observations that are in both data frames\n",
    "- full_join(): Includes all observations from both data frames"
   ]
  },
  {
   "cell_type": "markdown",
   "metadata": {},
   "source": [
    "### left_join()\n",
    "- left_join(worldcup, team_standings, by=\"Team\")\n",
    "- Would include all rows from \"worldcup\" dataset whether or not the player had a team listed in team_standings"
   ]
  },
  {
   "cell_type": "code",
   "execution_count": 4,
   "metadata": {},
   "outputs": [
    {
     "data": {
      "text/html": [
       "<table>\n",
       "<thead><tr><th scope=col>Player_Name</th><th scope=col>Team</th><th scope=col>Position</th><th scope=col>Time</th><th scope=col>Shots</th><th scope=col>Passes</th><th scope=col>Tackles</th><th scope=col>Saves</th><th scope=col>Standing</th></tr></thead>\n",
       "<tbody>\n",
       "\t<tr><td>Abdoun     </td><td>Algeria    </td><td>Midfielder </td><td> 16        </td><td>0          </td><td>  6        </td><td> 0         </td><td>0          </td><td>28         </td></tr>\n",
       "\t<tr><td>Abe        </td><td>Japan      </td><td>Midfielder </td><td>351        </td><td>0          </td><td>101        </td><td>14         </td><td>0          </td><td> 9         </td></tr>\n",
       "\t<tr><td>Abidal     </td><td>France     </td><td>Defender   </td><td>180        </td><td>0          </td><td> 91        </td><td> 6         </td><td>0          </td><td>29         </td></tr>\n",
       "\t<tr><td>Abou Diaby </td><td>France     </td><td>Midfielder </td><td>270        </td><td>1          </td><td>111        </td><td> 5         </td><td>0          </td><td>29         </td></tr>\n",
       "\t<tr><td>Aboubakar  </td><td>Cameroon   </td><td>Forward    </td><td> 46        </td><td>2          </td><td> 16        </td><td> 0         </td><td>0          </td><td>31         </td></tr>\n",
       "\t<tr><td>Abreu      </td><td>Uruguay    </td><td>Forward    </td><td> 72        </td><td>0          </td><td> 15        </td><td> 0         </td><td>0          </td><td> 4         </td></tr>\n",
       "\t<tr><td>Addy       </td><td>Ghana      </td><td>Defender   </td><td>138        </td><td>0          </td><td> 51        </td><td> 2         </td><td>0          </td><td> 7         </td></tr>\n",
       "\t<tr><td>Adiyiah    </td><td>Ghana      </td><td>Forward    </td><td> 33        </td><td>0          </td><td>  9        </td><td> 0         </td><td>0          </td><td> 7         </td></tr>\n",
       "\t<tr><td>Afellay    </td><td>Netherlands</td><td>Midfielder </td><td> 21        </td><td>5          </td><td> 22        </td><td> 0         </td><td>0          </td><td> 2         </td></tr>\n",
       "\t<tr><td>Afolabi    </td><td>Nigeria    </td><td>Defender   </td><td>103        </td><td>0          </td><td> 38        </td><td> 1         </td><td>0          </td><td>27         </td></tr>\n",
       "</tbody>\n",
       "</table>\n"
      ],
      "text/latex": [
       "\\begin{tabular}{r|lllllllll}\n",
       " Player\\_Name & Team & Position & Time & Shots & Passes & Tackles & Saves & Standing\\\\\n",
       "\\hline\n",
       "\t Abdoun      & Algeria     & Midfielder  &  16         & 0           &   6         &  0          & 0           & 28         \\\\\n",
       "\t Abe         & Japan       & Midfielder  & 351         & 0           & 101         & 14          & 0           &  9         \\\\\n",
       "\t Abidal      & France      & Defender    & 180         & 0           &  91         &  6          & 0           & 29         \\\\\n",
       "\t Abou Diaby  & France      & Midfielder  & 270         & 1           & 111         &  5          & 0           & 29         \\\\\n",
       "\t Aboubakar   & Cameroon    & Forward     &  46         & 2           &  16         &  0          & 0           & 31         \\\\\n",
       "\t Abreu       & Uruguay     & Forward     &  72         & 0           &  15         &  0          & 0           &  4         \\\\\n",
       "\t Addy        & Ghana       & Defender    & 138         & 0           &  51         &  2          & 0           &  7         \\\\\n",
       "\t Adiyiah     & Ghana       & Forward     &  33         & 0           &   9         &  0          & 0           &  7         \\\\\n",
       "\t Afellay     & Netherlands & Midfielder  &  21         & 5           &  22         &  0          & 0           &  2         \\\\\n",
       "\t Afolabi     & Nigeria     & Defender    & 103         & 0           &  38         &  1          & 0           & 27         \\\\\n",
       "\\end{tabular}\n"
      ],
      "text/markdown": [
       "\n",
       "Player_Name | Team | Position | Time | Shots | Passes | Tackles | Saves | Standing | \n",
       "|---|---|---|---|---|---|---|---|---|---|\n",
       "| Abdoun      | Algeria     | Midfielder  |  16         | 0           |   6         |  0          | 0           | 28          | \n",
       "| Abe         | Japan       | Midfielder  | 351         | 0           | 101         | 14          | 0           |  9          | \n",
       "| Abidal      | France      | Defender    | 180         | 0           |  91         |  6          | 0           | 29          | \n",
       "| Abou Diaby  | France      | Midfielder  | 270         | 1           | 111         |  5          | 0           | 29          | \n",
       "| Aboubakar   | Cameroon    | Forward     |  46         | 2           |  16         |  0          | 0           | 31          | \n",
       "| Abreu       | Uruguay     | Forward     |  72         | 0           |  15         |  0          | 0           |  4          | \n",
       "| Addy        | Ghana       | Defender    | 138         | 0           |  51         |  2          | 0           |  7          | \n",
       "| Adiyiah     | Ghana       | Forward     |  33         | 0           |   9         |  0          | 0           |  7          | \n",
       "| Afellay     | Netherlands | Midfielder  |  21         | 5           |  22         |  0          | 0           |  2          | \n",
       "| Afolabi     | Nigeria     | Defender    | 103         | 0           |  38         |  1          | 0           | 27          | \n",
       "\n",
       "\n"
      ],
      "text/plain": [
       "   Player_Name Team        Position   Time Shots Passes Tackles Saves Standing\n",
       "1  Abdoun      Algeria     Midfielder  16  0       6     0      0     28      \n",
       "2  Abe         Japan       Midfielder 351  0     101    14      0      9      \n",
       "3  Abidal      France      Defender   180  0      91     6      0     29      \n",
       "4  Abou Diaby  France      Midfielder 270  1     111     5      0     29      \n",
       "5  Aboubakar   Cameroon    Forward     46  2      16     0      0     31      \n",
       "6  Abreu       Uruguay     Forward     72  0      15     0      0      4      \n",
       "7  Addy        Ghana       Defender   138  0      51     2      0      7      \n",
       "8  Adiyiah     Ghana       Forward     33  0       9     0      0      7      \n",
       "9  Afellay     Netherlands Midfielder  21  5      22     0      0      2      \n",
       "10 Afolabi     Nigeria     Defender   103  0      38     1      0     27      "
      ]
     },
     "metadata": {},
     "output_type": "display_data"
    }
   ],
   "source": [
    "left_join(worldcup, team_standings, by=\"Team\") %>% \n",
    "  slice(1:10)"
   ]
  },
  {
   "cell_type": "markdown",
   "metadata": {},
   "source": [
    "## Example:\n",
    "- Create a table of top 10 players by Shots as well as final Standings for each of player's team\n",
    "- From \"worldcup\" Dataset, select Name, Position, Shots, and Team columns\n",
    "- Arrange by Shots in descending order, using arrange() function\n",
    "- Pipe that into a Left Join with left_join() function to join with Team Standings\n",
    "- Use kable() from \"knitr\" package to display"
   ]
  },
  {
   "cell_type": "code",
   "execution_count": 6,
   "metadata": {},
   "outputs": [
    {
     "data": {
      "text/html": [
       "<table>\n",
       "<thead><tr><th scope=col>Player_Name</th><th scope=col>Position</th><th scope=col>Shots</th><th scope=col>Team</th></tr></thead>\n",
       "<tbody>\n",
       "\t<tr><td>Gyan     </td><td>Forward  </td><td>27       </td><td>Ghana    </td></tr>\n",
       "\t<tr><td>Villa    </td><td>Forward  </td><td>22       </td><td>Spain    </td></tr>\n",
       "\t<tr><td>Messi    </td><td>Forward  </td><td>21       </td><td>Argentina</td></tr>\n",
       "\t<tr><td>Suarez   </td><td>Forward  </td><td>19       </td><td>Uruguay  </td></tr>\n",
       "\t<tr><td>Forlan   </td><td>Forward  </td><td>18       </td><td>Uruguay  </td></tr>\n",
       "\t<tr><td>Ronaldo  </td><td>Forward  </td><td>18       </td><td>Portugal </td></tr>\n",
       "</tbody>\n",
       "</table>\n"
      ],
      "text/latex": [
       "\\begin{tabular}{r|llll}\n",
       " Player\\_Name & Position & Shots & Team\\\\\n",
       "\\hline\n",
       "\t Gyan      & Forward   & 27        & Ghana    \\\\\n",
       "\t Villa     & Forward   & 22        & Spain    \\\\\n",
       "\t Messi     & Forward   & 21        & Argentina\\\\\n",
       "\t Suarez    & Forward   & 19        & Uruguay  \\\\\n",
       "\t Forlan    & Forward   & 18        & Uruguay  \\\\\n",
       "\t Ronaldo   & Forward   & 18        & Portugal \\\\\n",
       "\\end{tabular}\n"
      ],
      "text/markdown": [
       "\n",
       "Player_Name | Position | Shots | Team | \n",
       "|---|---|---|---|---|---|\n",
       "| Gyan      | Forward   | 27        | Ghana     | \n",
       "| Villa     | Forward   | 22        | Spain     | \n",
       "| Messi     | Forward   | 21        | Argentina | \n",
       "| Suarez    | Forward   | 19        | Uruguay   | \n",
       "| Forlan    | Forward   | 18        | Uruguay   | \n",
       "| Ronaldo   | Forward   | 18        | Portugal  | \n",
       "\n",
       "\n"
      ],
      "text/plain": [
       "  Player_Name Position Shots Team     \n",
       "1 Gyan        Forward  27    Ghana    \n",
       "2 Villa       Forward  22    Spain    \n",
       "3 Messi       Forward  21    Argentina\n",
       "4 Suarez      Forward  19    Uruguay  \n",
       "5 Forlan      Forward  18    Uruguay  \n",
       "6 Ronaldo     Forward  18    Portugal "
      ]
     },
     "metadata": {},
     "output_type": "display_data"
    }
   ],
   "source": [
    "worldcup %>%\n",
    "  select(Player_Name, Position, Shots, Team) %>%\n",
    "  arrange(desc(Shots)) %>%\n",
    "  head()"
   ]
  },
  {
   "cell_type": "code",
   "execution_count": 7,
   "metadata": {},
   "outputs": [
    {
     "data": {
      "text/plain": [
       "\n",
       "\n",
       "|Player_Name    |Position   | Shots|Team        | Team_Standing|\n",
       "|:--------------|:----------|-----:|:-----------|-------------:|\n",
       "|Gyan           |Forward    |    27|Ghana       |             7|\n",
       "|Villa          |Forward    |    22|Spain       |             1|\n",
       "|Messi          |Forward    |    21|Argentina   |             5|\n",
       "|Suarez         |Forward    |    19|Uruguay     |             4|\n",
       "|Forlan         |Forward    |    18|Uruguay     |             4|\n",
       "|Ronaldo        |Forward    |    18|Portugal    |            11|\n",
       "|Podolski       |Forward    |    17|Germany     |             3|\n",
       "|Dempsey        |Midfielder |    15|USA         |            12|\n",
       "|Sneijder       |Midfielder |    15|Netherlands |             2|\n",
       "|Park Chu-Young |Forward    |    14|South Korea |            15|"
      ]
     },
     "metadata": {},
     "output_type": "display_data"
    }
   ],
   "source": [
    "worldcup %>%\n",
    " select(Player_Name, Position, Shots, Team) %>%\n",
    " arrange(desc(Shots)) %>% \n",
    " left_join(team_standings, by=\"Team\") %>%\n",
    " rename(Team_Standing = Standing) %>%\n",
    " slice(1:10) %>%\n",
    " kable()"
   ]
  }
 ],
 "metadata": {
  "kernelspec": {
   "display_name": "R",
   "language": "R",
   "name": "ir"
  },
  "language_info": {
   "codemirror_mode": "r",
   "file_extension": ".r",
   "mimetype": "text/x-r-source",
   "name": "R",
   "pygments_lexer": "r",
   "version": "3.4.1"
  }
 },
 "nbformat": 4,
 "nbformat_minor": 2
}
