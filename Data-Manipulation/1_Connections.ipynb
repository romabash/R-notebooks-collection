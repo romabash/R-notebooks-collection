{
 "cells": [
  {
   "cell_type": "markdown",
   "metadata": {},
   "source": [
    "# Connections:\n",
    "- file: connection to a file\n",
    "- gzfile: file compressed with gzip\n",
    "- bzfie: file compressed with bzip2\n",
    "- url: connection to a webpage"
   ]
  },
  {
   "cell_type": "markdown",
   "metadata": {},
   "source": [
    "## Connection to a file"
   ]
  },
  {
   "cell_type": "code",
   "execution_count": 1,
   "metadata": {
    "collapsed": true
   },
   "outputs": [],
   "source": [
    "con <- file(\"Data/team_standings.csv\", \"r\")\n",
    "data <- read.csv(con)\n",
    "close(con)"
   ]
  },
  {
   "cell_type": "code",
   "execution_count": 2,
   "metadata": {},
   "outputs": [
    {
     "data": {
      "text/html": [
       "<table>\n",
       "<thead><tr><th scope=col>Standing</th><th scope=col>Team</th></tr></thead>\n",
       "<tbody>\n",
       "\t<tr><td>1          </td><td>Spain      </td></tr>\n",
       "\t<tr><td>2          </td><td>Netherlands</td></tr>\n",
       "\t<tr><td>3          </td><td>Germany    </td></tr>\n",
       "\t<tr><td>4          </td><td>Uruguay    </td></tr>\n",
       "\t<tr><td>5          </td><td>Argentina  </td></tr>\n",
       "\t<tr><td>6          </td><td>Brazil     </td></tr>\n",
       "</tbody>\n",
       "</table>\n"
      ],
      "text/latex": [
       "\\begin{tabular}{r|ll}\n",
       " Standing & Team\\\\\n",
       "\\hline\n",
       "\t 1           & Spain      \\\\\n",
       "\t 2           & Netherlands\\\\\n",
       "\t 3           & Germany    \\\\\n",
       "\t 4           & Uruguay    \\\\\n",
       "\t 5           & Argentina  \\\\\n",
       "\t 6           & Brazil     \\\\\n",
       "\\end{tabular}\n"
      ],
      "text/markdown": [
       "\n",
       "Standing | Team | \n",
       "|---|---|---|---|---|---|\n",
       "| 1           | Spain       | \n",
       "| 2           | Netherlands | \n",
       "| 3           | Germany     | \n",
       "| 4           | Uruguay     | \n",
       "| 5           | Argentina   | \n",
       "| 6           | Brazil      | \n",
       "\n",
       "\n"
      ],
      "text/plain": [
       "  Standing Team       \n",
       "1 1        Spain      \n",
       "2 2        Netherlands\n",
       "3 3        Germany    \n",
       "4 4        Uruguay    \n",
       "5 5        Argentina  \n",
       "6 6        Brazil     "
      ]
     },
     "metadata": {},
     "output_type": "display_data"
    }
   ],
   "source": [
    "head(data)"
   ]
  },
  {
   "cell_type": "markdown",
   "metadata": {},
   "source": [
    "#### Same as above with read.csv()"
   ]
  },
  {
   "cell_type": "code",
   "execution_count": 3,
   "metadata": {},
   "outputs": [
    {
     "data": {
      "text/html": [
       "<table>\n",
       "<thead><tr><th scope=col>Standing</th><th scope=col>Team</th></tr></thead>\n",
       "<tbody>\n",
       "\t<tr><td>1          </td><td>Spain      </td></tr>\n",
       "\t<tr><td>2          </td><td>Netherlands</td></tr>\n",
       "\t<tr><td>3          </td><td>Germany    </td></tr>\n",
       "\t<tr><td>4          </td><td>Uruguay    </td></tr>\n",
       "\t<tr><td>5          </td><td>Argentina  </td></tr>\n",
       "\t<tr><td>6          </td><td>Brazil     </td></tr>\n",
       "</tbody>\n",
       "</table>\n"
      ],
      "text/latex": [
       "\\begin{tabular}{r|ll}\n",
       " Standing & Team\\\\\n",
       "\\hline\n",
       "\t 1           & Spain      \\\\\n",
       "\t 2           & Netherlands\\\\\n",
       "\t 3           & Germany    \\\\\n",
       "\t 4           & Uruguay    \\\\\n",
       "\t 5           & Argentina  \\\\\n",
       "\t 6           & Brazil     \\\\\n",
       "\\end{tabular}\n"
      ],
      "text/markdown": [
       "\n",
       "Standing | Team | \n",
       "|---|---|---|---|---|---|\n",
       "| 1           | Spain       | \n",
       "| 2           | Netherlands | \n",
       "| 3           | Germany     | \n",
       "| 4           | Uruguay     | \n",
       "| 5           | Argentina   | \n",
       "| 6           | Brazil      | \n",
       "\n",
       "\n"
      ],
      "text/plain": [
       "  Standing Team       \n",
       "1 1        Spain      \n",
       "2 2        Netherlands\n",
       "3 3        Germany    \n",
       "4 4        Uruguay    \n",
       "5 5        Argentina  \n",
       "6 6        Brazil     "
      ]
     },
     "metadata": {},
     "output_type": "display_data"
    }
   ],
   "source": [
    "df <- read.csv(\"Data/team_standings.csv\")\n",
    "head(df)"
   ]
  },
  {
   "cell_type": "markdown",
   "metadata": {},
   "source": [
    "## Connection to Url"
   ]
  },
  {
   "cell_type": "code",
   "execution_count": 4,
   "metadata": {},
   "outputs": [
    {
     "data": {
      "text/html": [
       "<ol class=list-inline>\n",
       "\t<li>'&lt;!DOCTYPE html&gt;'</li>\n",
       "\t<li>'&lt;html class=\"client-nojs\" lang=\"en\" dir=\"ltr\"&gt;'</li>\n",
       "\t<li>'&lt;head&gt;'</li>\n",
       "\t<li>'&lt;meta charset=\"UTF-8\"/&gt;'</li>\n",
       "\t<li>'&lt;title&gt;R (programming language) - Wikipedia&lt;/title&gt;'</li>\n",
       "\t<li>'&lt;script&gt;document.documentElement.className = document.documentElement.className.replace( /(^|\\s)client-nojs(\\s|$)/, \"$1client-js$2\" );&lt;/script&gt;'</li>\n",
       "</ol>\n"
      ],
      "text/latex": [
       "\\begin{enumerate*}\n",
       "\\item '<!DOCTYPE html>'\n",
       "\\item '<html class=\"client-nojs\" lang=\"en\" dir=\"ltr\">'\n",
       "\\item '<head>'\n",
       "\\item '<meta charset=\"UTF-8\"/>'\n",
       "\\item '<title>R (programming language) - Wikipedia</title>'\n",
       "\\item '<script>document.documentElement.className = document.documentElement.className.replace( /(\\textasciicircum{}\\textbar{}\\textbackslash{}s)client-nojs(\\textbackslash{}s\\textbar{}\\$)/, \"\\$1client-js\\$2\" );</script>'\n",
       "\\end{enumerate*}\n"
      ],
      "text/markdown": [
       "1. '&lt;!DOCTYPE html&gt;'\n",
       "2. '&lt;html class=\"client-nojs\" lang=\"en\" dir=\"ltr\"&gt;'\n",
       "3. '&lt;head&gt;'\n",
       "4. '&lt;meta charset=\"UTF-8\"/&gt;'\n",
       "5. '&lt;title&gt;R (programming language) - Wikipedia&lt;/title&gt;'\n",
       "6. '&lt;script&gt;document.documentElement.className = document.documentElement.className.replace( /(^|\\s)client-nojs(\\s|$)/, \"$1client-js$2\" );&lt;/script&gt;'\n",
       "\n",
       "\n"
      ],
      "text/plain": [
       "[1] \"<!DOCTYPE html>\"                                                                                                                                    \n",
       "[2] \"<html class=\\\"client-nojs\\\" lang=\\\"en\\\" dir=\\\"ltr\\\">\"                                                                                               \n",
       "[3] \"<head>\"                                                                                                                                             \n",
       "[4] \"<meta charset=\\\"UTF-8\\\"/>\"                                                                                                                          \n",
       "[5] \"<title>R (programming language) - Wikipedia</title>\"                                                                                                \n",
       "[6] \"<script>document.documentElement.className = document.documentElement.className.replace( /(^|\\\\s)client-nojs(\\\\s|$)/, \\\"$1client-js$2\\\" );</script>\""
      ]
     },
     "metadata": {},
     "output_type": "display_data"
    }
   ],
   "source": [
    "con <- url(\"https://en.wikipedia.org/wiki/R_(programming_language)\")\n",
    "data <- readLines(con)\n",
    "head(data)"
   ]
  },
  {
   "cell_type": "code",
   "execution_count": 5,
   "metadata": {
    "collapsed": true
   },
   "outputs": [],
   "source": [
    "close(con)"
   ]
  }
 ],
 "metadata": {
  "kernelspec": {
   "display_name": "R",
   "language": "R",
   "name": "ir"
  },
  "language_info": {
   "codemirror_mode": "r",
   "file_extension": ".r",
   "mimetype": "text/x-r-source",
   "name": "R",
   "pygments_lexer": "r",
   "version": "3.4.1"
  }
 },
 "nbformat": 4,
 "nbformat_minor": 2
}
