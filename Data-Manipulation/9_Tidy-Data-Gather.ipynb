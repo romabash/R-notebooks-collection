{
 "cells": [
  {
   "cell_type": "markdown",
   "metadata": {},
   "source": [
    "# Tidy Data"
   ]
  },
  {
   "cell_type": "markdown",
   "metadata": {},
   "source": [
    "### Load required Tidyverse packages"
   ]
  },
  {
   "cell_type": "code",
   "execution_count": 1,
   "metadata": {},
   "outputs": [
    {
     "name": "stderr",
     "output_type": "stream",
     "text": [
      "\n",
      "Attaching package: ‘dplyr’\n",
      "\n",
      "The following objects are masked from ‘package:stats’:\n",
      "\n",
      "    filter, lag\n",
      "\n",
      "The following objects are masked from ‘package:base’:\n",
      "\n",
      "    intersect, setdiff, setequal, union\n",
      "\n"
     ]
    }
   ],
   "source": [
    "library(readr)\n",
    "library(dplyr)\n",
    "library(tidyr)\n",
    "library(ggplot2)"
   ]
  },
  {
   "cell_type": "markdown",
   "metadata": {},
   "source": [
    "### Load in Dataset \"VADeaths\""
   ]
  },
  {
   "cell_type": "code",
   "execution_count": 12,
   "metadata": {},
   "outputs": [
    {
     "data": {
      "text/html": [
       "<table>\n",
       "<thead><tr><th></th><th scope=col>Rural Male</th><th scope=col>Rural Female</th><th scope=col>Urban Male</th><th scope=col>Urban Female</th></tr></thead>\n",
       "<tbody>\n",
       "\t<tr><th scope=row>50-54</th><td>11.7</td><td> 8.7</td><td>15.4</td><td> 8.4</td></tr>\n",
       "\t<tr><th scope=row>55-59</th><td>18.1</td><td>11.7</td><td>24.3</td><td>13.6</td></tr>\n",
       "\t<tr><th scope=row>60-64</th><td>26.9</td><td>20.3</td><td>37.0</td><td>19.3</td></tr>\n",
       "\t<tr><th scope=row>65-69</th><td>41.0</td><td>30.9</td><td>54.6</td><td>35.1</td></tr>\n",
       "\t<tr><th scope=row>70-74</th><td>66.0</td><td>54.3</td><td>71.1</td><td>50.0</td></tr>\n",
       "</tbody>\n",
       "</table>\n"
      ],
      "text/latex": [
       "\\begin{tabular}{r|llll}\n",
       "  & Rural Male & Rural Female & Urban Male & Urban Female\\\\\n",
       "\\hline\n",
       "\t50-54 & 11.7 &  8.7 & 15.4 &  8.4\\\\\n",
       "\t55-59 & 18.1 & 11.7 & 24.3 & 13.6\\\\\n",
       "\t60-64 & 26.9 & 20.3 & 37.0 & 19.3\\\\\n",
       "\t65-69 & 41.0 & 30.9 & 54.6 & 35.1\\\\\n",
       "\t70-74 & 66.0 & 54.3 & 71.1 & 50.0\\\\\n",
       "\\end{tabular}\n"
      ],
      "text/markdown": [
       "\n",
       "| <!--/--> | Rural Male | Rural Female | Urban Male | Urban Female | \n",
       "|---|---|---|---|---|\n",
       "| 50-54 | 11.7 |  8.7 | 15.4 |  8.4 | \n",
       "| 55-59 | 18.1 | 11.7 | 24.3 | 13.6 | \n",
       "| 60-64 | 26.9 | 20.3 | 37.0 | 19.3 | \n",
       "| 65-69 | 41.0 | 30.9 | 54.6 | 35.1 | \n",
       "| 70-74 | 66.0 | 54.3 | 71.1 | 50.0 | \n",
       "\n",
       "\n"
      ],
      "text/plain": [
       "      Rural Male Rural Female Urban Male Urban Female\n",
       "50-54 11.7        8.7         15.4        8.4        \n",
       "55-59 18.1       11.7         24.3       13.6        \n",
       "60-64 26.9       20.3         37.0       19.3        \n",
       "65-69 41.0       30.9         54.6       35.1        \n",
       "70-74 66.0       54.3         71.1       50.0        "
      ]
     },
     "metadata": {},
     "output_type": "display_data"
    }
   ],
   "source": [
    "data(\"VADeaths\")\n",
    "VADeaths"
   ]
  },
  {
   "cell_type": "markdown",
   "metadata": {},
   "source": [
    "### Convert to tibble and use mutate() function to move player names to its own column"
   ]
  },
  {
   "cell_type": "code",
   "execution_count": 13,
   "metadata": {},
   "outputs": [
    {
     "data": {
      "text/html": [
       "<table>\n",
       "<thead><tr><th scope=col>Rural Male</th><th scope=col>Rural Female</th><th scope=col>Urban Male</th><th scope=col>Urban Female</th><th scope=col>Age</th></tr></thead>\n",
       "<tbody>\n",
       "\t<tr><td>11.7 </td><td> 8.7 </td><td>15.4 </td><td> 8.4 </td><td>50-54</td></tr>\n",
       "\t<tr><td>18.1 </td><td>11.7 </td><td>24.3 </td><td>13.6 </td><td>55-59</td></tr>\n",
       "\t<tr><td>26.9 </td><td>20.3 </td><td>37.0 </td><td>19.3 </td><td>60-64</td></tr>\n",
       "\t<tr><td>41.0 </td><td>30.9 </td><td>54.6 </td><td>35.1 </td><td>65-69</td></tr>\n",
       "\t<tr><td>66.0 </td><td>54.3 </td><td>71.1 </td><td>50.0 </td><td>70-74</td></tr>\n",
       "</tbody>\n",
       "</table>\n"
      ],
      "text/latex": [
       "\\begin{tabular}{r|lllll}\n",
       " Rural Male & Rural Female & Urban Male & Urban Female & Age\\\\\n",
       "\\hline\n",
       "\t 11.7  &  8.7  & 15.4  &  8.4  & 50-54\\\\\n",
       "\t 18.1  & 11.7  & 24.3  & 13.6  & 55-59\\\\\n",
       "\t 26.9  & 20.3  & 37.0  & 19.3  & 60-64\\\\\n",
       "\t 41.0  & 30.9  & 54.6  & 35.1  & 65-69\\\\\n",
       "\t 66.0  & 54.3  & 71.1  & 50.0  & 70-74\\\\\n",
       "\\end{tabular}\n"
      ],
      "text/markdown": [
       "\n",
       "Rural Male | Rural Female | Urban Male | Urban Female | Age | \n",
       "|---|---|---|---|---|\n",
       "| 11.7  |  8.7  | 15.4  |  8.4  | 50-54 | \n",
       "| 18.1  | 11.7  | 24.3  | 13.6  | 55-59 | \n",
       "| 26.9  | 20.3  | 37.0  | 19.3  | 60-64 | \n",
       "| 41.0  | 30.9  | 54.6  | 35.1  | 65-69 | \n",
       "| 66.0  | 54.3  | 71.1  | 50.0  | 70-74 | \n",
       "\n",
       "\n"
      ],
      "text/plain": [
       "  Rural Male Rural Female Urban Male Urban Female Age  \n",
       "1 11.7        8.7         15.4        8.4         50-54\n",
       "2 18.1       11.7         24.3       13.6         55-59\n",
       "3 26.9       20.3         37.0       19.3         60-64\n",
       "4 41.0       30.9         54.6       35.1         65-69\n",
       "5 66.0       54.3         71.1       50.0         70-74"
      ]
     },
     "metadata": {},
     "output_type": "display_data"
    }
   ],
   "source": [
    "VADeaths <- VADeaths %>%\n",
    "  as_tibble() %>%\n",
    "  mutate(Age = rownames(VADeaths))\n",
    "\n",
    "VADeaths"
   ]
  },
  {
   "cell_type": "markdown",
   "metadata": {},
   "source": [
    "### Tidy up the Columns using the gather() function\n",
    "- Rural/Urban and Male/Female \n",
    "- Gather values spread across columns into a single column, with the column names gathered into a \"key\" column\n",
    "- Exclude Columns that don't need tobe gathered with a \"minus\" sign in gather() function\n",
    "- Gather everything but the \"age\" Column\n"
   ]
  },
  {
   "cell_type": "code",
   "execution_count": 14,
   "metadata": {},
   "outputs": [
    {
     "data": {
      "text/html": [
       "<table>\n",
       "<thead><tr><th scope=col>Age</th><th scope=col>Key</th><th scope=col>Death_Rate</th></tr></thead>\n",
       "<tbody>\n",
       "\t<tr><td>50-54       </td><td>Rural Male  </td><td>11.7        </td></tr>\n",
       "\t<tr><td>55-59       </td><td>Rural Male  </td><td>18.1        </td></tr>\n",
       "\t<tr><td>60-64       </td><td>Rural Male  </td><td>26.9        </td></tr>\n",
       "\t<tr><td>65-69       </td><td>Rural Male  </td><td>41.0        </td></tr>\n",
       "\t<tr><td>70-74       </td><td>Rural Male  </td><td>66.0        </td></tr>\n",
       "\t<tr><td>50-54       </td><td>Rural Female</td><td> 8.7        </td></tr>\n",
       "\t<tr><td>55-59       </td><td>Rural Female</td><td>11.7        </td></tr>\n",
       "\t<tr><td>60-64       </td><td>Rural Female</td><td>20.3        </td></tr>\n",
       "\t<tr><td>65-69       </td><td>Rural Female</td><td>30.9        </td></tr>\n",
       "\t<tr><td>70-74       </td><td>Rural Female</td><td>54.3        </td></tr>\n",
       "\t<tr><td>50-54       </td><td>Urban Male  </td><td>15.4        </td></tr>\n",
       "\t<tr><td>55-59       </td><td>Urban Male  </td><td>24.3        </td></tr>\n",
       "\t<tr><td>60-64       </td><td>Urban Male  </td><td>37.0        </td></tr>\n",
       "\t<tr><td>65-69       </td><td>Urban Male  </td><td>54.6        </td></tr>\n",
       "\t<tr><td>70-74       </td><td>Urban Male  </td><td>71.1        </td></tr>\n",
       "\t<tr><td>50-54       </td><td>Urban Female</td><td> 8.4        </td></tr>\n",
       "\t<tr><td>55-59       </td><td>Urban Female</td><td>13.6        </td></tr>\n",
       "\t<tr><td>60-64       </td><td>Urban Female</td><td>19.3        </td></tr>\n",
       "\t<tr><td>65-69       </td><td>Urban Female</td><td>35.1        </td></tr>\n",
       "\t<tr><td>70-74       </td><td>Urban Female</td><td>50.0        </td></tr>\n",
       "</tbody>\n",
       "</table>\n"
      ],
      "text/latex": [
       "\\begin{tabular}{r|lll}\n",
       " Age & Key & Death\\_Rate\\\\\n",
       "\\hline\n",
       "\t 50-54        & Rural Male   & 11.7        \\\\\n",
       "\t 55-59        & Rural Male   & 18.1        \\\\\n",
       "\t 60-64        & Rural Male   & 26.9        \\\\\n",
       "\t 65-69        & Rural Male   & 41.0        \\\\\n",
       "\t 70-74        & Rural Male   & 66.0        \\\\\n",
       "\t 50-54        & Rural Female &  8.7        \\\\\n",
       "\t 55-59        & Rural Female & 11.7        \\\\\n",
       "\t 60-64        & Rural Female & 20.3        \\\\\n",
       "\t 65-69        & Rural Female & 30.9        \\\\\n",
       "\t 70-74        & Rural Female & 54.3        \\\\\n",
       "\t 50-54        & Urban Male   & 15.4        \\\\\n",
       "\t 55-59        & Urban Male   & 24.3        \\\\\n",
       "\t 60-64        & Urban Male   & 37.0        \\\\\n",
       "\t 65-69        & Urban Male   & 54.6        \\\\\n",
       "\t 70-74        & Urban Male   & 71.1        \\\\\n",
       "\t 50-54        & Urban Female &  8.4        \\\\\n",
       "\t 55-59        & Urban Female & 13.6        \\\\\n",
       "\t 60-64        & Urban Female & 19.3        \\\\\n",
       "\t 65-69        & Urban Female & 35.1        \\\\\n",
       "\t 70-74        & Urban Female & 50.0        \\\\\n",
       "\\end{tabular}\n"
      ],
      "text/markdown": [
       "\n",
       "Age | Key | Death_Rate | \n",
       "|---|---|---|---|---|---|---|---|---|---|---|---|---|---|---|---|---|---|---|---|\n",
       "| 50-54        | Rural Male   | 11.7         | \n",
       "| 55-59        | Rural Male   | 18.1         | \n",
       "| 60-64        | Rural Male   | 26.9         | \n",
       "| 65-69        | Rural Male   | 41.0         | \n",
       "| 70-74        | Rural Male   | 66.0         | \n",
       "| 50-54        | Rural Female |  8.7         | \n",
       "| 55-59        | Rural Female | 11.7         | \n",
       "| 60-64        | Rural Female | 20.3         | \n",
       "| 65-69        | Rural Female | 30.9         | \n",
       "| 70-74        | Rural Female | 54.3         | \n",
       "| 50-54        | Urban Male   | 15.4         | \n",
       "| 55-59        | Urban Male   | 24.3         | \n",
       "| 60-64        | Urban Male   | 37.0         | \n",
       "| 65-69        | Urban Male   | 54.6         | \n",
       "| 70-74        | Urban Male   | 71.1         | \n",
       "| 50-54        | Urban Female |  8.4         | \n",
       "| 55-59        | Urban Female | 13.6         | \n",
       "| 60-64        | Urban Female | 19.3         | \n",
       "| 65-69        | Urban Female | 35.1         | \n",
       "| 70-74        | Urban Female | 50.0         | \n",
       "\n",
       "\n"
      ],
      "text/plain": [
       "   Age   Key          Death_Rate\n",
       "1  50-54 Rural Male   11.7      \n",
       "2  55-59 Rural Male   18.1      \n",
       "3  60-64 Rural Male   26.9      \n",
       "4  65-69 Rural Male   41.0      \n",
       "5  70-74 Rural Male   66.0      \n",
       "6  50-54 Rural Female  8.7      \n",
       "7  55-59 Rural Female 11.7      \n",
       "8  60-64 Rural Female 20.3      \n",
       "9  65-69 Rural Female 30.9      \n",
       "10 70-74 Rural Female 54.3      \n",
       "11 50-54 Urban Male   15.4      \n",
       "12 55-59 Urban Male   24.3      \n",
       "13 60-64 Urban Male   37.0      \n",
       "14 65-69 Urban Male   54.6      \n",
       "15 70-74 Urban Male   71.1      \n",
       "16 50-54 Urban Female  8.4      \n",
       "17 55-59 Urban Female 13.6      \n",
       "18 60-64 Urban Female 19.3      \n",
       "19 65-69 Urban Female 35.1      \n",
       "20 70-74 Urban Female 50.0      "
      ]
     },
     "metadata": {},
     "output_type": "display_data"
    }
   ],
   "source": [
    "VADeaths <- VADeaths %>%\n",
    "  gather(key = Key, value = Death_Rate, -Age)\n",
    "\n",
    "VADeaths"
   ]
  },
  {
   "cell_type": "markdown",
   "metadata": {},
   "source": [
    "# Gather is also useful when displying data\n",
    "- Using \"Worldcup\" Dataset from \"faraway\" package\n",
    "- Plot the relationship between the time a player played and number of saves, tackles, and shots\n",
    "- Using locally saved csv file"
   ]
  },
  {
   "cell_type": "code",
   "execution_count": 19,
   "metadata": {},
   "outputs": [
    {
     "name": "stderr",
     "output_type": "stream",
     "text": [
      "Parsed with column specification:\n",
      "cols(\n",
      "  Team = col_character(),\n",
      "  Position = col_character(),\n",
      "  Time = col_integer(),\n",
      "  Shots = col_integer(),\n",
      "  Passes = col_integer(),\n",
      "  Tackles = col_integer(),\n",
      "  Saves = col_integer(),\n",
      "  player_name = col_character()\n",
      ")\n"
     ]
    }
   ],
   "source": [
    "worldcup <- read_csv(\"Data/worldcup.csv\")"
   ]
  },
  {
   "cell_type": "code",
   "execution_count": 20,
   "metadata": {},
   "outputs": [
    {
     "data": {
      "text/html": [
       "<table>\n",
       "<thead><tr><th scope=col>Player_Name</th><th scope=col>Team</th><th scope=col>Position</th><th scope=col>Time</th><th scope=col>Shots</th><th scope=col>Passes</th><th scope=col>Tackles</th><th scope=col>Saves</th></tr></thead>\n",
       "<tbody>\n",
       "\t<tr><td>Abdoun    </td><td>Algeria   </td><td>Midfielder</td><td> 16       </td><td>0         </td><td>  6       </td><td> 0        </td><td>0         </td></tr>\n",
       "\t<tr><td>Abe       </td><td>Japan     </td><td>Midfielder</td><td>351       </td><td>0         </td><td>101       </td><td>14        </td><td>0         </td></tr>\n",
       "\t<tr><td>Abidal    </td><td>France    </td><td>Defender  </td><td>180       </td><td>0         </td><td> 91       </td><td> 6        </td><td>0         </td></tr>\n",
       "\t<tr><td>Abou Diaby</td><td>France    </td><td>Midfielder</td><td>270       </td><td>1         </td><td>111       </td><td> 5        </td><td>0         </td></tr>\n",
       "\t<tr><td>Aboubakar </td><td>Cameroon  </td><td>Forward   </td><td> 46       </td><td>2         </td><td> 16       </td><td> 0        </td><td>0         </td></tr>\n",
       "\t<tr><td>Abreu     </td><td>Uruguay   </td><td>Forward   </td><td> 72       </td><td>0         </td><td> 15       </td><td> 0        </td><td>0         </td></tr>\n",
       "</tbody>\n",
       "</table>\n"
      ],
      "text/latex": [
       "\\begin{tabular}{r|llllllll}\n",
       " Player\\_Name & Team & Position & Time & Shots & Passes & Tackles & Saves\\\\\n",
       "\\hline\n",
       "\t Abdoun     & Algeria    & Midfielder &  16        & 0          &   6        &  0         & 0         \\\\\n",
       "\t Abe        & Japan      & Midfielder & 351        & 0          & 101        & 14         & 0         \\\\\n",
       "\t Abidal     & France     & Defender   & 180        & 0          &  91        &  6         & 0         \\\\\n",
       "\t Abou Diaby & France     & Midfielder & 270        & 1          & 111        &  5         & 0         \\\\\n",
       "\t Aboubakar  & Cameroon   & Forward    &  46        & 2          &  16        &  0         & 0         \\\\\n",
       "\t Abreu      & Uruguay    & Forward    &  72        & 0          &  15        &  0         & 0         \\\\\n",
       "\\end{tabular}\n"
      ],
      "text/markdown": [
       "\n",
       "Player_Name | Team | Position | Time | Shots | Passes | Tackles | Saves | \n",
       "|---|---|---|---|---|---|\n",
       "| Abdoun     | Algeria    | Midfielder |  16        | 0          |   6        |  0         | 0          | \n",
       "| Abe        | Japan      | Midfielder | 351        | 0          | 101        | 14         | 0          | \n",
       "| Abidal     | France     | Defender   | 180        | 0          |  91        |  6         | 0          | \n",
       "| Abou Diaby | France     | Midfielder | 270        | 1          | 111        |  5         | 0          | \n",
       "| Aboubakar  | Cameroon   | Forward    |  46        | 2          |  16        |  0         | 0          | \n",
       "| Abreu      | Uruguay    | Forward    |  72        | 0          |  15        |  0         | 0          | \n",
       "\n",
       "\n"
      ],
      "text/plain": [
       "  Player_Name Team     Position   Time Shots Passes Tackles Saves\n",
       "1 Abdoun      Algeria  Midfielder  16  0       6     0      0    \n",
       "2 Abe         Japan    Midfielder 351  0     101    14      0    \n",
       "3 Abidal      France   Defender   180  0      91     6      0    \n",
       "4 Abou Diaby  France   Midfielder 270  1     111     5      0    \n",
       "5 Aboubakar   Cameroon Forward     46  2      16     0      0    \n",
       "6 Abreu       Uruguay  Forward     72  0      15     0      0    "
      ]
     },
     "metadata": {},
     "output_type": "display_data"
    }
   ],
   "source": [
    "worldcup <- worldcup %>%\n",
    "  select(player_name, everything()) %>%\n",
    "  rename(Player_Name = player_name)\n",
    "\n",
    "head(worldcup)"
   ]
  },
  {
   "cell_type": "markdown",
   "metadata": {},
   "source": [
    "### Using select() and gather() functions\n",
    "- Select Position, Time, Shots, Tackles, Saves\n",
    "- Exclude Position and Time to keep as separate Columns\n",
    "- Gather Shots, Tackles and Saves\n",
    "- key = Type, which are column names\n",
    "- value = Number, which are observations in those columns"
   ]
  },
  {
   "cell_type": "code",
   "execution_count": 22,
   "metadata": {},
   "outputs": [
    {
     "data": {
      "text/html": [
       "<table>\n",
       "<thead><tr><th scope=col>Position</th><th scope=col>Time</th><th scope=col>Type</th><th scope=col>Number</th></tr></thead>\n",
       "<tbody>\n",
       "\t<tr><td>Goalkeeper</td><td>450       </td><td>Shots     </td><td> 0        </td></tr>\n",
       "\t<tr><td>Defender  </td><td>  2       </td><td>Saves     </td><td> 0        </td></tr>\n",
       "\t<tr><td>Defender  </td><td>270       </td><td>Tackles   </td><td>10        </td></tr>\n",
       "\t<tr><td>Defender  </td><td>  2       </td><td>Shots     </td><td> 0        </td></tr>\n",
       "\t<tr><td>Forward   </td><td>117       </td><td>Tackles   </td><td> 0        </td></tr>\n",
       "\t<tr><td>Defender  </td><td>180       </td><td>Shots     </td><td> 0        </td></tr>\n",
       "\t<tr><td>Defender  </td><td>270       </td><td>Shots     </td><td> 1        </td></tr>\n",
       "\t<tr><td>Defender  </td><td>540       </td><td>Tackles   </td><td>16        </td></tr>\n",
       "\t<tr><td>Defender  </td><td> 90       </td><td>Saves     </td><td> 0        </td></tr>\n",
       "\t<tr><td>Midfielder</td><td>532       </td><td>Tackles   </td><td> 7        </td></tr>\n",
       "</tbody>\n",
       "</table>\n"
      ],
      "text/latex": [
       "\\begin{tabular}{r|llll}\n",
       " Position & Time & Type & Number\\\\\n",
       "\\hline\n",
       "\t Goalkeeper & 450        & Shots      &  0        \\\\\n",
       "\t Defender   &   2        & Saves      &  0        \\\\\n",
       "\t Defender   & 270        & Tackles    & 10        \\\\\n",
       "\t Defender   &   2        & Shots      &  0        \\\\\n",
       "\t Forward    & 117        & Tackles    &  0        \\\\\n",
       "\t Defender   & 180        & Shots      &  0        \\\\\n",
       "\t Defender   & 270        & Shots      &  1        \\\\\n",
       "\t Defender   & 540        & Tackles    & 16        \\\\\n",
       "\t Defender   &  90        & Saves      &  0        \\\\\n",
       "\t Midfielder & 532        & Tackles    &  7        \\\\\n",
       "\\end{tabular}\n"
      ],
      "text/markdown": [
       "\n",
       "Position | Time | Type | Number | \n",
       "|---|---|---|---|---|---|---|---|---|---|\n",
       "| Goalkeeper | 450        | Shots      |  0         | \n",
       "| Defender   |   2        | Saves      |  0         | \n",
       "| Defender   | 270        | Tackles    | 10         | \n",
       "| Defender   |   2        | Shots      |  0         | \n",
       "| Forward    | 117        | Tackles    |  0         | \n",
       "| Defender   | 180        | Shots      |  0         | \n",
       "| Defender   | 270        | Shots      |  1         | \n",
       "| Defender   | 540        | Tackles    | 16         | \n",
       "| Defender   |  90        | Saves      |  0         | \n",
       "| Midfielder | 532        | Tackles    |  7         | \n",
       "\n",
       "\n"
      ],
      "text/plain": [
       "   Position   Time Type    Number\n",
       "1  Goalkeeper 450  Shots    0    \n",
       "2  Defender     2  Saves    0    \n",
       "3  Defender   270  Tackles 10    \n",
       "4  Defender     2  Shots    0    \n",
       "5  Forward    117  Tackles  0    \n",
       "6  Defender   180  Shots    0    \n",
       "7  Defender   270  Shots    1    \n",
       "8  Defender   540  Tackles 16    \n",
       "9  Defender    90  Saves    0    \n",
       "10 Midfielder 532  Tackles  7    "
      ]
     },
     "metadata": {},
     "output_type": "display_data"
    }
   ],
   "source": [
    "worldcup %>%\n",
    "  select(Position, Time, Shots, Tackles, Saves) %>%\n",
    "  gather(key = Type, value = Number, -Position, -Time) %>%\n",
    "  sample_n(10)"
   ]
  },
  {
   "cell_type": "markdown",
   "metadata": {},
   "source": [
    "### Plot using ggplo2"
   ]
  },
  {
   "cell_type": "code",
   "execution_count": 23,
   "metadata": {},
   "outputs": [
    {
     "data": {},
     "metadata": {},
     "output_type": "display_data"
    },
    {
     "data": {
      "image/png": "[encoded data removed]",
      "text/plain": [
       "plot without title"
      ]
     },
     "metadata": {},
     "output_type": "display_data"
    }
   ],
   "source": [
    "worldcup %>%\n",
    "  select(Position, Time, Shots, Tackles, Saves) %>%\n",
    "  gather(Type, Number, -Position, -Time) %>%\n",
    "  ggplot(aes(x = Time, y = Number)) + \n",
    "  geom_point() + \n",
    "  facet_grid(Type ~ Position)"
   ]
  }
 ],
 "metadata": {
  "kernelspec": {
   "display_name": "R",
   "language": "R",
   "name": "ir"
  },
  "language_info": {
   "codemirror_mode": "r",
   "file_extension": ".r",
   "mimetype": "text/x-r-source",
   "name": "R",
   "pygments_lexer": "r",
   "version": "3.4.1"
  }
 },
 "nbformat": 4,
 "nbformat_minor": 2
}
