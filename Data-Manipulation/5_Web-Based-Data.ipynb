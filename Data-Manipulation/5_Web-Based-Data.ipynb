{
 "cells": [
  {
   "cell_type": "markdown",
   "metadata": {},
   "source": [
    "# Getting Flat Files Online"
   ]
  },
  {
   "cell_type": "markdown",
   "metadata": {},
   "source": [
    "- Using the read_fwf() function to read the file\n",
    "- Since it's a flat file, will need to provide column width separation\n",
    "- “Extended Best Tracks” for the North Atlantic are hurricane tracks that include both the best estimate of the the storm (northeast, northwest, southeast, southwest) at each measurement point"
   ]
  },
  {
   "cell_type": "markdown",
   "metadata": {},
   "source": [
    "### Load the packages: readr and dplyr"
   ]
  },
  {
   "cell_type": "code",
   "execution_count": 1,
   "metadata": {},
   "outputs": [
    {
     "name": "stderr",
     "output_type": "stream",
     "text": [
      "\n",
      "Attaching package: ‘dplyr’\n",
      "\n",
      "The following objects are masked from ‘package:stats’:\n",
      "\n",
      "    filter, lag\n",
      "\n",
      "The following objects are masked from ‘package:base’:\n",
      "\n",
      "    intersect, setdiff, setequal, union\n",
      "\n"
     ]
    }
   ],
   "source": [
    "library(readr)\n",
    "library(dplyr)"
   ]
  },
  {
   "cell_type": "code",
   "execution_count": 2,
   "metadata": {
    "collapsed": true
   },
   "outputs": [],
   "source": [
    "#Get the URL\n",
    "url <- paste0(\"http://rammb.cira.colostate.edu/research/\",\n",
    "              \"tropical_cyclones/tc_extended_best_track_dataset/\",\n",
    "              \"data/ebtrk_atlc_1988_2015.txt\")"
   ]
  },
  {
   "cell_type": "code",
   "execution_count": 3,
   "metadata": {
    "collapsed": true
   },
   "outputs": [],
   "source": [
    "# Create a vector of the width of each column \n",
    "ext_tracks_widths <- c(7,10,2,2,3,5,5,6,4,5,4,4,5,3,4,3,3,3,4,3,3,3,4,3,3,3,2,6,1)"
   ]
  },
  {
   "cell_type": "code",
   "execution_count": 4,
   "metadata": {
    "collapsed": true
   },
   "outputs": [],
   "source": [
    "# Create a vector of column names, based on the online documentation for this data \n",
    "ext_tracks_colnames <- c(\"storm_id\", \"storm_name\", \"month\", \"day\", \"hour\", \"year\", \n",
    "                         \"latitude\", \"longitude\", \"max_wind\", \"min_pressure\", \"rad_max_wind\", \n",
    "                         \"eye_diameter\", \"pressure_1\", \"pressure_2\", \n",
    "                         paste (\"radius_34\" , c(\"ne\", \"se\", \"sw\", \"nw\"), sep = \"_\"), \n",
    "                         paste (\"radius_50\" , c(\"ne\", \"se\", \"sw\", \"nw\"), sep = \"_\"), \n",
    "                         paste (\"radius_64\" , c(\"ne\", \"se\", \"sw\", \"nw\"),sep = \"_\"), \n",
    "                         \"storm_type\", \"distance_to_land\", \"final\")"
   ]
  },
  {
   "cell_type": "code",
   "execution_count": 5,
   "metadata": {},
   "outputs": [
    {
     "name": "stderr",
     "output_type": "stream",
     "text": [
      "Parsed with column specification:\n",
      "cols(\n",
      "  .default = col_integer(),\n",
      "  storm_id = col_character(),\n",
      "  storm_name = col_character(),\n",
      "  month = col_character(),\n",
      "  day = col_character(),\n",
      "  hour = col_character(),\n",
      "  latitude = col_double(),\n",
      "  longitude = col_double(),\n",
      "  storm_type = col_character(),\n",
      "  final = col_character()\n",
      ")\n",
      "See spec(...) for full column specifications.\n"
     ]
    }
   ],
   "source": [
    "# Read the file in from its url \n",
    "ext_tracks <- read_fwf(url, fwf_widths(ext_tracks_widths, ext_tracks_colnames), na = \"-99\")"
   ]
  },
  {
   "cell_type": "code",
   "execution_count": 6,
   "metadata": {},
   "outputs": [
    {
     "data": {
      "text/html": [
       "<ol class=list-inline>\n",
       "\t<li>'tbl_df'</li>\n",
       "\t<li>'tbl'</li>\n",
       "\t<li>'data.frame'</li>\n",
       "</ol>\n"
      ],
      "text/latex": [
       "\\begin{enumerate*}\n",
       "\\item 'tbl\\_df'\n",
       "\\item 'tbl'\n",
       "\\item 'data.frame'\n",
       "\\end{enumerate*}\n"
      ],
      "text/markdown": [
       "1. 'tbl_df'\n",
       "2. 'tbl'\n",
       "3. 'data.frame'\n",
       "\n",
       "\n"
      ],
      "text/plain": [
       "[1] \"tbl_df\"     \"tbl\"        \"data.frame\""
      ]
     },
     "metadata": {},
     "output_type": "display_data"
    }
   ],
   "source": [
    "class(ext_tracks)"
   ]
  },
  {
   "cell_type": "code",
   "execution_count": 7,
   "metadata": {},
   "outputs": [
    {
     "data": {
      "text/html": [
       "<table>\n",
       "<thead><tr><th scope=col>storm_id</th><th scope=col>storm_name</th><th scope=col>month</th><th scope=col>day</th><th scope=col>hour</th><th scope=col>year</th><th scope=col>latitude</th><th scope=col>longitude</th><th scope=col>max_wind</th><th scope=col>min_pressure</th><th scope=col>⋯</th><th scope=col>radius_50_se</th><th scope=col>radius_50_sw</th><th scope=col>radius_50_nw</th><th scope=col>radius_64_ne</th><th scope=col>radius_64_se</th><th scope=col>radius_64_sw</th><th scope=col>radius_64_nw</th><th scope=col>storm_type</th><th scope=col>distance_to_land</th><th scope=col>final</th></tr></thead>\n",
       "<tbody>\n",
       "\t<tr><td>AL0188 </td><td>ALBERTO</td><td>08     </td><td>05     </td><td>18     </td><td>1988   </td><td>32.0   </td><td>77.5   </td><td>20     </td><td>1015   </td><td>⋯      </td><td>0      </td><td>0      </td><td>0      </td><td>0      </td><td>0      </td><td>0      </td><td>0      </td><td>*      </td><td>218    </td><td>.      </td></tr>\n",
       "\t<tr><td>AL0188 </td><td>ALBERTO</td><td>08     </td><td>06     </td><td>00     </td><td>1988   </td><td>32.8   </td><td>76.2   </td><td>20     </td><td>1014   </td><td>⋯      </td><td>0      </td><td>0      </td><td>0      </td><td>0      </td><td>0      </td><td>0      </td><td>0      </td><td>*      </td><td>213    </td><td>.      </td></tr>\n",
       "\t<tr><td>AL0188 </td><td>ALBERTO</td><td>08     </td><td>06     </td><td>06     </td><td>1988   </td><td>34.0   </td><td>75.2   </td><td>20     </td><td>1013   </td><td>⋯      </td><td>0      </td><td>0      </td><td>0      </td><td>0      </td><td>0      </td><td>0      </td><td>0      </td><td>*      </td><td>149    </td><td>.      </td></tr>\n",
       "\t<tr><td>AL0188 </td><td>ALBERTO</td><td>08     </td><td>06     </td><td>12     </td><td>1988   </td><td>35.2   </td><td>74.6   </td><td>25     </td><td>1012   </td><td>⋯      </td><td>0      </td><td>0      </td><td>0      </td><td>0      </td><td>0      </td><td>0      </td><td>0      </td><td>*      </td><td>126    </td><td>.      </td></tr>\n",
       "\t<tr><td>AL0188 </td><td>ALBERTO</td><td>08     </td><td>06     </td><td>18     </td><td>1988   </td><td>37.0   </td><td>73.5   </td><td>25     </td><td>1011   </td><td>⋯      </td><td>0      </td><td>0      </td><td>0      </td><td>0      </td><td>0      </td><td>0      </td><td>0      </td><td>*      </td><td>197    </td><td>.      </td></tr>\n",
       "\t<tr><td>AL0188 </td><td>ALBERTO</td><td>08     </td><td>07     </td><td>00     </td><td>1988   </td><td>38.7   </td><td>72.4   </td><td>25     </td><td>1009   </td><td>⋯      </td><td>0      </td><td>0      </td><td>0      </td><td>0      </td><td>0      </td><td>0      </td><td>0      </td><td>*      </td><td>193    </td><td>.      </td></tr>\n",
       "</tbody>\n",
       "</table>\n"
      ],
      "text/latex": [
       "\\begin{tabular}{r|lllllllllllllllllllllllllllll}\n",
       " storm\\_id & storm\\_name & month & day & hour & year & latitude & longitude & max\\_wind & min\\_pressure & ⋯ & radius\\_50\\_se & radius\\_50\\_sw & radius\\_50\\_nw & radius\\_64\\_ne & radius\\_64\\_se & radius\\_64\\_sw & radius\\_64\\_nw & storm\\_type & distance\\_to\\_land & final\\\\\n",
       "\\hline\n",
       "\t AL0188  & ALBERTO & 08      & 05      & 18      & 1988    & 32.0    & 77.5    & 20      & 1015    & ⋯       & 0       & 0       & 0       & 0       & 0       & 0       & 0       & *       & 218     & .      \\\\\n",
       "\t AL0188  & ALBERTO & 08      & 06      & 00      & 1988    & 32.8    & 76.2    & 20      & 1014    & ⋯       & 0       & 0       & 0       & 0       & 0       & 0       & 0       & *       & 213     & .      \\\\\n",
       "\t AL0188  & ALBERTO & 08      & 06      & 06      & 1988    & 34.0    & 75.2    & 20      & 1013    & ⋯       & 0       & 0       & 0       & 0       & 0       & 0       & 0       & *       & 149     & .      \\\\\n",
       "\t AL0188  & ALBERTO & 08      & 06      & 12      & 1988    & 35.2    & 74.6    & 25      & 1012    & ⋯       & 0       & 0       & 0       & 0       & 0       & 0       & 0       & *       & 126     & .      \\\\\n",
       "\t AL0188  & ALBERTO & 08      & 06      & 18      & 1988    & 37.0    & 73.5    & 25      & 1011    & ⋯       & 0       & 0       & 0       & 0       & 0       & 0       & 0       & *       & 197     & .      \\\\\n",
       "\t AL0188  & ALBERTO & 08      & 07      & 00      & 1988    & 38.7    & 72.4    & 25      & 1009    & ⋯       & 0       & 0       & 0       & 0       & 0       & 0       & 0       & *       & 193     & .      \\\\\n",
       "\\end{tabular}\n"
      ],
      "text/markdown": [
       "\n",
       "storm_id | storm_name | month | day | hour | year | latitude | longitude | max_wind | min_pressure | ⋯ | radius_50_se | radius_50_sw | radius_50_nw | radius_64_ne | radius_64_se | radius_64_sw | radius_64_nw | storm_type | distance_to_land | final | \n",
       "|---|---|---|---|---|---|\n",
       "| AL0188  | ALBERTO | 08      | 05      | 18      | 1988    | 32.0    | 77.5    | 20      | 1015    | ⋯       | 0       | 0       | 0       | 0       | 0       | 0       | 0       | *       | 218     | .       | \n",
       "| AL0188  | ALBERTO | 08      | 06      | 00      | 1988    | 32.8    | 76.2    | 20      | 1014    | ⋯       | 0       | 0       | 0       | 0       | 0       | 0       | 0       | *       | 213     | .       | \n",
       "| AL0188  | ALBERTO | 08      | 06      | 06      | 1988    | 34.0    | 75.2    | 20      | 1013    | ⋯       | 0       | 0       | 0       | 0       | 0       | 0       | 0       | *       | 149     | .       | \n",
       "| AL0188  | ALBERTO | 08      | 06      | 12      | 1988    | 35.2    | 74.6    | 25      | 1012    | ⋯       | 0       | 0       | 0       | 0       | 0       | 0       | 0       | *       | 126     | .       | \n",
       "| AL0188  | ALBERTO | 08      | 06      | 18      | 1988    | 37.0    | 73.5    | 25      | 1011    | ⋯       | 0       | 0       | 0       | 0       | 0       | 0       | 0       | *       | 197     | .       | \n",
       "| AL0188  | ALBERTO | 08      | 07      | 00      | 1988    | 38.7    | 72.4    | 25      | 1009    | ⋯       | 0       | 0       | 0       | 0       | 0       | 0       | 0       | *       | 193     | .       | \n",
       "\n",
       "\n"
      ],
      "text/plain": [
       "  storm_id storm_name month day hour year latitude longitude max_wind\n",
       "1 AL0188   ALBERTO    08    05  18   1988 32.0     77.5      20      \n",
       "2 AL0188   ALBERTO    08    06  00   1988 32.8     76.2      20      \n",
       "3 AL0188   ALBERTO    08    06  06   1988 34.0     75.2      20      \n",
       "4 AL0188   ALBERTO    08    06  12   1988 35.2     74.6      25      \n",
       "5 AL0188   ALBERTO    08    06  18   1988 37.0     73.5      25      \n",
       "6 AL0188   ALBERTO    08    07  00   1988 38.7     72.4      25      \n",
       "  min_pressure ⋯ radius_50_se radius_50_sw radius_50_nw radius_64_ne\n",
       "1 1015         ⋯ 0            0            0            0           \n",
       "2 1014         ⋯ 0            0            0            0           \n",
       "3 1013         ⋯ 0            0            0            0           \n",
       "4 1012         ⋯ 0            0            0            0           \n",
       "5 1011         ⋯ 0            0            0            0           \n",
       "6 1009         ⋯ 0            0            0            0           \n",
       "  radius_64_se radius_64_sw radius_64_nw storm_type distance_to_land final\n",
       "1 0            0            0            *          218              .    \n",
       "2 0            0            0            *          213              .    \n",
       "3 0            0            0            *          149              .    \n",
       "4 0            0            0            *          126              .    \n",
       "5 0            0            0            *          197              .    \n",
       "6 0            0            0            *          193              .    "
      ]
     },
     "metadata": {},
     "output_type": "display_data"
    }
   ],
   "source": [
    "head(ext_tracks)"
   ]
  },
  {
   "cell_type": "code",
   "execution_count": 8,
   "metadata": {
    "scrolled": true
   },
   "outputs": [
    {
     "data": {
      "text/html": [
       "<table>\n",
       "<thead><tr><th scope=col>storm_id</th><th scope=col>storm_name</th><th scope=col>month</th><th scope=col>day</th><th scope=col>hour</th><th scope=col>year</th><th scope=col>latitude</th><th scope=col>longitude</th><th scope=col>max_wind</th><th scope=col>min_pressure</th><th scope=col>rad_max_wind</th><th scope=col>eye_diameter</th></tr></thead>\n",
       "<tbody>\n",
       "\t<tr><td>AL0188 </td><td>ALBERTO</td><td>08     </td><td>05     </td><td>18     </td><td>1988   </td><td>32.0   </td><td>77.5   </td><td>20     </td><td>1015   </td><td>NA     </td><td>NA     </td></tr>\n",
       "\t<tr><td>AL0188 </td><td>ALBERTO</td><td>08     </td><td>06     </td><td>00     </td><td>1988   </td><td>32.8   </td><td>76.2   </td><td>20     </td><td>1014   </td><td>NA     </td><td>NA     </td></tr>\n",
       "\t<tr><td>AL0188 </td><td>ALBERTO</td><td>08     </td><td>06     </td><td>06     </td><td>1988   </td><td>34.0   </td><td>75.2   </td><td>20     </td><td>1013   </td><td>NA     </td><td>NA     </td></tr>\n",
       "</tbody>\n",
       "</table>\n"
      ],
      "text/latex": [
       "\\begin{tabular}{r|llllllllllll}\n",
       " storm\\_id & storm\\_name & month & day & hour & year & latitude & longitude & max\\_wind & min\\_pressure & rad\\_max\\_wind & eye\\_diameter\\\\\n",
       "\\hline\n",
       "\t AL0188  & ALBERTO & 08      & 05      & 18      & 1988    & 32.0    & 77.5    & 20      & 1015    & NA      & NA     \\\\\n",
       "\t AL0188  & ALBERTO & 08      & 06      & 00      & 1988    & 32.8    & 76.2    & 20      & 1014    & NA      & NA     \\\\\n",
       "\t AL0188  & ALBERTO & 08      & 06      & 06      & 1988    & 34.0    & 75.2    & 20      & 1013    & NA      & NA     \\\\\n",
       "\\end{tabular}\n"
      ],
      "text/markdown": [
       "\n",
       "storm_id | storm_name | month | day | hour | year | latitude | longitude | max_wind | min_pressure | rad_max_wind | eye_diameter | \n",
       "|---|---|---|\n",
       "| AL0188  | ALBERTO | 08      | 05      | 18      | 1988    | 32.0    | 77.5    | 20      | 1015    | NA      | NA      | \n",
       "| AL0188  | ALBERTO | 08      | 06      | 00      | 1988    | 32.8    | 76.2    | 20      | 1014    | NA      | NA      | \n",
       "| AL0188  | ALBERTO | 08      | 06      | 06      | 1988    | 34.0    | 75.2    | 20      | 1013    | NA      | NA      | \n",
       "\n",
       "\n"
      ],
      "text/plain": [
       "  storm_id storm_name month day hour year latitude longitude max_wind\n",
       "1 AL0188   ALBERTO    08    05  18   1988 32.0     77.5      20      \n",
       "2 AL0188   ALBERTO    08    06  00   1988 32.8     76.2      20      \n",
       "3 AL0188   ALBERTO    08    06  06   1988 34.0     75.2      20      \n",
       "  min_pressure rad_max_wind eye_diameter\n",
       "1 1015         NA           NA          \n",
       "2 1014         NA           NA          \n",
       "3 1013         NA           NA          "
      ]
     },
     "metadata": {},
     "output_type": "display_data"
    }
   ],
   "source": [
    "ext_tracks[1:3, 1:12]"
   ]
  },
  {
   "cell_type": "markdown",
   "metadata": {},
   "source": [
    "### Manipulate Data with dplyr:\n",
    "- Print a sample of four rows of data from Hurricane Katrina, with, for each row, the date and time, maximum wind speed, minimum pressure, and the radius of maximum winds of the storm for that observation:"
   ]
  },
  {
   "cell_type": "code",
   "execution_count": 9,
   "metadata": {},
   "outputs": [
    {
     "data": {
      "text/html": [
       "<table>\n",
       "<thead><tr><th scope=col>month</th><th scope=col>day</th><th scope=col>hour</th><th scope=col>max_wind</th><th scope=col>min_pressure</th><th scope=col>rad_max_wind</th></tr></thead>\n",
       "<tbody>\n",
       "\t<tr><td>11  </td><td>01  </td><td>00  </td><td> 20 </td><td>1010</td><td>90  </td></tr>\n",
       "\t<tr><td>08  </td><td>25  </td><td>06  </td><td> 50 </td><td> 997</td><td>30  </td></tr>\n",
       "\t<tr><td>08  </td><td>24  </td><td>12  </td><td> 35 </td><td>1006</td><td>55  </td></tr>\n",
       "\t<tr><td>08  </td><td>30  </td><td>18  </td><td> 30 </td><td> 990</td><td>NA  </td></tr>\n",
       "\t<tr><td>08  </td><td>29  </td><td>00  </td><td>140 </td><td> 905</td><td>20  </td></tr>\n",
       "</tbody>\n",
       "</table>\n"
      ],
      "text/latex": [
       "\\begin{tabular}{r|llllll}\n",
       " month & day & hour & max\\_wind & min\\_pressure & rad\\_max\\_wind\\\\\n",
       "\\hline\n",
       "\t 11   & 01   & 00   &  20  & 1010 & 90  \\\\\n",
       "\t 08   & 25   & 06   &  50  &  997 & 30  \\\\\n",
       "\t 08   & 24   & 12   &  35  & 1006 & 55  \\\\\n",
       "\t 08   & 30   & 18   &  30  &  990 & NA  \\\\\n",
       "\t 08   & 29   & 00   & 140  &  905 & 20  \\\\\n",
       "\\end{tabular}\n"
      ],
      "text/markdown": [
       "\n",
       "month | day | hour | max_wind | min_pressure | rad_max_wind | \n",
       "|---|---|---|---|---|\n",
       "| 11   | 01   | 00   |  20  | 1010 | 90   | \n",
       "| 08   | 25   | 06   |  50  |  997 | 30   | \n",
       "| 08   | 24   | 12   |  35  | 1006 | 55   | \n",
       "| 08   | 30   | 18   |  30  |  990 | NA   | \n",
       "| 08   | 29   | 00   | 140  |  905 | 20   | \n",
       "\n",
       "\n"
      ],
      "text/plain": [
       "  month day hour max_wind min_pressure rad_max_wind\n",
       "1 11    01  00    20      1010         90          \n",
       "2 08    25  06    50       997         30          \n",
       "3 08    24  12    35      1006         55          \n",
       "4 08    30  18    30       990         NA          \n",
       "5 08    29  00   140       905         20          "
      ]
     },
     "metadata": {},
     "output_type": "display_data"
    }
   ],
   "source": [
    "ext_tracks %>% \n",
    "filter(storm_name == \"KATRINA\") %>% \n",
    "select(month, day, hour, max_wind, min_pressure, rad_max_wind) %>% \n",
    "sample_n(5)"
   ]
  },
  {
   "cell_type": "markdown",
   "metadata": {},
   "source": [
    "### Wrtite to save as a csv file:"
   ]
  },
  {
   "cell_type": "code",
   "execution_count": 10,
   "metadata": {
    "collapsed": true
   },
   "outputs": [],
   "source": [
    "write_csv(ext_tracks, \"Data/hurricane_data.csv\")"
   ]
  },
  {
   "cell_type": "markdown",
   "metadata": {},
   "source": [
    "#### Read back in"
   ]
  },
  {
   "cell_type": "code",
   "execution_count": 11,
   "metadata": {},
   "outputs": [
    {
     "name": "stderr",
     "output_type": "stream",
     "text": [
      "Parsed with column specification:\n",
      "cols(\n",
      "  .default = col_integer(),\n",
      "  storm_id = col_character(),\n",
      "  storm_name = col_character(),\n",
      "  month = col_character(),\n",
      "  day = col_character(),\n",
      "  hour = col_character(),\n",
      "  latitude = col_double(),\n",
      "  longitude = col_double(),\n",
      "  storm_type = col_character(),\n",
      "  final = col_character()\n",
      ")\n",
      "See spec(...) for full column specifications.\n"
     ]
    },
    {
     "data": {
      "text/html": [
       "<table>\n",
       "<thead><tr><th scope=col>storm_id</th><th scope=col>storm_name</th><th scope=col>month</th><th scope=col>day</th><th scope=col>hour</th><th scope=col>year</th><th scope=col>latitude</th><th scope=col>longitude</th><th scope=col>max_wind</th><th scope=col>min_pressure</th><th scope=col>⋯</th><th scope=col>radius_50_se</th><th scope=col>radius_50_sw</th><th scope=col>radius_50_nw</th><th scope=col>radius_64_ne</th><th scope=col>radius_64_se</th><th scope=col>radius_64_sw</th><th scope=col>radius_64_nw</th><th scope=col>storm_type</th><th scope=col>distance_to_land</th><th scope=col>final</th></tr></thead>\n",
       "<tbody>\n",
       "\t<tr><td>AL0188 </td><td>ALBERTO</td><td>08     </td><td>05     </td><td>18     </td><td>1988   </td><td>32.0   </td><td>77.5   </td><td>20     </td><td>1015   </td><td>⋯      </td><td>0      </td><td>0      </td><td>0      </td><td>0      </td><td>0      </td><td>0      </td><td>0      </td><td>*      </td><td>218    </td><td>.      </td></tr>\n",
       "\t<tr><td>AL0188 </td><td>ALBERTO</td><td>08     </td><td>06     </td><td>00     </td><td>1988   </td><td>32.8   </td><td>76.2   </td><td>20     </td><td>1014   </td><td>⋯      </td><td>0      </td><td>0      </td><td>0      </td><td>0      </td><td>0      </td><td>0      </td><td>0      </td><td>*      </td><td>213    </td><td>.      </td></tr>\n",
       "\t<tr><td>AL0188 </td><td>ALBERTO</td><td>08     </td><td>06     </td><td>06     </td><td>1988   </td><td>34.0   </td><td>75.2   </td><td>20     </td><td>1013   </td><td>⋯      </td><td>0      </td><td>0      </td><td>0      </td><td>0      </td><td>0      </td><td>0      </td><td>0      </td><td>*      </td><td>149    </td><td>.      </td></tr>\n",
       "\t<tr><td>AL0188 </td><td>ALBERTO</td><td>08     </td><td>06     </td><td>12     </td><td>1988   </td><td>35.2   </td><td>74.6   </td><td>25     </td><td>1012   </td><td>⋯      </td><td>0      </td><td>0      </td><td>0      </td><td>0      </td><td>0      </td><td>0      </td><td>0      </td><td>*      </td><td>126    </td><td>.      </td></tr>\n",
       "\t<tr><td>AL0188 </td><td>ALBERTO</td><td>08     </td><td>06     </td><td>18     </td><td>1988   </td><td>37.0   </td><td>73.5   </td><td>25     </td><td>1011   </td><td>⋯      </td><td>0      </td><td>0      </td><td>0      </td><td>0      </td><td>0      </td><td>0      </td><td>0      </td><td>*      </td><td>197    </td><td>.      </td></tr>\n",
       "\t<tr><td>AL0188 </td><td>ALBERTO</td><td>08     </td><td>07     </td><td>00     </td><td>1988   </td><td>38.7   </td><td>72.4   </td><td>25     </td><td>1009   </td><td>⋯      </td><td>0      </td><td>0      </td><td>0      </td><td>0      </td><td>0      </td><td>0      </td><td>0      </td><td>*      </td><td>193    </td><td>.      </td></tr>\n",
       "</tbody>\n",
       "</table>\n"
      ],
      "text/latex": [
       "\\begin{tabular}{r|lllllllllllllllllllllllllllll}\n",
       " storm\\_id & storm\\_name & month & day & hour & year & latitude & longitude & max\\_wind & min\\_pressure & ⋯ & radius\\_50\\_se & radius\\_50\\_sw & radius\\_50\\_nw & radius\\_64\\_ne & radius\\_64\\_se & radius\\_64\\_sw & radius\\_64\\_nw & storm\\_type & distance\\_to\\_land & final\\\\\n",
       "\\hline\n",
       "\t AL0188  & ALBERTO & 08      & 05      & 18      & 1988    & 32.0    & 77.5    & 20      & 1015    & ⋯       & 0       & 0       & 0       & 0       & 0       & 0       & 0       & *       & 218     & .      \\\\\n",
       "\t AL0188  & ALBERTO & 08      & 06      & 00      & 1988    & 32.8    & 76.2    & 20      & 1014    & ⋯       & 0       & 0       & 0       & 0       & 0       & 0       & 0       & *       & 213     & .      \\\\\n",
       "\t AL0188  & ALBERTO & 08      & 06      & 06      & 1988    & 34.0    & 75.2    & 20      & 1013    & ⋯       & 0       & 0       & 0       & 0       & 0       & 0       & 0       & *       & 149     & .      \\\\\n",
       "\t AL0188  & ALBERTO & 08      & 06      & 12      & 1988    & 35.2    & 74.6    & 25      & 1012    & ⋯       & 0       & 0       & 0       & 0       & 0       & 0       & 0       & *       & 126     & .      \\\\\n",
       "\t AL0188  & ALBERTO & 08      & 06      & 18      & 1988    & 37.0    & 73.5    & 25      & 1011    & ⋯       & 0       & 0       & 0       & 0       & 0       & 0       & 0       & *       & 197     & .      \\\\\n",
       "\t AL0188  & ALBERTO & 08      & 07      & 00      & 1988    & 38.7    & 72.4    & 25      & 1009    & ⋯       & 0       & 0       & 0       & 0       & 0       & 0       & 0       & *       & 193     & .      \\\\\n",
       "\\end{tabular}\n"
      ],
      "text/markdown": [
       "\n",
       "storm_id | storm_name | month | day | hour | year | latitude | longitude | max_wind | min_pressure | ⋯ | radius_50_se | radius_50_sw | radius_50_nw | radius_64_ne | radius_64_se | radius_64_sw | radius_64_nw | storm_type | distance_to_land | final | \n",
       "|---|---|---|---|---|---|\n",
       "| AL0188  | ALBERTO | 08      | 05      | 18      | 1988    | 32.0    | 77.5    | 20      | 1015    | ⋯       | 0       | 0       | 0       | 0       | 0       | 0       | 0       | *       | 218     | .       | \n",
       "| AL0188  | ALBERTO | 08      | 06      | 00      | 1988    | 32.8    | 76.2    | 20      | 1014    | ⋯       | 0       | 0       | 0       | 0       | 0       | 0       | 0       | *       | 213     | .       | \n",
       "| AL0188  | ALBERTO | 08      | 06      | 06      | 1988    | 34.0    | 75.2    | 20      | 1013    | ⋯       | 0       | 0       | 0       | 0       | 0       | 0       | 0       | *       | 149     | .       | \n",
       "| AL0188  | ALBERTO | 08      | 06      | 12      | 1988    | 35.2    | 74.6    | 25      | 1012    | ⋯       | 0       | 0       | 0       | 0       | 0       | 0       | 0       | *       | 126     | .       | \n",
       "| AL0188  | ALBERTO | 08      | 06      | 18      | 1988    | 37.0    | 73.5    | 25      | 1011    | ⋯       | 0       | 0       | 0       | 0       | 0       | 0       | 0       | *       | 197     | .       | \n",
       "| AL0188  | ALBERTO | 08      | 07      | 00      | 1988    | 38.7    | 72.4    | 25      | 1009    | ⋯       | 0       | 0       | 0       | 0       | 0       | 0       | 0       | *       | 193     | .       | \n",
       "\n",
       "\n"
      ],
      "text/plain": [
       "  storm_id storm_name month day hour year latitude longitude max_wind\n",
       "1 AL0188   ALBERTO    08    05  18   1988 32.0     77.5      20      \n",
       "2 AL0188   ALBERTO    08    06  00   1988 32.8     76.2      20      \n",
       "3 AL0188   ALBERTO    08    06  06   1988 34.0     75.2      20      \n",
       "4 AL0188   ALBERTO    08    06  12   1988 35.2     74.6      25      \n",
       "5 AL0188   ALBERTO    08    06  18   1988 37.0     73.5      25      \n",
       "6 AL0188   ALBERTO    08    07  00   1988 38.7     72.4      25      \n",
       "  min_pressure ⋯ radius_50_se radius_50_sw radius_50_nw radius_64_ne\n",
       "1 1015         ⋯ 0            0            0            0           \n",
       "2 1014         ⋯ 0            0            0            0           \n",
       "3 1013         ⋯ 0            0            0            0           \n",
       "4 1012         ⋯ 0            0            0            0           \n",
       "5 1011         ⋯ 0            0            0            0           \n",
       "6 1009         ⋯ 0            0            0            0           \n",
       "  radius_64_se radius_64_sw radius_64_nw storm_type distance_to_land final\n",
       "1 0            0            0            *          218              .    \n",
       "2 0            0            0            *          213              .    \n",
       "3 0            0            0            *          149              .    \n",
       "4 0            0            0            *          126              .    \n",
       "5 0            0            0            *          197              .    \n",
       "6 0            0            0            *          193              .    "
      ]
     },
     "metadata": {},
     "output_type": "display_data"
    }
   ],
   "source": [
    "data <- read_csv(\"Data/hurricane_data.csv\")\n",
    "head(data)"
   ]
  },
  {
   "cell_type": "code",
   "execution_count": 12,
   "metadata": {},
   "outputs": [
    {
     "data": {
      "text/html": [
       "<ol class=list-inline>\n",
       "\t<li>'tbl_df'</li>\n",
       "\t<li>'tbl'</li>\n",
       "\t<li>'data.frame'</li>\n",
       "</ol>\n"
      ],
      "text/latex": [
       "\\begin{enumerate*}\n",
       "\\item 'tbl\\_df'\n",
       "\\item 'tbl'\n",
       "\\item 'data.frame'\n",
       "\\end{enumerate*}\n"
      ],
      "text/markdown": [
       "1. 'tbl_df'\n",
       "2. 'tbl'\n",
       "3. 'data.frame'\n",
       "\n",
       "\n"
      ],
      "text/plain": [
       "[1] \"tbl_df\"     \"tbl\"        \"data.frame\""
      ]
     },
     "metadata": {},
     "output_type": "display_data"
    }
   ],
   "source": [
    "class(data)"
   ]
  }
 ],
 "metadata": {
  "kernelspec": {
   "display_name": "R",
   "language": "R",
   "name": "ir"
  },
  "language_info": {
   "codemirror_mode": "r",
   "file_extension": ".r",
   "mimetype": "text/x-r-source",
   "name": "R",
   "pygments_lexer": "r",
   "version": "3.4.1"
  }
 },
 "nbformat": 4,
 "nbformat_minor": 2
}
