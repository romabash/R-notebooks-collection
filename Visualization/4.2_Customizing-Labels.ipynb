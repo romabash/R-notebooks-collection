{
 "cells": [
  {
   "cell_type": "markdown",
   "metadata": {},
   "source": [
    "# Using Clear Labels"
   ]
  },
  {
   "cell_type": "code",
   "execution_count": 1,
   "metadata": {},
   "outputs": [
    {
     "name": "stderr",
     "output_type": "stream",
     "text": [
      "\n",
      "Attaching package: ‘dplyr’\n",
      "\n",
      "The following objects are masked from ‘package:stats’:\n",
      "\n",
      "    filter, lag\n",
      "\n",
      "The following objects are masked from ‘package:base’:\n",
      "\n",
      "    intersect, setdiff, setequal, union\n",
      "\n"
     ]
    }
   ],
   "source": [
    "library(readr)\n",
    "library(dplyr)\n",
    "library(ggplot2)\n",
    "library(ggthemes)"
   ]
  },
  {
   "cell_type": "markdown",
   "metadata": {},
   "source": [
    "### Load \"worldcup\" Dataset"
   ]
  },
  {
   "cell_type": "code",
   "execution_count": 2,
   "metadata": {},
   "outputs": [
    {
     "name": "stderr",
     "output_type": "stream",
     "text": [
      "Parsed with column specification:\n",
      "cols(\n",
      "  Team = col_character(),\n",
      "  Position = col_character(),\n",
      "  Time = col_integer(),\n",
      "  Shots = col_integer(),\n",
      "  Passes = col_integer(),\n",
      "  Tackles = col_integer(),\n",
      "  Saves = col_integer(),\n",
      "  player_name = col_character()\n",
      ")\n"
     ]
    },
    {
     "data": {
      "text/html": [
       "<table>\n",
       "<thead><tr><th scope=col>Name</th><th scope=col>Team</th><th scope=col>Position</th><th scope=col>Time</th><th scope=col>Shots</th><th scope=col>Passes</th><th scope=col>Tackles</th><th scope=col>Saves</th></tr></thead>\n",
       "<tbody>\n",
       "\t<tr><td>Abdoun    </td><td>Algeria   </td><td>Midfielder</td><td> 16       </td><td>0         </td><td>  6       </td><td> 0        </td><td>0         </td></tr>\n",
       "\t<tr><td>Abe       </td><td>Japan     </td><td>Midfielder</td><td>351       </td><td>0         </td><td>101       </td><td>14        </td><td>0         </td></tr>\n",
       "\t<tr><td>Abidal    </td><td>France    </td><td>Defender  </td><td>180       </td><td>0         </td><td> 91       </td><td> 6        </td><td>0         </td></tr>\n",
       "\t<tr><td>Abou Diaby</td><td>France    </td><td>Midfielder</td><td>270       </td><td>1         </td><td>111       </td><td> 5        </td><td>0         </td></tr>\n",
       "\t<tr><td>Aboubakar </td><td>Cameroon  </td><td>Forward   </td><td> 46       </td><td>2         </td><td> 16       </td><td> 0        </td><td>0         </td></tr>\n",
       "\t<tr><td>Abreu     </td><td>Uruguay   </td><td>Forward   </td><td> 72       </td><td>0         </td><td> 15       </td><td> 0        </td><td>0         </td></tr>\n",
       "</tbody>\n",
       "</table>\n"
      ],
      "text/latex": [
       "\\begin{tabular}{r|llllllll}\n",
       " Name & Team & Position & Time & Shots & Passes & Tackles & Saves\\\\\n",
       "\\hline\n",
       "\t Abdoun     & Algeria    & Midfielder &  16        & 0          &   6        &  0         & 0         \\\\\n",
       "\t Abe        & Japan      & Midfielder & 351        & 0          & 101        & 14         & 0         \\\\\n",
       "\t Abidal     & France     & Defender   & 180        & 0          &  91        &  6         & 0         \\\\\n",
       "\t Abou Diaby & France     & Midfielder & 270        & 1          & 111        &  5         & 0         \\\\\n",
       "\t Aboubakar  & Cameroon   & Forward    &  46        & 2          &  16        &  0         & 0         \\\\\n",
       "\t Abreu      & Uruguay    & Forward    &  72        & 0          &  15        &  0         & 0         \\\\\n",
       "\\end{tabular}\n"
      ],
      "text/markdown": [
       "\n",
       "Name | Team | Position | Time | Shots | Passes | Tackles | Saves | \n",
       "|---|---|---|---|---|---|\n",
       "| Abdoun     | Algeria    | Midfielder |  16        | 0          |   6        |  0         | 0          | \n",
       "| Abe        | Japan      | Midfielder | 351        | 0          | 101        | 14         | 0          | \n",
       "| Abidal     | France     | Defender   | 180        | 0          |  91        |  6         | 0          | \n",
       "| Abou Diaby | France     | Midfielder | 270        | 1          | 111        |  5         | 0          | \n",
       "| Aboubakar  | Cameroon   | Forward    |  46        | 2          |  16        |  0         | 0          | \n",
       "| Abreu      | Uruguay    | Forward    |  72        | 0          |  15        |  0         | 0          | \n",
       "\n",
       "\n"
      ],
      "text/plain": [
       "  Name       Team     Position   Time Shots Passes Tackles Saves\n",
       "1 Abdoun     Algeria  Midfielder  16  0       6     0      0    \n",
       "2 Abe        Japan    Midfielder 351  0     101    14      0    \n",
       "3 Abidal     France   Defender   180  0      91     6      0    \n",
       "4 Abou Diaby France   Midfielder 270  1     111     5      0    \n",
       "5 Aboubakar  Cameroon Forward     46  2      16     0      0    \n",
       "6 Abreu      Uruguay  Forward     72  0      15     0      0    "
      ]
     },
     "metadata": {},
     "output_type": "display_data"
    }
   ],
   "source": [
    "worldcup <- read_csv(\"Data/worldcup.csv\")\n",
    "\n",
    "worldcup <- worldcup %>%\n",
    "  select(player_name, everything()) %>%\n",
    "  rename(Name = player_name)\n",
    "\n",
    "head(worldcup)"
   ]
  },
  {
   "cell_type": "markdown",
   "metadata": {},
   "source": [
    "### Plot Bacis Bar Plot"
   ]
  },
  {
   "cell_type": "code",
   "execution_count": 3,
   "metadata": {},
   "outputs": [
    {
     "data": {},
     "metadata": {},
     "output_type": "display_data"
    },
    {
     "data": {
      "image/png": "[encoded data removed]",
      "text/plain": [
       "plot without title"
      ]
     },
     "metadata": {},
     "output_type": "display_data"
    }
   ],
   "source": [
    "worldcup %>%\n",
    "  ggplot(aes(x = Position)) +\n",
    "  geom_bar()"
   ]
  },
  {
   "cell_type": "markdown",
   "metadata": {},
   "source": [
    "### Adjust Bar Plot to look better\n",
    "- Add theme_tufte\n",
    "- Flip the Coordinates for better visual"
   ]
  },
  {
   "cell_type": "code",
   "execution_count": 4,
   "metadata": {},
   "outputs": [
    {
     "data": {},
     "metadata": {},
     "output_type": "display_data"
    },
    {
     "data": {
      "image/png": "[encoded data removed]",
      "text/plain": [
       "plot without title"
      ]
     },
     "metadata": {},
     "output_type": "display_data"
    }
   ],
   "source": [
    "worldcup %>%\n",
    "  ggplot(aes(x = Position)) +\n",
    "  geom_bar(fill = \"lightgray\", width = 0.9) +\n",
    "  theme_tufte() +\n",
    "  coord_flip() +\n",
    "  xlab(\"\") +\n",
    "  ylab(\"Number of Players\")"
   ]
  }
 ],
 "metadata": {
  "kernelspec": {
   "display_name": "R",
   "language": "R",
   "name": "ir"
  },
  "language_info": {
   "codemirror_mode": "r",
   "file_extension": ".r",
   "mimetype": "text/x-r-source",
   "name": "R",
   "pygments_lexer": "r",
   "version": "3.4.1"
  }
 },
 "nbformat": 4,
 "nbformat_minor": 2
}
