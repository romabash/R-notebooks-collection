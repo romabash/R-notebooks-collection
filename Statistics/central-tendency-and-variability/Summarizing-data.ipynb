{
 "cells": [
  {
   "cell_type": "markdown",
   "metadata": {},
   "source": [
    "# Numerically Summarizing Data:\n",
    "- Measure of Central Tendency\n",
    "- Mean: sum of all values of a variable / number of observaions\n",
    "- Median: middle number in ascending sorted data (if number of observations is evenr, take a mean of 2 middle numbers)\n",
    "    - In presence of outlier, Median is a better metric than Mean\n",
    "- Mode: most frequent observation of the variable in the dataset"
   ]
  },
  {
   "cell_type": "markdown",
   "metadata": {},
   "source": [
    "### Measuring Mean and Median"
   ]
  },
  {
   "cell_type": "code",
   "execution_count": 1,
   "metadata": {},
   "outputs": [
    {
     "data": {
      "text/html": [
       "<table>\n",
       "<thead><tr><th scope=col>x</th><th scope=col>name</th><th scope=col>score</th></tr></thead>\n",
       "<tbody>\n",
       "\t<tr><td> 1    </td><td>one   </td><td>82    </td></tr>\n",
       "\t<tr><td> 2    </td><td>two   </td><td>77    </td></tr>\n",
       "\t<tr><td> 3    </td><td>three </td><td>90    </td></tr>\n",
       "\t<tr><td> 4    </td><td>fout  </td><td>71    </td></tr>\n",
       "\t<tr><td> 5    </td><td>five  </td><td>62    </td></tr>\n",
       "\t<tr><td> 6    </td><td>six   </td><td>68    </td></tr>\n",
       "\t<tr><td> 7    </td><td>seven </td><td>74    </td></tr>\n",
       "\t<tr><td> 8    </td><td>eight </td><td>84    </td></tr>\n",
       "\t<tr><td> 9    </td><td>nine  </td><td>94    </td></tr>\n",
       "\t<tr><td>10    </td><td>ten   </td><td>88    </td></tr>\n",
       "\t<tr><td>11    </td><td>eleven</td><td>96    </td></tr>\n",
       "</tbody>\n",
       "</table>\n"
      ],
      "text/latex": [
       "\\begin{tabular}{r|lll}\n",
       " x & name & score\\\\\n",
       "\\hline\n",
       "\t  1     & one    & 82    \\\\\n",
       "\t  2     & two    & 77    \\\\\n",
       "\t  3     & three  & 90    \\\\\n",
       "\t  4     & fout   & 71    \\\\\n",
       "\t  5     & five   & 62    \\\\\n",
       "\t  6     & six    & 68    \\\\\n",
       "\t  7     & seven  & 74    \\\\\n",
       "\t  8     & eight  & 84    \\\\\n",
       "\t  9     & nine   & 94    \\\\\n",
       "\t 10     & ten    & 88    \\\\\n",
       "\t 11     & eleven & 96    \\\\\n",
       "\\end{tabular}\n"
      ],
      "text/markdown": [
       "\n",
       "x | name | score | \n",
       "|---|---|---|---|---|---|---|---|---|---|---|\n",
       "|  1     | one    | 82     | \n",
       "|  2     | two    | 77     | \n",
       "|  3     | three  | 90     | \n",
       "|  4     | fout   | 71     | \n",
       "|  5     | five   | 62     | \n",
       "|  6     | six    | 68     | \n",
       "|  7     | seven  | 74     | \n",
       "|  8     | eight  | 84     | \n",
       "|  9     | nine   | 94     | \n",
       "| 10     | ten    | 88     | \n",
       "| 11     | eleven | 96     | \n",
       "\n",
       "\n"
      ],
      "text/plain": [
       "   x  name   score\n",
       "1   1 one    82   \n",
       "2   2 two    77   \n",
       "3   3 three  90   \n",
       "4   4 fout   71   \n",
       "5   5 five   62   \n",
       "6   6 six    68   \n",
       "7   7 seven  74   \n",
       "8   8 eight  84   \n",
       "9   9 nine   94   \n",
       "10 10 ten    88   \n",
       "11 11 eleven 96   "
      ]
     },
     "metadata": {},
     "output_type": "display_data"
    }
   ],
   "source": [
    "x <- 1:11\n",
    "name <- c('one', 'two', 'three', 'fout', 'five','six', 'seven', 'eight', 'nine', 'ten', 'eleven')\n",
    "score <- c(82,77,90,71,62,68,74,84,94,88,96)\n",
    " \n",
    "data <- data.frame(x, name, score)\n",
    "data"
   ]
  },
  {
   "cell_type": "code",
   "execution_count": 2,
   "metadata": {},
   "outputs": [
    {
     "data": {
      "text/html": [
       "80.5454545454545"
      ],
      "text/latex": [
       "80.5454545454545"
      ],
      "text/markdown": [
       "80.5454545454545"
      ],
      "text/plain": [
       "[1] 80.54545"
      ]
     },
     "metadata": {},
     "output_type": "display_data"
    },
    {
     "data": {
      "text/html": [
       "82"
      ],
      "text/latex": [
       "82"
      ],
      "text/markdown": [
       "82"
      ],
      "text/plain": [
       "[1] 82"
      ]
     },
     "metadata": {},
     "output_type": "display_data"
    }
   ],
   "source": [
    "mean(data$score)\n",
    "median(data[['score']])"
   ]
  },
  {
   "cell_type": "markdown",
   "metadata": {},
   "source": [
    "### Creating a function to measure Mode"
   ]
  },
  {
   "cell_type": "code",
   "execution_count": 3,
   "metadata": {},
   "outputs": [
    {
     "data": {
      "text/html": [
       "<ol class=list-inline>\n",
       "\t<li>0</li>\n",
       "\t<li>1</li>\n",
       "\t<li>2</li>\n",
       "\t<li>3</li>\n",
       "</ol>\n"
      ],
      "text/latex": [
       "\\begin{enumerate*}\n",
       "\\item 0\n",
       "\\item 1\n",
       "\\item 2\n",
       "\\item 3\n",
       "\\end{enumerate*}\n"
      ],
      "text/markdown": [
       "1. 0\n",
       "2. 1\n",
       "3. 2\n",
       "4. 3\n",
       "\n",
       "\n"
      ],
      "text/plain": [
       "[1] 0 1 2 3"
      ]
     },
     "metadata": {},
     "output_type": "display_data"
    }
   ],
   "source": [
    "data <- c(0,0,0,0,0,0,0,0,0,0,0,1,1,1,1,2,3)\n",
    "\n",
    "#Get Vector of unique numbers from data\n",
    "ux <- unique(data)\n",
    "ux"
   ]
  },
  {
   "cell_type": "code",
   "execution_count": 4,
   "metadata": {},
   "outputs": [
    {
     "data": {
      "text/html": [
       "<ol class=list-inline>\n",
       "\t<li>1</li>\n",
       "\t<li>1</li>\n",
       "\t<li>1</li>\n",
       "\t<li>1</li>\n",
       "\t<li>1</li>\n",
       "\t<li>1</li>\n",
       "\t<li>1</li>\n",
       "\t<li>1</li>\n",
       "\t<li>1</li>\n",
       "\t<li>1</li>\n",
       "\t<li>1</li>\n",
       "\t<li>2</li>\n",
       "\t<li>2</li>\n",
       "\t<li>2</li>\n",
       "\t<li>2</li>\n",
       "\t<li>3</li>\n",
       "\t<li>4</li>\n",
       "</ol>\n"
      ],
      "text/latex": [
       "\\begin{enumerate*}\n",
       "\\item 1\n",
       "\\item 1\n",
       "\\item 1\n",
       "\\item 1\n",
       "\\item 1\n",
       "\\item 1\n",
       "\\item 1\n",
       "\\item 1\n",
       "\\item 1\n",
       "\\item 1\n",
       "\\item 1\n",
       "\\item 2\n",
       "\\item 2\n",
       "\\item 2\n",
       "\\item 2\n",
       "\\item 3\n",
       "\\item 4\n",
       "\\end{enumerate*}\n"
      ],
      "text/markdown": [
       "1. 1\n",
       "2. 1\n",
       "3. 1\n",
       "4. 1\n",
       "5. 1\n",
       "6. 1\n",
       "7. 1\n",
       "8. 1\n",
       "9. 1\n",
       "10. 1\n",
       "11. 1\n",
       "12. 2\n",
       "13. 2\n",
       "14. 2\n",
       "15. 2\n",
       "16. 3\n",
       "17. 4\n",
       "\n",
       "\n"
      ],
      "text/plain": [
       " [1] 1 1 1 1 1 1 1 1 1 1 1 2 2 2 2 3 4"
      ]
     },
     "metadata": {},
     "output_type": "display_data"
    }
   ],
   "source": [
    "#returns a vector of the positions of (first) matches of its first argument in its second\n",
    "match(data, ux)"
   ]
  },
  {
   "cell_type": "code",
   "execution_count": 5,
   "metadata": {},
   "outputs": [
    {
     "data": {
      "text/html": [
       "<ol class=list-inline>\n",
       "\t<li>11</li>\n",
       "\t<li>4</li>\n",
       "\t<li>1</li>\n",
       "\t<li>1</li>\n",
       "</ol>\n"
      ],
      "text/latex": [
       "\\begin{enumerate*}\n",
       "\\item 11\n",
       "\\item 4\n",
       "\\item 1\n",
       "\\item 1\n",
       "\\end{enumerate*}\n"
      ],
      "text/markdown": [
       "1. 11\n",
       "2. 4\n",
       "3. 1\n",
       "4. 1\n",
       "\n",
       "\n"
      ],
      "text/plain": [
       "[1] 11  4  1  1"
      ]
     },
     "metadata": {},
     "output_type": "display_data"
    }
   ],
   "source": [
    "#tabulate is similar to table but only generates the counts\n",
    "tabulate(match(data, ux))"
   ]
  },
  {
   "cell_type": "code",
   "execution_count": 6,
   "metadata": {},
   "outputs": [
    {
     "data": {
      "text/html": [
       "1"
      ],
      "text/latex": [
       "1"
      ],
      "text/markdown": [
       "1"
      ],
      "text/plain": [
       "[1] 1"
      ]
     },
     "metadata": {},
     "output_type": "display_data"
    }
   ],
   "source": [
    "#which.max: Determines the location (index) of the (first) minimum or maximum of a numeric (or logical) vector\n",
    "which.max(tabulate(match(data, ux)))"
   ]
  },
  {
   "cell_type": "code",
   "execution_count": 7,
   "metadata": {},
   "outputs": [
    {
     "data": {
      "text/html": [
       "0"
      ],
      "text/latex": [
       "0"
      ],
      "text/markdown": [
       "0"
      ],
      "text/plain": [
       "[1] 0"
      ]
     },
     "metadata": {},
     "output_type": "display_data"
    }
   ],
   "source": [
    "#Select that location from unique vector\n",
    "ux[which.max(tabulate(match(data, ux)))]"
   ]
  },
  {
   "cell_type": "markdown",
   "metadata": {},
   "source": [
    "#### Create function:"
   ]
  },
  {
   "cell_type": "code",
   "execution_count": 8,
   "metadata": {},
   "outputs": [
    {
     "data": {
      "text/html": [
       "0"
      ],
      "text/latex": [
       "0"
      ],
      "text/markdown": [
       "0"
      ],
      "text/plain": [
       "[1] 0"
      ]
     },
     "metadata": {},
     "output_type": "display_data"
    }
   ],
   "source": [
    "getMode <- function(x){\n",
    "  ux <- unique(x)\n",
    "  ux[which.max(tabulate(match(x, ux)))]\n",
    "}\n",
    " \n",
    "getMode(data)"
   ]
  },
  {
   "cell_type": "markdown",
   "metadata": {},
   "source": [
    "## Measure of Dispersion:\n",
    "- Range:\n",
    "    - The, Range, R, of a variable is the difference between the largest data value and the smallest data value\n",
    "    - *Range = R = largest data value - smallest data value*\n",
    "- Variance:\n",
    "    - The variance measures how far each number in the set is from the mean. Variance is calculated by taking the differences between each number in the set and the mean, squaring the differences (to make them positive) and dividing the sum of the squares by the number of values in the set\n",
    "    - Variance of Sample:  Is the sum of the squared deviations about the sample mean divided by the number of observations in the sample minus 1\n",
    " \n",
    "- Standard Deviation:\n",
    "    - A population standard deviation is obtained by taking the square root of the population variance\n",
    "    - A sample standard deviation is obtained by taking the square root of the sample variance\n",
    "    - A low standard deviation means that most of the numbers are very close to the average. A high standard deviation means that the numbers are spread out\n",
    "- Coefficient of Variation (CV):\n",
    "    - Coefficient of Variation (CV) measures the scatter in the data relative to mean\n",
    "    - Always expressed as percentage"
   ]
  },
  {
   "cell_type": "markdown",
   "metadata": {},
   "source": [
    "#### Sample Data Frame:"
   ]
  },
  {
   "cell_type": "code",
   "execution_count": 9,
   "metadata": {},
   "outputs": [
    {
     "data": {
      "text/html": [
       "<table>\n",
       "<thead><tr><th scope=col>x</th><th scope=col>name</th><th scope=col>score</th></tr></thead>\n",
       "<tbody>\n",
       "\t<tr><td> 1    </td><td>one   </td><td>82    </td></tr>\n",
       "\t<tr><td> 2    </td><td>two   </td><td>77    </td></tr>\n",
       "\t<tr><td> 3    </td><td>three </td><td>90    </td></tr>\n",
       "\t<tr><td> 4    </td><td>fout  </td><td>71    </td></tr>\n",
       "\t<tr><td> 5    </td><td>five  </td><td>62    </td></tr>\n",
       "\t<tr><td> 6    </td><td>six   </td><td>68    </td></tr>\n",
       "\t<tr><td> 7    </td><td>seven </td><td>74    </td></tr>\n",
       "\t<tr><td> 8    </td><td>eight </td><td>84    </td></tr>\n",
       "\t<tr><td> 9    </td><td>nine  </td><td>94    </td></tr>\n",
       "\t<tr><td>10    </td><td>ten   </td><td>88    </td></tr>\n",
       "\t<tr><td>11    </td><td>eleven</td><td>96    </td></tr>\n",
       "</tbody>\n",
       "</table>\n"
      ],
      "text/latex": [
       "\\begin{tabular}{r|lll}\n",
       " x & name & score\\\\\n",
       "\\hline\n",
       "\t  1     & one    & 82    \\\\\n",
       "\t  2     & two    & 77    \\\\\n",
       "\t  3     & three  & 90    \\\\\n",
       "\t  4     & fout   & 71    \\\\\n",
       "\t  5     & five   & 62    \\\\\n",
       "\t  6     & six    & 68    \\\\\n",
       "\t  7     & seven  & 74    \\\\\n",
       "\t  8     & eight  & 84    \\\\\n",
       "\t  9     & nine   & 94    \\\\\n",
       "\t 10     & ten    & 88    \\\\\n",
       "\t 11     & eleven & 96    \\\\\n",
       "\\end{tabular}\n"
      ],
      "text/markdown": [
       "\n",
       "x | name | score | \n",
       "|---|---|---|---|---|---|---|---|---|---|---|\n",
       "|  1     | one    | 82     | \n",
       "|  2     | two    | 77     | \n",
       "|  3     | three  | 90     | \n",
       "|  4     | fout   | 71     | \n",
       "|  5     | five   | 62     | \n",
       "|  6     | six    | 68     | \n",
       "|  7     | seven  | 74     | \n",
       "|  8     | eight  | 84     | \n",
       "|  9     | nine   | 94     | \n",
       "| 10     | ten    | 88     | \n",
       "| 11     | eleven | 96     | \n",
       "\n",
       "\n"
      ],
      "text/plain": [
       "   x  name   score\n",
       "1   1 one    82   \n",
       "2   2 two    77   \n",
       "3   3 three  90   \n",
       "4   4 fout   71   \n",
       "5   5 five   62   \n",
       "6   6 six    68   \n",
       "7   7 seven  74   \n",
       "8   8 eight  84   \n",
       "9   9 nine   94   \n",
       "10 10 ten    88   \n",
       "11 11 eleven 96   "
      ]
     },
     "metadata": {},
     "output_type": "display_data"
    }
   ],
   "source": [
    "x <- 1:11\n",
    "name <- c('one', 'two', 'three', 'fout', 'five','six', 'seven', 'eight', 'nine', 'ten', 'eleven')\n",
    "score <- c(82,77,90,71,62,68,74,84,94,88,96)\n",
    " \n",
    "data <- data.frame(x, name, score)\n",
    "data"
   ]
  },
  {
   "cell_type": "markdown",
   "metadata": {},
   "source": [
    "#### Measuring Range"
   ]
  },
  {
   "cell_type": "code",
   "execution_count": 10,
   "metadata": {},
   "outputs": [
    {
     "data": {
      "text/html": [
       "<ol class=list-inline>\n",
       "\t<li>62</li>\n",
       "\t<li>96</li>\n",
       "</ol>\n"
      ],
      "text/latex": [
       "\\begin{enumerate*}\n",
       "\\item 62\n",
       "\\item 96\n",
       "\\end{enumerate*}\n"
      ],
      "text/markdown": [
       "1. 62\n",
       "2. 96\n",
       "\n",
       "\n"
      ],
      "text/plain": [
       "[1] 62 96"
      ]
     },
     "metadata": {},
     "output_type": "display_data"
    },
    {
     "data": {
      "text/html": [
       "34"
      ],
      "text/latex": [
       "34"
      ],
      "text/markdown": [
       "34"
      ],
      "text/plain": [
       "[1] 34"
      ]
     },
     "metadata": {},
     "output_type": "display_data"
    }
   ],
   "source": [
    "#Find Range\n",
    "range(data$score)\n",
    "r <- max(data$score) - min(data$score)\n",
    "r"
   ]
  },
  {
   "cell_type": "markdown",
   "metadata": {},
   "source": [
    "#### Measuring Variance"
   ]
  },
  {
   "cell_type": "code",
   "execution_count": 11,
   "metadata": {},
   "outputs": [
    {
     "data": {
      "text/html": [
       "122.672727272727"
      ],
      "text/latex": [
       "122.672727272727"
      ],
      "text/markdown": [
       "122.672727272727"
      ],
      "text/plain": [
       "[1] 122.6727"
      ]
     },
     "metadata": {},
     "output_type": "display_data"
    }
   ],
   "source": [
    "#Variance\n",
    "v.sample <- var(data$score)\n",
    "v.sample"
   ]
  },
  {
   "cell_type": "markdown",
   "metadata": {},
   "source": [
    "#### Measuring variance of a Sample and Population manually:"
   ]
  },
  {
   "cell_type": "code",
   "execution_count": 12,
   "metadata": {},
   "outputs": [
    {
     "data": {
      "text/html": [
       "122.672727272727"
      ],
      "text/latex": [
       "122.672727272727"
      ],
      "text/markdown": [
       "122.672727272727"
      ],
      "text/plain": [
       "[1] 122.6727"
      ]
     },
     "metadata": {},
     "output_type": "display_data"
    },
    {
     "data": {
      "text/html": [
       "111.520661157025"
      ],
      "text/latex": [
       "111.520661157025"
      ],
      "text/markdown": [
       "111.520661157025"
      ],
      "text/plain": [
       "[1] 111.5207"
      ]
     },
     "metadata": {},
     "output_type": "display_data"
    }
   ],
   "source": [
    "#Variance of Sample Manually\n",
    "n <- length(data$score)\n",
    "x <- data$score\n",
    "v.sample <- sum((x - mean(x))^2)/(n-1)\n",
    "v.sample\n",
    " \n",
    "#Variance of Population Manually\n",
    "n <- length(data$score)\n",
    "x <- data$score\n",
    "v.population <- sum((x - mean(x))^2)/(n)\n",
    "v.population"
   ]
  },
  {
   "cell_type": "markdown",
   "metadata": {},
   "source": [
    "#### Measuring SD:"
   ]
  },
  {
   "cell_type": "code",
   "execution_count": 13,
   "metadata": {},
   "outputs": [
    {
     "data": {
      "text/html": [
       "11.0757720847229"
      ],
      "text/latex": [
       "11.0757720847229"
      ],
      "text/markdown": [
       "11.0757720847229"
      ],
      "text/plain": [
       "[1] 11.07577"
      ]
     },
     "metadata": {},
     "output_type": "display_data"
    }
   ],
   "source": [
    "#Standard Deviation\n",
    "sd.sample <- sd(data$score)\n",
    "sd.sample"
   ]
  },
  {
   "cell_type": "markdown",
   "metadata": {},
   "source": [
    "#### Measuring SD of a Sample and Population manually:"
   ]
  },
  {
   "cell_type": "code",
   "execution_count": 14,
   "metadata": {},
   "outputs": [
    {
     "data": {
      "text/html": [
       "11.0757720847229"
      ],
      "text/latex": [
       "11.0757720847229"
      ],
      "text/markdown": [
       "11.0757720847229"
      ],
      "text/plain": [
       "[1] 11.07577"
      ]
     },
     "metadata": {},
     "output_type": "display_data"
    },
    {
     "data": {
      "text/html": [
       "10.560334329794"
      ],
      "text/latex": [
       "10.560334329794"
      ],
      "text/markdown": [
       "10.560334329794"
      ],
      "text/plain": [
       "[1] 10.56033"
      ]
     },
     "metadata": {},
     "output_type": "display_data"
    }
   ],
   "source": [
    "#SD of Sample Manually:\n",
    "sd.sample <- sqrt(v.sample)\n",
    "sd.sample\n",
    " \n",
    "#SD of Population Manually:\n",
    "sd.population <- sqrt(v.population)\n",
    "sd.population"
   ]
  },
  {
   "cell_type": "code",
   "execution_count": null,
   "metadata": {
    "collapsed": true
   },
   "outputs": [],
   "source": []
  }
 ],
 "metadata": {
  "kernelspec": {
   "display_name": "R",
   "language": "R",
   "name": "ir"
  },
  "language_info": {
   "codemirror_mode": "r",
   "file_extension": ".r",
   "mimetype": "text/x-r-source",
   "name": "R",
   "pygments_lexer": "r",
   "version": "3.4.1"
  }
 },
 "nbformat": 4,
 "nbformat_minor": 2
}
