{
 "cells": [
  {
   "cell_type": "markdown",
   "metadata": {},
   "source": [
    "# Numerically Summarizing Data:\n",
    "- Measure of Central Tendency\n",
    "- Mean: sum of all values of a variable / number of observaions\n",
    "- Median: middle number in ascending sorted data (if number of observations is evenr, take a mean of 2 middle numbers)\n",
    "    - In presence of outlier, Median is a better metric than Mean\n",
    "- Mode: most frequent observation of the variable in the dataset"
   ]
  },
  {
   "cell_type": "markdown",
   "metadata": {},
   "source": [
    "### Measuring Mean and Median"
   ]
  },
  {
   "cell_type": "code",
   "execution_count": 1,
   "metadata": {},
   "outputs": [
    {
     "data": {
      "text/html": [
       "<table>\n",
       "<thead><tr><th scope=col>x</th><th scope=col>name</th><th scope=col>score</th></tr></thead>\n",
       "<tbody>\n",
       "\t<tr><td> 1    </td><td>one   </td><td>82    </td></tr>\n",
       "\t<tr><td> 2    </td><td>two   </td><td>77    </td></tr>\n",
       "\t<tr><td> 3    </td><td>three </td><td>90    </td></tr>\n",
       "\t<tr><td> 4    </td><td>fout  </td><td>71    </td></tr>\n",
       "\t<tr><td> 5    </td><td>five  </td><td>62    </td></tr>\n",
       "\t<tr><td> 6    </td><td>six   </td><td>68    </td></tr>\n",
       "\t<tr><td> 7    </td><td>seven </td><td>74    </td></tr>\n",
       "\t<tr><td> 8    </td><td>eight </td><td>84    </td></tr>\n",
       "\t<tr><td> 9    </td><td>nine  </td><td>94    </td></tr>\n",
       "\t<tr><td>10    </td><td>ten   </td><td>88    </td></tr>\n",
       "\t<tr><td>11    </td><td>eleven</td><td>96    </td></tr>\n",
       "</tbody>\n",
       "</table>\n"
      ],
      "text/latex": [
       "\\begin{tabular}{r|lll}\n",
       " x & name & score\\\\\n",
       "\\hline\n",
       "\t  1     & one    & 82    \\\\\n",
       "\t  2     & two    & 77    \\\\\n",
       "\t  3     & three  & 90    \\\\\n",
       "\t  4     & fout   & 71    \\\\\n",
       "\t  5     & five   & 62    \\\\\n",
       "\t  6     & six    & 68    \\\\\n",
       "\t  7     & seven  & 74    \\\\\n",
       "\t  8     & eight  & 84    \\\\\n",
       "\t  9     & nine   & 94    \\\\\n",
       "\t 10     & ten    & 88    \\\\\n",
       "\t 11     & eleven & 96    \\\\\n",
       "\\end{tabular}\n"
      ],
      "text/markdown": [
       "\n",
       "x | name | score | \n",
       "|---|---|---|---|---|---|---|---|---|---|---|\n",
       "|  1     | one    | 82     | \n",
       "|  2     | two    | 77     | \n",
       "|  3     | three  | 90     | \n",
       "|  4     | fout   | 71     | \n",
       "|  5     | five   | 62     | \n",
       "|  6     | six    | 68     | \n",
       "|  7     | seven  | 74     | \n",
       "|  8     | eight  | 84     | \n",
       "|  9     | nine   | 94     | \n",
       "| 10     | ten    | 88     | \n",
       "| 11     | eleven | 96     | \n",
       "\n",
       "\n"
      ],
      "text/plain": [
       "   x  name   score\n",
       "1   1 one    82   \n",
       "2   2 two    77   \n",
       "3   3 three  90   \n",
       "4   4 fout   71   \n",
       "5   5 five   62   \n",
       "6   6 six    68   \n",
       "7   7 seven  74   \n",
       "8   8 eight  84   \n",
       "9   9 nine   94   \n",
       "10 10 ten    88   \n",
       "11 11 eleven 96   "
      ]
     },
     "metadata": {},
     "output_type": "display_data"
    }
   ],
   "source": [
    "x <- 1:11\n",
    "name <- c('one', 'two', 'three', 'fout', 'five','six', 'seven', 'eight', 'nine', 'ten', 'eleven')\n",
    "score <- c(82,77,90,71,62,68,74,84,94,88,96)\n",
    " \n",
    "data <- data.frame(x, name, score)\n",
    "data"
   ]
  },
  {
   "cell_type": "code",
   "execution_count": 2,
   "metadata": {},
   "outputs": [
    {
     "data": {
      "text/html": [
       "80.5454545454545"
      ],
      "text/latex": [
       "80.5454545454545"
      ],
      "text/markdown": [
       "80.5454545454545"
      ],
      "text/plain": [
       "[1] 80.54545"
      ]
     },
     "metadata": {},
     "output_type": "display_data"
    },
    {
     "data": {
      "text/html": [
       "82"
      ],
      "text/latex": [
       "82"
      ],
      "text/markdown": [
       "82"
      ],
      "text/plain": [
       "[1] 82"
      ]
     },
     "metadata": {},
     "output_type": "display_data"
    }
   ],
   "source": [
    "mean(data$score)\n",
    "median(data[['score']])"
   ]
  },
  {
   "cell_type": "markdown",
   "metadata": {},
   "source": [
    "### Creating a function to measure Mode"
   ]
  },
  {
   "cell_type": "code",
   "execution_count": 3,
   "metadata": {},
   "outputs": [
    {
     "data": {
      "text/html": [
       "<ol class=list-inline>\n",
       "\t<li>0</li>\n",
       "\t<li>1</li>\n",
       "\t<li>2</li>\n",
       "\t<li>3</li>\n",
       "</ol>\n"
      ],
      "text/latex": [
       "\\begin{enumerate*}\n",
       "\\item 0\n",
       "\\item 1\n",
       "\\item 2\n",
       "\\item 3\n",
       "\\end{enumerate*}\n"
      ],
      "text/markdown": [
       "1. 0\n",
       "2. 1\n",
       "3. 2\n",
       "4. 3\n",
       "\n",
       "\n"
      ],
      "text/plain": [
       "[1] 0 1 2 3"
      ]
     },
     "metadata": {},
     "output_type": "display_data"
    }
   ],
   "source": [
    "data <- c(0,0,0,0,0,0,0,0,0,0,0,1,1,1,1,2,3)\n",
    "\n",
    "#Get Vector of unique numbers from data\n",
    "ux <- unique(data)\n",
    "ux"
   ]
  },
  {
   "cell_type": "code",
   "execution_count": 4,
   "metadata": {},
   "outputs": [
    {
     "data": {
      "text/html": [
       "<ol class=list-inline>\n",
       "\t<li>1</li>\n",
       "\t<li>1</li>\n",
       "\t<li>1</li>\n",
       "\t<li>1</li>\n",
       "\t<li>1</li>\n",
       "\t<li>1</li>\n",
       "\t<li>1</li>\n",
       "\t<li>1</li>\n",
       "\t<li>1</li>\n",
       "\t<li>1</li>\n",
       "\t<li>1</li>\n",
       "\t<li>2</li>\n",
       "\t<li>2</li>\n",
       "\t<li>2</li>\n",
       "\t<li>2</li>\n",
       "\t<li>3</li>\n",
       "\t<li>4</li>\n",
       "</ol>\n"
      ],
      "text/latex": [
       "\\begin{enumerate*}\n",
       "\\item 1\n",
       "\\item 1\n",
       "\\item 1\n",
       "\\item 1\n",
       "\\item 1\n",
       "\\item 1\n",
       "\\item 1\n",
       "\\item 1\n",
       "\\item 1\n",
       "\\item 1\n",
       "\\item 1\n",
       "\\item 2\n",
       "\\item 2\n",
       "\\item 2\n",
       "\\item 2\n",
       "\\item 3\n",
       "\\item 4\n",
       "\\end{enumerate*}\n"
      ],
      "text/markdown": [
       "1. 1\n",
       "2. 1\n",
       "3. 1\n",
       "4. 1\n",
       "5. 1\n",
       "6. 1\n",
       "7. 1\n",
       "8. 1\n",
       "9. 1\n",
       "10. 1\n",
       "11. 1\n",
       "12. 2\n",
       "13. 2\n",
       "14. 2\n",
       "15. 2\n",
       "16. 3\n",
       "17. 4\n",
       "\n",
       "\n"
      ],
      "text/plain": [
       " [1] 1 1 1 1 1 1 1 1 1 1 1 2 2 2 2 3 4"
      ]
     },
     "metadata": {},
     "output_type": "display_data"
    }
   ],
   "source": [
    "#returns a vector of the positions of (first) matches of its first argument in its second\n",
    "match(data, ux)"
   ]
  },
  {
   "cell_type": "code",
   "execution_count": 5,
   "metadata": {},
   "outputs": [
    {
     "data": {
      "text/html": [
       "<ol class=list-inline>\n",
       "\t<li>11</li>\n",
       "\t<li>4</li>\n",
       "\t<li>1</li>\n",
       "\t<li>1</li>\n",
       "</ol>\n"
      ],
      "text/latex": [
       "\\begin{enumerate*}\n",
       "\\item 11\n",
       "\\item 4\n",
       "\\item 1\n",
       "\\item 1\n",
       "\\end{enumerate*}\n"
      ],
      "text/markdown": [
       "1. 11\n",
       "2. 4\n",
       "3. 1\n",
       "4. 1\n",
       "\n",
       "\n"
      ],
      "text/plain": [
       "[1] 11  4  1  1"
      ]
     },
     "metadata": {},
     "output_type": "display_data"
    }
   ],
   "source": [
    "#tabulate is similar to table but only generates the counts\n",
    "tabulate(match(data, ux))"
   ]
  },
  {
   "cell_type": "code",
   "execution_count": 6,
   "metadata": {},
   "outputs": [
    {
     "data": {
      "text/html": [
       "1"
      ],
      "text/latex": [
       "1"
      ],
      "text/markdown": [
       "1"
      ],
      "text/plain": [
       "[1] 1"
      ]
     },
     "metadata": {},
     "output_type": "display_data"
    }
   ],
   "source": [
    "#which.max: Determines the location (index) of the (first) minimum or maximum of a numeric (or logical) vector\n",
    "which.max(tabulate(match(data, ux)))"
   ]
  },
  {
   "cell_type": "code",
   "execution_count": 7,
   "metadata": {},
   "outputs": [
    {
     "data": {
      "text/html": [
       "0"
      ],
      "text/latex": [
       "0"
      ],
      "text/markdown": [
       "0"
      ],
      "text/plain": [
       "[1] 0"
      ]
     },
     "metadata": {},
     "output_type": "display_data"
    }
   ],
   "source": [
    "#Select that location from unique vector\n",
    "ux[which.max(tabulate(match(data, ux)))]"
   ]
  },
  {
   "cell_type": "markdown",
   "metadata": {},
   "source": [
    "#### Create function:"
   ]
  },
  {
   "cell_type": "code",
   "execution_count": 8,
   "metadata": {},
   "outputs": [
    {
     "data": {
      "text/html": [
       "0"
      ],
      "text/latex": [
       "0"
      ],
      "text/markdown": [
       "0"
      ],
      "text/plain": [
       "[1] 0"
      ]
     },
     "metadata": {},
     "output_type": "display_data"
    }
   ],
   "source": [
    "getMode <- function(x){\n",
    "  ux <- unique(x)\n",
    "  ux[which.max(tabulate(match(x, ux)))]\n",
    "}\n",
    " \n",
    "getMode(data)"
   ]
  },
  {
   "cell_type": "markdown",
   "metadata": {},
   "source": [
    "## Measure of Dispersion:\n",
    "- Range:\n",
    "    - The, Range, R, of a variable is the difference between the largest data value and the smallest data value\n",
    "    - *Range = R = largest data value - smallest data value*\n",
    "- Variance:\n",
    "    - The variance measures how far each number in the set is from the mean. Variance is calculated by taking the differences between each number in the set and the mean, squaring the differences (to make them positive) and dividing the sum of the squares by the number of values in the set\n",
    "    - Variance of Sample:  Is the sum of the squared deviations about the sample mean divided by the number of observations in the sample minus 1\n",
    " \n",
    "- Standard Deviation:\n",
    "    - A population standard deviation is obtained by taking the square root of the population variance\n",
    "    - A sample standard deviation is obtained by taking the square root of the sample variance\n",
    "    - A low standard deviation means that most of the numbers are very close to the average. A high standard deviation means that the numbers are spread out\n",
    "- Coefficient of Variation (CV):\n",
    "    - Coefficient of Variation (CV) measures the scatter in the data relative to mean\n",
    "    - Always expressed as percentage"
   ]
  },
  {
   "cell_type": "markdown",
   "metadata": {},
   "source": [
    "#### Sample Data Frame:"
   ]
  },
  {
   "cell_type": "code",
   "execution_count": 9,
   "metadata": {},
   "outputs": [
    {
     "data": {
      "text/html": [
       "<table>\n",
       "<thead><tr><th scope=col>x</th><th scope=col>name</th><th scope=col>score</th></tr></thead>\n",
       "<tbody>\n",
       "\t<tr><td> 1    </td><td>one   </td><td>82    </td></tr>\n",
       "\t<tr><td> 2    </td><td>two   </td><td>77    </td></tr>\n",
       "\t<tr><td> 3    </td><td>three </td><td>90    </td></tr>\n",
       "\t<tr><td> 4    </td><td>fout  </td><td>71    </td></tr>\n",
       "\t<tr><td> 5    </td><td>five  </td><td>62    </td></tr>\n",
       "\t<tr><td> 6    </td><td>six   </td><td>68    </td></tr>\n",
       "\t<tr><td> 7    </td><td>seven </td><td>74    </td></tr>\n",
       "\t<tr><td> 8    </td><td>eight </td><td>84    </td></tr>\n",
       "\t<tr><td> 9    </td><td>nine  </td><td>94    </td></tr>\n",
       "\t<tr><td>10    </td><td>ten   </td><td>88    </td></tr>\n",
       "\t<tr><td>11    </td><td>eleven</td><td>96    </td></tr>\n",
       "</tbody>\n",
       "</table>\n"
      ],
      "text/latex": [
       "\\begin{tabular}{r|lll}\n",
       " x & name & score\\\\\n",
       "\\hline\n",
       "\t  1     & one    & 82    \\\\\n",
       "\t  2     & two    & 77    \\\\\n",
       "\t  3     & three  & 90    \\\\\n",
       "\t  4     & fout   & 71    \\\\\n",
       "\t  5     & five   & 62    \\\\\n",
       "\t  6     & six    & 68    \\\\\n",
       "\t  7     & seven  & 74    \\\\\n",
       "\t  8     & eight  & 84    \\\\\n",
       "\t  9     & nine   & 94    \\\\\n",
       "\t 10     & ten    & 88    \\\\\n",
       "\t 11     & eleven & 96    \\\\\n",
       "\\end{tabular}\n"
      ],
      "text/markdown": [
       "\n",
       "x | name | score | \n",
       "|---|---|---|---|---|---|---|---|---|---|---|\n",
       "|  1     | one    | 82     | \n",
       "|  2     | two    | 77     | \n",
       "|  3     | three  | 90     | \n",
       "|  4     | fout   | 71     | \n",
       "|  5     | five   | 62     | \n",
       "|  6     | six    | 68     | \n",
       "|  7     | seven  | 74     | \n",
       "|  8     | eight  | 84     | \n",
       "|  9     | nine   | 94     | \n",
       "| 10     | ten    | 88     | \n",
       "| 11     | eleven | 96     | \n",
       "\n",
       "\n"
      ],
      "text/plain": [
       "   x  name   score\n",
       "1   1 one    82   \n",
       "2   2 two    77   \n",
       "3   3 three  90   \n",
       "4   4 fout   71   \n",
       "5   5 five   62   \n",
       "6   6 six    68   \n",
       "7   7 seven  74   \n",
       "8   8 eight  84   \n",
       "9   9 nine   94   \n",
       "10 10 ten    88   \n",
       "11 11 eleven 96   "
      ]
     },
     "metadata": {},
     "output_type": "display_data"
    }
   ],
   "source": [
    "x <- 1:11\n",
    "name <- c('one', 'two', 'three', 'fout', 'five','six', 'seven', 'eight', 'nine', 'ten', 'eleven')\n",
    "score <- c(82,77,90,71,62,68,74,84,94,88,96)\n",
    " \n",
    "data <- data.frame(x, name, score)\n",
    "data"
   ]
  },
  {
   "cell_type": "markdown",
   "metadata": {},
   "source": [
    "#### Measuring Range"
   ]
  },
  {
   "cell_type": "code",
   "execution_count": 10,
   "metadata": {},
   "outputs": [
    {
     "data": {
      "text/html": [
       "<ol class=list-inline>\n",
       "\t<li>62</li>\n",
       "\t<li>96</li>\n",
       "</ol>\n"
      ],
      "text/latex": [
       "\\begin{enumerate*}\n",
       "\\item 62\n",
       "\\item 96\n",
       "\\end{enumerate*}\n"
      ],
      "text/markdown": [
       "1. 62\n",
       "2. 96\n",
       "\n",
       "\n"
      ],
      "text/plain": [
       "[1] 62 96"
      ]
     },
     "metadata": {},
     "output_type": "display_data"
    },
    {
     "data": {
      "text/html": [
       "34"
      ],
      "text/latex": [
       "34"
      ],
      "text/markdown": [
       "34"
      ],
      "text/plain": [
       "[1] 34"
      ]
     },
     "metadata": {},
     "output_type": "display_data"
    }
   ],
   "source": [
    "#Find Range\n",
    "range(data$score)\n",
    "r <- max(data$score) - min(data$score)\n",
    "r"
   ]
  },
  {
   "cell_type": "markdown",
   "metadata": {},
   "source": [
    "#### Measuring Variance"
   ]
  },
  {
   "cell_type": "code",
   "execution_count": 11,
   "metadata": {},
   "outputs": [
    {
     "data": {
      "text/html": [
       "122.672727272727"
      ],
      "text/latex": [
       "122.672727272727"
      ],
      "text/markdown": [
       "122.672727272727"
      ],
      "text/plain": [
       "[1] 122.6727"
      ]
     },
     "metadata": {},
     "output_type": "display_data"
    }
   ],
   "source": [
    "#Variance\n",
    "v.sample <- var(data$score)\n",
    "v.sample"
   ]
  },
  {
   "cell_type": "markdown",
   "metadata": {},
   "source": [
    "#### Measuring variance of a Sample and Population manually:"
   ]
  },
  {
   "cell_type": "code",
   "execution_count": 12,
   "metadata": {},
   "outputs": [
    {
     "data": {
      "text/html": [
       "122.672727272727"
      ],
      "text/latex": [
       "122.672727272727"
      ],
      "text/markdown": [
       "122.672727272727"
      ],
      "text/plain": [
       "[1] 122.6727"
      ]
     },
     "metadata": {},
     "output_type": "display_data"
    },
    {
     "data": {
      "text/html": [
       "111.520661157025"
      ],
      "text/latex": [
       "111.520661157025"
      ],
      "text/markdown": [
       "111.520661157025"
      ],
      "text/plain": [
       "[1] 111.5207"
      ]
     },
     "metadata": {},
     "output_type": "display_data"
    }
   ],
   "source": [
    "#Variance of Sample Manually\n",
    "n <- length(data$score)\n",
    "x <- data$score\n",
    "v.sample <- sum((x - mean(x))^2)/(n-1)\n",
    "v.sample\n",
    " \n",
    "#Variance of Population Manually\n",
    "n <- length(data$score)\n",
    "x <- data$score\n",
    "v.population <- sum((x - mean(x))^2)/(n)\n",
    "v.population"
   ]
  },
  {
   "cell_type": "markdown",
   "metadata": {},
   "source": [
    "#### Measuring SD:"
   ]
  },
  {
   "cell_type": "code",
   "execution_count": 13,
   "metadata": {},
   "outputs": [
    {
     "data": {
      "text/html": [
       "11.0757720847229"
      ],
      "text/latex": [
       "11.0757720847229"
      ],
      "text/markdown": [
       "11.0757720847229"
      ],
      "text/plain": [
       "[1] 11.07577"
      ]
     },
     "metadata": {},
     "output_type": "display_data"
    }
   ],
   "source": [
    "#Standard Deviation\n",
    "sd.sample <- sd(data$score)\n",
    "sd.sample"
   ]
  },
  {
   "cell_type": "markdown",
   "metadata": {},
   "source": [
    "#### Measuring SD of a Sample and Population manually:"
   ]
  },
  {
   "cell_type": "code",
   "execution_count": 14,
   "metadata": {},
   "outputs": [
    {
     "data": {
      "text/html": [
       "11.0757720847229"
      ],
      "text/latex": [
       "11.0757720847229"
      ],
      "text/markdown": [
       "11.0757720847229"
      ],
      "text/plain": [
       "[1] 11.07577"
      ]
     },
     "metadata": {},
     "output_type": "display_data"
    },
    {
     "data": {
      "text/html": [
       "10.560334329794"
      ],
      "text/latex": [
       "10.560334329794"
      ],
      "text/markdown": [
       "10.560334329794"
      ],
      "text/plain": [
       "[1] 10.56033"
      ]
     },
     "metadata": {},
     "output_type": "display_data"
    }
   ],
   "source": [
    "#SD of Sample Manually:\n",
    "sd.sample <- sqrt(v.sample)\n",
    "sd.sample\n",
    " \n",
    "#SD of Population Manually:\n",
    "sd.population <- sqrt(v.population)\n",
    "sd.population"
   ]
  },
  {
   "cell_type": "markdown",
   "metadata": {
    "collapsed": true
   },
   "source": [
    "# Empirical Rule:\n",
    "- In a normal distribution (Bell Shape Curve), nearly all of the data will fall within three standard deviations of the mean. The empirical rule can be broken down into three parts:\n",
    "    - 68% of data falls within the first standard deviation from the mean.\n",
    "    - 95% fall within two standard deviations.\n",
    "    - 99.7% fall within three standard deviations.\n",
    "    - 34% + 13.5% + 2.35% + 0.15% = 50%"
   ]
  },
  {
   "cell_type": "markdown",
   "metadata": {},
   "source": [
    "## Standardized values: z-value\n",
    "- z = (y - u) / q = (Data Value - Mean) / SD\n",
    "- Compute probability\n",
    "- If z = 2, data value is 2 standard deviation above the mean\n",
    "- If z = -2, data value is 2 standard deviation below the mean"
   ]
  },
  {
   "cell_type": "markdown",
   "metadata": {},
   "source": [
    "#### Create a Data Frame"
   ]
  },
  {
   "cell_type": "code",
   "execution_count": 15,
   "metadata": {},
   "outputs": [
    {
     "data": {
      "text/html": [
       "<table>\n",
       "<thead><tr><th scope=col>x</th><th scope=col>name</th><th scope=col>score</th></tr></thead>\n",
       "<tbody>\n",
       "\t<tr><td> 1    </td><td>one   </td><td>82    </td></tr>\n",
       "\t<tr><td> 2    </td><td>two   </td><td>77    </td></tr>\n",
       "\t<tr><td> 3    </td><td>three </td><td>90    </td></tr>\n",
       "\t<tr><td> 4    </td><td>fout  </td><td>71    </td></tr>\n",
       "\t<tr><td> 5    </td><td>five  </td><td>62    </td></tr>\n",
       "\t<tr><td> 6    </td><td>six   </td><td>68    </td></tr>\n",
       "\t<tr><td> 7    </td><td>seven </td><td>74    </td></tr>\n",
       "\t<tr><td> 8    </td><td>eight </td><td>84    </td></tr>\n",
       "\t<tr><td> 9    </td><td>nine  </td><td>94    </td></tr>\n",
       "\t<tr><td>10    </td><td>ten   </td><td>88    </td></tr>\n",
       "\t<tr><td>11    </td><td>eleven</td><td>96    </td></tr>\n",
       "</tbody>\n",
       "</table>\n"
      ],
      "text/latex": [
       "\\begin{tabular}{r|lll}\n",
       " x & name & score\\\\\n",
       "\\hline\n",
       "\t  1     & one    & 82    \\\\\n",
       "\t  2     & two    & 77    \\\\\n",
       "\t  3     & three  & 90    \\\\\n",
       "\t  4     & fout   & 71    \\\\\n",
       "\t  5     & five   & 62    \\\\\n",
       "\t  6     & six    & 68    \\\\\n",
       "\t  7     & seven  & 74    \\\\\n",
       "\t  8     & eight  & 84    \\\\\n",
       "\t  9     & nine   & 94    \\\\\n",
       "\t 10     & ten    & 88    \\\\\n",
       "\t 11     & eleven & 96    \\\\\n",
       "\\end{tabular}\n"
      ],
      "text/markdown": [
       "\n",
       "x | name | score | \n",
       "|---|---|---|---|---|---|---|---|---|---|---|\n",
       "|  1     | one    | 82     | \n",
       "|  2     | two    | 77     | \n",
       "|  3     | three  | 90     | \n",
       "|  4     | fout   | 71     | \n",
       "|  5     | five   | 62     | \n",
       "|  6     | six    | 68     | \n",
       "|  7     | seven  | 74     | \n",
       "|  8     | eight  | 84     | \n",
       "|  9     | nine   | 94     | \n",
       "| 10     | ten    | 88     | \n",
       "| 11     | eleven | 96     | \n",
       "\n",
       "\n"
      ],
      "text/plain": [
       "   x  name   score\n",
       "1   1 one    82   \n",
       "2   2 two    77   \n",
       "3   3 three  90   \n",
       "4   4 fout   71   \n",
       "5   5 five   62   \n",
       "6   6 six    68   \n",
       "7   7 seven  74   \n",
       "8   8 eight  84   \n",
       "9   9 nine   94   \n",
       "10 10 ten    88   \n",
       "11 11 eleven 96   "
      ]
     },
     "metadata": {},
     "output_type": "display_data"
    }
   ],
   "source": [
    "#Create Data Frame\n",
    "x <- 1:11\n",
    "name <- c('one', 'two', 'three', 'fout', 'five','six', 'seven', 'eight', 'nine', 'ten', 'eleven')\n",
    "score <- c(82,77,90,71,62,68,74,84,94,88,96)\n",
    "\n",
    "data <- data.frame(x, name, score)\n",
    "data"
   ]
  },
  {
   "cell_type": "markdown",
   "metadata": {},
   "source": [
    "#### Calculate the z-value of each element based on the Mean and SD"
   ]
  },
  {
   "cell_type": "code",
   "execution_count": 16,
   "metadata": {},
   "outputs": [
    {
     "data": {
      "text/html": [
       "80.5454545454545"
      ],
      "text/latex": [
       "80.5454545454545"
      ],
      "text/markdown": [
       "80.5454545454545"
      ],
      "text/plain": [
       "[1] 80.54545"
      ]
     },
     "metadata": {},
     "output_type": "display_data"
    },
    {
     "data": {
      "text/html": [
       "11.0757720847229"
      ],
      "text/latex": [
       "11.0757720847229"
      ],
      "text/markdown": [
       "11.0757720847229"
      ],
      "text/plain": [
       "[1] 11.07577"
      ]
     },
     "metadata": {},
     "output_type": "display_data"
    },
    {
     "name": "stdout",
     "output_type": "stream",
     "text": [
      " [1]  0.1313268 -0.3201090  0.8536241 -0.8618320 -1.6744164 -1.1326935\n",
      " [7] -0.5909705  0.3119011  1.2147727  0.6730497  1.3953470\n"
     ]
    }
   ],
   "source": [
    "#Calculate Mean of the scores\n",
    "mean.sample <- mean(data$score)\n",
    "mean.sample\n",
    "\n",
    "#Calculate SD of the scores\n",
    "sd.sample <- sd(data$score)\n",
    "sd.sample\n",
    "\n",
    "#Calculate z-score of each element based on Mean and SD\n",
    "z.score <- (data$score - mean.sample)/sd.sample\n",
    "print(z.score)"
   ]
  },
  {
   "cell_type": "markdown",
   "metadata": {
    "collapsed": true
   },
   "source": [
    "## p-value:\n",
    "- Represents the area under the normal distribution curve to the left side\n",
    "- Add up all of the percentages up to the z-score"
   ]
  },
  {
   "cell_type": "markdown",
   "metadata": {},
   "source": [
    "| z-score | p-value |\n",
    "| --------|:--------|\n",
    "| 3       |0.9987   |\n",
    "| 2       |0.9772   |\n",
    "| 1       |0.8413   |\n",
    "| 0       |0.5000   |\n",
    "| -1      |0.1587   |\n",
    "| -2      |0.0228   |\n",
    "| -3      |0.0013   |"
   ]
  },
  {
   "cell_type": "markdown",
   "metadata": {},
   "source": [
    "### Example of calculating p-value:\n",
    "- Probability of score between 450 and 600 with Mean = 500 and SD = 100\n",
    "- Calculate z-score of the right (maximum) range:\n",
    "    - z-score = (600 - 500) / 100 = 1.00      p-value( z < 1.00 ) = 0.8413 = 84.13% (0.15+2.35+13.5+34+34)\n",
    "- Calculate z-score of the left (minimum) range:\n",
    "    - z-score = (450 - 500) / 100 =  -0.50    p-value( z < -0.50 ) = 0.3085 = 30.85%\n",
    "- Probability = 0.8413 – 0.3085 = 0.5328 = 53.28%"
   ]
  },
  {
   "cell_type": "markdown",
   "metadata": {},
   "source": [
    "### Standard Normal curve:\n",
    "- Mean = Median = Mode\n",
    "- Mean = 0, SD = 1\n",
    "- Area under the curve = 1\n",
    "- Area of the left side = Area of the right side"
   ]
  },
  {
   "cell_type": "markdown",
   "metadata": {},
   "source": [
    "### Example: Calculating z-score and p-value"
   ]
  },
  {
   "cell_type": "code",
   "execution_count": 17,
   "metadata": {
    "collapsed": true
   },
   "outputs": [],
   "source": [
    "m <- 100\n",
    "sd <- 15\n",
    "data <- 110"
   ]
  },
  {
   "cell_type": "markdown",
   "metadata": {},
   "source": [
    "#### Calculate z-score manually"
   ]
  },
  {
   "cell_type": "code",
   "execution_count": 18,
   "metadata": {},
   "outputs": [
    {
     "data": {
      "text/html": [
       "0.666666666666667"
      ],
      "text/latex": [
       "0.666666666666667"
      ],
      "text/markdown": [
       "0.666666666666667"
      ],
      "text/plain": [
       "[1] 0.6666667"
      ]
     },
     "metadata": {},
     "output_type": "display_data"
    }
   ],
   "source": [
    "zValue <- (data - m)/sd\n",
    "zValue"
   ]
  },
  {
   "cell_type": "markdown",
   "metadata": {},
   "source": [
    "#### Calculate z-score using scale() function.  Returns a Matrix"
   ]
  },
  {
   "cell_type": "code",
   "execution_count": 19,
   "metadata": {},
   "outputs": [
    {
     "name": "stdout",
     "output_type": "stream",
     "text": [
      "          [,1]\n",
      "[1,] 0.6666667\n",
      "attr(,\"scaled:center\")\n",
      "[1] 100\n",
      "attr(,\"scaled:scale\")\n",
      "[1] 15\n"
     ]
    },
    {
     "data": {
      "text/html": [
       "0.666666666666667"
      ],
      "text/latex": [
       "0.666666666666667"
      ],
      "text/markdown": [
       "0.666666666666667"
      ],
      "text/plain": [
       "[1] 0.6666667"
      ]
     },
     "metadata": {},
     "output_type": "display_data"
    }
   ],
   "source": [
    "zValue2 <- scale(data, m, sd)\n",
    "print(zValue2)\n",
    "\n",
    "#Index to just get the z-score\n",
    "zValue2[1]"
   ]
  },
  {
   "cell_type": "markdown",
   "metadata": {},
   "source": [
    "#### Get p-value from z-score"
   ]
  },
  {
   "cell_type": "code",
   "execution_count": 20,
   "metadata": {},
   "outputs": [
    {
     "data": {
      "text/html": [
       "0.583166163482442"
      ],
      "text/latex": [
       "0.583166163482442"
      ],
      "text/markdown": [
       "0.583166163482442"
      ],
      "text/plain": [
       "[1] 0.5831662"
      ]
     },
     "metadata": {},
     "output_type": "display_data"
    },
    {
     "data": {
      "text/html": [
       "0.416833836517558"
      ],
      "text/latex": [
       "0.416833836517558"
      ],
      "text/markdown": [
       "0.416833836517558"
      ],
      "text/plain": [
       "[1] 0.4168338"
      ]
     },
     "metadata": {},
     "output_type": "display_data"
    }
   ],
   "source": [
    "z <- 0.21\n",
    "pValue <- pnorm(z)\n",
    "pValue\n",
    " \n",
    "#Get the \"right\" side area\n",
    "1 - pnorm(z)"
   ]
  },
  {
   "cell_type": "markdown",
   "metadata": {},
   "source": [
    "#### Get the probability between 2 z scores"
   ]
  },
  {
   "cell_type": "code",
   "execution_count": 21,
   "metadata": {},
   "outputs": [
    {
     "data": {
      "text/html": [
       "0.243439043644039"
      ],
      "text/latex": [
       "0.243439043644039"
      ],
      "text/markdown": [
       "0.243439043644039"
      ],
      "text/plain": [
       "[1] 0.243439"
      ]
     },
     "metadata": {},
     "output_type": "display_data"
    }
   ],
   "source": [
    "z1 <- -0.31\n",
    "z2 <- 0.31\n",
    "probability <- pnorm(z2) - pnorm(z1)\n",
    "probability"
   ]
  },
  {
   "cell_type": "markdown",
   "metadata": {},
   "source": [
    "#### Get z-score from p-value"
   ]
  },
  {
   "cell_type": "code",
   "execution_count": 22,
   "metadata": {},
   "outputs": [
    {
     "data": {
      "text/html": [
       "0.201893479141851"
      ],
      "text/latex": [
       "0.201893479141851"
      ],
      "text/markdown": [
       "0.201893479141851"
      ],
      "text/plain": [
       "[1] 0.2018935"
      ]
     },
     "metadata": {},
     "output_type": "display_data"
    }
   ],
   "source": [
    "pValue <- 0.58\n",
    "zValue <- qnorm(pValue)\n",
    "zValue"
   ]
  },
  {
   "cell_type": "markdown",
   "metadata": {},
   "source": [
    "## Skewness\n",
    "- Mean < Median: Negative or left skewed distribution\n",
    "- Mean = Median: Symmetrical distribution with zero skewness\n",
    "- Mean > Median: Positive or right skewed distribution\n"
   ]
  },
  {
   "cell_type": "markdown",
   "metadata": {},
   "source": [
    "## Quartile\n",
    "- The quartiles divide the data into 4 equal parts\n",
    "- First quartile: Q1\n",
    "    - Bottom 25% = 25 percentile\n",
    "    - Top 75%\n",
    "- Second quartile: Q2\n",
    "    - Bottom 50% = 50 percentile\n",
    "    - Top 50%\n",
    "- Third quartile: Q3\n",
    "    - Bottom 75% = 75 percentile\n",
    "    - Top 25%\n"
   ]
  },
  {
   "cell_type": "markdown",
   "metadata": {},
   "source": [
    "### Example: Five Number Summary"
   ]
  },
  {
   "cell_type": "code",
   "execution_count": 23,
   "metadata": {},
   "outputs": [
    {
     "data": {
      "text/plain": [
       "   Min. 1st Qu.  Median    Mean 3rd Qu.    Max. \n",
       "  19.95   26.28   30.95   32.89   37.05   54.63 "
      ]
     },
     "metadata": {},
     "output_type": "display_data"
    },
    {
     "data": {
      "image/png": "[encoded data removed]",
      "text/plain": [
       "plot without title"
      ]
     },
     "metadata": {},
     "output_type": "display_data"
    }
   ],
   "source": [
    "rawDataCol1.4 = c(19.95, 28.58, 33.23, 23.25, 28.72,33.53, 23.32, 30.18, 36.68, 25.55, 30.35, 37.05)\n",
    "rawDataCol5.7 = c(25.83, 30.95, 37.43, 26.28, 32.13,41.42, 42.47, 49.17, 54.63)\n",
    " \n",
    "rawData = c(rawDataCol1.4, rawDataCol5.7)\n",
    " \n",
    "summary(rawData)\n",
    " \n",
    "boxplot(rawData)"
   ]
  },
  {
   "cell_type": "markdown",
   "metadata": {},
   "source": [
    "## Data Standardization and Scaling\n",
    "- Standardization: Based on z-score\n",
    "    - From -3 to +3\n",
    "    - z = (Data Value – Mean) / SD\n",
    "- Normalization (Scaling):\n",
    "    - y = (Data Value – Min Value) / (Max Value – Min Value)\n",
    "- In the presence of outliers, Normalization is better"
   ]
  },
  {
   "cell_type": "markdown",
   "metadata": {},
   "source": [
    "### Example: Normaize Data"
   ]
  },
  {
   "cell_type": "code",
   "execution_count": 24,
   "metadata": {},
   "outputs": [
    {
     "data": {
      "text/html": [
       "<ol class=list-inline>\n",
       "\t<li>0</li>\n",
       "\t<li>0.248846597462514</li>\n",
       "\t<li>0.382929642445213</li>\n",
       "\t<li>0.0951557093425606</li>\n",
       "\t<li>0.252883506343714</li>\n",
       "\t<li>0.391580161476355</li>\n",
       "\t<li>0.0971741637831603</li>\n",
       "\t<li>0.294982698961938</li>\n",
       "\t<li>0.482410611303345</li>\n",
       "\t<li>0.161476355247982</li>\n",
       "\t<li>0.299884659746251</li>\n",
       "\t<li>0.493079584775086</li>\n",
       "\t<li>0.169550173010381</li>\n",
       "\t<li>0.317185697808535</li>\n",
       "\t<li>0.504036908881199</li>\n",
       "\t<li>0.182525951557093</li>\n",
       "\t<li>0.35121107266436</li>\n",
       "\t<li>0.619088811995386</li>\n",
       "\t<li>0.649365628604383</li>\n",
       "\t<li>0.842560553633218</li>\n",
       "\t<li>1</li>\n",
       "</ol>\n"
      ],
      "text/latex": [
       "\\begin{enumerate*}\n",
       "\\item 0\n",
       "\\item 0.248846597462514\n",
       "\\item 0.382929642445213\n",
       "\\item 0.0951557093425606\n",
       "\\item 0.252883506343714\n",
       "\\item 0.391580161476355\n",
       "\\item 0.0971741637831603\n",
       "\\item 0.294982698961938\n",
       "\\item 0.482410611303345\n",
       "\\item 0.161476355247982\n",
       "\\item 0.299884659746251\n",
       "\\item 0.493079584775086\n",
       "\\item 0.169550173010381\n",
       "\\item 0.317185697808535\n",
       "\\item 0.504036908881199\n",
       "\\item 0.182525951557093\n",
       "\\item 0.35121107266436\n",
       "\\item 0.619088811995386\n",
       "\\item 0.649365628604383\n",
       "\\item 0.842560553633218\n",
       "\\item 1\n",
       "\\end{enumerate*}\n"
      ],
      "text/markdown": [
       "1. 0\n",
       "2. 0.248846597462514\n",
       "3. 0.382929642445213\n",
       "4. 0.0951557093425606\n",
       "5. 0.252883506343714\n",
       "6. 0.391580161476355\n",
       "7. 0.0971741637831603\n",
       "8. 0.294982698961938\n",
       "9. 0.482410611303345\n",
       "10. 0.161476355247982\n",
       "11. 0.299884659746251\n",
       "12. 0.493079584775086\n",
       "13. 0.169550173010381\n",
       "14. 0.317185697808535\n",
       "15. 0.504036908881199\n",
       "16. 0.182525951557093\n",
       "17. 0.35121107266436\n",
       "18. 0.619088811995386\n",
       "19. 0.649365628604383\n",
       "20. 0.842560553633218\n",
       "21. 1\n",
       "\n",
       "\n"
      ],
      "text/plain": [
       " [1] 0.00000000 0.24884660 0.38292964 0.09515571 0.25288351 0.39158016\n",
       " [7] 0.09717416 0.29498270 0.48241061 0.16147636 0.29988466 0.49307958\n",
       "[13] 0.16955017 0.31718570 0.50403691 0.18252595 0.35121107 0.61908881\n",
       "[19] 0.64936563 0.84256055 1.00000000"
      ]
     },
     "metadata": {},
     "output_type": "display_data"
    }
   ],
   "source": [
    "rawDataCol1.4 = c(19.95, 28.58, 33.23, 23.25, 28.72,33.53, 23.32, 30.18, 36.68, 25.55, 30.35, 37.05)\n",
    "rawDataCol5.7 = c(25.83, 30.95, 37.43, 26.28, 32.13,41.42, 42.47, 49.17, 54.63)\n",
    " \n",
    "rawData = c(rawDataCol1.4, rawDataCol5.7)\n",
    " \n",
    "normRawData <- (rawData - min(rawData)) / (max(rawData) - min(rawData))\n",
    "normRawData"
   ]
  }
 ],
 "metadata": {
  "kernelspec": {
   "display_name": "R",
   "language": "R",
   "name": "ir"
  },
  "language_info": {
   "codemirror_mode": "r",
   "file_extension": ".r",
   "mimetype": "text/x-r-source",
   "name": "R",
   "pygments_lexer": "r",
   "version": "3.4.1"
  }
 },
 "nbformat": 4,
 "nbformat_minor": 2
}
