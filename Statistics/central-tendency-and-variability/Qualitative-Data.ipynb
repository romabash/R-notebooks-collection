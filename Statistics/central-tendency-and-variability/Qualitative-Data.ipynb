{
 "cells": [
  {
   "cell_type": "markdown",
   "metadata": {},
   "source": [
    "# Qualitative Data\n",
    "- Using painters dataset\n"
   ]
  },
  {
   "cell_type": "code",
   "execution_count": 1,
   "metadata": {
    "collapsed": true
   },
   "outputs": [],
   "source": [
    "library(MASS)"
   ]
  },
  {
   "cell_type": "code",
   "execution_count": 2,
   "metadata": {},
   "outputs": [
    {
     "data": {
      "text/html": [
       "<table>\n",
       "<thead><tr><th></th><th scope=col>Composition</th><th scope=col>Drawing</th><th scope=col>Colour</th><th scope=col>Expression</th><th scope=col>School</th></tr></thead>\n",
       "<tbody>\n",
       "\t<tr><th scope=row>Da Udine</th><td>10</td><td> 8</td><td>16</td><td> 3</td><td>A </td></tr>\n",
       "\t<tr><th scope=row>Da Vinci</th><td>15</td><td>16</td><td> 4</td><td>14</td><td>A </td></tr>\n",
       "\t<tr><th scope=row>Del Piombo</th><td> 8</td><td>13</td><td>16</td><td> 7</td><td>A </td></tr>\n",
       "\t<tr><th scope=row>Del Sarto</th><td>12</td><td>16</td><td> 9</td><td> 8</td><td>A </td></tr>\n",
       "\t<tr><th scope=row>Fr. Penni</th><td> 0</td><td>15</td><td> 8</td><td> 0</td><td>A </td></tr>\n",
       "\t<tr><th scope=row>Guilio Romano</th><td>15</td><td>16</td><td> 4</td><td>14</td><td>A </td></tr>\n",
       "</tbody>\n",
       "</table>\n"
      ],
      "text/latex": [
       "\\begin{tabular}{r|lllll}\n",
       "  & Composition & Drawing & Colour & Expression & School\\\\\n",
       "\\hline\n",
       "\tDa Udine & 10 &  8 & 16 &  3 & A \\\\\n",
       "\tDa Vinci & 15 & 16 &  4 & 14 & A \\\\\n",
       "\tDel Piombo &  8 & 13 & 16 &  7 & A \\\\\n",
       "\tDel Sarto & 12 & 16 &  9 &  8 & A \\\\\n",
       "\tFr. Penni &  0 & 15 &  8 &  0 & A \\\\\n",
       "\tGuilio Romano & 15 & 16 &  4 & 14 & A \\\\\n",
       "\\end{tabular}\n"
      ],
      "text/markdown": [
       "\n",
       "| <!--/--> | Composition | Drawing | Colour | Expression | School | \n",
       "|---|---|---|---|---|---|\n",
       "| Da Udine | 10 |  8 | 16 |  3 | A  | \n",
       "| Da Vinci | 15 | 16 |  4 | 14 | A  | \n",
       "| Del Piombo |  8 | 13 | 16 |  7 | A  | \n",
       "| Del Sarto | 12 | 16 |  9 |  8 | A  | \n",
       "| Fr. Penni |  0 | 15 |  8 |  0 | A  | \n",
       "| Guilio Romano | 15 | 16 |  4 | 14 | A  | \n",
       "\n",
       "\n"
      ],
      "text/plain": [
       "              Composition Drawing Colour Expression School\n",
       "Da Udine      10           8      16      3         A     \n",
       "Da Vinci      15          16       4     14         A     \n",
       "Del Piombo     8          13      16      7         A     \n",
       "Del Sarto     12          16       9      8         A     \n",
       "Fr. Penni      0          15       8      0         A     \n",
       "Guilio Romano 15          16       4     14         A     "
      ]
     },
     "metadata": {},
     "output_type": "display_data"
    }
   ],
   "source": [
    "head(painters)\n",
    "#help(painters) "
   ]
  },
  {
   "cell_type": "code",
   "execution_count": 3,
   "metadata": {},
   "outputs": [
    {
     "data": {
      "text/html": [
       "<ol class=list-inline>\n",
       "\t<li>A</li>\n",
       "\t<li>A</li>\n",
       "\t<li>A</li>\n",
       "\t<li>A</li>\n",
       "\t<li>A</li>\n",
       "\t<li>A</li>\n",
       "\t<li>A</li>\n",
       "\t<li>A</li>\n",
       "\t<li>A</li>\n",
       "\t<li>A</li>\n",
       "\t<li>B</li>\n",
       "\t<li>B</li>\n",
       "\t<li>B</li>\n",
       "\t<li>B</li>\n",
       "\t<li>B</li>\n",
       "\t<li>B</li>\n",
       "\t<li>C</li>\n",
       "\t<li>C</li>\n",
       "\t<li>C</li>\n",
       "\t<li>C</li>\n",
       "\t<li>C</li>\n",
       "\t<li>C</li>\n",
       "\t<li>D</li>\n",
       "\t<li>D</li>\n",
       "\t<li>D</li>\n",
       "\t<li>D</li>\n",
       "\t<li>D</li>\n",
       "\t<li>D</li>\n",
       "\t<li>D</li>\n",
       "\t<li>D</li>\n",
       "\t<li>D</li>\n",
       "\t<li>D</li>\n",
       "\t<li>E</li>\n",
       "\t<li>E</li>\n",
       "\t<li>E</li>\n",
       "\t<li>E</li>\n",
       "\t<li>E</li>\n",
       "\t<li>E</li>\n",
       "\t<li>E</li>\n",
       "\t<li>F</li>\n",
       "\t<li>F</li>\n",
       "\t<li>F</li>\n",
       "\t<li>F</li>\n",
       "\t<li>G</li>\n",
       "\t<li>G</li>\n",
       "\t<li>G</li>\n",
       "\t<li>G</li>\n",
       "\t<li>G</li>\n",
       "\t<li>G</li>\n",
       "\t<li>G</li>\n",
       "\t<li>H</li>\n",
       "\t<li>H</li>\n",
       "\t<li>H</li>\n",
       "\t<li>H</li>\n",
       "</ol>\n"
      ],
      "text/latex": [
       "\\begin{enumerate*}\n",
       "\\item A\n",
       "\\item A\n",
       "\\item A\n",
       "\\item A\n",
       "\\item A\n",
       "\\item A\n",
       "\\item A\n",
       "\\item A\n",
       "\\item A\n",
       "\\item A\n",
       "\\item B\n",
       "\\item B\n",
       "\\item B\n",
       "\\item B\n",
       "\\item B\n",
       "\\item B\n",
       "\\item C\n",
       "\\item C\n",
       "\\item C\n",
       "\\item C\n",
       "\\item C\n",
       "\\item C\n",
       "\\item D\n",
       "\\item D\n",
       "\\item D\n",
       "\\item D\n",
       "\\item D\n",
       "\\item D\n",
       "\\item D\n",
       "\\item D\n",
       "\\item D\n",
       "\\item D\n",
       "\\item E\n",
       "\\item E\n",
       "\\item E\n",
       "\\item E\n",
       "\\item E\n",
       "\\item E\n",
       "\\item E\n",
       "\\item F\n",
       "\\item F\n",
       "\\item F\n",
       "\\item F\n",
       "\\item G\n",
       "\\item G\n",
       "\\item G\n",
       "\\item G\n",
       "\\item G\n",
       "\\item G\n",
       "\\item G\n",
       "\\item H\n",
       "\\item H\n",
       "\\item H\n",
       "\\item H\n",
       "\\end{enumerate*}\n"
      ],
      "text/markdown": [
       "1. A\n",
       "2. A\n",
       "3. A\n",
       "4. A\n",
       "5. A\n",
       "6. A\n",
       "7. A\n",
       "8. A\n",
       "9. A\n",
       "10. A\n",
       "11. B\n",
       "12. B\n",
       "13. B\n",
       "14. B\n",
       "15. B\n",
       "16. B\n",
       "17. C\n",
       "18. C\n",
       "19. C\n",
       "20. C\n",
       "21. C\n",
       "22. C\n",
       "23. D\n",
       "24. D\n",
       "25. D\n",
       "26. D\n",
       "27. D\n",
       "28. D\n",
       "29. D\n",
       "30. D\n",
       "31. D\n",
       "32. D\n",
       "33. E\n",
       "34. E\n",
       "35. E\n",
       "36. E\n",
       "37. E\n",
       "38. E\n",
       "39. E\n",
       "40. F\n",
       "41. F\n",
       "42. F\n",
       "43. F\n",
       "44. G\n",
       "45. G\n",
       "46. G\n",
       "47. G\n",
       "48. G\n",
       "49. G\n",
       "50. G\n",
       "51. H\n",
       "52. H\n",
       "53. H\n",
       "54. H\n",
       "\n",
       "\n"
      ],
      "text/plain": [
       " [1] A A A A A A A A A A B B B B B B C C C C C C D D D D D D D D D D E E E E E E\n",
       "[39] E F F F F G G G G G G G H H H H\n",
       "Levels: A B C D E F G H"
      ]
     },
     "metadata": {},
     "output_type": "display_data"
    }
   ],
   "source": [
    "school <- painters$School\n",
    "school"
   ]
  },
  {
   "cell_type": "markdown",
   "metadata": {},
   "source": [
    "#### Make a table of schools"
   ]
  },
  {
   "cell_type": "code",
   "execution_count": 4,
   "metadata": {},
   "outputs": [
    {
     "data": {
      "text/plain": [
       "school\n",
       " A  B  C  D  E  F  G  H \n",
       "10  6  6 10  7  4  7  4 "
      ]
     },
     "metadata": {},
     "output_type": "display_data"
    }
   ],
   "source": [
    "school.freq <- table(school)\n",
    "school.freq"
   ]
  },
  {
   "cell_type": "markdown",
   "metadata": {},
   "source": [
    "#### Display in the column format.  Data stays unchanged"
   ]
  },
  {
   "cell_type": "code",
   "execution_count": 5,
   "metadata": {},
   "outputs": [
    {
     "data": {
      "text/html": [
       "<table>\n",
       "<thead><tr><th></th><th scope=col>school.freq</th></tr></thead>\n",
       "<tbody>\n",
       "\t<tr><th scope=row>A</th><td>10</td></tr>\n",
       "\t<tr><th scope=row>B</th><td> 6</td></tr>\n",
       "\t<tr><th scope=row>C</th><td> 6</td></tr>\n",
       "\t<tr><th scope=row>D</th><td>10</td></tr>\n",
       "\t<tr><th scope=row>E</th><td> 7</td></tr>\n",
       "\t<tr><th scope=row>F</th><td> 4</td></tr>\n",
       "\t<tr><th scope=row>G</th><td> 7</td></tr>\n",
       "\t<tr><th scope=row>H</th><td> 4</td></tr>\n",
       "</tbody>\n",
       "</table>\n"
      ],
      "text/latex": [
       "\\begin{tabular}{r|l}\n",
       "  & school.freq\\\\\n",
       "\\hline\n",
       "\tA & 10\\\\\n",
       "\tB &  6\\\\\n",
       "\tC &  6\\\\\n",
       "\tD & 10\\\\\n",
       "\tE &  7\\\\\n",
       "\tF &  4\\\\\n",
       "\tG &  7\\\\\n",
       "\tH &  4\\\\\n",
       "\\end{tabular}\n"
      ],
      "text/markdown": [
       "\n",
       "| <!--/--> | school.freq | \n",
       "|---|---|---|---|---|---|---|---|\n",
       "| A | 10 | \n",
       "| B |  6 | \n",
       "| C |  6 | \n",
       "| D | 10 | \n",
       "| E |  7 | \n",
       "| F |  4 | \n",
       "| G |  7 | \n",
       "| H |  4 | \n",
       "\n",
       "\n"
      ],
      "text/plain": [
       "  school.freq\n",
       "A 10         \n",
       "B  6         \n",
       "C  6         \n",
       "D 10         \n",
       "E  7         \n",
       "F  4         \n",
       "G  7         \n",
       "H  4         "
      ]
     },
     "metadata": {},
     "output_type": "display_data"
    }
   ],
   "source": [
    "cbind(school.freq)"
   ]
  },
  {
   "cell_type": "markdown",
   "metadata": {},
   "source": [
    "### Find Relative Frequency of each school by diving by total number of rows in the data frame"
   ]
  },
  {
   "cell_type": "code",
   "execution_count": 6,
   "metadata": {},
   "outputs": [
    {
     "data": {
      "text/plain": [
       "school\n",
       "         A          B          C          D          E          F          G \n",
       "0.18518519 0.11111111 0.11111111 0.18518519 0.12962963 0.07407407 0.12962963 \n",
       "         H \n",
       "0.07407407 "
      ]
     },
     "metadata": {},
     "output_type": "display_data"
    }
   ],
   "source": [
    "school.relfreq <- school.freq/nrow(painters)\n",
    "school.relfreq"
   ]
  },
  {
   "cell_type": "markdown",
   "metadata": {},
   "source": [
    "#### Using options to define number of significant figures to display\n",
    "- options() functions has many other argumets to set"
   ]
  },
  {
   "cell_type": "code",
   "execution_count": 7,
   "metadata": {},
   "outputs": [
    {
     "data": {
      "text/plain": [
       "school\n",
       "   A    B    C    D    E    F    G    H \n",
       "0.19 0.11 0.11 0.19 0.13 0.07 0.13 0.07 "
      ]
     },
     "metadata": {},
     "output_type": "display_data"
    }
   ],
   "source": [
    "old <- options(digits=1)\n",
    "school.relfreq"
   ]
  },
  {
   "cell_type": "markdown",
   "metadata": {},
   "source": [
    "#### Reset the old option"
   ]
  },
  {
   "cell_type": "code",
   "execution_count": 8,
   "metadata": {},
   "outputs": [
    {
     "data": {
      "text/plain": [
       "school\n",
       "         A          B          C          D          E          F          G \n",
       "0.18518519 0.11111111 0.11111111 0.18518519 0.12962963 0.07407407 0.12962963 \n",
       "         H \n",
       "0.07407407 "
      ]
     },
     "metadata": {},
     "output_type": "display_data"
    }
   ],
   "source": [
    "options(old)\n",
    "school.relfreq"
   ]
  },
  {
   "cell_type": "markdown",
   "metadata": {},
   "source": [
    "### Barplot the school frequency"
   ]
  },
  {
   "cell_type": "code",
   "execution_count": 9,
   "metadata": {},
   "outputs": [
    {
     "data": {
      "image/png": "[encoded data removed]",
      "text/plain": [
       "plot without title"
      ]
     },
     "metadata": {},
     "output_type": "display_data"
    },
    {
     "data": {
      "image/png": "[encoded data removed]",
      "text/plain": [
       "plot without title"
      ]
     },
     "metadata": {},
     "output_type": "display_data"
    }
   ],
   "source": [
    "barplot(school.freq)\n",
    "colors <- c('red','yellow','green','violet','orange','blue','pink','cyan')\n",
    "barplot(school.freq, col=colors)"
   ]
  },
  {
   "cell_type": "markdown",
   "metadata": {},
   "source": [
    "### Pie Chart"
   ]
  },
  {
   "cell_type": "code",
   "execution_count": 10,
   "metadata": {},
   "outputs": [
    {
     "data": {
      "image/png": "[encoded data removed]",
      "text/plain": [
       "plot without title"
      ]
     },
     "metadata": {},
     "output_type": "display_data"
    },
    {
     "data": {
      "image/png": "[encoded data removed]",
      "text/plain": [
       "plot without title"
      ]
     },
     "metadata": {},
     "output_type": "display_data"
    }
   ],
   "source": [
    "pie(school.freq)\n",
    "pie(school.freq, col=colors)"
   ]
  },
  {
   "cell_type": "markdown",
   "metadata": {},
   "source": [
    "## Find out the mean composition score of school C in the data set painters\n",
    "- Create logical index vector"
   ]
  },
  {
   "cell_type": "code",
   "execution_count": 11,
   "metadata": {},
   "outputs": [
    {
     "data": {
      "text/html": [
       "<ol class=list-inline>\n",
       "\t<li>FALSE</li>\n",
       "\t<li>FALSE</li>\n",
       "\t<li>FALSE</li>\n",
       "\t<li>FALSE</li>\n",
       "\t<li>FALSE</li>\n",
       "\t<li>FALSE</li>\n",
       "\t<li>FALSE</li>\n",
       "\t<li>FALSE</li>\n",
       "\t<li>FALSE</li>\n",
       "\t<li>FALSE</li>\n",
       "\t<li>FALSE</li>\n",
       "\t<li>FALSE</li>\n",
       "\t<li>FALSE</li>\n",
       "\t<li>FALSE</li>\n",
       "\t<li>FALSE</li>\n",
       "\t<li>FALSE</li>\n",
       "\t<li>TRUE</li>\n",
       "\t<li>TRUE</li>\n",
       "\t<li>TRUE</li>\n",
       "\t<li>TRUE</li>\n",
       "\t<li>TRUE</li>\n",
       "\t<li>TRUE</li>\n",
       "\t<li>FALSE</li>\n",
       "\t<li>FALSE</li>\n",
       "\t<li>FALSE</li>\n",
       "\t<li>FALSE</li>\n",
       "\t<li>FALSE</li>\n",
       "\t<li>FALSE</li>\n",
       "\t<li>FALSE</li>\n",
       "\t<li>FALSE</li>\n",
       "\t<li>FALSE</li>\n",
       "\t<li>FALSE</li>\n",
       "\t<li>FALSE</li>\n",
       "\t<li>FALSE</li>\n",
       "\t<li>FALSE</li>\n",
       "\t<li>FALSE</li>\n",
       "\t<li>FALSE</li>\n",
       "\t<li>FALSE</li>\n",
       "\t<li>FALSE</li>\n",
       "\t<li>FALSE</li>\n",
       "\t<li>FALSE</li>\n",
       "\t<li>FALSE</li>\n",
       "\t<li>FALSE</li>\n",
       "\t<li>FALSE</li>\n",
       "\t<li>FALSE</li>\n",
       "\t<li>FALSE</li>\n",
       "\t<li>FALSE</li>\n",
       "\t<li>FALSE</li>\n",
       "\t<li>FALSE</li>\n",
       "\t<li>FALSE</li>\n",
       "\t<li>FALSE</li>\n",
       "\t<li>FALSE</li>\n",
       "\t<li>FALSE</li>\n",
       "\t<li>FALSE</li>\n",
       "</ol>\n"
      ],
      "text/latex": [
       "\\begin{enumerate*}\n",
       "\\item FALSE\n",
       "\\item FALSE\n",
       "\\item FALSE\n",
       "\\item FALSE\n",
       "\\item FALSE\n",
       "\\item FALSE\n",
       "\\item FALSE\n",
       "\\item FALSE\n",
       "\\item FALSE\n",
       "\\item FALSE\n",
       "\\item FALSE\n",
       "\\item FALSE\n",
       "\\item FALSE\n",
       "\\item FALSE\n",
       "\\item FALSE\n",
       "\\item FALSE\n",
       "\\item TRUE\n",
       "\\item TRUE\n",
       "\\item TRUE\n",
       "\\item TRUE\n",
       "\\item TRUE\n",
       "\\item TRUE\n",
       "\\item FALSE\n",
       "\\item FALSE\n",
       "\\item FALSE\n",
       "\\item FALSE\n",
       "\\item FALSE\n",
       "\\item FALSE\n",
       "\\item FALSE\n",
       "\\item FALSE\n",
       "\\item FALSE\n",
       "\\item FALSE\n",
       "\\item FALSE\n",
       "\\item FALSE\n",
       "\\item FALSE\n",
       "\\item FALSE\n",
       "\\item FALSE\n",
       "\\item FALSE\n",
       "\\item FALSE\n",
       "\\item FALSE\n",
       "\\item FALSE\n",
       "\\item FALSE\n",
       "\\item FALSE\n",
       "\\item FALSE\n",
       "\\item FALSE\n",
       "\\item FALSE\n",
       "\\item FALSE\n",
       "\\item FALSE\n",
       "\\item FALSE\n",
       "\\item FALSE\n",
       "\\item FALSE\n",
       "\\item FALSE\n",
       "\\item FALSE\n",
       "\\item FALSE\n",
       "\\end{enumerate*}\n"
      ],
      "text/markdown": [
       "1. FALSE\n",
       "2. FALSE\n",
       "3. FALSE\n",
       "4. FALSE\n",
       "5. FALSE\n",
       "6. FALSE\n",
       "7. FALSE\n",
       "8. FALSE\n",
       "9. FALSE\n",
       "10. FALSE\n",
       "11. FALSE\n",
       "12. FALSE\n",
       "13. FALSE\n",
       "14. FALSE\n",
       "15. FALSE\n",
       "16. FALSE\n",
       "17. TRUE\n",
       "18. TRUE\n",
       "19. TRUE\n",
       "20. TRUE\n",
       "21. TRUE\n",
       "22. TRUE\n",
       "23. FALSE\n",
       "24. FALSE\n",
       "25. FALSE\n",
       "26. FALSE\n",
       "27. FALSE\n",
       "28. FALSE\n",
       "29. FALSE\n",
       "30. FALSE\n",
       "31. FALSE\n",
       "32. FALSE\n",
       "33. FALSE\n",
       "34. FALSE\n",
       "35. FALSE\n",
       "36. FALSE\n",
       "37. FALSE\n",
       "38. FALSE\n",
       "39. FALSE\n",
       "40. FALSE\n",
       "41. FALSE\n",
       "42. FALSE\n",
       "43. FALSE\n",
       "44. FALSE\n",
       "45. FALSE\n",
       "46. FALSE\n",
       "47. FALSE\n",
       "48. FALSE\n",
       "49. FALSE\n",
       "50. FALSE\n",
       "51. FALSE\n",
       "52. FALSE\n",
       "53. FALSE\n",
       "54. FALSE\n",
       "\n",
       "\n"
      ],
      "text/plain": [
       " [1] FALSE FALSE FALSE FALSE FALSE FALSE FALSE FALSE FALSE FALSE FALSE FALSE\n",
       "[13] FALSE FALSE FALSE FALSE  TRUE  TRUE  TRUE  TRUE  TRUE  TRUE FALSE FALSE\n",
       "[25] FALSE FALSE FALSE FALSE FALSE FALSE FALSE FALSE FALSE FALSE FALSE FALSE\n",
       "[37] FALSE FALSE FALSE FALSE FALSE FALSE FALSE FALSE FALSE FALSE FALSE FALSE\n",
       "[49] FALSE FALSE FALSE FALSE FALSE FALSE"
      ]
     },
     "metadata": {},
     "output_type": "display_data"
    }
   ],
   "source": [
    "c_school <- school == \"C\"\n",
    "c_school"
   ]
  },
  {
   "cell_type": "markdown",
   "metadata": {},
   "source": [
    "#### Subset data for school C based on logical index vector\n",
    "- Rows only for C school, all columns"
   ]
  },
  {
   "cell_type": "code",
   "execution_count": 12,
   "metadata": {},
   "outputs": [
    {
     "data": {
      "text/html": [
       "<table>\n",
       "<thead><tr><th></th><th scope=col>Composition</th><th scope=col>Drawing</th><th scope=col>Colour</th><th scope=col>Expression</th><th scope=col>School</th></tr></thead>\n",
       "<tbody>\n",
       "\t<tr><th scope=row>Barocci</th><td>14</td><td>15</td><td> 6</td><td>10</td><td>C </td></tr>\n",
       "\t<tr><th scope=row>Cortona</th><td>16</td><td>14</td><td>12</td><td> 6</td><td>C </td></tr>\n",
       "\t<tr><th scope=row>Josepin</th><td>10</td><td>10</td><td> 6</td><td> 2</td><td>C </td></tr>\n",
       "\t<tr><th scope=row>L. Jordaens</th><td>13</td><td>12</td><td> 9</td><td> 6</td><td>C </td></tr>\n",
       "\t<tr><th scope=row>Testa</th><td>11</td><td>15</td><td> 0</td><td> 6</td><td>C </td></tr>\n",
       "\t<tr><th scope=row>Vanius</th><td>15</td><td>15</td><td>12</td><td>13</td><td>C </td></tr>\n",
       "</tbody>\n",
       "</table>\n"
      ],
      "text/latex": [
       "\\begin{tabular}{r|lllll}\n",
       "  & Composition & Drawing & Colour & Expression & School\\\\\n",
       "\\hline\n",
       "\tBarocci & 14 & 15 &  6 & 10 & C \\\\\n",
       "\tCortona & 16 & 14 & 12 &  6 & C \\\\\n",
       "\tJosepin & 10 & 10 &  6 &  2 & C \\\\\n",
       "\tL. Jordaens & 13 & 12 &  9 &  6 & C \\\\\n",
       "\tTesta & 11 & 15 &  0 &  6 & C \\\\\n",
       "\tVanius & 15 & 15 & 12 & 13 & C \\\\\n",
       "\\end{tabular}\n"
      ],
      "text/markdown": [
       "\n",
       "| <!--/--> | Composition | Drawing | Colour | Expression | School | \n",
       "|---|---|---|---|---|---|\n",
       "| Barocci | 14 | 15 |  6 | 10 | C  | \n",
       "| Cortona | 16 | 14 | 12 |  6 | C  | \n",
       "| Josepin | 10 | 10 |  6 |  2 | C  | \n",
       "| L. Jordaens | 13 | 12 |  9 |  6 | C  | \n",
       "| Testa | 11 | 15 |  0 |  6 | C  | \n",
       "| Vanius | 15 | 15 | 12 | 13 | C  | \n",
       "\n",
       "\n"
      ],
      "text/plain": [
       "            Composition Drawing Colour Expression School\n",
       "Barocci     14          15       6     10         C     \n",
       "Cortona     16          14      12      6         C     \n",
       "Josepin     10          10       6      2         C     \n",
       "L. Jordaens 13          12       9      6         C     \n",
       "Testa       11          15       0      6         C     \n",
       "Vanius      15          15      12     13         C     "
      ]
     },
     "metadata": {},
     "output_type": "display_data"
    }
   ],
   "source": [
    "c_painters <- painters[c_school, ]\n",
    "c_painters"
   ]
  },
  {
   "cell_type": "code",
   "execution_count": 13,
   "metadata": {},
   "outputs": [
    {
     "data": {
      "text/html": [
       "<table>\n",
       "<thead><tr><th></th><th scope=col>Composition</th><th scope=col>Drawing</th><th scope=col>Colour</th><th scope=col>Expression</th><th scope=col>School</th></tr></thead>\n",
       "<tbody>\n",
       "\t<tr><th scope=row>Barocci</th><td>14</td><td>15</td><td> 6</td><td>10</td><td>C </td></tr>\n",
       "\t<tr><th scope=row>Cortona</th><td>16</td><td>14</td><td>12</td><td> 6</td><td>C </td></tr>\n",
       "\t<tr><th scope=row>Josepin</th><td>10</td><td>10</td><td> 6</td><td> 2</td><td>C </td></tr>\n",
       "\t<tr><th scope=row>L. Jordaens</th><td>13</td><td>12</td><td> 9</td><td> 6</td><td>C </td></tr>\n",
       "\t<tr><th scope=row>Testa</th><td>11</td><td>15</td><td> 0</td><td> 6</td><td>C </td></tr>\n",
       "\t<tr><th scope=row>Vanius</th><td>15</td><td>15</td><td>12</td><td>13</td><td>C </td></tr>\n",
       "</tbody>\n",
       "</table>\n"
      ],
      "text/latex": [
       "\\begin{tabular}{r|lllll}\n",
       "  & Composition & Drawing & Colour & Expression & School\\\\\n",
       "\\hline\n",
       "\tBarocci & 14 & 15 &  6 & 10 & C \\\\\n",
       "\tCortona & 16 & 14 & 12 &  6 & C \\\\\n",
       "\tJosepin & 10 & 10 &  6 &  2 & C \\\\\n",
       "\tL. Jordaens & 13 & 12 &  9 &  6 & C \\\\\n",
       "\tTesta & 11 & 15 &  0 &  6 & C \\\\\n",
       "\tVanius & 15 & 15 & 12 & 13 & C \\\\\n",
       "\\end{tabular}\n"
      ],
      "text/markdown": [
       "\n",
       "| <!--/--> | Composition | Drawing | Colour | Expression | School | \n",
       "|---|---|---|---|---|---|\n",
       "| Barocci | 14 | 15 |  6 | 10 | C  | \n",
       "| Cortona | 16 | 14 | 12 |  6 | C  | \n",
       "| Josepin | 10 | 10 |  6 |  2 | C  | \n",
       "| L. Jordaens | 13 | 12 |  9 |  6 | C  | \n",
       "| Testa | 11 | 15 |  0 |  6 | C  | \n",
       "| Vanius | 15 | 15 | 12 | 13 | C  | \n",
       "\n",
       "\n"
      ],
      "text/plain": [
       "            Composition Drawing Colour Expression School\n",
       "Barocci     14          15       6     10         C     \n",
       "Cortona     16          14      12      6         C     \n",
       "Josepin     10          10       6      2         C     \n",
       "L. Jordaens 13          12       9      6         C     \n",
       "Testa       11          15       0      6         C     \n",
       "Vanius      15          15      12     13         C     "
      ]
     },
     "metadata": {},
     "output_type": "display_data"
    }
   ],
   "source": [
    "#Same as above in 1 line\n",
    "c_painters <- painters[school == \"C\", ]\n",
    "c_painters"
   ]
  },
  {
   "cell_type": "markdown",
   "metadata": {},
   "source": [
    "#### Find Mean of composition column"
   ]
  },
  {
   "cell_type": "code",
   "execution_count": 14,
   "metadata": {},
   "outputs": [
    {
     "data": {
      "text/html": [
       "13.1666666666667"
      ],
      "text/latex": [
       "13.1666666666667"
      ],
      "text/markdown": [
       "13.1666666666667"
      ],
      "text/plain": [
       "[1] 13.16667"
      ]
     },
     "metadata": {},
     "output_type": "display_data"
    }
   ],
   "source": [
    "composition_mean <- mean(c_painters$Composition)\n",
    "composition_mean"
   ]
  },
  {
   "cell_type": "markdown",
   "metadata": {},
   "source": [
    "### Can use tapply to compute Mean of all schools from data.frame \n",
    "- Using tapply() function"
   ]
  },
  {
   "cell_type": "code",
   "execution_count": 15,
   "metadata": {},
   "outputs": [
    {
     "data": {
      "text/html": [
       "<dl class=dl-horizontal>\n",
       "\t<dt>A</dt>\n",
       "\t\t<dd>10.4</dd>\n",
       "\t<dt>B</dt>\n",
       "\t\t<dd>12.1666666666667</dd>\n",
       "\t<dt>C</dt>\n",
       "\t\t<dd>13.1666666666667</dd>\n",
       "\t<dt>D</dt>\n",
       "\t\t<dd>9.1</dd>\n",
       "\t<dt>E</dt>\n",
       "\t\t<dd>13.5714285714286</dd>\n",
       "\t<dt>F</dt>\n",
       "\t\t<dd>7.25</dd>\n",
       "\t<dt>G</dt>\n",
       "\t\t<dd>13.8571428571429</dd>\n",
       "\t<dt>H</dt>\n",
       "\t\t<dd>14</dd>\n",
       "</dl>\n"
      ],
      "text/plain": [
       "       A        B        C        D        E        F        G        H \n",
       "10.40000 12.16667 13.16667  9.10000 13.57143  7.25000 13.85714 14.00000 "
      ]
     },
     "metadata": {},
     "output_type": "display_data"
    }
   ],
   "source": [
    "tapply(painters$Composition, painters$School, mean)"
   ]
  }
 ],
 "metadata": {
  "kernelspec": {
   "display_name": "R",
   "language": "R",
   "name": "ir"
  },
  "language_info": {
   "codemirror_mode": "r",
   "file_extension": ".r",
   "mimetype": "text/x-r-source",
   "name": "R",
   "pygments_lexer": "r",
   "version": "3.4.1"
  }
 },
 "nbformat": 4,
 "nbformat_minor": 2
}
