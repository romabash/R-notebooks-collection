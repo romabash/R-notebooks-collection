{
 "cells": [
  {
   "cell_type": "markdown",
   "metadata": {},
   "source": [
    "# Displaying & Summarizing Data"
   ]
  },
  {
   "cell_type": "markdown",
   "metadata": {},
   "source": [
    "- Plotting Qualitative (Categorical) Data:\n",
    "    - Bar plot\n",
    "    - Side-By-Side Bar Plot\n",
    "    - Pie Chart\n",
    "- Plotting Quantitative data:\n",
    "    - Histogram\n",
    "    - Stem-and-leaf plots\n"
   ]
  },
  {
   "cell_type": "markdown",
   "metadata": {},
   "source": [
    "## Bar Graph:\n",
    "- Qualitative (Categorical) variable on one axis\n",
    "- Quantitative variable on the other axis: Count (Frequency)"
   ]
  },
  {
   "cell_type": "markdown",
   "metadata": {},
   "source": [
    "### Organizing Qualitative (Categorical) Data:\n",
    "- Example Data: Operations\n",
    "- Variable: Body Parts\n",
    "- Qualitative / Nominal (Unordered)\n",
    "- _Relative Frequency = Frequency / Sum of all Frequencies_"
   ]
  },
  {
   "cell_type": "markdown",
   "metadata": {},
   "source": [
    "#### Create a vector of all operations"
   ]
  },
  {
   "cell_type": "code",
   "execution_count": 1,
   "metadata": {},
   "outputs": [
    {
     "data": {
      "text/html": [
       "<ol class=list-inline>\n",
       "\t<li>'Back'</li>\n",
       "\t<li>'Wrist'</li>\n",
       "\t<li>'Elbow'</li>\n",
       "\t<li>'Back'</li>\n",
       "\t<li>'Hip'</li>\n",
       "\t<li>'Back'</li>\n",
       "\t<li>'Back'</li>\n",
       "\t<li>'Back'</li>\n",
       "\t<li>'Shoulder'</li>\n",
       "\t<li>'Knee'</li>\n",
       "\t<li>'Hand'</li>\n",
       "\t<li>'Groin'</li>\n",
       "\t<li>'Back'</li>\n",
       "\t<li>'Shoulder'</li>\n",
       "\t<li>'Hip'</li>\n",
       "\t<li>'Neck'</li>\n",
       "\t<li>'Shoulder'</li>\n",
       "\t<li>'Back'</li>\n",
       "\t<li>'Knee'</li>\n",
       "\t<li>'Hand'</li>\n",
       "\t<li>'Knee'</li>\n",
       "\t<li>'Shoulder'</li>\n",
       "\t<li>'Back'</li>\n",
       "\t<li>'Knee'</li>\n",
       "\t<li>'Back'</li>\n",
       "\t<li>'Knee'</li>\n",
       "\t<li>'Back'</li>\n",
       "\t<li>'Back'</li>\n",
       "\t<li>'Back'</li>\n",
       "\t<li>'Wrist'</li>\n",
       "</ol>\n"
      ],
      "text/latex": [
       "\\begin{enumerate*}\n",
       "\\item 'Back'\n",
       "\\item 'Wrist'\n",
       "\\item 'Elbow'\n",
       "\\item 'Back'\n",
       "\\item 'Hip'\n",
       "\\item 'Back'\n",
       "\\item 'Back'\n",
       "\\item 'Back'\n",
       "\\item 'Shoulder'\n",
       "\\item 'Knee'\n",
       "\\item 'Hand'\n",
       "\\item 'Groin'\n",
       "\\item 'Back'\n",
       "\\item 'Shoulder'\n",
       "\\item 'Hip'\n",
       "\\item 'Neck'\n",
       "\\item 'Shoulder'\n",
       "\\item 'Back'\n",
       "\\item 'Knee'\n",
       "\\item 'Hand'\n",
       "\\item 'Knee'\n",
       "\\item 'Shoulder'\n",
       "\\item 'Back'\n",
       "\\item 'Knee'\n",
       "\\item 'Back'\n",
       "\\item 'Knee'\n",
       "\\item 'Back'\n",
       "\\item 'Back'\n",
       "\\item 'Back'\n",
       "\\item 'Wrist'\n",
       "\\end{enumerate*}\n"
      ],
      "text/markdown": [
       "1. 'Back'\n",
       "2. 'Wrist'\n",
       "3. 'Elbow'\n",
       "4. 'Back'\n",
       "5. 'Hip'\n",
       "6. 'Back'\n",
       "7. 'Back'\n",
       "8. 'Back'\n",
       "9. 'Shoulder'\n",
       "10. 'Knee'\n",
       "11. 'Hand'\n",
       "12. 'Groin'\n",
       "13. 'Back'\n",
       "14. 'Shoulder'\n",
       "15. 'Hip'\n",
       "16. 'Neck'\n",
       "17. 'Shoulder'\n",
       "18. 'Back'\n",
       "19. 'Knee'\n",
       "20. 'Hand'\n",
       "21. 'Knee'\n",
       "22. 'Shoulder'\n",
       "23. 'Back'\n",
       "24. 'Knee'\n",
       "25. 'Back'\n",
       "26. 'Knee'\n",
       "27. 'Back'\n",
       "28. 'Back'\n",
       "29. 'Back'\n",
       "30. 'Wrist'\n",
       "\n",
       "\n"
      ],
      "text/plain": [
       " [1] \"Back\"     \"Wrist\"    \"Elbow\"    \"Back\"     \"Hip\"      \"Back\"    \n",
       " [7] \"Back\"     \"Back\"     \"Shoulder\" \"Knee\"     \"Hand\"     \"Groin\"   \n",
       "[13] \"Back\"     \"Shoulder\" \"Hip\"      \"Neck\"     \"Shoulder\" \"Back\"    \n",
       "[19] \"Knee\"     \"Hand\"     \"Knee\"     \"Shoulder\" \"Back\"     \"Knee\"    \n",
       "[25] \"Back\"     \"Knee\"     \"Back\"     \"Back\"     \"Back\"     \"Wrist\"   "
      ]
     },
     "metadata": {},
     "output_type": "display_data"
    }
   ],
   "source": [
    "bodyPartCol1 = c('Back', 'Wrist', 'Elbow', 'Back', 'Hip')\n",
    "bodyPartCol2 = c('Back', 'Back', 'Back', 'Shoulder', 'Knee')\n",
    "bodyPartCol3 = c('Hand', 'Groin', 'Back', 'Shoulder', 'Hip')\n",
    "bodyPartCol4 = c('Neck', 'Shoulder', 'Back', 'Knee', 'Hand')\n",
    "bodyPartCol5 = c('Knee', 'Shoulder', 'Back', 'Knee', 'Back')\n",
    "bodyPartCol6 = c('Knee', 'Back', 'Back', 'Back', 'Wrist')\n",
    "bodyPart = c(bodyPartCol1, bodyPartCol2, bodyPartCol3, bodyPartCol4, bodyPartCol5, bodyPartCol6 )\n",
    " \n",
    "bodyPart"
   ]
  },
  {
   "cell_type": "markdown",
   "metadata": {},
   "source": [
    "#### Create a table from the vector"
   ]
  },
  {
   "cell_type": "code",
   "execution_count": 2,
   "metadata": {},
   "outputs": [
    {
     "data": {
      "text/plain": [
       "bodyPart\n",
       "    Back    Elbow    Groin     Hand      Hip     Knee     Neck Shoulder \n",
       "      12        1        1        2        2        5        1        4 \n",
       "   Wrist \n",
       "       2 "
      ]
     },
     "metadata": {},
     "output_type": "display_data"
    }
   ],
   "source": [
    "t = table(bodyPart)\n",
    "t"
   ]
  },
  {
   "cell_type": "markdown",
   "metadata": {},
   "source": [
    "#### Create a barplot from the table"
   ]
  },
  {
   "cell_type": "code",
   "execution_count": 3,
   "metadata": {},
   "outputs": [
    {
     "data": {
      "image/png": "[encoded data removed]",
      "text/plain": [
       "plot without title"
      ]
     },
     "metadata": {},
     "output_type": "display_data"
    }
   ],
   "source": [
    "barplot(t)"
   ]
  },
  {
   "cell_type": "markdown",
   "metadata": {},
   "source": [
    "#### Create barplot of Relative Frequency"
   ]
  },
  {
   "cell_type": "code",
   "execution_count": 4,
   "metadata": {},
   "outputs": [
    {
     "data": {
      "image/png": "[encoded data removed]",
      "text/plain": [
       "plot without title"
      ]
     },
     "metadata": {},
     "output_type": "display_data"
    }
   ],
   "source": [
    "barplot(t/length(bodyPart))"
   ]
  },
  {
   "cell_type": "markdown",
   "metadata": {},
   "source": [
    "#### Another way using Names: Relative Frequency plot"
   ]
  },
  {
   "cell_type": "code",
   "execution_count": 5,
   "metadata": {},
   "outputs": [
    {
     "data": {
      "text/html": [
       "<dl class=dl-horizontal>\n",
       "\t<dt>back</dt>\n",
       "\t\t<dd>12</dd>\n",
       "\t<dt>wrist</dt>\n",
       "\t\t<dd>2</dd>\n",
       "\t<dt>elbow</dt>\n",
       "\t\t<dd>1</dd>\n",
       "\t<dt>hip</dt>\n",
       "\t\t<dd>2</dd>\n",
       "\t<dt>shoulder</dt>\n",
       "\t\t<dd>4</dd>\n",
       "\t<dt>knee</dt>\n",
       "\t\t<dd>5</dd>\n",
       "\t<dt>hand</dt>\n",
       "\t\t<dd>2</dd>\n",
       "\t<dt>groin</dt>\n",
       "\t\t<dd>1</dd>\n",
       "\t<dt>neck</dt>\n",
       "\t\t<dd>1</dd>\n",
       "</dl>\n"
      ],
      "text/latex": [
       "\\begin{description*}\n",
       "\\item[back] 12\n",
       "\\item[wrist] 2\n",
       "\\item[elbow] 1\n",
       "\\item[hip] 2\n",
       "\\item[shoulder] 4\n",
       "\\item[knee] 5\n",
       "\\item[hand] 2\n",
       "\\item[groin] 1\n",
       "\\item[neck] 1\n",
       "\\end{description*}\n"
      ],
      "text/markdown": [
       "back\n",
       ":   12wrist\n",
       ":   2elbow\n",
       ":   1hip\n",
       ":   2shoulder\n",
       ":   4knee\n",
       ":   5hand\n",
       ":   2groin\n",
       ":   1neck\n",
       ":   1\n",
       "\n"
      ],
      "text/plain": [
       "    back    wrist    elbow      hip shoulder     knee     hand    groin \n",
       "      12        2        1        2        4        5        2        1 \n",
       "    neck \n",
       "       1 "
      ]
     },
     "metadata": {},
     "output_type": "display_data"
    },
    {
     "data": {
      "image/png": "[encoded data removed]",
      "text/plain": [
       "plot without title"
      ]
     },
     "metadata": {},
     "output_type": "display_data"
    }
   ],
   "source": [
    "parts <- c(12,2,1,2,4,5,2,1,1)\n",
    "names(parts) <- c('back', 'wrist', 'elbow', 'hip', 'shoulder', 'knee', 'hand', 'groin', 'neck')\n",
    "\n",
    "parts\n",
    "\n",
    "barplot(parts/sum(parts))"
   ]
  },
  {
   "cell_type": "markdown",
   "metadata": {},
   "source": [
    "#### Another way using columns of a Data Frame"
   ]
  },
  {
   "cell_type": "code",
   "execution_count": 6,
   "metadata": {},
   "outputs": [
    {
     "data": {
      "text/html": [
       "<table>\n",
       "<thead><tr><th scope=col>parts</th><th scope=col>count</th></tr></thead>\n",
       "<tbody>\n",
       "\t<tr><td>back    </td><td>12      </td></tr>\n",
       "\t<tr><td>wrist   </td><td> 2      </td></tr>\n",
       "\t<tr><td>elbow   </td><td> 1      </td></tr>\n",
       "\t<tr><td>hip     </td><td> 2      </td></tr>\n",
       "\t<tr><td>shoulder</td><td> 4      </td></tr>\n",
       "\t<tr><td>knee    </td><td> 5      </td></tr>\n",
       "\t<tr><td>hand    </td><td> 2      </td></tr>\n",
       "\t<tr><td>groin   </td><td> 1      </td></tr>\n",
       "\t<tr><td>neck    </td><td> 1      </td></tr>\n",
       "</tbody>\n",
       "</table>\n"
      ],
      "text/latex": [
       "\\begin{tabular}{r|ll}\n",
       " parts & count\\\\\n",
       "\\hline\n",
       "\t back     & 12      \\\\\n",
       "\t wrist    &  2      \\\\\n",
       "\t elbow    &  1      \\\\\n",
       "\t hip      &  2      \\\\\n",
       "\t shoulder &  4      \\\\\n",
       "\t knee     &  5      \\\\\n",
       "\t hand     &  2      \\\\\n",
       "\t groin    &  1      \\\\\n",
       "\t neck     &  1      \\\\\n",
       "\\end{tabular}\n"
      ],
      "text/markdown": [
       "\n",
       "parts | count | \n",
       "|---|---|---|---|---|---|---|---|---|\n",
       "| back     | 12       | \n",
       "| wrist    |  2       | \n",
       "| elbow    |  1       | \n",
       "| hip      |  2       | \n",
       "| shoulder |  4       | \n",
       "| knee     |  5       | \n",
       "| hand     |  2       | \n",
       "| groin    |  1       | \n",
       "| neck     |  1       | \n",
       "\n",
       "\n"
      ],
      "text/plain": [
       "  parts    count\n",
       "1 back     12   \n",
       "2 wrist     2   \n",
       "3 elbow     1   \n",
       "4 hip       2   \n",
       "5 shoulder  4   \n",
       "6 knee      5   \n",
       "7 hand      2   \n",
       "8 groin     1   \n",
       "9 neck      1   "
      ]
     },
     "metadata": {},
     "output_type": "display_data"
    }
   ],
   "source": [
    "parts <- c('back', 'wrist', 'elbow', 'hip', 'shoulder', 'knee', 'hand', 'groin', 'neck')\n",
    "count <- c(12,2,1,2,4,5,2,1,1)\n",
    " \n",
    "df <- data.frame(parts, count)\n",
    "df"
   ]
  },
  {
   "cell_type": "code",
   "execution_count": 7,
   "metadata": {},
   "outputs": [
    {
     "data": {
      "image/png": "[encoded data removed]",
      "text/plain": [
       "plot without title"
      ]
     },
     "metadata": {},
     "output_type": "display_data"
    }
   ],
   "source": [
    "#use Data Frame columns to get a vector with names\n",
    "bodyData <- df$count\n",
    "names(bodyData) <- df$parts\n",
    "\n",
    "barplot(bodyData/sum(bodyData))"
   ]
  },
  {
   "cell_type": "markdown",
   "metadata": {},
   "source": [
    "## Side-By-Side Bar Graph (Absolute Frequency and Relative Frequency):\n",
    "- Qualitative (Categorical) variable on one axis\n",
    "- Quantitative variable on the other axis\n",
    "- Bar graphs can be created with either a vector or a matrix           \n",
    "- If height parameter is a matrix, using legend.text=TRUE will use matrix row names as a legend for the bars"
   ]
  },
  {
   "cell_type": "markdown",
   "metadata": {},
   "source": [
    "### Example Side-by-Side plot:\n",
    "- Count in 1990 / Relative Frequency in 1990\n",
    "- Count in 2006 / Relative Frequency in 2006"
   ]
  },
  {
   "cell_type": "code",
   "execution_count": 8,
   "metadata": {},
   "outputs": [
    {
     "data": {
      "text/html": [
       "<table>\n",
       "<tbody>\n",
       "\t<tr><td>16502</td><td>11742</td></tr>\n",
       "\t<tr><td>22842</td><td>16154</td></tr>\n",
       "\t<tr><td>47643</td><td>60898</td></tr>\n",
       "\t<tr><td>29780</td><td>32611</td></tr>\n",
       "\t<tr><td> 9792</td><td>16760</td></tr>\n",
       "\t<tr><td>20833</td><td>35153</td></tr>\n",
       "\t<tr><td>11478</td><td>18567</td></tr>\n",
       "</tbody>\n",
       "</table>\n"
      ],
      "text/latex": [
       "\\begin{tabular}{ll}\n",
       "\t 16502 & 11742\\\\\n",
       "\t 22842 & 16154\\\\\n",
       "\t 47643 & 60898\\\\\n",
       "\t 29780 & 32611\\\\\n",
       "\t  9792 & 16760\\\\\n",
       "\t 20833 & 35153\\\\\n",
       "\t 11478 & 18567\\\\\n",
       "\\end{tabular}\n"
      ],
      "text/markdown": [
       "\n",
       "| 16502 | 11742 | \n",
       "| 22842 | 16154 | \n",
       "| 47643 | 60898 | \n",
       "| 29780 | 32611 | \n",
       "|  9792 | 16760 | \n",
       "| 20833 | 35153 | \n",
       "| 11478 | 18567 | \n",
       "\n",
       "\n"
      ],
      "text/plain": [
       "     [,1]  [,2] \n",
       "[1,] 16502 11742\n",
       "[2,] 22842 16154\n",
       "[3,] 47643 60898\n",
       "[4,] 29780 32611\n",
       "[5,]  9792 16760\n",
       "[6,] 20833 35153\n",
       "[7,] 11478 18567"
      ]
     },
     "metadata": {},
     "output_type": "display_data"
    }
   ],
   "source": [
    "a1990 = c(16502, 22842, 47643, 29780, 9792, 20833,11478)\n",
    "b2006 = c(11742, 16154, 60898, 32611, 16760, 35153, 18567)\n",
    "education = matrix(c(a1990,b2006), nrow=7)\n",
    "education"
   ]
  },
  {
   "cell_type": "markdown",
   "metadata": {},
   "source": [
    "#### Another way to create matrix with cbind() function"
   ]
  },
  {
   "cell_type": "code",
   "execution_count": 9,
   "metadata": {},
   "outputs": [
    {
     "data": {
      "text/html": [
       "<table>\n",
       "<thead><tr><th scope=col>a1990</th><th scope=col>b2006</th></tr></thead>\n",
       "<tbody>\n",
       "\t<tr><td>16502</td><td>11742</td></tr>\n",
       "\t<tr><td>22842</td><td>16154</td></tr>\n",
       "\t<tr><td>47643</td><td>60898</td></tr>\n",
       "\t<tr><td>29780</td><td>32611</td></tr>\n",
       "\t<tr><td> 9792</td><td>16760</td></tr>\n",
       "\t<tr><td>20833</td><td>35153</td></tr>\n",
       "\t<tr><td>11478</td><td>18567</td></tr>\n",
       "</tbody>\n",
       "</table>\n"
      ],
      "text/latex": [
       "\\begin{tabular}{ll}\n",
       " a1990 & b2006\\\\\n",
       "\\hline\n",
       "\t 16502 & 11742\\\\\n",
       "\t 22842 & 16154\\\\\n",
       "\t 47643 & 60898\\\\\n",
       "\t 29780 & 32611\\\\\n",
       "\t  9792 & 16760\\\\\n",
       "\t 20833 & 35153\\\\\n",
       "\t 11478 & 18567\\\\\n",
       "\\end{tabular}\n"
      ],
      "text/markdown": [
       "\n",
       "a1990 | b2006 | \n",
       "|---|---|---|---|---|---|---|\n",
       "| 16502 | 11742 | \n",
       "| 22842 | 16154 | \n",
       "| 47643 | 60898 | \n",
       "| 29780 | 32611 | \n",
       "|  9792 | 16760 | \n",
       "| 20833 | 35153 | \n",
       "| 11478 | 18567 | \n",
       "\n",
       "\n"
      ],
      "text/plain": [
       "     a1990 b2006\n",
       "[1,] 16502 11742\n",
       "[2,] 22842 16154\n",
       "[3,] 47643 60898\n",
       "[4,] 29780 32611\n",
       "[5,]  9792 16760\n",
       "[6,] 20833 35153\n",
       "[7,] 11478 18567"
      ]
     },
     "metadata": {},
     "output_type": "display_data"
    }
   ],
   "source": [
    "education = cbind(a1990, b2006)\n",
    "education"
   ]
  },
  {
   "cell_type": "markdown",
   "metadata": {},
   "source": [
    "#### Add row and column names to the Matrix"
   ]
  },
  {
   "cell_type": "code",
   "execution_count": 10,
   "metadata": {},
   "outputs": [
    {
     "data": {
      "text/html": [
       "<table>\n",
       "<thead><tr><th></th><th scope=col>1990</th><th scope=col>2006</th></tr></thead>\n",
       "<tbody>\n",
       "\t<tr><th scope=row>&lt; 9th Grade</th><td>16502</td><td>11742</td></tr>\n",
       "\t<tr><th scope=row>9th - 12th</th><td>22842</td><td>16154</td></tr>\n",
       "\t<tr><th scope=row>High School</th><td>47643</td><td>60898</td></tr>\n",
       "\t<tr><th scope=row>Some College</th><td>29780</td><td>32611</td></tr>\n",
       "\t<tr><th scope=row>Associate</th><td> 9792</td><td>16760</td></tr>\n",
       "\t<tr><th scope=row>Bachelor</th><td>20833</td><td>35153</td></tr>\n",
       "\t<tr><th scope=row>Graduate</th><td>11478</td><td>18567</td></tr>\n",
       "</tbody>\n",
       "</table>\n"
      ],
      "text/latex": [
       "\\begin{tabular}{r|ll}\n",
       "  & 1990 & 2006\\\\\n",
       "\\hline\n",
       "\t< 9th Grade & 16502 & 11742\\\\\n",
       "\t9th - 12th & 22842 & 16154\\\\\n",
       "\tHigh School & 47643 & 60898\\\\\n",
       "\tSome College & 29780 & 32611\\\\\n",
       "\tAssociate &  9792 & 16760\\\\\n",
       "\tBachelor & 20833 & 35153\\\\\n",
       "\tGraduate & 11478 & 18567\\\\\n",
       "\\end{tabular}\n"
      ],
      "text/markdown": [
       "\n",
       "| <!--/--> | 1990 | 2006 | \n",
       "|---|---|---|---|---|---|---|\n",
       "| < 9th Grade | 16502 | 11742 | \n",
       "| 9th - 12th | 22842 | 16154 | \n",
       "| High School | 47643 | 60898 | \n",
       "| Some College | 29780 | 32611 | \n",
       "| Associate |  9792 | 16760 | \n",
       "| Bachelor | 20833 | 35153 | \n",
       "| Graduate | 11478 | 18567 | \n",
       "\n",
       "\n"
      ],
      "text/plain": [
       "             1990  2006 \n",
       "< 9th Grade  16502 11742\n",
       "9th - 12th   22842 16154\n",
       "High School  47643 60898\n",
       "Some College 29780 32611\n",
       "Associate     9792 16760\n",
       "Bachelor     20833 35153\n",
       "Graduate     11478 18567"
      ]
     },
     "metadata": {},
     "output_type": "display_data"
    }
   ],
   "source": [
    "#Add row names to the Matrix\n",
    "rownames(education) = c(\"< 9th Grade\",\"9th - 12th\",\"High School\",\"Some College\",\"Associate\",\"Bachelor\",\"Graduate\")\n",
    "\n",
    "#Add column names to the Matrix (to replace default vector names)\n",
    "colnames(education) = c(\"1990\",\"2006\")\n",
    "education"
   ]
  },
  {
   "cell_type": "markdown",
   "metadata": {},
   "source": [
    "#### Transpose Matrix to get categories as column names and barplot"
   ]
  },
  {
   "cell_type": "code",
   "execution_count": 11,
   "metadata": {},
   "outputs": [
    {
     "data": {
      "text/html": [
       "<table>\n",
       "<thead><tr><th></th><th scope=col>&lt; 9th Grade</th><th scope=col>9th - 12th</th><th scope=col>High School</th><th scope=col>Some College</th><th scope=col>Associate</th><th scope=col>Bachelor</th><th scope=col>Graduate</th></tr></thead>\n",
       "<tbody>\n",
       "\t<tr><th scope=row>1990</th><td>16502</td><td>22842</td><td>47643</td><td>29780</td><td> 9792</td><td>20833</td><td>11478</td></tr>\n",
       "\t<tr><th scope=row>2006</th><td>11742</td><td>16154</td><td>60898</td><td>32611</td><td>16760</td><td>35153</td><td>18567</td></tr>\n",
       "</tbody>\n",
       "</table>\n"
      ],
      "text/latex": [
       "\\begin{tabular}{r|lllllll}\n",
       "  & < 9th Grade & 9th - 12th & High School & Some College & Associate & Bachelor & Graduate\\\\\n",
       "\\hline\n",
       "\t1990 & 16502 & 22842 & 47643 & 29780 &  9792 & 20833 & 11478\\\\\n",
       "\t2006 & 11742 & 16154 & 60898 & 32611 & 16760 & 35153 & 18567\\\\\n",
       "\\end{tabular}\n"
      ],
      "text/markdown": [
       "\n",
       "| <!--/--> | < 9th Grade | 9th - 12th | High School | Some College | Associate | Bachelor | Graduate | \n",
       "|---|---|\n",
       "| 1990 | 16502 | 22842 | 47643 | 29780 |  9792 | 20833 | 11478 | \n",
       "| 2006 | 11742 | 16154 | 60898 | 32611 | 16760 | 35153 | 18567 | \n",
       "\n",
       "\n"
      ],
      "text/plain": [
       "     < 9th Grade 9th - 12th High School Some College Associate Bachelor\n",
       "1990 16502       22842      47643       29780         9792     20833   \n",
       "2006 11742       16154      60898       32611        16760     35153   \n",
       "     Graduate\n",
       "1990 11478   \n",
       "2006 18567   "
      ]
     },
     "metadata": {},
     "output_type": "display_data"
    },
    {
     "data": {
      "image/png": "[encoded data removed]",
      "text/plain": [
       "plot without title"
      ]
     },
     "metadata": {},
     "output_type": "display_data"
    }
   ],
   "source": [
    "t1 = t(education)\n",
    "t1\n",
    " \n",
    "#If besides=FALSE, will generate a stacked bar graph\n",
    "barplot(t1, beside=TRUE)"
   ]
  },
  {
   "cell_type": "markdown",
   "metadata": {},
   "source": [
    "#### Can also do the same with rbind(), NO need to transpose.  Add legends with legend.text=TRUE"
   ]
  },
  {
   "cell_type": "code",
   "execution_count": 12,
   "metadata": {},
   "outputs": [
    {
     "data": {
      "text/html": [
       "<table>\n",
       "<thead><tr><th></th><th scope=col>&lt; 9th Grade</th><th scope=col>9th - 12th</th><th scope=col>High School</th><th scope=col>Some College</th><th scope=col>Associate</th><th scope=col>Bachelor</th><th scope=col>Graduate</th></tr></thead>\n",
       "<tbody>\n",
       "\t<tr><th scope=row>1990</th><td>16502</td><td>22842</td><td>47643</td><td>29780</td><td> 9792</td><td>20833</td><td>11478</td></tr>\n",
       "\t<tr><th scope=row>2006</th><td>11742</td><td>16154</td><td>60898</td><td>32611</td><td>16760</td><td>35153</td><td>18567</td></tr>\n",
       "</tbody>\n",
       "</table>\n"
      ],
      "text/latex": [
       "\\begin{tabular}{r|lllllll}\n",
       "  & < 9th Grade & 9th - 12th & High School & Some College & Associate & Bachelor & Graduate\\\\\n",
       "\\hline\n",
       "\t1990 & 16502 & 22842 & 47643 & 29780 &  9792 & 20833 & 11478\\\\\n",
       "\t2006 & 11742 & 16154 & 60898 & 32611 & 16760 & 35153 & 18567\\\\\n",
       "\\end{tabular}\n"
      ],
      "text/markdown": [
       "\n",
       "| <!--/--> | < 9th Grade | 9th - 12th | High School | Some College | Associate | Bachelor | Graduate | \n",
       "|---|---|\n",
       "| 1990 | 16502 | 22842 | 47643 | 29780 |  9792 | 20833 | 11478 | \n",
       "| 2006 | 11742 | 16154 | 60898 | 32611 | 16760 | 35153 | 18567 | \n",
       "\n",
       "\n"
      ],
      "text/plain": [
       "     < 9th Grade 9th - 12th High School Some College Associate Bachelor\n",
       "1990 16502       22842      47643       29780         9792     20833   \n",
       "2006 11742       16154      60898       32611        16760     35153   \n",
       "     Graduate\n",
       "1990 11478   \n",
       "2006 18567   "
      ]
     },
     "metadata": {},
     "output_type": "display_data"
    },
    {
     "data": {
      "image/png": "[encoded data removed]",
      "text/plain": [
       "plot without title"
      ]
     },
     "metadata": {},
     "output_type": "display_data"
    }
   ],
   "source": [
    "education2 = rbind(a1990, b2006)\n",
    "\n",
    "colnames(education2) = c(\"< 9th Grade\",\"9th - 12th\",\"High School\",\"Some College\",\"Associate\", \"Bachelor\",\"Graduate\")\n",
    "rownames(education2) = c(\"1990\",\"2006\")\n",
    "\n",
    "education2\n",
    "barplot(education2, beside=TRUE, legend.text=TRUE)"
   ]
  },
  {
   "cell_type": "markdown",
   "metadata": {},
   "source": [
    "## Pie Chart:\n",
    "- Qualitative: Educational Attainment\n",
    "- Quantitative: Count in 1990"
   ]
  },
  {
   "cell_type": "code",
   "execution_count": 13,
   "metadata": {},
   "outputs": [
    {
     "data": {
      "image/png": "[encoded data removed]",
      "text/plain": [
       "plot without title"
      ]
     },
     "metadata": {},
     "output_type": "display_data"
    }
   ],
   "source": [
    "a1990 = c(16502, 22842, 47643, 29780, 9792, 20833,11478)\n",
    "lbls <- c(\"< 9th Grade\",\"9th - 12th\",\"High School\",\"Some College\", \"Associate\", \"Bachelor\",\"Graduate\")\n",
    "\n",
    "pie(a1990, labels=lbls, col=c(\"purple\",\"red\",\"green\",\"blue\",\"white\",\"black\",\"pink\"))"
   ]
  },
  {
   "cell_type": "markdown",
   "metadata": {},
   "source": [
    "## Plotting Quantitative Data:\n",
    "- Histograms: take vector as a parameter"
   ]
  },
  {
   "cell_type": "markdown",
   "metadata": {},
   "source": [
    "### Discrete Numerical Data:\n",
    "- Number of arrivals at a restaurant within 15 minutes period (40 observations)"
   ]
  },
  {
   "cell_type": "code",
   "execution_count": 14,
   "metadata": {},
   "outputs": [
    {
     "data": {
      "text/html": [
       "<ol class=list-inline>\n",
       "\t<li>7</li>\n",
       "\t<li>5</li>\n",
       "\t<li>2</li>\n",
       "\t<li>6</li>\n",
       "\t<li>2</li>\n",
       "\t<li>6</li>\n",
       "\t<li>6</li>\n",
       "\t<li>7</li>\n",
       "\t<li>5</li>\n",
       "\t<li>2</li>\n",
       "\t<li>6</li>\n",
       "\t<li>6</li>\n",
       "\t<li>1</li>\n",
       "\t<li>5</li>\n",
       "\t<li>9</li>\n",
       "\t<li>6</li>\n",
       "\t<li>11</li>\n",
       "\t<li>2</li>\n",
       "\t<li>3</li>\n",
       "\t<li>7</li>\n",
       "\t<li>4</li>\n",
       "\t<li>4</li>\n",
       "\t<li>4</li>\n",
       "\t<li>7</li>\n",
       "\t<li>5</li>\n",
       "\t<li>6</li>\n",
       "\t<li>5</li>\n",
       "\t<li>8</li>\n",
       "\t<li>5</li>\n",
       "\t<li>9</li>\n",
       "\t<li>2</li>\n",
       "\t<li>7</li>\n",
       "\t<li>2</li>\n",
       "\t<li>4</li>\n",
       "\t<li>8</li>\n",
       "\t<li>6</li>\n",
       "\t<li>6</li>\n",
       "\t<li>6</li>\n",
       "\t<li>6</li>\n",
       "\t<li>5</li>\n",
       "</ol>\n"
      ],
      "text/latex": [
       "\\begin{enumerate*}\n",
       "\\item 7\n",
       "\\item 5\n",
       "\\item 2\n",
       "\\item 6\n",
       "\\item 2\n",
       "\\item 6\n",
       "\\item 6\n",
       "\\item 7\n",
       "\\item 5\n",
       "\\item 2\n",
       "\\item 6\n",
       "\\item 6\n",
       "\\item 1\n",
       "\\item 5\n",
       "\\item 9\n",
       "\\item 6\n",
       "\\item 11\n",
       "\\item 2\n",
       "\\item 3\n",
       "\\item 7\n",
       "\\item 4\n",
       "\\item 4\n",
       "\\item 4\n",
       "\\item 7\n",
       "\\item 5\n",
       "\\item 6\n",
       "\\item 5\n",
       "\\item 8\n",
       "\\item 5\n",
       "\\item 9\n",
       "\\item 2\n",
       "\\item 7\n",
       "\\item 2\n",
       "\\item 4\n",
       "\\item 8\n",
       "\\item 6\n",
       "\\item 6\n",
       "\\item 6\n",
       "\\item 6\n",
       "\\item 5\n",
       "\\end{enumerate*}\n"
      ],
      "text/markdown": [
       "1. 7\n",
       "2. 5\n",
       "3. 2\n",
       "4. 6\n",
       "5. 2\n",
       "6. 6\n",
       "7. 6\n",
       "8. 7\n",
       "9. 5\n",
       "10. 2\n",
       "11. 6\n",
       "12. 6\n",
       "13. 1\n",
       "14. 5\n",
       "15. 9\n",
       "16. 6\n",
       "17. 11\n",
       "18. 2\n",
       "19. 3\n",
       "20. 7\n",
       "21. 4\n",
       "22. 4\n",
       "23. 4\n",
       "24. 7\n",
       "25. 5\n",
       "26. 6\n",
       "27. 5\n",
       "28. 8\n",
       "29. 5\n",
       "30. 9\n",
       "31. 2\n",
       "32. 7\n",
       "33. 2\n",
       "34. 4\n",
       "35. 8\n",
       "36. 6\n",
       "37. 6\n",
       "38. 6\n",
       "39. 6\n",
       "40. 5\n",
       "\n",
       "\n"
      ],
      "text/plain": [
       " [1]  7  5  2  6  2  6  6  7  5  2  6  6  1  5  9  6 11  2  3  7  4  4  4  7  5\n",
       "[26]  6  5  8  5  9  2  7  2  4  8  6  6  6  6  5"
      ]
     },
     "metadata": {},
     "output_type": "display_data"
    }
   ],
   "source": [
    "col1 = c(7,5,2,6,2)\n",
    "col2 = c(6,6,7,5,2)\n",
    "col3 = c(6,6,1,5,9)\n",
    "col4 = c(6,11,2,3,7)\n",
    "col5 = c(4,4,4,7,5)\n",
    "col6 = c(6,5,8,5,9)\n",
    "col7 = c(2,7,2,4,8)\n",
    "col8 = c(6,6,6,6,5)\n",
    " \n",
    "x = c(col1, col2, col3, col4, col5, col6, col7, col8)\n",
    "x"
   ]
  },
  {
   "cell_type": "markdown",
   "metadata": {},
   "source": [
    "#### Sort the vector and create table "
   ]
  },
  {
   "cell_type": "code",
   "execution_count": 15,
   "metadata": {},
   "outputs": [
    {
     "data": {
      "text/html": [
       "<ol class=list-inline>\n",
       "\t<li>1</li>\n",
       "\t<li>2</li>\n",
       "\t<li>2</li>\n",
       "\t<li>2</li>\n",
       "\t<li>2</li>\n",
       "\t<li>2</li>\n",
       "\t<li>2</li>\n",
       "\t<li>3</li>\n",
       "\t<li>4</li>\n",
       "\t<li>4</li>\n",
       "\t<li>4</li>\n",
       "\t<li>4</li>\n",
       "\t<li>5</li>\n",
       "\t<li>5</li>\n",
       "\t<li>5</li>\n",
       "\t<li>5</li>\n",
       "\t<li>5</li>\n",
       "\t<li>5</li>\n",
       "\t<li>5</li>\n",
       "\t<li>6</li>\n",
       "\t<li>6</li>\n",
       "\t<li>6</li>\n",
       "\t<li>6</li>\n",
       "\t<li>6</li>\n",
       "\t<li>6</li>\n",
       "\t<li>6</li>\n",
       "\t<li>6</li>\n",
       "\t<li>6</li>\n",
       "\t<li>6</li>\n",
       "\t<li>6</li>\n",
       "\t<li>7</li>\n",
       "\t<li>7</li>\n",
       "\t<li>7</li>\n",
       "\t<li>7</li>\n",
       "\t<li>7</li>\n",
       "\t<li>8</li>\n",
       "\t<li>8</li>\n",
       "\t<li>9</li>\n",
       "\t<li>9</li>\n",
       "\t<li>11</li>\n",
       "</ol>\n"
      ],
      "text/latex": [
       "\\begin{enumerate*}\n",
       "\\item 1\n",
       "\\item 2\n",
       "\\item 2\n",
       "\\item 2\n",
       "\\item 2\n",
       "\\item 2\n",
       "\\item 2\n",
       "\\item 3\n",
       "\\item 4\n",
       "\\item 4\n",
       "\\item 4\n",
       "\\item 4\n",
       "\\item 5\n",
       "\\item 5\n",
       "\\item 5\n",
       "\\item 5\n",
       "\\item 5\n",
       "\\item 5\n",
       "\\item 5\n",
       "\\item 6\n",
       "\\item 6\n",
       "\\item 6\n",
       "\\item 6\n",
       "\\item 6\n",
       "\\item 6\n",
       "\\item 6\n",
       "\\item 6\n",
       "\\item 6\n",
       "\\item 6\n",
       "\\item 6\n",
       "\\item 7\n",
       "\\item 7\n",
       "\\item 7\n",
       "\\item 7\n",
       "\\item 7\n",
       "\\item 8\n",
       "\\item 8\n",
       "\\item 9\n",
       "\\item 9\n",
       "\\item 11\n",
       "\\end{enumerate*}\n"
      ],
      "text/markdown": [
       "1. 1\n",
       "2. 2\n",
       "3. 2\n",
       "4. 2\n",
       "5. 2\n",
       "6. 2\n",
       "7. 2\n",
       "8. 3\n",
       "9. 4\n",
       "10. 4\n",
       "11. 4\n",
       "12. 4\n",
       "13. 5\n",
       "14. 5\n",
       "15. 5\n",
       "16. 5\n",
       "17. 5\n",
       "18. 5\n",
       "19. 5\n",
       "20. 6\n",
       "21. 6\n",
       "22. 6\n",
       "23. 6\n",
       "24. 6\n",
       "25. 6\n",
       "26. 6\n",
       "27. 6\n",
       "28. 6\n",
       "29. 6\n",
       "30. 6\n",
       "31. 7\n",
       "32. 7\n",
       "33. 7\n",
       "34. 7\n",
       "35. 7\n",
       "36. 8\n",
       "37. 8\n",
       "38. 9\n",
       "39. 9\n",
       "40. 11\n",
       "\n",
       "\n"
      ],
      "text/plain": [
       " [1]  1  2  2  2  2  2  2  3  4  4  4  4  5  5  5  5  5  5  5  6  6  6  6  6  6\n",
       "[26]  6  6  6  6  6  7  7  7  7  7  8  8  9  9 11"
      ]
     },
     "metadata": {},
     "output_type": "display_data"
    },
    {
     "data": {
      "text/plain": [
       "x\n",
       " 1  2  3  4  5  6  7  8  9 11 \n",
       " 1  6  1  4  7 11  5  2  2  1 "
      ]
     },
     "metadata": {},
     "output_type": "display_data"
    }
   ],
   "source": [
    "sort(x)\n",
    "table(x)"
   ]
  },
  {
   "cell_type": "markdown",
   "metadata": {},
   "source": [
    "#### Create a histogram: prob=TRUE option"
   ]
  },
  {
   "cell_type": "code",
   "execution_count": 16,
   "metadata": {},
   "outputs": [
    {
     "data": {
      "image/png": "[encoded data removed]",
      "text/plain": [
       "Plot with title “Histogram of x”"
      ]
     },
     "metadata": {},
     "output_type": "display_data"
    }
   ],
   "source": [
    "hist(x,breaks=seq(0,12,1),prob=T)"
   ]
  },
  {
   "cell_type": "markdown",
   "metadata": {},
   "source": [
    "## Continuous Numerical Data:\n",
    "- Three-year rate-of-return of 40 separate Mutual Funds"
   ]
  },
  {
   "cell_type": "code",
   "execution_count": 17,
   "metadata": {},
   "outputs": [
    {
     "data": {
      "text/html": [
       "<ol class=list-inline>\n",
       "\t<li>13.5</li>\n",
       "\t<li>14.47</li>\n",
       "\t<li>14.14</li>\n",
       "\t<li>13.51</li>\n",
       "\t<li>15.7</li>\n",
       "\t<li>13.16</li>\n",
       "\t<li>12.29</li>\n",
       "\t<li>12.77</li>\n",
       "\t<li>15.44</li>\n",
       "\t<li>13.28</li>\n",
       "\t<li>10.53</li>\n",
       "\t<li>13.92</li>\n",
       "\t<li>19.74</li>\n",
       "\t<li>15.1</li>\n",
       "\t<li>23.76</li>\n",
       "\t<li>14.74</li>\n",
       "\t<li>16.16</li>\n",
       "\t<li>12.76</li>\n",
       "\t<li>17.13</li>\n",
       "\t<li>22.68</li>\n",
       "\t<li>13.2</li>\n",
       "\t<li>12.07</li>\n",
       "\t<li>13.34</li>\n",
       "\t<li>12.37</li>\n",
       "\t<li>14.81</li>\n",
       "\t<li>12.24</li>\n",
       "\t<li>10.99</li>\n",
       "\t<li>11.32</li>\n",
       "\t<li>16.34</li>\n",
       "\t<li>23.54</li>\n",
       "\t<li>12.61</li>\n",
       "\t<li>15.07</li>\n",
       "\t<li>15.41</li>\n",
       "\t<li>11.34</li>\n",
       "\t<li>19.65</li>\n",
       "\t<li>19.11</li>\n",
       "\t<li>10.06</li>\n",
       "\t<li>17.37</li>\n",
       "\t<li>10.57</li>\n",
       "\t<li>14.07</li>\n",
       "</ol>\n"
      ],
      "text/latex": [
       "\\begin{enumerate*}\n",
       "\\item 13.5\n",
       "\\item 14.47\n",
       "\\item 14.14\n",
       "\\item 13.51\n",
       "\\item 15.7\n",
       "\\item 13.16\n",
       "\\item 12.29\n",
       "\\item 12.77\n",
       "\\item 15.44\n",
       "\\item 13.28\n",
       "\\item 10.53\n",
       "\\item 13.92\n",
       "\\item 19.74\n",
       "\\item 15.1\n",
       "\\item 23.76\n",
       "\\item 14.74\n",
       "\\item 16.16\n",
       "\\item 12.76\n",
       "\\item 17.13\n",
       "\\item 22.68\n",
       "\\item 13.2\n",
       "\\item 12.07\n",
       "\\item 13.34\n",
       "\\item 12.37\n",
       "\\item 14.81\n",
       "\\item 12.24\n",
       "\\item 10.99\n",
       "\\item 11.32\n",
       "\\item 16.34\n",
       "\\item 23.54\n",
       "\\item 12.61\n",
       "\\item 15.07\n",
       "\\item 15.41\n",
       "\\item 11.34\n",
       "\\item 19.65\n",
       "\\item 19.11\n",
       "\\item 10.06\n",
       "\\item 17.37\n",
       "\\item 10.57\n",
       "\\item 14.07\n",
       "\\end{enumerate*}\n"
      ],
      "text/markdown": [
       "1. 13.5\n",
       "2. 14.47\n",
       "3. 14.14\n",
       "4. 13.51\n",
       "5. 15.7\n",
       "6. 13.16\n",
       "7. 12.29\n",
       "8. 12.77\n",
       "9. 15.44\n",
       "10. 13.28\n",
       "11. 10.53\n",
       "12. 13.92\n",
       "13. 19.74\n",
       "14. 15.1\n",
       "15. 23.76\n",
       "16. 14.74\n",
       "17. 16.16\n",
       "18. 12.76\n",
       "19. 17.13\n",
       "20. 22.68\n",
       "21. 13.2\n",
       "22. 12.07\n",
       "23. 13.34\n",
       "24. 12.37\n",
       "25. 14.81\n",
       "26. 12.24\n",
       "27. 10.99\n",
       "28. 11.32\n",
       "29. 16.34\n",
       "30. 23.54\n",
       "31. 12.61\n",
       "32. 15.07\n",
       "33. 15.41\n",
       "34. 11.34\n",
       "35. 19.65\n",
       "36. 19.11\n",
       "37. 10.06\n",
       "38. 17.37\n",
       "39. 10.57\n",
       "40. 14.07\n",
       "\n",
       "\n"
      ],
      "text/plain": [
       " [1] 13.50 14.47 14.14 13.51 15.70 13.16 12.29 12.77 15.44 13.28 10.53 13.92\n",
       "[13] 19.74 15.10 23.76 14.74 16.16 12.76 17.13 22.68 13.20 12.07 13.34 12.37\n",
       "[25] 14.81 12.24 10.99 11.32 16.34 23.54 12.61 15.07 15.41 11.34 19.65 19.11\n",
       "[37] 10.06 17.37 10.57 14.07"
      ]
     },
     "metadata": {},
     "output_type": "display_data"
    }
   ],
   "source": [
    "col1 = c (13.50, 14.47, 14.14, 13.51, 15.70)\n",
    "col2 = c(13.16, 12.29, 12.77, 15.44, 13.28)\n",
    "col3 = c(10.53, 13.92, 19.74, 15.10, 23.76)\n",
    "col4 = c(14.74, 16.16, 12.76, 17.13, 22.68)\n",
    "col5 = c(13.20, 12.07, 13.34, 12.37, 14.81)\n",
    "col6 = c(12.24, 10.99, 11.32, 16.34, 23.54)\n",
    "col7 = c(12.61, 15.07, 15.41, 11.34, 19.65)\n",
    "col8 = c(19.11, 10.06, 17.37, 10.57, 14.07)\n",
    " \n",
    "rateReturn = c(col1, col2, col3, col4, col5, col6, col7, col8)\n",
    "rateReturn"
   ]
  },
  {
   "cell_type": "markdown",
   "metadata": {},
   "source": [
    "#### Create histogram from the data"
   ]
  },
  {
   "cell_type": "code",
   "execution_count": 18,
   "metadata": {},
   "outputs": [
    {
     "data": {
      "text/plain": [
       "$breaks\n",
       "[1] 10 12 14 16 18 20 22 24\n",
       "\n",
       "$counts\n",
       "[1]  6 14 10  4  3  0  3\n",
       "\n",
       "$density\n",
       "[1] 0.0750 0.1750 0.1250 0.0500 0.0375 0.0000 0.0375\n",
       "\n",
       "$mids\n",
       "[1] 11 13 15 17 19 21 23\n",
       "\n",
       "$xname\n",
       "[1] \"rateReturn\"\n",
       "\n",
       "$equidist\n",
       "[1] TRUE\n",
       "\n",
       "attr(,\"class\")\n",
       "[1] \"histogram\""
      ]
     },
     "metadata": {},
     "output_type": "display_data"
    },
    {
     "data": {
      "image/png": "[encoded data removed]",
      "text/plain": [
       "Plot with title “Histogram of rateReturn”"
      ]
     },
     "metadata": {},
     "output_type": "display_data"
    }
   ],
   "source": [
    "(h = hist(rateReturn))"
   ]
  },
  {
   "cell_type": "markdown",
   "metadata": {},
   "source": [
    "### Stem-and-Leaf Plots: Continuous Data"
   ]
  },
  {
   "cell_type": "code",
   "execution_count": 19,
   "metadata": {},
   "outputs": [
    {
     "data": {
      "text/html": [
       "<ol class=list-inline>\n",
       "\t<li>10.06</li>\n",
       "\t<li>10.53</li>\n",
       "\t<li>10.57</li>\n",
       "\t<li>10.99</li>\n",
       "\t<li>11.32</li>\n",
       "\t<li>11.34</li>\n",
       "\t<li>12.07</li>\n",
       "\t<li>12.24</li>\n",
       "\t<li>12.29</li>\n",
       "\t<li>12.37</li>\n",
       "\t<li>12.61</li>\n",
       "\t<li>12.76</li>\n",
       "\t<li>12.77</li>\n",
       "\t<li>13.16</li>\n",
       "\t<li>13.2</li>\n",
       "\t<li>13.28</li>\n",
       "\t<li>13.34</li>\n",
       "\t<li>13.5</li>\n",
       "\t<li>13.51</li>\n",
       "\t<li>13.92</li>\n",
       "\t<li>14.07</li>\n",
       "\t<li>14.14</li>\n",
       "\t<li>14.47</li>\n",
       "\t<li>14.74</li>\n",
       "\t<li>14.81</li>\n",
       "\t<li>15.07</li>\n",
       "\t<li>15.1</li>\n",
       "\t<li>15.41</li>\n",
       "\t<li>15.44</li>\n",
       "\t<li>15.7</li>\n",
       "\t<li>16.16</li>\n",
       "\t<li>16.34</li>\n",
       "\t<li>17.13</li>\n",
       "\t<li>17.37</li>\n",
       "\t<li>19.11</li>\n",
       "\t<li>19.65</li>\n",
       "\t<li>19.74</li>\n",
       "\t<li>22.68</li>\n",
       "\t<li>23.54</li>\n",
       "\t<li>23.76</li>\n",
       "</ol>\n"
      ],
      "text/latex": [
       "\\begin{enumerate*}\n",
       "\\item 10.06\n",
       "\\item 10.53\n",
       "\\item 10.57\n",
       "\\item 10.99\n",
       "\\item 11.32\n",
       "\\item 11.34\n",
       "\\item 12.07\n",
       "\\item 12.24\n",
       "\\item 12.29\n",
       "\\item 12.37\n",
       "\\item 12.61\n",
       "\\item 12.76\n",
       "\\item 12.77\n",
       "\\item 13.16\n",
       "\\item 13.2\n",
       "\\item 13.28\n",
       "\\item 13.34\n",
       "\\item 13.5\n",
       "\\item 13.51\n",
       "\\item 13.92\n",
       "\\item 14.07\n",
       "\\item 14.14\n",
       "\\item 14.47\n",
       "\\item 14.74\n",
       "\\item 14.81\n",
       "\\item 15.07\n",
       "\\item 15.1\n",
       "\\item 15.41\n",
       "\\item 15.44\n",
       "\\item 15.7\n",
       "\\item 16.16\n",
       "\\item 16.34\n",
       "\\item 17.13\n",
       "\\item 17.37\n",
       "\\item 19.11\n",
       "\\item 19.65\n",
       "\\item 19.74\n",
       "\\item 22.68\n",
       "\\item 23.54\n",
       "\\item 23.76\n",
       "\\end{enumerate*}\n"
      ],
      "text/markdown": [
       "1. 10.06\n",
       "2. 10.53\n",
       "3. 10.57\n",
       "4. 10.99\n",
       "5. 11.32\n",
       "6. 11.34\n",
       "7. 12.07\n",
       "8. 12.24\n",
       "9. 12.29\n",
       "10. 12.37\n",
       "11. 12.61\n",
       "12. 12.76\n",
       "13. 12.77\n",
       "14. 13.16\n",
       "15. 13.2\n",
       "16. 13.28\n",
       "17. 13.34\n",
       "18. 13.5\n",
       "19. 13.51\n",
       "20. 13.92\n",
       "21. 14.07\n",
       "22. 14.14\n",
       "23. 14.47\n",
       "24. 14.74\n",
       "25. 14.81\n",
       "26. 15.07\n",
       "27. 15.1\n",
       "28. 15.41\n",
       "29. 15.44\n",
       "30. 15.7\n",
       "31. 16.16\n",
       "32. 16.34\n",
       "33. 17.13\n",
       "34. 17.37\n",
       "35. 19.11\n",
       "36. 19.65\n",
       "37. 19.74\n",
       "38. 22.68\n",
       "39. 23.54\n",
       "40. 23.76\n",
       "\n",
       "\n"
      ],
      "text/plain": [
       " [1] 10.06 10.53 10.57 10.99 11.32 11.34 12.07 12.24 12.29 12.37 12.61 12.76\n",
       "[13] 12.77 13.16 13.20 13.28 13.34 13.50 13.51 13.92 14.07 14.14 14.47 14.74\n",
       "[25] 14.81 15.07 15.10 15.41 15.44 15.70 16.16 16.34 17.13 17.37 19.11 19.65\n",
       "[37] 19.74 22.68 23.54 23.76"
      ]
     },
     "metadata": {},
     "output_type": "display_data"
    },
    {
     "name": "stdout",
     "output_type": "stream",
     "text": [
      "\n",
      "  The decimal point is at the |\n",
      "\n",
      "  10 | 156\n",
      "  11 | 033\n",
      "  12 | 1234688\n",
      "  13 | 2233559\n",
      "  14 | 11578\n",
      "  15 | 11447\n",
      "  16 | 23\n",
      "  17 | 14\n",
      "  18 | \n",
      "  19 | 177\n",
      "  20 | \n",
      "  21 | \n",
      "  22 | 7\n",
      "  23 | 58\n",
      "\n"
     ]
    }
   ],
   "source": [
    "sort(rateReturn)\n",
    "stem(rateReturn, scale=2)"
   ]
  },
  {
   "cell_type": "markdown",
   "metadata": {},
   "source": [
    "### Cumulative Frequency Distribution Plot:\n",
    "- Sum of the class and all classes below it in a frequency distribution, adding up a value and all of the values that came before it, equaling to 1 at the end"
   ]
  },
  {
   "cell_type": "markdown",
   "metadata": {},
   "source": [
    "#### Creates cumulative frequency, adding the previous frequency on top of the current\n"
   ]
  },
  {
   "cell_type": "code",
   "execution_count": 20,
   "metadata": {},
   "outputs": [
    {
     "data": {
      "image/png": "[encoded data removed]",
      "text/plain": [
       "Plot with title “Histogram of rateReturn”"
      ]
     },
     "metadata": {},
     "output_type": "display_data"
    },
    {
     "data": {
      "image/png": "[encoded data removed]",
      "text/plain": [
       "plot without title"
      ]
     },
     "metadata": {},
     "output_type": "display_data"
    }
   ],
   "source": [
    "cumFreq <- cumsum(hist(rateReturn)$counts/length(rateReturn))\n",
    "plot(cumFreq, type='l')"
   ]
  }
 ],
 "metadata": {
  "kernelspec": {
   "display_name": "R",
   "language": "R",
   "name": "ir"
  },
  "language_info": {
   "codemirror_mode": "r",
   "file_extension": ".r",
   "mimetype": "text/x-r-source",
   "name": "R",
   "pygments_lexer": "r",
   "version": "3.4.1"
  }
 },
 "nbformat": 4,
 "nbformat_minor": 2
}
