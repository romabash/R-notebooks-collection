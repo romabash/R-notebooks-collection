{
 "cells": [
  {
   "cell_type": "markdown",
   "metadata": {},
   "source": [
    "# Covariance and Correlation:"
   ]
  },
  {
   "cell_type": "markdown",
   "metadata": {},
   "source": [
    "## Covariance:\n",
    "- Variance:\n",
    "    - When 1 variables are involved – Bivariate Data\n",
    "    - Can be represented with a Bar Plot or a Histogram\n",
    "    - Covariance:\n",
    "    - When 2 variables are involved – Bivariate Data\n",
    "    - Measures the direction of the linear relationship between 2 quantitative variable\n",
    "    - Can be represented with a Scatter Plot\n",
    "- Covariance increases if x or y increase\n",
    "    - Cov(x,y) = ( Sum(x – mean(x)) * (y – mean(y)) ) / (n-1)"
   ]
  },
  {
   "cell_type": "markdown",
   "metadata": {},
   "source": [
    "### Example: Measuring Covariance between 2 Variables"
   ]
  },
  {
   "cell_type": "code",
   "execution_count": 1,
   "metadata": {},
   "outputs": [
    {
     "data": {
      "image/png": "[encoded data removed]",
      "text/plain": [
       "plot without title"
      ]
     },
     "metadata": {},
     "output_type": "display_data"
    }
   ],
   "source": [
    "x <- c(6,10,14,19,21)\n",
    "y <- c(5,3,7,8,12)\n",
    "plot(x,y,pch=21,col=\"blue\",bg=\"red\")"
   ]
  },
  {
   "cell_type": "markdown",
   "metadata": {},
   "source": [
    "#### Measure Covariance using cov() function"
   ]
  },
  {
   "cell_type": "code",
   "execution_count": 2,
   "metadata": {},
   "outputs": [
    {
     "data": {
      "text/html": [
       "18"
      ],
      "text/latex": [
       "18"
      ],
      "text/markdown": [
       "18"
      ],
      "text/plain": [
       "[1] 18"
      ]
     },
     "metadata": {},
     "output_type": "display_data"
    }
   ],
   "source": [
    "cov(x,y)"
   ]
  },
  {
   "cell_type": "markdown",
   "metadata": {},
   "source": [
    "#### If x or y increases, covariance increases by the same factor"
   ]
  },
  {
   "cell_type": "code",
   "execution_count": 3,
   "metadata": {},
   "outputs": [
    {
     "data": {
      "text/html": [
       "180"
      ],
      "text/latex": [
       "180"
      ],
      "text/markdown": [
       "180"
      ],
      "text/plain": [
       "[1] 180"
      ]
     },
     "metadata": {},
     "output_type": "display_data"
    }
   ],
   "source": [
    "x <- x*10\n",
    "cov(x,y)"
   ]
  },
  {
   "cell_type": "markdown",
   "metadata": {},
   "source": [
    "## Correlation:\n",
    "- Measures the strength and direction of the linear relationship between two quantitative variables\n",
    "- r = Covariance / (x.SD * y.SD)\n",
    "- r = 1, Positive Linear Relation: Y increases as X increases\n",
    "- r = 0.5, Moderate Linear Relation\n",
    "- r = -1, Negative Linear Relation: Y decreases as X increases\n",
    "- r = 0, No Linear relation"
   ]
  },
  {
   "cell_type": "markdown",
   "metadata": {},
   "source": [
    "### Example: Measuring Correlation between 2 Variables"
   ]
  },
  {
   "cell_type": "code",
   "execution_count": 4,
   "metadata": {
    "collapsed": true
   },
   "outputs": [],
   "source": [
    "x <- c(6,10,14,19,21)\n",
    "y <- c(5,3,7,8,12)"
   ]
  },
  {
   "cell_type": "markdown",
   "metadata": {},
   "source": [
    "#### Manually calculating Correlation based on Covariance:"
   ]
  },
  {
   "cell_type": "code",
   "execution_count": 5,
   "metadata": {},
   "outputs": [
    {
     "data": {
      "text/html": [
       "0.855447221739163"
      ],
      "text/latex": [
       "0.855447221739163"
      ],
      "text/markdown": [
       "0.855447221739163"
      ],
      "text/plain": [
       "[1] 0.8554472"
      ]
     },
     "metadata": {},
     "output_type": "display_data"
    }
   ],
   "source": [
    "data.correlation <- cov(x,y)/(sd(x)*sd(y))\n",
    "data.correlation"
   ]
  },
  {
   "cell_type": "markdown",
   "metadata": {},
   "source": [
    "#### Using cor() function"
   ]
  },
  {
   "cell_type": "code",
   "execution_count": 6,
   "metadata": {},
   "outputs": [
    {
     "data": {
      "text/html": [
       "0.855447221739163"
      ],
      "text/latex": [
       "0.855447221739163"
      ],
      "text/markdown": [
       "0.855447221739163"
      ],
      "text/plain": [
       "[1] 0.8554472"
      ]
     },
     "metadata": {},
     "output_type": "display_data"
    }
   ],
   "source": [
    "cor(x,y)"
   ]
  },
  {
   "cell_type": "markdown",
   "metadata": {},
   "source": [
    "#### If x or y increase, Correlation does not"
   ]
  },
  {
   "cell_type": "code",
   "execution_count": 7,
   "metadata": {},
   "outputs": [
    {
     "data": {
      "text/html": [
       "0.855447221739164"
      ],
      "text/latex": [
       "0.855447221739164"
      ],
      "text/markdown": [
       "0.855447221739164"
      ],
      "text/plain": [
       "[1] 0.8554472"
      ]
     },
     "metadata": {},
     "output_type": "display_data"
    }
   ],
   "source": [
    "x <- x*10\n",
    "cor(x,y)"
   ]
  }
 ],
 "metadata": {
  "kernelspec": {
   "display_name": "R",
   "language": "R",
   "name": "ir"
  },
  "language_info": {
   "codemirror_mode": "r",
   "file_extension": ".r",
   "mimetype": "text/x-r-source",
   "name": "R",
   "pygments_lexer": "r",
   "version": "3.4.1"
  }
 },
 "nbformat": 4,
 "nbformat_minor": 2
}
