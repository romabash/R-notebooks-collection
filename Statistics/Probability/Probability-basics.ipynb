{
 "cells": [
  {
   "cell_type": "markdown",
   "metadata": {},
   "source": [
    "# Probability and Sample Space\n",
    "- Probability of occurence = X/T\n",
    "- X: number of ways an event can occur\n",
    "- T: Total number of possible outcomes (Sample Space)\n",
    "- x-axis: Sample Space \n",
    "- y-axis: Frequency"
   ]
  },
  {
   "cell_type": "markdown",
   "metadata": {},
   "source": [
    "## Complement of Event:\n",
    "- Two events are said to be complementary when one event occurs if and only if the other does not\n",
    "- The probabilities of two complimentary events add up to 1 \n"
   ]
  },
  {
   "cell_type": "markdown",
   "metadata": {},
   "source": [
    "#### Example:\n",
    "- If the probability of an event happening is 2/7\n",
    "- What is the Probability of its Complement: P(A') = 1 - (2/7) = 5/7\n",
    "- What are the odds for that event: (2/7):(5/7) = 2:5\n"
   ]
  },
  {
   "cell_type": "markdown",
   "metadata": {},
   "source": [
    "## Odds:\n",
    "- Odds in favor: p/(1-p)\n",
    "- Odds against: (1-p)/p"
   ]
  },
  {
   "cell_type": "markdown",
   "metadata": {},
   "source": [
    "#### Example: \n",
    "- 5 pink marbles\n",
    "- 2 blue marbles\n",
    "- 8 purple marbles"
   ]
  },
  {
   "cell_type": "markdown",
   "metadata": {},
   "source": [
    "#### Probability and odds of picking a blue marble"
   ]
  },
  {
   "cell_type": "markdown",
   "metadata": {},
   "source": [
    "- Probability = 2/15\n",
    "- Odds in Favor: (2/15) / (1 - (2/15)) = 2/13 -> 2:13\n",
    "- Odds against: (1 - (2/15)) / (2/15) = 13/2 -> 13:2"
   ]
  },
  {
   "cell_type": "code",
   "execution_count": null,
   "metadata": {
    "collapsed": true
   },
   "outputs": [],
   "source": []
  }
 ],
 "metadata": {
  "kernelspec": {
   "display_name": "R",
   "language": "R",
   "name": "ir"
  },
  "language_info": {
   "codemirror_mode": "r",
   "file_extension": ".r",
   "mimetype": "text/x-r-source",
   "name": "R",
   "pygments_lexer": "r",
   "version": "3.4.1"
  }
 },
 "nbformat": 4,
 "nbformat_minor": 2
}
