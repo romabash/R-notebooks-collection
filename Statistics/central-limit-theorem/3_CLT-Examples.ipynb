{
 "cells": [
  {
   "cell_type": "markdown",
   "metadata": {},
   "source": [
    "# Central Limit Theorem"
   ]
  },
  {
   "cell_type": "markdown",
   "metadata": {},
   "source": [
    "## Example 1: \n",
    "- Number of days 6 employees were absent in a year: 1,3,6,7,9,10"
   ]
  },
  {
   "cell_type": "markdown",
   "metadata": {},
   "source": [
    "### a) Select all possible samples of n=2 and construct a sampling distribution of the mean"
   ]
  },
  {
   "cell_type": "code",
   "execution_count": 1,
   "metadata": {
    "collapsed": true
   },
   "outputs": [],
   "source": [
    "#using gtools for permutation\n",
    "library(gtools)"
   ]
  },
  {
   "cell_type": "code",
   "execution_count": 2,
   "metadata": {
    "collapsed": true
   },
   "outputs": [],
   "source": [
    "x <- c(1,3,6,7,9,10)"
   ]
  },
  {
   "cell_type": "code",
   "execution_count": 3,
   "metadata": {},
   "outputs": [
    {
     "data": {
      "text/html": [
       "6"
      ],
      "text/latex": [
       "6"
      ],
      "text/markdown": [
       "6"
      ],
      "text/plain": [
       "[1] 6"
      ]
     },
     "metadata": {},
     "output_type": "display_data"
    }
   ],
   "source": [
    "#Mean of population\n",
    "mean(x)"
   ]
  },
  {
   "cell_type": "markdown",
   "metadata": {},
   "source": [
    "#### Find all combinations is sample size n=2"
   ]
  },
  {
   "cell_type": "code",
   "execution_count": 4,
   "metadata": {},
   "outputs": [
    {
     "data": {
      "text/html": [
       "<table>\n",
       "<tbody>\n",
       "\t<tr><td>1 </td><td> 3</td></tr>\n",
       "\t<tr><td>1 </td><td> 6</td></tr>\n",
       "\t<tr><td>1 </td><td> 7</td></tr>\n",
       "\t<tr><td>1 </td><td> 9</td></tr>\n",
       "\t<tr><td>1 </td><td>10</td></tr>\n",
       "\t<tr><td>3 </td><td> 6</td></tr>\n",
       "\t<tr><td>3 </td><td> 7</td></tr>\n",
       "\t<tr><td>3 </td><td> 9</td></tr>\n",
       "\t<tr><td>3 </td><td>10</td></tr>\n",
       "\t<tr><td>6 </td><td> 7</td></tr>\n",
       "\t<tr><td>6 </td><td> 9</td></tr>\n",
       "\t<tr><td>6 </td><td>10</td></tr>\n",
       "\t<tr><td>7 </td><td> 9</td></tr>\n",
       "\t<tr><td>7 </td><td>10</td></tr>\n",
       "\t<tr><td>9 </td><td>10</td></tr>\n",
       "</tbody>\n",
       "</table>\n"
      ],
      "text/latex": [
       "\\begin{tabular}{ll}\n",
       "\t 1  &  3\\\\\n",
       "\t 1  &  6\\\\\n",
       "\t 1  &  7\\\\\n",
       "\t 1  &  9\\\\\n",
       "\t 1  & 10\\\\\n",
       "\t 3  &  6\\\\\n",
       "\t 3  &  7\\\\\n",
       "\t 3  &  9\\\\\n",
       "\t 3  & 10\\\\\n",
       "\t 6  &  7\\\\\n",
       "\t 6  &  9\\\\\n",
       "\t 6  & 10\\\\\n",
       "\t 7  &  9\\\\\n",
       "\t 7  & 10\\\\\n",
       "\t 9  & 10\\\\\n",
       "\\end{tabular}\n"
      ],
      "text/markdown": [
       "\n",
       "| 1  |  3 | \n",
       "| 1  |  6 | \n",
       "| 1  |  7 | \n",
       "| 1  |  9 | \n",
       "| 1  | 10 | \n",
       "| 3  |  6 | \n",
       "| 3  |  7 | \n",
       "| 3  |  9 | \n",
       "| 3  | 10 | \n",
       "| 6  |  7 | \n",
       "| 6  |  9 | \n",
       "| 6  | 10 | \n",
       "| 7  |  9 | \n",
       "| 7  | 10 | \n",
       "| 9  | 10 | \n",
       "\n",
       "\n"
      ],
      "text/plain": [
       "      [,1] [,2]\n",
       " [1,] 1     3  \n",
       " [2,] 1     6  \n",
       " [3,] 1     7  \n",
       " [4,] 1     9  \n",
       " [5,] 1    10  \n",
       " [6,] 3     6  \n",
       " [7,] 3     7  \n",
       " [8,] 3     9  \n",
       " [9,] 3    10  \n",
       "[10,] 6     7  \n",
       "[11,] 6     9  \n",
       "[12,] 6    10  \n",
       "[13,] 7     9  \n",
       "[14,] 7    10  \n",
       "[15,] 9    10  "
      ]
     },
     "metadata": {},
     "output_type": "display_data"
    }
   ],
   "source": [
    "#Using combinations() instead of permutations()\n",
    "#combinations() does not include replacement\n",
    "comb <- combinations(n=length(x), r=2, v=x)\n",
    "comb"
   ]
  },
  {
   "cell_type": "code",
   "execution_count": 5,
   "metadata": {},
   "outputs": [
    {
     "data": {
      "text/html": [
       "'matrix'"
      ],
      "text/latex": [
       "'matrix'"
      ],
      "text/markdown": [
       "'matrix'"
      ],
      "text/plain": [
       "[1] \"matrix\""
      ]
     },
     "metadata": {},
     "output_type": "display_data"
    }
   ],
   "source": [
    "class(comb)"
   ]
  },
  {
   "cell_type": "markdown",
   "metadata": {},
   "source": [
    "#### Find Mean across each combination (row wise)"
   ]
  },
  {
   "cell_type": "code",
   "execution_count": 6,
   "metadata": {},
   "outputs": [
    {
     "data": {
      "text/html": [
       "<ol class=list-inline>\n",
       "\t<li>2</li>\n",
       "\t<li>3.5</li>\n",
       "\t<li>4</li>\n",
       "\t<li>5</li>\n",
       "\t<li>5.5</li>\n",
       "\t<li>4.5</li>\n",
       "\t<li>5</li>\n",
       "\t<li>6</li>\n",
       "\t<li>6.5</li>\n",
       "\t<li>6.5</li>\n",
       "\t<li>7.5</li>\n",
       "\t<li>8</li>\n",
       "\t<li>8</li>\n",
       "\t<li>8.5</li>\n",
       "\t<li>9.5</li>\n",
       "</ol>\n"
      ],
      "text/latex": [
       "\\begin{enumerate*}\n",
       "\\item 2\n",
       "\\item 3.5\n",
       "\\item 4\n",
       "\\item 5\n",
       "\\item 5.5\n",
       "\\item 4.5\n",
       "\\item 5\n",
       "\\item 6\n",
       "\\item 6.5\n",
       "\\item 6.5\n",
       "\\item 7.5\n",
       "\\item 8\n",
       "\\item 8\n",
       "\\item 8.5\n",
       "\\item 9.5\n",
       "\\end{enumerate*}\n"
      ],
      "text/markdown": [
       "1. 2\n",
       "2. 3.5\n",
       "3. 4\n",
       "4. 5\n",
       "5. 5.5\n",
       "6. 4.5\n",
       "7. 5\n",
       "8. 6\n",
       "9. 6.5\n",
       "10. 6.5\n",
       "11. 7.5\n",
       "12. 8\n",
       "13. 8\n",
       "14. 8.5\n",
       "15. 9.5\n",
       "\n",
       "\n"
      ],
      "text/plain": [
       " [1] 2.0 3.5 4.0 5.0 5.5 4.5 5.0 6.0 6.5 6.5 7.5 8.0 8.0 8.5 9.5"
      ]
     },
     "metadata": {},
     "output_type": "display_data"
    }
   ],
   "source": [
    "comb.means <- rowMeans(comb)\n",
    "comb.means"
   ]
  },
  {
   "cell_type": "markdown",
   "metadata": {},
   "source": [
    "#### Find Mean of Means"
   ]
  },
  {
   "cell_type": "code",
   "execution_count": 7,
   "metadata": {},
   "outputs": [
    {
     "data": {
      "text/html": [
       "6"
      ],
      "text/latex": [
       "6"
      ],
      "text/markdown": [
       "6"
      ],
      "text/plain": [
       "[1] 6"
      ]
     },
     "metadata": {},
     "output_type": "display_data"
    }
   ],
   "source": [
    "mean(comb.means)"
   ]
  },
  {
   "cell_type": "markdown",
   "metadata": {},
   "source": [
    "- Same Mean as the Mean of the whole population\n",
    "- The sample mean is unbiased because the mean of all the possible sample means (of a given sample size, n) is equal to the population mean"
   ]
  },
  {
   "cell_type": "markdown",
   "metadata": {},
   "source": [
    "#### Create a function that returns Sample Distribution "
   ]
  },
  {
   "cell_type": "code",
   "execution_count": 8,
   "metadata": {
    "collapsed": true
   },
   "outputs": [],
   "source": [
    "combinationMean <- function(x, size){\n",
    "    len <- length(x)\n",
    "    comb <- combinations(n=len, r=size, v=x)\n",
    "    rowMeans(comb)\n",
    "}"
   ]
  },
  {
   "cell_type": "code",
   "execution_count": 9,
   "metadata": {},
   "outputs": [
    {
     "data": {
      "text/html": [
       "<ol class=list-inline>\n",
       "\t<li>2</li>\n",
       "\t<li>3.5</li>\n",
       "\t<li>4</li>\n",
       "\t<li>5</li>\n",
       "\t<li>5.5</li>\n",
       "\t<li>4.5</li>\n",
       "\t<li>5</li>\n",
       "\t<li>6</li>\n",
       "\t<li>6.5</li>\n",
       "\t<li>6.5</li>\n",
       "\t<li>7.5</li>\n",
       "\t<li>8</li>\n",
       "\t<li>8</li>\n",
       "\t<li>8.5</li>\n",
       "\t<li>9.5</li>\n",
       "</ol>\n"
      ],
      "text/latex": [
       "\\begin{enumerate*}\n",
       "\\item 2\n",
       "\\item 3.5\n",
       "\\item 4\n",
       "\\item 5\n",
       "\\item 5.5\n",
       "\\item 4.5\n",
       "\\item 5\n",
       "\\item 6\n",
       "\\item 6.5\n",
       "\\item 6.5\n",
       "\\item 7.5\n",
       "\\item 8\n",
       "\\item 8\n",
       "\\item 8.5\n",
       "\\item 9.5\n",
       "\\end{enumerate*}\n"
      ],
      "text/markdown": [
       "1. 2\n",
       "2. 3.5\n",
       "3. 4\n",
       "4. 5\n",
       "5. 5.5\n",
       "6. 4.5\n",
       "7. 5\n",
       "8. 6\n",
       "9. 6.5\n",
       "10. 6.5\n",
       "11. 7.5\n",
       "12. 8\n",
       "13. 8\n",
       "14. 8.5\n",
       "15. 9.5\n",
       "\n",
       "\n"
      ],
      "text/plain": [
       " [1] 2.0 3.5 4.0 5.0 5.5 4.5 5.0 6.0 6.5 6.5 7.5 8.0 8.0 8.5 9.5"
      ]
     },
     "metadata": {},
     "output_type": "display_data"
    }
   ],
   "source": [
    "sample_distribution <- combinationMean(x, 2)\n",
    "sample_distribution"
   ]
  },
  {
   "cell_type": "code",
   "execution_count": 10,
   "metadata": {},
   "outputs": [
    {
     "data": {
      "text/html": [
       "6"
      ],
      "text/latex": [
       "6"
      ],
      "text/markdown": [
       "6"
      ],
      "text/plain": [
       "[1] 6"
      ]
     },
     "metadata": {},
     "output_type": "display_data"
    }
   ],
   "source": [
    "mean(sample_distribution)"
   ]
  },
  {
   "cell_type": "code",
   "execution_count": 11,
   "metadata": {},
   "outputs": [
    {
     "data": {
      "image/png": "[encoded data removed]",
      "text/plain": [
       "Plot with title “Histogram of sample_distribution”"
      ]
     },
     "metadata": {},
     "output_type": "display_data"
    }
   ],
   "source": [
    "hist(sample_distribution, breaks=10)"
   ]
  },
  {
   "cell_type": "markdown",
   "metadata": {},
   "source": [
    "### b) Select all possible samples of n=3 and construct a sampling distribution of the mean"
   ]
  },
  {
   "cell_type": "code",
   "execution_count": 12,
   "metadata": {},
   "outputs": [
    {
     "data": {
      "text/html": [
       "<ol class=list-inline>\n",
       "\t<li>3.33333333333333</li>\n",
       "\t<li>3.66666666666667</li>\n",
       "\t<li>4.33333333333333</li>\n",
       "\t<li>4.66666666666667</li>\n",
       "\t<li>4.66666666666667</li>\n",
       "\t<li>5.33333333333333</li>\n",
       "\t<li>5.66666666666667</li>\n",
       "\t<li>5.66666666666667</li>\n",
       "\t<li>6</li>\n",
       "\t<li>6.66666666666667</li>\n",
       "\t<li>5.33333333333333</li>\n",
       "\t<li>6</li>\n",
       "\t<li>6.33333333333333</li>\n",
       "\t<li>6.33333333333333</li>\n",
       "\t<li>6.66666666666667</li>\n",
       "\t<li>7.33333333333333</li>\n",
       "\t<li>7.33333333333333</li>\n",
       "\t<li>7.66666666666667</li>\n",
       "\t<li>8.33333333333333</li>\n",
       "\t<li>8.66666666666667</li>\n",
       "</ol>\n"
      ],
      "text/latex": [
       "\\begin{enumerate*}\n",
       "\\item 3.33333333333333\n",
       "\\item 3.66666666666667\n",
       "\\item 4.33333333333333\n",
       "\\item 4.66666666666667\n",
       "\\item 4.66666666666667\n",
       "\\item 5.33333333333333\n",
       "\\item 5.66666666666667\n",
       "\\item 5.66666666666667\n",
       "\\item 6\n",
       "\\item 6.66666666666667\n",
       "\\item 5.33333333333333\n",
       "\\item 6\n",
       "\\item 6.33333333333333\n",
       "\\item 6.33333333333333\n",
       "\\item 6.66666666666667\n",
       "\\item 7.33333333333333\n",
       "\\item 7.33333333333333\n",
       "\\item 7.66666666666667\n",
       "\\item 8.33333333333333\n",
       "\\item 8.66666666666667\n",
       "\\end{enumerate*}\n"
      ],
      "text/markdown": [
       "1. 3.33333333333333\n",
       "2. 3.66666666666667\n",
       "3. 4.33333333333333\n",
       "4. 4.66666666666667\n",
       "5. 4.66666666666667\n",
       "6. 5.33333333333333\n",
       "7. 5.66666666666667\n",
       "8. 5.66666666666667\n",
       "9. 6\n",
       "10. 6.66666666666667\n",
       "11. 5.33333333333333\n",
       "12. 6\n",
       "13. 6.33333333333333\n",
       "14. 6.33333333333333\n",
       "15. 6.66666666666667\n",
       "16. 7.33333333333333\n",
       "17. 7.33333333333333\n",
       "18. 7.66666666666667\n",
       "19. 8.33333333333333\n",
       "20. 8.66666666666667\n",
       "\n",
       "\n"
      ],
      "text/plain": [
       " [1] 3.333333 3.666667 4.333333 4.666667 4.666667 5.333333 5.666667 5.666667\n",
       " [9] 6.000000 6.666667 5.333333 6.000000 6.333333 6.333333 6.666667 7.333333\n",
       "[17] 7.333333 7.666667 8.333333 8.666667"
      ]
     },
     "metadata": {},
     "output_type": "display_data"
    }
   ],
   "source": [
    "sample_distribution <- combinationMean(x, 3)\n",
    "sample_distribution"
   ]
  },
  {
   "cell_type": "code",
   "execution_count": 13,
   "metadata": {},
   "outputs": [
    {
     "data": {
      "text/html": [
       "6"
      ],
      "text/latex": [
       "6"
      ],
      "text/markdown": [
       "6"
      ],
      "text/plain": [
       "[1] 6"
      ]
     },
     "metadata": {},
     "output_type": "display_data"
    }
   ],
   "source": [
    "mean(sample_distribution)"
   ]
  },
  {
   "cell_type": "code",
   "execution_count": 14,
   "metadata": {},
   "outputs": [
    {
     "data": {
      "image/png": "[encoded data removed]",
      "text/plain": [
       "Plot with title “Histogram of sample_distribution”"
      ]
     },
     "metadata": {},
     "output_type": "display_data"
    }
   ],
   "source": [
    "hist(sample_distribution, breaks=10)"
   ]
  },
  {
   "cell_type": "markdown",
   "metadata": {},
   "source": [
    "- Sampling Distribution of Sample Size 3 has less variability than Sample Size 2"
   ]
  },
  {
   "cell_type": "markdown",
   "metadata": {},
   "source": [
    "<hr>"
   ]
  },
  {
   "cell_type": "markdown",
   "metadata": {},
   "source": [
    "## Example 2: \n",
    "- Median home price 245,200.   Mean home price 291,200.  SD 90,000"
   ]
  },
  {
   "cell_type": "markdown",
   "metadata": {},
   "source": [
    "### a) Describe Sampling Distribution xbar with Sample Size n=4"
   ]
  },
  {
   "cell_type": "code",
   "execution_count": 15,
   "metadata": {
    "collapsed": true
   },
   "outputs": [],
   "source": [
    "pop.mean <- 291200\n",
    "pop.sd <- 90000\n",
    "\n",
    "sample.size <- 4\n",
    "sample.mean <- pop.mean\n",
    "sample.sd <- pop.sd/sqrt(sample.size)"
   ]
  },
  {
   "cell_type": "code",
   "execution_count": 16,
   "metadata": {},
   "outputs": [
    {
     "data": {
      "text/html": [
       "291200"
      ],
      "text/latex": [
       "291200"
      ],
      "text/markdown": [
       "291200"
      ],
      "text/plain": [
       "[1] 291200"
      ]
     },
     "metadata": {},
     "output_type": "display_data"
    },
    {
     "data": {
      "text/html": [
       "45000"
      ],
      "text/latex": [
       "45000"
      ],
      "text/markdown": [
       "45000"
      ],
      "text/plain": [
       "[1] 45000"
      ]
     },
     "metadata": {},
     "output_type": "display_data"
    }
   ],
   "source": [
    "sample.mean\n",
    "sample.sd"
   ]
  },
  {
   "cell_type": "code",
   "execution_count": 17,
   "metadata": {},
   "outputs": [
    {
     "data": {
      "image/png": "[encoded data removed]",
      "text/plain": [
       "Plot with title “Histogram of rnorm(n = sample.size, mean = sample.mean, sd = sample.sd)”"
      ]
     },
     "metadata": {},
     "output_type": "display_data"
    }
   ],
   "source": [
    "hist(rnorm(n=sample.size, mean=sample.mean, sd=sample.sd))"
   ]
  },
  {
   "cell_type": "markdown",
   "metadata": {},
   "source": [
    "### a) Describe Sampling Distribution xbar with Sample Size n=100"
   ]
  },
  {
   "cell_type": "code",
   "execution_count": 18,
   "metadata": {
    "collapsed": true
   },
   "outputs": [],
   "source": [
    "pop.mean <- 291200\n",
    "pop.sd <- 90000\n",
    "\n",
    "sample.size <- 100\n",
    "sample.mean <- pop.mean\n",
    "sample.sd <- pop.sd/sqrt(sample.size)"
   ]
  },
  {
   "cell_type": "code",
   "execution_count": 19,
   "metadata": {},
   "outputs": [
    {
     "data": {
      "text/html": [
       "291200"
      ],
      "text/latex": [
       "291200"
      ],
      "text/markdown": [
       "291200"
      ],
      "text/plain": [
       "[1] 291200"
      ]
     },
     "metadata": {},
     "output_type": "display_data"
    },
    {
     "data": {
      "text/html": [
       "9000"
      ],
      "text/latex": [
       "9000"
      ],
      "text/markdown": [
       "9000"
      ],
      "text/plain": [
       "[1] 9000"
      ]
     },
     "metadata": {},
     "output_type": "display_data"
    }
   ],
   "source": [
    "sample.mean\n",
    "sample.sd"
   ]
  },
  {
   "cell_type": "code",
   "execution_count": 20,
   "metadata": {},
   "outputs": [
    {
     "data": {
      "image/png": "[encoded data removed]",
      "text/plain": [
       "Plot with title “Histogram of rnorm(n = sample.size, mean = sample.mean, sd = sample.sd)”"
      ]
     },
     "metadata": {},
     "output_type": "display_data"
    }
   ],
   "source": [
    "hist(rnorm(n=sample.size, mean=sample.mean, sd=sample.sd))"
   ]
  },
  {
   "cell_type": "markdown",
   "metadata": {},
   "source": [
    "### c) With Sample Size n=100, what is the probability that sample mean will be less than 315,000"
   ]
  },
  {
   "cell_type": "code",
   "execution_count": 21,
   "metadata": {},
   "outputs": [
    {
     "data": {
      "text/html": [
       "0.99590874311888"
      ],
      "text/latex": [
       "0.99590874311888"
      ],
      "text/markdown": [
       "0.99590874311888"
      ],
      "text/plain": [
       "[1] 0.9959087"
      ]
     },
     "metadata": {},
     "output_type": "display_data"
    }
   ],
   "source": [
    "value <- 315000\n",
    "z.value <- (value - sample.mean)/sample.sd #2.64444444444444\n",
    "pnorm(z.value)"
   ]
  },
  {
   "cell_type": "markdown",
   "metadata": {},
   "source": [
    "- 99.5% probability"
   ]
  },
  {
   "cell_type": "markdown",
   "metadata": {},
   "source": [
    "### d) With Sample Size n=100, what is the probability that sample mean will be between 295,00 and 310,000"
   ]
  },
  {
   "cell_type": "code",
   "execution_count": 22,
   "metadata": {},
   "outputs": [
    {
     "data": {
      "text/html": [
       "0.663568588639105"
      ],
      "text/latex": [
       "0.663568588639105"
      ],
      "text/markdown": [
       "0.663568588639105"
      ],
      "text/plain": [
       "[1] 0.6635686"
      ]
     },
     "metadata": {},
     "output_type": "display_data"
    },
    {
     "data": {
      "text/html": [
       "0.981641136865556"
      ],
      "text/latex": [
       "0.981641136865556"
      ],
      "text/markdown": [
       "0.981641136865556"
      ],
      "text/plain": [
       "[1] 0.9816411"
      ]
     },
     "metadata": {},
     "output_type": "display_data"
    },
    {
     "data": {
      "text/html": [
       "0.318072548226451"
      ],
      "text/latex": [
       "0.318072548226451"
      ],
      "text/markdown": [
       "0.318072548226451"
      ],
      "text/plain": [
       "[1] 0.3180725"
      ]
     },
     "metadata": {},
     "output_type": "display_data"
    }
   ],
   "source": [
    "value1 <- 295000\n",
    "value2 <- 310000\n",
    "\n",
    "z.value1 <- (value1 - sample.mean)/sample.sd #0.4222222\n",
    "pnorm(z.value1)\n",
    "\n",
    "z.value2 <- (value2 - sample.mean)/sample.sd #2.088889\n",
    "pnorm(z.value2)\n",
    "\n",
    "answer <- pnorm(z.value2) - pnorm(z.value1)\n",
    "answer"
   ]
  },
  {
   "cell_type": "markdown",
   "metadata": {},
   "source": [
    "- 31.8% probability"
   ]
  },
  {
   "cell_type": "markdown",
   "metadata": {},
   "source": [
    "<hr>"
   ]
  },
  {
   "cell_type": "markdown",
   "metadata": {
    "collapsed": true
   },
   "source": [
    "## Example 3: \n",
    "- Students spend 27 houts a week on strudy with SD of 4"
   ]
  },
  {
   "cell_type": "markdown",
   "metadata": {},
   "source": [
    "### a) What is the probability that mean time spent on study is at least 26 hours a week with Sample Size of 16"
   ]
  },
  {
   "cell_type": "code",
   "execution_count": 23,
   "metadata": {
    "collapsed": true
   },
   "outputs": [],
   "source": [
    "pop.mean <- 27\n",
    "pop.sd <- 4\n",
    "\n",
    "sample.size <- 16\n",
    "sample.mean <- 27\n",
    "sample.sd <- pop.sd/sqrt(sample.size) #1"
   ]
  },
  {
   "cell_type": "code",
   "execution_count": 24,
   "metadata": {},
   "outputs": [
    {
     "data": {
      "text/html": [
       "-1"
      ],
      "text/latex": [
       "-1"
      ],
      "text/markdown": [
       "-1"
      ],
      "text/plain": [
       "[1] -1"
      ]
     },
     "metadata": {},
     "output_type": "display_data"
    }
   ],
   "source": [
    "value <- 26\n",
    "z.value <- (value - sample.mean)/sample.sd\n",
    "z.value"
   ]
  },
  {
   "cell_type": "markdown",
   "metadata": {},
   "source": [
    "#### To find probability of at least 26, use pnorm() with lower.tail=FALSE"
   ]
  },
  {
   "cell_type": "code",
   "execution_count": 25,
   "metadata": {},
   "outputs": [
    {
     "data": {
      "text/html": [
       "0.841344746068543"
      ],
      "text/latex": [
       "0.841344746068543"
      ],
      "text/markdown": [
       "0.841344746068543"
      ],
      "text/plain": [
       "[1] 0.8413447"
      ]
     },
     "metadata": {},
     "output_type": "display_data"
    }
   ],
   "source": [
    "pnorm(z.value, lower.tail=FALSE)"
   ]
  },
  {
   "cell_type": "markdown",
   "metadata": {},
   "source": [
    "- 84.1% probability that the mean time spent on study is at least 26 hours a week"
   ]
  },
  {
   "cell_type": "markdown",
   "metadata": {},
   "source": [
    "### b) There is  85% chance that the sample mean is less than how many hours a week? "
   ]
  },
  {
   "cell_type": "code",
   "execution_count": 26,
   "metadata": {},
   "outputs": [
    {
     "data": {
      "text/html": [
       "1.03643338949379"
      ],
      "text/latex": [
       "1.03643338949379"
      ],
      "text/markdown": [
       "1.03643338949379"
      ],
      "text/plain": [
       "[1] 1.036433"
      ]
     },
     "metadata": {},
     "output_type": "display_data"
    }
   ],
   "source": [
    "p.value <- 0.85\n",
    "z.value <- qnorm(p.value)\n",
    "z.value"
   ]
  },
  {
   "cell_type": "code",
   "execution_count": 27,
   "metadata": {},
   "outputs": [
    {
     "data": {
      "text/html": [
       "28.0364333894938"
      ],
      "text/latex": [
       "28.0364333894938"
      ],
      "text/markdown": [
       "28.0364333894938"
      ],
      "text/plain": [
       "[1] 28.03643"
      ]
     },
     "metadata": {},
     "output_type": "display_data"
    }
   ],
   "source": [
    "#derived from z-score equation: z = value - mean / sd\n",
    "answer <- z.value * sample.sd + sample.mean\n",
    "answer"
   ]
  },
  {
   "cell_type": "markdown",
   "metadata": {},
   "source": [
    "- 85% chance that the Mean hours a week spend on study is less than 28 hours"
   ]
  },
  {
   "cell_type": "markdown",
   "metadata": {},
   "source": [
    "<hr>"
   ]
  },
  {
   "cell_type": "markdown",
   "metadata": {},
   "source": [
    "## Example 4: \n",
    "- Election with 2 candidates.  Candidate is forecasted a winner when they recieve 55% of votes in a sample pole"
   ]
  },
  {
   "cell_type": "markdown",
   "metadata": {},
   "source": [
    "### a) With Sample Size of 100, what is the probability of a candidate being a winner if they recieve population vote of 50.1%"
   ]
  },
  {
   "cell_type": "code",
   "execution_count": 28,
   "metadata": {
    "collapsed": true
   },
   "outputs": [],
   "source": [
    "pop.prop <- 0.501\n",
    "\n",
    "sample.size <- 100\n",
    "sample.prop <- pop.prop\n",
    "sample.sd <- sqrt(pop.prop*(1 -pop.prop)/sample.size) #0.049"
   ]
  },
  {
   "cell_type": "code",
   "execution_count": 29,
   "metadata": {
    "collapsed": true
   },
   "outputs": [],
   "source": [
    "value <- 0.55\n",
    "z.value <- (value - sample.prop)/sample.sd #0.98"
   ]
  },
  {
   "cell_type": "markdown",
   "metadata": {},
   "source": [
    "#### To get at least 55% votes, use pnorm() with lower.tail=FALSE"
   ]
  },
  {
   "cell_type": "code",
   "execution_count": 30,
   "metadata": {},
   "outputs": [
    {
     "data": {
      "text/html": [
       "0.163542575580104"
      ],
      "text/latex": [
       "0.163542575580104"
      ],
      "text/markdown": [
       "0.163542575580104"
      ],
      "text/plain": [
       "[1] 0.1635426"
      ]
     },
     "metadata": {},
     "output_type": "display_data"
    }
   ],
   "source": [
    "pnorm(z.value, lower.tail=FALSE)"
   ]
  },
  {
   "cell_type": "markdown",
   "metadata": {},
   "source": [
    "- 16.4% chance that a candidate will be a winner if they receive 50.1% of population votes"
   ]
  },
  {
   "cell_type": "markdown",
   "metadata": {},
   "source": [
    "### b) With Sample Size of 100, what is the probability of a candidate being a winner if they recieve population vote of 60%"
   ]
  },
  {
   "cell_type": "code",
   "execution_count": 31,
   "metadata": {},
   "outputs": [
    {
     "data": {
      "text/html": [
       "0.846282917036302"
      ],
      "text/latex": [
       "0.846282917036302"
      ],
      "text/markdown": [
       "0.846282917036302"
      ],
      "text/plain": [
       "[1] 0.8462829"
      ]
     },
     "metadata": {},
     "output_type": "display_data"
    }
   ],
   "source": [
    "pop.prop <- 0.60\n",
    "\n",
    "sample.size <- 100\n",
    "sample.prop <- pop.prop\n",
    "sample.sd <- sqrt(pop.prop*(1 -pop.prop)/sample.size) \n",
    "\n",
    "value <- 0.55\n",
    "z.value <- (value - sample.prop)/sample.sd\n",
    "\n",
    "pnorm(z.value, lower.tail=FALSE)"
   ]
  },
  {
   "cell_type": "markdown",
   "metadata": {},
   "source": [
    "- 84.6% chance that a candidate will be a winner if they receive 50.1% of population votes"
   ]
  },
  {
   "cell_type": "markdown",
   "metadata": {},
   "source": [
    "### c) Answers to parts (a) and (b) with Sample Size of 400"
   ]
  },
  {
   "cell_type": "code",
   "execution_count": 32,
   "metadata": {},
   "outputs": [
    {
     "data": {
      "text/html": [
       "0.0249976660599114"
      ],
      "text/latex": [
       "0.0249976660599114"
      ],
      "text/markdown": [
       "0.0249976660599114"
      ],
      "text/plain": [
       "[1] 0.02499767"
      ]
     },
     "metadata": {},
     "output_type": "display_data"
    }
   ],
   "source": [
    "pop.prop <- 0.501\n",
    "\n",
    "sample.size <- 400\n",
    "sample.prop <- pop.prop\n",
    "sample.sd <- sqrt(pop.prop*(1 -pop.prop)/sample.size) \n",
    "\n",
    "value <- 0.55\n",
    "z.value <- (value - sample.prop)/sample.sd\n",
    "\n",
    "pnorm(z.value, lower.tail=FALSE)"
   ]
  },
  {
   "cell_type": "markdown",
   "metadata": {},
   "source": [
    "-  Probability goes down to 2.5% with 50.1% of population votes"
   ]
  },
  {
   "cell_type": "code",
   "execution_count": 33,
   "metadata": {},
   "outputs": [
    {
     "data": {
      "text/html": [
       "0.979386583331418"
      ],
      "text/latex": [
       "0.979386583331418"
      ],
      "text/markdown": [
       "0.979386583331418"
      ],
      "text/plain": [
       "[1] 0.9793866"
      ]
     },
     "metadata": {},
     "output_type": "display_data"
    }
   ],
   "source": [
    "pop.prop <- 0.60\n",
    "\n",
    "sample.size <- 400\n",
    "sample.prop <- pop.prop\n",
    "sample.sd <- sqrt(pop.prop*(1 -pop.prop)/sample.size) \n",
    "\n",
    "value <- 0.55\n",
    "z.value <- (value - sample.prop)/sample.sd\n",
    "\n",
    "pnorm(z.value, lower.tail=FALSE)"
   ]
  },
  {
   "cell_type": "markdown",
   "metadata": {},
   "source": [
    "-  Probability goes up to 97.94% with 60% of population votes"
   ]
  },
  {
   "cell_type": "markdown",
   "metadata": {},
   "source": [
    "<hr>"
   ]
  },
  {
   "cell_type": "markdown",
   "metadata": {},
   "source": [
    "## Example 5:\n",
    "- 39% of population get news online\n"
   ]
  },
  {
   "cell_type": "markdown",
   "metadata": {},
   "source": [
    "### a) With Sample Size of 100, what is the probability that 30% of Sample will get the news online?"
   ]
  },
  {
   "cell_type": "code",
   "execution_count": 34,
   "metadata": {
    "collapsed": true
   },
   "outputs": [],
   "source": [
    "pop.prop <- 0.39\n",
    "sample.size <- 100\n",
    "\n",
    "sample.prop <- pop.prop\n",
    "sample.sd <- sqrt(pop.prop*(1-pop.prop)/sample.size)"
   ]
  },
  {
   "cell_type": "code",
   "execution_count": 35,
   "metadata": {},
   "outputs": [
    {
     "data": {
      "text/html": [
       "0.0325036560960433"
      ],
      "text/latex": [
       "0.0325036560960433"
      ],
      "text/markdown": [
       "0.0325036560960433"
      ],
      "text/plain": [
       "[1] 0.03250366"
      ]
     },
     "metadata": {},
     "output_type": "display_data"
    }
   ],
   "source": [
    "value <- 0.30\n",
    "z.value <- (value - sample.prop) / sample.sd\n",
    "pnorm(z.value, lower.tail=TRUE)"
   ]
  },
  {
   "cell_type": "markdown",
   "metadata": {},
   "source": [
    "- 3.25% probability that 30% of Sample will get the news online"
   ]
  },
  {
   "cell_type": "markdown",
   "metadata": {},
   "source": [
    "### b) Compare with Sample Size of 400"
   ]
  },
  {
   "cell_type": "code",
   "execution_count": 36,
   "metadata": {},
   "outputs": [
    {
     "data": {
      "text/html": [
       "0.000111943957727924"
      ],
      "text/latex": [
       "0.000111943957727924"
      ],
      "text/markdown": [
       "0.000111943957727924"
      ],
      "text/plain": [
       "[1] 0.000111944"
      ]
     },
     "metadata": {},
     "output_type": "display_data"
    }
   ],
   "source": [
    "pop.prop <- 0.39\n",
    "sample.size <- 400\n",
    "\n",
    "sample.prop <- pop.prop\n",
    "sample.sd <- sqrt(pop.prop*(1-pop.prop)/sample.size)\n",
    "\n",
    "value <- 0.30\n",
    "z.value <- (value - sample.prop) / sample.sd\n",
    "pnorm(z.value, lower.tail=TRUE)"
   ]
  },
  {
   "cell_type": "markdown",
   "metadata": {},
   "source": [
    "- 0.01% probability that 30% of Sample will get the news online with Sample Size of 400"
   ]
  }
 ],
 "metadata": {
  "kernelspec": {
   "display_name": "R",
   "language": "R",
   "name": "ir"
  },
  "language_info": {
   "codemirror_mode": "r",
   "file_extension": ".r",
   "mimetype": "text/x-r-source",
   "name": "R",
   "pygments_lexer": "r",
   "version": "3.4.1"
  }
 },
 "nbformat": 4,
 "nbformat_minor": 2
}
