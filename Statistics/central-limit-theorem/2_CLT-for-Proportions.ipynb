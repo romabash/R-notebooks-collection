{
 "cells": [
  {
   "cell_type": "markdown",
   "metadata": {},
   "source": [
    "# Central Limit Theorem for Sample Proportions\n",
    "- The proportion of a random sample has a sample distribution whose shape can be approximated by a normal model.\n",
    "- The larger the sample, the better the approximation will be\n",
    "\n",
    "- Poplation Propotion = p\n",
    "- Sample Size = n\n",
    "- Sample Distribution Mean for Propotion = pHat\n",
    "- Sample Distribution Standard Deviation = sqrt(p(1-p)/n) "
   ]
  },
  {
   "cell_type": "markdown",
   "metadata": {},
   "source": [
    "## Assumptions and Conditions:\n",
    "- Independence: The sample values must be independent of each other\n",
    "- Random: The data values must be sampled randomly\n",
    "- 10% Condition: Sample size should be less than 10% of the population\n",
    " -Large Sample Size: Sample size should be large enough so that we expect at least 10 successes and 10 failures"
   ]
  },
  {
   "cell_type": "markdown",
   "metadata": {},
   "source": [
    "## Central Limit Theorem when population is Not Normally Distributed"
   ]
  },
  {
   "cell_type": "markdown",
   "metadata": {},
   "source": [
    "#### Binomial Distribution of proportions\n",
    "- Sample size = 10\n",
    "- Propotion = 0.82\n",
    "- Size = 1 (Yes or N0)"
   ]
  },
  {
   "cell_type": "code",
   "execution_count": 1,
   "metadata": {},
   "outputs": [
    {
     "data": {
      "text/html": [
       "<ol class=list-inline>\n",
       "\t<li>1</li>\n",
       "\t<li>1</li>\n",
       "\t<li>1</li>\n",
       "\t<li>0</li>\n",
       "\t<li>1</li>\n",
       "\t<li>0</li>\n",
       "\t<li>0</li>\n",
       "\t<li>1</li>\n",
       "\t<li>1</li>\n",
       "\t<li>1</li>\n",
       "</ol>\n"
      ],
      "text/latex": [
       "\\begin{enumerate*}\n",
       "\\item 1\n",
       "\\item 1\n",
       "\\item 1\n",
       "\\item 0\n",
       "\\item 1\n",
       "\\item 0\n",
       "\\item 0\n",
       "\\item 1\n",
       "\\item 1\n",
       "\\item 1\n",
       "\\end{enumerate*}\n"
      ],
      "text/markdown": [
       "1. 1\n",
       "2. 1\n",
       "3. 1\n",
       "4. 0\n",
       "5. 1\n",
       "6. 0\n",
       "7. 0\n",
       "8. 1\n",
       "9. 1\n",
       "10. 1\n",
       "\n",
       "\n"
      ],
      "text/plain": [
       " [1] 1 1 1 0 1 0 0 1 1 1"
      ]
     },
     "metadata": {},
     "output_type": "display_data"
    }
   ],
   "source": [
    "set.seed(1)\n",
    "x <- rbinom(n=10, size=1, prob=0.82)\n",
    "x"
   ]
  },
  {
   "cell_type": "code",
   "execution_count": 2,
   "metadata": {},
   "outputs": [
    {
     "data": {
      "text/html": [
       "0.7"
      ],
      "text/latex": [
       "0.7"
      ],
      "text/markdown": [
       "0.7"
      ],
      "text/plain": [
       "[1] 0.7"
      ]
     },
     "metadata": {},
     "output_type": "display_data"
    }
   ],
   "source": [
    "mean(x)"
   ]
  },
  {
   "cell_type": "markdown",
   "metadata": {},
   "source": [
    "<hr>"
   ]
  },
  {
   "cell_type": "markdown",
   "metadata": {},
   "source": [
    "## Build Sampling Distribution:\n",
    "- Number of samples = 20\n",
    "- Sample size = 10\n",
    "- Propotion = 0.82\n"
   ]
  },
  {
   "cell_type": "code",
   "execution_count": 3,
   "metadata": {
    "collapsed": true
   },
   "outputs": [],
   "source": [
    "n <- 10\n",
    "p <- 0.82"
   ]
  },
  {
   "cell_type": "code",
   "execution_count": 4,
   "metadata": {},
   "outputs": [
    {
     "data": {
      "text/html": [
       "<ol class=list-inline>\n",
       "\t<li>0.9</li>\n",
       "\t<li>0.8</li>\n",
       "\t<li>0.9</li>\n",
       "\t<li>0.9</li>\n",
       "\t<li>0.9</li>\n",
       "\t<li>0.8</li>\n",
       "\t<li>0.6</li>\n",
       "\t<li>1</li>\n",
       "\t<li>0.9</li>\n",
       "\t<li>0.8</li>\n",
       "\t<li>0.9</li>\n",
       "\t<li>0.9</li>\n",
       "\t<li>0.8</li>\n",
       "\t<li>0.9</li>\n",
       "\t<li>1</li>\n",
       "\t<li>0.8</li>\n",
       "\t<li>0.6</li>\n",
       "\t<li>0.7</li>\n",
       "\t<li>0.8</li>\n",
       "\t<li>1</li>\n",
       "</ol>\n"
      ],
      "text/latex": [
       "\\begin{enumerate*}\n",
       "\\item 0.9\n",
       "\\item 0.8\n",
       "\\item 0.9\n",
       "\\item 0.9\n",
       "\\item 0.9\n",
       "\\item 0.8\n",
       "\\item 0.6\n",
       "\\item 1\n",
       "\\item 0.9\n",
       "\\item 0.8\n",
       "\\item 0.9\n",
       "\\item 0.9\n",
       "\\item 0.8\n",
       "\\item 0.9\n",
       "\\item 1\n",
       "\\item 0.8\n",
       "\\item 0.6\n",
       "\\item 0.7\n",
       "\\item 0.8\n",
       "\\item 1\n",
       "\\end{enumerate*}\n"
      ],
      "text/markdown": [
       "1. 0.9\n",
       "2. 0.8\n",
       "3. 0.9\n",
       "4. 0.9\n",
       "5. 0.9\n",
       "6. 0.8\n",
       "7. 0.6\n",
       "8. 1\n",
       "9. 0.9\n",
       "10. 0.8\n",
       "11. 0.9\n",
       "12. 0.9\n",
       "13. 0.8\n",
       "14. 0.9\n",
       "15. 1\n",
       "16. 0.8\n",
       "17. 0.6\n",
       "18. 0.7\n",
       "19. 0.8\n",
       "20. 1\n",
       "\n",
       "\n"
      ],
      "text/plain": [
       " [1] 0.9 0.8 0.9 0.9 0.9 0.8 0.6 1.0 0.9 0.8 0.9 0.9 0.8 0.9 1.0 0.8 0.6 0.7 0.8\n",
       "[20] 1.0"
      ]
     },
     "metadata": {},
     "output_type": "display_data"
    }
   ],
   "source": [
    "pHat <- rep(0, 20)\n",
    "for (i in 1:20){\n",
    "    pHat[i] <- mean(rbinom(n, 1, p))\n",
    "}\n",
    "pHat"
   ]
  },
  {
   "cell_type": "code",
   "execution_count": 5,
   "metadata": {},
   "outputs": [
    {
     "data": {
      "text/html": [
       "0.845"
      ],
      "text/latex": [
       "0.845"
      ],
      "text/markdown": [
       "0.845"
      ],
      "text/plain": [
       "[1] 0.845"
      ]
     },
     "metadata": {},
     "output_type": "display_data"
    }
   ],
   "source": [
    "mean(pHat)"
   ]
  },
  {
   "cell_type": "markdown",
   "metadata": {},
   "source": [
    "- Mean is close to the proportion of population"
   ]
  },
  {
   "cell_type": "code",
   "execution_count": 6,
   "metadata": {},
   "outputs": [
    {
     "data": {
      "text/html": [
       "0.114593101656986"
      ],
      "text/latex": [
       "0.114593101656986"
      ],
      "text/markdown": [
       "0.114593101656986"
      ],
      "text/plain": [
       "[1] 0.1145931"
      ]
     },
     "metadata": {},
     "output_type": "display_data"
    }
   ],
   "source": [
    "sd(pHat)"
   ]
  },
  {
   "cell_type": "code",
   "execution_count": 7,
   "metadata": {},
   "outputs": [
    {
     "data": {
      "text/html": [
       "0.1214907403879"
      ],
      "text/latex": [
       "0.1214907403879"
      ],
      "text/markdown": [
       "0.1214907403879"
      ],
      "text/plain": [
       "[1] 0.1214907"
      ]
     },
     "metadata": {},
     "output_type": "display_data"
    }
   ],
   "source": [
    "pHat.sd <- sqrt(p*(1-p)/n)\n",
    "pHat.sd"
   ]
  },
  {
   "cell_type": "markdown",
   "metadata": {},
   "source": [
    "- Sample Distribution Standard Deviation = sqrt(p(1-p)/n) "
   ]
  },
  {
   "cell_type": "code",
   "execution_count": 8,
   "metadata": {},
   "outputs": [
    {
     "data": {
      "image/png": "[encoded data removed]",
      "text/plain": [
       "Plot with title “Histogram of pHat”"
      ]
     },
     "metadata": {},
     "output_type": "display_data"
    }
   ],
   "source": [
    "hist(pHat, prob=TRUE) "
   ]
  },
  {
   "cell_type": "markdown",
   "metadata": {},
   "source": [
    "### Compare with 10,000 samples"
   ]
  },
  {
   "cell_type": "code",
   "execution_count": 9,
   "metadata": {
    "collapsed": true
   },
   "outputs": [],
   "source": [
    "n <- 10\n",
    "p <- 0.82\n",
    "\n",
    "pHat <- rep(0, 10000)\n",
    "for (i in 1:10000){\n",
    "    pHat[i] <- mean(rbinom(n, 1, p))\n",
    "}"
   ]
  },
  {
   "cell_type": "code",
   "execution_count": 10,
   "metadata": {},
   "outputs": [
    {
     "data": {
      "text/html": [
       "0.81992"
      ],
      "text/latex": [
       "0.81992"
      ],
      "text/markdown": [
       "0.81992"
      ],
      "text/plain": [
       "[1] 0.81992"
      ]
     },
     "metadata": {},
     "output_type": "display_data"
    }
   ],
   "source": [
    "mean(pHat)"
   ]
  },
  {
   "cell_type": "code",
   "execution_count": 11,
   "metadata": {},
   "outputs": [
    {
     "data": {
      "text/html": [
       "0.121221545388213"
      ],
      "text/latex": [
       "0.121221545388213"
      ],
      "text/markdown": [
       "0.121221545388213"
      ],
      "text/plain": [
       "[1] 0.1212215"
      ]
     },
     "metadata": {},
     "output_type": "display_data"
    }
   ],
   "source": [
    "sd(pHat)"
   ]
  },
  {
   "cell_type": "code",
   "execution_count": 12,
   "metadata": {},
   "outputs": [
    {
     "data": {
      "text/html": [
       "0.1214907403879"
      ],
      "text/latex": [
       "0.1214907403879"
      ],
      "text/markdown": [
       "0.1214907403879"
      ],
      "text/plain": [
       "[1] 0.1214907"
      ]
     },
     "metadata": {},
     "output_type": "display_data"
    }
   ],
   "source": [
    "pHat.sd <- sqrt(p*(1-p)/n)\n",
    "pHat.sd"
   ]
  },
  {
   "cell_type": "code",
   "execution_count": 13,
   "metadata": {},
   "outputs": [
    {
     "data": {
      "image/png": "[encoded data removed]",
      "text/plain": [
       "Plot with title “Histogram of pHat”"
      ]
     },
     "metadata": {},
     "output_type": "display_data"
    }
   ],
   "source": [
    "hist(pHat, prob=TRUE)"
   ]
  },
  {
   "cell_type": "markdown",
   "metadata": {},
   "source": [
    "### Compare with 10,000 samples and Sample Size 100"
   ]
  },
  {
   "cell_type": "code",
   "execution_count": 14,
   "metadata": {
    "collapsed": true
   },
   "outputs": [],
   "source": [
    "n <- 100\n",
    "p <- 0.82\n",
    "\n",
    "pHat <- rep(0, 10000)\n",
    "for (i in 1:10000){\n",
    "    pHat[i] <- mean(rbinom(n, 1, p))\n",
    "}"
   ]
  },
  {
   "cell_type": "code",
   "execution_count": 15,
   "metadata": {},
   "outputs": [
    {
     "data": {
      "text/html": [
       "0.820143"
      ],
      "text/latex": [
       "0.820143"
      ],
      "text/markdown": [
       "0.820143"
      ],
      "text/plain": [
       "[1] 0.820143"
      ]
     },
     "metadata": {},
     "output_type": "display_data"
    }
   ],
   "source": [
    "mean(pHat)"
   ]
  },
  {
   "cell_type": "code",
   "execution_count": 16,
   "metadata": {},
   "outputs": [
    {
     "data": {
      "text/html": [
       "0.0382441605030266"
      ],
      "text/latex": [
       "0.0382441605030266"
      ],
      "text/markdown": [
       "0.0382441605030266"
      ],
      "text/plain": [
       "[1] 0.03824416"
      ]
     },
     "metadata": {},
     "output_type": "display_data"
    }
   ],
   "source": [
    "sd(pHat)"
   ]
  },
  {
   "cell_type": "code",
   "execution_count": 17,
   "metadata": {},
   "outputs": [
    {
     "data": {
      "text/html": [
       "0.0384187454245971"
      ],
      "text/latex": [
       "0.0384187454245971"
      ],
      "text/markdown": [
       "0.0384187454245971"
      ],
      "text/plain": [
       "[1] 0.03841875"
      ]
     },
     "metadata": {},
     "output_type": "display_data"
    }
   ],
   "source": [
    "pHat.sd <- sqrt(p*(1-p)/n)\n",
    "pHat.sd"
   ]
  },
  {
   "cell_type": "code",
   "execution_count": 18,
   "metadata": {},
   "outputs": [
    {
     "data": {
      "image/png": "[encoded data removed]",
      "text/plain": [
       "Plot with title “Histogram of pHat”"
      ]
     },
     "metadata": {},
     "output_type": "display_data"
    }
   ],
   "source": [
    "hist(pHat, prob=TRUE)"
   ]
  },
  {
   "cell_type": "markdown",
   "metadata": {},
   "source": [
    "<hr>"
   ]
  },
  {
   "cell_type": "markdown",
   "metadata": {},
   "source": [
    "## Example:\n",
    "- Left handed population = 0.13 = 13%\n",
    "- School auditorium = 200 seats\n",
    "- Lefty seats = 15 = 15/200 = 0.075 = 7.5%\n",
    "- What is the probability that 90 student class there will not be enough seats for left-handed students?"
   ]
  },
  {
   "cell_type": "code",
   "execution_count": 19,
   "metadata": {
    "collapsed": true
   },
   "outputs": [],
   "source": [
    "p <- 0.13 #Equal to Sample Distribution Mean as well\n",
    "n <- 90\n",
    "sample.sd <- sqrt(p*(1-p)/n) #0.035"
   ]
  },
  {
   "cell_type": "code",
   "execution_count": 20,
   "metadata": {},
   "outputs": [
    {
     "data": {
      "text/html": [
       "0.166666666666667"
      ],
      "text/latex": [
       "0.166666666666667"
      ],
      "text/markdown": [
       "0.166666666666667"
      ],
      "text/plain": [
       "[1] 0.1666667"
      ]
     },
     "metadata": {},
     "output_type": "display_data"
    }
   ],
   "source": [
    "pHat <- 15/n\n",
    "pHat"
   ]
  },
  {
   "cell_type": "code",
   "execution_count": 21,
   "metadata": {},
   "outputs": [
    {
     "data": {
      "text/html": [
       "1.03433538590698"
      ],
      "text/latex": [
       "1.03433538590698"
      ],
      "text/markdown": [
       "1.03433538590698"
      ],
      "text/plain": [
       "[1] 1.034335"
      ]
     },
     "metadata": {},
     "output_type": "display_data"
    }
   ],
   "source": [
    "z.score <- (pHat-p)/sample.sd\n",
    "z.score"
   ]
  },
  {
   "cell_type": "markdown",
   "metadata": {},
   "source": [
    "#### What is the probability that 90 student class there will not be enough seats for left-handed students?"
   ]
  },
  {
   "cell_type": "code",
   "execution_count": 22,
   "metadata": {},
   "outputs": [
    {
     "data": {
      "text/html": [
       "0.150489699806439"
      ],
      "text/latex": [
       "0.150489699806439"
      ],
      "text/markdown": [
       "0.150489699806439"
      ],
      "text/plain": [
       "[1] 0.1504897"
      ]
     },
     "metadata": {},
     "output_type": "display_data"
    }
   ],
   "source": [
    "pnorm(z.score, lower.tail=F)"
   ]
  },
  {
   "cell_type": "markdown",
   "metadata": {},
   "source": [
    "- 15% chance that there will not be enough seats for left-handed students"
   ]
  }
 ],
 "metadata": {
  "kernelspec": {
   "display_name": "R",
   "language": "R",
   "name": "ir"
  },
  "language_info": {
   "codemirror_mode": "r",
   "file_extension": ".r",
   "mimetype": "text/x-r-source",
   "name": "R",
   "pygments_lexer": "r",
   "version": "3.4.1"
  }
 },
 "nbformat": 4,
 "nbformat_minor": 2
}
