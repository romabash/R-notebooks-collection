{
 "cells": [
  {
   "cell_type": "markdown",
   "metadata": {},
   "source": [
    "# Confidence Interval + Margin of Error for Means:\n",
    "- When Sigma is Kown\n",
    "- When Sigma is NOT known"
   ]
  },
  {
   "cell_type": "markdown",
   "metadata": {},
   "source": [
    "### Sampling Distribution:\n",
    "- pop.mean = u\n",
    "- pop.sd = sigma\n",
    "- sample.size = n\n",
    "- sample.mean = u\n",
    "- sample.sd = sigma/sqrt(n)"
   ]
  },
  {
   "cell_type": "markdown",
   "metadata": {},
   "source": [
    "### Example 1: Student IQ Test when Sigma is known:\n",
    "- Normally Distributed\n",
    "- Population Mean = 100\n",
    "- Population SD = 15\n",
    "- Sample Size = 9\n",
    "- Sample Mean = 100 (xbar, Sample Mean of Sampling Distribution, will be close to 100)\n",
    "- Sample SD = 15/sqrt(9)\n",
    "- As Sample Count increases, Distribution of Mean of Means (xbar) will approach Normal Distribution"
   ]
  },
  {
   "cell_type": "markdown",
   "metadata": {},
   "source": [
    "|         | Population |  n = 9  | n = 16  |  n = 25 | n = 100 |\n",
    "|:--------|:-----------|:--------|:--------|:--------|:--------|\n",
    "| Mean    |100         | 100     | 100     | 100     | 100     |\n",
    "| SD      |15          | 5       | 3.75    | 3       | 1.5     |"
   ]
  },
  {
   "cell_type": "markdown",
   "metadata": {},
   "source": [
    "### Confidence Interval:\n",
    "- Standard Error, SE = pop.sd/sqrt(sample.size) = sigma/sqrt(n)\n",
    "- Margin of Error = z * SE = z * (sigma/sqrt(n))\n",
    "- Confidence Interval = Sample Mean +/- Margin of Error = u +/- z * (sigma/sqrt(n))"
   ]
  },
  {
   "cell_type": "markdown",
   "metadata": {},
   "source": [
    "### % Confidence:\n",
    "- Area between left and right z scores\n",
    "- As %Confidence increases, Confidence Interval also increases\n",
    "\n",
    "#### Find z-score for % confidence:\n",
    "- 90% confidence: z = qnorm( (1-0.9)/2 )  = -1.645\n",
    "    - Area in each Tail: (1-0.9)/2 = 0.05\n",
    "- 95% confidence: z = qnorm( (1-0.95)/2 )  = -1.96\n",
    "    - Area in each Tail: (1-0.95)/2 = 0.025\n",
    "- 99% confidence: z = qnorm( ((1-0.99)/2 ) = -2.575\n",
    "    - Area in each Tail: (1-0.99)/2 = 0.005"
   ]
  },
  {
   "cell_type": "code",
   "execution_count": null,
   "metadata": {
    "collapsed": true
   },
   "outputs": [],
   "source": []
  }
 ],
 "metadata": {
  "kernelspec": {
   "display_name": "R",
   "language": "R",
   "name": "ir"
  },
  "language_info": {
   "codemirror_mode": "r",
   "file_extension": ".r",
   "mimetype": "text/x-r-source",
   "name": "R",
   "pygments_lexer": "r",
   "version": "3.4.1"
  }
 },
 "nbformat": 4,
 "nbformat_minor": 2
}
