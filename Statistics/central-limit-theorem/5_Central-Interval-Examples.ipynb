{
 "cells": [
  {
   "cell_type": "markdown",
   "metadata": {},
   "source": [
    "# Cental Interval Examples"
   ]
  },
  {
   "cell_type": "markdown",
   "metadata": {},
   "source": [
    "## Example 1: Estimate Mean life of light bulbs:\n",
    "- Population SD = 1,000 hours\n",
    "- Sample Size = 64\n",
    "- Sample Mean = 7,500"
   ]
  },
  {
   "cell_type": "markdown",
   "metadata": {},
   "source": [
    "### a) Construct 95% Confidence Interval for population mean life\n",
    "- Since Population SD is given, can use z-statistics:"
   ]
  },
  {
   "cell_type": "code",
   "execution_count": 1,
   "metadata": {},
   "outputs": [
    {
     "data": {
      "text/html": [
       "<span style=white-space:pre-wrap>'7255.00450193249  to  7744.99549806751'</span>"
      ],
      "text/latex": [
       "'7255.00450193249  to  7744.99549806751'"
      ],
      "text/markdown": [
       "<span style=white-space:pre-wrap>'7255.00450193249  to  7744.99549806751'</span>"
      ],
      "text/plain": [
       "[1] \"7255.00450193249  to  7744.99549806751\""
      ]
     },
     "metadata": {},
     "output_type": "display_data"
    }
   ],
   "source": [
    "sigma <- 1000\n",
    "n <- 64\n",
    "sample.mean <- 7500\n",
    "sample.sd <- sigma/sqrt(n) #125\n",
    "\n",
    "# 95% Confidence Interval, z = 1.96:\n",
    "z <- abs(qnorm((1-0.95)/2))\n",
    "std.error <- sample.sd #125\n",
    "margin.error <- z*std.error #244.9955\n",
    "\n",
    "lower.interval <- sample.mean - margin.error\n",
    "upper.interval <- sample.mean + margin.error\n",
    "paste(lower.interval, \" to \", upper.interval)"
   ]
  },
  {
   "cell_type": "markdown",
   "metadata": {},
   "source": [
    "#### Covert into a function"
   ]
  },
  {
   "cell_type": "code",
   "execution_count": 2,
   "metadata": {
    "collapsed": true
   },
   "outputs": [],
   "source": [
    "mean_ci <- function(pop.mean, sample.size, sample.mean, confidence=0.95){\n",
    "    sigma <- pop.mean\n",
    "    n <- sample.size\n",
    "    sample.mean <- sample.mean\n",
    "    sample.sd <- sigma/sqrt(n)\n",
    "\n",
    "    confidence <- confidence\n",
    "    z <- abs(qnorm((1-confidence)/2))\n",
    "    std.error <- sample.sd \n",
    "    margin.error <- z*std.error\n",
    "\n",
    "    lower.interval <- sample.mean - margin.error\n",
    "    upper.interval <- sample.mean + margin.error\n",
    "    paste(lower.interval, \" to \", upper.interval)\n",
    "}"
   ]
  },
  {
   "cell_type": "code",
   "execution_count": 3,
   "metadata": {},
   "outputs": [
    {
     "data": {
      "text/html": [
       "<span style=white-space:pre-wrap>'7255.00450193249  to  7744.99549806751'</span>"
      ],
      "text/latex": [
       "'7255.00450193249  to  7744.99549806751'"
      ],
      "text/markdown": [
       "<span style=white-space:pre-wrap>'7255.00450193249  to  7744.99549806751'</span>"
      ],
      "text/plain": [
       "[1] \"7255.00450193249  to  7744.99549806751\""
      ]
     },
     "metadata": {},
     "output_type": "display_data"
    }
   ],
   "source": [
    "mean_ci(1000, 64,7500)"
   ]
  },
  {
   "cell_type": "markdown",
   "metadata": {},
   "source": [
    "### b) Can the manufacturer claim 8,000 hours of mean life?\n",
    "- The manufacturer cannot claim that because with 95% confidence, maximum life is 7745"
   ]
  },
  {
   "cell_type": "markdown",
   "metadata": {},
   "source": [
    "### c) Construct 95% Confidence Interval for population mean life if Population SD is 800"
   ]
  },
  {
   "cell_type": "code",
   "execution_count": 4,
   "metadata": {},
   "outputs": [
    {
     "data": {
      "text/html": [
       "<span style=white-space:pre-wrap>'7304.00360154599  to  7695.99639845401'</span>"
      ],
      "text/latex": [
       "'7304.00360154599  to  7695.99639845401'"
      ],
      "text/markdown": [
       "<span style=white-space:pre-wrap>'7304.00360154599  to  7695.99639845401'</span>"
      ],
      "text/plain": [
       "[1] \"7304.00360154599  to  7695.99639845401\""
      ]
     },
     "metadata": {},
     "output_type": "display_data"
    }
   ],
   "source": [
    "mean_ci(800, 64, 7500, 0.95)"
   ]
  },
  {
   "cell_type": "markdown",
   "metadata": {},
   "source": [
    "## Example 2: Amount spent on food by a 15 costumer sample:\n",
    "7.42, 6.29, 5.83, 6.5, 8.54, 9.51, 7.10, 6.80, 5.90, 4.89, 6.50, 5.52, 7.90, 8.30, 9.60"
   ]
  },
  {
   "cell_type": "markdown",
   "metadata": {},
   "source": [
    "### a) Construct 95% Confidence Interval for population mean amount spent on lunch\n",
    "- Since Population SD is NOT given, have to use t-statistics:"
   ]
  },
  {
   "cell_type": "code",
   "execution_count": 5,
   "metadata": {},
   "outputs": [
    {
     "data": {
      "text/html": [
       "<span style=white-space:pre-wrap>'6.32052904703734  to  7.892804286296'</span>"
      ],
      "text/latex": [
       "'6.32052904703734  to  7.892804286296'"
      ],
      "text/markdown": [
       "<span style=white-space:pre-wrap>'6.32052904703734  to  7.892804286296'</span>"
      ],
      "text/plain": [
       "[1] \"6.32052904703734  to  7.892804286296\""
      ]
     },
     "metadata": {},
     "output_type": "display_data"
    }
   ],
   "source": [
    "x <- c(7.42,6.29,5.83,6.5,8.54,9.51,7.10,6.80,5.90,4.89,6.50,5.52,7.90,8.30,9.60)\n",
    "\n",
    "sample.mean <- mean(x)\n",
    "n <- length(x)\n",
    "sample.sd <- sd(x)\n",
    "\n",
    "confidence <- 0.95\n",
    "degree.freedom <- n - 1\n",
    "t <- abs(qt((1-confidence)/2, degree.freedom)) #2.14\n",
    "\n",
    "std.error <- sample.sd/sqrt(n) #0.366\n",
    "margin.error <- t*(std.error) #0.778\n",
    "\n",
    "lower.interval <- sample.mean - margin.error\n",
    "upper.interval <- sample.mean + margin.error\n",
    "paste(lower.interval, \" to \", upper.interval)"
   ]
  },
  {
   "cell_type": "markdown",
   "metadata": {},
   "source": [
    "- 95% confidence that money spent on food is between 6.32 and 7.89 dollars"
   ]
  },
  {
   "cell_type": "markdown",
   "metadata": {},
   "source": [
    "#### Convert into a function:"
   ]
  },
  {
   "cell_type": "code",
   "execution_count": 6,
   "metadata": {
    "collapsed": true
   },
   "outputs": [],
   "source": [
    "mean_ci_t <- function(x, confidence=0.95){\n",
    "    sample.mean <- mean(x)\n",
    "    n <- length(x)\n",
    "    sample.sd <- sd(x)\n",
    "\n",
    "    confidence <- confidence\n",
    "    degree.freedom <- n - 1\n",
    "    t <- abs(qt((1-confidence)/2, degree.freedom)) \n",
    "\n",
    "    std.error <- sample.sd/sqrt(n)\n",
    "    margin.error <- t*(std.error) \n",
    "\n",
    "    lower.interval <- sample.mean - margin.error\n",
    "    upper.interval <- sample.mean + margin.error\n",
    "    paste(lower.interval, \" to \", upper.interval)\n",
    "}"
   ]
  },
  {
   "cell_type": "code",
   "execution_count": 7,
   "metadata": {},
   "outputs": [
    {
     "data": {
      "text/html": [
       "<span style=white-space:pre-wrap>'6.32052904703734  to  7.892804286296'</span>"
      ],
      "text/latex": [
       "'6.32052904703734  to  7.892804286296'"
      ],
      "text/markdown": [
       "<span style=white-space:pre-wrap>'6.32052904703734  to  7.892804286296'</span>"
      ],
      "text/plain": [
       "[1] \"6.32052904703734  to  7.892804286296\""
      ]
     },
     "metadata": {},
     "output_type": "display_data"
    }
   ],
   "source": [
    "x <- c(7.42,6.29,5.83,6.5,8.54,9.51,7.10,6.80,5.90,4.89,6.50,5.52,7.90,8.30,9.60)\n",
    "mean_ci_t(x)"
   ]
  },
  {
   "cell_type": "markdown",
   "metadata": {},
   "source": [
    "## Example 3: In a sample of 500, 53% agree:"
   ]
  },
  {
   "cell_type": "markdown",
   "metadata": {},
   "source": [
    "### a) Construct 95% Confidence Interval for population proportion that agree\n",
    "- Sample Size (n)  = 500\n",
    "- Sample prop (p) = 53% = 0.53\n",
    "\n",
    "\n",
    "- Standard Error (SE) = Sqrt( ( p* (1-p)) / n )\n",
    "- Margin of Error (ME) = z*SE"
   ]
  },
  {
   "cell_type": "code",
   "execution_count": 8,
   "metadata": {},
   "outputs": [
    {
     "data": {
      "text/html": [
       "<span style=white-space:pre-wrap>'0.486252831126234  to  0.573747168873766'</span>"
      ],
      "text/latex": [
       "'0.486252831126234  to  0.573747168873766'"
      ],
      "text/markdown": [
       "<span style=white-space:pre-wrap>'0.486252831126234  to  0.573747168873766'</span>"
      ],
      "text/plain": [
       "[1] \"0.486252831126234  to  0.573747168873766\""
      ]
     },
     "metadata": {},
     "output_type": "display_data"
    }
   ],
   "source": [
    "n <- 500\n",
    "p <- 0.53\n",
    "\n",
    "confidence <- 0.95\n",
    "z <- abs(qnorm((1-confidence)/2))\n",
    "std.error <- sqrt( (p*(1-p))/n )\n",
    "margin.error <- z*std.error\n",
    "\n",
    "lower.interval <- p - margin.error\n",
    "upper.interval <- p + margin.error\n",
    "paste(lower.interval, \" to \", upper.interval)"
   ]
  },
  {
   "cell_type": "markdown",
   "metadata": {},
   "source": [
    "#### Convert into a function:"
   ]
  },
  {
   "cell_type": "code",
   "execution_count": 9,
   "metadata": {
    "collapsed": true
   },
   "outputs": [],
   "source": [
    "prop_ci <- function(prop, sample.size, confidence=0.95){\n",
    "    n <- sample.size\n",
    "    p <- prop\n",
    "\n",
    "    confidence <- confidence\n",
    "    z <- abs(qnorm((1-confidence)/2))\n",
    "    std.error <- sqrt( (p*(1-p))/n )\n",
    "    margin.error <- z*std.error\n",
    "\n",
    "    lower.interval <- p - margin.error\n",
    "    upper.interval <- p + margin.error\n",
    "    paste(lower.interval, \" to \", upper.interval)\n",
    "}"
   ]
  },
  {
   "cell_type": "code",
   "execution_count": 10,
   "metadata": {},
   "outputs": [
    {
     "data": {
      "text/html": [
       "<span style=white-space:pre-wrap>'0.486252831126234  to  0.573747168873766'</span>"
      ],
      "text/latex": [
       "'0.486252831126234  to  0.573747168873766'"
      ],
      "text/markdown": [
       "<span style=white-space:pre-wrap>'0.486252831126234  to  0.573747168873766'</span>"
      ],
      "text/plain": [
       "[1] \"0.486252831126234  to  0.573747168873766\""
      ]
     },
     "metadata": {},
     "output_type": "display_data"
    }
   ],
   "source": [
    "n <- 500\n",
    "p <- 0.53\n",
    "prop_ci(p,n)"
   ]
  },
  {
   "cell_type": "markdown",
   "metadata": {},
   "source": [
    "### b) Repeat with Sample Size = 5,000 \n",
    "- For a large sample size, confidence interval would be narrow"
   ]
  },
  {
   "cell_type": "code",
   "execution_count": 11,
   "metadata": {},
   "outputs": [
    {
     "data": {
      "text/html": [
       "<span style=white-space:pre-wrap>'0.516165930517488  to  0.543834069482512'</span>"
      ],
      "text/latex": [
       "'0.516165930517488  to  0.543834069482512'"
      ],
      "text/markdown": [
       "<span style=white-space:pre-wrap>'0.516165930517488  to  0.543834069482512'</span>"
      ],
      "text/plain": [
       "[1] \"0.516165930517488  to  0.543834069482512\""
      ]
     },
     "metadata": {},
     "output_type": "display_data"
    }
   ],
   "source": [
    "prop_ci(0.53, 5000)"
   ]
  },
  {
   "cell_type": "markdown",
   "metadata": {},
   "source": [
    "## Example 4: With SD = 10 and Margin of Error = 3:"
   ]
  },
  {
   "cell_type": "markdown",
   "metadata": {},
   "source": [
    "### a) What sample size is needed for 99% Confidence?\n",
    "- Population SD = sigma\n",
    "- Margin of Error (ME)\n",
    "- Confidence Interval = 90% (z = 2.575)\n",
    "- ME = z*( sigma/Sqrt(n) )\n",
    "- n = ( (z*sigma)/(ME) )^2"
   ]
  },
  {
   "cell_type": "code",
   "execution_count": 12,
   "metadata": {},
   "outputs": [
    {
     "data": {
      "text/html": [
       "73.7210733446801"
      ],
      "text/latex": [
       "73.7210733446801"
      ],
      "text/markdown": [
       "73.7210733446801"
      ],
      "text/plain": [
       "[1] 73.72107"
      ]
     },
     "metadata": {},
     "output_type": "display_data"
    }
   ],
   "source": [
    "sigma <- 10\n",
    "margin.error <- 3\n",
    "z <- abs(qnorm((1-0.99)/2))\n",
    "\n",
    "n <- ( (z*sigma)/margin.error )**2\n",
    "n "
   ]
  },
  {
   "cell_type": "markdown",
   "metadata": {},
   "source": [
    "#### Convert into a function:"
   ]
  },
  {
   "cell_type": "code",
   "execution_count": 13,
   "metadata": {
    "collapsed": true
   },
   "outputs": [],
   "source": [
    "mean_sample_size <- function(pop.sd, margin.error, confidence=0.95){\n",
    "    \n",
    "    sigma <- pop.sd\n",
    "    margin.error <- margin.error\n",
    "    confidence <- confidence\n",
    "    \n",
    "    z <- abs(qnorm((1-confidence)/2))\n",
    "\n",
    "    n <- ( (z*sigma)/margin.error )**2\n",
    "    n \n",
    "}"
   ]
  },
  {
   "cell_type": "code",
   "execution_count": 14,
   "metadata": {},
   "outputs": [
    {
     "data": {
      "text/html": [
       "73.7210733446801"
      ],
      "text/latex": [
       "73.7210733446801"
      ],
      "text/markdown": [
       "73.7210733446801"
      ],
      "text/plain": [
       "[1] 73.72107"
      ]
     },
     "metadata": {},
     "output_type": "display_data"
    }
   ],
   "source": [
    "mean_sample_size(pop.sd=10, margin.error=3, confidence=0.99)"
   ]
  },
  {
   "cell_type": "markdown",
   "metadata": {},
   "source": [
    "### b) What sample size is needed for 95% Confidence?"
   ]
  },
  {
   "cell_type": "code",
   "execution_count": 15,
   "metadata": {},
   "outputs": [
    {
     "data": {
      "text/html": [
       "42.6828757854903"
      ],
      "text/latex": [
       "42.6828757854903"
      ],
      "text/markdown": [
       "42.6828757854903"
      ],
      "text/plain": [
       "[1] 42.68288"
      ]
     },
     "metadata": {},
     "output_type": "display_data"
    }
   ],
   "source": [
    "mean_sample_size(pop.sd=10, margin.error=3, confidence=0.95)"
   ]
  },
  {
   "cell_type": "markdown",
   "metadata": {},
   "source": [
    "## Example 5: With Sample Size of 300, proportion of shoppers influenced by:\n",
    "- Free shipping = 18% = 0.18\n",
    "- Discounts = 13% = 0.13\n",
    "- Reviews = 9% = 0.09"
   ]
  },
  {
   "cell_type": "markdown",
   "metadata": {},
   "source": [
    "### a) Construct 95% Confidence Interval of population proportion that are influenced by free shipping:"
   ]
  },
  {
   "cell_type": "code",
   "execution_count": 16,
   "metadata": {},
   "outputs": [
    {
     "data": {
      "text/html": [
       "<span style=white-space:pre-wrap>'0.136525895756422  to  0.223474104243578'</span>"
      ],
      "text/latex": [
       "'0.136525895756422  to  0.223474104243578'"
      ],
      "text/markdown": [
       "<span style=white-space:pre-wrap>'0.136525895756422  to  0.223474104243578'</span>"
      ],
      "text/plain": [
       "[1] \"0.136525895756422  to  0.223474104243578\""
      ]
     },
     "metadata": {},
     "output_type": "display_data"
    }
   ],
   "source": [
    "p <- 0.18\n",
    "n <- 300\n",
    "\n",
    "z <- abs(qnorm((1-0.95)/2))\n",
    "std.error <- sqrt( (p*(1-p))/n )\n",
    "margin.error <- z*std.error\n",
    "\n",
    "lower.interval <- p - margin.error\n",
    "upper.interval <- p + margin.error\n",
    "paste(lower.interval, \" to \", upper.interval)"
   ]
  },
  {
   "cell_type": "markdown",
   "metadata": {},
   "source": [
    "#### Convert prop_ci() function made above:"
   ]
  },
  {
   "cell_type": "code",
   "execution_count": 17,
   "metadata": {},
   "outputs": [
    {
     "data": {
      "text/html": [
       "<span style=white-space:pre-wrap>'0.136525895756422  to  0.223474104243578'</span>"
      ],
      "text/latex": [
       "'0.136525895756422  to  0.223474104243578'"
      ],
      "text/markdown": [
       "<span style=white-space:pre-wrap>'0.136525895756422  to  0.223474104243578'</span>"
      ],
      "text/plain": [
       "[1] \"0.136525895756422  to  0.223474104243578\""
      ]
     },
     "metadata": {},
     "output_type": "display_data"
    }
   ],
   "source": [
    "prop_ci(prop=0.18, sample.size=300, confidence=0.95)"
   ]
  },
  {
   "cell_type": "markdown",
   "metadata": {},
   "source": [
    "### b) Construct 95% Confidence Interval of population proportion that are influenced by discounts:"
   ]
  },
  {
   "cell_type": "code",
   "execution_count": 18,
   "metadata": {},
   "outputs": [
    {
     "data": {
      "text/html": [
       "<span style=white-space:pre-wrap>'0.0919443831294028  to  0.168055616870597'</span>"
      ],
      "text/latex": [
       "'0.0919443831294028  to  0.168055616870597'"
      ],
      "text/markdown": [
       "<span style=white-space:pre-wrap>'0.0919443831294028  to  0.168055616870597'</span>"
      ],
      "text/plain": [
       "[1] \"0.0919443831294028  to  0.168055616870597\""
      ]
     },
     "metadata": {},
     "output_type": "display_data"
    }
   ],
   "source": [
    "prop_ci(prop=0.13, sample.size=300, confidence=0.95)"
   ]
  },
  {
   "cell_type": "markdown",
   "metadata": {},
   "source": [
    "### c) Construct 95% Confidence Interval of population proportion that are influenced by reviews:"
   ]
  },
  {
   "cell_type": "code",
   "execution_count": 19,
   "metadata": {},
   "outputs": [
    {
     "data": {
      "text/html": [
       "<span style=white-space:pre-wrap>'0.0576160802550171  to  0.122383919744983'</span>"
      ],
      "text/latex": [
       "'0.0576160802550171  to  0.122383919744983'"
      ],
      "text/markdown": [
       "<span style=white-space:pre-wrap>'0.0576160802550171  to  0.122383919744983'</span>"
      ],
      "text/plain": [
       "[1] \"0.0576160802550171  to  0.122383919744983\""
      ]
     },
     "metadata": {},
     "output_type": "display_data"
    }
   ],
   "source": [
    "prop_ci(prop=0.09, sample.size=300, confidence=0.95)"
   ]
  },
  {
   "cell_type": "markdown",
   "metadata": {},
   "source": [
    "### d) Determine Sample Size necessary to construct 95% Confidence Interval within +/- 0.02\n",
    "- ME = Sqrt( (p*q)/n ) * z\n",
    "- n = z^2*p*q/ME^2"
   ]
  },
  {
   "cell_type": "code",
   "execution_count": 20,
   "metadata": {},
   "outputs": [
    {
     "data": {
      "text/html": [
       "1417.49830483613"
      ],
      "text/latex": [
       "1417.49830483613"
      ],
      "text/markdown": [
       "1417.49830483613"
      ],
      "text/plain": [
       "[1] 1417.498"
      ]
     },
     "metadata": {},
     "output_type": "display_data"
    }
   ],
   "source": [
    "p <- 0.18\n",
    "confidence <- 0.95\n",
    "\n",
    "z <- abs(qnorm((1-confidence)/2))\n",
    "\n",
    "margin.error <- 0.02\n",
    "\n",
    "n <- ( z^2 * p * (1-p) )/margin.error^2\n",
    "n "
   ]
  },
  {
   "cell_type": "markdown",
   "metadata": {},
   "source": [
    "#### Convert into a function:"
   ]
  },
  {
   "cell_type": "code",
   "execution_count": 21,
   "metadata": {
    "collapsed": true
   },
   "outputs": [],
   "source": [
    "prop_sample_size <- function(prop, confidence=0.95){\n",
    "    p <- prop\n",
    "    confidence <- confidence\n",
    "\n",
    "    z <- abs(qnorm((1-confidence)/2))\n",
    "\n",
    "    margin.error <- 0.02\n",
    "\n",
    "    n <- ( z^2 * p * (1-p) )/margin.error^2\n",
    "    n \n",
    "}"
   ]
  },
  {
   "cell_type": "code",
   "execution_count": 22,
   "metadata": {},
   "outputs": [
    {
     "data": {
      "text/html": [
       "1417.49830483613"
      ],
      "text/latex": [
       "1417.49830483613"
      ],
      "text/markdown": [
       "1417.49830483613"
      ],
      "text/plain": [
       "[1] 1417.498"
      ]
     },
     "metadata": {},
     "output_type": "display_data"
    }
   ],
   "source": [
    "prop_sample_size(prop=0.18, confidence=0.95)"
   ]
  },
  {
   "cell_type": "code",
   "execution_count": 23,
   "metadata": {},
   "outputs": [
    {
     "data": {
      "text/html": [
       "1086.17248155126"
      ],
      "text/latex": [
       "1086.17248155126"
      ],
      "text/markdown": [
       "1086.17248155126"
      ],
      "text/plain": [
       "[1] 1086.172"
      ]
     },
     "metadata": {},
     "output_type": "display_data"
    }
   ],
   "source": [
    "prop_sample_size(prop=0.13, confidence=0.95)"
   ]
  },
  {
   "cell_type": "code",
   "execution_count": 24,
   "metadata": {},
   "outputs": [
    {
     "data": {
      "text/html": [
       "786.538693537122"
      ],
      "text/latex": [
       "786.538693537122"
      ],
      "text/markdown": [
       "786.538693537122"
      ],
      "text/plain": [
       "[1] 786.5387"
      ]
     },
     "metadata": {},
     "output_type": "display_data"
    }
   ],
   "source": [
    "prop_sample_size(prop=0.09, confidence=0.95)"
   ]
  }
 ],
 "metadata": {
  "kernelspec": {
   "display_name": "R",
   "language": "R",
   "name": "ir"
  },
  "language_info": {
   "codemirror_mode": "r",
   "file_extension": ".r",
   "mimetype": "text/x-r-source",
   "name": "R",
   "pygments_lexer": "r",
   "version": "3.4.1"
  }
 },
 "nbformat": 4,
 "nbformat_minor": 2
}
