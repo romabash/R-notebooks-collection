{
 "cells": [
  {
   "cell_type": "markdown",
   "metadata": {},
   "source": [
    "# Central Limit Theorem"
   ]
  },
  {
   "cell_type": "markdown",
   "metadata": {},
   "source": [
    "## Example 1: Number of days 6 employees were absent in a year: 1,3,6,7,9,10"
   ]
  },
  {
   "cell_type": "markdown",
   "metadata": {},
   "source": [
    "### a) Select all possible samples of n=2 and construct a sampling distribution of the mean"
   ]
  },
  {
   "cell_type": "code",
   "execution_count": 14,
   "metadata": {
    "collapsed": true
   },
   "outputs": [],
   "source": [
    "#using gtools for permutation\n",
    "library(gtools)"
   ]
  },
  {
   "cell_type": "code",
   "execution_count": 15,
   "metadata": {},
   "outputs": [],
   "source": [
    "x <- c(1,3,6,7,9,10)"
   ]
  },
  {
   "cell_type": "code",
   "execution_count": 16,
   "metadata": {},
   "outputs": [
    {
     "data": {
      "text/html": [
       "6"
      ],
      "text/latex": [
       "6"
      ],
      "text/markdown": [
       "6"
      ],
      "text/plain": [
       "[1] 6"
      ]
     },
     "metadata": {},
     "output_type": "display_data"
    }
   ],
   "source": [
    "#Mean of population\n",
    "mean(x)"
   ]
  },
  {
   "cell_type": "markdown",
   "metadata": {},
   "source": [
    "#### Find all combinations is sample size n=2"
   ]
  },
  {
   "cell_type": "code",
   "execution_count": 18,
   "metadata": {},
   "outputs": [
    {
     "data": {
      "text/html": [
       "<table>\n",
       "<tbody>\n",
       "\t<tr><td>1 </td><td> 3</td></tr>\n",
       "\t<tr><td>1 </td><td> 6</td></tr>\n",
       "\t<tr><td>1 </td><td> 7</td></tr>\n",
       "\t<tr><td>1 </td><td> 9</td></tr>\n",
       "\t<tr><td>1 </td><td>10</td></tr>\n",
       "\t<tr><td>3 </td><td> 6</td></tr>\n",
       "\t<tr><td>3 </td><td> 7</td></tr>\n",
       "\t<tr><td>3 </td><td> 9</td></tr>\n",
       "\t<tr><td>3 </td><td>10</td></tr>\n",
       "\t<tr><td>6 </td><td> 7</td></tr>\n",
       "\t<tr><td>6 </td><td> 9</td></tr>\n",
       "\t<tr><td>6 </td><td>10</td></tr>\n",
       "\t<tr><td>7 </td><td> 9</td></tr>\n",
       "\t<tr><td>7 </td><td>10</td></tr>\n",
       "\t<tr><td>9 </td><td>10</td></tr>\n",
       "</tbody>\n",
       "</table>\n"
      ],
      "text/latex": [
       "\\begin{tabular}{ll}\n",
       "\t 1  &  3\\\\\n",
       "\t 1  &  6\\\\\n",
       "\t 1  &  7\\\\\n",
       "\t 1  &  9\\\\\n",
       "\t 1  & 10\\\\\n",
       "\t 3  &  6\\\\\n",
       "\t 3  &  7\\\\\n",
       "\t 3  &  9\\\\\n",
       "\t 3  & 10\\\\\n",
       "\t 6  &  7\\\\\n",
       "\t 6  &  9\\\\\n",
       "\t 6  & 10\\\\\n",
       "\t 7  &  9\\\\\n",
       "\t 7  & 10\\\\\n",
       "\t 9  & 10\\\\\n",
       "\\end{tabular}\n"
      ],
      "text/markdown": [
       "\n",
       "| 1  |  3 | \n",
       "| 1  |  6 | \n",
       "| 1  |  7 | \n",
       "| 1  |  9 | \n",
       "| 1  | 10 | \n",
       "| 3  |  6 | \n",
       "| 3  |  7 | \n",
       "| 3  |  9 | \n",
       "| 3  | 10 | \n",
       "| 6  |  7 | \n",
       "| 6  |  9 | \n",
       "| 6  | 10 | \n",
       "| 7  |  9 | \n",
       "| 7  | 10 | \n",
       "| 9  | 10 | \n",
       "\n",
       "\n"
      ],
      "text/plain": [
       "      [,1] [,2]\n",
       " [1,] 1     3  \n",
       " [2,] 1     6  \n",
       " [3,] 1     7  \n",
       " [4,] 1     9  \n",
       " [5,] 1    10  \n",
       " [6,] 3     6  \n",
       " [7,] 3     7  \n",
       " [8,] 3     9  \n",
       " [9,] 3    10  \n",
       "[10,] 6     7  \n",
       "[11,] 6     9  \n",
       "[12,] 6    10  \n",
       "[13,] 7     9  \n",
       "[14,] 7    10  \n",
       "[15,] 9    10  "
      ]
     },
     "metadata": {},
     "output_type": "display_data"
    }
   ],
   "source": [
    "#Using combinations() instead of permutations()\n",
    "#combinations() does not include replacement\n",
    "comb <- combinations(n=length(x), r=2, v=x)\n",
    "comb"
   ]
  },
  {
   "cell_type": "code",
   "execution_count": 19,
   "metadata": {},
   "outputs": [
    {
     "data": {
      "text/html": [
       "'matrix'"
      ],
      "text/latex": [
       "'matrix'"
      ],
      "text/markdown": [
       "'matrix'"
      ],
      "text/plain": [
       "[1] \"matrix\""
      ]
     },
     "metadata": {},
     "output_type": "display_data"
    }
   ],
   "source": [
    "class(comb)"
   ]
  },
  {
   "cell_type": "markdown",
   "metadata": {},
   "source": [
    "#### Find Mean across each combination (row wise)"
   ]
  },
  {
   "cell_type": "code",
   "execution_count": 20,
   "metadata": {},
   "outputs": [
    {
     "data": {
      "text/html": [
       "<ol class=list-inline>\n",
       "\t<li>2</li>\n",
       "\t<li>3.5</li>\n",
       "\t<li>4</li>\n",
       "\t<li>5</li>\n",
       "\t<li>5.5</li>\n",
       "\t<li>4.5</li>\n",
       "\t<li>5</li>\n",
       "\t<li>6</li>\n",
       "\t<li>6.5</li>\n",
       "\t<li>6.5</li>\n",
       "\t<li>7.5</li>\n",
       "\t<li>8</li>\n",
       "\t<li>8</li>\n",
       "\t<li>8.5</li>\n",
       "\t<li>9.5</li>\n",
       "</ol>\n"
      ],
      "text/latex": [
       "\\begin{enumerate*}\n",
       "\\item 2\n",
       "\\item 3.5\n",
       "\\item 4\n",
       "\\item 5\n",
       "\\item 5.5\n",
       "\\item 4.5\n",
       "\\item 5\n",
       "\\item 6\n",
       "\\item 6.5\n",
       "\\item 6.5\n",
       "\\item 7.5\n",
       "\\item 8\n",
       "\\item 8\n",
       "\\item 8.5\n",
       "\\item 9.5\n",
       "\\end{enumerate*}\n"
      ],
      "text/markdown": [
       "1. 2\n",
       "2. 3.5\n",
       "3. 4\n",
       "4. 5\n",
       "5. 5.5\n",
       "6. 4.5\n",
       "7. 5\n",
       "8. 6\n",
       "9. 6.5\n",
       "10. 6.5\n",
       "11. 7.5\n",
       "12. 8\n",
       "13. 8\n",
       "14. 8.5\n",
       "15. 9.5\n",
       "\n",
       "\n"
      ],
      "text/plain": [
       " [1] 2.0 3.5 4.0 5.0 5.5 4.5 5.0 6.0 6.5 6.5 7.5 8.0 8.0 8.5 9.5"
      ]
     },
     "metadata": {},
     "output_type": "display_data"
    }
   ],
   "source": [
    "comb.means <- rowMeans(comb)\n",
    "comb.means"
   ]
  },
  {
   "cell_type": "markdown",
   "metadata": {},
   "source": [
    "#### Find Mean of Means"
   ]
  },
  {
   "cell_type": "code",
   "execution_count": 21,
   "metadata": {},
   "outputs": [
    {
     "data": {
      "text/html": [
       "6"
      ],
      "text/latex": [
       "6"
      ],
      "text/markdown": [
       "6"
      ],
      "text/plain": [
       "[1] 6"
      ]
     },
     "metadata": {},
     "output_type": "display_data"
    }
   ],
   "source": [
    "mean(comb.means)"
   ]
  },
  {
   "cell_type": "markdown",
   "metadata": {},
   "source": [
    "- Same Mean as the Mean of the whole population\n",
    "- The sample mean is unbiased because the mean of all the possible sample means (of a given sample size, n) is equal to the population mean"
   ]
  },
  {
   "cell_type": "markdown",
   "metadata": {},
   "source": [
    "#### Create a function that returns Sample Distribution "
   ]
  },
  {
   "cell_type": "code",
   "execution_count": 26,
   "metadata": {
    "collapsed": true
   },
   "outputs": [],
   "source": [
    "combinationMean <- function(x, size){\n",
    "    len <- length(x)\n",
    "    comb <- combinations(n=len, r=size, v=x)\n",
    "    rowMeans(comb)\n",
    "}"
   ]
  },
  {
   "cell_type": "code",
   "execution_count": 28,
   "metadata": {},
   "outputs": [
    {
     "data": {
      "text/html": [
       "<ol class=list-inline>\n",
       "\t<li>2</li>\n",
       "\t<li>3.5</li>\n",
       "\t<li>4</li>\n",
       "\t<li>5</li>\n",
       "\t<li>5.5</li>\n",
       "\t<li>4.5</li>\n",
       "\t<li>5</li>\n",
       "\t<li>6</li>\n",
       "\t<li>6.5</li>\n",
       "\t<li>6.5</li>\n",
       "\t<li>7.5</li>\n",
       "\t<li>8</li>\n",
       "\t<li>8</li>\n",
       "\t<li>8.5</li>\n",
       "\t<li>9.5</li>\n",
       "</ol>\n"
      ],
      "text/latex": [
       "\\begin{enumerate*}\n",
       "\\item 2\n",
       "\\item 3.5\n",
       "\\item 4\n",
       "\\item 5\n",
       "\\item 5.5\n",
       "\\item 4.5\n",
       "\\item 5\n",
       "\\item 6\n",
       "\\item 6.5\n",
       "\\item 6.5\n",
       "\\item 7.5\n",
       "\\item 8\n",
       "\\item 8\n",
       "\\item 8.5\n",
       "\\item 9.5\n",
       "\\end{enumerate*}\n"
      ],
      "text/markdown": [
       "1. 2\n",
       "2. 3.5\n",
       "3. 4\n",
       "4. 5\n",
       "5. 5.5\n",
       "6. 4.5\n",
       "7. 5\n",
       "8. 6\n",
       "9. 6.5\n",
       "10. 6.5\n",
       "11. 7.5\n",
       "12. 8\n",
       "13. 8\n",
       "14. 8.5\n",
       "15. 9.5\n",
       "\n",
       "\n"
      ],
      "text/plain": [
       " [1] 2.0 3.5 4.0 5.0 5.5 4.5 5.0 6.0 6.5 6.5 7.5 8.0 8.0 8.5 9.5"
      ]
     },
     "metadata": {},
     "output_type": "display_data"
    }
   ],
   "source": [
    "sample_distribution <- combinationMean(x, 2)\n",
    "sample_distribution"
   ]
  },
  {
   "cell_type": "code",
   "execution_count": 29,
   "metadata": {},
   "outputs": [
    {
     "data": {
      "text/html": [
       "6"
      ],
      "text/latex": [
       "6"
      ],
      "text/markdown": [
       "6"
      ],
      "text/plain": [
       "[1] 6"
      ]
     },
     "metadata": {},
     "output_type": "display_data"
    }
   ],
   "source": [
    "mean(sample_distribution)"
   ]
  },
  {
   "cell_type": "code",
   "execution_count": 33,
   "metadata": {},
   "outputs": [
    {
     "data": {
      "image/png": "[encoded data removed]",
      "text/plain": [
       "Plot with title “Histogram of sample_distribution”"
      ]
     },
     "metadata": {},
     "output_type": "display_data"
    }
   ],
   "source": [
    "hist(sample_distribution, breaks=10)"
   ]
  },
  {
   "cell_type": "markdown",
   "metadata": {},
   "source": [
    "### b) Select all possible samples of n=3 and construct a sampling distribution of the mean"
   ]
  },
  {
   "cell_type": "code",
   "execution_count": 34,
   "metadata": {},
   "outputs": [
    {
     "data": {
      "text/html": [
       "<ol class=list-inline>\n",
       "\t<li>3.33333333333333</li>\n",
       "\t<li>3.66666666666667</li>\n",
       "\t<li>4.33333333333333</li>\n",
       "\t<li>4.66666666666667</li>\n",
       "\t<li>4.66666666666667</li>\n",
       "\t<li>5.33333333333333</li>\n",
       "\t<li>5.66666666666667</li>\n",
       "\t<li>5.66666666666667</li>\n",
       "\t<li>6</li>\n",
       "\t<li>6.66666666666667</li>\n",
       "\t<li>5.33333333333333</li>\n",
       "\t<li>6</li>\n",
       "\t<li>6.33333333333333</li>\n",
       "\t<li>6.33333333333333</li>\n",
       "\t<li>6.66666666666667</li>\n",
       "\t<li>7.33333333333333</li>\n",
       "\t<li>7.33333333333333</li>\n",
       "\t<li>7.66666666666667</li>\n",
       "\t<li>8.33333333333333</li>\n",
       "\t<li>8.66666666666667</li>\n",
       "</ol>\n"
      ],
      "text/latex": [
       "\\begin{enumerate*}\n",
       "\\item 3.33333333333333\n",
       "\\item 3.66666666666667\n",
       "\\item 4.33333333333333\n",
       "\\item 4.66666666666667\n",
       "\\item 4.66666666666667\n",
       "\\item 5.33333333333333\n",
       "\\item 5.66666666666667\n",
       "\\item 5.66666666666667\n",
       "\\item 6\n",
       "\\item 6.66666666666667\n",
       "\\item 5.33333333333333\n",
       "\\item 6\n",
       "\\item 6.33333333333333\n",
       "\\item 6.33333333333333\n",
       "\\item 6.66666666666667\n",
       "\\item 7.33333333333333\n",
       "\\item 7.33333333333333\n",
       "\\item 7.66666666666667\n",
       "\\item 8.33333333333333\n",
       "\\item 8.66666666666667\n",
       "\\end{enumerate*}\n"
      ],
      "text/markdown": [
       "1. 3.33333333333333\n",
       "2. 3.66666666666667\n",
       "3. 4.33333333333333\n",
       "4. 4.66666666666667\n",
       "5. 4.66666666666667\n",
       "6. 5.33333333333333\n",
       "7. 5.66666666666667\n",
       "8. 5.66666666666667\n",
       "9. 6\n",
       "10. 6.66666666666667\n",
       "11. 5.33333333333333\n",
       "12. 6\n",
       "13. 6.33333333333333\n",
       "14. 6.33333333333333\n",
       "15. 6.66666666666667\n",
       "16. 7.33333333333333\n",
       "17. 7.33333333333333\n",
       "18. 7.66666666666667\n",
       "19. 8.33333333333333\n",
       "20. 8.66666666666667\n",
       "\n",
       "\n"
      ],
      "text/plain": [
       " [1] 3.333333 3.666667 4.333333 4.666667 4.666667 5.333333 5.666667 5.666667\n",
       " [9] 6.000000 6.666667 5.333333 6.000000 6.333333 6.333333 6.666667 7.333333\n",
       "[17] 7.333333 7.666667 8.333333 8.666667"
      ]
     },
     "metadata": {},
     "output_type": "display_data"
    }
   ],
   "source": [
    "sample_distribution <- combinationMean(x, 3)\n",
    "sample_distribution"
   ]
  },
  {
   "cell_type": "code",
   "execution_count": 35,
   "metadata": {},
   "outputs": [
    {
     "data": {
      "text/html": [
       "6"
      ],
      "text/latex": [
       "6"
      ],
      "text/markdown": [
       "6"
      ],
      "text/plain": [
       "[1] 6"
      ]
     },
     "metadata": {},
     "output_type": "display_data"
    }
   ],
   "source": [
    "mean(sample_distribution)"
   ]
  },
  {
   "cell_type": "code",
   "execution_count": 36,
   "metadata": {},
   "outputs": [
    {
     "data": {
      "image/png": "[encoded data removed]",
      "text/plain": [
       "Plot with title “Histogram of sample_distribution”"
      ]
     },
     "metadata": {},
     "output_type": "display_data"
    }
   ],
   "source": [
    "hist(sample_distribution, breaks=10)"
   ]
  },
  {
   "cell_type": "markdown",
   "metadata": {},
   "source": [
    "- Sampling Distribution of Sample Size 3 has less variability than Sample Size 2"
   ]
  },
  {
   "cell_type": "code",
   "execution_count": null,
   "metadata": {
    "collapsed": true
   },
   "outputs": [],
   "source": []
  }
 ],
 "metadata": {
  "kernelspec": {
   "display_name": "R",
   "language": "R",
   "name": "ir"
  },
  "language_info": {
   "codemirror_mode": "r",
   "file_extension": ".r",
   "mimetype": "text/x-r-source",
   "name": "R",
   "pygments_lexer": "r",
   "version": "3.4.1"
  }
 },
 "nbformat": 4,
 "nbformat_minor": 2
}
