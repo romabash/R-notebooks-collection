{
 "cells": [
  {
   "cell_type": "markdown",
   "metadata": {},
   "source": [
    "# Counting Rules"
   ]
  },
  {
   "cell_type": "markdown",
   "metadata": {},
   "source": [
    "### Counting Rule 1\n",
    "- Number of outcomes from ‘n’ trials\n",
    "- If any event can occur in ‘k’ different ways\n",
    "- And, if that event is repeated ‘n’ times\n",
    "- Total number of outcomes = k^n"
   ]
  },
  {
   "cell_type": "markdown",
   "metadata": {},
   "source": [
    "#### Example:\n",
    "- Toss a coin: k=2 (Head or Tail)\n",
    "- Toss a coin 3 times\n",
    "- Total outcomes = 2^3 = 8\n",
    "\n",
    "#### Example\n",
    "- Roll a Die: k=6 (1,2,3,4,5,6)\n",
    "- Roll a Die 2 times\n",
    "- Total outcomes = 6^2 = 36"
   ]
  },
  {
   "cell_type": "markdown",
   "metadata": {},
   "source": [
    "### Counting Rule 2\n",
    "- Number of outcomes from k1, k2 … kn trials\n",
    "- Total number of outcomes = (k1) x (k2) x (kn)"
   ]
  },
  {
   "cell_type": "markdown",
   "metadata": {},
   "source": [
    "#### Example:\n",
    "- Burger: Hamburger, Cheeseburger = 2\n",
    "- Drink: Coke, 7Up, Ice Tea = 3\n",
    "- Total meals possible = 2 x 3 = 6\n",
    "\n",
    "#### Example:\n",
    "- Motor Vehicle Department\n",
    "- A license plate can have\n",
    "- 3 Numbers followed by 3 Letters\n",
    "- Total possible outcomes = 10 x 10 x 10 x 26 x 26 x 26 = 17,576,000"
   ]
  },
  {
   "cell_type": "code",
   "execution_count": 1,
   "metadata": {},
   "outputs": [
    {
     "data": {
      "text/html": [
       "17576000"
      ],
      "text/latex": [
       "17576000"
      ],
      "text/markdown": [
       "17576000"
      ],
      "text/plain": [
       "[1] 17576000"
      ]
     },
     "metadata": {},
     "output_type": "display_data"
    }
   ],
   "source": [
    "outcomes <- c(10,10,10,26,26,26)\n",
    "prod(outcomes)"
   ]
  },
  {
   "cell_type": "markdown",
   "metadata": {},
   "source": [
    "### Counting Rule 3\n",
    "- Permutation\n",
    "- Number of ways set of items can be arranged\n",
    "- n! = (n) x (n-1) x (n-2) x …3 x 2 x 1 "
   ]
  },
  {
   "cell_type": "markdown",
   "metadata": {},
   "source": [
    "#### Example:\n",
    "- Arranging A, B, C, D, E, F\n",
    "- 6! = 720 ways"
   ]
  },
  {
   "cell_type": "code",
   "execution_count": 2,
   "metadata": {},
   "outputs": [
    {
     "data": {
      "text/html": [
       "720"
      ],
      "text/latex": [
       "720"
      ],
      "text/markdown": [
       "720"
      ],
      "text/plain": [
       "[1] 720"
      ]
     },
     "metadata": {},
     "output_type": "display_data"
    }
   ],
   "source": [
    "x = 6\n",
    "factorial(x)"
   ]
  },
  {
   "cell_type": "code",
   "execution_count": 4,
   "metadata": {},
   "outputs": [
    {
     "data": {
      "text/html": [
       "<ol class=list-inline>\n",
       "\t<li>1</li>\n",
       "\t<li>2</li>\n",
       "\t<li>6</li>\n",
       "\t<li>24</li>\n",
       "\t<li>120</li>\n",
       "\t<li>720</li>\n",
       "</ol>\n"
      ],
      "text/latex": [
       "\\begin{enumerate*}\n",
       "\\item 1\n",
       "\\item 2\n",
       "\\item 6\n",
       "\\item 24\n",
       "\\item 120\n",
       "\\item 720\n",
       "\\end{enumerate*}\n"
      ],
      "text/markdown": [
       "1. 1\n",
       "2. 2\n",
       "3. 6\n",
       "4. 24\n",
       "5. 120\n",
       "6. 720\n",
       "\n",
       "\n"
      ],
      "text/plain": [
       "[1]   1   2   6  24 120 720"
      ]
     },
     "metadata": {},
     "output_type": "display_data"
    }
   ],
   "source": [
    "#factorial of a vector will calculate factorial of each element\n",
    "x = c(1,2,3,4,5,6)\n",
    "factorial(x)"
   ]
  },
  {
   "cell_type": "markdown",
   "metadata": {},
   "source": [
    "### Counting Rule 4\n",
    "- Permutation\n",
    "- The Number of ways arranging ‘x’ objects from ‘n’ objects\n",
    "- n! / (n - x)!\n",
    "- Different from Counting Rule 3, where x=n:\n",
    "    - n! / (n - n)! = n!"
   ]
  },
  {
   "cell_type": "markdown",
   "metadata": {},
   "source": [
    "#### Example:\n",
    "- In how many ways can 8 horses come in 1st, 2nd, and 3rd position:\n",
    "- n = 8, x = 3\n",
    "- 8! / (8-3)! = 8!/5! = 336"
   ]
  },
  {
   "cell_type": "code",
   "execution_count": 10,
   "metadata": {},
   "outputs": [
    {
     "data": {
      "text/html": [
       "336"
      ],
      "text/latex": [
       "336"
      ],
      "text/markdown": [
       "336"
      ],
      "text/plain": [
       "[1] 336"
      ]
     },
     "metadata": {},
     "output_type": "display_data"
    }
   ],
   "source": [
    "n <- 8\n",
    "x <- 3\n",
    "permutations <- factorial(n)/factorial(n-x)\n",
    "permutations"
   ]
  },
  {
   "cell_type": "markdown",
   "metadata": {},
   "source": [
    "### Counting Rule 5\n",
    "- The Number of ways arranging ‘x’ objects from ‘n’ objects, irrespective of order\n",
    "- n! / (n-x)!x!"
   ]
  },
  {
   "cell_type": "markdown",
   "metadata": {},
   "source": [
    "#### Example:\n",
    "- Using Counting Rule 4:\n",
    "    - Arrange 3 objects from 4 objects\n",
    "    - 4! / (4-3)! = 24\n",
    "- Using Counting Rule 5, removes duplicates:\n",
    "    - 4! / (4-3)! x 3! = 4\n"
   ]
  },
  {
   "cell_type": "code",
   "execution_count": 7,
   "metadata": {},
   "outputs": [
    {
     "data": {
      "text/html": [
       "4"
      ],
      "text/latex": [
       "4"
      ],
      "text/markdown": [
       "4"
      ],
      "text/plain": [
       "[1] 4"
      ]
     },
     "metadata": {},
     "output_type": "display_data"
    }
   ],
   "source": [
    "n <- 4\n",
    "x <- 3\n",
    "choose(n,x)"
   ]
  },
  {
   "cell_type": "markdown",
   "metadata": {},
   "source": [
    "#### Example"
   ]
  },
  {
   "cell_type": "code",
   "execution_count": 13,
   "metadata": {},
   "outputs": [],
   "source": [
    "#install.packages('gtools')\n",
    "library(gtools)"
   ]
  },
  {
   "cell_type": "code",
   "execution_count": 19,
   "metadata": {},
   "outputs": [
    {
     "data": {
      "text/html": [
       "<table>\n",
       "<tbody>\n",
       "\t<tr><td>A</td><td>B</td><td>C</td></tr>\n",
       "\t<tr><td>A</td><td>B</td><td>D</td></tr>\n",
       "\t<tr><td>A</td><td>C</td><td>B</td></tr>\n",
       "\t<tr><td>A</td><td>C</td><td>D</td></tr>\n",
       "\t<tr><td>A</td><td>D</td><td>B</td></tr>\n",
       "\t<tr><td>A</td><td>D</td><td>C</td></tr>\n",
       "\t<tr><td>B</td><td>A</td><td>C</td></tr>\n",
       "\t<tr><td>B</td><td>A</td><td>D</td></tr>\n",
       "\t<tr><td>B</td><td>C</td><td>A</td></tr>\n",
       "\t<tr><td>B</td><td>C</td><td>D</td></tr>\n",
       "\t<tr><td>B</td><td>D</td><td>A</td></tr>\n",
       "\t<tr><td>B</td><td>D</td><td>C</td></tr>\n",
       "\t<tr><td>C</td><td>A</td><td>B</td></tr>\n",
       "\t<tr><td>C</td><td>A</td><td>D</td></tr>\n",
       "\t<tr><td>C</td><td>B</td><td>A</td></tr>\n",
       "\t<tr><td>C</td><td>B</td><td>D</td></tr>\n",
       "\t<tr><td>C</td><td>D</td><td>A</td></tr>\n",
       "\t<tr><td>C</td><td>D</td><td>B</td></tr>\n",
       "\t<tr><td>D</td><td>A</td><td>B</td></tr>\n",
       "\t<tr><td>D</td><td>A</td><td>C</td></tr>\n",
       "\t<tr><td>D</td><td>B</td><td>A</td></tr>\n",
       "\t<tr><td>D</td><td>B</td><td>C</td></tr>\n",
       "\t<tr><td>D</td><td>C</td><td>A</td></tr>\n",
       "\t<tr><td>D</td><td>C</td><td>B</td></tr>\n",
       "</tbody>\n",
       "</table>\n"
      ],
      "text/latex": [
       "\\begin{tabular}{lll}\n",
       "\t A & B & C\\\\\n",
       "\t A & B & D\\\\\n",
       "\t A & C & B\\\\\n",
       "\t A & C & D\\\\\n",
       "\t A & D & B\\\\\n",
       "\t A & D & C\\\\\n",
       "\t B & A & C\\\\\n",
       "\t B & A & D\\\\\n",
       "\t B & C & A\\\\\n",
       "\t B & C & D\\\\\n",
       "\t B & D & A\\\\\n",
       "\t B & D & C\\\\\n",
       "\t C & A & B\\\\\n",
       "\t C & A & D\\\\\n",
       "\t C & B & A\\\\\n",
       "\t C & B & D\\\\\n",
       "\t C & D & A\\\\\n",
       "\t C & D & B\\\\\n",
       "\t D & A & B\\\\\n",
       "\t D & A & C\\\\\n",
       "\t D & B & A\\\\\n",
       "\t D & B & C\\\\\n",
       "\t D & C & A\\\\\n",
       "\t D & C & B\\\\\n",
       "\\end{tabular}\n"
      ],
      "text/markdown": [
       "\n",
       "| A | B | C | \n",
       "| A | B | D | \n",
       "| A | C | B | \n",
       "| A | C | D | \n",
       "| A | D | B | \n",
       "| A | D | C | \n",
       "| B | A | C | \n",
       "| B | A | D | \n",
       "| B | C | A | \n",
       "| B | C | D | \n",
       "| B | D | A | \n",
       "| B | D | C | \n",
       "| C | A | B | \n",
       "| C | A | D | \n",
       "| C | B | A | \n",
       "| C | B | D | \n",
       "| C | D | A | \n",
       "| C | D | B | \n",
       "| D | A | B | \n",
       "| D | A | C | \n",
       "| D | B | A | \n",
       "| D | B | C | \n",
       "| D | C | A | \n",
       "| D | C | B | \n",
       "\n",
       "\n"
      ],
      "text/plain": [
       "      [,1] [,2] [,3]\n",
       " [1,] A    B    C   \n",
       " [2,] A    B    D   \n",
       " [3,] A    C    B   \n",
       " [4,] A    C    D   \n",
       " [5,] A    D    B   \n",
       " [6,] A    D    C   \n",
       " [7,] B    A    C   \n",
       " [8,] B    A    D   \n",
       " [9,] B    C    A   \n",
       "[10,] B    C    D   \n",
       "[11,] B    D    A   \n",
       "[12,] B    D    C   \n",
       "[13,] C    A    B   \n",
       "[14,] C    A    D   \n",
       "[15,] C    B    A   \n",
       "[16,] C    B    D   \n",
       "[17,] C    D    A   \n",
       "[18,] C    D    B   \n",
       "[19,] D    A    B   \n",
       "[20,] D    A    C   \n",
       "[21,] D    B    A   \n",
       "[22,] D    B    C   \n",
       "[23,] D    C    A   \n",
       "[24,] D    C    B   "
      ]
     },
     "metadata": {},
     "output_type": "display_data"
    }
   ],
   "source": [
    "x = c('A', 'B', 'C', 'D')\n",
    "permutations(n=4, r=3, v=x) #v is a vector argument"
   ]
  },
  {
   "cell_type": "code",
   "execution_count": 15,
   "metadata": {},
   "outputs": [
    {
     "data": {
      "text/html": [
       "24"
      ],
      "text/latex": [
       "24"
      ],
      "text/markdown": [
       "24"
      ],
      "text/plain": [
       "[1] 24"
      ]
     },
     "metadata": {},
     "output_type": "display_data"
    }
   ],
   "source": [
    "nrow(permutations(n=4, r=3, v=x))"
   ]
  },
  {
   "cell_type": "code",
   "execution_count": 17,
   "metadata": {},
   "outputs": [
    {
     "data": {
      "text/html": [
       "<table>\n",
       "<tbody>\n",
       "\t<tr><td>A</td><td>B</td><td>C</td></tr>\n",
       "\t<tr><td>A</td><td>B</td><td>D</td></tr>\n",
       "\t<tr><td>A</td><td>C</td><td>D</td></tr>\n",
       "\t<tr><td>B</td><td>C</td><td>D</td></tr>\n",
       "</tbody>\n",
       "</table>\n"
      ],
      "text/latex": [
       "\\begin{tabular}{lll}\n",
       "\t A & B & C\\\\\n",
       "\t A & B & D\\\\\n",
       "\t A & C & D\\\\\n",
       "\t B & C & D\\\\\n",
       "\\end{tabular}\n"
      ],
      "text/markdown": [
       "\n",
       "| A | B | C | \n",
       "| A | B | D | \n",
       "| A | C | D | \n",
       "| B | C | D | \n",
       "\n",
       "\n"
      ],
      "text/plain": [
       "     [,1] [,2] [,3]\n",
       "[1,] A    B    C   \n",
       "[2,] A    B    D   \n",
       "[3,] A    C    D   \n",
       "[4,] B    C    D   "
      ]
     },
     "metadata": {},
     "output_type": "display_data"
    }
   ],
   "source": [
    "combinations(n=4, r=3, v=x)"
   ]
  },
  {
   "cell_type": "code",
   "execution_count": 18,
   "metadata": {},
   "outputs": [
    {
     "data": {
      "text/html": [
       "4"
      ],
      "text/latex": [
       "4"
      ],
      "text/markdown": [
       "4"
      ],
      "text/plain": [
       "[1] 4"
      ]
     },
     "metadata": {},
     "output_type": "display_data"
    }
   ],
   "source": [
    "nrow(combinations(n=4, r=3, v=x))"
   ]
  }
 ],
 "metadata": {
  "kernelspec": {
   "display_name": "R",
   "language": "R",
   "name": "ir"
  },
  "language_info": {
   "codemirror_mode": "r",
   "file_extension": ".r",
   "mimetype": "text/x-r-source",
   "name": "R",
   "pygments_lexer": "r",
   "version": "3.4.1"
  }
 },
 "nbformat": 4,
 "nbformat_minor": 2
}
