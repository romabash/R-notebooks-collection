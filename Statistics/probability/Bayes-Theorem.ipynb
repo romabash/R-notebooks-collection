{
 "cells": [
  {
   "cell_type": "markdown",
   "metadata": {},
   "source": [
    "# Bayes Theorem:\n",
    "- Compute reverse probability of P(A|B) if P(B|A) is known\n",
    "- P(A|B) = P(B|A) x P(A) / P(B)"
   ]
  },
  {
   "cell_type": "markdown",
   "metadata": {},
   "source": [
    "### Example 1: Bayes Theorem"
   ]
  },
  {
   "cell_type": "markdown",
   "metadata": {},
   "source": [
    "|               |    Age: 18-24    |  Age: 25-64 | Age: > 65  |  Total  |\n",
    "| --------------|------------------|-------------|------------|---------|\n",
    "| Married       |3,046             | 48,116      | 7,767      | 58,929  |\n",
    "| Never Married |9,289             | 9,252       | 768        | 19,309  |\n",
    "| Widowed       |19                | 2,425       | 8,636      | 11,080  |\n",
    "| Divorced      |260               | 8,916       | 1,091      | 10,267  |\n",
    "|            ---|               ---|          ---|         ---|      ---|\n",
    "| Total         |12,614            | 68,709      | 18,262     | 99,585  |\n"
   ]
  },
  {
   "cell_type": "markdown",
   "metadata": {},
   "source": [
    "#### Using Example Data Set (When all parameters are given)\n",
    "- Conditional Probability: P(Married | Age: 18-24) = (3,046/12,614) = 0.241\n",
    "- Conditional Probability: P(Age: 18-24 | Married) = (3,046/58,929) = 0.052\n",
    "\n",
    "####  Using Example Data Set (When NOT all parameters are given)\n",
    "- Conditional Probability: P(Age: 18-24 | Married) = (3,046/58,929) = 0.052\n",
    "- Bayes Theorem: P(Age: 18-24 | Married) = P(Married | Age: 18-24) x P(Age: 18-24) / P(Married)\n",
    "- = (3,046/12,614) x (12,614/99,585) / (58,929/99,585) = 0.052"
   ]
  },
  {
   "cell_type": "markdown",
   "metadata": {},
   "source": [
    "### Example 2: NOT all parameters are given\n",
    "- A recent Maryland highway safety study found that in 77% of all accidents the driver was wearing a seatbelt.\n",
    "- Accident report indicate that 92% of those drivers escaped serious injury\n",
    "- But only 63% of the non-belted drivers were so fortunate\n",
    "\n",
    "#### Given Probabilities:\n",
    "- P(B) = 0.77\n",
    "- P(NB) = 1 - P(B)= 0.23\n",
    "\n",
    "#### Given Conditional probabilities\n",
    "- P(OK|B) = 0.92\n",
    "- P(I|B) = 0.08\n",
    "- P(OK|NB) = 0.63\n",
    "- P(I|NB) = 0.37\n",
    "\n",
    "#### What is the probability that a driver is not wearing a seat belt given that the driver is injured: P(NB|I)\n",
    "- P(NB|I) = P(I|NB) x P(B) / P(I)\n",
    "- P(I) calculated by multiplying Injured probability in both cases (Belt and No Belt) and adding them together:\n",
    "     - 8% of 77% is 6% of total: 0.77 x 0.08 = 0.0616\n",
    "     - 37% of 23% is 8% of total: 0.23 x 0.37 = 0.0851\n",
    "- = (0.37 x 0.23) / (0.0616 + 0.0851) = 0.58"
   ]
  },
  {
   "cell_type": "markdown",
   "metadata": {},
   "source": [
    "### Example 3:\n",
    "#### Given Probabilities:\n",
    "- P(Spots) = 0.081\n",
    "    - 81 out of 1,000 individuals have spots\n",
    "- P(Smallpox) = 0.001\n",
    "    - Rare, with 1 out of 1,000 individuals\n",
    "- P(Chickenpox) = 0.100\n",
    "    - More common, 100 out of 1,000 individuals\n",
    "- P(Spots | Smallpox) = 0.9\n",
    "- P(Spots | Chickenpox) = 0.8\n",
    "\n",
    "#### Given that I have spots on my face what is the probability that I have Small Pox or Chicken Pox\n",
    "- P(Smallpox | Spots) = P(Spots | Smallpox) x (P(Smallpox) / P(Spots) = (0.9 x 0.001) / 0.081 = 0.011 (1.1%)\n",
    "- P(Chickenpox | Spots) = P(Spots | Chickenpox) x (P(Chickenpox) / P(Spots) = (0.8 x 0.1) / 0.081 = 0.988 (98.8%)"
   ]
  },
  {
   "cell_type": "markdown",
   "metadata": {},
   "source": [
    "# Bayes Theorem Expanded with Theorem of Total Probability:\n",
    "- P(A|B) = P(B|A) x P(A) / P(B)\n",
    "- Theorem of Total Probability says that P(B) = Sum( P(B|A) x P(A) )\n",
    "- Bayes Theorem: P(A|B) = P(B|A) x P(A) / Sum( P(B|A) x P(A) )"
   ]
  },
  {
   "cell_type": "markdown",
   "metadata": {},
   "source": [
    "### Example 4: Retail Store\n",
    "- 40% of Items are successful: P(S) = 0.40\n",
    "- 60% of Items are unsuccessful: P(S’) = 0.60\n",
    "- 80% of successful Items got Favorable report: P(F|S) = 0.80\n",
    "- 30% of unsuccessful Items got Favorable report: P(F|S’) = 0.30\n",
    "\n",
    "#### What is probability of success if Item got Favorable Report:  P(S|F)\n",
    "- P(S|F) = P(F|S) x P(S) / P(F) = (0.80 x 0.40) / P(F)\n",
    "- Apply Theorem of Total Probability to find P(F):\n",
    "- P(F) = P(F|S) x P(S) + P(F|S’) x P(S’)\n",
    "- P(F) = 0.80 x 0.40 + 0.30 x 0.60 = 0.50\n",
    "- P(S|F) = (0.80 x 0.40) / 0.50 = 0.64\n",
    "\n",
    "#### What is probability of unsuccessful Item if Item got Favorable Report:  P(S’|F)\n",
    "- P(S’|F) = 1 – 0.64 = 0.36"
   ]
  },
  {
   "cell_type": "code",
   "execution_count": null,
   "metadata": {
    "collapsed": true
   },
   "outputs": [],
   "source": []
  }
 ],
 "metadata": {
  "kernelspec": {
   "display_name": "R",
   "language": "R",
   "name": "ir"
  },
  "language_info": {
   "codemirror_mode": "r",
   "file_extension": ".r",
   "mimetype": "text/x-r-source",
   "name": "R",
   "pygments_lexer": "r",
   "version": "3.4.1"
  }
 },
 "nbformat": 4,
 "nbformat_minor": 2
}
