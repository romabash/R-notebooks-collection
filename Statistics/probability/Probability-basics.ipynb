{
 "cells": [
  {
   "cell_type": "markdown",
   "metadata": {},
   "source": [
    "# Probability and Sample Space\n",
    "- Probability of occurence = X/T\n",
    "- X: number of ways an event can occur\n",
    "- T: Total number of possible outcomes (Sample Space)\n",
    "- Sample Space of 1 Die is 1,2,3,4,5,6\n",
    "- x-axis: Sample Space \n",
    "- y-axis: Frequency"
   ]
  },
  {
   "cell_type": "markdown",
   "metadata": {},
   "source": [
    "## Sample Space:\n",
    "- Sample Space of Deck of Cards is 52\n",
    "- What is the probability of drawing an Ace?\n",
    "- 4 Possible Aces out of 52 cards total\n",
    "- P(Card=Ace)= 4/52 =1/13"
   ]
  },
  {
   "cell_type": "markdown",
   "metadata": {},
   "source": [
    "#### Example: 2 dice are tossed\n",
    "- P(Die1+Die2=2)=1/36\n",
    "- P(Die1+Die2=3)=2/36\n",
    "- P(Die1+Die2=4)=3/36\n",
    "- P(Die1+Die2=5)=4/36\n",
    "- P(Die1+Die2=6)=5/36\n",
    "- P(Die1+Die2=7)=6/36\n",
    "- P(Die1+Die2=8)=5/36\n",
    "- P(Die1+Die2=9)=4/36\n",
    "- P(Die1+Die2=10)=3/36\n",
    "- P(Die1+Die2=11)=2/36\n",
    "- P(Die1+Die2=12)=1/36"
   ]
  },
  {
   "cell_type": "code",
   "execution_count": 15,
   "metadata": {},
   "outputs": [
    {
     "data": {
      "image/png": "[encoded data removed]",
      "text/plain": [
       "plot without title"
      ]
     },
     "metadata": {},
     "output_type": "display_data"
    }
   ],
   "source": [
    "combination <- c(2,3,4,5,6,7,8,9,10,11,12)\n",
    "chances <- c(1/36, 2/36, 3/36, 4/36, 5/36, 6/36, 5/36, 4/36, 3/36, 2/36, 1/36)\n",
    "names(chances) <- combination\n",
    "\n",
    "barplot(chances*36)"
   ]
  },
  {
   "cell_type": "markdown",
   "metadata": {},
   "source": [
    "## Complement of Event:\n",
    "- Two events are said to be complementary when one event occurs if and only if the other does not\n",
    "- The probabilities of two complimentary events add up to 1 \n"
   ]
  },
  {
   "cell_type": "markdown",
   "metadata": {},
   "source": [
    "#### Example:\n",
    "- If the probability of an event happening is 2/7\n",
    "- What is the Probability of its Complement: P(A') = 1 - (2/7) = 5/7\n",
    "- What are the odds for that event: (2/7):(5/7) = 2:5\n"
   ]
  },
  {
   "cell_type": "markdown",
   "metadata": {},
   "source": [
    "## Odds:\n",
    "- Odds in favor: p/(1-p)\n",
    "- Odds against: (1-p)/p"
   ]
  },
  {
   "cell_type": "markdown",
   "metadata": {},
   "source": [
    "#### Example: \n",
    "- 5 pink marbles\n",
    "- 2 blue marbles\n",
    "- 8 purple marbles"
   ]
  },
  {
   "cell_type": "markdown",
   "metadata": {},
   "source": [
    "#### Probability and odds of picking a blue marble"
   ]
  },
  {
   "cell_type": "markdown",
   "metadata": {},
   "source": [
    "- Probability = 2/15\n",
    "- Complement, P(A') = 13/15\n",
    "- Odds in Favor: (2/15) / (1 - (2/15)) = 2/13 -> 2:13\n",
    "- Odds against: (1 - (2/15)) / (2/15) = 13/2 -> 13:2"
   ]
  },
  {
   "cell_type": "markdown",
   "metadata": {},
   "source": [
    "<hr>"
   ]
  },
  {
   "cell_type": "markdown",
   "metadata": {},
   "source": [
    "# Probability Rules\n",
    "- Joint probability: Multiplication Rule\n",
    "- Addition Rule: OR Condition between events"
   ]
  },
  {
   "cell_type": "markdown",
   "metadata": {},
   "source": [
    "## Joint Probability: \n",
    "- P(A & B) = P(A) x P(B)\n",
    "- Independent Events: Event 1 and Event 2\n",
    "- Rolling 2 dice: one with 3, another with 4\n",
    "- With 2 Dice, the Sample Space is 36\n",
    "    - P(3) = 6/36\n",
    "    - P(4) = 6/36\n",
    "    - P(3 AND 4) = (6/36)x(6/36) = 1/36\n",
    "- P(A & B) = P(A) x P(B|A)\n",
    "    - Conditional Probability of B given A has already occured\n",
    "    - P(3) = 6/36\n",
    "    - P(4 | 3) = 1/6 - Sample Space is now 6, because Event 1 has already happened\n",
    "    - P(3 AND 4) = (6/36)x(1/6) = 1/36"
   ]
  },
  {
   "cell_type": "markdown",
   "metadata": {},
   "source": [
    "## Addition Rule:\n",
    "- P(A or B) = P(A) + P(B) – P(A and B)\n",
    "    - Subtract the probability of oth Events happeneing\n",
    "- Rolling 2 dice: one with 3, another with 4\n",
    "- With 2 Dice, the Sample Space is 36\n",
    "    - P(3) = 6/36\n",
    "    - P(4) = 6/36\n",
    "    - P(3 AND 4) = (6/36)x(6/36) = 1/36\n",
    "    - P(3 OR 4) = (6/36) + (6/36) - (1/36) = 11/36"
   ]
  },
  {
   "cell_type": "markdown",
   "metadata": {},
   "source": [
    "### Example Data Set:"
   ]
  },
  {
   "cell_type": "markdown",
   "metadata": {
    "collapsed": true
   },
   "source": [
    "|               |    Age: 18-24    |  Age: 25-64 | Age: > 65  |  Total  |\n",
    "| --------------|------------------|-------------|------------|---------|\n",
    "| Married       |3,046             | 48,116      | 7,767      | 58,929  |\n",
    "| Never Married |9,289             | 9,252       | 768        | 19,309  |\n",
    "| Widowed       |19                | 2,425       | 8,636      | 11,080  |\n",
    "| Divorced      |260               | 8,916       | 1,091      | 10,267  |\n",
    "|            ---|               ---|          ---|         ---|      ---|\n",
    "| Total         |12,614            | 68,709      | 18,262     | 99,585  |\n"
   ]
  },
  {
   "cell_type": "markdown",
   "metadata": {},
   "source": [
    "### Example: Joint probability"
   ]
  },
  {
   "cell_type": "markdown",
   "metadata": {},
   "source": [
    "- P(A & B) = P(A) x P(B|A)\n",
    "- P(Widowed AND at least 65) = (8,636/99,585) = 0.087\n",
    "- Using Conditional Probability Method: \n",
    "    - Sample Space decreases to Sample Space of that Conditional Event\n",
    "    - P(Widowed) x P(>65 | Widowed) = (11,080)/(99,585) x (8,636)/(11,080) = 0.087 "
   ]
  },
  {
   "cell_type": "markdown",
   "metadata": {},
   "source": [
    "### Example: Addition Rule"
   ]
  },
  {
   "cell_type": "markdown",
   "metadata": {},
   "source": [
    "- P(A or B) = P(A) + P(B) – P(A and B)\n",
    "- P(Widowed OR at least 65)\n",
    "- (11,080/99,585) + (18,262/99,585) - (8,636/99,585) = 0.2079"
   ]
  },
  {
   "cell_type": "markdown",
   "metadata": {},
   "source": [
    "<hr>"
   ]
  },
  {
   "cell_type": "markdown",
   "metadata": {},
   "source": [
    "# Conditional Probability\n",
    "- P(A | B)\n",
    "- Can also be expressed as: P(A and B) / P(B)\n",
    "- Given that event B is true\n",
    "- What is the probability of A"
   ]
  },
  {
   "cell_type": "markdown",
   "metadata": {},
   "source": [
    "### Example Data Set:"
   ]
  },
  {
   "cell_type": "markdown",
   "metadata": {
    "collapsed": true
   },
   "source": [
    "|               |    Age: 18-24    |  Age: 25-64 | Age: > 65  |  Total  |\n",
    "| --------------|------------------|-------------|------------|---------|\n",
    "| Married       |3,046             | 48,116      | 7,767      | 58,929  |\n",
    "| Never Married |9,289             | 9,252       | 768        | 19,309  |\n",
    "| Widowed       |19                | 2,425       | 8,636      | 11,080  |\n",
    "| Divorced      |260               | 8,916       | 1,091      | 10,267  |\n",
    "|            ---|               ---|          ---|         ---|      ---|\n",
    "| Total         |12,614            | 68,709      | 18,262     | 99,585  |\n"
   ]
  },
  {
   "cell_type": "markdown",
   "metadata": {},
   "source": [
    "### Example: Conditional vs Joint Probability:"
   ]
  },
  {
   "cell_type": "markdown",
   "metadata": {},
   "source": [
    "- P(Married) = (58,929/99,585) = 0.592\n",
    "- P(Married | Age: 18-24) = (3,046/12,614) = 0.241\n",
    "    - Sample Space descreases\n",
    "- P(Married AND Age: 18-24) = (3,046/99,585) = 0.031\n",
    "    - Sample Space stays the same"
   ]
  },
  {
   "cell_type": "markdown",
   "metadata": {},
   "source": [
    "#### Calculating Conditional P(Married | Age: 18-24) based on P(A and B) / P(B)"
   ]
  },
  {
   "cell_type": "markdown",
   "metadata": {},
   "source": [
    "- P(Age: 18-24) = (12,614/99585) = 0.127\n",
    "- P(Married | Age: 18-24) = P(Married AND Age: 18-24) / P(Age: 18-24)\n",
    "    - (3,046/99,585) * (99,585/12,614) = 0.241"
   ]
  },
  {
   "cell_type": "code",
   "execution_count": null,
   "metadata": {
    "collapsed": true
   },
   "outputs": [],
   "source": []
  }
 ],
 "metadata": {
  "kernelspec": {
   "display_name": "R",
   "language": "R",
   "name": "ir"
  },
  "language_info": {
   "codemirror_mode": "r",
   "file_extension": ".r",
   "mimetype": "text/x-r-source",
   "name": "R",
   "pygments_lexer": "r",
   "version": "3.4.1"
  }
 },
 "nbformat": 4,
 "nbformat_minor": 2
}
