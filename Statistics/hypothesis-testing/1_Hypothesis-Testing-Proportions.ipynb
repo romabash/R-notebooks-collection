{
 "cells": [
  {
   "cell_type": "markdown",
   "metadata": {},
   "source": [
    "# Hypothesis Testing: Proportion\n",
    "- A hypothesis is a statement regarding a characteristics of population\n",
    "- Hypothesis testing is a procedure based on sample evidence used to test the characteristics of population"
   ]
  },
  {
   "cell_type": "markdown",
   "metadata": {},
   "source": [
    "### Hypotheses\n",
    "- Null hypotheses – H(0): parameter = hypothesized value\n",
    "- Alternative Hypotheses – H(A): parameter = new value\n",
    "- Based on the observations, should the alternative hypotheses be accepted?"
   ]
  },
  {
   "cell_type": "markdown",
   "metadata": {},
   "source": [
    "## Procedure for Hypotheses Testing\n",
    "1. Hypotheses\n",
    "2. Model\n",
    "3. Mechanics\n",
    "4. Conclusion\n",
    "\n",
    "#### 1. Hypothesis:\n",
    "- Null Hypothesis: H(0): p=p(0)\n",
    "- Alternate Hypothesis: H(A): p = p(1)\n",
    "\n",
    "#### 2. Model:\n",
    "- Independence Assumption: The choice of proportion is independent\n",
    "- Randomization Condition: Sample is collected randomly\n",
    "- 10% Condition: Sample should be less than 10%\n",
    "- Success/Failure Condition: Should be greater than 10\n",
    "\n",
    "#### 3. Mechanics:\n",
    "- Model: One-proportion z-test\n",
    "- Compute the p-value\n",
    "- sigma = Sqrt(p0 * q0/n)\n",
    "- z = (p1 – p0)/sigma(p1)\n",
    "\n",
    "#### 4. Conclusion:\n",
    "- If p-value is very low, reject the Null Hypothesis"
   ]
  },
  {
   "cell_type": "markdown",
   "metadata": {},
   "source": [
    "## Example #1: Birth Rate\n",
    "- Has Male birth rate in India increased?\n",
    "\n",
    "#### 1. Hypothesis:\n",
    "- Null Hypotheses:\n",
    "    - P0=51.7% for male live births\n",
    "    - H0 : p = 51.7%\n",
    "- Sample – evidence:\n",
    "    - Sample size = 550 live births\n",
    "    - Male births = 56.9%\n",
    "- Alternate Hypotheses:\n",
    "    - HA: p > 51.7%\n",
    "    \n",
    "#### 2. Model\n",
    "- Independence Assumption: Sex of one baby cannot affect the sex of other baby\n",
    "- Randomization Condition: 550 live births are random\n",
    "- 10% Condition: 550 are less than 10% of the total births\n",
    "- Success/Failure Rate:\n",
    "    - 550*51.7 = 284\n",
    "    - 550*48.3 = 265\n",
    "    - Values are greater than 10"
   ]
  },
  {
   "cell_type": "markdown",
   "metadata": {},
   "source": [
    "#### 3. Machanics:"
   ]
  },
  {
   "cell_type": "code",
   "execution_count": 1,
   "metadata": {},
   "outputs": [
    {
     "data": {
      "text/html": [
       "0.00733495181777825"
      ],
      "text/latex": [
       "0.00733495181777825"
      ],
      "text/markdown": [
       "0.00733495181777825"
      ],
      "text/plain": [
       "[1] 0.007334952"
      ]
     },
     "metadata": {},
     "output_type": "display_data"
    }
   ],
   "source": [
    "p <- 0.517\n",
    "q <- 1 - p\n",
    " \n",
    "n <- 550\n",
    "pHat <- 0.569\n",
    " \n",
    "sigma <- sqrt(p*q/n) #0.213\n",
    " \n",
    "z <- (pHat - p)/sigma #2.44\n",
    "pnorm(z, lower.tail=FALSE) #0.007 (0.7%)"
   ]
  },
  {
   "cell_type": "markdown",
   "metadata": {},
   "source": [
    "#### 4. Conclusion:\n",
    "- Since p-value is 0.007 (0.7%) is very small, Reject the Null Hypotheses\n",
    "- Can conclude that Male birth rate has increased in India"
   ]
  },
  {
   "cell_type": "markdown",
   "metadata": {},
   "source": [
    "## Example #2: Home Field Advantage in Sports\n",
    "- A team wins 50% of the time:\n",
    "    - H0: p = 0.50\n",
    "- Sample evidence:\n",
    "    - Home team won 1327 of 2419 games\n",
    "    - 54.86%: HA: p > 0.50"
   ]
  },
  {
   "cell_type": "code",
   "execution_count": 2,
   "metadata": {},
   "outputs": [
    {
     "data": {
      "text/html": [
       "8.73778237830687e-07"
      ],
      "text/latex": [
       "8.73778237830687e-07"
      ],
      "text/markdown": [
       "8.73778237830687e-07"
      ],
      "text/plain": [
       "[1] 8.737782e-07"
      ]
     },
     "metadata": {},
     "output_type": "display_data"
    }
   ],
   "source": [
    "p <- 0.50\n",
    "q <- 1 - p\n",
    " \n",
    "n <- 2419\n",
    "pHat <- 0.5486\n",
    " \n",
    "sigma <- sqrt(p*q/n) #0.0102\n",
    " \n",
    "z <- (pHat - p)/sigma #4.78\n",
    "pnorm(z, lower.tail=FALSE) #8.737782e-07"
   ]
  },
  {
   "cell_type": "markdown",
   "metadata": {},
   "source": [
    "- Since p-value is very low (0.01%), Reject Null Hypothesis\n",
    "- Conclusion: Teams win more at home"
   ]
  }
 ],
 "metadata": {
  "kernelspec": {
   "display_name": "R",
   "language": "R",
   "name": "ir"
  },
  "language_info": {
   "codemirror_mode": "r",
   "file_extension": ".r",
   "mimetype": "text/x-r-source",
   "name": "R",
   "pygments_lexer": "r",
   "version": "3.4.1"
  }
 },
 "nbformat": 4,
 "nbformat_minor": 2
}
