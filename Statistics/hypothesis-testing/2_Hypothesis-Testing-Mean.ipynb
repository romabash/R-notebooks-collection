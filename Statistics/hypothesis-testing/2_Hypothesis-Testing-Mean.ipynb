{
 "cells": [
  {
   "cell_type": "markdown",
   "metadata": {},
   "source": [
    "# Hypothesis Testing: Mean\n",
    "- When sigma is know"
   ]
  },
  {
   "cell_type": "markdown",
   "metadata": {},
   "source": [
    "## Hypothesis Testing\n",
    "- Left-tailed test: Area to the left\n",
    "    - H1 is less than H0\n",
    "- Right-tailed test: Area to the right\n",
    "    - H1 is greater than H0\n",
    "- Two-tailed test: Area to the left and to the right\n",
    "    - H1 does not equal to H0"
   ]
  },
  {
   "cell_type": "markdown",
   "metadata": {},
   "source": [
    "### Level of Significance\n",
    "|       Test          | Significance = 0.05 |  z-value    |\n",
    "| :-------------------|:-------------------:|:-----------:|\n",
    "| Left-tailed test    |z(0.05)              | -1.64       |\n",
    "| Right-tailed test   |z(0.05)              | 1.64        |\n",
    "| Two-tailed test     |z(0.025) , z(0.975)  | -1.96, 1.96 |"
   ]
  },
  {
   "cell_type": "markdown",
   "metadata": {},
   "source": [
    "## Method of Testing\n",
    "1. Classical Approach:\n",
    "    - Compute the z value of the sample\n",
    "    - Compute the z-value of the significance\n",
    "    - Compare the z-values\n",
    "2. p-Value Approach\n",
    "    - Compute the p-value of the sample\n",
    "    - Significance is already given in p-values\n",
    "    - Compare the p-values"
   ]
  },
  {
   "cell_type": "markdown",
   "metadata": {},
   "source": [
    "## Example 1: (Sigma is Known) SAT Exam: Right-tailed test\n",
    "- Statement:\n",
    "    - Student with 4 years of High School English, do better in SAT: Right-tailed test\n",
    "- Population statistics:\n",
    "     - Mean = 515\n",
    "     - Sigma = 114\n",
    "- Sample statistics:\n",
    "    - Sample size, n = 40\n",
    "    - Sample Mean = 540\n",
    "- Level of Significance = 0.05\n",
    "- Hypothesis\n",
    "    - H0: u0 = 515\n",
    "    - H1: u1 > 515 (540)"
   ]
  },
  {
   "cell_type": "markdown",
   "metadata": {},
   "source": [
    "#### Solution: Classical approach:"
   ]
  },
  {
   "cell_type": "code",
   "execution_count": 1,
   "metadata": {},
   "outputs": [
    {
     "data": {
      "text/html": [
       "FALSE"
      ],
      "text/latex": [
       "FALSE"
      ],
      "text/markdown": [
       "FALSE"
      ],
      "text/plain": [
       "[1] FALSE"
      ]
     },
     "metadata": {},
     "output_type": "display_data"
    }
   ],
   "source": [
    "pop.mean <- 515\n",
    "sigma <- 114\n",
    " \n",
    "n <- 40\n",
    "sample.mean <- 540\n",
    "sample.sd <- sigma/sqrt(n) #18.02\n",
    "\n",
    "# Find Sample z-value\n",
    "sample.z <- (sample.mean - pop.mean)/sample.sd #1.39\n",
    "\n",
    "# Find Significance z-value\n",
    "sig <- 0.05\n",
    "sig.z <- qnorm(sig, lower.tail=FALSE) #1.64\n",
    "\n",
    "# Compare z-values\n",
    "sample.z > sig.z #FALSE: CANNOT reject null hypothesis"
   ]
  },
  {
   "cell_type": "markdown",
   "metadata": {},
   "source": [
    "#### Solution: p-value approach:"
   ]
  },
  {
   "cell_type": "code",
   "execution_count": 2,
   "metadata": {},
   "outputs": [
    {
     "data": {
      "text/html": [
       "FALSE"
      ],
      "text/latex": [
       "FALSE"
      ],
      "text/markdown": [
       "FALSE"
      ],
      "text/plain": [
       "[1] FALSE"
      ]
     },
     "metadata": {},
     "output_type": "display_data"
    }
   ],
   "source": [
    "# Population Stats:\n",
    "pop.mean <- 515\n",
    "sigma <- 114\n",
    "\n",
    "# Sample Stats:\n",
    "n <- 40\n",
    "sample.mean <- 540\n",
    "sample.sd <- sigma/sqrt(n) #18.02\n",
    " \n",
    "# Find p-value of Sample\n",
    "sample.z <- (sample.mean - pop.mean)/sample.sd #1.39\n",
    "sample.p <- pnorm(sample.z, lower.tail=FALSE) #0.082\n",
    "\n",
    "#Compare p-values: is it significant enough:\n",
    "sig <- 0.05\n",
    "sample.p < sig"
   ]
  },
  {
   "cell_type": "markdown",
   "metadata": {},
   "source": [
    "- p-value not significant enough: 0.0823 > 0.05\n",
    "- Probability is high enough that it can happen"
   ]
  },
  {
   "cell_type": "markdown",
   "metadata": {},
   "source": [
    "## Example 2: (Sigma is Known) Phone Bill: Two-tailed test\n",
    "- Statement:\n",
    "    - Today’s average phone bill is not the same as in 2004: Two-tailed test\n",
    "- Population statistics:\n",
    "    -  Mean = 50.64\n",
    "    - Sigma = 18.49\n",
    "- Sample statistics:\n",
    "    - Sample size, n = 12\n",
    "    - Sample Mean = 65.01\n",
    "- Level of Significance = 0.05\n",
    "- Hypothesis\n",
    "    - H0: u0 = 50.64\n",
    "    - H1: u1 does not equal to 50.64"
   ]
  },
  {
   "cell_type": "markdown",
   "metadata": {},
   "source": [
    "#### Solution: Classical approach:"
   ]
  },
  {
   "cell_type": "code",
   "execution_count": 3,
   "metadata": {},
   "outputs": [
    {
     "data": {
      "text/html": [
       "TRUE"
      ],
      "text/latex": [
       "TRUE"
      ],
      "text/markdown": [
       "TRUE"
      ],
      "text/plain": [
       "[1] TRUE"
      ]
     },
     "metadata": {},
     "output_type": "display_data"
    }
   ],
   "source": [
    "# Population Stats:\n",
    "pop.mean <- 50.64\n",
    "sigma <- 18.49\n",
    "\n",
    "# Sample Stats:\n",
    "n <- 12\n",
    "sample.mean <- 65.01\n",
    "sample.sd <- sigma/sqrt(n) #5.34\n",
    "\n",
    "# Find Sample z-value\n",
    "sample.z <- (sample.mean - pop.mean)/sample.sd #2.69\n",
    "\n",
    "# Find Significance z-value: Since two-tailed, divide by 2\n",
    "sig <- 0.05\n",
    "sig.z.right <- qnorm(sig/2, lower.tail=FALSE) #1.96\n",
    "sig.z.left <- qnorm(sig/2, lower.tail=TRUE) #-1.96\n",
    " \n",
    "# Check to see if Sample z-value falls within both corners\n",
    "sample.z > sig.z.right || sample.z < sig.z.left # TRUE: Can reject null hypothesis"
   ]
  },
  {
   "cell_type": "markdown",
   "metadata": {},
   "source": [
    "#### Solution: p-value approach:"
   ]
  },
  {
   "cell_type": "code",
   "execution_count": 4,
   "metadata": {},
   "outputs": [
    {
     "data": {
      "text/html": [
       "TRUE"
      ],
      "text/latex": [
       "TRUE"
      ],
      "text/markdown": [
       "TRUE"
      ],
      "text/plain": [
       "[1] TRUE"
      ]
     },
     "metadata": {},
     "output_type": "display_data"
    }
   ],
   "source": [
    "# Population Stats:\n",
    "pop.mean <- 50.64\n",
    "sigma <- 18.49\n",
    "\n",
    "# Sample Stats:\n",
    "n <- 12\n",
    "sample.mean <- 65.01\n",
    "sample.sd <- sigma/sqrt(n) #5.34\n",
    " \n",
    "# Find p-value of Sample: Both corners\n",
    "sample.z <- (sample.mean - pop.mean)/sample.sd #2.69\n",
    "sample.p.right <- pnorm(sample.z, lower.tail=FALSE) #0.0035\n",
    "sample.p.left <- pnorm(sample.z, lower.tail=TRUE) #0.9964\n",
    "\n",
    "# Miltiply the actual p-value (left in this case) by 2\n",
    "p <- c(sample.p.left, sample.p.right)\n",
    "p.value <- min(p)*2 #0.0071\n",
    "\n",
    "# Check if p-value is less than significance:\n",
    "p.value < sig #TRUE, Reject Null Hypothesis"
   ]
  },
  {
   "cell_type": "markdown",
   "metadata": {},
   "source": [
    "- Probability (0.0071) is too low of that happening based on population data: Reject the Null Hypothesis"
   ]
  },
  {
   "cell_type": "markdown",
   "metadata": {},
   "source": [
    "<hr>"
   ]
  },
  {
   "cell_type": "markdown",
   "metadata": {},
   "source": [
    "# Hypothesis Testing: Mean\n",
    "- When sigma is NOT know\n",
    "- Replace z-statistics with t-statistics"
   ]
  },
  {
   "cell_type": "markdown",
   "metadata": {},
   "source": [
    "## Example 3: (Sigma is NOT Known) Number of cigarettes smoked a day: Left-tailed test\n",
    "- Statement:\n",
    "    - Do retired people smoke less than 18.1 cigarettes\n",
    "- Population statistics:\n",
    "    - Mean = 18.1\n",
    "    - Sigma = NOT known\n",
    "- Sample statistics:\n",
    "    - Sample size, n = 40\n",
    "    - Sample Mean = 16.8\n",
    "    - Sample SD = 4.7\n",
    "- Level of Significance = 0.1\n",
    "- Hypothesis\n",
    "    - H0: u0 = 18.1\n",
    "    - H1: u1 < 18.1 (16.8)"
   ]
  },
  {
   "cell_type": "markdown",
   "metadata": {},
   "source": [
    "#### Solution: Classical approach (t-statistics):"
   ]
  },
  {
   "cell_type": "code",
   "execution_count": 5,
   "metadata": {},
   "outputs": [
    {
     "data": {
      "text/html": [
       "TRUE"
      ],
      "text/latex": [
       "TRUE"
      ],
      "text/markdown": [
       "TRUE"
      ],
      "text/plain": [
       "[1] TRUE"
      ]
     },
     "metadata": {},
     "output_type": "display_data"
    }
   ],
   "source": [
    "# Population Stats:\n",
    "pop.mean <- 18.1\n",
    " \n",
    "# Sample Stats:\n",
    "n <- 40\n",
    "degree.freedom <- n - 1\n",
    "sample.mean <- 16.8\n",
    "sample.sd <- 4.7\n",
    " \n",
    "# Find Sample t-value\n",
    "sample.t <- (sample.mean - pop.mean)/(sample.sd/sqrt(n)) #-1.75\n",
    " \n",
    "# Find Significance t-value\n",
    "sig <- 0.1\n",
    "sig.t <- qt(sig, degree.freedom, lower.tail=TRUE) #-1.304\n",
    " \n",
    "# Compare t-values\n",
    "sample.t < sig.t #TRUE: Can reject null hypothesis"
   ]
  },
  {
   "cell_type": "markdown",
   "metadata": {},
   "source": [
    "#### Solution: p-value approach:"
   ]
  },
  {
   "cell_type": "code",
   "execution_count": 6,
   "metadata": {},
   "outputs": [
    {
     "data": {
      "text/html": [
       "TRUE"
      ],
      "text/latex": [
       "TRUE"
      ],
      "text/markdown": [
       "TRUE"
      ],
      "text/plain": [
       "[1] TRUE"
      ]
     },
     "metadata": {},
     "output_type": "display_data"
    }
   ],
   "source": [
    "# Population Stats:\n",
    "pop.mean <- 18.1\n",
    " \n",
    "# Sample Stats:\n",
    "n <- 40\n",
    "degree.freedom <- n - 1\n",
    "sample.mean <- 16.8\n",
    "sample.sd <- 4.7\n",
    " \n",
    "# Find p-value of Sample\n",
    "sample.t <- (sample.mean - pop.mean)/(sample.sd/sqrt(n)) #-1.75\n",
    "sample.p <- pt(sample.t, degree.freedom, lower.tail=TRUE) #0.044\n",
    "\n",
    "# Check if p-value is less than significance:\n",
    "sig <- 0.1\n",
    "sample.p < sig"
   ]
  },
  {
   "cell_type": "markdown",
   "metadata": {},
   "source": [
    "- p value: 0.044 < 0.05: Reject Null Hypothesis"
   ]
  },
  {
   "cell_type": "markdown",
   "metadata": {},
   "source": [
    "<hr>"
   ]
  },
  {
   "cell_type": "markdown",
   "metadata": {},
   "source": [
    "# Type 1 and Type 2 Errors"
   ]
  },
  {
   "cell_type": "markdown",
   "metadata": {},
   "source": [
    "|     Conclusion      | H0 is TRUE          |  H1 is TRUE        |\n",
    "|:-------------------:|:-------------------:|:------------------:|\n",
    "| Do NOT Reject       |Correct Conclusion   | Type 2 Error       |\n",
    "| Reject              |Type 1 Error         | Correct Conclusion |"
   ]
  },
  {
   "cell_type": "markdown",
   "metadata": {},
   "source": [
    "## Level of Significance\n",
    "- The level of significance 𝛼 is the probability of making Type 1 error\n",
    "- Level of Significance:\n",
    "    - 0.01 : CI 99%\n",
    "    - 0.05 : CI 95%\n",
    "    - 0.10 : CI 90%\n",
    "- If 𝛼 is very small = 0.01\n",
    "    - Reduces the probability of making Type 1 error\n",
    "- Then 𝛽 will become large\n",
    "    - Probability of making the Type II error will increase "
   ]
  }
 ],
 "metadata": {
  "kernelspec": {
   "display_name": "R",
   "language": "R",
   "name": "ir"
  },
  "language_info": {
   "codemirror_mode": "r",
   "file_extension": ".r",
   "mimetype": "text/x-r-source",
   "name": "R",
   "pygments_lexer": "r",
   "version": "3.4.1"
  }
 },
 "nbformat": 4,
 "nbformat_minor": 2
}
