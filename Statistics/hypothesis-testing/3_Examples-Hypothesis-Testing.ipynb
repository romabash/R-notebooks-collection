{
 "cells": [
  {
   "cell_type": "markdown",
   "metadata": {},
   "source": [
    "# Fundamental of Hypothesis Testing:\n",
    "- Classical approach:\n",
    "    1. Based on Significance level, find the left and/or right z values: qnorm() function\n",
    "    2. Find Sample z-value: (Sample.mean - Pop.mean)/Sample.sd\n",
    "    3. Compare to see if Sample z-value is less than the left z-value or higher than the right z-value\n",
    "- p-value approach:\n",
    "    1. Find Sample z-value: (Sample.mean - Pop.mean)/Sample.sd\n",
    "    2. Find p-value based on the z-value: pnorm() function\n",
    "    3. Compare if p-value is less than the Significance value"
   ]
  },
  {
   "cell_type": "markdown",
   "metadata": {},
   "source": [
    "## Example 1: What is the p-value if, in a two-tailed hypothesis test z = -1.38\n",
    "- In two-tail test, find the p-value of the right tail and p-value of the left tail.  Multiply the actual p-value (left or right) by 2"
   ]
  },
  {
   "cell_type": "code",
   "execution_count": 1,
   "metadata": {},
   "outputs": [
    {
     "data": {
      "text/html": [
       "0.167586644830029"
      ],
      "text/latex": [
       "0.167586644830029"
      ],
      "text/markdown": [
       "0.167586644830029"
      ],
      "text/plain": [
       "[1] 0.1675866"
      ]
     },
     "metadata": {},
     "output_type": "display_data"
    }
   ],
   "source": [
    "# Given:\n",
    "z <- -1.38\n",
    "\n",
    "# Find left and right p-values\n",
    "p.left <- pnorm(z) #0.084\n",
    "p.right <- pnorm(z, lower.tail=FALSE) #0.92\n",
    "\n",
    "#Miltiply the actual p-value (left in this case) by 2\n",
    "p <- c(p.left, p.right)\n",
    "p.value <- min(p)*2\n",
    "p.value"
   ]
  },
  {
   "cell_type": "markdown",
   "metadata": {},
   "source": [
    "## Example 2: What decision will be made if z = 2.21? \n",
    "- Two-tailed hypothesis test \n",
    "- Significance level of 0.05"
   ]
  },
  {
   "cell_type": "markdown",
   "metadata": {},
   "source": [
    "#### Classical approach: Sample z has to be higher than the right tail z-value or lower than the left tail z-value"
   ]
  },
  {
   "cell_type": "code",
   "execution_count": 2,
   "metadata": {},
   "outputs": [
    {
     "data": {
      "text/html": [
       "TRUE"
      ],
      "text/latex": [
       "TRUE"
      ],
      "text/markdown": [
       "TRUE"
      ],
      "text/plain": [
       "[1] TRUE"
      ]
     },
     "metadata": {},
     "output_type": "display_data"
    },
    {
     "data": {
      "text/html": [
       "FALSE"
      ],
      "text/latex": [
       "FALSE"
      ],
      "text/markdown": [
       "FALSE"
      ],
      "text/plain": [
       "[1] FALSE"
      ]
     },
     "metadata": {},
     "output_type": "display_data"
    },
    {
     "data": {
      "text/html": [
       "TRUE"
      ],
      "text/latex": [
       "TRUE"
      ],
      "text/markdown": [
       "TRUE"
      ],
      "text/plain": [
       "[1] TRUE"
      ]
     },
     "metadata": {},
     "output_type": "display_data"
    }
   ],
   "source": [
    "# Sample Stats:\n",
    "sample.z <- 2.21\n",
    " \n",
    "# Since it's a two-tailed t-test, divide significance by half:\n",
    "sig <- 0.05\n",
    "sig.left <- sig/2 #0.025\n",
    "sig.right <- sig/2 #0.025\n",
    " \n",
    "# Find Sample z-value\n",
    "sig.z.left <- qnorm(sig.left) #-1.96\n",
    "sig.z.right <- qnorm(sig.right, lower.tail=FALSE) #1.96\n",
    " \n",
    "#Check to see if Sample z-value falls within both corners\n",
    "sample.z > sig.z.right #TRUE\n",
    "sample.z < sig.z.left #FALSE\n",
    " \n",
    "sample.z > sig.z.right || sample.z < sig.z.left #TRUE"
   ]
  },
  {
   "cell_type": "markdown",
   "metadata": {},
   "source": [
    "- Since Sample z-value is higher than Significance z-value of the right tail, Reject Null Hypothesis"
   ]
  },
  {
   "cell_type": "markdown",
   "metadata": {},
   "source": [
    "#### p-value approach:"
   ]
  },
  {
   "cell_type": "code",
   "execution_count": 3,
   "metadata": {},
   "outputs": [
    {
     "data": {
      "text/html": [
       "TRUE"
      ],
      "text/latex": [
       "TRUE"
      ],
      "text/markdown": [
       "TRUE"
      ],
      "text/plain": [
       "[1] TRUE"
      ]
     },
     "metadata": {},
     "output_type": "display_data"
    }
   ],
   "source": [
    "# Sample Stats:\n",
    "sample.z <- 2.21\n",
    " \n",
    "# Find p-value of Sample: Miltiply the actual p-value (left in this case) by 2\n",
    "sample.p.left <- pnorm(sample.z, lower.tail=TRUE) #0.986\n",
    "sample.p.right <- pnorm(sample.z, lower.tail=FALSE) #0.0136\n",
    "p <- c(sample.p.left, sample.p.right)\n",
    "p.value <- min(p)*2\n",
    " \n",
    "# Check if p-value is less than significance:\n",
    "sig <- 0.05\n",
    "p.value < sig #TRUE, Reject Null Hypothesis"
   ]
  },
  {
   "cell_type": "markdown",
   "metadata": {},
   "source": [
    "- TRUE: Reject Null Hypothesis"
   ]
  },
  {
   "cell_type": "markdown",
   "metadata": {},
   "source": [
    "## Example 3: (Sigma Known) – Amount of water in a 1-gallon bottle: Two-tail test\n",
    "- Population Mean = 1\n",
    "- Population SD = 0.02 gallons\n",
    "- Sample size = 50\n",
    "- Sample Mean = 0.995 gallon"
   ]
  },
  {
   "cell_type": "markdown",
   "metadata": {},
   "source": [
    "### a) With significance of 0.01, Is there evidence that the mean amount is different from 1.0 gallon?\n",
    "#### Classical approach using z-values:"
   ]
  },
  {
   "cell_type": "code",
   "execution_count": 4,
   "metadata": {},
   "outputs": [
    {
     "data": {
      "text/html": [
       "FALSE"
      ],
      "text/latex": [
       "FALSE"
      ],
      "text/markdown": [
       "FALSE"
      ],
      "text/plain": [
       "[1] FALSE"
      ]
     },
     "metadata": {},
     "output_type": "display_data"
    }
   ],
   "source": [
    "# Population Stats:\n",
    "pop.mean <- 1\n",
    "sigma <- 0.02\n",
    "\n",
    "# Sample Stats:\n",
    "n <- 50\n",
    "sample.mean <- 0.995\n",
    "sample.sd <- sigma/(sqrt(n)) #0.0028\n",
    "\n",
    "# Find Sample z-value\n",
    "sample.z <- (sample.mean - pop.mean)/sample.sd #-1.77\n",
    "\n",
    "# Find Significance z-value\n",
    "sig <- 0.01\n",
    "sig.left <- sig/2 #0.005\n",
    "sig.right <- sig/2 #0.005\n",
    " \n",
    "sig.z.left <- qnorm(sig.left) #-2.58\n",
    "sig.z.right <- qnorm(sig.right, lower.tail=FALSE) #2.58\n",
    " \n",
    "# Check to see if Sample z-value falls within both corners \n",
    "sample.z > sig.z.right || sample.z < sig.z.left "
   ]
  },
  {
   "cell_type": "markdown",
   "metadata": {},
   "source": [
    "- FALSE: CANNOT Reject Null Hypothesis. Mean amount is NOT different from 1.0 gallon"
   ]
  },
  {
   "cell_type": "markdown",
   "metadata": {},
   "source": [
    "#### p-value approach: Find p of the left and the right, compare to the significance"
   ]
  },
  {
   "cell_type": "code",
   "execution_count": 5,
   "metadata": {},
   "outputs": [
    {
     "data": {
      "text/html": [
       "FALSE"
      ],
      "text/latex": [
       "FALSE"
      ],
      "text/markdown": [
       "FALSE"
      ],
      "text/plain": [
       "[1] FALSE"
      ]
     },
     "metadata": {},
     "output_type": "display_data"
    }
   ],
   "source": [
    "#Population Stats:\n",
    "pop.mean <- 1\n",
    "pop.sd <- 0.02\n",
    "\n",
    "#Sample Stats:\n",
    "n <- 50\n",
    "sample.mean <- 0.995\n",
    "sample.sd <- pop.sd/(sqrt(n)) #0.0028\n",
    "\n",
    "# Find Sample z-value\n",
    "sample.z <- (sample.mean - pop.mean)/sample.sd #-1.77\n",
    " \n",
    "# Find p-value of Sample: Both corners, Miltiply the actual p-value (left in this case) by 2\n",
    "sample.p.left <- pnorm(sample.z) #0.0385 \n",
    "sample.p.right <- pnorm(sample.z, lower.tail=FALSE) #0.961\n",
    "p <- c(sample.p.left, sample.p.right)\n",
    "p.value <- min(p)*2 #0.077\n",
    " \n",
    "# Check if p-value is less than significance:\n",
    "sig <- 0.01\n",
    "p.value < sig #FALSE, CANNOT Reject Null Hypothesis"
   ]
  },
  {
   "cell_type": "markdown",
   "metadata": {},
   "source": [
    "- FALSE: CANNOT Reject Null Hypothesis. High enough probability that this can happen by chance"
   ]
  },
  {
   "cell_type": "markdown",
   "metadata": {},
   "source": [
    "### b) Construct a 99% confidence interval estimate of the population mean amount of water per bottle"
   ]
  },
  {
   "cell_type": "code",
   "execution_count": 6,
   "metadata": {},
   "outputs": [
    {
     "data": {
      "text/html": [
       "<span style=white-space:pre-wrap>'0.987714454529126  to  1.00228554547087'</span>"
      ],
      "text/latex": [
       "'0.987714454529126  to  1.00228554547087'"
      ],
      "text/markdown": [
       "<span style=white-space:pre-wrap>'0.987714454529126  to  1.00228554547087'</span>"
      ],
      "text/plain": [
       "[1] \"0.987714454529126  to  1.00228554547087\""
      ]
     },
     "metadata": {},
     "output_type": "display_data"
    }
   ],
   "source": [
    "#Population Stats:\n",
    "pop.mean <- 1\n",
    "sigma <- 0.02\n",
    "\n",
    "#Sample Stats:\n",
    "n <- 50\n",
    "sample.mean <- 0.995\n",
    "sample.sd <- sigma/(sqrt(n)) #0.0028\n",
    "\n",
    "# Find Sample z-value\n",
    "sample.z <- (sample.mean - pop.mean)/sample.sd #-1.77\n",
    " \n",
    "#Compute Margin of Error:\n",
    "confidence <- 0.99\n",
    "z <- abs(qnorm((1-confidence)/2)) #2.58, same as sig.z.right and sig.z.left\n",
    "std.error <- sigma/sqrt(n)   \n",
    "margin.error <- z * std.error #0.0073\n",
    " \n",
    "lower.interval <- sample.mean - margin.error\n",
    "upper.interval <- sample.mean + margin.error\n",
    "paste(lower.interval, \" to \", upper.interval) #0.99  to  1.00"
   ]
  },
  {
   "cell_type": "markdown",
   "metadata": {},
   "source": [
    "- 99% Confidence that there are 0.99 to 1.00 Gallons of Water "
   ]
  },
  {
   "cell_type": "markdown",
   "metadata": {},
   "source": [
    "## Example 4: (Sigma NOT known) – Savings from buying online: Two-tail test\n",
    "- Sample Size = 100\n",
    "- Sample Mean savings = 58 dollars\n",
    "- Sample SD = 55 dollars"
   ]
  },
  {
   "cell_type": "markdown",
   "metadata": {},
   "source": [
    "### With Significance of 0.05,  Is there evidence that Population Mean savings is different from 50 dollars?"
   ]
  },
  {
   "cell_type": "markdown",
   "metadata": {},
   "source": [
    "#### Classical approach using z-values:"
   ]
  },
  {
   "cell_type": "code",
   "execution_count": 7,
   "metadata": {},
   "outputs": [
    {
     "data": {
      "text/html": [
       "FALSE"
      ],
      "text/latex": [
       "FALSE"
      ],
      "text/markdown": [
       "FALSE"
      ],
      "text/plain": [
       "[1] FALSE"
      ]
     },
     "metadata": {},
     "output_type": "display_data"
    },
    {
     "data": {
      "text/html": [
       "FALSE"
      ],
      "text/latex": [
       "FALSE"
      ],
      "text/markdown": [
       "FALSE"
      ],
      "text/plain": [
       "[1] FALSE"
      ]
     },
     "metadata": {},
     "output_type": "display_data"
    },
    {
     "data": {
      "text/html": [
       "FALSE"
      ],
      "text/latex": [
       "FALSE"
      ],
      "text/markdown": [
       "FALSE"
      ],
      "text/plain": [
       "[1] FALSE"
      ]
     },
     "metadata": {},
     "output_type": "display_data"
    }
   ],
   "source": [
    "# Population Stats:\n",
    "pop.mean <- 50\n",
    "\n",
    "# Sample Stats:\n",
    "n <- 100\n",
    "degree.freedom <- n - 1\n",
    "sample.mean <- 58\n",
    "sample.sd <- 55\n",
    " \n",
    "# Using t-statistics: Find Sample t-value\n",
    "sample.t <- (sample.mean - pop.mean)/(sample.sd/sqrt(n)) #1.45\n",
    " \n",
    "# Using t-statistics: Find Significance t-value\n",
    "sig <- 0.05\n",
    "sig.left <- sig/2 #0.025\n",
    "sig.right <- sig/2 #0.025\n",
    " \n",
    "sig.t.left <- qt(sig.left, degree.freedom, lower.tail=TRUE) #-1.984\n",
    "sig.t.right <- qt(sig.right, degree.freedom, lower.tail=FALSE)#1.984\n",
    " \n",
    "# Check to see if sample.t falls within both corners\n",
    "sample.t > sig.t.right #FALSE\n",
    "sample.t < sig.t.left #FALSE\n",
    " \n",
    "sample.t > sig.t.right || sample.t < sig.t.left #FALSE, CANNOT Reject Null Hypothesis"
   ]
  },
  {
   "cell_type": "markdown",
   "metadata": {},
   "source": [
    "- There is NO evidence that Population Mean savings is different from 50 dollars"
   ]
  },
  {
   "cell_type": "markdown",
   "metadata": {},
   "source": [
    "#### p-value approach: Find p of the left and the right, compare to the significance"
   ]
  },
  {
   "cell_type": "code",
   "execution_count": 8,
   "metadata": {},
   "outputs": [
    {
     "data": {
      "text/html": [
       "FALSE"
      ],
      "text/latex": [
       "FALSE"
      ],
      "text/markdown": [
       "FALSE"
      ],
      "text/plain": [
       "[1] FALSE"
      ]
     },
     "metadata": {},
     "output_type": "display_data"
    }
   ],
   "source": [
    "# Population Stats:\n",
    "pop.mean <- 50\n",
    "\n",
    "# Sample Stats:\n",
    "n <- 100\n",
    "degree.freedom <- n - 1\n",
    "sample.mean <- 58\n",
    "sample.sd <- 55\n",
    " \n",
    "# Using t-statistics: Find Sample t-value\n",
    "sample.t <- (sample.mean - pop.mean)/(sample.sd/sqrt(n)) #1.45\n",
    "\n",
    "# Find p-value of Sample: Two-tail test, Miltiply the actual p-value (right in this case) by 2\n",
    "sample.p.left <- pt(sample.t, degree.freedom, lower.tail=TRUE) #0.925\n",
    "sample.p.right <- pt(sample.t, degree.freedom, lower.tail=FALSE) #0.074\n",
    "p <- c(sample.p.left, sample.p.right)\n",
    "p.value <- min(p)*2 #0.149\n",
    "\n",
    "# Check if p-value is less than significance:\n",
    "sig <- 0.05\n",
    "p.value < sig #FALSE, CANNOT Reject Null Hypothesis"
   ]
  },
  {
   "cell_type": "markdown",
   "metadata": {},
   "source": [
    "- FALSE, High enough probability (0.149) that this can happen by chance. CANNOT Reject Null Hypothesis"
   ]
  },
  {
   "cell_type": "markdown",
   "metadata": {},
   "source": [
    "## Example 5: (Sigma NOT Known) Improving Wait time at appointments: One-tail test\n",
    "- Sample Size = 355\n",
    "- Sample Mean = 23.05 minutes\n",
    "- Sample SD = 16.83 minutes"
   ]
  },
  {
   "cell_type": "markdown",
   "metadata": {},
   "source": [
    "### With Significance of 0.01, is there evidence that Population Mean wait time is less than 25 minutes?"
   ]
  },
  {
   "cell_type": "markdown",
   "metadata": {},
   "source": [
    "#### Classical approach using z-values:"
   ]
  },
  {
   "cell_type": "code",
   "execution_count": 9,
   "metadata": {},
   "outputs": [
    {
     "data": {
      "text/html": [
       "FALSE"
      ],
      "text/latex": [
       "FALSE"
      ],
      "text/markdown": [
       "FALSE"
      ],
      "text/plain": [
       "[1] FALSE"
      ]
     },
     "metadata": {},
     "output_type": "display_data"
    }
   ],
   "source": [
    "#Population Stats:\n",
    "pop.mean <- 25\n",
    "\n",
    "#Sample Stats:\n",
    "n <- 355\n",
    "degree.freedom <- n - 1\n",
    "sample.mean <- 23.05\n",
    "sample.sd <- 16.83\n",
    "\n",
    "#Using t-statistics: Find Sample t-value\n",
    "sample.t <- (sample.mean - pop.mean)/(sample.sd/sqrt(n)) #-2.18\n",
    " \n",
    "# Using t-statistics: Find Significance t-value\n",
    "sig <- 0.01\n",
    "sig.t <- qt(sig, degree.freedom, lower.tail=TRUE) #-2.34\n",
    " \n",
    "#Check to see if Sample t-value falls lower than the left corners\n",
    "sample.t < sig.t #FALSE"
   ]
  },
  {
   "cell_type": "markdown",
   "metadata": {},
   "source": [
    "- There is NO evidence that Population Mean wait time is less than 25 minutes"
   ]
  },
  {
   "cell_type": "markdown",
   "metadata": {},
   "source": [
    "#### p-value approach: Find p of the left, compare to the significance"
   ]
  },
  {
   "cell_type": "code",
   "execution_count": 10,
   "metadata": {},
   "outputs": [
    {
     "data": {
      "text/html": [
       "FALSE"
      ],
      "text/latex": [
       "FALSE"
      ],
      "text/markdown": [
       "FALSE"
      ],
      "text/plain": [
       "[1] FALSE"
      ]
     },
     "metadata": {},
     "output_type": "display_data"
    }
   ],
   "source": [
    "#Population Stats:\n",
    "pop.mean <- 25\n",
    "\n",
    "#Sample Stats:\n",
    "n <- 355\n",
    "degree.freedom <- n - 1\n",
    "sample.mean <- 23.05\n",
    "sample.sd <- 16.83\n",
    "\n",
    "#Using t-statistics: Find Sample t-value\n",
    "sample.t <- (sample.mean - pop.mean)/(sample.sd/sqrt(n)) #-2.18\n",
    "\n",
    "# Find p-value of Sample: Lower Tail since looking for evidence of less\n",
    "sample.p <- pt(sample.t, degree.freedom, lower.tail=TRUE) #0.0148\n",
    " \n",
    "# Check if p-value is less than significance:\n",
    "sig <- 0.01\n",
    "sample.p < sig #FALSE, CANNOT Reject Null Hypothesis"
   ]
  },
  {
   "cell_type": "markdown",
   "metadata": {},
   "source": [
    "- FASLE, High enough probability (0.148) that this can happen by chance. CANNOT Reject Null Hypothesis"
   ]
  },
  {
   "cell_type": "markdown",
   "metadata": {},
   "source": [
    "## Example 6: (Z Test for Proportion) In random sample of 400, 88 are defective:"
   ]
  },
  {
   "cell_type": "markdown",
   "metadata": {},
   "source": [
    "#### a) What is the Sample Proportion?"
   ]
  },
  {
   "cell_type": "code",
   "execution_count": 11,
   "metadata": {},
   "outputs": [
    {
     "data": {
      "text/html": [
       "0.22"
      ],
      "text/latex": [
       "0.22"
      ],
      "text/markdown": [
       "0.22"
      ],
      "text/plain": [
       "[1] 0.22"
      ]
     },
     "metadata": {},
     "output_type": "display_data"
    }
   ],
   "source": [
    "sample.prop <- 88/400\n",
    "sample.prop"
   ]
  },
  {
   "cell_type": "markdown",
   "metadata": {},
   "source": [
    "#### b) If the Null Hypothesis is that 20% of samples are defective, what is the z-value?"
   ]
  },
  {
   "cell_type": "code",
   "execution_count": 12,
   "metadata": {},
   "outputs": [
    {
     "data": {
      "text/html": [
       "0.942072184070838"
      ],
      "text/latex": [
       "0.942072184070838"
      ],
      "text/markdown": [
       "0.942072184070838"
      ],
      "text/plain": [
       "[1] 0.9420722"
      ]
     },
     "metadata": {},
     "output_type": "display_data"
    }
   ],
   "source": [
    "# Population Stats:\n",
    "p <- 0.20\n",
    "\n",
    "# Sample Stats:\n",
    "sample.sd <- sqrt(p * (1-p)/n) #0.021\n",
    "\n",
    "# Find Sample z-value\n",
    "sample.z <- (sample.prop - p)/sample.sd #0.94\n",
    "sample.z"
   ]
  },
  {
   "cell_type": "markdown",
   "metadata": {},
   "source": [
    "#### c) Two-tail hypothesis test that Proportion does NOT equal to 0.20, with Significance of 0.05"
   ]
  },
  {
   "cell_type": "code",
   "execution_count": 13,
   "metadata": {},
   "outputs": [
    {
     "data": {
      "text/html": [
       "FALSE"
      ],
      "text/latex": [
       "FALSE"
      ],
      "text/markdown": [
       "FALSE"
      ],
      "text/plain": [
       "[1] FALSE"
      ]
     },
     "metadata": {},
     "output_type": "display_data"
    }
   ],
   "source": [
    "sig <- 0.05\n",
    "sig.left <- sig/2 #0.025\n",
    "sig.right <- sig/2 #0.025\n",
    " \n",
    "sig.z.left <- qnorm(sig.left) #-1.96\n",
    "sig.z.right <- qnorm(sig.right, lower.tail=FALSE) #1.96\n",
    " \n",
    "sample.z > sig.z.right || sample.z < sig.z.left #FALSE, CANNOT Reject Null Hypothesis"
   ]
  },
  {
   "cell_type": "markdown",
   "metadata": {},
   "source": [
    "- There is NO evidence that Population Proportion does not equal to 0.20"
   ]
  },
  {
   "cell_type": "markdown",
   "metadata": {},
   "source": [
    "## Example 7: (Z Test for Proportion) In a survey, 328 out of 801 plan on spending 1,000 dollars\n",
    "### At 0.05 level of Significance, is there evidence that proportion of people who plan on spending at leat 1,000 is different than 35%?"
   ]
  },
  {
   "cell_type": "markdown",
   "metadata": {},
   "source": [
    "#### Solution: Classical approach:"
   ]
  },
  {
   "cell_type": "code",
   "execution_count": 14,
   "metadata": {},
   "outputs": [
    {
     "data": {
      "text/html": [
       "TRUE"
      ],
      "text/latex": [
       "TRUE"
      ],
      "text/markdown": [
       "TRUE"
      ],
      "text/plain": [
       "[1] TRUE"
      ]
     },
     "metadata": {},
     "output_type": "display_data"
    }
   ],
   "source": [
    "#Population Stats:\n",
    "pop.prop <- 0.35\n",
    "\n",
    "#Sample Stats:\n",
    "n <- 801\n",
    "sample.prop <- 328/801 #0.409\n",
    "sample.sd <- sqrt(pop.prop * (1-pop.prop)/n) #0.0168\n",
    "\n",
    "# Find Sample z-value\n",
    "sample.z <- (sample.prop - pop.prop)/sample.sd #3.529\n",
    "\n",
    "# Find Significance z-value: Since two-tailed, divide by 2\n",
    "sig <- 0.05\n",
    "sig.left <- sig/2 #0.025\n",
    "sig.right <- sig/2 #0.025\n",
    " \n",
    "sig.z.left <- qnorm(sig.left) #-1.96\n",
    "sig.z.right <- qnorm(sig.right, lower.tail=FALSE) #1.96\n",
    " \n",
    "# Check to see if Sample z-value falls within both corners\n",
    "sample.z > sig.z.right || sample.z < sig.z.left #TRUE, Reject Null Hypothesis"
   ]
  },
  {
   "cell_type": "markdown",
   "metadata": {},
   "source": [
    "- TRUE, There is evidence that proportion of people who plan on spending at leat 1,000 is different than 35%"
   ]
  },
  {
   "cell_type": "markdown",
   "metadata": {},
   "source": [
    "#### Solution: p-value approach:"
   ]
  },
  {
   "cell_type": "code",
   "execution_count": 15,
   "metadata": {},
   "outputs": [
    {
     "data": {
      "text/html": [
       "TRUE"
      ],
      "text/latex": [
       "TRUE"
      ],
      "text/markdown": [
       "TRUE"
      ],
      "text/plain": [
       "[1] TRUE"
      ]
     },
     "metadata": {},
     "output_type": "display_data"
    }
   ],
   "source": [
    "#Population Stats:\n",
    "pop.prop <- 0.35\n",
    "\n",
    "#Sample Stats:\n",
    "n <- 801\n",
    "sample.prop <- 328/801 #0.409\n",
    "sample.sd <- sqrt(pop.prop * (1-pop.prop)/n) #0.0168\n",
    "\n",
    "# Find Sample z-value\n",
    "sample.z <- (sample.prop - pop.prop)/sample.sd #3.529\n",
    "\n",
    "# Find p-value of Sample: Both corners, Miltiply the actual p-value (left in this case) by 2\n",
    "sample.p.left <- pnorm(sample.z, lower.tail=TRUE) #0.999\n",
    "sample.p.right <- pnorm(sample.z, lower.tail=FALSE) #0.00021\n",
    "p <- c(sample.p.left, sample.p.right)\n",
    "p.value <- min(p)*2 #0.00042\n",
    "\n",
    "# Check if p-value is less than significance:\n",
    "sig <- 0.05\n",
    "p.value < sig #TRUE, Reject Null Hypothesis"
   ]
  }
 ],
 "metadata": {
  "kernelspec": {
   "display_name": "R",
   "language": "R",
   "name": "ir"
  },
  "language_info": {
   "codemirror_mode": "r",
   "file_extension": ".r",
   "mimetype": "text/x-r-source",
   "name": "R",
   "pygments_lexer": "r",
   "version": "3.4.1"
  }
 },
 "nbformat": 4,
 "nbformat_minor": 2
}
