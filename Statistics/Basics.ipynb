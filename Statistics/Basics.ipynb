{
 "cells": [
  {
   "cell_type": "markdown",
   "metadata": {},
   "source": [
    "# Basic Statistics"
   ]
  },
  {
   "cell_type": "markdown",
   "metadata": {},
   "source": [
    "- Population: Entire group of individuals or objects to be studied is called population\n",
    "    - Parameter: Numerical summary of a population\n",
    "- Sample: Subset of population that is being studied \n",
    "    - Statistics: Numerical summary of a sample \n",
    "- Individual: Person or object that is a part of the population being studied"
   ]
  },
  {
   "cell_type": "markdown",
   "metadata": {},
   "source": [
    "# Variables"
   ]
  },
  {
   "cell_type": "markdown",
   "metadata": {},
   "source": [
    "- Qualitative or Categorical variables: \n",
    "    - Allow for classification of individuals based on some attribute\n",
    "    - Cannot perform arithmetic operation on this data\n",
    "    - Example: Gender\n",
    "- Quantitative variables: \n",
    "    - Provide numerical measure of individuals\n",
    "    - Example: Age"
   ]
  },
  {
   "cell_type": "markdown",
   "metadata": {},
   "source": [
    "### Qualitative or Categorical variables"
   ]
  },
  {
   "cell_type": "markdown",
   "metadata": {},
   "source": [
    "- Dichotomous: Only 2 values (Present/Absent)\n",
    "- Nominal: Unordered (Blood type: A, B, AB, O)\n",
    "- Ordinal: Ordered Rating (high to low)"
   ]
  },
  {
   "cell_type": "markdown",
   "metadata": {},
   "source": [
    "### Quantitative or Numerical variables"
   ]
  },
  {
   "cell_type": "markdown",
   "metadata": {},
   "source": [
    "- Discrete: Certain Values Gaps (Days sick/year)\n",
    "- Continuous: Range of values, No Gap (Blood glucose)"
   ]
  },
  {
   "cell_type": "code",
   "execution_count": null,
   "metadata": {
    "collapsed": true
   },
   "outputs": [],
   "source": []
  }
 ],
 "metadata": {
  "kernelspec": {
   "display_name": "R",
   "language": "R",
   "name": "ir"
  },
  "language_info": {
   "codemirror_mode": "r",
   "file_extension": ".r",
   "mimetype": "text/x-r-source",
   "name": "R",
   "pygments_lexer": "r",
   "version": "3.4.1"
  }
 },
 "nbformat": 4,
 "nbformat_minor": 2
}
