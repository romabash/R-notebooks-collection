{
 "cells": [
  {
   "cell_type": "markdown",
   "metadata": {},
   "source": [
    "# Basic Statistics"
   ]
  },
  {
   "cell_type": "markdown",
   "metadata": {},
   "source": [
    "- Population: Entire group of individuals or objects to be studied is called population\n",
    "    - Parameter: Numerical summary of a population\n",
    "- Sample: Subset of population that is being studied \n",
    "    - Statistics: Numerical summary of a sample \n",
    "- Individual: Person or object that is a part of the population being studied"
   ]
  },
  {
   "cell_type": "markdown",
   "metadata": {},
   "source": [
    "# Variables"
   ]
  },
  {
   "cell_type": "markdown",
   "metadata": {},
   "source": [
    "- Qualitative or Categorical variables: \n",
    "    - Allow for classification of individuals based on some attribute\n",
    "    - Cannot perform arithmetic operation on this data\n",
    "    - Example: Gender\n",
    "- Quantitative variables: \n",
    "    - Provide numerical measure of individuals\n",
    "    - Example: Age"
   ]
  },
  {
   "cell_type": "markdown",
   "metadata": {},
   "source": [
    "### Qualitative or Categorical variables"
   ]
  },
  {
   "cell_type": "markdown",
   "metadata": {},
   "source": [
    "- Dichotomous: Only 2 values (Present/Absent)\n",
    "- Nominal: Unordered (Blood type: A, B, AB, O)\n",
    "- Ordinal: Ordered Rating (high to low)"
   ]
  },
  {
   "cell_type": "markdown",
   "metadata": {},
   "source": [
    "### Quantitative or Numerical variables"
   ]
  },
  {
   "cell_type": "markdown",
   "metadata": {},
   "source": [
    "- Discrete: Certain Values Gaps (Days sick/year)\n",
    "- Continuous: Range of values, No Gap (Blood glucose)"
   ]
  },
  {
   "cell_type": "markdown",
   "metadata": {},
   "source": [
    "# Categorical Variables in R with Factors"
   ]
  },
  {
   "cell_type": "markdown",
   "metadata": {},
   "source": [
    "### Nominal Categorical Factors:"
   ]
  },
  {
   "cell_type": "code",
   "execution_count": 1,
   "metadata": {},
   "outputs": [
    {
     "data": {
      "text/html": [
       "<ol class=list-inline>\n",
       "\t<li>'Type1'</li>\n",
       "\t<li>'Type2'</li>\n",
       "\t<li>'Type1'</li>\n",
       "\t<li>'Type1'</li>\n",
       "</ol>\n"
      ],
      "text/latex": [
       "\\begin{enumerate*}\n",
       "\\item 'Type1'\n",
       "\\item 'Type2'\n",
       "\\item 'Type1'\n",
       "\\item 'Type1'\n",
       "\\end{enumerate*}\n"
      ],
      "text/markdown": [
       "1. 'Type1'\n",
       "2. 'Type2'\n",
       "3. 'Type1'\n",
       "4. 'Type1'\n",
       "\n",
       "\n"
      ],
      "text/plain": [
       "[1] \"Type1\" \"Type2\" \"Type1\" \"Type1\""
      ]
     },
     "metadata": {},
     "output_type": "display_data"
    }
   ],
   "source": [
    "diabetes <- c(\"Type1\", \"Type2\", \"Type1\", \"Type1\")\n",
    "diabetes"
   ]
  },
  {
   "cell_type": "code",
   "execution_count": 2,
   "metadata": {},
   "outputs": [
    {
     "data": {
      "text/html": [
       "'character'"
      ],
      "text/latex": [
       "'character'"
      ],
      "text/markdown": [
       "'character'"
      ],
      "text/plain": [
       "[1] \"character\""
      ]
     },
     "metadata": {},
     "output_type": "display_data"
    }
   ],
   "source": [
    "class(diabetes)"
   ]
  },
  {
   "cell_type": "markdown",
   "metadata": {},
   "source": [
    "#### Create Factors of diabetes"
   ]
  },
  {
   "cell_type": "code",
   "execution_count": 4,
   "metadata": {},
   "outputs": [
    {
     "data": {
      "text/html": [
       "<ol class=list-inline>\n",
       "\t<li>Type1</li>\n",
       "\t<li>Type2</li>\n",
       "\t<li>Type1</li>\n",
       "\t<li>Type1</li>\n",
       "</ol>\n"
      ],
      "text/latex": [
       "\\begin{enumerate*}\n",
       "\\item Type1\n",
       "\\item Type2\n",
       "\\item Type1\n",
       "\\item Type1\n",
       "\\end{enumerate*}\n"
      ],
      "text/markdown": [
       "1. Type1\n",
       "2. Type2\n",
       "3. Type1\n",
       "4. Type1\n",
       "\n",
       "\n"
      ],
      "text/plain": [
       "[1] Type1 Type2 Type1 Type1\n",
       "Levels: Type1 Type2"
      ]
     },
     "metadata": {},
     "output_type": "display_data"
    }
   ],
   "source": [
    "diabetes <- factor(diabetes)\n",
    "diabetes"
   ]
  },
  {
   "cell_type": "code",
   "execution_count": 5,
   "metadata": {},
   "outputs": [
    {
     "data": {
      "text/html": [
       "'factor'"
      ],
      "text/latex": [
       "'factor'"
      ],
      "text/markdown": [
       "'factor'"
      ],
      "text/plain": [
       "[1] \"factor\""
      ]
     },
     "metadata": {},
     "output_type": "display_data"
    }
   ],
   "source": [
    "class(diabetes)"
   ]
  },
  {
   "cell_type": "markdown",
   "metadata": {},
   "source": [
    "### Ordinal Categorical Factors: default order alphabetical"
   ]
  },
  {
   "cell_type": "code",
   "execution_count": 14,
   "metadata": {},
   "outputs": [
    {
     "data": {
      "text/html": [
       "<ol class=list-inline>\n",
       "\t<li>'Poor'</li>\n",
       "\t<li>'Improved'</li>\n",
       "\t<li>'Excellent'</li>\n",
       "\t<li>'Poor'</li>\n",
       "</ol>\n"
      ],
      "text/latex": [
       "\\begin{enumerate*}\n",
       "\\item 'Poor'\n",
       "\\item 'Improved'\n",
       "\\item 'Excellent'\n",
       "\\item 'Poor'\n",
       "\\end{enumerate*}\n"
      ],
      "text/markdown": [
       "1. 'Poor'\n",
       "2. 'Improved'\n",
       "3. 'Excellent'\n",
       "4. 'Poor'\n",
       "\n",
       "\n"
      ],
      "text/plain": [
       "[1] \"Poor\"      \"Improved\"  \"Excellent\" \"Poor\"     "
      ]
     },
     "metadata": {},
     "output_type": "display_data"
    }
   ],
   "source": [
    "status <- c(\"Poor\", \"Improved\", \"Excellent\", \"Poor\")\n",
    "status"
   ]
  },
  {
   "cell_type": "code",
   "execution_count": 15,
   "metadata": {},
   "outputs": [
    {
     "data": {
      "text/html": [
       "'character'"
      ],
      "text/latex": [
       "'character'"
      ],
      "text/markdown": [
       "'character'"
      ],
      "text/plain": [
       "[1] \"character\""
      ]
     },
     "metadata": {},
     "output_type": "display_data"
    }
   ],
   "source": [
    "class(status)"
   ]
  },
  {
   "cell_type": "markdown",
   "metadata": {},
   "source": [
    "#### Create Factor of status"
   ]
  },
  {
   "cell_type": "code",
   "execution_count": 16,
   "metadata": {},
   "outputs": [
    {
     "name": "stdout",
     "output_type": "stream",
     "text": [
      "[1] Poor      Improved  Excellent Poor     \n",
      "Levels: Excellent < Improved < Poor\n"
     ]
    }
   ],
   "source": [
    "status <- factor(status, order=TRUE)\n",
    "print(status)"
   ]
  },
  {
   "cell_type": "code",
   "execution_count": 18,
   "metadata": {},
   "outputs": [
    {
     "data": {
      "text/html": [
       "<ol class=list-inline>\n",
       "\t<li>'ordered'</li>\n",
       "\t<li>'factor'</li>\n",
       "</ol>\n"
      ],
      "text/latex": [
       "\\begin{enumerate*}\n",
       "\\item 'ordered'\n",
       "\\item 'factor'\n",
       "\\end{enumerate*}\n"
      ],
      "text/markdown": [
       "1. 'ordered'\n",
       "2. 'factor'\n",
       "\n",
       "\n"
      ],
      "text/plain": [
       "[1] \"ordered\" \"factor\" "
      ]
     },
     "metadata": {},
     "output_type": "display_data"
    }
   ],
   "source": [
    "class(status) #ordered factor"
   ]
  },
  {
   "cell_type": "markdown",
   "metadata": {},
   "source": [
    "#### Ordinal Order can be changed  "
   ]
  },
  {
   "cell_type": "code",
   "execution_count": 20,
   "metadata": {},
   "outputs": [
    {
     "name": "stdout",
     "output_type": "stream",
     "text": [
      "[1] Poor      Improved  Excellent Poor     \n",
      "Levels: Poor < Improved < Excellent\n"
     ]
    }
   ],
   "source": [
    "status <- factor(status, order=TRUE, levels=c(\"Poor\", \"Improved\", \"Excellent\"))\n",
    "print(status)"
   ]
  },
  {
   "cell_type": "markdown",
   "metadata": {},
   "source": [
    "## Factors with Data Frames"
   ]
  },
  {
   "cell_type": "code",
   "execution_count": 21,
   "metadata": {
    "collapsed": true
   },
   "outputs": [],
   "source": [
    "patientID <- c(1,2,3,4)\n",
    "age <- c(25,34,28,52)"
   ]
  },
  {
   "cell_type": "code",
   "execution_count": 24,
   "metadata": {},
   "outputs": [
    {
     "name": "stdout",
     "output_type": "stream",
     "text": [
      "[1] Type1 Type2 Type1 Type1\n",
      "Levels: Type1 Type2\n"
     ]
    }
   ],
   "source": [
    "diabetes <- c(\"Type1\", \"Type2\", \"Type1\", \"Type1\")\n",
    "diabetes <- factor(diabetes)\n",
    "print(diabetes)"
   ]
  },
  {
   "cell_type": "code",
   "execution_count": 29,
   "metadata": {},
   "outputs": [
    {
     "name": "stdout",
     "output_type": "stream",
     "text": [
      "[1] Poor      Improved  Excellent Poor     \n",
      "Levels: Poor < Improved < Excellent\n"
     ]
    }
   ],
   "source": [
    "status <- c(\"Poor\",\"Improved\",\"Excellent\",\"Poor\")\n",
    "status <- factor(status, order=TRUE, levels=c(\"Poor\", \"Improved\", \"Excellent\"))\n",
    "print(status)"
   ]
  },
  {
   "cell_type": "markdown",
   "metadata": {},
   "source": [
    "#### Create Data Frame with given data"
   ]
  },
  {
   "cell_type": "code",
   "execution_count": 30,
   "metadata": {},
   "outputs": [
    {
     "data": {
      "text/html": [
       "<table>\n",
       "<thead><tr><th scope=col>patientID</th><th scope=col>age</th><th scope=col>diabetes</th><th scope=col>status</th></tr></thead>\n",
       "<tbody>\n",
       "\t<tr><td>1        </td><td>25       </td><td>Type1    </td><td>Poor     </td></tr>\n",
       "\t<tr><td>2        </td><td>34       </td><td>Type2    </td><td>Improved </td></tr>\n",
       "\t<tr><td>3        </td><td>28       </td><td>Type1    </td><td>Excellent</td></tr>\n",
       "\t<tr><td>4        </td><td>52       </td><td>Type1    </td><td>Poor     </td></tr>\n",
       "</tbody>\n",
       "</table>\n"
      ],
      "text/latex": [
       "\\begin{tabular}{r|llll}\n",
       " patientID & age & diabetes & status\\\\\n",
       "\\hline\n",
       "\t 1         & 25        & Type1     & Poor     \\\\\n",
       "\t 2         & 34        & Type2     & Improved \\\\\n",
       "\t 3         & 28        & Type1     & Excellent\\\\\n",
       "\t 4         & 52        & Type1     & Poor     \\\\\n",
       "\\end{tabular}\n"
      ],
      "text/markdown": [
       "\n",
       "patientID | age | diabetes | status | \n",
       "|---|---|---|---|\n",
       "| 1         | 25        | Type1     | Poor      | \n",
       "| 2         | 34        | Type2     | Improved  | \n",
       "| 3         | 28        | Type1     | Excellent | \n",
       "| 4         | 52        | Type1     | Poor      | \n",
       "\n",
       "\n"
      ],
      "text/plain": [
       "  patientID age diabetes status   \n",
       "1 1         25  Type1    Poor     \n",
       "2 2         34  Type2    Improved \n",
       "3 3         28  Type1    Excellent\n",
       "4 4         52  Type1    Poor     "
      ]
     },
     "metadata": {},
     "output_type": "display_data"
    }
   ],
   "source": [
    "patientData <- data.frame(patientID, age, diabetes, status)\n",
    "patientData"
   ]
  },
  {
   "cell_type": "markdown",
   "metadata": {},
   "source": [
    "#### Info about the patientData Data Frame:"
   ]
  },
  {
   "cell_type": "code",
   "execution_count": 31,
   "metadata": {},
   "outputs": [
    {
     "name": "stdout",
     "output_type": "stream",
     "text": [
      "'data.frame':\t4 obs. of  4 variables:\n",
      " $ patientID: num  1 2 3 4\n",
      " $ age      : num  25 34 28 52\n",
      " $ diabetes : Factor w/ 2 levels \"Type1\",\"Type2\": 1 2 1 1\n",
      " $ status   : Ord.factor w/ 3 levels \"Poor\"<\"Improved\"<..: 1 2 3 1\n"
     ]
    }
   ],
   "source": [
    "str(patientData)"
   ]
  },
  {
   "cell_type": "code",
   "execution_count": null,
   "metadata": {
    "collapsed": true
   },
   "outputs": [],
   "source": []
  }
 ],
 "metadata": {
  "kernelspec": {
   "display_name": "R",
   "language": "R",
   "name": "ir"
  },
  "language_info": {
   "codemirror_mode": "r",
   "file_extension": ".r",
   "mimetype": "text/x-r-source",
   "name": "R",
   "pygments_lexer": "r",
   "version": "3.4.1"
  }
 },
 "nbformat": 4,
 "nbformat_minor": 2
}
