{
 "cells": [
  {
   "cell_type": "markdown",
   "metadata": {},
   "source": [
    "# Regression"
   ]
  },
  {
   "cell_type": "markdown",
   "metadata": {},
   "source": [
    "### 2 Variable Regression:\n",
    "- How a “response” variable y changes as “predictor/explanatory” variable x changes\n",
    "- y = mx + b\n",
    "\n",
    "### Multiple Regression:\n",
    "- How a “response” variable y changes as “predictor/explanatory” variables x1-xn change’\n",
    "- y = m1x1 + m2x2 + b\n",
    "\n",
    "### Polynomial Regression:\n",
    "- y = b + m1x\n",
    "- y = b + m1x1 + m2(x)^2 …"
   ]
  },
  {
   "cell_type": "markdown",
   "metadata": {},
   "source": [
    "### Regression Strategy Ordinary Least Squares (OLS)\n",
    "- The least-squares regression line of y and x is the line that makes the sum of the squares of the verticle distance of the data points from the line as small as possible\n",
    "- From the line draw a line to the point:\n",
    "    - make a square\n",
    "    - calculate the area\n",
    "    - add up all the area of all the squares"
   ]
  },
  {
   "cell_type": "markdown",
   "metadata": {},
   "source": [
    "### Solution for Regression Line\n",
    "\n",
    "#### Approach #1: Closed Form Solution\n",
    "- Method 1 - Compute Gradient:\n",
    "    - Vector of Partial Derivatives\n",
    "    - Set gradient to zero\n",
    "    - Compute slope and intercept\n",
    "- Method 2 - Matrix Approach\n",
    "\n",
    "#### Approach #2\n",
    "- Gradient Decent Algorithm\n",
    "- Gradually change slope and intercept till we reach at the optimum solution"
   ]
  },
  {
   "cell_type": "markdown",
   "metadata": {},
   "source": [
    "### Approach #1, Method 1:\n",
    "- Slope = (Sum of X*Y) – (1/N)*( (Sum of X)*(Sum of Y) ) / (Sum of X^2) – (1/N)*( (Sum of X)*(Sum of X) )\n",
    "- Intercept = (Mean of Y) – slope * (Mean of X)"
   ]
  },
  {
   "cell_type": "code",
   "execution_count": 1,
   "metadata": {
    "collapsed": true
   },
   "outputs": [],
   "source": [
    "regressionEquation1 <- function(x,y){\n",
    "  slope <- ( sum(x*y)-((1/length(x))*((sum(x)*sum(y)))) ) /\n",
    "    ( sum(x**2)-((1/length(x))*((sum(x)*sum(x)))) )\n",
    "  \n",
    "  intercept <- (mean(y) - slope*(mean(x)))\n",
    "  \n",
    "  if (intercept < 0){\n",
    "    paste0(\"y = \", slope, \"x - \", abs(intercept))\n",
    "  }\n",
    "  else{\n",
    "    paste0(\"y = \", slope, \"x + \", intercept)\n",
    "  }\n",
    "}"
   ]
  },
  {
   "cell_type": "code",
   "execution_count": 2,
   "metadata": {},
   "outputs": [
    {
     "data": {
      "text/html": [
       "'y = 5x - 1'"
      ],
      "text/latex": [
       "'y = 5x - 1'"
      ],
      "text/markdown": [
       "'y = 5x - 1'"
      ],
      "text/plain": [
       "[1] \"y = 5x - 1\""
      ]
     },
     "metadata": {},
     "output_type": "display_data"
    }
   ],
   "source": [
    "x <- c(0,1,2,3,4)\n",
    "y <- c(1,3,7,13,21)\n",
    "\n",
    "regressionEquation1(x,y)"
   ]
  },
  {
   "cell_type": "code",
   "execution_count": 3,
   "metadata": {},
   "outputs": [
    {
     "data": {
      "text/html": [
       "'y = -1.6948275862069x + 211.270689655172'"
      ],
      "text/latex": [
       "'y = -1.6948275862069x + 211.270689655172'"
      ],
      "text/markdown": [
       "'y = -1.6948275862069x + 211.270689655172'"
      ],
      "text/plain": [
       "[1] \"y = -1.6948275862069x + 211.270689655172\""
      ]
     },
     "metadata": {},
     "output_type": "display_data"
    }
   ],
   "source": [
    "price <- c(49,69,89,99,109)\n",
    "demand <- c(124,95,71,45,18)\n",
    "\n",
    "regressionEquation1(price, demand)"
   ]
  },
  {
   "cell_type": "markdown",
   "metadata": {},
   "source": [
    "### Approach #1, Method 2:\n",
    "- Computing Slope and Intercept with Mean"
   ]
  },
  {
   "cell_type": "code",
   "execution_count": 4,
   "metadata": {
    "collapsed": true
   },
   "outputs": [],
   "source": [
    "regressionEquation2 <- function(x,y){\n",
    "  slope <- (mean(x*y) - (mean(x)*mean(y))) / (mean(x**2) - (mean(x)*mean(x)))\n",
    "  \n",
    "  intercept <- (mean(y) - slope*(mean(x)))\n",
    "\n",
    "  if (intercept < 0){\n",
    "    paste0(\"y = \", slope, \"x - \", abs(intercept))\n",
    "  }\n",
    "  else{\n",
    "    paste0(\"y = \", slope, \"x + \", intercept)\n",
    "  }\n",
    "}"
   ]
  },
  {
   "cell_type": "code",
   "execution_count": 5,
   "metadata": {},
   "outputs": [
    {
     "data": {
      "text/html": [
       "'y = 5x - 1'"
      ],
      "text/latex": [
       "'y = 5x - 1'"
      ],
      "text/markdown": [
       "'y = 5x - 1'"
      ],
      "text/plain": [
       "[1] \"y = 5x - 1\""
      ]
     },
     "metadata": {},
     "output_type": "display_data"
    }
   ],
   "source": [
    "x <- c(0,1,2,3,4)\n",
    "y <- c(1,3,7,13,21)\n",
    "\n",
    "regressionEquation2(x,y)"
   ]
  },
  {
   "cell_type": "code",
   "execution_count": 6,
   "metadata": {},
   "outputs": [
    {
     "data": {
      "text/html": [
       "'y = -1.6948275862069x + 211.270689655172'"
      ],
      "text/latex": [
       "'y = -1.6948275862069x + 211.270689655172'"
      ],
      "text/markdown": [
       "'y = -1.6948275862069x + 211.270689655172'"
      ],
      "text/plain": [
       "[1] \"y = -1.6948275862069x + 211.270689655172\""
      ]
     },
     "metadata": {},
     "output_type": "display_data"
    }
   ],
   "source": [
    "price <- c(49,69,89,99,109)\n",
    "demand <- c(124,95,71,45,18)\n",
    "\n",
    "regressionEquation2(price, demand)"
   ]
  },
  {
   "cell_type": "markdown",
   "metadata": {},
   "source": [
    "### Approach #1, Method 3:\n",
    "- Computing Slope and Intercept with Correlation"
   ]
  },
  {
   "cell_type": "code",
   "execution_count": 7,
   "metadata": {
    "collapsed": true
   },
   "outputs": [],
   "source": [
    "regressionEquation3 <- function(x,y){\n",
    "  slope <- cor(x,y)*(sd(y)) / sd(x)\n",
    "  \n",
    "  intercept <- (mean(y) - slope*(mean(x)))\n",
    "  \n",
    "  if (intercept < 0){\n",
    "    paste0(\"y = \", slope, \"x - \", abs(intercept))\n",
    "  }\n",
    "  else{\n",
    "    paste0(\"y = \", slope, \"x + \", intercept)\n",
    "  }\n",
    "}"
   ]
  },
  {
   "cell_type": "code",
   "execution_count": 8,
   "metadata": {},
   "outputs": [
    {
     "data": {
      "text/html": [
       "'y = 5x - 0.999999999999998'"
      ],
      "text/latex": [
       "'y = 5x - 0.999999999999998'"
      ],
      "text/markdown": [
       "'y = 5x - 0.999999999999998'"
      ],
      "text/plain": [
       "[1] \"y = 5x - 0.999999999999998\""
      ]
     },
     "metadata": {},
     "output_type": "display_data"
    }
   ],
   "source": [
    "x <- c(0,1,2,3,4)\n",
    "y <- c(1,3,7,13,21)\n",
    "\n",
    "regressionEquation3(x,y)"
   ]
  },
  {
   "cell_type": "code",
   "execution_count": 9,
   "metadata": {},
   "outputs": [
    {
     "data": {
      "text/html": [
       "'y = -1.6948275862069x + 211.270689655172'"
      ],
      "text/latex": [
       "'y = -1.6948275862069x + 211.270689655172'"
      ],
      "text/markdown": [
       "'y = -1.6948275862069x + 211.270689655172'"
      ],
      "text/plain": [
       "[1] \"y = -1.6948275862069x + 211.270689655172\""
      ]
     },
     "metadata": {},
     "output_type": "display_data"
    }
   ],
   "source": [
    "price <- c(49,69,89,99,109)\n",
    "demand <- c(124,95,71,45,18)\n",
    "\n",
    "regressionEquation3(price, demand)"
   ]
  },
  {
   "cell_type": "markdown",
   "metadata": {},
   "source": [
    "### Using built in lm() Function"
   ]
  },
  {
   "cell_type": "code",
   "execution_count": 10,
   "metadata": {},
   "outputs": [
    {
     "data": {
      "text/plain": [
       "\n",
       "Call:\n",
       "lm(formula = y ~ x)\n",
       "\n",
       "Coefficients:\n",
       "(Intercept)            x  \n",
       "         -1            5  \n"
      ]
     },
     "metadata": {},
     "output_type": "display_data"
    }
   ],
   "source": [
    "x <- c(0,1,2,3,4)\n",
    "y <- c(1,3,7,13,21)\n",
    "\n",
    "lm(y~x)"
   ]
  },
  {
   "cell_type": "code",
   "execution_count": 11,
   "metadata": {},
   "outputs": [
    {
     "data": {
      "text/plain": [
       "\n",
       "Call:\n",
       "lm(formula = y ~ x)\n",
       "\n",
       "Residuals:\n",
       " 1  2  3  4  5 \n",
       " 2 -1 -2 -1  2 \n",
       "\n",
       "Coefficients:\n",
       "            Estimate Std. Error t value Pr(>|t|)   \n",
       "(Intercept)  -1.0000     1.6733  -0.598  0.59220   \n",
       "x             5.0000     0.6831   7.319  0.00527 **\n",
       "---\n",
       "Signif. codes:  0 ‘***’ 0.001 ‘**’ 0.01 ‘*’ 0.05 ‘.’ 0.1 ‘ ’ 1\n",
       "\n",
       "Residual standard error: 2.16 on 3 degrees of freedom\n",
       "Multiple R-squared:  0.947,\tAdjusted R-squared:  0.9293 \n",
       "F-statistic: 53.57 on 1 and 3 DF,  p-value: 0.005268\n"
      ]
     },
     "metadata": {},
     "output_type": "display_data"
    }
   ],
   "source": [
    "summary(lm(y~x))"
   ]
  },
  {
   "cell_type": "code",
   "execution_count": 12,
   "metadata": {},
   "outputs": [
    {
     "data": {
      "text/plain": [
       "\n",
       "Call:\n",
       "lm(formula = demand ~ price)\n",
       "\n",
       "Coefficients:\n",
       "(Intercept)        price  \n",
       "    211.271       -1.695  \n"
      ]
     },
     "metadata": {},
     "output_type": "display_data"
    }
   ],
   "source": [
    "price <- c(49,69,89,99,109)\n",
    "demand <- c(124,95,71,45,18)\n",
    "\n",
    "lm(demand~price)"
   ]
  }
 ],
 "metadata": {
  "kernelspec": {
   "display_name": "R",
   "language": "R",
   "name": "ir"
  },
  "language_info": {
   "codemirror_mode": "r",
   "file_extension": ".r",
   "mimetype": "text/x-r-source",
   "name": "R",
   "pygments_lexer": "r",
   "version": "3.4.1"
  }
 },
 "nbformat": 4,
 "nbformat_minor": 2
}
