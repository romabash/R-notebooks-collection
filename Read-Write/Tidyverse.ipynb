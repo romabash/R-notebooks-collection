{
 "cells": [
  {
   "cell_type": "markdown",
   "metadata": {},
   "source": [
    "# Tidyverse\n",
    "- ggplot2: a plotting system based on the grammar of graphics\n",
    "- magrittr: defines the %>% operator for chaining functions together in a series of operations on data\n",
    "- dplyr: a suite of (fast) functions for working with data frames\n",
    "- tidyr: easily tidy data with spread() and gather()functions"
   ]
  },
  {
   "cell_type": "markdown",
   "metadata": {},
   "source": [
    "## readr package"
   ]
  },
  {
   "cell_type": "markdown",
   "metadata": {},
   "source": [
    "#### Load readr package\n",
    "- By default, read_csv will open a CSV file and read it in line-by-line. It will also (by default), read in the first few rows of the table in order to figure out the type of each column (i.e. integer, character, etc.)\n",
    "- It’s a good idea to specify the column types explicitly. This rules out any possible guessing errors on the part of read_csv."
   ]
  },
  {
   "cell_type": "code",
   "execution_count": 1,
   "metadata": {
    "collapsed": true
   },
   "outputs": [],
   "source": [
    "library(readr)"
   ]
  },
  {
   "cell_type": "code",
   "execution_count": 2,
   "metadata": {},
   "outputs": [
    {
     "name": "stderr",
     "output_type": "stream",
     "text": [
      "Parsed with column specification:\n",
      "cols(\n",
      "  Standing = col_integer(),\n",
      "  Team = col_character()\n",
      ")\n"
     ]
    }
   ],
   "source": [
    "teams <- read_csv(\"Data/team_standings.csv\")"
   ]
  },
  {
   "cell_type": "code",
   "execution_count": 3,
   "metadata": {},
   "outputs": [
    {
     "data": {
      "text/html": [
       "<table>\n",
       "<thead><tr><th scope=col>Standing</th><th scope=col>Team</th></tr></thead>\n",
       "<tbody>\n",
       "\t<tr><td>1          </td><td>Spain      </td></tr>\n",
       "\t<tr><td>2          </td><td>Netherlands</td></tr>\n",
       "\t<tr><td>3          </td><td>Germany    </td></tr>\n",
       "\t<tr><td>4          </td><td>Uruguay    </td></tr>\n",
       "\t<tr><td>5          </td><td>Argentina  </td></tr>\n",
       "\t<tr><td>6          </td><td>Brazil     </td></tr>\n",
       "</tbody>\n",
       "</table>\n"
      ],
      "text/latex": [
       "\\begin{tabular}{r|ll}\n",
       " Standing & Team\\\\\n",
       "\\hline\n",
       "\t 1           & Spain      \\\\\n",
       "\t 2           & Netherlands\\\\\n",
       "\t 3           & Germany    \\\\\n",
       "\t 4           & Uruguay    \\\\\n",
       "\t 5           & Argentina  \\\\\n",
       "\t 6           & Brazil     \\\\\n",
       "\\end{tabular}\n"
      ],
      "text/markdown": [
       "\n",
       "Standing | Team | \n",
       "|---|---|---|---|---|---|\n",
       "| 1           | Spain       | \n",
       "| 2           | Netherlands | \n",
       "| 3           | Germany     | \n",
       "| 4           | Uruguay     | \n",
       "| 5           | Argentina   | \n",
       "| 6           | Brazil      | \n",
       "\n",
       "\n"
      ],
      "text/plain": [
       "  Standing Team       \n",
       "1 1        Spain      \n",
       "2 2        Netherlands\n",
       "3 3        Germany    \n",
       "4 4        Uruguay    \n",
       "5 5        Argentina  \n",
       "6 6        Brazil     "
      ]
     },
     "metadata": {},
     "output_type": "display_data"
    }
   ],
   "source": [
    "head(teams)"
   ]
  },
  {
   "cell_type": "code",
   "execution_count": null,
   "metadata": {
    "collapsed": true
   },
   "outputs": [],
   "source": []
  }
 ],
 "metadata": {
  "kernelspec": {
   "display_name": "R",
   "language": "R",
   "name": "ir"
  },
  "language_info": {
   "codemirror_mode": "r",
   "file_extension": ".r",
   "mimetype": "text/x-r-source",
   "name": "R",
   "pygments_lexer": "r",
   "version": "3.4.1"
  }
 },
 "nbformat": 4,
 "nbformat_minor": 2
}
