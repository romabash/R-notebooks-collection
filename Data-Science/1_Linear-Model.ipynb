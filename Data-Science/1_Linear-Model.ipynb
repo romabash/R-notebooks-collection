{
 "cells": [
  {
   "cell_type": "markdown",
   "metadata": {},
   "source": [
    "# Data Modeling in R:\n",
    "- Functions: \n",
    "  - lm: simple linear model\n",
    "  - glm: generalized linear model\n",
    "  - aov: anova\n",
    "- Helper functions:\n",
    "  - coef: extract model coefficients\n",
    "  - residuals: extract model residuals\n",
    "  - fitted: returns fitted values\n",
    "  - confint: confidence interval\n",
    "- Test functions:\n",
    "  - t.test: one ot two sample t test (operates on a vector)\n",
    "  - TukeyHSD: post stock analysis (creates sets of confidence intervals between groups after anova)\n",
    "  - predict: produces predicted values based on linear model objects"
   ]
  },
  {
   "cell_type": "code",
   "execution_count": 1,
   "metadata": {},
   "outputs": [
    {
     "name": "stderr",
     "output_type": "stream",
     "text": [
      "\n",
      "Attaching package: ‘dplyr’\n",
      "\n",
      "The following objects are masked from ‘package:stats’:\n",
      "\n",
      "    filter, lag\n",
      "\n",
      "The following objects are masked from ‘package:base’:\n",
      "\n",
      "    intersect, setdiff, setequal, union\n",
      "\n"
     ]
    }
   ],
   "source": [
    "library(dplyr)\n",
    "library(tibble)\n",
    "library(ggplot2)"
   ]
  },
  {
   "cell_type": "markdown",
   "metadata": {},
   "source": [
    "## Using the Linear Model with lm() function\n",
    "- Using built-in dataset trees\n",
    "- 31 observations on 3 Variables (Girth, Height, Volume)\n",
    "- Relate the Volume with the Height and the Girth"
   ]
  },
  {
   "cell_type": "code",
   "execution_count": 2,
   "metadata": {},
   "outputs": [
    {
     "data": {
      "text/html": [
       "<table>\n",
       "<thead><tr><th scope=col>Girth</th><th scope=col>Height</th><th scope=col>Volume</th></tr></thead>\n",
       "<tbody>\n",
       "\t<tr><td> 8.3</td><td>70  </td><td>10.3</td></tr>\n",
       "\t<tr><td> 8.6</td><td>65  </td><td>10.3</td></tr>\n",
       "\t<tr><td> 8.8</td><td>63  </td><td>10.2</td></tr>\n",
       "\t<tr><td>10.5</td><td>72  </td><td>16.4</td></tr>\n",
       "\t<tr><td>10.7</td><td>81  </td><td>18.8</td></tr>\n",
       "\t<tr><td>10.8</td><td>83  </td><td>19.7</td></tr>\n",
       "</tbody>\n",
       "</table>\n"
      ],
      "text/latex": [
       "\\begin{tabular}{r|lll}\n",
       " Girth & Height & Volume\\\\\n",
       "\\hline\n",
       "\t  8.3 & 70   & 10.3\\\\\n",
       "\t  8.6 & 65   & 10.3\\\\\n",
       "\t  8.8 & 63   & 10.2\\\\\n",
       "\t 10.5 & 72   & 16.4\\\\\n",
       "\t 10.7 & 81   & 18.8\\\\\n",
       "\t 10.8 & 83   & 19.7\\\\\n",
       "\\end{tabular}\n"
      ],
      "text/markdown": [
       "\n",
       "Girth | Height | Volume | \n",
       "|---|---|---|---|---|---|\n",
       "|  8.3 | 70   | 10.3 | \n",
       "|  8.6 | 65   | 10.3 | \n",
       "|  8.8 | 63   | 10.2 | \n",
       "| 10.5 | 72   | 16.4 | \n",
       "| 10.7 | 81   | 18.8 | \n",
       "| 10.8 | 83   | 19.7 | \n",
       "\n",
       "\n"
      ],
      "text/plain": [
       "  Girth Height Volume\n",
       "1  8.3  70     10.3  \n",
       "2  8.6  65     10.3  \n",
       "3  8.8  63     10.2  \n",
       "4 10.5  72     16.4  \n",
       "5 10.7  81     18.8  \n",
       "6 10.8  83     19.7  "
      ]
     },
     "metadata": {},
     "output_type": "display_data"
    }
   ],
   "source": [
    "trees_data <- as.tibble(trees)\n",
    "head(trees_data)"
   ]
  },
  {
   "cell_type": "code",
   "execution_count": 3,
   "metadata": {},
   "outputs": [
    {
     "data": {
      "text/plain": [
       "\n",
       "Call:\n",
       "lm(formula = Volume ~ Height + Girth, data = trees_data)\n",
       "\n",
       "Coefficients:\n",
       "(Intercept)       Height        Girth  \n",
       "   -57.9877       0.3393       4.7082  \n"
      ]
     },
     "metadata": {},
     "output_type": "display_data"
    }
   ],
   "source": [
    "lm1 <- lm(Volume ~ Height + Girth, data = trees_data)\n",
    "lm1"
   ]
  },
  {
   "cell_type": "code",
   "execution_count": 4,
   "metadata": {},
   "outputs": [
    {
     "data": {
      "text/html": [
       "<dl class=dl-horizontal>\n",
       "\t<dt>(Intercept)</dt>\n",
       "\t\t<dd>-57.9876589183809</dd>\n",
       "\t<dt>Height</dt>\n",
       "\t\t<dd>0.339251234244701</dd>\n",
       "\t<dt>Girth</dt>\n",
       "\t\t<dd>4.70816050301751</dd>\n",
       "</dl>\n"
      ],
      "text/latex": [
       "\\begin{description*}\n",
       "\\item[(Intercept)] -57.9876589183809\n",
       "\\item[Height] 0.339251234244701\n",
       "\\item[Girth] 4.70816050301751\n",
       "\\end{description*}\n"
      ],
      "text/markdown": [
       "(Intercept)\n",
       ":   -57.9876589183809Height\n",
       ":   0.339251234244701Girth\n",
       ":   4.70816050301751\n",
       "\n"
      ],
      "text/plain": [
       "(Intercept)      Height       Girth \n",
       "-57.9876589   0.3392512   4.7081605 "
      ]
     },
     "metadata": {},
     "output_type": "display_data"
    }
   ],
   "source": [
    "# Extract coefficients\n",
    "coeffs <- coef(lm1)\n",
    "coeffs"
   ]
  },
  {
   "cell_type": "code",
   "execution_count": 5,
   "metadata": {},
   "outputs": [
    {
     "data": {
      "text/plain": [
       "\n",
       "Call:\n",
       "lm(formula = Volume ~ Height + Girth, data = trees_data)\n",
       "\n",
       "Residuals:\n",
       "    Min      1Q  Median      3Q     Max \n",
       "-6.4065 -2.6493 -0.2876  2.2003  8.4847 \n",
       "\n",
       "Coefficients:\n",
       "            Estimate Std. Error t value Pr(>|t|)    \n",
       "(Intercept) -57.9877     8.6382  -6.713 2.75e-07 ***\n",
       "Height        0.3393     0.1302   2.607   0.0145 *  \n",
       "Girth         4.7082     0.2643  17.816  < 2e-16 ***\n",
       "---\n",
       "Signif. codes:  0 ‘***’ 0.001 ‘**’ 0.01 ‘*’ 0.05 ‘.’ 0.1 ‘ ’ 1\n",
       "\n",
       "Residual standard error: 3.882 on 28 degrees of freedom\n",
       "Multiple R-squared:  0.948,\tAdjusted R-squared:  0.9442 \n",
       "F-statistic:   255 on 2 and 28 DF,  p-value: < 2.2e-16\n"
      ]
     },
     "metadata": {},
     "output_type": "display_data"
    }
   ],
   "source": [
    "# Do a summary to get Residuals, Coefficients, Standard Error, R-squared, Adjusted R-squared, F-statistics and p-value\n",
    "summary(lm1)"
   ]
  },
  {
   "cell_type": "markdown",
   "metadata": {},
   "source": [
    "### Predict Volume using the Linear Model\n",
    "- Create new Dataframe with Height and Girth"
   ]
  },
  {
   "cell_type": "code",
   "execution_count": 7,
   "metadata": {},
   "outputs": [
    {
     "data": {
      "text/html": [
       "<table>\n",
       "<thead><tr><th scope=col>Girth</th><th scope=col>Height</th></tr></thead>\n",
       "<tbody>\n",
       "\t<tr><td> 8.3</td><td>70  </td></tr>\n",
       "\t<tr><td> 8.6</td><td>65  </td></tr>\n",
       "\t<tr><td> 8.8</td><td>63  </td></tr>\n",
       "\t<tr><td>10.5</td><td>72  </td></tr>\n",
       "\t<tr><td>10.7</td><td>81  </td></tr>\n",
       "\t<tr><td>10.8</td><td>83  </td></tr>\n",
       "</tbody>\n",
       "</table>\n"
      ],
      "text/latex": [
       "\\begin{tabular}{r|ll}\n",
       " Girth & Height\\\\\n",
       "\\hline\n",
       "\t  8.3 & 70  \\\\\n",
       "\t  8.6 & 65  \\\\\n",
       "\t  8.8 & 63  \\\\\n",
       "\t 10.5 & 72  \\\\\n",
       "\t 10.7 & 81  \\\\\n",
       "\t 10.8 & 83  \\\\\n",
       "\\end{tabular}\n"
      ],
      "text/markdown": [
       "\n",
       "Girth | Height | \n",
       "|---|---|---|---|---|---|\n",
       "|  8.3 | 70   | \n",
       "|  8.6 | 65   | \n",
       "|  8.8 | 63   | \n",
       "| 10.5 | 72   | \n",
       "| 10.7 | 81   | \n",
       "| 10.8 | 83   | \n",
       "\n",
       "\n"
      ],
      "text/plain": [
       "  Girth Height\n",
       "1  8.3  70    \n",
       "2  8.6  65    \n",
       "3  8.8  63    \n",
       "4 10.5  72    \n",
       "5 10.7  81    \n",
       "6 10.8  83    "
      ]
     },
     "metadata": {},
     "output_type": "display_data"
    }
   ],
   "source": [
    "df <- trees_data %>%\n",
    "  select(Girth, Height)\n",
    "head(df) "
   ]
  },
  {
   "cell_type": "code",
   "execution_count": 9,
   "metadata": {},
   "outputs": [
    {
     "data": {
      "text/html": [
       "<dl class=dl-horizontal>\n",
       "\t<dt>1</dt>\n",
       "\t\t<dd>4.8376596537935</dd>\n",
       "\t<dt>2</dt>\n",
       "\t\t<dd>4.55385163347525</dd>\n",
       "\t<dt>3</dt>\n",
       "\t\t<dd>4.81698126558936</dd>\n",
       "\t<dt>4</dt>\n",
       "\t\t<dd>15.8741152289214</dd>\n",
       "\t<dt>5</dt>\n",
       "\t\t<dd>19.8690084377272</dd>\n",
       "\t<dt>6</dt>\n",
       "\t\t<dd>21.0183269565184</dd>\n",
       "</dl>\n"
      ],
      "text/latex": [
       "\\begin{description*}\n",
       "\\item[1] 4.8376596537935\n",
       "\\item[2] 4.55385163347525\n",
       "\\item[3] 4.81698126558936\n",
       "\\item[4] 15.8741152289214\n",
       "\\item[5] 19.8690084377272\n",
       "\\item[6] 21.0183269565184\n",
       "\\end{description*}\n"
      ],
      "text/markdown": [
       "1\n",
       ":   4.83765965379352\n",
       ":   4.553851633475253\n",
       ":   4.816981265589364\n",
       ":   15.87411522892145\n",
       ":   19.86900843772726\n",
       ":   21.0183269565184\n",
       "\n"
      ],
      "text/plain": [
       "        1         2         3         4         5         6 \n",
       " 4.837660  4.553852  4.816981 15.874115 19.869008 21.018327 "
      ]
     },
     "metadata": {},
     "output_type": "display_data"
    }
   ],
   "source": [
    "pred <- predict(lm1, df)\n",
    "head(pred)"
   ]
  },
  {
   "cell_type": "code",
   "execution_count": 10,
   "metadata": {},
   "outputs": [
    {
     "data": {
      "text/html": [
       "<table>\n",
       "<thead><tr><th scope=col>Girth</th><th scope=col>Height</th><th scope=col>Volume</th><th scope=col>Predicted_Volume</th></tr></thead>\n",
       "<tbody>\n",
       "\t<tr><td> 8.3     </td><td>70       </td><td>10.3     </td><td> 4.837660</td></tr>\n",
       "\t<tr><td> 8.6     </td><td>65       </td><td>10.3     </td><td> 4.553852</td></tr>\n",
       "\t<tr><td> 8.8     </td><td>63       </td><td>10.2     </td><td> 4.816981</td></tr>\n",
       "\t<tr><td>10.5     </td><td>72       </td><td>16.4     </td><td>15.874115</td></tr>\n",
       "\t<tr><td>10.7     </td><td>81       </td><td>18.8     </td><td>19.869008</td></tr>\n",
       "\t<tr><td>10.8     </td><td>83       </td><td>19.7     </td><td>21.018327</td></tr>\n",
       "</tbody>\n",
       "</table>\n"
      ],
      "text/latex": [
       "\\begin{tabular}{r|llll}\n",
       " Girth & Height & Volume & Predicted\\_Volume\\\\\n",
       "\\hline\n",
       "\t  8.3      & 70        & 10.3      &  4.837660\\\\\n",
       "\t  8.6      & 65        & 10.3      &  4.553852\\\\\n",
       "\t  8.8      & 63        & 10.2      &  4.816981\\\\\n",
       "\t 10.5      & 72        & 16.4      & 15.874115\\\\\n",
       "\t 10.7      & 81        & 18.8      & 19.869008\\\\\n",
       "\t 10.8      & 83        & 19.7      & 21.018327\\\\\n",
       "\\end{tabular}\n"
      ],
      "text/markdown": [
       "\n",
       "Girth | Height | Volume | Predicted_Volume | \n",
       "|---|---|---|---|---|---|\n",
       "|  8.3      | 70        | 10.3      |  4.837660 | \n",
       "|  8.6      | 65        | 10.3      |  4.553852 | \n",
       "|  8.8      | 63        | 10.2      |  4.816981 | \n",
       "| 10.5      | 72        | 16.4      | 15.874115 | \n",
       "| 10.7      | 81        | 18.8      | 19.869008 | \n",
       "| 10.8      | 83        | 19.7      | 21.018327 | \n",
       "\n",
       "\n"
      ],
      "text/plain": [
       "  Girth Height Volume Predicted_Volume\n",
       "1  8.3  70     10.3    4.837660       \n",
       "2  8.6  65     10.3    4.553852       \n",
       "3  8.8  63     10.2    4.816981       \n",
       "4 10.5  72     16.4   15.874115       \n",
       "5 10.7  81     18.8   19.869008       \n",
       "6 10.8  83     19.7   21.018327       "
      ]
     },
     "metadata": {},
     "output_type": "display_data"
    }
   ],
   "source": [
    "trees_data <- trees_data %>%\n",
    "  mutate(Predicted_Volume = pred)\n",
    "\n",
    "head(trees_data)"
   ]
  },
  {
   "cell_type": "markdown",
   "metadata": {},
   "source": [
    "### Plot Predicted values vs Actual values"
   ]
  },
  {
   "cell_type": "code",
   "execution_count": 11,
   "metadata": {},
   "outputs": [
    {
     "data": {
      "text/html": [
       "0.973627258134074"
      ],
      "text/latex": [
       "0.973627258134074"
      ],
      "text/markdown": [
       "0.973627258134074"
      ],
      "text/plain": [
       "[1] 0.9736273"
      ]
     },
     "metadata": {},
     "output_type": "display_data"
    }
   ],
   "source": [
    "cor(trees_data$Volume, trees_data$Predicted_Volume, method=\"pearson\")"
   ]
  },
  {
   "cell_type": "code",
   "execution_count": 12,
   "metadata": {},
   "outputs": [
    {
     "data": {},
     "metadata": {},
     "output_type": "display_data"
    },
    {
     "data": {
      "image/png": "[encoded data removed]",
      "text/plain": [
       "plot without title"
      ]
     },
     "metadata": {},
     "output_type": "display_data"
    }
   ],
   "source": [
    "trees_data %>%\n",
    "  ggplot() +\n",
    "  geom_point(aes(x = Volume, y = Predicted_Volume), alpha = 0.7) +\n",
    "  theme_bw() +\n",
    "  ggtitle(\"Predicted vs Actual Volume\") +\n",
    "  scale_x_continuous(name= \"Actual Volume\", breaks = 5*c(0:18)) +\n",
    "  scale_y_continuous(name = \"Predicted Volume\") +\n",
    "  geom_smooth(aes(x = Volume, y = Predicted_Volume), method = 'lm', level = 0.90)"
   ]
  },
  {
   "cell_type": "markdown",
   "metadata": {},
   "source": [
    "<hr>"
   ]
  },
  {
   "cell_type": "markdown",
   "metadata": {},
   "source": []
  }
 ],
 "metadata": {
  "kernelspec": {
   "display_name": "R",
   "language": "R",
   "name": "ir"
  },
  "language_info": {
   "codemirror_mode": "r",
   "file_extension": ".r",
   "mimetype": "text/x-r-source",
   "name": "R",
   "pygments_lexer": "r",
   "version": "3.4.1"
  }
 },
 "nbformat": 4,
 "nbformat_minor": 2
}
