{
 "cells": [
  {
   "cell_type": "markdown",
   "metadata": {},
   "source": [
    "# t-test "
   ]
  },
  {
   "cell_type": "markdown",
   "metadata": {},
   "source": [
    "## General random noraml distribution\n",
    "- Mean = 1000, and SD = 100"
   ]
  },
  {
   "cell_type": "code",
   "execution_count": 1,
   "metadata": {
    "collapsed": true
   },
   "outputs": [],
   "source": [
    "set.seed(23232)\n",
    "r <- rnorm(100, 1000, 100)"
   ]
  },
  {
   "cell_type": "code",
   "execution_count": 2,
   "metadata": {},
   "outputs": [
    {
     "data": {
      "text/plain": [
       "   Min. 1st Qu.  Median    Mean 3rd Qu.    Max. \n",
       "  642.4   930.6  1006.1  1008.2  1089.4  1299.8 "
      ]
     },
     "metadata": {},
     "output_type": "display_data"
    }
   ],
   "source": [
    "# Look at summary: Mean is at 1006, a little above specified Mean\n",
    "summary(r)"
   ]
  },
  {
   "cell_type": "markdown",
   "metadata": {},
   "source": [
    "## Perform t-test based on Mean = 1000\n",
    "- statistic = t-statistic, \n",
    "- parameter = Degree of Freedom\n",
    "- estimate = estimated Mean\n",
    "- alternative = Defaults to two-sided test (Can specify greater than or less) )\n",
    "- method = One sample t-test"
   ]
  },
  {
   "cell_type": "code",
   "execution_count": 3,
   "metadata": {},
   "outputs": [
    {
     "name": "stdout",
     "output_type": "stream",
     "text": [
      "List of 9\n",
      " $ statistic  : Named num 0.754\n",
      "  ..- attr(*, \"names\")= chr \"t\"\n",
      " $ parameter  : Named num 99\n",
      "  ..- attr(*, \"names\")= chr \"df\"\n",
      " $ p.value    : num 0.453\n",
      " $ conf.int   : atomic [1:2] 987 1030\n",
      "  ..- attr(*, \"conf.level\")= num 0.95\n",
      " $ estimate   : Named num 1008\n",
      "  ..- attr(*, \"names\")= chr \"mean of x\"\n",
      " $ null.value : Named num 1000\n",
      "  ..- attr(*, \"names\")= chr \"mean\"\n",
      " $ alternative: chr \"two.sided\"\n",
      " $ method     : chr \"One Sample t-test\"\n",
      " $ data.name  : chr \"r\"\n",
      " - attr(*, \"class\")= chr \"htest\"\n"
     ]
    }
   ],
   "source": [
    "tt <- t.test(r, mu = 1000)\n",
    "str(tt)"
   ]
  },
  {
   "cell_type": "markdown",
   "metadata": {},
   "source": [
    "## Look at the returned Object\n",
    "- Actual Mean is 1008.231\n",
    "- 95% Confidence Interval at 986.5637 to 1029.8980\n",
    "- p-value is 0.4528"
   ]
  },
  {
   "cell_type": "code",
   "execution_count": 4,
   "metadata": {},
   "outputs": [
    {
     "data": {
      "text/plain": [
       "\n",
       "\tOne Sample t-test\n",
       "\n",
       "data:  r\n",
       "t = 0.75376, df = 99, p-value = 0.4528\n",
       "alternative hypothesis: true mean is not equal to 1000\n",
       "95 percent confidence interval:\n",
       "  986.5637 1029.8980\n",
       "sample estimates:\n",
       "mean of x \n",
       " 1008.231 \n"
      ]
     },
     "metadata": {},
     "output_type": "display_data"
    }
   ],
   "source": [
    "tt"
   ]
  }
 ],
 "metadata": {
  "kernelspec": {
   "display_name": "R",
   "language": "R",
   "name": "ir"
  },
  "language_info": {
   "codemirror_mode": "r",
   "file_extension": ".r",
   "mimetype": "text/x-r-source",
   "name": "R",
   "pygments_lexer": "r",
   "version": "3.4.1"
  }
 },
 "nbformat": 4,
 "nbformat_minor": 2
}
