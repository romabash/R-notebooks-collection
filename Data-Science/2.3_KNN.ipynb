{
 "cells": [
  {
   "cell_type": "markdown",
   "metadata": {},
   "source": [
    "# K-Nearest Neighbor Classification"
   ]
  },
  {
   "cell_type": "markdown",
   "metadata": {},
   "source": [
    "## Using R builtin *KNN* function from the \"class\" package"
   ]
  },
  {
   "cell_type": "code",
   "execution_count": 1,
   "metadata": {
    "collapsed": true
   },
   "outputs": [],
   "source": [
    "library(class)"
   ]
  },
  {
   "cell_type": "markdown",
   "metadata": {},
   "source": [
    "## Using builtin dataset *iris3*\n",
    "- 50 observations for each type of iris (3 total, 150 total observations)\n",
    "- iris3 dataset gives the same data arranged as a 3-dimensional array of size 50 by 4 by 3"
   ]
  },
  {
   "cell_type": "code",
   "execution_count": 2,
   "metadata": {},
   "outputs": [
    {
     "data": {
      "text/html": [
       "'array'"
      ],
      "text/latex": [
       "'array'"
      ],
      "text/markdown": [
       "'array'"
      ],
      "text/plain": [
       "[1] \"array\""
      ]
     },
     "metadata": {},
     "output_type": "display_data"
    },
    {
     "data": {
      "text/html": [
       "<ol class=list-inline>\n",
       "\t<li>5.1</li>\n",
       "\t<li>4.9</li>\n",
       "\t<li>4.7</li>\n",
       "\t<li>4.6</li>\n",
       "\t<li>5</li>\n",
       "\t<li>5.4</li>\n",
       "</ol>\n"
      ],
      "text/latex": [
       "\\begin{enumerate*}\n",
       "\\item 5.1\n",
       "\\item 4.9\n",
       "\\item 4.7\n",
       "\\item 4.6\n",
       "\\item 5\n",
       "\\item 5.4\n",
       "\\end{enumerate*}\n"
      ],
      "text/markdown": [
       "1. 5.1\n",
       "2. 4.9\n",
       "3. 4.7\n",
       "4. 4.6\n",
       "5. 5\n",
       "6. 5.4\n",
       "\n",
       "\n"
      ],
      "text/plain": [
       "[1] 5.1 4.9 4.7 4.6 5.0 5.4"
      ]
     },
     "metadata": {},
     "output_type": "display_data"
    }
   ],
   "source": [
    "class(iris3)\n",
    "head(iris3)"
   ]
  },
  {
   "cell_type": "markdown",
   "metadata": {},
   "source": [
    "## To train the KNN model, will use the first 25 observations of each species\n",
    "- Predict on the other 25 observations"
   ]
  },
  {
   "cell_type": "code",
   "execution_count": 3,
   "metadata": {},
   "outputs": [
    {
     "data": {
      "text/html": [
       "<table>\n",
       "<thead><tr><th scope=col>Sepal L.</th><th scope=col>Sepal W.</th><th scope=col>Petal L.</th><th scope=col>Petal W.</th></tr></thead>\n",
       "<tbody>\n",
       "\t<tr><td>5.1</td><td>3.5</td><td>1.4</td><td>0.2</td></tr>\n",
       "\t<tr><td>4.9</td><td>3.0</td><td>1.4</td><td>0.2</td></tr>\n",
       "\t<tr><td>4.7</td><td>3.2</td><td>1.3</td><td>0.2</td></tr>\n",
       "\t<tr><td>4.6</td><td>3.1</td><td>1.5</td><td>0.2</td></tr>\n",
       "\t<tr><td>5.0</td><td>3.6</td><td>1.4</td><td>0.2</td></tr>\n",
       "\t<tr><td>5.4</td><td>3.9</td><td>1.7</td><td>0.4</td></tr>\n",
       "</tbody>\n",
       "</table>\n"
      ],
      "text/latex": [
       "\\begin{tabular}{llll}\n",
       " Sepal L. & Sepal W. & Petal L. & Petal W.\\\\\n",
       "\\hline\n",
       "\t 5.1 & 3.5 & 1.4 & 0.2\\\\\n",
       "\t 4.9 & 3.0 & 1.4 & 0.2\\\\\n",
       "\t 4.7 & 3.2 & 1.3 & 0.2\\\\\n",
       "\t 4.6 & 3.1 & 1.5 & 0.2\\\\\n",
       "\t 5.0 & 3.6 & 1.4 & 0.2\\\\\n",
       "\t 5.4 & 3.9 & 1.7 & 0.4\\\\\n",
       "\\end{tabular}\n"
      ],
      "text/markdown": [
       "\n",
       "Sepal L. | Sepal W. | Petal L. | Petal W. | \n",
       "|---|---|---|---|---|---|\n",
       "| 5.1 | 3.5 | 1.4 | 0.2 | \n",
       "| 4.9 | 3.0 | 1.4 | 0.2 | \n",
       "| 4.7 | 3.2 | 1.3 | 0.2 | \n",
       "| 4.6 | 3.1 | 1.5 | 0.2 | \n",
       "| 5.0 | 3.6 | 1.4 | 0.2 | \n",
       "| 5.4 | 3.9 | 1.7 | 0.4 | \n",
       "\n",
       "\n"
      ],
      "text/plain": [
       "     Sepal L. Sepal W. Petal L. Petal W.\n",
       "[1,] 5.1      3.5      1.4      0.2     \n",
       "[2,] 4.9      3.0      1.4      0.2     \n",
       "[3,] 4.7      3.2      1.3      0.2     \n",
       "[4,] 4.6      3.1      1.5      0.2     \n",
       "[5,] 5.0      3.6      1.4      0.2     \n",
       "[6,] 5.4      3.9      1.7      0.4     "
      ]
     },
     "metadata": {},
     "output_type": "display_data"
    }
   ],
   "source": [
    "training <- rbind(iris3[1:25, ,1], iris3[1:25, ,2], iris3[1:25, ,3])\n",
    "head(training)"
   ]
  },
  {
   "cell_type": "code",
   "execution_count": 4,
   "metadata": {},
   "outputs": [
    {
     "data": {
      "text/html": [
       "<table>\n",
       "<thead><tr><th scope=col>Sepal L.</th><th scope=col>Sepal W.</th><th scope=col>Petal L.</th><th scope=col>Petal W.</th></tr></thead>\n",
       "<tbody>\n",
       "\t<tr><td>5.0</td><td>3.0</td><td>1.6</td><td>0.2</td></tr>\n",
       "\t<tr><td>5.0</td><td>3.4</td><td>1.6</td><td>0.4</td></tr>\n",
       "\t<tr><td>5.2</td><td>3.5</td><td>1.5</td><td>0.2</td></tr>\n",
       "\t<tr><td>5.2</td><td>3.4</td><td>1.4</td><td>0.2</td></tr>\n",
       "\t<tr><td>4.7</td><td>3.2</td><td>1.6</td><td>0.2</td></tr>\n",
       "\t<tr><td>4.8</td><td>3.1</td><td>1.6</td><td>0.2</td></tr>\n",
       "</tbody>\n",
       "</table>\n"
      ],
      "text/latex": [
       "\\begin{tabular}{llll}\n",
       " Sepal L. & Sepal W. & Petal L. & Petal W.\\\\\n",
       "\\hline\n",
       "\t 5.0 & 3.0 & 1.6 & 0.2\\\\\n",
       "\t 5.0 & 3.4 & 1.6 & 0.4\\\\\n",
       "\t 5.2 & 3.5 & 1.5 & 0.2\\\\\n",
       "\t 5.2 & 3.4 & 1.4 & 0.2\\\\\n",
       "\t 4.7 & 3.2 & 1.6 & 0.2\\\\\n",
       "\t 4.8 & 3.1 & 1.6 & 0.2\\\\\n",
       "\\end{tabular}\n"
      ],
      "text/markdown": [
       "\n",
       "Sepal L. | Sepal W. | Petal L. | Petal W. | \n",
       "|---|---|---|---|---|---|\n",
       "| 5.0 | 3.0 | 1.6 | 0.2 | \n",
       "| 5.0 | 3.4 | 1.6 | 0.4 | \n",
       "| 5.2 | 3.5 | 1.5 | 0.2 | \n",
       "| 5.2 | 3.4 | 1.4 | 0.2 | \n",
       "| 4.7 | 3.2 | 1.6 | 0.2 | \n",
       "| 4.8 | 3.1 | 1.6 | 0.2 | \n",
       "\n",
       "\n"
      ],
      "text/plain": [
       "     Sepal L. Sepal W. Petal L. Petal W.\n",
       "[1,] 5.0      3.0      1.6      0.2     \n",
       "[2,] 5.0      3.4      1.6      0.4     \n",
       "[3,] 5.2      3.5      1.5      0.2     \n",
       "[4,] 5.2      3.4      1.4      0.2     \n",
       "[5,] 4.7      3.2      1.6      0.2     \n",
       "[6,] 4.8      3.1      1.6      0.2     "
      ]
     },
     "metadata": {},
     "output_type": "display_data"
    }
   ],
   "source": [
    "testing <- rbind(iris3[26:50, ,1], iris3[26:50, ,2], iris3[26:50, ,3])\n",
    "head(testing)"
   ]
  },
  {
   "cell_type": "markdown",
   "metadata": {},
   "source": [
    "## Add a column for species category\n",
    "- Label first 25 with \"s\", second 25 with \"c\", third 25 with \"v\""
   ]
  },
  {
   "cell_type": "code",
   "execution_count": 5,
   "metadata": {},
   "outputs": [
    {
     "data": {
      "text/html": [
       "<ol class=list-inline>\n",
       "\t<li>s</li>\n",
       "\t<li>s</li>\n",
       "\t<li>s</li>\n",
       "\t<li>s</li>\n",
       "\t<li>s</li>\n",
       "\t<li>s</li>\n",
       "\t<li>s</li>\n",
       "\t<li>s</li>\n",
       "\t<li>s</li>\n",
       "\t<li>s</li>\n",
       "\t<li>s</li>\n",
       "\t<li>s</li>\n",
       "\t<li>s</li>\n",
       "\t<li>s</li>\n",
       "\t<li>s</li>\n",
       "\t<li>s</li>\n",
       "\t<li>s</li>\n",
       "\t<li>s</li>\n",
       "\t<li>s</li>\n",
       "\t<li>s</li>\n",
       "\t<li>s</li>\n",
       "\t<li>s</li>\n",
       "\t<li>s</li>\n",
       "\t<li>s</li>\n",
       "\t<li>s</li>\n",
       "\t<li>c</li>\n",
       "\t<li>c</li>\n",
       "\t<li>c</li>\n",
       "\t<li>c</li>\n",
       "\t<li>c</li>\n",
       "\t<li>c</li>\n",
       "\t<li>c</li>\n",
       "\t<li>c</li>\n",
       "\t<li>c</li>\n",
       "\t<li>c</li>\n",
       "\t<li>c</li>\n",
       "\t<li>c</li>\n",
       "\t<li>c</li>\n",
       "\t<li>c</li>\n",
       "\t<li>c</li>\n",
       "\t<li>c</li>\n",
       "\t<li>c</li>\n",
       "\t<li>c</li>\n",
       "\t<li>c</li>\n",
       "\t<li>c</li>\n",
       "\t<li>c</li>\n",
       "\t<li>c</li>\n",
       "\t<li>c</li>\n",
       "\t<li>c</li>\n",
       "\t<li>c</li>\n",
       "\t<li>v</li>\n",
       "\t<li>v</li>\n",
       "\t<li>v</li>\n",
       "\t<li>v</li>\n",
       "\t<li>v</li>\n",
       "\t<li>v</li>\n",
       "\t<li>v</li>\n",
       "\t<li>v</li>\n",
       "\t<li>v</li>\n",
       "\t<li>v</li>\n",
       "\t<li>v</li>\n",
       "\t<li>v</li>\n",
       "\t<li>v</li>\n",
       "\t<li>v</li>\n",
       "\t<li>v</li>\n",
       "\t<li>v</li>\n",
       "\t<li>v</li>\n",
       "\t<li>v</li>\n",
       "\t<li>v</li>\n",
       "\t<li>v</li>\n",
       "\t<li>v</li>\n",
       "\t<li>v</li>\n",
       "\t<li>v</li>\n",
       "\t<li>v</li>\n",
       "\t<li>v</li>\n",
       "</ol>\n"
      ],
      "text/latex": [
       "\\begin{enumerate*}\n",
       "\\item s\n",
       "\\item s\n",
       "\\item s\n",
       "\\item s\n",
       "\\item s\n",
       "\\item s\n",
       "\\item s\n",
       "\\item s\n",
       "\\item s\n",
       "\\item s\n",
       "\\item s\n",
       "\\item s\n",
       "\\item s\n",
       "\\item s\n",
       "\\item s\n",
       "\\item s\n",
       "\\item s\n",
       "\\item s\n",
       "\\item s\n",
       "\\item s\n",
       "\\item s\n",
       "\\item s\n",
       "\\item s\n",
       "\\item s\n",
       "\\item s\n",
       "\\item c\n",
       "\\item c\n",
       "\\item c\n",
       "\\item c\n",
       "\\item c\n",
       "\\item c\n",
       "\\item c\n",
       "\\item c\n",
       "\\item c\n",
       "\\item c\n",
       "\\item c\n",
       "\\item c\n",
       "\\item c\n",
       "\\item c\n",
       "\\item c\n",
       "\\item c\n",
       "\\item c\n",
       "\\item c\n",
       "\\item c\n",
       "\\item c\n",
       "\\item c\n",
       "\\item c\n",
       "\\item c\n",
       "\\item c\n",
       "\\item c\n",
       "\\item v\n",
       "\\item v\n",
       "\\item v\n",
       "\\item v\n",
       "\\item v\n",
       "\\item v\n",
       "\\item v\n",
       "\\item v\n",
       "\\item v\n",
       "\\item v\n",
       "\\item v\n",
       "\\item v\n",
       "\\item v\n",
       "\\item v\n",
       "\\item v\n",
       "\\item v\n",
       "\\item v\n",
       "\\item v\n",
       "\\item v\n",
       "\\item v\n",
       "\\item v\n",
       "\\item v\n",
       "\\item v\n",
       "\\item v\n",
       "\\item v\n",
       "\\end{enumerate*}\n"
      ],
      "text/markdown": [
       "1. s\n",
       "2. s\n",
       "3. s\n",
       "4. s\n",
       "5. s\n",
       "6. s\n",
       "7. s\n",
       "8. s\n",
       "9. s\n",
       "10. s\n",
       "11. s\n",
       "12. s\n",
       "13. s\n",
       "14. s\n",
       "15. s\n",
       "16. s\n",
       "17. s\n",
       "18. s\n",
       "19. s\n",
       "20. s\n",
       "21. s\n",
       "22. s\n",
       "23. s\n",
       "24. s\n",
       "25. s\n",
       "26. c\n",
       "27. c\n",
       "28. c\n",
       "29. c\n",
       "30. c\n",
       "31. c\n",
       "32. c\n",
       "33. c\n",
       "34. c\n",
       "35. c\n",
       "36. c\n",
       "37. c\n",
       "38. c\n",
       "39. c\n",
       "40. c\n",
       "41. c\n",
       "42. c\n",
       "43. c\n",
       "44. c\n",
       "45. c\n",
       "46. c\n",
       "47. c\n",
       "48. c\n",
       "49. c\n",
       "50. c\n",
       "51. v\n",
       "52. v\n",
       "53. v\n",
       "54. v\n",
       "55. v\n",
       "56. v\n",
       "57. v\n",
       "58. v\n",
       "59. v\n",
       "60. v\n",
       "61. v\n",
       "62. v\n",
       "63. v\n",
       "64. v\n",
       "65. v\n",
       "66. v\n",
       "67. v\n",
       "68. v\n",
       "69. v\n",
       "70. v\n",
       "71. v\n",
       "72. v\n",
       "73. v\n",
       "74. v\n",
       "75. v\n",
       "\n",
       "\n"
      ],
      "text/plain": [
       " [1] s s s s s s s s s s s s s s s s s s s s s s s s s c c c c c c c c c c c c c\n",
       "[39] c c c c c c c c c c c c v v v v v v v v v v v v v v v v v v v v v v v v v\n",
       "Levels: c s v"
      ]
     },
     "metadata": {},
     "output_type": "display_data"
    }
   ],
   "source": [
    "cl <- factor(c(rep(\"s\", 25), rep(\"c\", 25), rep(\"v\", 25)))\n",
    "cl"
   ]
  },
  {
   "cell_type": "markdown",
   "metadata": {},
   "source": [
    "## Run knn function\n",
    "- Default parameters: \n",
    "    - knn(train, test, cl, k = 1, l = 0, prob = FALSE, use.all = TRUE)\n",
    "- **prob = TRUE** will return probability of each prediction"
   ]
  },
  {
   "cell_type": "code",
   "execution_count": 6,
   "metadata": {},
   "outputs": [
    {
     "data": {
      "text/html": [
       "<ol class=list-inline>\n",
       "\t<li>s</li>\n",
       "\t<li>s</li>\n",
       "\t<li>s</li>\n",
       "\t<li>s</li>\n",
       "\t<li>s</li>\n",
       "\t<li>s</li>\n",
       "\t<li>s</li>\n",
       "\t<li>s</li>\n",
       "\t<li>s</li>\n",
       "\t<li>s</li>\n",
       "\t<li>s</li>\n",
       "\t<li>s</li>\n",
       "\t<li>s</li>\n",
       "\t<li>s</li>\n",
       "\t<li>s</li>\n",
       "\t<li>s</li>\n",
       "\t<li>s</li>\n",
       "\t<li>s</li>\n",
       "\t<li>s</li>\n",
       "\t<li>s</li>\n",
       "\t<li>s</li>\n",
       "\t<li>s</li>\n",
       "\t<li>s</li>\n",
       "\t<li>s</li>\n",
       "\t<li>s</li>\n",
       "\t<li>c</li>\n",
       "\t<li>c</li>\n",
       "\t<li>v</li>\n",
       "\t<li>c</li>\n",
       "\t<li>c</li>\n",
       "\t<li>c</li>\n",
       "\t<li>c</li>\n",
       "\t<li>c</li>\n",
       "\t<li>v</li>\n",
       "\t<li>c</li>\n",
       "\t<li>c</li>\n",
       "\t<li>c</li>\n",
       "\t<li>c</li>\n",
       "\t<li>c</li>\n",
       "\t<li>c</li>\n",
       "\t<li>c</li>\n",
       "\t<li>c</li>\n",
       "\t<li>c</li>\n",
       "\t<li>c</li>\n",
       "\t<li>c</li>\n",
       "\t<li>c</li>\n",
       "\t<li>c</li>\n",
       "\t<li>c</li>\n",
       "\t<li>c</li>\n",
       "\t<li>c</li>\n",
       "\t<li>v</li>\n",
       "\t<li>c</li>\n",
       "\t<li>c</li>\n",
       "\t<li>v</li>\n",
       "\t<li>v</li>\n",
       "\t<li>v</li>\n",
       "\t<li>v</li>\n",
       "\t<li>v</li>\n",
       "\t<li>c</li>\n",
       "\t<li>v</li>\n",
       "\t<li>v</li>\n",
       "\t<li>v</li>\n",
       "\t<li>v</li>\n",
       "\t<li>c</li>\n",
       "\t<li>v</li>\n",
       "\t<li>v</li>\n",
       "\t<li>v</li>\n",
       "\t<li>v</li>\n",
       "\t<li>v</li>\n",
       "\t<li>v</li>\n",
       "\t<li>v</li>\n",
       "\t<li>v</li>\n",
       "\t<li>v</li>\n",
       "\t<li>v</li>\n",
       "\t<li>v</li>\n",
       "</ol>\n"
      ],
      "text/latex": [
       "\\begin{enumerate*}\n",
       "\\item s\n",
       "\\item s\n",
       "\\item s\n",
       "\\item s\n",
       "\\item s\n",
       "\\item s\n",
       "\\item s\n",
       "\\item s\n",
       "\\item s\n",
       "\\item s\n",
       "\\item s\n",
       "\\item s\n",
       "\\item s\n",
       "\\item s\n",
       "\\item s\n",
       "\\item s\n",
       "\\item s\n",
       "\\item s\n",
       "\\item s\n",
       "\\item s\n",
       "\\item s\n",
       "\\item s\n",
       "\\item s\n",
       "\\item s\n",
       "\\item s\n",
       "\\item c\n",
       "\\item c\n",
       "\\item v\n",
       "\\item c\n",
       "\\item c\n",
       "\\item c\n",
       "\\item c\n",
       "\\item c\n",
       "\\item v\n",
       "\\item c\n",
       "\\item c\n",
       "\\item c\n",
       "\\item c\n",
       "\\item c\n",
       "\\item c\n",
       "\\item c\n",
       "\\item c\n",
       "\\item c\n",
       "\\item c\n",
       "\\item c\n",
       "\\item c\n",
       "\\item c\n",
       "\\item c\n",
       "\\item c\n",
       "\\item c\n",
       "\\item v\n",
       "\\item c\n",
       "\\item c\n",
       "\\item v\n",
       "\\item v\n",
       "\\item v\n",
       "\\item v\n",
       "\\item v\n",
       "\\item c\n",
       "\\item v\n",
       "\\item v\n",
       "\\item v\n",
       "\\item v\n",
       "\\item c\n",
       "\\item v\n",
       "\\item v\n",
       "\\item v\n",
       "\\item v\n",
       "\\item v\n",
       "\\item v\n",
       "\\item v\n",
       "\\item v\n",
       "\\item v\n",
       "\\item v\n",
       "\\item v\n",
       "\\end{enumerate*}\n"
      ],
      "text/markdown": [
       "1. s\n",
       "2. s\n",
       "3. s\n",
       "4. s\n",
       "5. s\n",
       "6. s\n",
       "7. s\n",
       "8. s\n",
       "9. s\n",
       "10. s\n",
       "11. s\n",
       "12. s\n",
       "13. s\n",
       "14. s\n",
       "15. s\n",
       "16. s\n",
       "17. s\n",
       "18. s\n",
       "19. s\n",
       "20. s\n",
       "21. s\n",
       "22. s\n",
       "23. s\n",
       "24. s\n",
       "25. s\n",
       "26. c\n",
       "27. c\n",
       "28. v\n",
       "29. c\n",
       "30. c\n",
       "31. c\n",
       "32. c\n",
       "33. c\n",
       "34. v\n",
       "35. c\n",
       "36. c\n",
       "37. c\n",
       "38. c\n",
       "39. c\n",
       "40. c\n",
       "41. c\n",
       "42. c\n",
       "43. c\n",
       "44. c\n",
       "45. c\n",
       "46. c\n",
       "47. c\n",
       "48. c\n",
       "49. c\n",
       "50. c\n",
       "51. v\n",
       "52. c\n",
       "53. c\n",
       "54. v\n",
       "55. v\n",
       "56. v\n",
       "57. v\n",
       "58. v\n",
       "59. c\n",
       "60. v\n",
       "61. v\n",
       "62. v\n",
       "63. v\n",
       "64. c\n",
       "65. v\n",
       "66. v\n",
       "67. v\n",
       "68. v\n",
       "69. v\n",
       "70. v\n",
       "71. v\n",
       "72. v\n",
       "73. v\n",
       "74. v\n",
       "75. v\n",
       "\n",
       "\n"
      ],
      "text/plain": [
       " [1] s s s s s s s s s s s s s s s s s s s s s s s s s c c v c c c c c v c c c c\n",
       "[39] c c c c c c c c c c c c v c c v v v v v c v v v v c v v v v v v v v v v v\n",
       "attr(,\"prob\")\n",
       " [1] 1.0000000 1.0000000 1.0000000 1.0000000 1.0000000 1.0000000 1.0000000\n",
       " [8] 1.0000000 1.0000000 1.0000000 1.0000000 1.0000000 1.0000000 1.0000000\n",
       "[15] 1.0000000 1.0000000 1.0000000 1.0000000 1.0000000 1.0000000 1.0000000\n",
       "[22] 1.0000000 1.0000000 1.0000000 1.0000000 1.0000000 1.0000000 0.6666667\n",
       "[29] 1.0000000 1.0000000 1.0000000 1.0000000 1.0000000 0.6666667 1.0000000\n",
       "[36] 1.0000000 1.0000000 1.0000000 1.0000000 1.0000000 1.0000000 1.0000000\n",
       "[43] 1.0000000 1.0000000 1.0000000 1.0000000 1.0000000 1.0000000 1.0000000\n",
       "[50] 1.0000000 1.0000000 0.6666667 0.7500000 1.0000000 1.0000000 1.0000000\n",
       "[57] 1.0000000 1.0000000 0.5000000 1.0000000 1.0000000 1.0000000 1.0000000\n",
       "[64] 0.6666667 1.0000000 1.0000000 1.0000000 1.0000000 1.0000000 1.0000000\n",
       "[71] 1.0000000 0.6666667 1.0000000 1.0000000 0.6666667\n",
       "Levels: c s v"
      ]
     },
     "metadata": {},
     "output_type": "display_data"
    }
   ],
   "source": [
    "r <- knn(training, testing, cl, k = 3, prob = TRUE)\n",
    "r"
   ]
  },
  {
   "cell_type": "markdown",
   "metadata": {},
   "source": [
    "## Look at Accuracy\n",
    "- 92% Accuracy"
   ]
  },
  {
   "cell_type": "code",
   "execution_count": 7,
   "metadata": {},
   "outputs": [
    {
     "data": {
      "text/plain": [
       "   r\n",
       "cl   c  s  v\n",
       "  c 23  0  2\n",
       "  s  0 25  0\n",
       "  v  4  0 21"
      ]
     },
     "metadata": {},
     "output_type": "display_data"
    },
    {
     "data": {
      "text/html": [
       "0.92"
      ],
      "text/latex": [
       "0.92"
      ],
      "text/markdown": [
       "0.92"
      ],
      "text/plain": [
       "[1] 0.92"
      ]
     },
     "metadata": {},
     "output_type": "display_data"
    }
   ],
   "source": [
    "table(cl, r)      \n",
    "sum(cl == r) / length(cl)"
   ]
  },
  {
   "cell_type": "markdown",
   "metadata": {},
   "source": [
    "<hr>"
   ]
  },
  {
   "cell_type": "markdown",
   "metadata": {},
   "source": [
    "# Using *KNN* with the *caret* package\n",
    "- Using *iris* dataset"
   ]
  },
  {
   "cell_type": "code",
   "execution_count": 8,
   "metadata": {},
   "outputs": [
    {
     "name": "stderr",
     "output_type": "stream",
     "text": [
      "Loading required package: lattice\n",
      "Loading required package: ggplot2\n"
     ]
    }
   ],
   "source": [
    "library(caret)"
   ]
  },
  {
   "cell_type": "code",
   "execution_count": 9,
   "metadata": {},
   "outputs": [
    {
     "data": {
      "text/html": [
       "<table>\n",
       "<thead><tr><th scope=col>Sepal.Length</th><th scope=col>Sepal.Width</th><th scope=col>Petal.Length</th><th scope=col>Petal.Width</th><th scope=col>Species</th></tr></thead>\n",
       "<tbody>\n",
       "\t<tr><td>5.1   </td><td>3.5   </td><td>1.4   </td><td>0.2   </td><td>setosa</td></tr>\n",
       "\t<tr><td>4.9   </td><td>3.0   </td><td>1.4   </td><td>0.2   </td><td>setosa</td></tr>\n",
       "\t<tr><td>4.7   </td><td>3.2   </td><td>1.3   </td><td>0.2   </td><td>setosa</td></tr>\n",
       "\t<tr><td>4.6   </td><td>3.1   </td><td>1.5   </td><td>0.2   </td><td>setosa</td></tr>\n",
       "\t<tr><td>5.0   </td><td>3.6   </td><td>1.4   </td><td>0.2   </td><td>setosa</td></tr>\n",
       "\t<tr><td>5.4   </td><td>3.9   </td><td>1.7   </td><td>0.4   </td><td>setosa</td></tr>\n",
       "</tbody>\n",
       "</table>\n"
      ],
      "text/latex": [
       "\\begin{tabular}{r|lllll}\n",
       " Sepal.Length & Sepal.Width & Petal.Length & Petal.Width & Species\\\\\n",
       "\\hline\n",
       "\t 5.1    & 3.5    & 1.4    & 0.2    & setosa\\\\\n",
       "\t 4.9    & 3.0    & 1.4    & 0.2    & setosa\\\\\n",
       "\t 4.7    & 3.2    & 1.3    & 0.2    & setosa\\\\\n",
       "\t 4.6    & 3.1    & 1.5    & 0.2    & setosa\\\\\n",
       "\t 5.0    & 3.6    & 1.4    & 0.2    & setosa\\\\\n",
       "\t 5.4    & 3.9    & 1.7    & 0.4    & setosa\\\\\n",
       "\\end{tabular}\n"
      ],
      "text/markdown": [
       "\n",
       "Sepal.Length | Sepal.Width | Petal.Length | Petal.Width | Species | \n",
       "|---|---|---|---|---|---|\n",
       "| 5.1    | 3.5    | 1.4    | 0.2    | setosa | \n",
       "| 4.9    | 3.0    | 1.4    | 0.2    | setosa | \n",
       "| 4.7    | 3.2    | 1.3    | 0.2    | setosa | \n",
       "| 4.6    | 3.1    | 1.5    | 0.2    | setosa | \n",
       "| 5.0    | 3.6    | 1.4    | 0.2    | setosa | \n",
       "| 5.4    | 3.9    | 1.7    | 0.4    | setosa | \n",
       "\n",
       "\n"
      ],
      "text/plain": [
       "  Sepal.Length Sepal.Width Petal.Length Petal.Width Species\n",
       "1 5.1          3.5         1.4          0.2         setosa \n",
       "2 4.9          3.0         1.4          0.2         setosa \n",
       "3 4.7          3.2         1.3          0.2         setosa \n",
       "4 4.6          3.1         1.5          0.2         setosa \n",
       "5 5.0          3.6         1.4          0.2         setosa \n",
       "6 5.4          3.9         1.7          0.4         setosa "
      ]
     },
     "metadata": {},
     "output_type": "display_data"
    }
   ],
   "source": [
    "head(iris)"
   ]
  },
  {
   "cell_type": "markdown",
   "metadata": {},
   "source": [
    "### Data Partition"
   ]
  },
  {
   "cell_type": "code",
   "execution_count": 10,
   "metadata": {
    "collapsed": true
   },
   "outputs": [],
   "source": [
    "# Data Partition\n",
    "inTrain <- createDataPartition(y = iris$Species, p = 0.7, list = FALSE)\n",
    "\n",
    "# Sub-set titanic data to Train and to Test\n",
    "training <- iris[inTrain, ]\n",
    "testing <- iris[-inTrain, ]"
   ]
  },
  {
   "cell_type": "markdown",
   "metadata": {},
   "source": [
    "### Train and Predict"
   ]
  },
  {
   "cell_type": "code",
   "execution_count": 11,
   "metadata": {},
   "outputs": [
    {
     "data": {
      "text/plain": [
       "k-Nearest Neighbors \n",
       "\n",
       "105 samples\n",
       "  4 predictor\n",
       "  3 classes: 'setosa', 'versicolor', 'virginica' \n",
       "\n",
       "No pre-processing\n",
       "Resampling: Bootstrapped (25 reps) \n",
       "Summary of sample sizes: 105, 105, 105, 105, 105, 105, ... \n",
       "Resampling results:\n",
       "\n",
       "  Accuracy  Kappa    \n",
       "  0.941878  0.9117098\n",
       "\n",
       "Tuning parameter 'k' was held constant at a value of 3"
      ]
     },
     "metadata": {},
     "output_type": "display_data"
    }
   ],
   "source": [
    "# Using k = 3 \n",
    "knnFit <- train(Species ~ ., data = training, method = \"knn\", tuneGrid = data.frame(k = 3))\n",
    "knnFit"
   ]
  },
  {
   "cell_type": "code",
   "execution_count": 12,
   "metadata": {},
   "outputs": [
    {
     "data": {
      "text/html": [
       "<ol class=list-inline>\n",
       "\t<li>setosa</li>\n",
       "\t<li>setosa</li>\n",
       "\t<li>setosa</li>\n",
       "\t<li>setosa</li>\n",
       "\t<li>setosa</li>\n",
       "\t<li>setosa</li>\n",
       "\t<li>setosa</li>\n",
       "\t<li>setosa</li>\n",
       "\t<li>setosa</li>\n",
       "\t<li>setosa</li>\n",
       "\t<li>setosa</li>\n",
       "\t<li>setosa</li>\n",
       "\t<li>setosa</li>\n",
       "\t<li>setosa</li>\n",
       "\t<li>setosa</li>\n",
       "\t<li>versicolor</li>\n",
       "\t<li>versicolor</li>\n",
       "\t<li>versicolor</li>\n",
       "\t<li>versicolor</li>\n",
       "\t<li>versicolor</li>\n",
       "\t<li>versicolor</li>\n",
       "\t<li>versicolor</li>\n",
       "\t<li>virginica</li>\n",
       "\t<li>versicolor</li>\n",
       "\t<li>versicolor</li>\n",
       "\t<li>versicolor</li>\n",
       "\t<li>versicolor</li>\n",
       "\t<li>versicolor</li>\n",
       "\t<li>versicolor</li>\n",
       "\t<li>versicolor</li>\n",
       "\t<li>virginica</li>\n",
       "\t<li>virginica</li>\n",
       "\t<li>virginica</li>\n",
       "\t<li>virginica</li>\n",
       "\t<li>versicolor</li>\n",
       "\t<li>virginica</li>\n",
       "\t<li>virginica</li>\n",
       "\t<li>virginica</li>\n",
       "\t<li>virginica</li>\n",
       "\t<li>virginica</li>\n",
       "\t<li>virginica</li>\n",
       "\t<li>virginica</li>\n",
       "\t<li>virginica</li>\n",
       "\t<li>virginica</li>\n",
       "\t<li>virginica</li>\n",
       "</ol>\n"
      ],
      "text/latex": [
       "\\begin{enumerate*}\n",
       "\\item setosa\n",
       "\\item setosa\n",
       "\\item setosa\n",
       "\\item setosa\n",
       "\\item setosa\n",
       "\\item setosa\n",
       "\\item setosa\n",
       "\\item setosa\n",
       "\\item setosa\n",
       "\\item setosa\n",
       "\\item setosa\n",
       "\\item setosa\n",
       "\\item setosa\n",
       "\\item setosa\n",
       "\\item setosa\n",
       "\\item versicolor\n",
       "\\item versicolor\n",
       "\\item versicolor\n",
       "\\item versicolor\n",
       "\\item versicolor\n",
       "\\item versicolor\n",
       "\\item versicolor\n",
       "\\item virginica\n",
       "\\item versicolor\n",
       "\\item versicolor\n",
       "\\item versicolor\n",
       "\\item versicolor\n",
       "\\item versicolor\n",
       "\\item versicolor\n",
       "\\item versicolor\n",
       "\\item virginica\n",
       "\\item virginica\n",
       "\\item virginica\n",
       "\\item virginica\n",
       "\\item versicolor\n",
       "\\item virginica\n",
       "\\item virginica\n",
       "\\item virginica\n",
       "\\item virginica\n",
       "\\item virginica\n",
       "\\item virginica\n",
       "\\item virginica\n",
       "\\item virginica\n",
       "\\item virginica\n",
       "\\item virginica\n",
       "\\end{enumerate*}\n"
      ],
      "text/markdown": [
       "1. setosa\n",
       "2. setosa\n",
       "3. setosa\n",
       "4. setosa\n",
       "5. setosa\n",
       "6. setosa\n",
       "7. setosa\n",
       "8. setosa\n",
       "9. setosa\n",
       "10. setosa\n",
       "11. setosa\n",
       "12. setosa\n",
       "13. setosa\n",
       "14. setosa\n",
       "15. setosa\n",
       "16. versicolor\n",
       "17. versicolor\n",
       "18. versicolor\n",
       "19. versicolor\n",
       "20. versicolor\n",
       "21. versicolor\n",
       "22. versicolor\n",
       "23. virginica\n",
       "24. versicolor\n",
       "25. versicolor\n",
       "26. versicolor\n",
       "27. versicolor\n",
       "28. versicolor\n",
       "29. versicolor\n",
       "30. versicolor\n",
       "31. virginica\n",
       "32. virginica\n",
       "33. virginica\n",
       "34. virginica\n",
       "35. versicolor\n",
       "36. virginica\n",
       "37. virginica\n",
       "38. virginica\n",
       "39. virginica\n",
       "40. virginica\n",
       "41. virginica\n",
       "42. virginica\n",
       "43. virginica\n",
       "44. virginica\n",
       "45. virginica\n",
       "\n",
       "\n"
      ],
      "text/plain": [
       " [1] setosa     setosa     setosa     setosa     setosa     setosa    \n",
       " [7] setosa     setosa     setosa     setosa     setosa     setosa    \n",
       "[13] setosa     setosa     setosa     versicolor versicolor versicolor\n",
       "[19] versicolor versicolor versicolor versicolor virginica  versicolor\n",
       "[25] versicolor versicolor versicolor versicolor versicolor versicolor\n",
       "[31] virginica  virginica  virginica  virginica  versicolor virginica \n",
       "[37] virginica  virginica  virginica  virginica  virginica  virginica \n",
       "[43] virginica  virginica  virginica \n",
       "Levels: setosa versicolor virginica"
      ]
     },
     "metadata": {},
     "output_type": "display_data"
    }
   ],
   "source": [
    "# Predict on the Testing Set\n",
    "knnPredict <- predict(knnFit, newdata = testing)\n",
    "knnPredict"
   ]
  },
  {
   "cell_type": "markdown",
   "metadata": {},
   "source": [
    "### Look at Accuracy\n",
    "- 95% Accuracy"
   ]
  },
  {
   "cell_type": "code",
   "execution_count": 13,
   "metadata": {},
   "outputs": [
    {
     "data": {
      "text/plain": [
       "Confusion Matrix and Statistics\n",
       "\n",
       "            Reference\n",
       "Prediction   setosa versicolor virginica\n",
       "  setosa         15          0         0\n",
       "  versicolor      0         14         1\n",
       "  virginica       0          1        14\n",
       "\n",
       "Overall Statistics\n",
       "                                          \n",
       "               Accuracy : 0.9556          \n",
       "                 95% CI : (0.8485, 0.9946)\n",
       "    No Information Rate : 0.3333          \n",
       "    P-Value [Acc > NIR] : < 2.2e-16       \n",
       "                                          \n",
       "                  Kappa : 0.9333          \n",
       " Mcnemar's Test P-Value : NA              \n",
       "\n",
       "Statistics by Class:\n",
       "\n",
       "                     Class: setosa Class: versicolor Class: virginica\n",
       "Sensitivity                 1.0000            0.9333           0.9333\n",
       "Specificity                 1.0000            0.9667           0.9667\n",
       "Pos Pred Value              1.0000            0.9333           0.9333\n",
       "Neg Pred Value              1.0000            0.9667           0.9667\n",
       "Prevalence                  0.3333            0.3333           0.3333\n",
       "Detection Rate              0.3333            0.3111           0.3111\n",
       "Detection Prevalence        0.3333            0.3333           0.3333\n",
       "Balanced Accuracy           1.0000            0.9500           0.9500"
      ]
     },
     "metadata": {},
     "output_type": "display_data"
    }
   ],
   "source": [
    "confusionMatrix(testing$Species, knnPredict)"
   ]
  }
 ],
 "metadata": {
  "kernelspec": {
   "display_name": "R",
   "language": "R",
   "name": "ir"
  },
  "language_info": {
   "codemirror_mode": "r",
   "file_extension": ".r",
   "mimetype": "text/x-r-source",
   "name": "R",
   "pygments_lexer": "r",
   "version": "3.4.1"
  }
 },
 "nbformat": 4,
 "nbformat_minor": 2
}
